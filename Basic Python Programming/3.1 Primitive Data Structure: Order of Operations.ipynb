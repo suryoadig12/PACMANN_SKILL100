{
  "nbformat": 4,
  "nbformat_minor": 0,
  "metadata": {
    "colab": {
      "provenance": [],
      "authorship_tag": "ABX9TyNzYvikvGzvG/vzuWkkndUw",
      "include_colab_link": true
    },
    "kernelspec": {
      "name": "python3",
      "display_name": "Python 3"
    },
    "language_info": {
      "name": "python"
    }
  },
  "cells": [
    {
      "cell_type": "markdown",
      "metadata": {
        "id": "view-in-github",
        "colab_type": "text"
      },
      "source": [
        "<a href=\"https://colab.research.google.com/github/suryoadig12/PACMANN_SKILL100/blob/main/Basic%20Python%20Programming/3.1%20Primitive%20Data%20Structure%3A%20Order%20of%20Operations.ipynb\" target=\"_parent\"><img src=\"https://colab.research.google.com/assets/colab-badge.svg\" alt=\"Open In Colab\"/></a>"
      ]
    },
    {
      "cell_type": "markdown",
      "source": [
        "# **Pertemuan 2 - Order of Operations (PEMDAS)**"
      ],
      "metadata": {
        "id": "BoWUIKqJLgpN"
      }
    },
    {
      "cell_type": "markdown",
      "source": [
        "**2. Order of Operation (PEMDAS)**"
      ],
      "metadata": {
        "id": "zKuZhAmpLltA"
      }
    },
    {
      "cell_type": "markdown",
      "source": [
        "Setiap operasi matematika memiliki **urutan dalam penyelesaiannya**. Jika dalam satu ekspresi terdapat lebih dari satu operasi, maka harus di selesaikan berdasarkan operasi yang lebih tinggi prioritasnya. Untuk lebih mudah mengingat aturan ini bisa menggunakan akronim **PEMDAS**:"
      ],
      "metadata": {
        "id": "a36tYDejLoDN"
      }
    },
    {
      "cell_type": "markdown",
      "source": [
        "![ldsajlfds.JPG](data:image/jpeg;base64,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)"
      ],
      "metadata": {
        "id": "Ko5_U2jpLwqM"
      }
    },
    {
      "cell_type": "markdown",
      "source": [
        "Jika operasi memiliki tingkat prioritas yang sama maka dikerjakan mulai dari kiri."
      ],
      "metadata": {
        "id": "Aeb3x1X5Lyfp"
      }
    },
    {
      "cell_type": "markdown",
      "source": [
        "**Parentheses (Tanda Kurung)**"
      ],
      "metadata": {
        "id": "bIYpYn5LL1hh"
      }
    },
    {
      "cell_type": "markdown",
      "source": [
        "Tanda kurung memiliki prioritas tertinggi dan dapat digunakan untuk memaksa ekspresi dievaluasi dalam urutan yang dinginkan.\n",
        "\n",
        "Karena ekspresi dalam tanda kurung dievaluasi terlebih dahulu, maka `2 * (3-1)` adalah `4`, dan `(1+1)**(5-2)` adalah `8`."
      ],
      "metadata": {
        "id": "myshnyupL6LJ"
      }
    },
    {
      "cell_type": "code",
      "execution_count": 1,
      "metadata": {
        "colab": {
          "base_uri": "https://localhost:8080/"
        },
        "id": "KRQgQOblLbsX",
        "outputId": "6c52f00a-ec4c-4a06-9d6d-27991740ca20"
      },
      "outputs": [
        {
          "output_type": "stream",
          "name": "stdout",
          "text": [
            "4\n"
          ]
        }
      ],
      "source": [
        "# Coba jalankan code dibawah ini\n",
        "\n",
        "print(2*(3-1))"
      ]
    },
    {
      "cell_type": "code",
      "source": [
        "# Coba berikan tanda kurung buka dan kurung tutup diantara bilangan tiga dan satu\n",
        "\n",
        "print(6 *(3 - 1))"
      ],
      "metadata": {
        "colab": {
          "base_uri": "https://localhost:8080/"
        },
        "id": "ENKz953MMGFa",
        "outputId": "cc6ede48-9629-47b7-f4e7-31082fc864fd"
      },
      "execution_count": 2,
      "outputs": [
        {
          "output_type": "stream",
          "name": "stdout",
          "text": [
            "12\n"
          ]
        }
      ]
    },
    {
      "cell_type": "code",
      "source": [
        "# Coba berikan variabel pada bilangan 1, 5 dan 2\n",
        "# Kemudian lengkapi code dan masukkan variabel kedalam titik-titik dibawah sesuai dengan operasi (1+1)**(5-2)\n",
        "# Jangan lupa terapkan penggunaan \"good\" variables!\n",
        "\n",
        "var_1 = 1\n",
        "var_2 = 5\n",
        "var_3 = 2\n",
        "print((var_1+var_1)**(var_2-var_3))"
      ],
      "metadata": {
        "colab": {
          "base_uri": "https://localhost:8080/"
        },
        "id": "OZ4pgmv3MOHL",
        "outputId": "cd2ddf8c-d8c2-4a6a-efb7-22601413acf9"
      },
      "execution_count": 3,
      "outputs": [
        {
          "output_type": "stream",
          "name": "stdout",
          "text": [
            "8\n"
          ]
        }
      ]
    },
    {
      "cell_type": "markdown",
      "source": [
        "**Exponents (Pangkat)**"
      ],
      "metadata": {
        "id": "tYfNbDqAMi8Y"
      }
    },
    {
      "cell_type": "markdown",
      "source": [
        "Pangkat memiliki prioritas tertinggi berikutnya, jadi `2**1+1` adalah `3`, bukan `4`, dan `3*1**3` adalah `3`, bukan `27`."
      ],
      "metadata": {
        "id": "nKENh4GKMpC1"
      }
    },
    {
      "cell_type": "code",
      "source": [
        "# Coba jalankan code dibawah ini\n",
        "\n",
        "print(2**1+1)"
      ],
      "metadata": {
        "colab": {
          "base_uri": "https://localhost:8080/"
        },
        "id": "J52KLRFwMvjX",
        "outputId": "6b1be717-e469-4ac8-90fa-7e471f1aec60"
      },
      "execution_count": 4,
      "outputs": [
        {
          "output_type": "stream",
          "name": "stdout",
          "text": [
            "3\n"
          ]
        }
      ]
    },
    {
      "cell_type": "code",
      "source": [
        "# Coba isi titik-titik berikut dengan operasi pangkat di Python\n",
        "\n",
        "print(3**1 + 1)"
      ],
      "metadata": {
        "colab": {
          "base_uri": "https://localhost:8080/"
        },
        "id": "UT2Jw8lKMzAh",
        "outputId": "d1a9903c-c98d-42ed-d350-b060e6ef26d8"
      },
      "execution_count": 5,
      "outputs": [
        {
          "output_type": "stream",
          "name": "stdout",
          "text": [
            "4\n"
          ]
        }
      ]
    },
    {
      "cell_type": "code",
      "source": [
        "# Coba ketik kembali dengan ekspresi matematika pada titik-titik dibawah\n",
        "# Empat dikali dua pangkat tiga\n",
        "\n",
        "print(4*2**3)"
      ],
      "metadata": {
        "colab": {
          "base_uri": "https://localhost:8080/"
        },
        "id": "crmxVUZzM4YP",
        "outputId": "c9507a1b-e132-49b8-9558-665d0c8c3ce1"
      },
      "execution_count": 6,
      "outputs": [
        {
          "output_type": "stream",
          "name": "stdout",
          "text": [
            "32\n"
          ]
        }
      ]
    },
    {
      "cell_type": "code",
      "source": [
        "# Coba berikan variabel pada bilangan 4, 2 dan 3\n",
        "# Kemudian hitung variabel sesuai dengan operasi 4*2**3\n",
        "\n",
        "var_1 = 4\n",
        "var_2 = 2\n",
        "var_3 = 3\n",
        "print(var_1*var_2**var_3)"
      ],
      "metadata": {
        "colab": {
          "base_uri": "https://localhost:8080/"
        },
        "id": "qegBE26xM_e5",
        "outputId": "6dc3a200-3437-44dc-8085-781d913d2d81"
      },
      "execution_count": 7,
      "outputs": [
        {
          "output_type": "stream",
          "name": "stdout",
          "text": [
            "32\n"
          ]
        }
      ]
    },
    {
      "cell_type": "markdown",
      "source": [
        "**Multiplication dan Division**"
      ],
      "metadata": {
        "id": "cPRzAKW5NLQ-"
      }
    },
    {
      "cell_type": "markdown",
      "source": [
        "Prioritas selanjutnya adalah perkalian dan pembagian.\n",
        "\n",
        "Perkalian dan pembagian memiliki prioritas yang sama, dan **lebih tinggi dari penjumlahan dan pengurangan**.\n",
        "\n",
        "Jadi `2*3-1` adalah `5`, bukan `4`,\n",
        "\n",
        "dan\n",
        "\n",
        "`6+4/2` adalah `8`, bukan `5`."
      ],
      "metadata": {
        "id": "RLwTSbqANO0d"
      }
    },
    {
      "cell_type": "code",
      "source": [
        "# Coba jalankan code dibawah ini\n",
        "\n",
        "print(2*3-1)"
      ],
      "metadata": {
        "colab": {
          "base_uri": "https://localhost:8080/"
        },
        "id": "wqbbNWPjNYSh",
        "outputId": "30a8d214-59f1-4394-ea10-a10deb8f4699"
      },
      "execution_count": 8,
      "outputs": [
        {
          "output_type": "stream",
          "name": "stdout",
          "text": [
            "5\n"
          ]
        }
      ]
    },
    {
      "cell_type": "code",
      "source": [
        "# Coba lengkapi titik-titik dibawah dengan tanda perkalian\n",
        "\n",
        "print(6*3-1)"
      ],
      "metadata": {
        "colab": {
          "base_uri": "https://localhost:8080/"
        },
        "id": "ECNTPUc4Na69",
        "outputId": "bc357e89-f510-473f-a00e-5c47085d2d30"
      },
      "execution_count": 9,
      "outputs": [
        {
          "output_type": "stream",
          "name": "stdout",
          "text": [
            "17\n"
          ]
        }
      ]
    },
    {
      "cell_type": "code",
      "source": [
        "# Coba lengkapi titik-titik dibawah dengan tanda pembagian\n",
        "\n",
        "print(10+4/2)"
      ],
      "metadata": {
        "colab": {
          "base_uri": "https://localhost:8080/"
        },
        "id": "EF6O-aGbNf3W",
        "outputId": "b8cfa388-1215-4a1d-b69b-35e73c184706"
      },
      "execution_count": 10,
      "outputs": [
        {
          "output_type": "stream",
          "name": "stdout",
          "text": [
            "12.0\n"
          ]
        }
      ]
    },
    {
      "cell_type": "code",
      "source": [
        "# Coba berikan variabel pada masing-masing bilangan 10, 4 dan 2\n",
        "# Kemudian hitung dengan variabel dengan operasi 10 + 4 / 2\n",
        "\n",
        "var_1 = 10\n",
        "var_2 = 4\n",
        "var_3 = 2\n",
        "print(var_1+var_2/var_3)"
      ],
      "metadata": {
        "colab": {
          "base_uri": "https://localhost:8080/"
        },
        "id": "CRwoqqR6NlGO",
        "outputId": "57251b64-154c-4dbf-ad7c-eeeb353f5b7a"
      },
      "execution_count": 11,
      "outputs": [
        {
          "output_type": "stream",
          "name": "stdout",
          "text": [
            "12.0\n"
          ]
        }
      ]
    },
    {
      "cell_type": "markdown",
      "source": [
        "**Addition dan Subtraction**"
      ],
      "metadata": {
        "id": "QZKeVCNmNu58"
      }
    },
    {
      "cell_type": "markdown",
      "source": [
        "Penambahan dan Pengurangan **memiliki prioritas paling rendah** dibandingkan dengan operator yang lain."
      ],
      "metadata": {
        "id": "mTvM8jiRNxOd"
      }
    },
    {
      "cell_type": "code",
      "source": [
        "# Lengkapi titik-titik dibawah dengan tanda penambahan\n",
        "\n",
        "print(4+5+6)"
      ],
      "metadata": {
        "colab": {
          "base_uri": "https://localhost:8080/"
        },
        "id": "eBIVjSnGNw92",
        "outputId": "3d82f358-bce5-4738-d42b-e1534d8fb3d9"
      },
      "execution_count": 12,
      "outputs": [
        {
          "output_type": "stream",
          "name": "stdout",
          "text": [
            "15\n"
          ]
        }
      ]
    },
    {
      "cell_type": "code",
      "source": [
        "# Buatlah variabel untuk menampung setiap angka 4, 5 dan 6\n",
        "# Kemudian lengkapi code dan hitung dengan variabel yang sudah dibuat\n",
        "\n",
        "var_1 = 4\n",
        "var_2 = 5\n",
        "var_3 = 6\n",
        "print(var_1+var_2+var_3)"
      ],
      "metadata": {
        "colab": {
          "base_uri": "https://localhost:8080/"
        },
        "id": "ZRXn0OV5N7z2",
        "outputId": "48bc9f2d-26c4-4a94-e645-383a108b4e97"
      },
      "execution_count": 13,
      "outputs": [
        {
          "output_type": "stream",
          "name": "stdout",
          "text": [
            "15\n"
          ]
        }
      ]
    },
    {
      "cell_type": "code",
      "source": [
        "# Lengkapi titik titik dibawah dengan tanda pengurangan\n",
        "\n",
        "print(10-5-1)"
      ],
      "metadata": {
        "colab": {
          "base_uri": "https://localhost:8080/"
        },
        "id": "MJra_EWPOJRF",
        "outputId": "49584b44-d2a4-4663-dd61-9b38d416ecbf"
      },
      "execution_count": 14,
      "outputs": [
        {
          "output_type": "stream",
          "name": "stdout",
          "text": [
            "4\n"
          ]
        }
      ]
    },
    {
      "cell_type": "code",
      "source": [
        "# Buatlah variabel untuk menampung setiap angka yang ada pada soal diatas\n",
        "# Kemudian hitung dengan variabel yang sudah dibuat\n",
        "\n",
        "var_1 = 10\n",
        "var_2 = 5\n",
        "var_3 = 1\n",
        "print(var_1-var_2-var_3)"
      ],
      "metadata": {
        "colab": {
          "base_uri": "https://localhost:8080/"
        },
        "id": "Lb0r5GnkONlJ",
        "outputId": "369ca577-75eb-41ee-deb8-555ba3660f15"
      },
      "execution_count": 15,
      "outputs": [
        {
          "output_type": "stream",
          "name": "stdout",
          "text": [
            "4\n"
          ]
        }
      ]
    },
    {
      "cell_type": "markdown",
      "source": [
        "Jika ada operasi yang memiliki **prioritas yang sama** maka evaluasi dilakukan dari kiri ke kanan."
      ],
      "metadata": {
        "id": "_EnDAWZ8OcJX"
      }
    },
    {
      "cell_type": "code",
      "source": [
        "# Coba lengkapi titik-titik dibawah dengan tanda perkalian\n",
        "\n",
        "print(4*6/8*3)"
      ],
      "metadata": {
        "colab": {
          "base_uri": "https://localhost:8080/"
        },
        "id": "zPbwnQlCOe7o",
        "outputId": "9506fe08-4605-4215-b0c4-61c37d2ead45"
      },
      "execution_count": 16,
      "outputs": [
        {
          "output_type": "stream",
          "name": "stdout",
          "text": [
            "9.0\n"
          ]
        }
      ]
    },
    {
      "cell_type": "code",
      "source": [
        "# Coba hitung operasi 6*12/4  dengan variabel dibawah\n",
        "\n",
        "rank_1 = 6\n",
        "rank_2 = 4\n",
        "rank_3 = 12\n",
        "print(rank_1*rank_3/rank_2)"
      ],
      "metadata": {
        "colab": {
          "base_uri": "https://localhost:8080/"
        },
        "id": "GaBYOcU5OlL-",
        "outputId": "1de6eef3-5fb7-46ff-dfb0-897cdbcafa2c"
      },
      "execution_count": 17,
      "outputs": [
        {
          "output_type": "stream",
          "name": "stdout",
          "text": [
            "18.0\n"
          ]
        }
      ]
    },
    {
      "cell_type": "markdown",
      "source": [
        "**Exercise**"
      ],
      "metadata": {
        "id": "bp1N--ytOrc2"
      }
    },
    {
      "cell_type": "markdown",
      "source": [
        "Pak Bambang menabung dibank sebesar Rp 10.000.000. Jika persentase bunga per tahun sebesar 5%, berapa besar bunga yang diterima Pak Bambang setelah 5 tahun menabung?\n",
        "\n",
        "`hint: Besar_bunga = Lama_menabung x persentase_bunga x besar_tabungan`"
      ],
      "metadata": {
        "id": "q4uAILnnOtjq"
      }
    },
    {
      "cell_type": "code",
      "source": [
        "tabungan = 10_000_000\n",
        "bunga = 0.05 #5 Persen\n",
        "lama_menabung = 5 #Tahun\n",
        "besar_bunga = lama_menabung*bunga*tabungan\n",
        "print(besar_bunga)"
      ],
      "metadata": {
        "colab": {
          "base_uri": "https://localhost:8080/"
        },
        "id": "a-e6DCyQOxqO",
        "outputId": "17ad1aba-3f5e-4dea-9fdc-1f1eec2e6367"
      },
      "execution_count": 19,
      "outputs": [
        {
          "output_type": "stream",
          "name": "stdout",
          "text": [
            "2500000.0\n"
          ]
        }
      ]
    },
    {
      "cell_type": "markdown",
      "source": [
        "Ibu Mega sedang berbelanja ke toko buah untuk acara arisan. Beliau membeli buah Jeruk sebanyak 1 kg, buah Rambutan 2 kg, Semangka 2 buah yang beratnya masing-masing 4.2 kg dan 4.5 kg. Jika harga Jeruk Rp 22000 per kg, Rambutan Rp 20000 per kg, Semangka Rp 40000 per kg. Ternyata toko memberikan diskon sebesar 20% dari harga total pembelian. Berapakah total harga belanjaan Ibu Mega?"
      ],
      "metadata": {
        "id": "Dmi7zS8lPTuc"
      }
    },
    {
      "cell_type": "code",
      "source": [
        "# Diketahui Ibu Mega membeli 1 kg jeruk, 2kg rambutan dan semangka yang masing-masing beratnya 4.2kg dan 4.5kg\n",
        "# Hitung total harga pembelian buah\n",
        "harga_jeruk = 22000\n",
        "harga_rambutan = 20000\n",
        "harga_semangka = 40000\n",
        "total_harga = (1*harga_jeruk)+(2*harga_rambutan)+((4.2+4.5)*harga_semangka)\n",
        "print(total_harga)\n",
        "\n",
        "# Mencari harga diskon dari total harga\n",
        "diskon = 0.2\n",
        "harga_diskon = total_harga*diskon\n",
        "print(harga_diskon)\n",
        "\n",
        "# Menghitung total harga akhir sesudah diskon\n",
        "total_harga_akhir = total_harga-harga_diskon\n",
        "print(total_harga_akhir)"
      ],
      "metadata": {
        "colab": {
          "base_uri": "https://localhost:8080/"
        },
        "id": "S6NDui9jPTFG",
        "outputId": "67e72cfd-9521-4905-a23f-4f0272e68863"
      },
      "execution_count": 23,
      "outputs": [
        {
          "output_type": "stream",
          "name": "stdout",
          "text": [
            "410000.0\n",
            "82000.0\n",
            "328000.0\n"
          ]
        }
      ]
    }
  ]
}