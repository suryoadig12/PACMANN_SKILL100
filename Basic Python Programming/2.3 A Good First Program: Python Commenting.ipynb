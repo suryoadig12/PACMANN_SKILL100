{
  "nbformat": 4,
  "nbformat_minor": 0,
  "metadata": {
    "colab": {
      "provenance": [],
      "authorship_tag": "ABX9TyMr6H/kJMybWfAts4kZZNiy",
      "include_colab_link": true
    },
    "kernelspec": {
      "name": "python3",
      "display_name": "Python 3"
    },
    "language_info": {
      "name": "python"
    }
  },
  "cells": [
    {
      "cell_type": "markdown",
      "metadata": {
        "id": "view-in-github",
        "colab_type": "text"
      },
      "source": [
        "<a href=\"https://colab.research.google.com/github/suryoadig12/PACMANN_SKILL100/blob/main/Basic%20Python%20Programming/2.3%20A%20Good%20First%20Program%3A%20Python%20Commenting.ipynb\" target=\"_parent\"><img src=\"https://colab.research.google.com/assets/colab-badge.svg\" alt=\"Open In Colab\"/></a>"
      ]
    },
    {
      "cell_type": "markdown",
      "source": [
        "# **Pertemuan #1-4 - Commenting**"
      ],
      "metadata": {
        "id": "OGUyfC7TuoAp"
      }
    },
    {
      "cell_type": "markdown",
      "source": [
        "**Commenting**"
      ],
      "metadata": {
        "id": "qB0q1KcUutA0"
      }
    },
    {
      "cell_type": "markdown",
      "source": [
        "\n",
        "\n",
        "*   Commenting merupakan sebuah komentar yang digunakan untuk memperjelas maksud dari sebuah proses ataupun sebuah perintah.\n",
        "\n",
        "*   Apabila dijalankan commenting tidak akan melakukan eksekusi apapun.\n",
        "*   Commenting diperlukan untuk mempermudah kita mengerti suatu program.\n",
        "\n",
        "\n",
        "*   Commenting juga akan mempermudah orang lain yang hendak membaca program kita kelak.\n",
        "\n"
      ],
      "metadata": {
        "id": "NiT6RHWwuuRv"
      }
    },
    {
      "cell_type": "markdown",
      "source": [
        "Terdapat 3 macam bentuk komentar, yakni:\n",
        "\n",
        "\n",
        "\n",
        "*   Single Line\n",
        "\n",
        "*   Inline\n",
        "*   Multi Line\n",
        "\n",
        "\n"
      ],
      "metadata": {
        "id": "5tpABVAHu1ro"
      }
    },
    {
      "cell_type": "markdown",
      "source": [
        "![asldf.JPG](data:image/jpeg;base64,/9j/4AAQSkZJRgABAQEAkACQAAD/4QLgRXhpZgAATU0AKgAAAAgABAE7AAIAAAAHAAABSodpAAQAAAABAAABUpydAAEAAAAOAAACyuocAAcAAAEMAAAAPgAAAAAc6gAAAAEAAAAAAAAAAAAAAAAAAAAAAAAAAAAAAAAAAAAAAAAAAAAAAAAAAAAAAAAAAAAAAAAAAAAAAAAAAAAAAAAAAAAAAAAAAAAAAAAAAAAAAAAAAAAAAAAAAAAAAAAAAAAAAAAAAAAAAAAAAAAAAAAAAAAAAAAAAAAAAAAAAAAAAAAAAAAAAAAAAAAAAAAAAAAAAAAAAAAAAAAAAAAAAAAAAAAAAAAAAAAAAAAAAAAAAAAAAAAAAAAAAAAAAAAAAAAAAAAAAAAAAAAAAAAAAAAAAAAAAAAAAAAAAAAAAAAAAAAAAAAAAAAAAAAAAAAAAAAAAAAAAAAAAAAAAAAAAAAAAAAAAAAAAAAATEVOT1ZPAAAABZADAAIAAAAUAAACoJAEAAIAAAAUAAACtJKRAAIAAAADNDcAAJKSAAIAAAADNDcAAOocAAcAAAEMAAABlAAAAAAc6gAAAAEAAAAAAAAAAAAAAAAAAAAAAAAAAAAAAAAAAAAAAAAAAAAAAAAAAAAAAAAAAAAAAAAAAAAAAAAAAAAAAAAAAAAAAAAAAAAAAAAAAAAAAAAAAAAAAAAAAAAAAAAAAAAAAAAAAAAAAAAAAAAAAAAAAAAAAAAAAAAAAAAAAAAAAAAAAAAAAAAAAAAAAAAAAAAAAAAAAAAAAAAAAAAAAAAAAAAAAAAAAAAAAAAAAAAAAAAAAAAAAAAAAAAAAAAAAAAAAAAAAAAAAAAAAAAAAAAAAAAAAAAAAAAAAAAAAAAAAAAAAAAAAAAAAAAAAAAAAAAAAAAAAAAAAAAAAAAAAAAAAAAAAAAAAAAAMjAyNTowNDoxNyAxOTozMjowNwAyMDI1OjA0OjE3IDE5OjMyOjA3AAAATABFAE4ATwBWAE8AAAD/4QQZaHR0cDovL25zLmFkb2JlLmNvbS94YXAvMS4wLwA8P3hwYWNrZXQgYmVnaW49J++7vycgaWQ9J1c1TTBNcENlaGlIenJlU3pOVGN6a2M5ZCc/Pg0KPHg6eG1wbWV0YSB4bWxuczp4PSJhZG9iZTpuczptZXRhLyI+PHJkZjpSREYgeG1sbnM6cmRmPSJodHRwOi8vd3d3LnczLm9yZy8xOTk5LzAyLzIyLXJkZi1zeW50YXgtbnMjIj48cmRmOkRlc2NyaXB0aW9uIHJkZjphYm91dD0idXVpZDpmYWY1YmRkNS1iYTNkLTExZGEtYWQzMS1kMzNkNzUxODJmMWIiIHhtbG5zOmRjPSJodHRwOi8vcHVybC5vcmcvZGMvZWxlbWVudHMvMS4xLyIvPjxyZGY6RGVzY3JpcHRpb24gcmRmOmFib3V0PSJ1dWlkOmZhZjViZGQ1LWJhM2QtMTFkYS1hZDMxLWQzM2Q3NTE4MmYxYiIgeG1sbnM6eG1wPSJodHRwOi8vbnMuYWRvYmUuY29tL3hhcC8xLjAvIj48eG1wOkNyZWF0ZURhdGU+MjAyNS0wNC0xN1QxOTozMjowNy40NzI8L3htcDpDcmVhdGVEYXRlPjwvcmRmOkRlc2NyaXB0aW9uPjxyZGY6RGVzY3JpcHRpb24gcmRmOmFib3V0PSJ1dWlkOmZhZjViZGQ1LWJhM2QtMTFkYS1hZDMxLWQzM2Q3NTE4MmYxYiIgeG1sbnM6ZGM9Imh0dHA6Ly9wdXJsLm9yZy9kYy9lbGVtZW50cy8xLjEvIj48ZGM6Y3JlYXRvcj48cmRmOlNlcSB4bWxuczpyZGY9Imh0dHA6Ly93d3cudzMub3JnLzE5OTkvMDIvMjItcmRmLXN5bnRheC1ucyMiPjxyZGY6bGk+TEVOT1ZPPC9yZGY6bGk+PC9yZGY6U2VxPg0KCQkJPC9kYzpjcmVhdG9yPjwvcmRmOkRlc2NyaXB0aW9uPjwvcmRmOlJERj48L3g6eG1wbWV0YT4NCiAgICAgICAgICAgICAgICAgICAgICAgICAgICAgICAgICAgICAgICAgICAgICAgICAgICAgICAgICAgICAgICAgICAgICAgICAgICAgICAgICAgICAgICAgICAgICAgICAgICAKICAgICAgICAgICAgICAgICAgICAgICAgICAgICAgICAgICAgICAgICAgICAgICAgICAgICAgICAgICAgICAgICAgICAgICAgICAgICAgICAgICAgICAgICAgICAgICAgICAgIAogICAgICAgICAgICAgICAgICAgICAgICAgICAgICAgICAgICAgICAgICAgICAgICAgICAgICA8P3hwYWNrZXQgZW5kPSd3Jz8+/9sAQwAHBQUGBQQHBgUGCAcHCAoRCwoJCQoVDxAMERgVGhkYFRgXGx4nIRsdJR0XGCIuIiUoKSssKxogLzMvKjInKisq/9sAQwEHCAgKCQoUCwsUKhwYHCoqKioqKioqKioqKioqKioqKioqKioqKioqKioqKioqKioqKioqKioqKioqKioqKioq/8AAEQgAlQIzAwEiAAIRAQMRAf/EAB8AAAEFAQEBAQEBAAAAAAAAAAABAgMEBQYHCAkKC//EALUQAAIBAwMCBAMFBQQEAAABfQECAwAEEQUSITFBBhNRYQcicRQygZGhCCNCscEVUtHwJDNicoIJChYXGBkaJSYnKCkqNDU2Nzg5OkNERUZHSElKU1RVVldYWVpjZGVmZ2hpanN0dXZ3eHl6g4SFhoeIiYqSk5SVlpeYmZqio6Slpqeoqaqys7S1tre4ubrCw8TFxsfIycrS09TV1tfY2drh4uPk5ebn6Onq8fLz9PX29/j5+v/EAB8BAAMBAQEBAQEBAQEAAAAAAAABAgMEBQYHCAkKC//EALURAAIBAgQEAwQHBQQEAAECdwABAgMRBAUhMQYSQVEHYXETIjKBCBRCkaGxwQkjM1LwFWJy0QoWJDThJfEXGBkaJicoKSo1Njc4OTpDREVGR0hJSlNUVVZXWFlaY2RlZmdoaWpzdHV2d3h5eoKDhIWGh4iJipKTlJWWl5iZmqKjpKWmp6ipqrKztLW2t7i5usLDxMXGx8jJytLT1NXW19jZ2uLj5OXm5+jp6vLz9PX29/j5+v/aAAwDAQACEQMRAD8A+kaKKKACioL28g07T7i9vJPLt7aJpZX2k7VUZJwOTwO1ZNt418P3fhKTxNbaismjxqzPciJ/lCnBym3d17Yovo32HZm7RUVtcxXlpDc2zb4ZkWSNsEblIyDg89DUtGxKaaugooooGFFZmv8AiPSPC+mHUNfv4bG2B2hpCcsfRVGSx9gCeKg8M+L9D8Y2U134cvvtkEMnlSP5Lx7WwDjDqD0Io3A2qKKKACiiigAooooAKKghvrS4up7aC5hlntioniSQFoiRkbgORkcjNT0AFFUtX1jT9B0qfUtYu47SzgXdJLIeB7epJ6ADkngVmeF/HPh3xn9p/wCEa1H7b9l2+d+4kj27s4++oz909PSha7BsdBRRUdxcQ2lvJcXUscMMSl5JJGCqijkkk8AD1oAkopkM0dxAk1vIksUihkkRgysDyCCOop9ABRRRQAUUUUAFFFFABRRRQAUUUUAFFFFABRRRQAUUUUAFFFHSgAormz8QfDA8Pwa3/aebC5uPssDrbyl5ZckbFjC7ycg9BXRqwdQwzgjIyMH8jQGzsxaKghvrS4up7aC5hlntioniSQFoiRkbgORkcjNT0AFFFFABRRRQAUUUUAFFFFABRRRQAUUUUAFFFFABRRRQAUUUUAFFFFABRRRQAUUUUAFFFFABRRRQBh+Nv+RB1/8A7Btx/wCi2rwW+gufBfwkjubWOWbRPFGkxpPGgyLW92riT/dcA59x9BX0nPBFc28kFzEk0MqlJI5FDK6kYIIPBBHaqsujaXNpI0ubTbSTTlUKLN4FMIUcgbMYwMDtUuN0130/P/P7y1LReV/0/wAjwHxh4omj+XSdd1LTLrRtGs22f24ttDNIUDBUtvLYzHDDPIHGDxjO1rV5rmu6/rjL4k1XTYrbwtDqQhsLgxq02zd77QT124J6Zr16fw1oVzIZLnRdOlcwC3LSWiMTF/zzyR93/Z6VKNE0oPK40yzDTQC2kb7OmXiAwIzxyuP4elVL3m3/AFs/819xnBcvL5W/C3+T+88X0nXtY0XWfB+tat4k1W/g1rR7q51C3lkUxoIoN48uMAANwOepOcnk1H8NfEmoSfEHRYYtdvryz1a0neazvtcGovDtGULARqIm4zjk4POOle2Loeko1oyaXZK1ihjtSLdAbdSMFU4+UEcEDFR2fhvQ9Okhk0/RtPtXt93ktBaohj3fe2kDjOOcdaq6vf1/X/NfcJr3bLy/Cx574/urHS/jF4Q1HxPsXRUhmSGaZcxQXRPDMeg/hwT0Iz2JDvH/AIvsL/8Ase10TxLHY6XfagLbVNZ02dMwgJuRPOGQpPr2A54yD6VfWFnqdm9pqVpBeW0mN8NxGJEbByMqeDyM1Tj8MaDDpUumQ6Jp0dhM++W0W0jETtxyUxgngckdhUfZS7P9bl31v/W1v+CeI6h4h1m18I+KrLRfFN/qWnafqNnFp+sm53zEyMDInmrjeBke2PY4q5q1hr1trXjXTE8b+ITb6Zpq6nE32lRIZShbbuCgqmc/Im0cj0r2YeH9GXSl0tdIsRp6NvW0FsnlK2d2QmMZzz061JJo+mSzXM0unWjy3cXk3DtApaZMY2OcfMvseKHtb+tkvzVwXxXf9a/5aHjsd5rninxL4ds5PEuq6fHeeElvLlrGfyzJLk/NjBCsTjLAA4GARmqHhTVfEX2X4f6/deJtVvJNVvJLG4tJpgYDEpdR8oA3Pxy7EknHPFe3w6JpVvPFNBplnFLDB9mikS3UNHF/zzUgcL/sjimxaBo0EFpDBpNjHFZOZLVEtkC27HksgA+U8nkY61bera7/AIXb/J2JlrG3l+iX5q54l4O1zxHr3ii21Z/FsFtfPqrRXOjXmrMP3IbaYks/J4YL0feehJwckQx33iGDwqPFX/CVaw8tp4la1Wya4zA8JlAKsDy3tkkAcADrXuQ8P6MNY/tcaRYDUs5+2i2Tzum37+N3Tjr04pf+Ef0Y2RszpFj9labzzB9mTYZM537cY3Z5z1qVo4vt/mv8n94TXNe3X/J/5r7jzH4eaZbWHxl8YRy69fPdRTr5dpcXgP2lWTcXZMZfZkAHsDXr1VP7J07+1v7U/s+1/tDZ5f2vyV83b/d34zj2zVuhaRS7Kw+rfc5H4maTpGteEDZa7rEeixvcI0F7KRsilXLLu3EDHB4JGfXOK82bxX4n1bR9bWHU7W/1HwnJb3v9qaPOUh1GAZZopNvDfLuOBxkEY7n27UNNsdWs2tNUsre9tmILQ3MSyISORlWBFc/r3gxrvw4dG8KX0Hhe2mkP2oWVhGRNGylWUDgKTx8w54pK6u1/T01Ho9zy/Vte1zWdDHijTtb1Kwt9a8TW9pp6xXDgRWyBkyEzt+ZgSQRzjmjXLXUorH4k+GrrxDrF/a6bawXsElzc7pctGWZGOOUPdQAMDtzXsdn4Y0ey0LT9IFhBPZ6cE+zpcRrJsZej8j73U7hzkmrg0vT1urm6WxthcXahLiUQrvmUDADnGWAHGDRKK1S2/wCArfirjjLZvf8A4N/ydjwO/wBWs7bw74Y0XS/FureZ/Zsl5Lef8JIlpFHkD90ziNy5VlKrGBlfzIt3fjDxBb+C/BfiLTdTurzXri3nil03zGaO7iRXzM0ecbk2g7sZOfavZY/Cnh6FbdYtB0xBaszW4WzjHklvvFePlJxzjrUlp4d0SwuIp7HR9PtpoYjDHJDaojJGSSUBAyFyScdOaqTun/Xf/OxCVreS/wAv+HMz4eeU/gHS54tVutXNxCJnvLqVneRz977xO0A5G3tiulqrp+mWGk2v2bSrG2sYNxbyraFY13HqcKAM1apyd3cIppWYUUUVIwooooAKKKKACiiigAooooAKKKKACiiigApG+6fpS0UmrqwHzV8PmOkal4S1nxPibQGnurWxfGEsrtpT87+u4Dg8Y6/w5OxHrviPWvHWp3K+LIdIvrLWPstvpl5qzQRvCGChfsgibzSwJG7dnJzjgGvbD4d0RtJOlto9gdPLbzaG1Tyd2c52YxnPOcdaRvDehtqEN+2jaeby3VVhuDap5kYXhQrYyAO2OlVHS1+n/A/4Pyf3uo+Zya6/8H/P7zw9ZJfCXiT4kX+na5fyatZKHtrWa6V/ODIC0rRkfP5YPB6KPWn6XqOuWvg/Xbyz8apqUEmhNcNENbe8uracYw4PlIYR82NhOc+uOPczpGmnVDqZ0+1N+U8s3fkL5pT+7vxnHtmq1t4W8P2Vvc29noWmW8N2uy4jis41WZeeHAGGHJ6+tQl7tvK35/8ADh1v53/I8l1y4m0nwj4Xs7/xTr0moa8y3TXr62mnxwBYV3AylG2pyDtwSTk5J4OfpfiHxBrXhrwfbDxHfQyTeIJrF72C43ySwqONzEYkODwWX0OK9xudE0q8t7aC80yznhtGVreOW3RlhIGAUBGFIHTFNj8P6NF5XlaRYp5MxuIttsg8uU9ZF44Y+o5q3Zyv0v8Aqn+SsRZ8qS3t+j/Vr7jw+917XNEs9V8Ny+JdSFlD4kgspdZuJy09vbSIWOZcZU/KPm4HXoDilHilNGfxxDF4s1rXtMtbazhs7qLUlEiu5x8s3KLzwXC54OckV634n8IjWdFvLPRpbHSbi+lSS6uH0yK5Fxt7Oj8MenJyRiqHhP4b2Ph+z1BdXmj1y61IIl281pHHC0aDCRrCMqqgY46cduAISbWv/D6Jf5l7bf1rf+v6t5JH4n1uz8IeO7O28SXd2ljDZzWt0mrm8khZ3UOFuVVMjsQBgYI55J7vwy2raJ8XoNJuvEGpava6loQvZEvpQwjmD4yigAKMZ4A7854rv/8AhF9A8iaH+w9N8q4jSKaP7JHtkRPuKwxyFwMA9McVaGmWAv0vhZW4u44vJS48pfMWPOdgbGQue3SrTs7/ANbP/gfcDs42/rp/k/vLVFFFIQUUUUAFFFFABRRRQAUUUUAFFFFABRRRQAUUUUAFFFFABRRRQAU2QyCMmFVZ+wZtoP44P8qdRQBW8y+/59rf/wACG/8AiKPMvv8An2t//Ahv/iKs0UAVvMvv+fa3/wDAhv8A4ijzL7/n2t//AAIb/wCIqzRQBW8y+/59rf8A8CG/+Io8y+/59rf/AMCG/wDiKs0UAVvMvv8An2t//Ahv/iKPMvv+fa3/APAhv/iKs0UAVvMvv+fa3/8AAhv/AIijzL7/AJ9rf/wIb/4irNFAFbzL7/n2t/8AwIb/AOIo8y+/59rf/wACG/8AiKs0UAVvMvv+fa3/APAhv/iKPMvv+fa3/wDAhv8A4irNFAFbzL7/AJ9rf/wIb/4ijzL7/n2t/wDwIb/4irNFAFbzL7/n2t//AAIb/wCIo8y+/wCfa3/8CG/+IqzRQBW8y+/59rf/AMCG/wDiKPMvv+fa3/8AAhv/AIirNFAFbzL7/n2t/wDwIb/4ijzL7/n2t/8AwIb/AOIqzRQBW8y+/wCfa3/8CG/+Io8y+/59rf8A8CG/+IqzRQBW8y+/59rf/wACG/8AiKPMvv8An2t//Ahv/iKs0UAVvMvv+fa3/wDAhv8A4ijzL7/n2t//AAIb/wCIqzRQBW8y+/59rf8A8CG/+Io8y+/59rf/AMCG/wDiKs0UAVvMvv8An2t//Ahv/iKPMvv+fa3/APAhv/iKs0UAVvMvv+fa3/8AAhv/AIijzL7/AJ9rf/wIb/4irNFAFbzL7/n2t/8AwIb/AOIo8y+/59rf/wACG/8AiKs0UAVvMvv+fa3/APAhv/iKPMvv+fa3/wDAhv8A4irNFAFbzL7/AJ9rf/wIb/4ijzL7/n2t/wDwIb/4irNFAFbzL7/n2t//AAIb/wCIo8y+/wCfa3/8CG/+IqzRQBW8y+/59rf/AMCG/wDiKPMvv+fa3/8AAhv/AIirNFAFbzL7/n2t/wDwIb/4ijzL7/n2t/8AwIb/AOIqzRQBW8y+/wCfa3/8CG/+Io8y+/59rf8A8CG/+IqzRQBW8y+/59rf/wACG/8AiKPMvv8An2t//Ahv/iKs0UAVvMvv+fa3/wDAhv8A4ijzL7/n2t//AAIb/wCIqzRQBW8y+/59rf8A8CG/+Io8y+/59rf/AMCG/wDiKs0UAVvMvv8An2t//Ahv/iKPMvv+fa3/APAhv/iKs0UAVvMvv+fa3/8AAhv/AIijzL7/AJ9rf/wIb/4irNFAFbzL7/n2t/8AwIb/AOIo8y+/59rf/wACG/8AiKs0UAVvMvv+fa3/APAhv/iKPMvv+fa3/wDAhv8A4irNFAFbzL7/AJ9rf/wIb/4ijzL7/n2t/wDwIb/4irNFAFbzL7/n2t//AAIb/wCIo8y+/wCfa3/8CG/+IqzRQAyEysh89ERs8BHLDH1IFPoooAKKKKACiiigCjrVxe2ug31xpNutzfRW7vbwtnEkgUlQceprmLfWI4vCup66vi3UNStra2c3CR29ss1pIo3EKnlrsccjZLk9M+/X3huhZTHTxC11sPlCckIW7BiMkD3ANcZrHhTWPEUOrXF3b6Zpt7d6VLp8a21y8yzFyCGlcxIcLjAG043NzzinG3Nr/X9f8EfY1b/xpbafdX9uum6nenTESS8kgiQrFGy7t/LDdgA5VQW4+7U974qgtrx4LTT7/UhBEs1zLZohW3RhkFtzKWJAJ2oGbHbkZik8P3T/APCSYkh/4msCxwfMflIh2fNxxz6Z4rnL+8/4RG6u7SHVdDFxqFrF5lvcXRFzHKsQiDRQhS0+4KuE+Q5GATu4i71/D8Qir2v/AFt/wTbi8Vo2rfa5Zni0ptGjvxG0YLgs5xwuSWxgbQTz0rU0vXhqN7JZ3Om3umXSRiZYbwRkyRk43KY3deDwQSCMjI5Fc0vgm51LQYra9aGFZNBgsWSRd5SZDu+ZehXOARnnkVreFvD40qaWeTw14f0WVkCbtIG5pO5y3lR4HA45+vFXaza9fzdv0+RCbcb+n5K/6/Mv2d9cS+LtUspJM28FtbSRptHys5l3HPU52r+VZp8XWun4R11PUJbrU5rGGMRRbhIis2wY2gJ8hAZuecsQMkS3Vpr9n4ovNQ0iy028t7u3hiIur+SBkaMyE8LC4IO8dx0qrB4Vv01Swunkt9tvrNzqDgOxPlyRSIAPl+9lxnoMZ5oWsvK3+X/BHql/XZ/8AvR+LbeXT/O/s++W8+0taDTWWPzzKBuK/f2fd+bdv2471oaRq8er28rLBNazW8phntrgL5kLgA4O0lTwykEEjBHNcpqngSa/ur67lttN1Bm1cX8FnfDdDKht0hZJMo21vlZgQGwQvqa6Pw3pKaTprRLpGl6Q0khdrbS1/djgDJbYm48ddo7DnGSafgv0/wCD/W5rf+v67f1tr0UUUhhRRRQAUUUUAZ+u6nJo2i3F/FYz3xgQuYoGQNgDJPzsowPrn0BrG8Ja3rGqXt1DqumX1stvHFGZJzbbfOCKX/1cjHLbwemAB2PFaniLw/Y+JdJNhqNvbzR+Yrjz4FlCkHkgHoSMjPbNReHvCmk+GlnOmafZW008jtJJbWqxEqWJVOOyggD6Z4oW7uD2VjaooooAKKKKACiiigDC1XxMtnd3FnZ6dfX8tvF5lzLaojLagglS25gWOATtQM2B05Gc3SvFUMdjDc6xe3TSJotte3C+UhjJk3DKhV3lyykben3cDJqzd6RrVtq2qTaL9geDVlUyvdSOr20ix+XuCqp80EBflLJjB554x7rwhNa6VJJqGo2NnFb6LZ232iVj5cU1vI0m9s4Hl529wevShba/1o/+AOyb/rvH/gmy3jWG3W6/tPR9U0+W2sZb9op0iJaKPGdrJIyljn7ucjHOMjOnPrltbyWqOkpN1byXCYA4VApIPPX5hXH2UsvjjWrvzJ9Nls20eeykk0q5a7hjeVl487agLYGdgGVABJ+YY04NE8R3l1Yy6t/ZlutnYz2pjtZpJPNZ1QCTLIu0fKfl5xnqe0yvy6b/APBf/ACNnKz/AK0X/BLujeMrXWZrER6dqFtBqUHn2dzcxoqTgKGKgBiykA/xAZwSCRzUV54qkNlqUP8AZ19pd5Hp813atdrERKqDllCu2MEplXAPzDjrhh8L350zw5bx3UUMulW7RSyoSSGNu0QZOOcMQeccVjWHgS/inlnbT9FsJpNJubGWS1lklkupZPLIllkaNWbJVs53EZzlsnFVF8Sj2f62/T7/ALlS6OXkdJpfiVLyBo4re5vZbW0SS6mgRSglKBvKHIzIQc4AwARkjIqGfxva2Wm311qmm6jYyWDwrNayJHJLtlYKjr5bsrAkngHPynjpnMg8H6xpegXGh6Pdwpp80IkQNcSRyQz7g0iB1G7y5Du+bIZdzYzwFrw+BLxbTUltrDRdIF7JYulpp+4Rx+RNvclhGu5iOh2j0PTcalbmdv61FHZXOr0rXl1O/urGWwvNPurVUkaK7CZeN9wV1KMwIJVhjIIxyBxQfENov9s5jm/4k3/Hx8o+b90Jfl55+VgOcc/nTYtKnTxpdauXj+zzWEVsqgneGSSRiSMYxhx39ax9X0DXHudfj0X+zxb65Bh57iVxJby+V5eQgUhwQqfxLjng9DlJvl031NEo82u2n6XLV542tra7uba30rU7+W0to7ucWsaHZE4Yhss4yRsPyjLHsDzhq+LZ38TPZxaVcy6aLBLxb1DFtIO47sGTdtIAAG3Oc9uamtNAuoL3VZnkhK3ljBbRgMchkVwSeOnzDH41V07w7qVhNp0ZFpNbjSI9OvD5zK0ZQHDRjYd4JYjBK4689KuW75f60f8AwDOL01/rVf8ABNaLxBaz2+kSpHMBq65t8qMr+6Mnzc8cKemefzrJ8HeKX1bSdHguRNe6hPYrcXk8aIEgyPl38jBbnAUE8E4A5qHS9A8QRyeH4dQOmpa6JuTdBLI73I8lo1fBQBDzyuW6/e4wW+DfCWp+D4bO2t5raW0mhH9owtI/yTqoHmwkryGAAKnA4BGOQ1O3M7bf8P8A1/WhG/Jrvp/wTX1bxOmmam2nw6XqGo3S232ox2iIf3e4qeXdRnI6Zye2eah07xrYajPbbbS9t7O8gae0vriJUinVVDNgbt6kAk/Oq5AJGRzVttKnbxXNqYePyX08WoXJ3bg5bPTGMH1rKi8JXD6D4e027li26fZtbXRjY/NutzESnHPJzzjioV+Rvr/w/wDwCna/lp+n/BLtr4uguJlWfTdQs4poXmtZrhEC3SqNx2gOWU7eQrhDjPHBxDpvjS11dbUx2GpWkGoWpuLO6niQLMAoYgDcSGAOfnUA4JGRzWboHgs6ZEYpPDvhq0mitnhTUrGPE05K7dxXyl8vI5OHf05607U7GPQtD8NSatqFlappMRhlaWXb5rm2aMLHkfMSeg4JHbtTlZJ2+X4/8ASu2v67f8Eu2ni6N9G06TT7LVNamnsYrxljWBZkicfK8mWRAxwflXqQcDApbTxG954muTaSPd6b/Y0F9BFFGNzs7y8jODkhVGCcfTmucsvAMq6bot3caBousXKaNbWVxa6x8vkNGvBRvKkx95gRgZwvPGK2b3whfNJeNpklrYrJpVvZxRWzNAqtHK7sg2DKIwbbleQCcDgVU0lN27v9f+B/WicNY69l+av+pf8A+EwhjtbprzS9QtLu2kij+wyCJpZDKdse0pIyYZsjJYYwc4HNVLzxTNa65pb6hHPpFi9peS3UF2IywMZiCnKFh/EcbWOc+vFUbLwbc2UGrbPDvhlYdQS3X+yYyVtjsL7iz+Ty3KsG8vtjHG4sk+H97f8A9k/b73yv7PW5eFkuZJpLSR3jaII8gzKEKH7+MjAxjgS9/wCu39eXp1I+f9f1/VzoLvxPLaaXDft4e1d42haeZFWEPbIO7gyDJxztXc3qAeKivfGlvbahcWdlpepanNb2kd44s448eU+/DAu6gn5D8v3jkYB5xi6z4U13XwW1my0G/klsvs+25lkeGzlBb9/FEUIYsGXIJVl24DsK2dL8O3dlqt7cyyQlLjS7WzQKxyHi83cTx0/eDHfrwKOkn934/wDA/rZdV/Xb/g/1vuQ30Nzpsd/bFpoJYRNGUUkupGRgdckdqw5fGtvZ6fqVzq2l6jpz6bbi6lgnWJneI5G5THIynlSMZB9uRTrPQb+1+G1toEV4tvqEOmJaC5hZtqyLGF3AjDYyOowfoawF8B3htNZFvp2iaQ2o6elsIbJmYGRXYl5JPLUvkEc7c9evWnKym0tv+HEvhTe//DGw/ivUf+Ep0zTo/Dt+tteQzSNJIYAwCugD487IUB8kEbvmXAyGA1dC1CO90MXYuLmaMSTAyXSoH+SRlPCADAxgcZwBnnNQ6np1+/iPSdT09baRbVJYJ455WjOyQxkupCtlh5f3TgHPUU/w9pdzo/h/7FK8LTiWeRSpJT55Xdc8A9GGfxpP4dB9ita+L4LjS31KfTNQtLIpG9tNMkZ+1hzhBGqOzZYlcKwU/MOOuMzX/GU1t4evZktb3SL+ymtWkguY45ZDDJOqllEbSKwI3rwd2QeBxVNvAV1f6Vf2txZ6ZpkE3kyRaZbTyXNm00cgk3FGRFRWI2sqryCSSTU0vgy4l8O3ttp2h+HfD97NNbOhsAXRhHMshLsIoyehwuP+BDPD0/r+v6XRDja6/r+v63NabxnbWcd3/aem6hYy20QnEMyxlpoiwTehR2XqRkEhhkZHIrUudXhttRayMM0kwtXugI1B3KpA2jnJYkjArn9R8Oav4ihv5NWFjZXDWTWlpHbzPOiksrl3Yoh+8iDaBwAeTnhl7oXibV7i6u7qWw0+Z9Oa1iitLmVsP5ivky7EYKwXbwAV6gntPb5/rb9CXe7+X6X/AFF1vxjLD4c1SZLS80i/0/yJJIblI5H8t5ANwEbOrAgOMZzkHjpW3pevpqOpXNhLYXmn3UCLKI7tU/exsSA6lGYYypGDhhxkDIrlbfwJdpDq/wBm0/RdIGoRWipa2BbYrQyuzMzeWu4kEc7R6Hpk9WumTDxe+q7o/IaxW2C5O7cJC2cYxjB9af2vL/gf5jez/rt/wSrfeLEtdYutLs9J1LUru0ijmmS0SMBUfdg7ndQeUIxnPoDzhIvGVhd31lbaZb3d8by0S9jkhRVRYWbbvYuy4xnJH3vQEgiswvrKePtdOiQWM5a1tFZbuZ4tn+twwKq27/dwM/3hV/SPC0ml6hCTOs1tFpSWJY8O7hyxbGMAHPrS1uv66P8A4H9bGmv9dv8Ag/1u+28YW1zNbMNPv00+7kEVtqbpH5EzNwuAHMgDHgMyAHjnkZktfFVvcxXN1JY3ltpsEbyDUJhH5UqocHaFcuO+NyjOOKzbTw7rI0/TtBvBYDStNkhZLuKV/OmWFg0amLYFQ5VckO3Q4A3fLVPgm81E6rDdQWGj2uoWssM8enTvKl1K5GJ2iZFRHGOcbi27Bb5Rl6dPP/gB/X9f18zX/wCExt4En/tPTdQ0544DcRR3CRlrhAwXKBHbnLKMNtI3DI61raZfTX9u0lzpt3prq+0w3RjLHgHIMbspHPr2NctpnhSS0s7r/ij/AAjaXD2/klbYfJdgkb1c+QpRCAeMSdR6c7PhTSLvRtPmhu/KhjebfBZQ3Dzx2ibQPLR3AJXIJA2qF3bQMCnp/Xr/AJf0ha/1/X9dzcooopDCiiigAooooAKKKZL/AKs0APoqpRQBboqpRQBboqpRQBboqpRQBboqpRQBboqpRQBboqpRQBboqpRQBboqpRQBboqpRQBboqpRQBboqpRQBboqpRQBboqpRQBboqpRQBboqpRQBboqpRQBboqpRQBboqpRQBboqpRQBboqpRQBboqpRQBboqpRQBboqpRQBboqpRQBboqpRQBboqpRQBboqpRQBboqpRQBboqpRQBboqpRQBboqpRQBboqpRQBboqOD7h+tSUAFFFFABTJf9WafTJf9WaAM3Urz+ztKu73Z5n2aF5dmcbtqk4z26VWn8Q6TY2qTapqVnYbo0kYXFyibQ+dudxHUggHvg07xBFJN4Z1OKFGkke0lVEQZLEocADuaxNP0st44e7ubJiq6Fb26zSRcAmSQugJHX7uR9Km7u/66P8AyRVla/8AW6/zZpX3iEWuoXNrGltiGw+2i4uLnyosbiMM207V4zu5+lWrnXtJsZFiv9UsbWVnWMJLcopLkZCjJGSR0HevOP7I1RvA88Dadd+cfCQtlj8ht3mAtiMDH3sY+XrXR3OjmWXxnK+ntI95Zxwxs0JPnAQH5V4+b5ieB3pyfLDm9fwbDl9/l/rZHT32taXplxBBqWpWdnNcnbBHcTrG0pyBhQTluSOnqKu15pc6bdDUL4axd69BDqllbxqun6alysiiLa8TkwSMhDFj8xVfnyOd1ei2sP2ezhh3SP5capukILHAxkkcZqrWIvsTUUUUhhRRRQAUUUUAFFFFABRRRQBU1PVbDRrF7zVbyCzt06yzyBFz2GT3PpWR4c8aaV4lupLewvLKWaOCOVo4LxJWywywwOykqM+pxxVnxTp17qugTWmnXdxayykIxgEWWRvlYHzFYYwSeMHjg1D4Y0S+0r7bLqGqXt29zOzCO5WABQDtRh5aLyUVeM4HoDmhbu4PZWN+iiigAooooAKKKKAMK48Wabp+sXllq91a6dFbLCUuLq5WNZWkDnaN2ORsPc5/CtBtQWPUJoZpLRIYbcTsxuP3igkjLJjAT5fvbuSDxxXMzTQ6T471m/vdJvp0ubK2gint7GScSY8wtH8gOOoyThemT0rLtNN1jQoJRBp5klg8P2luFaFp41Kyyb1AGPMKIc7QcnAHcUr/ANfJ/wBf1q0r3/rqjtrfxBo13ps2o2mrWM9jASJbqK5Roo8DJ3MDgYBB59aY/ibQYtLj1KXW9OSwlfZHdNdxiJ254D5wTweM9jXFRWf2ltZn1CbxHNbSGykgv5NLAuPMjdyGWFYQSFYKDujJ7/dwauvqOtyWunm9W7s4pWnD3+naQzTucr5f7l1kMIcZLF1P3f4ciqfb+v68vuuTfS7/AK/r+rHW3WuaTYwLNe6pZW0Tx+csk1wiKyZA3Ak/dyyjPT5h61Pb39ndmMWt3BN5kQmTy5A26M9HGOqn16Vw/hfR7mPVvC8t5p9wn2PSLtN08IBgcyxAKcDarFd3A4xnHFVli1DQvD9nqltaSJfQ3l7YxQMmzKTXDiH5SPu7xCQf7pJp20TXX/NpfoH9fhf/ADO3ufEWi2bQLd6xYQNcOyQiW6RTKyttIXJ5IPBA6Hina9qn9iaDeal5Pn/ZozJ5e7bux2zg4/KuK8R2V7aadc6DajUktl0oR27WGnrO19Jtfeksjo6oOhwdhJckMeg3/FlpPefDTULSO2muJ5LDZ5CKS7naMqB61Pfy/wCCPt/XY2bHWNN1Oa4h07ULS7ltW2zxwTq7QtyMMAflOQevoajt/EOi3dvdT2ur2E8Nn/x8yR3KMsHX75B+XoevpXI65ZT+JBKnh6xurKW00m5tN89s9sNz7AsSb1AYfIfmGVHHJzWdqGmHVPDGszWk/iS+vF0Wa1S2v9MW2ChwCI1CwRmRsrxtLAc+oy0ru39f1/n94uh3lx4n0C1t/Putc02GHzWh8yS7jVfMX7yZJxuHcdRU99rGmaWkLanqNpZrO2yI3E6xiRvRckZP0rnfERu4LqzsLYX1lZG0ZI5dM08XEjPkDySWR0iTGDllAOPvLtOc7w4s+if2Zc6xp2oSifQrS0i2WjzNDIu7zI3VVJjzuTJbC/LyRihapv8Arr/l+P3rW1/66f18vu6WHxXpaaJa6jrF7aaUlyWVBdXKoCQSMAtjJ4zWzvXZv3DbjO7PGPWvObUalaaDo+ntbalpMLWcigWOmrPMJC+PIYlHSJMYOSADgfMAvPQabZB/hTaWOsW93htISG5hSMmcfugGAXGd3XjGc9qlfA3/AF1/y/EpLVGrB4k0O606bULbWdPmsrc4muY7pGjjPozA4HUdfWquoeM/D+nadaX8+rWbWl5MIYZ0uYyjHOCQxbBC9yOlc+NR1r+xZdq3U1sl1FGupNo7pdiHBy32crlnQ7QGEYX5shCFIMFpBeW+h3d1NBqtyia/Dd757PFxLFiLMnlRoM9zgKDwcjINUtX935r/AD/Aht8t1vr+T/VHdLqVi1tLcLe25gg/1solXbHwD8xzgcEHnsRUOuap/Y2jy33k+f5bIuzdtzucL1wfXNcZqstxBpfivTYtL1K4uNSkae18qzkKSI8SDO/G0EFWypIbjgHIz0Pjm0kvvBN9bRWcl60nlg28a7mkHmLkAfTPXik9I3Gt7Gpaa1peoJcPYalZ3S2pIuDDOriEjqGwfl6Hr6U201/R7+xe8sdWsbm1jcI88NyjorHHBYHAPI49xXL6lPc3uo3Gq6Fpdxix0uW1ZbuwkQTM0iEKsTbTKEVHOBwdwAPJxj3GnXmpW/iPcusanBeW1iiSahYCBpts0m9RGsaHAHXcucc8jBo6X/rf+mP+vyO9g1u0urh2tr3T5rJIDK08d4GYFWKtlQMBRg/Nu6gjHFWNO1TT9XtTc6TfW19AGKmW2mWRcjqMqSM81zXiDT0uNcv/ALXb3v2B9JSIyWduZGU+cT8oCncRw23B4HQ9K0/Ct1f3VjcNqCu4WbbBdS2jWslygVfneJsFWzlScKDtyFAIFEdVf+t2ge/9dh+r+KNN0t3txd2s2oIY82P2hRLtd1Xdt5OBuz0q7LrWlwarFpk+pWcd/MN0do86iVxzyEJyeh7djXDzxyxeHbjRJdGvrjUv7WFy7/ZHeN1N2HEwm27DhCOASwxjHynDf7HlbWNS0/Vb7xBGbvU/tMaWenRvbyruVo2M3kNtKhVU7pARs4wMUo6u39dP8/w+5vRX/r+v8zuG13SEvo7J9Uslu5XZI4DcIJHZeoC5ySO47Ul1r2j2N8LK91WxtrsxmUQTXKJIUAJLbSc4wDz7GuTm0eVPDOvGLTn+1T639pXEBLybZkKuBjJwFyD6CqWusLDwx4o06/0y7nu7q4muFm+ylopUJBjfzcbAUUKNpYN+7GAcrkhra/a/5f5/h9ylpd+dvz1/rud3ca3pVrqUOnXWp2cN9OAYraS4RZJM8DapOT0PT0psuvaRBex2c+q2Ud1LIYo4HuEDu4xlQpOSfmXjryPWuM8UnVL28v7PZqSBJ7dra3stODxXKAxsZJJmRhlWDfKrIwC8Bsg1Le6NN/wj/jR4tOka6u74yxYhJebbHFsZeMnBBxjoQacdXr/WqE3bb+tGdzcXUFpGJLqeOBGdUDSOFBZjhRk9ySAB3Jqvp+saZq1u9xpWo2l7DGxV5LadZFUgZIJUkA4rA+IipJ4Wt1mtzco2p2IeEAHzB9pjyuDwc9Oay9ds7jxNDrV5otpewo9jDbN51oYJLrZL5jIscyjPyEqCy7SXI5GaOl/N/kn/AMAfW3p+djr7TxDot/Zvd2Or2FzbRuI3mhuUdFckAKWBwCSRge4qOLxBYTM88WoabJpyW5mN0l6pIwxViRjaEGD827qCMcVxGpaQmsaPfTxTa/q0sxs7eWPUtMFuGjFyjEBBBGWwNxJwQATWj43068u/+EgFrZzzibw68MflxFt77n+QYHLc9OtC3S9fyuNWcb/1uv8AM6aTxNoiW1/ONWsZF04f6XsuUJgPPD8/KSQRg45qKHxh4fl0O21eTWbC3srnASWe6jVd+MlCd2Nw5yM8YNZt7psyeKrRLCzKW39h3NuTHHhFYPF5aFug43YH1rNS/vW0fQII49W0+AWXkzT2+ktJcpMoRfK2yRsEQ8kuUKnaPmHc6X/rd/5fiibu6/rov839x0d94osNN1aK3v57a2tJLNro3s1wqRjDooGTxzvGDn+dXLnXdIsrdJ7zVbK3hki85JJbhFVo8gbwScFcsoz0+Yetcj4V0eeLUvDc17YTo1nockW+eLBhcvH8pwMK20Hgds44qPwzo08PiHQpLnTpY47Oz1FEaSEhYC1ymwDI+XKZwP7uccVSV7fP8L/5IV9X8v0O5t7+zuzGLW7gm8yITJ5cgbdGejjHVT69Kq3PiLRbNoFu9YsIGuHZIRLdIplZW2kLk8kHggdDxXELFqGheH7PVLa0kS+hvL2xigZNmUmuHEPykfd3iEg/3STUniOyvbTTrnQbUaklsulCO3aw09Z2vpNr70lkdHVB0ODsJLkhj0Ey91X/AK/q1i0tbP8Arp/mei0VBYhl0+3EgIcRKGDdQcCp6bVnYlO6uFFFFIZPB9w/WpKjg+4frUlABRRRQAUyX/Vmn1HOcQsaAehBRUe8+1G8+1XyMz9pEkoqPefajefajkYe0iSUVHvPtRvPtRyMPaRJKKj3n2o3n2o5GHtIklFR7z7Ubz7UcjD2kSSio959qN59qORh7SJJRUe8+1G8+1HIw9pEkoqPefajefajkYe0iSUVHvPtRvPtRyMPaRJKKj3n2o3n2o5GHtIklFR7z7Ubz7UcjD2kSSio959qN59qORh7SJJRUe8+1G8+1HIw9pEkoqPefajefajkYe0iSVSudJs7vUbe+uY2lmteYQ0rlEbn5vLzt3ckBsZAJ5qzvPtRvPtRyMPaRJKKj3n2o3n2o5GHtIklFR7z7Ubz7UcjD2kSSio959qN59qORh7SJJRUe8+1G8+1HIw9pEkoqPefajefajkYe0iSUVHvPtRvPtRyMPaRJKKj3n2o3n2o5GHtIklFR7z7Ubz7UcjD2kSSio959qN59qORh7SJJWTP4a0261H7bdC6nfeJPJlvpng3DofJL+XwQCPl4Iz15rS3n2o3n2o5GHtIklFR7z7Ubz7UcjD2kSK+0+11KFIr2LzUjmjnUbiMOjB1PB7MAcdKs1HvPtRvPtRyS2D2kSSio959qN59qORh7SJJRUe8+1G8+1HIw9pEkoqPefajefajkYe0iVrnSbO71G3vrmNpZrXmENK5RG5+by87d3JAbGQCeau1HvPtRvPtRyMPaRJKKj3n2o3n2o5GHtIklFR7z7Ubz7UcjD2kS3B9w/WpKitjmM59alqXoWndXCiiikMKjuP9Q34fzqSo7j/UN+H86a3JlsyhLKkMTyzOscaKWd3OAoHUk9hTYJ4bq3juLaVJoZVDxyRsGV1IyCCOCCO9UPEn/Iq6t/15Tf8AoBrlLSaXSdDk8LWj+XcXDRppxGAUhnBZiOMfu9s2B6IvrW17tx9Pxuc/Lon/AF0O5trq3vLdZ7OeO4hbO2SJwynBwcEcdQRSyXEMUsUUssaSTEiNGYAuQMkAd+ATXE+E5ZdNk0PSbH91pxGpBogoI/d3AEYz1GAW7809rufU9c0jzbk7k1a/gjkQLlFWORRjjGRjuD05zTur2X9a2/Umz5eZ/wBb/wCR2U11b2zRLcTxRNO/lxCRwpkbBO1c9TgE4HpSvPFFJHHJKiPKSsaswBcgEkAd+AT+FcJoUt/pGi6BGmp3Fyt7rEsMonji4TE5Kjag6sgbPXPQgcV0et/8jD4c/wCvyX/0nkprX+vQHok+6/z/AMjW+125vDaCeL7SI/NMG8bwmcbtvXGeM1NXHeL9d1LS/wC3PsFz5X2XQ2u4f3atslDMA3I56Dg8VDqWuap4Wubxru+k1Xdo8+oJDJDGixSRFcqhQA7D5g4YsRt+91oWquvP8L/5D5Xe39dP8zt6K5Pw5ceI21cDUrfU2sZYCzy6gLNRHKCNojEDk7SC3DZI2rz1z1lBIUUUUAFFFFABRRRQBHNPFbqrTypErMEUuwALE4A57knAFRDUrFigW8tyZArJiVfmDHCkc85PA9TTruyt76NI7qPzFjlSVRuIw6MGU8ehAqovh7S0MJW2wYEjSP8AeN8ojbcg69ic+/ejqv60Doy3De2txIUguYZXUsCqSBiNrbW4HoeD6Hip6pWmkWNhcPNaQeXI5kLNvY5LuXbqe7EmrtHQbtfQKKKKBBRRRQAhIVSWIAAySe1QQahZ3MwitruCWQxLMEjlDExt918A/dODg9DXO3suparqusRW2qSabb6WqosaQxuJ2aMOWk3gnZyFwpQ8N83TGJZ+IdR0zSIILV0KR6DpzQLIgKxyyyGIu3QkAbSRnovaknf+vJ/5F8r/AK9V/mei0VxGrXWt6C1/BHrdxfldEuruJp7eESJMm0KfkRQRzwCvXOSeANW/1a7gutNjjnC+fp9xO67VyzIqEHp2LH25pSkkr/11/wAgUW3b+tk/1OipssqQxPLM6xxopZ3c4CgdST2FcTpOratZReHr/W9ZNzFqlmXuomgjSOFhD5m9Cqhh91shi2c5AXpVJ9X1SRdStLt9Tms7zRbq5ik1GG3iyU2gGNY8OqkSfdlG4YHfNObcbrqr/hf/ACFBc9vM9DR1kjV42DowBVlOQR6inVw2g6/Nc+HLnVLm+k0+1tIVsorNbcSSxyYUCR12li7ErsQcFWUnJbinNr3iKz0nV4POvYLu3msTbS6rFbNIommCMGEB2FeD6NyfY1UtHYUU3bzPRaK57SLi+tvFd/pF7qMuoRraw3cUk0UaNHveRWT5FUFfkBGRnk5JrL8S65qFtqUs2jz6lLHYywx3McUFv9lQllJEjSYkYlW/5ZE7eMjOczdDas7M7WiuHubzXpbfxLqEWtm2TSLmT7LbiCIxyKkSPtlJUsVJJHylSATyeMJrviDUUujd6TLqTpaPAt1DFBb/AGWMsVLLI0mJGJV/+WZO3jIznJdW+78Qt+v4HaxXME7ypBNHI0L+XKqMCY2wDtbHQ4IOD2IqFtTsElkje+tlkhkSORDMoKO+NikZ4LZGB3yMVxUMWppeeMr7T9XeyFnfmVIlhjZJWW1hJEpYE7eAMIUPXnphms6rdajFMtycRxarpDRRbQPL3yRMwzjJ5PemrOUV35fx/pg1a/z/AAPQqK4qXXNQ/wCEotZbCfUrjTZr82khkgt0tBgMpCE4nLBl+9yhOR9NPxPdahHqWg2Wm3zWQv7x4ZpEiR22CCR+NwIByoIODyOQRkEj7yuhNWdv6/rQ6KiuEW98QWtnJe3GuNcLY6slkIvssSrcxNMiEyELnfhzgoUX5R8p5ptprnibVNSN7YWWptbx6i9sYB9jFoYUlMbsSz+fuwC3GBkAbSOSovmSa6/8D/Mbi0rne1DcXdvaKjXc8UCySLGhlcKGdjhVGepJ4A71wp1DxHLay6jBrm0rrj6els9rGYvJNwYgWwN5dQcghgPlAIPJNyXU9W0ueaxk1OS8MWqWcS3E0MYkaKUruRtihT35Cg4PtmhO9n3t+Nv8wkuVtdr/AIX/AMjq/wC0rHzUj+22/mSStCi+auWkUEsgGeWABJHUYp8d3bS2n2qK4ie32lvOVwUwOpz0xXF6dqF1Z6ta29vLsivPEV7FOu0HeoilcDkcfMqnj0qp4K1a9vdGaKC4ayg0i1YmAovmXTMGIkO4HEQxgFeWZWzwuDPN7ql5X/AfL71v63aO9+32n9n/AG/7VB9j8vzvtPmDy9mM7t3TbjnPSpkdZI1eNg6MAVZTkEeornZtWvV+Fr6us2L4aObkS7F/1nk7t2MY684xiqsmoalHr9o+o319ZWEwgW3aG3ie3ndsbklbaXRixwDlF+6ASeDo9JuP9df8iVrBS7/8D/M6i3vLa6gM9rcRTRKzKZI3DKCpIYZHcEEH0xSW19aXoY2d1DcBdu4xSBsblDDOPVSCPUEGuQj1K81vwitlcT77rU9SubDeAFKwLPIHIxjGIkIB9cZyTVO3v7hPiBrGh2Ex043V5E/2vywflS2iJij3AqZCOxHChiAcUutiuXfy/wA7HoVFcTPqesS6DqPiSLVJIFsZbgJpqxRNDIkMjKQ5K797BTyGUAkccHNbUdX1tLfxVqkeryQwaHdZgtUt4isiLBFIySFlLEHccbSpGTyeAGk3/Xp/mK3+R39FcJeXN1oWseK9bS+ubkWtlFMtpIsQjJ2uQCQgbC4/vDqck9q99q3izS9B1m7kj1OOOLTJp47nUVsswzqAVCLAxypBJw4ONo5OaSu3YSV9j0OiuasLjUrHxdDp1/qcl+l7YSXQV4Y0WB43RSE2gHafN6MWI2j5utN1jXL3RtT1CN2WVZ7RJNNQ4GZt4jKepBZ4jzn7xoeiXn/wf8gWv9d/+HOnorhdW1jVbK8jexvdSvRZTW9teFLe2W13FkD7y2JCxD5/dcDKjHBBS91PXUg8Q6ourtFDpF9tgtEt4yssYSNmWQld3OWAKlSM5JPAAmm7L+tv8w2Vzu6jnuIbWB57mVIYoxl5JGCqo9ST0ri9Y1LWZNF8Ra1Z6w9gNM8+O3tVhieM+Wv3pNyltxOSMMoA25B5zq+Oy5+HurmPb5htG27umfejePMO2v8AXQ6OiuTub6/8Paoo1LWmurS5sp55Gmt0zavHswY1jUFk+cja25uF5znONPr3iDT9L8QIZdRWW309Lq0m1WK1EgYsy5xD8u3gcMoYc/grq9v6/rQLO1z0WiuL1C58QaZfXdpb6pLfzNYG/iR4Il2tHIu+JcKPldW2jdlh/eNT3fiCS6+3TWd7cRWg8m1tfskCSSy3DDzG2bgV+4yAFvlB3FuBRf8Ar8Pz0El/X3P8mdTLcQwGMTypGZHCJvYDex6KM9TweKkrzK98QahDo6zapa6hdT6VrqIsUqQm5lXyPMAIhPlk/Pgbe2M85rufDz3U+jRXd7qEd892PPDQBfJjVgCEjIALKP7zZJ5PHQNa3/rdJ/r+A5KzX9dWb9r/AKo/71TVDa/6o/71TVhLc6YfCgoooqSgqO4/1Dfh/OpKZKpeMqOp9aa3FLYzLm3ivLWW2uF3wzIY5FyRlSMEZHtUP9lWRvra8NupubSJoYJDklEbbuA+uxfy9zWj9lf1X86Psr+q/nW3NG9zm5ZGHc+GNKurWG3eGWNYJnnieC5lhkR3LFyHRgwzuORnH5Cn2nh3SrH7P9ks1iFtNJPCFZsK8gIc4zzncevrWz9lf1X86Psr+q/nReN7hyy2MSDw1pVu6NFBJ+7uzeRq1xIyxykMCVUthR87fKABznFTarotlrSQC+E4NvJ5kT291LA6NtK5DRsp6EjGe9av2V/Vfzo+yv6r+dF4hyyMFvCukvaT288M9wlxbG1lNxdzSu8RJJUuzFupPOcirsul2U98l5NArzxwPbKzEkeW5UspXoclF6jtWj9lf1X86Psr+q/nRzLYOWRjaX4e0/RnLWAuR8mxVmvJpljX+6iuxCDgcLjoPQVp1N9lf1X86Psr+q/nRzIOSXYhoqb7K/qv50fZX9V/OjmQckuxDRU32V/Vfzo+yv6r+dHMg5JdiGipvsr+q/nR9lf1X86OZByS7ENFTfZX9V/Oj7K/qv50cyDkl2IaKm+yv6r+dH2V/Vfzo5kHJLsQ0VN9lf1X86Psr+q/nRzIOSXYhoqb7K/qv50fZX9V/OjmQckuxiah4a0rVLw3V5bu0jp5cvlzyRrOnOFkVWCyAZPDgjk+pqO48OafHYTpaabBcO1itkIbmZhHJEmdqMcNgfMedpPPet/7K/qv50fZX9V/Oi8R8sjj9A8LS2upy3+p28EbNbG1WEX018zoWDEvNMAxHGAmMD5jk7uL9j4Q0XT3R7e2lLxxNBG811LKyRsACil2JC/KPlHA7V0P2V/Vfzo+yv6r+dF4tWFyyvcyv7D07ybGE2ytHYIUt0ZiQilChByfm+Ukc5qla+DtEtNxitpnLWz2u6a7mlYQvtzGC7EhflGAOnOMZNdF9lf1X86Psr+q/nQ5RerBRktjCn8LaPcuzy2h3PbC1cpM67o15UHBGSp5Vj8y9iKZF4S0aKGeMW0kn2honmea5lkeVom3RlnZixIPqegA6ACug+yv6r+dH2V/Vfzo5kHLIoLYWy6pJqCx4upIVgaTceUUswGOnVm5681n3vhTRtQvZbq7tpHeZlaRBcSLG7Lja5jDBCw2rhiM8Dnit/7K/qv50fZX9V/OjmiHLI5O18G2jalqV3qaGU3V8bhUiuZVR12IAJUBCvgoeGDCrt74U0bUL2W6u7aR3mZWkQXEixuy42uYwwQsNq4YjPA54rf+yv6r+dH2V/VfzovFJIOWWvmc9P4P0W5vp7uW2l825lE1wEupUSdgFA8xAwVxhQNrAjrxyc2p9B026llknttzzTw3DnzGGZIiDGeD2Kjjocc5rX+yv6r+dH2V/Vfzo5l9wcsjAXwpoy6gL0W0hlWf7Sim4kMccpzl0jLbFJyckAZyc5zWhc6fa3l1aXFxFvls5DLA24jYxRkJ4PPysw59av8A2V/Vfzo+yv6r+dCklsHLJu5lvo1hJbSwPBmKW4F06725kDhw3X+8oOOnFQf8I3pn9qtqCxzpM0gldEu5VhdwB8zRBtjNwOSucgHqK2/sr+q/nR9lf1X86LxQcsjJXQ9OS2MC2+IjdfbCu9v9d5nmbuv97nHT2xSz6Lp9zO801vukeaKdjvYZeP7h69vToe9av2V/Vfzo+yv6r+dHNEHGT1ZkLoOmpcRTrbYkhupLuNvMbiV1ZWbr3DMMdOelRDwvpCi02WhQ2cbxQlJnUhH+8hIOWU9cNkZAPUCtz7K/qv50fZX9V/Oi8bWHyy3M1tJsm0Q6Q0ObE2/2Yxb2/wBXt27c5z04znNVX8M6XJqCXkkUzvGyMsTXUph3KAFYxbthYYGCVyCAeoBrc+yv6r+dH2V/Vfzp8yvfqLllaxh2Xh+20/U1uLbCQRpIIoME7JJZDJK+4kk7jjjtg+uA678N6VfLdi5tdxvJknlYSureYgUI6sCCjAKuCuOlbX2V/Vfzo+yv6r+dLmiPlne5hSeFtIl1A3jwSl2kErxC5lEMjjGHaLdsZuAdxUnIB6gVNNoGmT2mpW0ttuh1Ri14vmMPNJRUPOcj5VUcY6Vr/ZX9V/Oj7K/qv50KSWwuWRlPomnyalJfvCxmlg+zyjzX8uVOcB487G6nkgnmqcXhDRotPubHyrqW2uYDbvHcX08wEZGCqb3OwdPu46D0FdD9lf1X86Psr+q/nRzJahyyKDadatqcOoNFm6hheCOTceEYqWGM45KLz14rNv8AR7jVPElhc3cdstjprmaEh2aWWQrtGRgBVXOerZIU/Ljnofsr+q/nR9lf1X86OZaahyS7GBdeE9Gvb6W7ubV3klkSWRBcSCNpE27XMYbZvG1fmxngDNWZND06azvrWS3zDqDmS5Xe37xiACc5yOFHTHStb7K/qv50fZX9V/Ojmig5ZM4XxB4Pn1y/vIhp9nBaXgCzXI1KclxtALtahBE0gAwGZiRhT/CBXV3+nWuqabNp9/CJrWdDHLGSQGX045q/9lf1X86Psr+q/nRzK1h8sjCi8LaRFHdIbZ5ku4jDKtzcSTDyz1Rd7HYvP3VwOnHApkfhDRY4bmM200v2uEQTvPdSyySRgkhS7MW4JOOeM10H2V/Vfzo+yv6r+dHNEXLIydQs3WU6hptrBPqaQmCL7RO0SbCwJBIVvQH7pPGOM1R0/wAJWNt4UttEul8xIiJGkgZ4CJd27chVtyc9MNkDjNdJ9lf1X86Psr+q/nReIcsuxh2vhjSLNQsFqwxdC7LNM7s0wQJvLFiScAZz1PJyeatafpVnpSzrp8RhSeVpnQOxUO3JKqThcnkhcDJJ6mtL7K/qv50fZX9V/OjmX9f15ByyJbX/AFR/3qmqOGMxoQ2OueKkrGW50R0QUUUUigooooAKKKKACiiigAooooAKKKKACiiigAooooAKKKKACiiigAooooAKKKKACiiigAooooAKKKKACiiigAooooAKKKKACiiigAooooAKKKKACiiigAooooAKKKKACiiigAooooAKKKKACiiigAooooAKKKKACiiigAooooAKKKKACiiigAooooAKKKKACiiigD//2Q==)"
      ],
      "metadata": {
        "id": "v8mgj77YvEkr"
      }
    },
    {
      "cell_type": "code",
      "execution_count": 1,
      "metadata": {
        "colab": {
          "base_uri": "https://localhost:8080/"
        },
        "id": "4t1HITlruj-u",
        "outputId": "64eeb162-8913-46d0-e270-638087301d5f"
      },
      "outputs": [
        {
          "output_type": "stream",
          "name": "stdout",
          "text": [
            "Ini adalah code untuk sebuah proses untuk mengeluarkan sebuah text\n"
          ]
        }
      ],
      "source": [
        "# Single line merupakan komentar yang diawali dengan tanda pagar (#)\n",
        "# Single line merupakan komentar yang paling awam digunakan\n",
        "# Biasanya digunakan untuk menjelaskan sebuah proses\n",
        "\n",
        "print(\"Ini adalah code untuk sebuah proses untuk mengeluarkan sebuah text\")"
      ]
    },
    {
      "cell_type": "markdown",
      "source": [
        "**Contoh**"
      ],
      "metadata": {
        "id": "NLtnXqwsxElK"
      }
    },
    {
      "cell_type": "code",
      "source": [
        "# Baris ini untuk mencari profit dari produk, dengan cara revenue dikurangi modal\n",
        "profit = revenue - modal\n",
        "\n",
        "# Selanjutnya tampilkan nilai profit yang didapat\n",
        "print(profit)"
      ],
      "metadata": {
        "id": "jNaJ7mOHxLM-"
      },
      "execution_count": null,
      "outputs": []
    },
    {
      "cell_type": "markdown",
      "source": [
        "Sekarang teman - teman bisa coba kasih comment agar untuk mempermudah maksud dari code di bawah ini:"
      ],
      "metadata": {
        "id": "a_OXNCoqxOy8"
      }
    },
    {
      "cell_type": "code",
      "source": [
        "# Masukkan comment di titik - titik di bawah ini\n",
        "\n",
        "# Baris ini menyatakan tanggal kelahiran Bung Karno\n",
        "print(\"Bung Karno lahir pada 6 Juni 1901\")"
      ],
      "metadata": {
        "id": "b9ruub44xPqT"
      },
      "execution_count": null,
      "outputs": []
    },
    {
      "cell_type": "markdown",
      "source": [
        "**Exercise**"
      ],
      "metadata": {
        "id": "tqvUC258xZlY"
      }
    },
    {
      "cell_type": "markdown",
      "source": [
        "Berilah comment pada code di bawah ini!"
      ],
      "metadata": {
        "id": "Rlbf1rOvxbhY"
      }
    },
    {
      "cell_type": "code",
      "source": [
        "# Masukkan comment di titik - titik di bawah ini\n",
        "\n",
        "# Baris ini menyatakan tanggal hari ini\n",
        "print(\"Hari ini tanggal 24 September 2022\")"
      ],
      "metadata": {
        "id": "h2h60xhUxa00"
      },
      "execution_count": null,
      "outputs": []
    },
    {
      "cell_type": "markdown",
      "source": [
        "**Inline Comment**"
      ],
      "metadata": {
        "id": "6hnksDsgxmBQ"
      }
    },
    {
      "cell_type": "code",
      "source": [
        "# ini adalah komentar single line\n",
        "\n",
        "print ('Hello World!') # Komentar ini juga diawali dengan tanda pagar (#)\n",
        "print ('Hello World!') # Digunakan di dalam satu baris yang sama dengan perintahnya"
      ],
      "metadata": {
        "id": "Nj21HBiOxpC9"
      },
      "execution_count": null,
      "outputs": []
    },
    {
      "cell_type": "markdown",
      "source": [
        "**Contoh**"
      ],
      "metadata": {
        "id": "rv9Zbf3nxq14"
      }
    },
    {
      "cell_type": "markdown",
      "source": [
        "Semisal kita ingin membuat code untuk menghitung luas dari bangun ruang Persegi. Pertama, kita memasukkan nilai sisi persegi 5 ke dalam variabel sisi_persegi. Untuk mencari luas persegi adalah dengan cara luas_persegi = sisi_persegi * sisi_persegi."
      ],
      "metadata": {
        "id": "zFA-0F1yxuJR"
      }
    },
    {
      "cell_type": "markdown",
      "source": [
        "\n",
        "\n",
        "*   Good: (menggunakan inline)\n",
        "        *   luas_persegi = sisi_persegi * sisi_persegi # Mencari luas persegi\n",
        "\n",
        "\n",
        "\n",
        "*   Bad: (komentar terlalu panjang dan deskriptif)\n",
        "        *   luas_persegi = sisi_persegi * sisi_persegi # Ini adalah baris yang digunakan untuk mencari luas persegi sebagai hasil perkalian sisi persegi dengan sisi persegi\n"
      ],
      "metadata": {
        "id": "zTcueYnLxwLE"
      }
    },
    {
      "cell_type": "markdown",
      "source": [
        "Coba berikan inline comment, terhadap code di bawah ini!"
      ],
      "metadata": {
        "id": "nKq4XLyzyNgi"
      }
    },
    {
      "cell_type": "code",
      "source": [
        "# Coba berikan comment untuk titik - titik di bawah ini\n",
        "\n",
        "sisi_persegi = 5 # Variabel yang menyatakan sisi persegi\n",
        "luas_persegi = sisi_persegi * sisi_persegi # Mencari luas persegi"
      ],
      "metadata": {
        "id": "5IN7yeF-xsES"
      },
      "execution_count": null,
      "outputs": []
    },
    {
      "cell_type": "markdown",
      "source": [
        "**Exercise**"
      ],
      "metadata": {
        "id": "g-UauTviybYd"
      }
    },
    {
      "cell_type": "markdown",
      "source": [
        "\n",
        "\n",
        "*   tinggi_segitiga = 5 cm\n",
        "*   print(tinggi_segitiga)\n",
        "\n",
        "Berilah komentar pada code di atas menggunakan inline comment!"
      ],
      "metadata": {
        "id": "37lEKfQWyeKY"
      }
    },
    {
      "cell_type": "code",
      "source": [
        "tinggi_segitiga = 5 cm # Variabel yang menyatakan tinggi segitiga\n",
        "print(tinggi_segitiga) # Print hasil tinggi_segitiga"
      ],
      "metadata": {
        "id": "fQQJIdgEyjCw"
      },
      "execution_count": null,
      "outputs": []
    },
    {
      "cell_type": "markdown",
      "source": [
        "**Multi Line Comment**"
      ],
      "metadata": {
        "id": "zadgwIuky1ls"
      }
    },
    {
      "cell_type": "code",
      "source": [
        "\"\"\"\n",
        "Multi line merupakan komentar yang biasanya digunakan\n",
        "apabila memiliki isi/konten yang banyak.\n",
        "Komentar ini ditandai dengan 3 kutip diawal dan diakhir,\n",
        "3 kutip ini dapat berupa kutip tunggal maupun kutip ganda.\n",
        "\"\"\""
      ],
      "metadata": {
        "id": "P_UvF_Vmy3Rf"
      },
      "execution_count": null,
      "outputs": []
    },
    {
      "cell_type": "markdown",
      "source": [
        "**Contoh**"
      ],
      "metadata": {
        "id": "Ppmn0VCCzLr0"
      }
    },
    {
      "cell_type": "markdown",
      "source": [
        "Perhatikan 2 potongan program di bawah ini!\n",
        "\n",
        "Manakah yang lebih mudah dimengerti atau dipahami?"
      ],
      "metadata": {
        "id": "tUFb5D8dzM4f"
      }
    },
    {
      "cell_type": "code",
      "source": [
        "import pandas as pd\n",
        "from sklearn import model_selection\n",
        "\n",
        "df = pd.read_csv(\"train.csv\")\n",
        "df[\"kfold\"] = -1\n",
        "df = df.sample(frac=1).reset_index(drop=True)\n",
        "kf = model_selection.KFold(n_splits=5)\n",
        "\n",
        "\n",
        "for fold, (trn_, val_) in enumerate(kf.split(X=df)):\n",
        "    df.loc[val_, 'kfold'] = fold\n",
        "\n",
        "df.to_csv(\"train_folds.csv\", index=False)"
      ],
      "metadata": {
        "id": "PWhvNXvfzOb4"
      },
      "execution_count": null,
      "outputs": []
    },
    {
      "cell_type": "code",
      "source": [
        "# import pandas and model_selection module of scikit-learn\n",
        "import pandas as pd\n",
        "from sklearn import model_selection\n",
        "\n",
        "# Training data is in a CSV file called train.csv\n",
        "df = pd.read_csv(\"train.csv\")\n",
        "\n",
        "# we create a new column called kfold and fill it with -1\n",
        "df[\"kfold\"] = -1\n",
        "\n",
        "# the next step is to randomize the rows of the data\n",
        "df = df.sample(frac=1).reset_index(drop=True)\n",
        "\n",
        "# initiate the kfold class from model_selection module\n",
        "kf = model_selection.KFold(n_splits=5)\n",
        "\n",
        "# fill the new kfold column\n",
        "for fold, (trn_, val_) in enumerate(kf.split(X=df)):\n",
        "    df.loc[val_, 'kfold'] = fold\n",
        "\n",
        "# save the new csv with kfold column\n",
        "df.to_csv(\"train_folds.csv\", index=False)"
      ],
      "metadata": {
        "id": "EPLStcdYzP5n"
      },
      "execution_count": null,
      "outputs": []
    }
  ]
}