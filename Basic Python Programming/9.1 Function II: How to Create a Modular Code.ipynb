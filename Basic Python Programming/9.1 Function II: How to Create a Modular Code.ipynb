{
  "nbformat": 4,
  "nbformat_minor": 0,
  "metadata": {
    "colab": {
      "provenance": [],
      "authorship_tag": "ABX9TyMEtaUYXwMYrMMf7rUSmRwl",
      "include_colab_link": true
    },
    "kernelspec": {
      "name": "python3",
      "display_name": "Python 3"
    },
    "language_info": {
      "name": "python"
    }
  },
  "cells": [
    {
      "cell_type": "markdown",
      "metadata": {
        "id": "view-in-github",
        "colab_type": "text"
      },
      "source": [
        "<a href=\"https://colab.research.google.com/github/suryoadig12/PACMANN_SKILL100/blob/main/Basic%20Python%20Programming/9.1%20Function%20II%3A%20How%20to%20Create%20a%20Modular%20Code.ipynb\" target=\"_parent\"><img src=\"https://colab.research.google.com/assets/colab-badge.svg\" alt=\"Open In Colab\"/></a>"
      ]
    },
    {
      "cell_type": "markdown",
      "source": [
        "# **How to Create a Modular Code**"
      ],
      "metadata": {
        "id": "LseRUQvPj6GB"
      }
    },
    {
      "cell_type": "markdown",
      "source": [
        "\n",
        "\n",
        "*   Untuk membuat modul script di Python, kita bisa menggunakan Notebook atau IDE.\n",
        "\n",
        "*   Terdapat dua file yang harus dibuat:\n",
        "\n",
        "  *   `main.py` - file utama yang akan kita jalankan.\n",
        "  *   `modul.py` - file modul, bagian-bagian kode program yang dijadikan modul.\n",
        "\n",
        "\n",
        "*   Untuk dapat digunakan, file modul diimpor kedalam file utama dan dijalankan dari file utama.\n",
        "\n",
        "*   `modul.py` atau file modul boleh lebih dari satu, tergantung kebutuhan.\n",
        "\n",
        "*   `main.py` atau file utama hanya satu file saja. Karena berfungsi sebagai file yang menjalankan modul yang diimpor.\n",
        "*   Penamaan file bebas dengan diakhiri ekstensi `.py`.\n",
        "\n",
        "\n"
      ],
      "metadata": {
        "id": "PH4L0Tpjj_Kr"
      }
    },
    {
      "cell_type": "markdown",
      "source": [
        "Sebagai contoh, kita ingin membuat modul yang berisi perhitungan konversi hari, jam, dan menit. Maka program dibagi menjadi beberapa file sebagai berikut:\n",
        "\n",
        "\n",
        "\n",
        "*   `main.py` merupakan file yang akan menjalankan modul yang telah dibuat di command line.\n",
        "\n",
        "*   `konversi_hari.py` merupakan file yang berisi perhitungan konversi hari.\n",
        "*   `konversi_jam.py` merupakan file yang berisi perhitungan konversi jam.\n",
        "\n",
        "*   `konversi_menit.py` merupakan file yang berisi perhitungan konversi menit.\n",
        "\n",
        "\n",
        "Untuk lebih jelasnya mari kita buat salah satu modul, yaitu modul `konversi_hari.py`."
      ],
      "metadata": {
        "id": "55-UVKpFkX6w"
      }
    },
    {
      "cell_type": "markdown",
      "source": [
        "![eorwosfdl.JPG](data:image/jpeg;base64,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)"
      ],
      "metadata": {
        "id": "NsEeAdQokxYB"
      }
    },
    {
      "cell_type": "code",
      "execution_count": 1,
      "metadata": {
        "id": "Ey9M10NFhPqu"
      },
      "outputs": [],
      "source": [
        "# Membuat modul\n",
        "# Modul konversi_hari.py\n",
        "\n",
        "def jam(hari):\n",
        "    print(f\"Konversi {hari} hari ke jam: {hari*24} jam\")\n",
        "\n",
        "def menit(hari):\n",
        "    print(f\"Konversi {hari} hari ke menit: {hari*1440} menit\")\n",
        "\n",
        "def detik(hari):\n",
        "    print(f\"Konversi {hari} hari ke detik: {hari*86400} detik\")"
      ]
    },
    {
      "cell_type": "code",
      "source": [
        "# Coba function yang sudah dibuat di Notebook\n",
        "\n",
        "jam(1)\n",
        "menit(1)\n",
        "detik(1)"
      ],
      "metadata": {
        "colab": {
          "base_uri": "https://localhost:8080/"
        },
        "id": "HvqeaiyHk5V_",
        "outputId": "18042f98-b9c1-4502-d718-b7727d877254"
      },
      "execution_count": 2,
      "outputs": [
        {
          "output_type": "stream",
          "name": "stdout",
          "text": [
            "Konversi 1 hari ke jam: 24 jam\n",
            "Konversi 1 hari ke menit: 1440 menit\n",
            "Konversi 1 hari ke detik: 86400 detik\n"
          ]
        }
      ]
    },
    {
      "cell_type": "markdown",
      "source": [
        "\n",
        "\n",
        "*   Kita telah membuat 3 fungsi berbeda yang mengonversi hari kedalam bentuk jam, menit, dan detik ke dalam 1 modul.\n",
        "\n",
        "*   Modul disimpan kedalam bentuk file dengan nama **konversi_hari.py**.\n",
        "*   Selain fungsi, modul juga dapat berisi variabel seperti dictionary, list, set, dsb.\n",
        "\n"
      ],
      "metadata": {
        "id": "59DKkAgik725"
      }
    },
    {
      "cell_type": "markdown",
      "source": [
        "\n",
        "\n",
        "*   Setelah membuat modul `konversi_hari`, buatlah modul baru dengan nama `konversi_jam` yang disimpan dalam ekstensi `.py`.\n",
        "*   Modul berisi 3 fungsi ➡ konversi jam ke hari, konversi jam ke menit, dan konversi jam ke detik.\n",
        "\n"
      ],
      "metadata": {
        "id": "YscuE7LflDNu"
      }
    },
    {
      "cell_type": "code",
      "source": [
        "# Membuat modul\n",
        "# Modul konversi_jam.py\n",
        "\n",
        "# Fungsi konversi jam ke hari\n",
        "def hari(jam):\n",
        "    print(f\"Konversi {jam} jam ke hari: {jam/24} hari\")\n",
        "\n",
        "# Fungsi konversi jam ke menit\n",
        "def menit(jam):\n",
        "    print(f\"Konversi {jam} jam ke menit: {jam*60} menit\")\n",
        "\n",
        "# Fungsi konversi jam ke detik\n",
        "def detik(jam):\n",
        "    print(f\"Konversi {jam} jam ke detik: {jam*3600} detik\")\n",
        "\n",
        "# Jalankan function yang sudah dibuat di Notebook\n",
        "hari(1)\n",
        "menit(1)\n",
        "detik(1)"
      ],
      "metadata": {
        "colab": {
          "base_uri": "https://localhost:8080/"
        },
        "id": "IbZXBYIclOK0",
        "outputId": "29dcf72f-1f50-44e2-d1c4-9d8ba84b4b06"
      },
      "execution_count": 3,
      "outputs": [
        {
          "output_type": "stream",
          "name": "stdout",
          "text": [
            "Konversi 1 jam ke hari: 0.041666666666666664 hari\n",
            "Konversi 1 jam ke menit: 60 menit\n",
            "Konversi 1 jam ke detik: 3600 detik\n"
          ]
        }
      ]
    },
    {
      "cell_type": "markdown",
      "source": [
        "**Mini Exercise**"
      ],
      "metadata": {
        "id": "DJPdZBe6mNUq"
      }
    },
    {
      "cell_type": "markdown",
      "source": [
        "\n",
        "\n",
        "*   Bank memerlukan program yang dapat menghitung bunga berdasarkan saldo terendah dan bunga anuitas.\n",
        "\n",
        "*   Buatlah 2 fungsi di Notebook yang berisi:\n",
        "  *   **bunga_terendah**: Menghitung bunga tabungan per bulan berdasarkan saldo terendah. **Rumus** ➡ Bunga Tabungan = Saldo x (bunga x 30 hari) / 365 hari\n",
        "  *   **bunga_anuitas**: Menghitung biaya cicilan setiap bulan. **Rumus** ➡ Sisa pinjaman bulan sebelumnya x bunga x 30 hari\n",
        "\n",
        "*   Setelah membuatnya di Notebook, buatlah atau pindahkan function tersebut ke dalam modul baru dengan nama **bunga_bank.py**.\n",
        "\n"
      ],
      "metadata": {
        "id": "BeQcb_GzmPsd"
      }
    },
    {
      "cell_type": "code",
      "source": [
        "# Membuat modul bunga_bank\n",
        "\n",
        "# Fungsi bunga terendah\n",
        "def bunga_terendah(saldo, bunga):\n",
        "    hari = 30\n",
        "    tahun = 365\n",
        "    rumus_bunga_terendah = saldo*(bunga*hari)/tahun\n",
        "    return rumus_bunga_terendah\n",
        "\n",
        "# Fungsi bunga anuitas\n",
        "def bunga_anuitas(pinjaman, bunga):\n",
        "    hari = 30\n",
        "    rumus_bunga_anuitas = pinjaman*bunga*hari\n",
        "    return rumus_bunga_anuitas"
      ],
      "metadata": {
        "id": "-GqV7p3_mOiR"
      },
      "execution_count": 11,
      "outputs": []
    }
  ]
}