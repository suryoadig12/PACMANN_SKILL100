{
  "nbformat": 4,
  "nbformat_minor": 0,
  "metadata": {
    "colab": {
      "provenance": [],
      "authorship_tag": "ABX9TyM8CeWeEsN4vVXqnazb+D/E",
      "include_colab_link": true
    },
    "kernelspec": {
      "name": "python3",
      "display_name": "Python 3"
    },
    "language_info": {
      "name": "python"
    }
  },
  "cells": [
    {
      "cell_type": "markdown",
      "metadata": {
        "id": "view-in-github",
        "colab_type": "text"
      },
      "source": [
        "<a href=\"https://colab.research.google.com/github/suryoadig12/PACMANN_SKILL100/blob/main/Basic%20Python%20Programming/7.1%20Looping%3A%20For%20Loop%20I.ipynb\" target=\"_parent\"><img src=\"https://colab.research.google.com/assets/colab-badge.svg\" alt=\"Open In Colab\"/></a>"
      ]
    },
    {
      "cell_type": "markdown",
      "source": [
        "# **For Loop**"
      ],
      "metadata": {
        "id": "7gAh_1KK0o40"
      }
    },
    {
      "cell_type": "markdown",
      "source": [
        "Biasanya jika kita ingin mencetak sesuatu kita menggunakan keyword print. Namun ini akan menjadi tidak efisien jika kita print kata yang berulang kali. Misalnya seperti print 10 bilangan awal secara berurutan. Jadi kode yang kita pakai\n",
        "\n",
        "      print(1)\n",
        "      print(2)\n",
        "      print(3)\n",
        "      ...\n",
        "      print(10)\n",
        "\n",
        "Bagaimana jika ingin print 50 atau 100 lagi? Pasti akan capek dan hal ini tidak efisien. Kita bisa otomatisasi print hal yang berulang tersebut dengan `for` loop."
      ],
      "metadata": {
        "id": "Ed4xfNGp0th3"
      }
    },
    {
      "cell_type": "markdown",
      "source": [
        "Struktur perulangan `for` adalah sebagai berikut:\n",
        "\n",
        "    for iterator_variable in sequence_name:\n",
        "        Statements\n",
        "        . . .\n",
        "        Statements"
      ],
      "metadata": {
        "id": "dH22faxg0-CE"
      }
    },
    {
      "cell_type": "markdown",
      "source": [
        "\n",
        "\n",
        "*   Keyword `for` menandakan awal dari `for` loop.\n",
        "\n",
        "*   `iterator_variabel` adalah variabel yang kita gunakan untuk menyimpan nilai pada saat kita melakukan for loop.\n",
        "*   keyword `in` memberi tahu variabel iterator untuk mengulang elemen dalam urutan\n",
        "\n",
        "\n",
        "*   `sequence_name` adalah tipe data yang memiliki urutan, seperti list, set, tuple, dictionary dll.\n",
        "\n"
      ],
      "metadata": {
        "id": "h7K-p5tS1HT7"
      }
    },
    {
      "cell_type": "markdown",
      "source": [
        "**For Looping in a Number**"
      ],
      "metadata": {
        "id": "B8vZkm0X1VNk"
      }
    },
    {
      "cell_type": "markdown",
      "source": [
        "Jika kita ingin mencetak kalimat beberapa kali kita bisa menggunakan angka sebagai penanda.\n",
        "\n",
        "Contohnya kita akan mencetak kalimat \"Hello World\" sebanyak lima kali"
      ],
      "metadata": {
        "id": "jsparO9F1bjP"
      }
    },
    {
      "cell_type": "code",
      "execution_count": 1,
      "metadata": {
        "colab": {
          "base_uri": "https://localhost:8080/"
        },
        "id": "V2s_vYmq0j6H",
        "outputId": "f21ba820-5b83-49bd-dd96-9c83ea06ad27"
      },
      "outputs": [
        {
          "output_type": "stream",
          "name": "stdout",
          "text": [
            "Hello World\n",
            "Hello World\n",
            "Hello World\n",
            "Hello World\n",
            "Hello World\n"
          ]
        }
      ],
      "source": [
        "# Coba jalankan code dibawah\n",
        "\n",
        "for angka in 0,1,2,3,4:\n",
        "    print('Hello World')"
      ]
    },
    {
      "cell_type": "code",
      "source": [
        "# Kita juga bisa mencetak angka yang digunakan sebagai penanda\n",
        "\n",
        "for angka in 0,1,2,3,4:\n",
        "    print(f'Hello World ke-{angka}')"
      ],
      "metadata": {
        "colab": {
          "base_uri": "https://localhost:8080/"
        },
        "id": "tGK228Un1wOt",
        "outputId": "e02017f1-15d8-4389-91e9-f7905078bdf6"
      },
      "execution_count": 2,
      "outputs": [
        {
          "output_type": "stream",
          "name": "stdout",
          "text": [
            "Hello World ke-0\n",
            "Hello World ke-1\n",
            "Hello World ke-2\n",
            "Hello World ke-3\n",
            "Hello World ke-4\n"
          ]
        }
      ]
    },
    {
      "cell_type": "markdown",
      "source": [
        "Perhatikan penulisan kelompok angka `(0,1,2,3,4)` di atas. Jika kita ingin melakukan perulangan dengan jumlah yang kecil maka masih memungkinkan. Bagaimana jika kita akan melakukan 100 atau bahkan 1.000 perulangan? Cara tersebut tentu tidak efektif.\n",
        "\n",
        "Untuk mengatasi hal tersebut, kita bisa menggunakan `range()`.\n",
        "\n",
        "`range()` akan membuat **kumpulan angka** secara otomatis sesuai yang kita inginkan. Cara penggunaanya adalah `range(begin, end, step)`.\n",
        "\n",
        "\n",
        "\n",
        "*   `begin` adalah angka pertama di dalam range, secara default adalah `0`.\n",
        "\n",
        "*   `end` adalah angka 1 step setelah angka terakhir, tidak memiliki default.\n",
        "*   `step` adalah besar dari kenaikan atau penurunan, secara default adalah `1`.\n",
        "\n",
        "\n",
        "Jika kita hanya memberikan satu nilai pada `range` berarti yang didefinisikan adalah angka untuk parameter `end`."
      ],
      "metadata": {
        "id": "d8BYFR4a10k4"
      }
    },
    {
      "cell_type": "code",
      "source": [
        "# Coba jalankan code dibawah\n",
        "\n",
        "for angka in range(5):\n",
        "    print(angka)"
      ],
      "metadata": {
        "colab": {
          "base_uri": "https://localhost:8080/"
        },
        "id": "a9yn6EFB2eFk",
        "outputId": "9c0fb7c9-d5d7-4079-a61d-bac9170c4f8f"
      },
      "execution_count": 3,
      "outputs": [
        {
          "output_type": "stream",
          "name": "stdout",
          "text": [
            "0\n",
            "1\n",
            "2\n",
            "3\n",
            "4\n"
          ]
        }
      ]
    },
    {
      "cell_type": "markdown",
      "source": [
        "Jika kita definisikan dua angka pada `range()` berarti yang didefinisikan adalah angka untuk parameter `begin` dan `end`.\n",
        "\n",
        "Cara ini bisa digunakan untuk membuat deret angka tertentu yang kita inginkan. Misalnya dari 100 sampai 200 atau 50 sampai 100"
      ],
      "metadata": {
        "id": "egxXzTHa2imK"
      }
    },
    {
      "cell_type": "code",
      "source": [
        "# Kita akan print angka 5 sampai 10\n",
        "\n",
        "for angka in range(5,11):\n",
        "    print(angka)"
      ],
      "metadata": {
        "colab": {
          "base_uri": "https://localhost:8080/"
        },
        "id": "f83TIPmT2rOx",
        "outputId": "b36c212c-2eaf-47ad-b637-aa24962bdac6"
      },
      "execution_count": 4,
      "outputs": [
        {
          "output_type": "stream",
          "name": "stdout",
          "text": [
            "5\n",
            "6\n",
            "7\n",
            "8\n",
            "9\n",
            "10\n"
          ]
        }
      ]
    },
    {
      "cell_type": "code",
      "source": [
        "# Coba print angka 10 sampai 20 dengan method range()\n",
        "\n",
        "for angka in range(10, 21):\n",
        "    print(angka)"
      ],
      "metadata": {
        "colab": {
          "base_uri": "https://localhost:8080/"
        },
        "id": "Drmbh7Ul2vgI",
        "outputId": "5ddb30d2-3cba-446a-a627-32c1639d7424"
      },
      "execution_count": 5,
      "outputs": [
        {
          "output_type": "stream",
          "name": "stdout",
          "text": [
            "10\n",
            "11\n",
            "12\n",
            "13\n",
            "14\n",
            "15\n",
            "16\n",
            "17\n",
            "18\n",
            "19\n",
            "20\n"
          ]
        }
      ]
    },
    {
      "cell_type": "markdown",
      "source": [
        "Bagaimana kalo kita hanya ingin mencari angka genapnya saja? Semisal kita ingin mencari ID pelanggan yang bernomor genap.\n",
        "\n",
        "Kita bisa mendefinisikan tiga parameter angka pada `range()`.\n",
        "\n",
        "\n",
        "\n",
        "*   Angka yang pertama untuk parameter `begin` sebagai awal kita mulai dari angka berapa.\n",
        "\n",
        "*   kedua untuk parameter `end` atau angka akan berakhir dimana.\n",
        "*   dan ketiga untuk parameter `step` atau berapa jarak antar angka pada deret yang kita inginkan.\n",
        "\n"
      ],
      "metadata": {
        "id": "_QZgpkLx22cG"
      }
    },
    {
      "cell_type": "code",
      "source": [
        "# Coba jalankan kode dibawah\n",
        "# Kita akan print angka genap dari 1 sampai 10\n",
        "\n",
        "for angka in range(0, 10, 2):\n",
        "    print(angka)"
      ],
      "metadata": {
        "colab": {
          "base_uri": "https://localhost:8080/"
        },
        "id": "ztUjaptj22F6",
        "outputId": "930e0fe1-e70f-4d77-9686-e4545f5fd4e9"
      },
      "execution_count": 6,
      "outputs": [
        {
          "output_type": "stream",
          "name": "stdout",
          "text": [
            "0\n",
            "2\n",
            "4\n",
            "6\n",
            "8\n"
          ]
        }
      ]
    },
    {
      "cell_type": "markdown",
      "source": [
        "Apakah bisa jika kita ingin membuat deret angka dari **besar ke kecil**? Bisa. Caranya dengan membuat parameter `step` bernilai **negatif**."
      ],
      "metadata": {
        "id": "yttxFosr3UBg"
      }
    },
    {
      "cell_type": "code",
      "source": [
        "# Coba jalankan code dibawah\n",
        "# Deret angka akan bergerak dari angka 10 sampai 0 karena step memiliki indeks negatif\n",
        "\n",
        "for angka in range(10, 0, -1):\n",
        "    print(angka)"
      ],
      "metadata": {
        "colab": {
          "base_uri": "https://localhost:8080/"
        },
        "id": "pIAu8lyp3aIb",
        "outputId": "baa0f86f-2ad1-4e9d-e63f-abb5e7ba64b6"
      },
      "execution_count": 8,
      "outputs": [
        {
          "output_type": "stream",
          "name": "stdout",
          "text": [
            "10\n",
            "9\n",
            "8\n",
            "7\n",
            "6\n",
            "5\n",
            "4\n",
            "3\n",
            "2\n",
            "1\n"
          ]
        }
      ]
    },
    {
      "cell_type": "code",
      "source": [
        "# Coba buatlah for loop untuk mendapatkan bilangan ganjil dari 0 sampai 10\n",
        "\n",
        "for angka in range(1, 10, 2):\n",
        "  print(angka)"
      ],
      "metadata": {
        "colab": {
          "base_uri": "https://localhost:8080/"
        },
        "id": "LThQ7PNu3f-b",
        "outputId": "3e68b1a4-0456-49cf-8c1c-f2081a65a189"
      },
      "execution_count": 9,
      "outputs": [
        {
          "output_type": "stream",
          "name": "stdout",
          "text": [
            "1\n",
            "3\n",
            "5\n",
            "7\n",
            "9\n"
          ]
        }
      ]
    },
    {
      "cell_type": "markdown",
      "source": [
        "**Nested Loop**"
      ],
      "metadata": {
        "id": "5-udlqMb3qpu"
      }
    },
    {
      "cell_type": "markdown",
      "source": [
        "Sebuah `loop` juga bisa berada di dalam `loop` lainnya untuk mengejakan sebuah pekerjaan yang lebih kompleks.\n",
        "\n",
        "Kita ambil contoh dari sebuah tanggal. Pada tanggal ada hitungan hari, bulan dan tahun, Setiap satu tahun terdiri dari 12 bulan, dan setiap bulan terdiri dari 30 hari. Hal ini disebut dengan **nested loop**, atau perulangan yang berada pada perulangan lainnya."
      ],
      "metadata": {
        "id": "SwLAuXF33tTW"
      }
    },
    {
      "cell_type": "code",
      "source": [
        "# Coba jalankan code di bawah ini\n",
        "\n",
        "for bulan in range (1,13):\n",
        "    print(f'Bulan {bulan}')\n",
        "    for tanggal in range(1,31):\n",
        "        print(f'Tanggal {tanggal}')"
      ],
      "metadata": {
        "colab": {
          "base_uri": "https://localhost:8080/"
        },
        "id": "l4si5sqd3ymR",
        "outputId": "2960f614-9607-403a-978c-f82d4a25ab81"
      },
      "execution_count": 10,
      "outputs": [
        {
          "output_type": "stream",
          "name": "stdout",
          "text": [
            "Bulan 1\n",
            "Tanggal 1\n",
            "Tanggal 2\n",
            "Tanggal 3\n",
            "Tanggal 4\n",
            "Tanggal 5\n",
            "Tanggal 6\n",
            "Tanggal 7\n",
            "Tanggal 8\n",
            "Tanggal 9\n",
            "Tanggal 10\n",
            "Tanggal 11\n",
            "Tanggal 12\n",
            "Tanggal 13\n",
            "Tanggal 14\n",
            "Tanggal 15\n",
            "Tanggal 16\n",
            "Tanggal 17\n",
            "Tanggal 18\n",
            "Tanggal 19\n",
            "Tanggal 20\n",
            "Tanggal 21\n",
            "Tanggal 22\n",
            "Tanggal 23\n",
            "Tanggal 24\n",
            "Tanggal 25\n",
            "Tanggal 26\n",
            "Tanggal 27\n",
            "Tanggal 28\n",
            "Tanggal 29\n",
            "Tanggal 30\n",
            "Bulan 2\n",
            "Tanggal 1\n",
            "Tanggal 2\n",
            "Tanggal 3\n",
            "Tanggal 4\n",
            "Tanggal 5\n",
            "Tanggal 6\n",
            "Tanggal 7\n",
            "Tanggal 8\n",
            "Tanggal 9\n",
            "Tanggal 10\n",
            "Tanggal 11\n",
            "Tanggal 12\n",
            "Tanggal 13\n",
            "Tanggal 14\n",
            "Tanggal 15\n",
            "Tanggal 16\n",
            "Tanggal 17\n",
            "Tanggal 18\n",
            "Tanggal 19\n",
            "Tanggal 20\n",
            "Tanggal 21\n",
            "Tanggal 22\n",
            "Tanggal 23\n",
            "Tanggal 24\n",
            "Tanggal 25\n",
            "Tanggal 26\n",
            "Tanggal 27\n",
            "Tanggal 28\n",
            "Tanggal 29\n",
            "Tanggal 30\n",
            "Bulan 3\n",
            "Tanggal 1\n",
            "Tanggal 2\n",
            "Tanggal 3\n",
            "Tanggal 4\n",
            "Tanggal 5\n",
            "Tanggal 6\n",
            "Tanggal 7\n",
            "Tanggal 8\n",
            "Tanggal 9\n",
            "Tanggal 10\n",
            "Tanggal 11\n",
            "Tanggal 12\n",
            "Tanggal 13\n",
            "Tanggal 14\n",
            "Tanggal 15\n",
            "Tanggal 16\n",
            "Tanggal 17\n",
            "Tanggal 18\n",
            "Tanggal 19\n",
            "Tanggal 20\n",
            "Tanggal 21\n",
            "Tanggal 22\n",
            "Tanggal 23\n",
            "Tanggal 24\n",
            "Tanggal 25\n",
            "Tanggal 26\n",
            "Tanggal 27\n",
            "Tanggal 28\n",
            "Tanggal 29\n",
            "Tanggal 30\n",
            "Bulan 4\n",
            "Tanggal 1\n",
            "Tanggal 2\n",
            "Tanggal 3\n",
            "Tanggal 4\n",
            "Tanggal 5\n",
            "Tanggal 6\n",
            "Tanggal 7\n",
            "Tanggal 8\n",
            "Tanggal 9\n",
            "Tanggal 10\n",
            "Tanggal 11\n",
            "Tanggal 12\n",
            "Tanggal 13\n",
            "Tanggal 14\n",
            "Tanggal 15\n",
            "Tanggal 16\n",
            "Tanggal 17\n",
            "Tanggal 18\n",
            "Tanggal 19\n",
            "Tanggal 20\n",
            "Tanggal 21\n",
            "Tanggal 22\n",
            "Tanggal 23\n",
            "Tanggal 24\n",
            "Tanggal 25\n",
            "Tanggal 26\n",
            "Tanggal 27\n",
            "Tanggal 28\n",
            "Tanggal 29\n",
            "Tanggal 30\n",
            "Bulan 5\n",
            "Tanggal 1\n",
            "Tanggal 2\n",
            "Tanggal 3\n",
            "Tanggal 4\n",
            "Tanggal 5\n",
            "Tanggal 6\n",
            "Tanggal 7\n",
            "Tanggal 8\n",
            "Tanggal 9\n",
            "Tanggal 10\n",
            "Tanggal 11\n",
            "Tanggal 12\n",
            "Tanggal 13\n",
            "Tanggal 14\n",
            "Tanggal 15\n",
            "Tanggal 16\n",
            "Tanggal 17\n",
            "Tanggal 18\n",
            "Tanggal 19\n",
            "Tanggal 20\n",
            "Tanggal 21\n",
            "Tanggal 22\n",
            "Tanggal 23\n",
            "Tanggal 24\n",
            "Tanggal 25\n",
            "Tanggal 26\n",
            "Tanggal 27\n",
            "Tanggal 28\n",
            "Tanggal 29\n",
            "Tanggal 30\n",
            "Bulan 6\n",
            "Tanggal 1\n",
            "Tanggal 2\n",
            "Tanggal 3\n",
            "Tanggal 4\n",
            "Tanggal 5\n",
            "Tanggal 6\n",
            "Tanggal 7\n",
            "Tanggal 8\n",
            "Tanggal 9\n",
            "Tanggal 10\n",
            "Tanggal 11\n",
            "Tanggal 12\n",
            "Tanggal 13\n",
            "Tanggal 14\n",
            "Tanggal 15\n",
            "Tanggal 16\n",
            "Tanggal 17\n",
            "Tanggal 18\n",
            "Tanggal 19\n",
            "Tanggal 20\n",
            "Tanggal 21\n",
            "Tanggal 22\n",
            "Tanggal 23\n",
            "Tanggal 24\n",
            "Tanggal 25\n",
            "Tanggal 26\n",
            "Tanggal 27\n",
            "Tanggal 28\n",
            "Tanggal 29\n",
            "Tanggal 30\n",
            "Bulan 7\n",
            "Tanggal 1\n",
            "Tanggal 2\n",
            "Tanggal 3\n",
            "Tanggal 4\n",
            "Tanggal 5\n",
            "Tanggal 6\n",
            "Tanggal 7\n",
            "Tanggal 8\n",
            "Tanggal 9\n",
            "Tanggal 10\n",
            "Tanggal 11\n",
            "Tanggal 12\n",
            "Tanggal 13\n",
            "Tanggal 14\n",
            "Tanggal 15\n",
            "Tanggal 16\n",
            "Tanggal 17\n",
            "Tanggal 18\n",
            "Tanggal 19\n",
            "Tanggal 20\n",
            "Tanggal 21\n",
            "Tanggal 22\n",
            "Tanggal 23\n",
            "Tanggal 24\n",
            "Tanggal 25\n",
            "Tanggal 26\n",
            "Tanggal 27\n",
            "Tanggal 28\n",
            "Tanggal 29\n",
            "Tanggal 30\n",
            "Bulan 8\n",
            "Tanggal 1\n",
            "Tanggal 2\n",
            "Tanggal 3\n",
            "Tanggal 4\n",
            "Tanggal 5\n",
            "Tanggal 6\n",
            "Tanggal 7\n",
            "Tanggal 8\n",
            "Tanggal 9\n",
            "Tanggal 10\n",
            "Tanggal 11\n",
            "Tanggal 12\n",
            "Tanggal 13\n",
            "Tanggal 14\n",
            "Tanggal 15\n",
            "Tanggal 16\n",
            "Tanggal 17\n",
            "Tanggal 18\n",
            "Tanggal 19\n",
            "Tanggal 20\n",
            "Tanggal 21\n",
            "Tanggal 22\n",
            "Tanggal 23\n",
            "Tanggal 24\n",
            "Tanggal 25\n",
            "Tanggal 26\n",
            "Tanggal 27\n",
            "Tanggal 28\n",
            "Tanggal 29\n",
            "Tanggal 30\n",
            "Bulan 9\n",
            "Tanggal 1\n",
            "Tanggal 2\n",
            "Tanggal 3\n",
            "Tanggal 4\n",
            "Tanggal 5\n",
            "Tanggal 6\n",
            "Tanggal 7\n",
            "Tanggal 8\n",
            "Tanggal 9\n",
            "Tanggal 10\n",
            "Tanggal 11\n",
            "Tanggal 12\n",
            "Tanggal 13\n",
            "Tanggal 14\n",
            "Tanggal 15\n",
            "Tanggal 16\n",
            "Tanggal 17\n",
            "Tanggal 18\n",
            "Tanggal 19\n",
            "Tanggal 20\n",
            "Tanggal 21\n",
            "Tanggal 22\n",
            "Tanggal 23\n",
            "Tanggal 24\n",
            "Tanggal 25\n",
            "Tanggal 26\n",
            "Tanggal 27\n",
            "Tanggal 28\n",
            "Tanggal 29\n",
            "Tanggal 30\n",
            "Bulan 10\n",
            "Tanggal 1\n",
            "Tanggal 2\n",
            "Tanggal 3\n",
            "Tanggal 4\n",
            "Tanggal 5\n",
            "Tanggal 6\n",
            "Tanggal 7\n",
            "Tanggal 8\n",
            "Tanggal 9\n",
            "Tanggal 10\n",
            "Tanggal 11\n",
            "Tanggal 12\n",
            "Tanggal 13\n",
            "Tanggal 14\n",
            "Tanggal 15\n",
            "Tanggal 16\n",
            "Tanggal 17\n",
            "Tanggal 18\n",
            "Tanggal 19\n",
            "Tanggal 20\n",
            "Tanggal 21\n",
            "Tanggal 22\n",
            "Tanggal 23\n",
            "Tanggal 24\n",
            "Tanggal 25\n",
            "Tanggal 26\n",
            "Tanggal 27\n",
            "Tanggal 28\n",
            "Tanggal 29\n",
            "Tanggal 30\n",
            "Bulan 11\n",
            "Tanggal 1\n",
            "Tanggal 2\n",
            "Tanggal 3\n",
            "Tanggal 4\n",
            "Tanggal 5\n",
            "Tanggal 6\n",
            "Tanggal 7\n",
            "Tanggal 8\n",
            "Tanggal 9\n",
            "Tanggal 10\n",
            "Tanggal 11\n",
            "Tanggal 12\n",
            "Tanggal 13\n",
            "Tanggal 14\n",
            "Tanggal 15\n",
            "Tanggal 16\n",
            "Tanggal 17\n",
            "Tanggal 18\n",
            "Tanggal 19\n",
            "Tanggal 20\n",
            "Tanggal 21\n",
            "Tanggal 22\n",
            "Tanggal 23\n",
            "Tanggal 24\n",
            "Tanggal 25\n",
            "Tanggal 26\n",
            "Tanggal 27\n",
            "Tanggal 28\n",
            "Tanggal 29\n",
            "Tanggal 30\n",
            "Bulan 12\n",
            "Tanggal 1\n",
            "Tanggal 2\n",
            "Tanggal 3\n",
            "Tanggal 4\n",
            "Tanggal 5\n",
            "Tanggal 6\n",
            "Tanggal 7\n",
            "Tanggal 8\n",
            "Tanggal 9\n",
            "Tanggal 10\n",
            "Tanggal 11\n",
            "Tanggal 12\n",
            "Tanggal 13\n",
            "Tanggal 14\n",
            "Tanggal 15\n",
            "Tanggal 16\n",
            "Tanggal 17\n",
            "Tanggal 18\n",
            "Tanggal 19\n",
            "Tanggal 20\n",
            "Tanggal 21\n",
            "Tanggal 22\n",
            "Tanggal 23\n",
            "Tanggal 24\n",
            "Tanggal 25\n",
            "Tanggal 26\n",
            "Tanggal 27\n",
            "Tanggal 28\n",
            "Tanggal 29\n",
            "Tanggal 30\n"
          ]
        }
      ]
    },
    {
      "cell_type": "markdown",
      "source": [
        "Bisa dilihat pada **nested loop** di atas bahwa konsep dari nested loop adalah:\n",
        "\n",
        "\n",
        "\n",
        "*   Untuk satu kali iterasi dari loop yang luar.\n",
        "*   Loop yang di dalam akan menyelesaikan satu siklus.\n",
        "\n"
      ],
      "metadata": {
        "id": "oRHR_c0c4UzH"
      }
    },
    {
      "cell_type": "code",
      "source": [
        "# Coba jalankan code dibawah\n",
        "# Kita akan membuat tabel pertambahan dari 1 dan 2 dari angka 1 sampai 5\n",
        "\n",
        "for angka_1 in range (1,3):\n",
        "    for angka_2 in range (1,6):\n",
        "        pertambahan = angka_1 + angka_2\n",
        "        print(f'{angka_1} + {angka_2} = {pertambahan}')\n",
        "    print('---')"
      ],
      "metadata": {
        "colab": {
          "base_uri": "https://localhost:8080/"
        },
        "id": "lKUVvrRy4jf7",
        "outputId": "e1fe2a31-aecc-4c18-8218-d64e8e9875e8"
      },
      "execution_count": 11,
      "outputs": [
        {
          "output_type": "stream",
          "name": "stdout",
          "text": [
            "1 + 1 = 2\n",
            "1 + 2 = 3\n",
            "1 + 3 = 4\n",
            "1 + 4 = 5\n",
            "1 + 5 = 6\n",
            "---\n",
            "2 + 1 = 3\n",
            "2 + 2 = 4\n",
            "2 + 3 = 5\n",
            "2 + 4 = 6\n",
            "2 + 5 = 7\n",
            "---\n"
          ]
        }
      ]
    },
    {
      "cell_type": "code",
      "source": [
        "# Untuk latihan coba buat tabel perkalian dari 3 dan 4 dari angka 1 sampai 5\n",
        "\n",
        "for angka_1 in range(3,5):\n",
        "  for angka_2 in range(1,6):\n",
        "    hasil = angka_1*angka_2\n",
        "    print(f\"{angka_1} x {angka_2} = {hasil}\")\n",
        "  print(\"---\")"
      ],
      "metadata": {
        "colab": {
          "base_uri": "https://localhost:8080/"
        },
        "id": "rFV58pXy4tLn",
        "outputId": "d933b2d9-e011-49fd-bd51-c8c8a8d533ee"
      },
      "execution_count": 13,
      "outputs": [
        {
          "output_type": "stream",
          "name": "stdout",
          "text": [
            "3 x 1 = 3\n",
            "3 x 2 = 6\n",
            "3 x 3 = 9\n",
            "3 x 4 = 12\n",
            "3 x 5 = 15\n",
            "---\n",
            "4 x 1 = 4\n",
            "4 x 2 = 8\n",
            "4 x 3 = 12\n",
            "4 x 4 = 16\n",
            "4 x 5 = 20\n",
            "---\n"
          ]
        }
      ]
    },
    {
      "cell_type": "markdown",
      "source": [
        "**For Looping Over a Composite Data Structure**"
      ],
      "metadata": {
        "id": "oURc4ZqK5Wp7"
      }
    },
    {
      "cell_type": "markdown",
      "source": [
        "Bagaimana jika kita ingin melakukan perulangan pada sebuah **Composite Data Structure**?\n",
        "\n",
        "`Loop` juga bisa bekerja dalam Composite Data Structure karena `loop` membutuhkan sebuah sequence atau data yang memiliki urutan.\n",
        "\n",
        "Untuk mengakses element pada list, tuple, dan set dengan perulangan, caranya sama"
      ],
      "metadata": {
        "id": "LLYrJJEI5biy"
      }
    },
    {
      "cell_type": "code",
      "source": [
        "# Coba jalankan code di bawah ini\n",
        "# Ini adalah perulangan dengan list\n",
        "\n",
        "list_kota = ['Surabaya', 'Malang', 'Bandung']\n",
        "for kota in list_kota:\n",
        "    print(kota)"
      ],
      "metadata": {
        "colab": {
          "base_uri": "https://localhost:8080/"
        },
        "id": "vA89TA675g6I",
        "outputId": "9de6ea0b-10b0-418d-f1c8-a053c5c0cab6"
      },
      "execution_count": 14,
      "outputs": [
        {
          "output_type": "stream",
          "name": "stdout",
          "text": [
            "Surabaya\n",
            "Malang\n",
            "Bandung\n"
          ]
        }
      ]
    },
    {
      "cell_type": "code",
      "source": [
        "# Coba jalankan code di bawah ini\n",
        "# Ini adalah perulangan dengan tuple\n",
        "\n",
        "tuple_kota = ('Surabaya', 'Malang', 'Bandung')\n",
        "for kota in tuple_kota:\n",
        "    print(kota)"
      ],
      "metadata": {
        "colab": {
          "base_uri": "https://localhost:8080/"
        },
        "id": "llg0B7Xv5mQz",
        "outputId": "861f3c1a-b395-474c-f917-bded460b5886"
      },
      "execution_count": 15,
      "outputs": [
        {
          "output_type": "stream",
          "name": "stdout",
          "text": [
            "Surabaya\n",
            "Malang\n",
            "Bandung\n"
          ]
        }
      ]
    },
    {
      "cell_type": "markdown",
      "source": [
        "Perbedaanya hanya ada pada `set`, karena `set` tidak menyimpan datanya sesuai urutan pada saat kita membuatnya."
      ],
      "metadata": {
        "id": "MgunPQzi5uJu"
      }
    },
    {
      "cell_type": "code",
      "source": [
        "# Coba jalankan code di bawah ini\n",
        "# Ini adalah perulangan dengan set\n",
        "\n",
        "set_kota = {'Surabaya', 'Malang', 'Bandung', 'Jakarta', 'Yogyakarta'}\n",
        "for kota in set_kota:\n",
        "    print(kota)"
      ],
      "metadata": {
        "colab": {
          "base_uri": "https://localhost:8080/"
        },
        "id": "DQNBwrC95xQd",
        "outputId": "0ac33292-0f98-442d-bf92-70eb88ee8224"
      },
      "execution_count": 17,
      "outputs": [
        {
          "output_type": "stream",
          "name": "stdout",
          "text": [
            "Jakarta\n",
            "Surabaya\n",
            "Malang\n",
            "Yogyakarta\n",
            "Bandung\n"
          ]
        }
      ]
    },
    {
      "cell_type": "markdown",
      "source": [
        "Untuk looping pada `dictionary` memerlukan perlakuan khusus, karena di dalam dictionary memiliki key-value.\n",
        "\n",
        "Jika kita langsung loop dictionary dengan metode seperti pada list, tuple, dan set, yang akan muncul hanya key-nya saja."
      ],
      "metadata": {
        "id": "e8L_w9wj57SC"
      }
    },
    {
      "cell_type": "code",
      "source": [
        "# Coba jalankan code dibawah\n",
        "\n",
        "dict_kota = {'Kota_1':'Surabaya', 'Kota_2':'Malang', 'Kota_3':'Bandung'}\n",
        "for kota in dict_kota:\n",
        "    print(kota)"
      ],
      "metadata": {
        "colab": {
          "base_uri": "https://localhost:8080/"
        },
        "id": "AJnU6QJb5-9U",
        "outputId": "59e54427-656d-44ef-ffbb-ae93136873d0"
      },
      "execution_count": 18,
      "outputs": [
        {
          "output_type": "stream",
          "name": "stdout",
          "text": [
            "Kota_1\n",
            "Kota_2\n",
            "Kota_3\n"
          ]
        }
      ]
    },
    {
      "cell_type": "markdown",
      "source": [
        "Ada beberapa cara untuk bisa menampilkan key dan value dictionary secara bersamaan.\n",
        "\n",
        "Pada materi dictionary sudah dibahas mengenai cara untuk mengakses value dengan key."
      ],
      "metadata": {
        "id": "5LoR6XA-6GoK"
      }
    },
    {
      "cell_type": "code",
      "source": [
        "# Coba jalankan kode dibawah\n",
        "\n",
        "dict_kota = {'Kota_1':'Surabaya', 'Kota_2':'Malang', 'Kota_3':'Bandung'}\n",
        "print(dict_kota['Kota_1'])"
      ],
      "metadata": {
        "colab": {
          "base_uri": "https://localhost:8080/"
        },
        "id": "vtOb-8MU6KjO",
        "outputId": "3c6a45a3-a56c-4d63-bdb9-b61a1a565458"
      },
      "execution_count": 19,
      "outputs": [
        {
          "output_type": "stream",
          "name": "stdout",
          "text": [
            "Surabaya\n"
          ]
        }
      ]
    },
    {
      "cell_type": "markdown",
      "source": [
        "Jika kita print dictionary seperti cara list, tuple dan set hanya akan muncul Key, maka kita bisa memberikan key tersebut kepada nama dictionary untuk mengakses value."
      ],
      "metadata": {
        "id": "cS6yCi1m6Qva"
      }
    },
    {
      "cell_type": "code",
      "source": [
        "# Cara pertama dengan\n",
        "\n",
        "dict_kota = {'Kota_1':'Surabaya', 'Kota_2':'Malang', 'Kota_3':'Bandung'}\n",
        "for kota in dict_kota:\n",
        "    print(f'Key: {kota} | Value: {dict_kota[kota]}')"
      ],
      "metadata": {
        "colab": {
          "base_uri": "https://localhost:8080/"
        },
        "id": "pcpEhb8a6QcB",
        "outputId": "f875c717-376c-4969-9c56-05507c893fd0"
      },
      "execution_count": 20,
      "outputs": [
        {
          "output_type": "stream",
          "name": "stdout",
          "text": [
            "key: Kota_1 | Value: Surabaya\n",
            "key: Kota_2 | Value: Malang\n",
            "key: Kota_3 | Value: Bandung\n"
          ]
        }
      ]
    },
    {
      "cell_type": "markdown",
      "source": [
        "Cara kedua yaitu dengan menggunakan method `items()`. Method ini akan mengembalikan semua element pada dictionary sebagai tuple yang berisi key-value."
      ],
      "metadata": {
        "id": "9h8s-bxT6cim"
      }
    },
    {
      "cell_type": "code",
      "source": [
        "# Coba jalankan code dibawah\n",
        "\n",
        "dict_kota = {'Kota_1':'Surabaya', 'Kota_2':'Malang', 'Kota_3':'Bandung'}\n",
        "print(dict_kota.items())"
      ],
      "metadata": {
        "colab": {
          "base_uri": "https://localhost:8080/"
        },
        "id": "0nhMGXtw6fDd",
        "outputId": "c57c8e19-2e69-40d1-84e6-9d3b90d85f6d"
      },
      "execution_count": 21,
      "outputs": [
        {
          "output_type": "stream",
          "name": "stdout",
          "text": [
            "dict_items([('Kota_1', 'Surabaya'), ('Kota_2', 'Malang'), ('Kota_3', 'Bandung')])\n"
          ]
        }
      ]
    },
    {
      "cell_type": "markdown",
      "source": [
        "Method `item()` akan memberikan kita key dan value dari dictionary, namun apakah key dan value bisa langsung kita masukkan untuk perulangan?\n",
        "\n",
        "Kita bisa memanfaatkan **unpacking** untuk hal tersebut. Dengan method `items()` dan `unpacking` kita bisa langsung mendapatkan key-value dari sebuah dictionary."
      ],
      "metadata": {
        "id": "RsxqLvDV62kJ"
      }
    },
    {
      "cell_type": "code",
      "source": [
        "# Coba jalankan code dibawah\n",
        "dict_kota = {'Kota_1':'Surabaya', 'Kota_2':'Malang', 'Kota_3':'Bandung'}\n",
        "\n",
        "for key, value in dict_kota.items():\n",
        "# Variabel key, value akan menyimpan nilai key dan value dari method items()\n",
        "  print(f'key: {key} | Value: {value}')"
      ],
      "metadata": {
        "colab": {
          "base_uri": "https://localhost:8080/"
        },
        "id": "dMarqIbk7PwK",
        "outputId": "fbc0eb9f-d1ea-4c58-86eb-22171aef9694"
      },
      "execution_count": 23,
      "outputs": [
        {
          "output_type": "stream",
          "name": "stdout",
          "text": [
            "key: Kota_1 | Value: Surabaya\n",
            "key: Kota_2 | Value: Malang\n",
            "key: Kota_3 | Value: Bandung\n"
          ]
        }
      ]
    },
    {
      "cell_type": "code",
      "source": [
        "# Coba print nama karyawan dalam gaji_dict dan gajinya\n",
        "# Manfaatkan method items()\n",
        "\n",
        "gaji_dict = {'Dika':4_000_000, 'Rendy':3_5000_000, 'Satria':5_000_000}\n",
        "\n",
        "for key, value in gaji_dict.items():\n",
        "    print(f'Nama {key} | Gaji Rp {value}')"
      ],
      "metadata": {
        "colab": {
          "base_uri": "https://localhost:8080/"
        },
        "id": "MOwAD_3o7olq",
        "outputId": "02cea10d-9c08-4840-f8da-452330dc94f9"
      },
      "execution_count": 24,
      "outputs": [
        {
          "output_type": "stream",
          "name": "stdout",
          "text": [
            "Nama Dika | Gaji Rp 4000000\n",
            "Nama Rendy | Gaji Rp 35000000\n",
            "Nama Satria | Gaji Rp 5000000\n"
          ]
        }
      ]
    },
    {
      "cell_type": "code",
      "source": [
        "# Coba buatlah dictionary yang menampung key nama Andika, Bayu, Rizal dan value pekerjaan Programmer, Arsitek, PNS\n",
        "nama_dict = {\"Andika\": \"Programmer\", \"Bayu\": \"Arsitek\", \"Rizal\": \"PNS\"}\n",
        "\n",
        "# Kemudian print key dan value dari dict tersebut (cara yang digunakan bebas)\n",
        "for key, value in nama_dict.items():\n",
        "    print(f\"Nama {key}, Pekerjaan {value}\")"
      ],
      "metadata": {
        "colab": {
          "base_uri": "https://localhost:8080/"
        },
        "id": "w3Wo1EvB7zhG",
        "outputId": "de99f5ff-2948-44fd-8dfc-77b0a13bc6eb"
      },
      "execution_count": 27,
      "outputs": [
        {
          "output_type": "stream",
          "name": "stdout",
          "text": [
            "Nama Andika, Pekerjaan Programmer\n",
            "Nama Bayu, Pekerjaan Arsitek\n",
            "Nama Rizal, Pekerjaan PNS\n"
          ]
        }
      ]
    },
    {
      "cell_type": "markdown",
      "source": [
        "**For Looping With Enumerate**"
      ],
      "metadata": {
        "id": "EXRbzsRc8s4B"
      }
    },
    {
      "cell_type": "markdown",
      "source": [
        "Saat melakukan perulangan biasanya kita akan menggunakan suatu variabel untuk menampilkan penghitungan perulangannya sampai pada angka berapa. Misalkan kita akan mencetak kata hello world tiga kali."
      ],
      "metadata": {
        "id": "vFMWxEOy8xBf"
      }
    },
    {
      "cell_type": "markdown",
      "source": [
        "      for angka in range(1,4):\n",
        "          print(f'hello world ke-{angka}')\n",
        "\n",
        "output:\n",
        "\n",
        "hello world ke-1\n",
        "\n",
        "hello world ke-2\n",
        "\n",
        "hello world ke-3"
      ],
      "metadata": {
        "id": "KePxmiH982Xo"
      }
    },
    {
      "cell_type": "markdown",
      "source": [
        "Daripada kita menggunakan variabel baru, ada cara yang lebih bagus lagi yaitu dengan method `enumerate()`."
      ],
      "metadata": {
        "id": "OW5sf9L99GDE"
      }
    },
    {
      "cell_type": "markdown",
      "source": [
        "Penggunaan method enumerate adalah\n",
        "\n",
        "`enumerate(iterable, start=0)`\n",
        "\n",
        "\n",
        "\n",
        "*   Parameter `iterable` diisi dengan tipe data yang memiliki urutan.\n",
        "*   Parameter `start` untuk memulai perhitungannya dari angka berapa.\n",
        "\n"
      ],
      "metadata": {
        "id": "ckFAba3P9Nn_"
      }
    },
    {
      "cell_type": "code",
      "source": [
        "# Coba jalankan code dibawah\n",
        "\n",
        "list_kota = ['Surabaya', 'Malang', 'Bandung']\n",
        "for kota in enumerate(list_kota):\n",
        "    print(kota)"
      ],
      "metadata": {
        "colab": {
          "base_uri": "https://localhost:8080/"
        },
        "id": "q0RaoexE9aGp",
        "outputId": "522d5ca8-5e36-49e0-ab73-4aa50d5c9bb1"
      },
      "execution_count": 28,
      "outputs": [
        {
          "output_type": "stream",
          "name": "stdout",
          "text": [
            "(0, 'Surabaya')\n",
            "(1, 'Malang')\n",
            "(2, 'Bandung')\n"
          ]
        }
      ]
    },
    {
      "cell_type": "markdown",
      "source": [
        "Bagaimana jika kita ingin memulai angka bukan dari 0? Misalkan kita mulai angkanya dari 10.\n",
        "\n",
        "Kita cuma harus menambahkan parameter `start`."
      ],
      "metadata": {
        "id": "oAJ3u2EN9utN"
      }
    },
    {
      "cell_type": "code",
      "source": [
        "# Coba jalankan code dibawah\n",
        "\n",
        "list_kota = ['Surabaya', 'Malang', 'Bandung']\n",
        "for kota in enumerate(list_kota, start=10):\n",
        "    print(kota)"
      ],
      "metadata": {
        "colab": {
          "base_uri": "https://localhost:8080/"
        },
        "id": "csBRrwds9w6k",
        "outputId": "79b238aa-2073-46d6-db31-53d77372ca6e"
      },
      "execution_count": 29,
      "outputs": [
        {
          "output_type": "stream",
          "name": "stdout",
          "text": [
            "(10, 'Surabaya')\n",
            "(11, 'Malang')\n",
            "(12, 'Bandung')\n"
          ]
        }
      ]
    },
    {
      "cell_type": "markdown",
      "source": [
        "Atau jika kita ingin membuat print lebih menarik lagi bisa menggunakan **unpack**."
      ],
      "metadata": {
        "id": "DT-1NywT97pp"
      }
    },
    {
      "cell_type": "code",
      "source": [
        "list_kota = ['Surabaya', 'Malang', 'Bandung']\n",
        "\n",
        "for num, kota in enumerate(list_kota, start=10):\n",
        "    print(f'Nomor {num} adalah kota {kota}')"
      ],
      "metadata": {
        "colab": {
          "base_uri": "https://localhost:8080/"
        },
        "id": "dyCUAfC89-an",
        "outputId": "47c84bf9-3167-499e-9839-f1c9b0c80b95"
      },
      "execution_count": 31,
      "outputs": [
        {
          "output_type": "stream",
          "name": "stdout",
          "text": [
            "Nomor 10 adalah kota Surabaya\n",
            "Nomor 11 adalah kota Malang\n",
            "Nomor 12 adalah kota Bandung\n"
          ]
        }
      ]
    },
    {
      "cell_type": "code",
      "source": [
        "# Coba print absen siswa pada list siswa di bawah dengan method enumerate\n",
        "# Gunakan juga metode unpack\n",
        "\n",
        "list_siswa = ['Bagus', 'Dina', 'Gilang', 'Putri']\n",
        "\n",
        "for num, siswa in enumerate(list_siswa, start=1):\n",
        "    print(f'Absen ke-{num}: {siswa}')"
      ],
      "metadata": {
        "colab": {
          "base_uri": "https://localhost:8080/"
        },
        "id": "FpuC1U5k-D49",
        "outputId": "2e1b22f1-8e6a-4676-980a-a4a71c8d3f0e"
      },
      "execution_count": 32,
      "outputs": [
        {
          "output_type": "stream",
          "name": "stdout",
          "text": [
            "Absen ke-1: Bagus\n",
            "Absen ke-2: Dina\n",
            "Absen ke-3: Gilang\n",
            "Absen ke-4: Putri\n"
          ]
        }
      ]
    }
  ]
}