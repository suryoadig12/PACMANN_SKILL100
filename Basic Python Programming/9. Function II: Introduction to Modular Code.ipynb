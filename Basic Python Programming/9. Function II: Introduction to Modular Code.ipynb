{
  "nbformat": 4,
  "nbformat_minor": 0,
  "metadata": {
    "colab": {
      "provenance": [],
      "authorship_tag": "ABX9TyNhhy5sH2IfQFp09B2VeSpe",
      "include_colab_link": true
    },
    "kernelspec": {
      "name": "python3",
      "display_name": "Python 3"
    },
    "language_info": {
      "name": "python"
    }
  },
  "cells": [
    {
      "cell_type": "markdown",
      "metadata": {
        "id": "view-in-github",
        "colab_type": "text"
      },
      "source": [
        "<a href=\"https://colab.research.google.com/github/suryoadig12/PACMANN_SKILL100/blob/main/Basic%20Python%20Programming/9.%20Function%20II%3A%20Introduction%20to%20Modular%20Code.ipynb\" target=\"_parent\"><img src=\"https://colab.research.google.com/assets/colab-badge.svg\" alt=\"Open In Colab\"/></a>"
      ]
    },
    {
      "cell_type": "markdown",
      "source": [
        "# **Introduction to Modular Code**"
      ],
      "metadata": {
        "id": "O8K5mkiFfwTV"
      }
    },
    {
      "cell_type": "markdown",
      "source": [
        "\n",
        "\n",
        "*   Modularisasi adalah teknik membagi tugas dalam pemrograman yang besar menjadi komponen yang lebih kecil dan terpisah agar sederhana, yang kemudian dapat dihubungkan dan digabungkan membentuk program yang lengkap.\n",
        "*   Sama seperti fungsi, `modul` pada Python membagi-bagi kode pada pemrograman Python.\n",
        "\n",
        "*   Bedanya, fungsi merupakan kumpulan perintah atau baris kode yang dikelompokkan menjadi satu kumpulan.\n",
        "*   Modular code dalam Python berupa sebuah file berekstensi `.py` yang berisi kode script Python.\n",
        "\n",
        "\n",
        "*   Isi dari `modul` dapat terdiri definisi dan implementasi dari:\n",
        "\n",
        "  *   Kelas\n",
        "  *   Fungsi\n",
        "  *   Variabel\n",
        "  *   dll.\n",
        "\n",
        "\n",
        "*   Alasan kenapa membuat modular code dalam bentuk `.py` adalah:\n",
        "  *   Notebook hanya cocok untuk melakukan eksplorasi saja, kalau sudah masuk tahap production biasanya akan memakai `.py`\n",
        "  *   Susah untuk melakukan debugging, ketika code yang sudah kita buat di notebook sudah banyak cell nya kita akan kesusahan untuk melakukan tracking bagian mana yang menyebabkan error atau bug\n",
        "  *   dll.\n",
        "\n"
      ],
      "metadata": {
        "id": "WIdtHmbGf0fa"
      }
    }
  ]
}