{
  "nbformat": 4,
  "nbformat_minor": 0,
  "metadata": {
    "colab": {
      "provenance": [],
      "authorship_tag": "ABX9TyPRTg74MaKGb5I3v9D9avei",
      "include_colab_link": true
    },
    "kernelspec": {
      "name": "python3",
      "display_name": "Python 3"
    },
    "language_info": {
      "name": "python"
    }
  },
  "cells": [
    {
      "cell_type": "markdown",
      "metadata": {
        "id": "view-in-github",
        "colab_type": "text"
      },
      "source": [
        "<a href=\"https://colab.research.google.com/github/suryoadig12/PACMANN_SKILL100/blob/main/Basic%20Python%20Programming/2.%20A%20Good%20First%20Program%3A%20Printing.ipynb\" target=\"_parent\"><img src=\"https://colab.research.google.com/assets/colab-badge.svg\" alt=\"Open In Colab\"/></a>"
      ]
    },
    {
      "cell_type": "markdown",
      "source": [
        "# **Pertemuan #1-1 - Printing**"
      ],
      "metadata": {
        "id": "UzzS31XzdegL"
      }
    },
    {
      "cell_type": "markdown",
      "source": [
        "# **Printing**"
      ],
      "metadata": {
        "id": "z-ets-77dm7A"
      }
    },
    {
      "cell_type": "markdown",
      "source": [
        "**How to print a text**"
      ],
      "metadata": {
        "id": "fYyH3yUjdqzG"
      }
    },
    {
      "cell_type": "markdown",
      "source": [
        "\n",
        "\n",
        "*   Sebagai pengalaman ngoding awal, kita bisa menampilkan sesuatu lewat Python.\n",
        "\n",
        "*   Pada bagian ini, kita akan coba menampilkan sebuah text.\n",
        "*   Caranya adalah dengan menggunakan perintah print melalui syntax:\n",
        "\n",
        "\n"
      ],
      "metadata": {
        "id": "z1LL5SEZdv3F"
      }
    },
    {
      "cell_type": "code",
      "execution_count": 1,
      "metadata": {
        "colab": {
          "base_uri": "https://localhost:8080/"
        },
        "id": "j7q3ovk1dYqt",
        "outputId": "92a0d629-eea5-4f88-fa37-7f3a331d5094"
      },
      "outputs": [
        {
          "output_type": "stream",
          "name": "stdout",
          "text": [
            "<TEXT YANG INGIN DITAMPILKAN>\n"
          ]
        }
      ],
      "source": [
        "print(\"<TEXT YANG INGIN DITAMPILKAN>\")"
      ]
    },
    {
      "cell_type": "markdown",
      "source": [
        "\n",
        "\n",
        "*   Misalkan kita mau menampilkan kalimat `Hello World!`\n",
        "*   Kita dapat melakukannya dengan cara seperti berikut:\n",
        "\n"
      ],
      "metadata": {
        "id": "wq30gEBXd_Py"
      }
    },
    {
      "cell_type": "code",
      "source": [
        "print(\"Hello World\")"
      ],
      "metadata": {
        "colab": {
          "base_uri": "https://localhost:8080/"
        },
        "id": "MEDsv6KfeJd2",
        "outputId": "7088de40-9beb-41a9-d374-19866b8f79e9"
      },
      "execution_count": 2,
      "outputs": [
        {
          "output_type": "stream",
          "name": "stdout",
          "text": [
            "Hello World\n"
          ]
        }
      ]
    },
    {
      "cell_type": "markdown",
      "source": [
        "\n",
        "\n",
        "*   Selain menggunakan tanda petik dua `(\"...\")`, kita juga dapat menggunakan tanda petik satu `('...')`.\n",
        "\n"
      ],
      "metadata": {
        "id": "JBd4kEvEeOPX"
      }
    },
    {
      "cell_type": "code",
      "source": [
        "print('Hello World')"
      ],
      "metadata": {
        "colab": {
          "base_uri": "https://localhost:8080/"
        },
        "id": "4Sd0XjqseUDq",
        "outputId": "d5b62942-2660-4c39-c76b-415e2463cdff"
      },
      "execution_count": 3,
      "outputs": [
        {
          "output_type": "stream",
          "name": "stdout",
          "text": [
            "Hello World\n"
          ]
        }
      ]
    },
    {
      "cell_type": "code",
      "source": [
        "# Contoh\n",
        "# Kita ingin menampilkan kalimat Hello World!\n",
        "\n",
        "print(\"Hello World!\")"
      ],
      "metadata": {
        "colab": {
          "base_uri": "https://localhost:8080/"
        },
        "id": "O59NKaTZeWu7",
        "outputId": "dfaaabd1-5dda-446e-9f4a-c8b4dfccb324"
      },
      "execution_count": 4,
      "outputs": [
        {
          "output_type": "stream",
          "name": "stdout",
          "text": [
            "Hello World!\n"
          ]
        }
      ]
    },
    {
      "cell_type": "markdown",
      "source": [
        "Sekarang ayo latihan, coba print kalimat \"Halo Dunia!\""
      ],
      "metadata": {
        "id": "ToKoRnNXeml0"
      }
    },
    {
      "cell_type": "code",
      "source": [
        "# Coba code disini\n",
        "# Isi titik-titik dengan Halo Dunia!\n",
        "\n",
        "print(\"Halo Dunia!\")"
      ],
      "metadata": {
        "colab": {
          "base_uri": "https://localhost:8080/"
        },
        "id": "5IY7gbHyer4b",
        "outputId": "77694039-080f-4e64-d0a7-4d3d3d7d8138"
      },
      "execution_count": 5,
      "outputs": [
        {
          "output_type": "stream",
          "name": "stdout",
          "text": [
            "Halo Dunia!\n"
          ]
        }
      ]
    },
    {
      "cell_type": "markdown",
      "source": [
        "**Exercise**"
      ],
      "metadata": {
        "id": "mlVGidqzeoQP"
      }
    },
    {
      "cell_type": "markdown",
      "source": [
        "Cobalah tampilkan nama Anda menggunakan perintah print!"
      ],
      "metadata": {
        "id": "ILsxh2G5fCGi"
      }
    },
    {
      "cell_type": "code",
      "source": [
        "# Coba print nama kamu\n",
        "\n",
        "print(\"Suryo Adi Gumelar\")"
      ],
      "metadata": {
        "colab": {
          "base_uri": "https://localhost:8080/"
        },
        "id": "RNMc8kG9e9EE",
        "outputId": "dceb11f1-59ce-4329-fc0d-fe00120411e4"
      },
      "execution_count": 6,
      "outputs": [
        {
          "output_type": "stream",
          "name": "stdout",
          "text": [
            "Suryo Adi Gumelar\n"
          ]
        }
      ]
    },
    {
      "cell_type": "markdown",
      "source": [
        "Cobalah print text \"Saya sedang belajar melakukan print\""
      ],
      "metadata": {
        "id": "uVQ24jDCfJv2"
      }
    },
    {
      "cell_type": "code",
      "source": [
        "# Coba code disini\n",
        "\n",
        "print(\"Saya sedang belajar melakukan print\")"
      ],
      "metadata": {
        "colab": {
          "base_uri": "https://localhost:8080/"
        },
        "id": "COy6qbnyfMAa",
        "outputId": "8e046555-264d-4162-d7d0-a309ac558e62"
      },
      "execution_count": 7,
      "outputs": [
        {
          "output_type": "stream",
          "name": "stdout",
          "text": [
            "Saya sedang belajar melakukan print\n"
          ]
        }
      ]
    },
    {
      "cell_type": "markdown",
      "source": [
        "**How to print a number**"
      ],
      "metadata": {
        "id": "S2sYXHDIfRHe"
      }
    },
    {
      "cell_type": "markdown",
      "source": [
        "Selain melakukan printing berupa text, kita juga dapat melakukan printing berupa angka dengan menggunakan syntax:"
      ],
      "metadata": {
        "id": "PY7XWxwqghYz"
      }
    },
    {
      "cell_type": "code",
      "source": [
        "print(<ANGKA YANG INGIN DITAMPILKAN>)"
      ],
      "metadata": {
        "id": "3dnXHxoMgiiu"
      },
      "execution_count": null,
      "outputs": []
    },
    {
      "cell_type": "markdown",
      "source": [
        "Bedanya dengan text adalah apabila ingin melakukan printing berupa angka tidak perlu diikuti dengan tanda petik satu `('')` maupun tanda petik dua `(\"\")`."
      ],
      "metadata": {
        "id": "uokkIn-tfUvF"
      }
    },
    {
      "cell_type": "code",
      "source": [
        "# Contoh\n",
        "# Kita ingin print angka 20\n",
        "\n",
        "print(20)"
      ],
      "metadata": {
        "colab": {
          "base_uri": "https://localhost:8080/"
        },
        "id": "euAW3QDrgujW",
        "outputId": "ffdbc393-bdf4-455e-d62a-23c1b60f49b1"
      },
      "execution_count": 8,
      "outputs": [
        {
          "output_type": "stream",
          "name": "stdout",
          "text": [
            "20\n"
          ]
        }
      ]
    },
    {
      "cell_type": "code",
      "source": [
        "# Contoh\n",
        "# Kita ingin print angka 21.3\n",
        "\n",
        "print(21.3)"
      ],
      "metadata": {
        "colab": {
          "base_uri": "https://localhost:8080/"
        },
        "id": "3R-6LVM4g1C0",
        "outputId": "19ab2de0-7ad9-4b4a-bfa5-19d671bb3c0e"
      },
      "execution_count": 9,
      "outputs": [
        {
          "output_type": "stream",
          "name": "stdout",
          "text": [
            "21.3\n"
          ]
        }
      ]
    },
    {
      "cell_type": "markdown",
      "source": [
        "Sekarang ayo latihan, cobalah print tanggal hari ini!"
      ],
      "metadata": {
        "id": "jbZXAjJhg9Vl"
      }
    },
    {
      "cell_type": "code",
      "source": [
        "# Coba code disini\n",
        "# Isi titik-titik dengan tanggal hari ini\n",
        "\n",
        "print(17)"
      ],
      "metadata": {
        "colab": {
          "base_uri": "https://localhost:8080/"
        },
        "id": "rg9b5E1Ng90g",
        "outputId": "fb610674-5a73-4e22-e216-65f472ccb6da"
      },
      "execution_count": 10,
      "outputs": [
        {
          "output_type": "stream",
          "name": "stdout",
          "text": [
            "17\n"
          ]
        }
      ]
    },
    {
      "cell_type": "markdown",
      "source": [
        "\n",
        "\n",
        "*   Ayo coba latihan lagi!\n",
        "\n",
        "*   Misalkan terdapat bangun ruang persegi yang mempunyai sisi 4 cm.\n",
        "*   Cobalah print sisi persegi tersebut!\n",
        "\n"
      ],
      "metadata": {
        "id": "HmEb1YgihIBq"
      }
    },
    {
      "cell_type": "code",
      "source": [
        "# Coba code disini\n",
        "# Isi titik-titik dengan sisi persegi\n",
        "\n",
        "print(4)"
      ],
      "metadata": {
        "colab": {
          "base_uri": "https://localhost:8080/"
        },
        "id": "rK-k6B1ghNRo",
        "outputId": "65496a1c-4e0d-46fa-b1bb-184e32adf29d"
      },
      "execution_count": 11,
      "outputs": [
        {
          "output_type": "stream",
          "name": "stdout",
          "text": [
            "4\n"
          ]
        }
      ]
    },
    {
      "cell_type": "markdown",
      "source": [
        "**Exercise**"
      ],
      "metadata": {
        "id": "DZNh-_CBhWl7"
      }
    },
    {
      "cell_type": "markdown",
      "source": [
        "\n",
        "\n",
        "*   Perusahaan A mendapatkan profit sebesar 20.000 USD di bulan Maret.\n",
        "*   Cobalah print angka besar profit yang didapatkan perusahaan A!\n",
        "\n"
      ],
      "metadata": {
        "id": "C0k_8CXKhZDq"
      }
    },
    {
      "cell_type": "code",
      "source": [
        "# Coba code disini\n",
        "\n",
        "print(20_000)"
      ],
      "metadata": {
        "colab": {
          "base_uri": "https://localhost:8080/"
        },
        "id": "jcdAKY9ShciO",
        "outputId": "4319c8e3-a3d7-4d09-b2d1-ff68dbb00aed"
      },
      "execution_count": 12,
      "outputs": [
        {
          "output_type": "stream",
          "name": "stdout",
          "text": [
            "20000\n"
          ]
        }
      ]
    }
  ]
}