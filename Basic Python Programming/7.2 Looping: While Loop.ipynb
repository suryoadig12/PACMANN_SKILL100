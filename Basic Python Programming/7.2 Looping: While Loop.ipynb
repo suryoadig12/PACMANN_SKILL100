{
  "nbformat": 4,
  "nbformat_minor": 0,
  "metadata": {
    "colab": {
      "provenance": [],
      "authorship_tag": "ABX9TyN7vr19qYHQ96jUsXL8F//Z",
      "include_colab_link": true
    },
    "kernelspec": {
      "name": "python3",
      "display_name": "Python 3"
    },
    "language_info": {
      "name": "python"
    }
  },
  "cells": [
    {
      "cell_type": "markdown",
      "metadata": {
        "id": "view-in-github",
        "colab_type": "text"
      },
      "source": [
        "<a href=\"https://colab.research.google.com/github/suryoadig12/PACMANN_SKILL100/blob/main/Basic%20Python%20Programming/7.2%20Looping%3A%20While%20Loop.ipynb\" target=\"_parent\"><img src=\"https://colab.research.google.com/assets/colab-badge.svg\" alt=\"Open In Colab\"/></a>"
      ]
    },
    {
      "cell_type": "markdown",
      "source": [
        "# **While Loop**"
      ],
      "metadata": {
        "id": "rqBu_4OTcfLb"
      }
    },
    {
      "cell_type": "markdown",
      "source": [
        "Jika perulangan `for` sudah kita ketahui objek yang akan di loop dan banyaknya looping. Semisal kita akan melakukan looping sebanyak 10x. Maka dalam while kita tidak mengetahui berapa banyak loop akan dijalankan."
      ],
      "metadata": {
        "id": "v7VMtgnPdFZB"
      }
    },
    {
      "cell_type": "markdown",
      "source": [
        "**While in General**"
      ],
      "metadata": {
        "id": "1tc4R92OdNVE"
      }
    },
    {
      "cell_type": "markdown",
      "source": [
        "Bentuk umum while adalah:\n",
        "\n",
        "      while <condition>:\n",
        "          # Jika kondisi benar\n",
        "          run_this_statement\n",
        "\n",
        "Berarti selama kondisi masih terpenuhi maka akan terus mengeksekusi blok statement."
      ],
      "metadata": {
        "id": "WseV6bfydQPp"
      }
    },
    {
      "cell_type": "markdown",
      "source": [
        "![asldjfaldsjf.JPG](data:image/jpeg;base64,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)"
      ],
      "metadata": {
        "id": "8jq8W7cKda4b"
      }
    },
    {
      "cell_type": "markdown",
      "source": [
        "`while` loop biasanya harus disertai dengan nilai yang selalu berubah."
      ],
      "metadata": {
        "id": "7amm0VnldkjH"
      }
    },
    {
      "cell_type": "code",
      "source": [
        "# Coba jalankan code dibawah ini\n",
        "\n",
        "counter = 0\n",
        "max = 5\n",
        "\n",
        "while counter <= max: # Jika counter masih kurang dari max, code akan tetap berjalan\n",
        "    print(f'Sekarang angka {counter}')\n",
        "    counter += 1 # Counter akan ditambahkan 1 agar perulangan bisa berhenti"
      ],
      "metadata": {
        "colab": {
          "base_uri": "https://localhost:8080/"
        },
        "id": "XfJMMSn6doAp",
        "outputId": "03c17970-b6f7-40f5-bf58-0218609a3921"
      },
      "execution_count": 2,
      "outputs": [
        {
          "output_type": "stream",
          "name": "stdout",
          "text": [
            "Sekarang angka 0\n",
            "Sekarang angka 1\n",
            "Sekarang angka 2\n",
            "Sekarang angka 3\n",
            "Sekarang angka 4\n",
            "Sekarang angka 5\n"
          ]
        }
      ]
    },
    {
      "cell_type": "markdown",
      "source": [
        "Atau bisa juga dengan cara dibawah:"
      ],
      "metadata": {
        "id": "pS7Xukahd6NV"
      }
    },
    {
      "cell_type": "code",
      "source": [
        "angka = 5\n",
        "while angka >= 0: # \"angka\" disini memenuhi kondisi while, maka looping akan berjalan\n",
        "    print(angka)\n",
        "    angka -= 1 # Variabel angka akan dikurangi dengan 1 sampai kondisi di atas tidak terpenuhi"
      ],
      "metadata": {
        "colab": {
          "base_uri": "https://localhost:8080/"
        },
        "id": "BuH90uCpd7d0",
        "outputId": "0f0bebf8-e091-4ddf-aa42-3c74acc673aa"
      },
      "execution_count": 3,
      "outputs": [
        {
          "output_type": "stream",
          "name": "stdout",
          "text": [
            "5\n",
            "4\n",
            "3\n",
            "2\n",
            "1\n",
            "0\n"
          ]
        }
      ]
    },
    {
      "cell_type": "code",
      "source": [
        "# Coba buatlah loop while dari angka 1 sampai 10\n",
        "\n",
        "angka = 1\n",
        "while angka <= 10:\n",
        "    print(angka)\n",
        "    angka += 1"
      ],
      "metadata": {
        "colab": {
          "base_uri": "https://localhost:8080/"
        },
        "id": "LcO_xTTbeeio",
        "outputId": "b3b23d61-7752-4815-ea22-297a2ea9e820"
      },
      "execution_count": 7,
      "outputs": [
        {
          "output_type": "stream",
          "name": "stdout",
          "text": [
            "1\n",
            "2\n",
            "3\n",
            "4\n",
            "5\n",
            "6\n",
            "7\n",
            "8\n",
            "9\n",
            "10\n"
          ]
        }
      ]
    },
    {
      "cell_type": "markdown",
      "source": [
        "Untuk membuat tabel perkalian menggunakan `while` yaitu caranya kurang lebih sama dengan menggunakan `for`."
      ],
      "metadata": {
        "id": "QiLEzfEwgcLk"
      }
    },
    {
      "cell_type": "code",
      "source": [
        "# Coba jalankan code dibawah ini\n",
        "\n",
        "angka = 1\n",
        "while angka <= 10:\n",
        "    perkalian = angka*2\n",
        "    print(f'{angka} x 2 = {perkalian}')\n",
        "    angka += 1"
      ],
      "metadata": {
        "colab": {
          "base_uri": "https://localhost:8080/"
        },
        "id": "L7Yj6wHNgg4M",
        "outputId": "17edbc50-452a-417b-bc2d-2594910d70b3"
      },
      "execution_count": 8,
      "outputs": [
        {
          "output_type": "stream",
          "name": "stdout",
          "text": [
            "1 x 2 = 2\n",
            "2 x 2 = 4\n",
            "3 x 2 = 6\n",
            "4 x 2 = 8\n",
            "5 x 2 = 10\n",
            "6 x 2 = 12\n",
            "7 x 2 = 14\n",
            "8 x 2 = 16\n",
            "9 x 2 = 18\n",
            "10 x 2 = 20\n"
          ]
        }
      ]
    },
    {
      "cell_type": "code",
      "source": [
        "# Coba buatlah tabel pertambahan angka 5 dari 1 sampai 10\n",
        "# Anda bisa menggunakan beberapa cara dari while, yang penting outputnya sama seperi di bawah\n",
        "\n",
        "angka = 1\n",
        "while angka <= 10:\n",
        "  tambah = angka+5\n",
        "  print(f\"{angka} + 5 = {tambah}\")\n",
        "  angka += 1"
      ],
      "metadata": {
        "colab": {
          "base_uri": "https://localhost:8080/"
        },
        "id": "m-Pr0BSCgman",
        "outputId": "a7ec78a0-b79f-46e5-e9d8-71b1565abb3c"
      },
      "execution_count": 9,
      "outputs": [
        {
          "output_type": "stream",
          "name": "stdout",
          "text": [
            "1 + 5 = 6\n",
            "2 + 5 = 7\n",
            "3 + 5 = 8\n",
            "4 + 5 = 9\n",
            "5 + 5 = 10\n",
            "6 + 5 = 11\n",
            "7 + 5 = 12\n",
            "8 + 5 = 13\n",
            "9 + 5 = 14\n",
            "10 + 5 = 15\n"
          ]
        }
      ]
    },
    {
      "cell_type": "markdown",
      "source": [
        "Bagaimana jika tidak ada kondisi yang membuat while berhenti? `loop` akan terus berjalan dan membebani komputer."
      ],
      "metadata": {
        "id": "A6gEQiArjN0m"
      }
    },
    {
      "cell_type": "code",
      "source": [
        "# HATI-HATI dalam menjalankan code ini karena proses akan tidak akan berhenti :)\n",
        "# Cara agar berhenti yaitu dengan pencet keyboar anda CTRL + M + I (bisa berbeda tiap komputer)\n",
        "# Atau dengan klik animasi proses disamping kiri\n",
        "\n",
        "counter = 0\n",
        "max = 5\n",
        "while counter < max: # kondisi 'counter < max' selalu terpenuhi\n",
        "    print(f'Sekarang angka {counter}') # ini akan terus dilakukan, jadinya infinite"
      ],
      "metadata": {
        "id": "TZXHlobDjRSB"
      },
      "execution_count": null,
      "outputs": []
    },
    {
      "cell_type": "markdown",
      "source": [
        "**While - else**"
      ],
      "metadata": {
        "id": "RrLZlst3jU8w"
      }
    },
    {
      "cell_type": "markdown",
      "source": [
        "Statement `else` di dalam `while` berguna untuk menjalankan satu blok kode lain ketika kondisi pertama sudah tidak terpenuhi."
      ],
      "metadata": {
        "id": "4mUXWsM9jYQ2"
      }
    },
    {
      "cell_type": "code",
      "source": [
        "# Coba jalankan kode dibawah ini\n",
        "# kita akan membuat while - else dari angka 1 - 3\n",
        "\n",
        "numb = 1\n",
        "\n",
        "while numb <= 3: # jika nilai numb masih kurang sama dengan tiga maka proses akan terus berlangsung\n",
        "    print(f'Nilai numb sekarang {numb}')\n",
        "    numb += 1\n",
        "else: # else akan di eksekusi karena nilai numb sudah lebih dari 3\n",
        "    print(f\"Nilai numb sekarang {numb} sudah lebih dari 3.\")"
      ],
      "metadata": {
        "id": "NlyeUoRojWma"
      },
      "execution_count": null,
      "outputs": []
    },
    {
      "cell_type": "code",
      "source": [
        "# Coba buatlah while-else dari angka 1-10\n",
        "\n",
        "numb = 1\n",
        "max = 10\n",
        "while numb <= max:\n",
        "    print(f'Nilai numb sekarang {numb}')\n",
        "    numb += 1\n",
        "else:\n",
        "    print(f\"Nilai numb sekarang {numb} sudah lebih dari {max}.\")"
      ],
      "metadata": {
        "colab": {
          "base_uri": "https://localhost:8080/"
        },
        "id": "Gu6yGxonkmhc",
        "outputId": "dbb72e88-5dea-471b-d394-a58a3c55ddc6"
      },
      "execution_count": 10,
      "outputs": [
        {
          "output_type": "stream",
          "name": "stdout",
          "text": [
            "Nilai numb sekarang 1\n",
            "Nilai numb sekarang 2\n",
            "Nilai numb sekarang 3\n",
            "Nilai numb sekarang 4\n",
            "Nilai numb sekarang 5\n",
            "Nilai numb sekarang 6\n",
            "Nilai numb sekarang 7\n",
            "Nilai numb sekarang 8\n",
            "Nilai numb sekarang 9\n",
            "Nilai numb sekarang 10\n",
            "Nilai numb sekarang 11 sudah lebih dari 10.\n"
          ]
        }
      ]
    }
  ]
}