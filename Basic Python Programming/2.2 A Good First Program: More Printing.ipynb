{
  "nbformat": 4,
  "nbformat_minor": 0,
  "metadata": {
    "colab": {
      "provenance": [],
      "authorship_tag": "ABX9TyPh81dODLa/78KzH0mwsJWL",
      "include_colab_link": true
    },
    "kernelspec": {
      "name": "python3",
      "display_name": "Python 3"
    },
    "language_info": {
      "name": "python"
    }
  },
  "cells": [
    {
      "cell_type": "markdown",
      "metadata": {
        "id": "view-in-github",
        "colab_type": "text"
      },
      "source": [
        "<a href=\"https://colab.research.google.com/github/suryoadig12/PACMANN_SKILL100/blob/main/Basic%20Python%20Programming/2.2%20A%20Good%20First%20Program%3A%20More%20Printing.ipynb\" target=\"_parent\"><img src=\"https://colab.research.google.com/assets/colab-badge.svg\" alt=\"Open In Colab\"/></a>"
      ]
    },
    {
      "cell_type": "markdown",
      "source": [
        "# **Pertemuan #1-3 - More Printing!**"
      ],
      "metadata": {
        "id": "tZL8oHt6p_6T"
      }
    },
    {
      "cell_type": "markdown",
      "source": [
        "**Printing - Lebih Detail**"
      ],
      "metadata": {
        "id": "2VMltfaVqDZV"
      }
    },
    {
      "cell_type": "markdown",
      "source": [
        "Setelah sebelumnya kita telah belajar mengenai variabel, maka sekarang kita akan belajar bagaimana caranya menampilkan isi dari variabel yang telah kita buat sebelumnya."
      ],
      "metadata": {
        "id": "aPmR2iZPqJcS"
      }
    },
    {
      "cell_type": "code",
      "execution_count": 1,
      "metadata": {
        "colab": {
          "base_uri": "https://localhost:8080/"
        },
        "id": "td1InxYMp56v",
        "outputId": "231c2548-674b-4aec-cead-a879e1e1c6a7"
      },
      "outputs": [
        {
          "output_type": "stream",
          "name": "stdout",
          "text": [
            "Antony Dos Santos\n"
          ]
        }
      ],
      "source": [
        "# Misalkan kita telah membuat sebuah variabel yang menyimpan nama lengkap dan ingin menampilkan isinya.\n",
        "\n",
        "nama_lengkap = \"Antony Dos Santos\"\n",
        "print(nama_lengkap)"
      ]
    },
    {
      "cell_type": "code",
      "source": [
        "# Misalkan kita telah membuat sebuah variabel dan ingin menampilkan isinya\n",
        "\n",
        "text = \"Saya sedang belajar bahasa pemrograman python\"\n",
        "print(text)"
      ],
      "metadata": {
        "colab": {
          "base_uri": "https://localhost:8080/"
        },
        "id": "JrAUY1sSqbZa",
        "outputId": "9619ad02-0c3a-4c8c-ae1f-f1c0eb73984e"
      },
      "execution_count": 2,
      "outputs": [
        {
          "output_type": "stream",
          "name": "stdout",
          "text": [
            "Saya sedang belajar bahasa pemrograman python\n"
          ]
        }
      ]
    },
    {
      "cell_type": "markdown",
      "source": [
        "Apabila kita menjalankan kedua code di atas, maka akan menampilkan isi dari variabel yang telah kita buat.\n",
        "\n",
        "Sekarang ayo coba latihan! Coba tampilkan isi dari variabel di bawah ini menggunakan perintah printing variabel!\n",
        "\n",
        "`teks = \"Saya sedang belajar printing!\"`"
      ],
      "metadata": {
        "id": "GUhQlRGRqe36"
      }
    },
    {
      "cell_type": "code",
      "source": [
        "# Coba code disini\n",
        "\n",
        "teks = \"Saya sedang belajar printing!\"\n",
        "print(teks)"
      ],
      "metadata": {
        "colab": {
          "base_uri": "https://localhost:8080/"
        },
        "id": "dA228tnwqiek",
        "outputId": "c1402932-8022-4d5a-92ad-3aacb7a4ed79"
      },
      "execution_count": 3,
      "outputs": [
        {
          "output_type": "stream",
          "name": "stdout",
          "text": [
            "Saya sedang belajar printing!\n"
          ]
        }
      ]
    },
    {
      "cell_type": "markdown",
      "source": [
        "**Exercise**"
      ],
      "metadata": {
        "id": "OI7_gGlTqo08"
      }
    },
    {
      "cell_type": "markdown",
      "source": [
        "Buatlah sebuah variabel yang berisi tempat lahir Anda, kemudian tampilkan isinya!"
      ],
      "metadata": {
        "id": "JHZ2hUv0qrmq"
      }
    },
    {
      "cell_type": "code",
      "source": [
        "# Coba code disini\n",
        "\n",
        "tempat_lahir = \"Madiun\"\n",
        "print(tempat_lahir)"
      ],
      "metadata": {
        "colab": {
          "base_uri": "https://localhost:8080/"
        },
        "id": "qFrpCFhvqqDr",
        "outputId": "062b7368-3b6f-485f-dd00-3d1d92abc99c"
      },
      "execution_count": 4,
      "outputs": [
        {
          "output_type": "stream",
          "name": "stdout",
          "text": [
            "Madiun\n"
          ]
        }
      ]
    },
    {
      "cell_type": "markdown",
      "source": [
        "**Printing menggunakan Pemformatan (Formatting)**"
      ],
      "metadata": {
        "id": "IUWSEIL9q11F"
      }
    },
    {
      "cell_type": "markdown",
      "source": [
        "\n",
        "\n",
        "*   Di dalam bahasa pemrograman Python terdapat metode printing menggunakan pemformatan (formatting).\n",
        "*   Ada dua cara atau style formatting di Python:\n",
        "\n",
        "    *   Style lama (menggunakan tanda persen %)\n",
        "    *   Style baru (menggunakan metode format())\n",
        "\n",
        "\n",
        "\n"
      ],
      "metadata": {
        "id": "E4PSwsBgq5H9"
      }
    },
    {
      "cell_type": "markdown",
      "source": [
        "**Printing menggunakan %-formatting**"
      ],
      "metadata": {
        "id": "s8tQpwy7rRjn"
      }
    },
    {
      "cell_type": "markdown",
      "source": [
        "\n",
        "\n",
        "*   Metode printing ini merupakan style lama yang digunakan dalam pemformatan (formatting).\n",
        "*   Printing menggunakan metode ini terbagi atas 2, yakni:\n",
        "\n",
        "    *   %s : digunakan untuk melakukan print pada teks\n",
        "    *   %d : digunakan untuk melakukan print pada angka\n",
        "\n",
        "\n",
        "\n"
      ],
      "metadata": {
        "id": "7UEwQnakrUBE"
      }
    },
    {
      "cell_type": "code",
      "source": [
        "# Misalkan kita ingin melakukan print pada beberapa nama\n",
        "\n",
        "nama1 = \"Rima\"\n",
        "nama2 = \"Budi\"\n",
        "print(\"Hello, %s\" % nama1)\n",
        "print(\"Hello, %s\" % nama2)"
      ],
      "metadata": {
        "colab": {
          "base_uri": "https://localhost:8080/"
        },
        "id": "0r3GYB9Krqo5",
        "outputId": "78d1252e-0e63-45ed-d1b3-95bfb5d1873a"
      },
      "execution_count": 5,
      "outputs": [
        {
          "output_type": "stream",
          "name": "stdout",
          "text": [
            "Hello, Rima\n",
            "Hello, Budi\n"
          ]
        }
      ]
    },
    {
      "cell_type": "code",
      "source": [
        "# Misalkan kita ingin melakukan print pada beberapa angka\n",
        "\n",
        "angka1 = 21\n",
        "angka2 = 20\n",
        "print(\"Inilah adalah angka %d\" % angka1)\n",
        "print(\"Inilah adalah angka %d\" % angka2)"
      ],
      "metadata": {
        "colab": {
          "base_uri": "https://localhost:8080/"
        },
        "id": "XDR1doEMruPB",
        "outputId": "030dc140-bf35-4dd0-dd04-16337a4156c3"
      },
      "execution_count": 6,
      "outputs": [
        {
          "output_type": "stream",
          "name": "stdout",
          "text": [
            "Inilah adalah angka 21\n",
            "Inilah adalah angka 20\n"
          ]
        }
      ]
    },
    {
      "cell_type": "markdown",
      "source": [
        "**Exercise**"
      ],
      "metadata": {
        "id": "xGjm8XC8r0RT"
      }
    },
    {
      "cell_type": "markdown",
      "source": [
        "Apakah output yang akan dihasilkan dari potongan code di bawah ini?\n",
        "\n",
        "\n",
        "\n",
        "*   nama = \"Budi\"\n",
        "\n",
        "*   umur = 22\n",
        "*   print(\"Halo, saya %s. Saya berumur %s tahun.\" % (nama, umur))\n",
        "\n",
        "\n"
      ],
      "metadata": {
        "id": "cB86Isldr4PN"
      }
    },
    {
      "cell_type": "code",
      "source": [
        "# Coba code disini\n",
        "\n",
        "nama = \"Budi\"\n",
        "umur = 22\n",
        "print(\"Halo, saya %s. Saya berumur %s tahun.\" % (nama, umur))"
      ],
      "metadata": {
        "colab": {
          "base_uri": "https://localhost:8080/"
        },
        "id": "H8FKl1-WsAeR",
        "outputId": "750135b2-8b28-4620-81d3-c156cfc19cd9"
      },
      "execution_count": 8,
      "outputs": [
        {
          "output_type": "stream",
          "name": "stdout",
          "text": [
            "Halo, saya Budi. Saya berumur 22 tahun.\n"
          ]
        }
      ]
    },
    {
      "cell_type": "markdown",
      "source": [
        "**Printing menggunakan f-string**"
      ],
      "metadata": {
        "id": "4ZwWF3iYsW07"
      }
    },
    {
      "cell_type": "markdown",
      "source": [
        "\n",
        "\n",
        "*   Metode printing ini merupakan style baru yang digunakan dalam pemformatan.\n",
        "\n",
        "*   Metode ini memungkinkan kita untuk menyisipkan nilai suatu variabel ke dalam string.\n",
        "\n",
        "*   Hal ini lebih efisien dilakukan daripada kita menggabungkan string menggunakan tanda koma atau tanda tambah (concatenation).\n",
        "*   Komponen yang dibutuhkan untuk menggunakan f-string adalah `f` dan curly bracket `{}`\n",
        "\n",
        "\n",
        "*   Sehingga, untuk menggunakan f-string cara nya adalah:\n",
        "\n",
        "\n",
        "          *   print(f\"ini adalah contohnya {NAMA_VAR}\")\n",
        "\n"
      ],
      "metadata": {
        "id": "rYJlnDN9sZsW"
      }
    },
    {
      "cell_type": "code",
      "source": [
        "# Contoh\n",
        "nama = \"Budi\"\n",
        "umur = 22\n",
        "\n",
        "# Versi lama\n",
        "print(\"Halo, saya %s. Saya berumur %s tahun.\" % (nama, umur))\n",
        "\n",
        "# Versi baru\n",
        "print(f\"Halo, saya {nama}. Saya berumur {umur} tahun.\")"
      ],
      "metadata": {
        "colab": {
          "base_uri": "https://localhost:8080/"
        },
        "id": "0m-0lXGRs0IF",
        "outputId": "2eed4c77-86ee-4061-c93d-e28b0bd0c6df"
      },
      "execution_count": 9,
      "outputs": [
        {
          "output_type": "stream",
          "name": "stdout",
          "text": [
            "Halo, saya Budi. Saya berumur 22 tahun.\n",
            "Halo, saya Budi. Saya berumur 22 tahun.\n"
          ]
        }
      ]
    },
    {
      "cell_type": "markdown",
      "source": [
        "**Exercise**"
      ],
      "metadata": {
        "id": "tUKUol3ks_cM"
      }
    },
    {
      "cell_type": "markdown",
      "source": [
        "Kita berbelanja bahan makanan di supermarket. Berikut merupakan harga bahan makanan yang dibeli:\n",
        "\n",
        "\n",
        "\n",
        "*   Ayam adalah 15000\n",
        "\n",
        "*   Bumbu 10000\n",
        "*   beras 50000\n",
        "\n",
        "\n",
        "*   Total belanjanya adalah 160000\n",
        "\n",
        "Cobalah masukkan angka tersebut ke dalam variabel, kemudian print menggunakan f-string untuk semua variabel!"
      ],
      "metadata": {
        "id": "iEq7Q2uCtDPJ"
      }
    },
    {
      "cell_type": "code",
      "source": [
        "# Coba code disini\n",
        "\n",
        "ayam = 15000\n",
        "bumbu = 10000\n",
        "beras = 50000\n",
        "total_belanja = 160000\n",
        "\n",
        "print(f\"Kita berbelanja ayam seharga {ayam}, bumbu seharga {bumbu}, beras seharga {beras}. Total harga belanjaannya adalah {total_belanja}\")"
      ],
      "metadata": {
        "colab": {
          "base_uri": "https://localhost:8080/"
        },
        "id": "eF9KSogutBYE",
        "outputId": "5ad1a465-5cc3-4eac-aef3-a2a32d85d49b"
      },
      "execution_count": 10,
      "outputs": [
        {
          "output_type": "stream",
          "name": "stdout",
          "text": [
            "Kita berbelanja ayam seharga 15000, bumbu seharga 10000, beras seharga 50000. Total harga belanjaannya adalah 160000\n"
          ]
        }
      ]
    }
  ]
}