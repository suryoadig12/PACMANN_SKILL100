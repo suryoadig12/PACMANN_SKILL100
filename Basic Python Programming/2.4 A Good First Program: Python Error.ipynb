{
  "nbformat": 4,
  "nbformat_minor": 0,
  "metadata": {
    "colab": {
      "provenance": [],
      "authorship_tag": "ABX9TyOzFts1UWiASxb71yIF1K1C",
      "include_colab_link": true
    },
    "kernelspec": {
      "name": "python3",
      "display_name": "Python 3"
    },
    "language_info": {
      "name": "python"
    }
  },
  "cells": [
    {
      "cell_type": "markdown",
      "metadata": {
        "id": "view-in-github",
        "colab_type": "text"
      },
      "source": [
        "<a href=\"https://colab.research.google.com/github/suryoadig12/PACMANN_SKILL100/blob/main/Basic%20Python%20Programming/2.4%20A%20Good%20First%20Program%3A%20Python%20Error.ipynb\" target=\"_parent\"><img src=\"https://colab.research.google.com/assets/colab-badge.svg\" alt=\"Open In Colab\"/></a>"
      ]
    },
    {
      "cell_type": "markdown",
      "source": [
        "# **Pertemuan #1-5 - Error**"
      ],
      "metadata": {
        "id": "DDCcUMioz7vv"
      }
    },
    {
      "cell_type": "markdown",
      "source": [
        "**Error and How to solve**"
      ],
      "metadata": {
        "id": "HMAFDo1jz_FH"
      }
    },
    {
      "cell_type": "markdown",
      "source": [
        "\n",
        "\n",
        "*   Pada sesi ini, kita akan belajar mengenai error dan bagaimana cara mengatasinya.\n",
        "\n",
        "*   Error merupakan hal yang wajar ditemui saat sedang membuat sebuah pemrograman.\n",
        "*   Melalui error jugalah kita semakin banyak belajar dan semakin memahami code yang telah kita buat."
      ],
      "metadata": {
        "id": "yUzb6Iaz0CQZ"
      }
    },
    {
      "cell_type": "markdown",
      "source": [
        "Ketika mendapati suatu error, ada beberapa langkah yang dapat kita lakukan untuk dapat mengatasinya, yaitu:\n",
        "\n",
        "\n",
        "\n",
        "*   Perhatikan error outputnya\n",
        "\n",
        "*   Cobalah untuk googling mengenai error tersebut\n",
        "*   Kemudian cobalah code yang telah digoogling sebelumnya\n",
        "\n",
        "\n",
        "*   Apabila masih belum solve, cobalah untuk googling kembali\n",
        "\n"
      ],
      "metadata": {
        "id": "xdJGP7ER0KEf"
      }
    },
    {
      "cell_type": "markdown",
      "source": [
        "Ada beberapa jenis error yang sering dialami, yakni:\n",
        "\n",
        "\n",
        "\n",
        "*   Syntax Error\n",
        "\n",
        "*   Indentation Error\n",
        "*   Name Error\n"
      ],
      "metadata": {
        "id": "5iqR__br0TF9"
      }
    },
    {
      "cell_type": "markdown",
      "source": [
        "**Syntax Error**"
      ],
      "metadata": {
        "id": "MsyLw6YO0bcK"
      }
    },
    {
      "cell_type": "markdown",
      "source": [
        "Syntax Error merupakan error yang terjadi karena adanya kesalahan syntax dalam code yang telah dibuat."
      ],
      "metadata": {
        "id": "TjP2zbRD0eZG"
      }
    },
    {
      "cell_type": "code",
      "execution_count": 1,
      "metadata": {
        "colab": {
          "base_uri": "https://localhost:8080/",
          "height": 110
        },
        "id": "hiNL6AqNz0Qt",
        "outputId": "8731475d-eddd-4c90-81f7-00fb517b4a7e"
      },
      "outputs": [
        {
          "output_type": "error",
          "ename": "SyntaxError",
          "evalue": "invalid syntax (<ipython-input-1-dcd61191019f>, line 1)",
          "traceback": [
            "\u001b[0;36m  File \u001b[0;32m\"<ipython-input-1-dcd61191019f>\"\u001b[0;36m, line \u001b[0;32m1\u001b[0m\n\u001b[0;31m    PRINT(\"Hello World!\"):\u001b[0m\n\u001b[0m                         ^\u001b[0m\n\u001b[0;31mSyntaxError\u001b[0m\u001b[0;31m:\u001b[0m invalid syntax\n"
          ]
        }
      ],
      "source": [
        "PRINT(\"Hello World!\"):"
      ]
    },
    {
      "cell_type": "markdown",
      "source": [
        "\n",
        "\n",
        "*   Apabila kita menjalankan code diatas, maka kita akan mendapatkan error.\n",
        "\n",
        "*   Perhatikan output error yang ditampilkan.\n",
        "\n",
        "*   Dalam hal ini, error outputnya ialah `invalid syntax`.\n",
        "*   Error ini terjadi karena code yang kita tulis tidak sesuai dengan syntax yang seharusnya.\n",
        "\n",
        "\n",
        "*   Syntax untuk menampilkan suatu text atau melakukan printing adalah sebagai berikut: `print(\"<TEXT YANG INGIN DITAMPILKAN>\")`\n",
        "\n"
      ],
      "metadata": {
        "id": "e1Plae090hAa"
      }
    },
    {
      "cell_type": "markdown",
      "source": [
        "**Exercise**"
      ],
      "metadata": {
        "id": "afcTQEXc0v05"
      }
    },
    {
      "cell_type": "markdown",
      "source": [
        "\n",
        "\n",
        "1.   Apakah perintah di bawah ini dapat dijalankan tanpa error?\n",
        "\n",
        "\n",
        "        *   Print(\"Hello World!\")\n",
        "\n",
        "\n",
        "2.   Apakah perintah di bawah ini dapat dijalankan tanpa error?\n",
        "\n",
        "\n",
        "        *   print('Hello World!')\n"
      ],
      "metadata": {
        "id": "FHZIafHE00D0"
      }
    },
    {
      "cell_type": "code",
      "source": [
        "# Untuk pertanyaan nomor 1, coba code disini\n",
        "\n",
        "Print(\"Hello World!\")"
      ],
      "metadata": {
        "colab": {
          "base_uri": "https://localhost:8080/",
          "height": 183
        },
        "id": "618jXHiP1FcE",
        "outputId": "9179afe2-19d0-4762-f305-8d52327c40f3"
      },
      "execution_count": 2,
      "outputs": [
        {
          "output_type": "error",
          "ename": "NameError",
          "evalue": "name 'Print' is not defined",
          "traceback": [
            "\u001b[0;31m---------------------------------------------------------------------------\u001b[0m",
            "\u001b[0;31mNameError\u001b[0m                                 Traceback (most recent call last)",
            "\u001b[0;32m<ipython-input-2-f894d2ac2254>\u001b[0m in \u001b[0;36m<cell line: 0>\u001b[0;34m()\u001b[0m\n\u001b[1;32m      1\u001b[0m \u001b[0;31m# Untuk pertanyaan nomor 1, coba code disini\u001b[0m\u001b[0;34m\u001b[0m\u001b[0;34m\u001b[0m\u001b[0m\n\u001b[1;32m      2\u001b[0m \u001b[0;34m\u001b[0m\u001b[0m\n\u001b[0;32m----> 3\u001b[0;31m \u001b[0mPrint\u001b[0m\u001b[0;34m(\u001b[0m\u001b[0;34m\"Hello World!\"\u001b[0m\u001b[0;34m)\u001b[0m\u001b[0;34m\u001b[0m\u001b[0;34m\u001b[0m\u001b[0m\n\u001b[0m",
            "\u001b[0;31mNameError\u001b[0m: name 'Print' is not defined"
          ]
        }
      ]
    },
    {
      "cell_type": "code",
      "source": [
        "# Untuk pertanyaan nomor 2, coba code disini\n",
        "\n",
        "print('Hello World!')"
      ],
      "metadata": {
        "colab": {
          "base_uri": "https://localhost:8080/"
        },
        "id": "h2XVBVhB1L_p",
        "outputId": "8d05d18e-e4a3-4fab-86ea-93a4ed00af40"
      },
      "execution_count": 3,
      "outputs": [
        {
          "output_type": "stream",
          "name": "stdout",
          "text": [
            "Hello World!\n"
          ]
        }
      ]
    },
    {
      "cell_type": "markdown",
      "source": [
        "**Indentation Error**"
      ],
      "metadata": {
        "id": "4jAeP4Ck1R1A"
      }
    },
    {
      "cell_type": "markdown",
      "source": [
        "Indentation Error merupakan error yang terjadi karena adanya kesalahan pada indentasi."
      ],
      "metadata": {
        "id": "8jW19ZP-1czk"
      }
    },
    {
      "cell_type": "code",
      "source": [
        "print(\"ini adalah code baris 1\")\n",
        "    print(\"ini adalah code baris 2\")\n",
        "print(\"ini adalah code baris 3\")"
      ],
      "metadata": {
        "colab": {
          "base_uri": "https://localhost:8080/",
          "height": 110
        },
        "id": "QHWB4TWX1awF",
        "outputId": "ab843946-6868-46e2-a4e5-5ceb192c13f2"
      },
      "execution_count": 4,
      "outputs": [
        {
          "output_type": "error",
          "ename": "IndentationError",
          "evalue": "unexpected indent (<ipython-input-4-ed7c5ebc0470>, line 2)",
          "traceback": [
            "\u001b[0;36m  File \u001b[0;32m\"<ipython-input-4-ed7c5ebc0470>\"\u001b[0;36m, line \u001b[0;32m2\u001b[0m\n\u001b[0;31m    print(\"ini adalah code baris 2\")\u001b[0m\n\u001b[0m    ^\u001b[0m\n\u001b[0;31mIndentationError\u001b[0m\u001b[0;31m:\u001b[0m unexpected indent\n"
          ]
        }
      ]
    },
    {
      "cell_type": "markdown",
      "source": [
        "\n",
        "\n",
        "*   Apabila kita menjalankan code diatas, maka kita akan mendapatkan error.\n",
        "\n",
        "*   Perhatikan output error yang ditampilkan.\n",
        "\n",
        "*   Dalam hal ini, error outputnya ialah `unexpected indent`.\n",
        "*   Hal ini dikarenakan adanya kesalahan yang kita lakukan pada indentasi.\n",
        "\n",
        "\n",
        "*   Lalu bagaimana cara untuk menyelesaikannya?\n",
        "\n",
        "\n",
        "*   Dalam hal ini, kita dapat memberikan level indentasi yang sama untuk setiap perintahnya.\n",
        "\n"
      ],
      "metadata": {
        "id": "UbyCg7hu1f0H"
      }
    },
    {
      "cell_type": "code",
      "source": [
        "# Cobalah code yang benar di bawah ini\n",
        "\n",
        "print(\"ini adalah code baris 1\")\n",
        "print(\"ini adalah code baris 2\")\n",
        "print(\"ini adalah code baris 3\")"
      ],
      "metadata": {
        "colab": {
          "base_uri": "https://localhost:8080/"
        },
        "id": "8pi8bV8E1rsX",
        "outputId": "a15a611a-4fc1-4a5f-fdc5-3b9a6289dc18"
      },
      "execution_count": 5,
      "outputs": [
        {
          "output_type": "stream",
          "name": "stdout",
          "text": [
            "ini adalah code baris 1\n",
            "ini adalah code baris 2\n",
            "ini adalah code baris 3\n"
          ]
        }
      ]
    },
    {
      "cell_type": "markdown",
      "source": [
        "**Name Error**"
      ],
      "metadata": {
        "id": "T7Pifujv18_R"
      }
    },
    {
      "cell_type": "markdown",
      "source": [
        "Name Error merupakan error yang biasanya terjadi karena adanya kesalahan pada nama variabel yang kita gunakan."
      ],
      "metadata": {
        "id": "hG9Urgp91_f9"
      }
    },
    {
      "cell_type": "markdown",
      "source": [
        "**Case Study**"
      ],
      "metadata": {
        "id": "rIIvW3G62A_p"
      }
    },
    {
      "cell_type": "markdown",
      "source": [
        "Rima merupakan seorang anak yang sangat hemat. Namun, suatu ketika dirinya merasa boros dan akhirnya Rima pun me-list pengeluarannya minggu ini dan didapat hasil sebagai berikut:\n",
        "\n",
        "\n",
        "\n",
        "*   Baju: 200.000\n",
        "\n",
        "*   Tumblr: 75.000\n",
        "*   Tas: 150.000\n",
        "\n",
        "\n",
        "Berapakah total biaya yang telah dikeluarkan oleh Rima dalam minggu ini?"
      ],
      "metadata": {
        "id": "hI5s08pH2C0R"
      }
    },
    {
      "cell_type": "code",
      "source": [
        "baju = 200000\n",
        "tumblr = 75000\n",
        "tas = 150000\n",
        "totalPengeluaran = 425000\n",
        "\n",
        "print(total_pengeluaran)"
      ],
      "metadata": {
        "colab": {
          "base_uri": "https://localhost:8080/",
          "height": 183
        },
        "id": "64Uj-cIi2L8Y",
        "outputId": "435c3ee8-c6ef-436b-c68b-cbf0cc60d0e2"
      },
      "execution_count": 6,
      "outputs": [
        {
          "output_type": "error",
          "ename": "NameError",
          "evalue": "name 'total_pengeluaran' is not defined",
          "traceback": [
            "\u001b[0;31m---------------------------------------------------------------------------\u001b[0m",
            "\u001b[0;31mNameError\u001b[0m                                 Traceback (most recent call last)",
            "\u001b[0;32m<ipython-input-6-2ed33ebaff2c>\u001b[0m in \u001b[0;36m<cell line: 0>\u001b[0;34m()\u001b[0m\n\u001b[1;32m      4\u001b[0m \u001b[0mtotalPengeluaran\u001b[0m \u001b[0;34m=\u001b[0m \u001b[0;36m425000\u001b[0m\u001b[0;34m\u001b[0m\u001b[0;34m\u001b[0m\u001b[0m\n\u001b[1;32m      5\u001b[0m \u001b[0;34m\u001b[0m\u001b[0m\n\u001b[0;32m----> 6\u001b[0;31m \u001b[0mprint\u001b[0m\u001b[0;34m(\u001b[0m\u001b[0mtotal_pengeluaran\u001b[0m\u001b[0;34m)\u001b[0m\u001b[0;34m\u001b[0m\u001b[0;34m\u001b[0m\u001b[0m\n\u001b[0m",
            "\u001b[0;31mNameError\u001b[0m: name 'total_pengeluaran' is not defined"
          ]
        }
      ]
    },
    {
      "cell_type": "markdown",
      "source": [
        "\n",
        "\n",
        "*   Apabila kita menjalankan code diatas, maka kita akan mendapatkan error.\n",
        "\n",
        "*   Perhatikan output error yang ditampilkan.\n",
        "\n",
        "*   Dalam hal ini, error outputnya ialah name 'total_pengeluaran' is not defined.\n",
        "*   Hal ini dikarenakan kita salah memanggil nama variabel.\n",
        "\n",
        "\n",
        "*   Dalam code diatas kita memanggil variabel total_pengeluaran yang mana variabel ini belum diinisiasikan sebelumnya. Atau dengan kata lain kita belum pernah membuat variabel ini sebelumnya. -Seharusnya kita memanggil variabel totalPengeluaran agar program dapat berjalan dengan baik dan kita tidak mendapatkan error.\n",
        "\n"
      ],
      "metadata": {
        "id": "3RLtShE42Q79"
      }
    },
    {
      "cell_type": "code",
      "source": [
        "# Cobalah code yang benar di bawah ini\n",
        "\n",
        "baju = 200000\n",
        "tumblr = 75000\n",
        "tas = 150000\n",
        "totalPengeluaran = 425000\n",
        "\n",
        "print(totalPengeluaran)"
      ],
      "metadata": {
        "colab": {
          "base_uri": "https://localhost:8080/"
        },
        "id": "9qiLzk3H2dcD",
        "outputId": "504604d4-e018-4fb6-afff-4859b2b47224"
      },
      "execution_count": 7,
      "outputs": [
        {
          "output_type": "stream",
          "name": "stdout",
          "text": [
            "425000\n"
          ]
        }
      ]
    },
    {
      "cell_type": "markdown",
      "source": [
        "Sekarang ayo latihan!\n",
        "\n",
        "\n",
        "\n",
        "*   nama = \"Bill Gates\"\n",
        "*   print(name)\n",
        "\n",
        "Cobalah code ini di bawah dan cobalah untuk menyelesaikan errornya!"
      ],
      "metadata": {
        "id": "SBITEAre2nrI"
      }
    },
    {
      "cell_type": "code",
      "source": [
        "# Coba code di sini\n",
        "\n",
        "nama = \"Bill Gates\"\n",
        "print(name)"
      ],
      "metadata": {
        "colab": {
          "base_uri": "https://localhost:8080/",
          "height": 183
        },
        "id": "kjS4Ii432tix",
        "outputId": "ab54051c-72be-4de9-bb0f-f5a1cc0d2954"
      },
      "execution_count": 8,
      "outputs": [
        {
          "output_type": "error",
          "ename": "NameError",
          "evalue": "name 'name' is not defined",
          "traceback": [
            "\u001b[0;31m---------------------------------------------------------------------------\u001b[0m",
            "\u001b[0;31mNameError\u001b[0m                                 Traceback (most recent call last)",
            "\u001b[0;32m<ipython-input-8-1775dd1cbb32>\u001b[0m in \u001b[0;36m<cell line: 0>\u001b[0;34m()\u001b[0m\n\u001b[1;32m      2\u001b[0m \u001b[0;34m\u001b[0m\u001b[0m\n\u001b[1;32m      3\u001b[0m \u001b[0mnama\u001b[0m \u001b[0;34m=\u001b[0m \u001b[0;34m\"Bill Gates\"\u001b[0m\u001b[0;34m\u001b[0m\u001b[0;34m\u001b[0m\u001b[0m\n\u001b[0;32m----> 4\u001b[0;31m \u001b[0mprint\u001b[0m\u001b[0;34m(\u001b[0m\u001b[0mname\u001b[0m\u001b[0;34m)\u001b[0m\u001b[0;34m\u001b[0m\u001b[0;34m\u001b[0m\u001b[0m\n\u001b[0m",
            "\u001b[0;31mNameError\u001b[0m: name 'name' is not defined"
          ]
        }
      ]
    },
    {
      "cell_type": "code",
      "source": [
        "# Cobalah code yang benar di bawah ini\n",
        "\n",
        "nama = \"Bill Gates\"\n",
        "print(nama)"
      ],
      "metadata": {
        "colab": {
          "base_uri": "https://localhost:8080/"
        },
        "id": "JB3ZdtVk2yfR",
        "outputId": "d86d8958-8916-46cf-c8e5-97d335814ef2"
      },
      "execution_count": 9,
      "outputs": [
        {
          "output_type": "stream",
          "name": "stdout",
          "text": [
            "Bill Gates\n"
          ]
        }
      ]
    },
    {
      "cell_type": "markdown",
      "source": [
        "**Exercise**"
      ],
      "metadata": {
        "id": "8IabDNhg24-8"
      }
    },
    {
      "cell_type": "markdown",
      "source": [
        "Lakukanlah latihan di bawah ini!\n",
        "\n",
        "\n",
        "\n",
        "*   bilangan1 = 20\n",
        "\n",
        "*   bilangan2 = 30\n",
        "*   jumlahBilangan = 50\n",
        "\n",
        "print(jumlah_bilangan)\n",
        "\n",
        "Apakah syntax ini akan error atau tidak? Jika mengalami error, coba benarkan code tersebut!"
      ],
      "metadata": {
        "id": "Xy3t8pzd26jW"
      }
    },
    {
      "cell_type": "code",
      "source": [
        "# Cobalah code di bawah ini\n",
        "\n",
        "bilangan1 = 20\n",
        "bilangan2 = 30\n",
        "jumlahBilangan = 50\n",
        "print(jumlah_bilangan)"
      ],
      "metadata": {
        "colab": {
          "base_uri": "https://localhost:8080/",
          "height": 183
        },
        "id": "MWBnhx3R3BKV",
        "outputId": "50e11e2f-651a-4d88-be53-a0c3403417b1"
      },
      "execution_count": 10,
      "outputs": [
        {
          "output_type": "error",
          "ename": "NameError",
          "evalue": "name 'jumlah_bilangan' is not defined",
          "traceback": [
            "\u001b[0;31m---------------------------------------------------------------------------\u001b[0m",
            "\u001b[0;31mNameError\u001b[0m                                 Traceback (most recent call last)",
            "\u001b[0;32m<ipython-input-10-59424a8f06e7>\u001b[0m in \u001b[0;36m<cell line: 0>\u001b[0;34m()\u001b[0m\n\u001b[1;32m      3\u001b[0m \u001b[0mjumlahBilangan\u001b[0m \u001b[0;34m=\u001b[0m \u001b[0;36m50\u001b[0m\u001b[0;34m\u001b[0m\u001b[0;34m\u001b[0m\u001b[0m\n\u001b[1;32m      4\u001b[0m \u001b[0;34m\u001b[0m\u001b[0m\n\u001b[0;32m----> 5\u001b[0;31m \u001b[0mprint\u001b[0m\u001b[0;34m(\u001b[0m\u001b[0mjumlah_bilangan\u001b[0m\u001b[0;34m)\u001b[0m\u001b[0;34m\u001b[0m\u001b[0;34m\u001b[0m\u001b[0m\n\u001b[0m",
            "\u001b[0;31mNameError\u001b[0m: name 'jumlah_bilangan' is not defined"
          ]
        }
      ]
    },
    {
      "cell_type": "code",
      "source": [
        "# Cobalah code yang benar di bawah ini\n",
        "\n",
        "bilangan1 = 20\n",
        "bilangan2 = 30\n",
        "jumlahBilangan = 50\n",
        "print(jumlahBilangan)"
      ],
      "metadata": {
        "colab": {
          "base_uri": "https://localhost:8080/"
        },
        "id": "UY-Q1yXA3H96",
        "outputId": "ab92ce24-4309-4545-ffcb-1c6b0abb53c3"
      },
      "execution_count": 11,
      "outputs": [
        {
          "output_type": "stream",
          "name": "stdout",
          "text": [
            "50\n"
          ]
        }
      ]
    }
  ]
}