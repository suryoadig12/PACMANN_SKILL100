{
  "nbformat": 4,
  "nbformat_minor": 0,
  "metadata": {
    "colab": {
      "provenance": [],
      "authorship_tag": "ABX9TyPoBrHPbHxQkwh4rVFRqgH6",
      "include_colab_link": true
    },
    "kernelspec": {
      "name": "python3",
      "display_name": "Python 3"
    },
    "language_info": {
      "name": "python"
    }
  },
  "cells": [
    {
      "cell_type": "markdown",
      "metadata": {
        "id": "view-in-github",
        "colab_type": "text"
      },
      "source": [
        "<a href=\"https://colab.research.google.com/github/suryoadig12/PACMANN_SKILL100/blob/main/Basic%20Python%20Programming/3.%20Primitive%20Data%20Structure%3A%20Primitive%20Data%20Structure%20in%20Python.ipynb\" target=\"_parent\"><img src=\"https://colab.research.google.com/assets/colab-badge.svg\" alt=\"Open In Colab\"/></a>"
      ]
    },
    {
      "cell_type": "markdown",
      "source": [
        "# **Pertemuan 2-1 - Primitive Data Structure on Python**"
      ],
      "metadata": {
        "id": "f9ezcyFg-X0w"
      }
    },
    {
      "cell_type": "markdown",
      "source": [
        "**1. Primitive Data Structure**"
      ],
      "metadata": {
        "id": "vXWMSRg1_h47"
      }
    },
    {
      "cell_type": "markdown",
      "source": [
        "Struktur data adalah cara mengatur dan menyimpan data sehingga dapat diakses dan diolah dengan efisien. Ada dua jenis struktur data pada Python yaitu **primitive data structure** dan **non-primitive data structure** (**composite data structure**). Pada kesempatan kali ini kita akan membahas **primitive data structure**."
      ],
      "metadata": {
        "id": "W5VeVdqS_kpO"
      }
    },
    {
      "cell_type": "markdown",
      "source": [
        "Secara umum, Python memiliki empat struktur data primitif:"
      ],
      "metadata": {
        "id": "r8Tya33E_xGo"
      }
    },
    {
      "cell_type": "markdown",
      "source": [
        "\n",
        "\n",
        "*   **Integer**\n",
        "\n",
        "*   **String**\n",
        "*   **Float**\n",
        "\n",
        "\n",
        "*   Boolean (akan dibahas pada pertemuan selanjutnya)\n",
        "\n"
      ],
      "metadata": {
        "id": "3e1m9zr2_x2k"
      }
    },
    {
      "cell_type": "markdown",
      "source": [
        "Kenapa dinamakan primitif? karena berisi nilai data yang murni dan sederhana."
      ],
      "metadata": {
        "id": "1Y_v7Tk5_9GM"
      }
    },
    {
      "cell_type": "markdown",
      "source": [
        "**Integer**"
      ],
      "metadata": {
        "id": "WvMEpUdUAAcw"
      }
    },
    {
      "cell_type": "markdown",
      "source": [
        "Integer mewakilkan **bilangan bulat** dari negatif hingga positif, contohnya -3, -2, 3, 4, dst.\n",
        "\n",
        "Semisal, kita akan mencoba melakukan print angka 1."
      ],
      "metadata": {
        "id": "YUVtREIZABjk"
      }
    },
    {
      "cell_type": "code",
      "execution_count": 1,
      "metadata": {
        "colab": {
          "base_uri": "https://localhost:8080/"
        },
        "id": "rX6kCt8D-VFx",
        "outputId": "5bed0a2e-37f3-4b12-ce2c-8074b08bad2d"
      },
      "outputs": [
        {
          "output_type": "stream",
          "name": "stdout",
          "text": [
            "1\n"
          ]
        }
      ],
      "source": [
        "# Coba kita print angka 1\n",
        "\n",
        "print(1)"
      ]
    },
    {
      "cell_type": "markdown",
      "source": [
        "Untuk mengetahui **tipe data sebuah karakter** di cek dengan cara:\n",
        "\n",
        "\n",
        "        *   type(VALUE)\n"
      ],
      "metadata": {
        "id": "aSkv2BdPAKeu"
      }
    },
    {
      "cell_type": "code",
      "source": [
        "# Jalankan code dibawah\n",
        "# Coba cek tipe data angka 6\n",
        "\n",
        "print(type(6))"
      ],
      "metadata": {
        "colab": {
          "base_uri": "https://localhost:8080/"
        },
        "id": "lLwkctieASB2",
        "outputId": "0440b6af-94cc-4d2b-f084-5fcaa6ce13cd"
      },
      "execution_count": 2,
      "outputs": [
        {
          "output_type": "stream",
          "name": "stdout",
          "text": [
            "<class 'int'>\n"
          ]
        }
      ]
    },
    {
      "cell_type": "markdown",
      "source": [
        "Kita juga bisa mengetahui **tipe data dari sebuah variabel** dengan cara:"
      ],
      "metadata": {
        "id": "o4kFQ7uWAli1"
      }
    },
    {
      "cell_type": "markdown",
      "source": [
        "\n",
        "\n",
        "        *   type(NAMA_VAR)\n"
      ],
      "metadata": {
        "id": "44WZMroyAonw"
      }
    },
    {
      "cell_type": "code",
      "source": [
        "# Jalankan code dibawah\n",
        "\n",
        "int_1 = 1\n",
        "print(type(int_1))"
      ],
      "metadata": {
        "colab": {
          "base_uri": "https://localhost:8080/"
        },
        "id": "_l3XY6U9AoEe",
        "outputId": "783b48ce-5ae9-4aad-82b6-6124e4ad7563"
      },
      "execution_count": 3,
      "outputs": [
        {
          "output_type": "stream",
          "name": "stdout",
          "text": [
            "<class 'int'>\n"
          ]
        }
      ]
    },
    {
      "cell_type": "code",
      "source": [
        "# Coba cek tipe data variabel int_2 dibawah\n",
        "\n",
        "int_2 = 23\n",
        "print(type(int_2))"
      ],
      "metadata": {
        "colab": {
          "base_uri": "https://localhost:8080/"
        },
        "id": "aLuLyokZA3-G",
        "outputId": "95ac9b78-b48d-4a79-8802-0fc0c7223059"
      },
      "execution_count": 4,
      "outputs": [
        {
          "output_type": "stream",
          "name": "stdout",
          "text": [
            "<class 'int'>\n"
          ]
        }
      ]
    },
    {
      "cell_type": "code",
      "source": [
        "# Coba buatlah variabel untuk menampung angka 100000\n",
        "# kemudian cek tipe datanya\n",
        "\n",
        "num = 100000\n",
        "print(type(num))"
      ],
      "metadata": {
        "colab": {
          "base_uri": "https://localhost:8080/"
        },
        "id": "AhFiFsZiA8Ko",
        "outputId": "26386a7c-1491-4e0d-ff8b-1ec4acab0dee"
      },
      "execution_count": 5,
      "outputs": [
        {
          "output_type": "stream",
          "name": "stdout",
          "text": [
            "<class 'int'>\n"
          ]
        }
      ]
    },
    {
      "cell_type": "markdown",
      "source": [
        "**Float**"
      ],
      "metadata": {
        "id": "JkBoVPXRBDt_"
      }
    },
    {
      "cell_type": "markdown",
      "source": [
        "Float adalah singkatan dari **floating point number**. Float mewakilkan bilangan rasional yang biasanya diakhiri dengan **angka desimal**, seperti 2.5, 3.14, 10.5 dsb.\n",
        "\n",
        "Semisal, kita akan mencoba melakukan print angka **3.14**\n",
        "\n",
        "Untuk desimal di Python menggunakan titik `.`, bukan koma `,` sebagai pemisahnya."
      ],
      "metadata": {
        "id": "7dGiboc-BFIT"
      }
    },
    {
      "cell_type": "code",
      "source": [
        "# Coba kita print angka 3.14\n",
        "\n",
        "print(3.14)"
      ],
      "metadata": {
        "colab": {
          "base_uri": "https://localhost:8080/"
        },
        "id": "MXP0bWvABR1o",
        "outputId": "2bc9f1d9-8ca0-46ff-c475-8edc071b243c"
      },
      "execution_count": 6,
      "outputs": [
        {
          "output_type": "stream",
          "name": "stdout",
          "text": [
            "3.14\n"
          ]
        }
      ]
    },
    {
      "cell_type": "markdown",
      "source": [
        "Jika anda kurang yakin bahwa bilangan tersebut memiliki tipe data float bisa anda cek dengan cara:\n",
        "\n",
        "\n",
        "        *   type(VALUE)\n"
      ],
      "metadata": {
        "id": "F3fGgnDLBcuO"
      }
    },
    {
      "cell_type": "code",
      "source": [
        "# Coba jalankan code dibawah\n",
        "\n",
        "print(type(3.14))"
      ],
      "metadata": {
        "colab": {
          "base_uri": "https://localhost:8080/"
        },
        "id": "AT7oGPlDBiwM",
        "outputId": "ce6be70b-84af-41ff-c6f4-25539eb5a98b"
      },
      "execution_count": 7,
      "outputs": [
        {
          "output_type": "stream",
          "name": "stdout",
          "text": [
            "<class 'float'>\n"
          ]
        }
      ]
    },
    {
      "cell_type": "markdown",
      "source": [
        "Kita juga bisa mengetahui tipe data sebuah variabel dengan cara:"
      ],
      "metadata": {
        "id": "DFxRMS1OBwWg"
      }
    },
    {
      "cell_type": "markdown",
      "source": [
        "\n",
        "\n",
        "        *   type(NAMA_VAR)\n"
      ],
      "metadata": {
        "id": "1wZp3oMJBuvb"
      }
    },
    {
      "cell_type": "code",
      "source": [
        "# Coba cek tipe data dari variabel pi dibawah\n",
        "\n",
        "pi = 3.14\n",
        "print(type(pi))"
      ],
      "metadata": {
        "colab": {
          "base_uri": "https://localhost:8080/"
        },
        "id": "167uPCR9ByLh",
        "outputId": "7a2d24c2-99d9-4dac-e512-df201d961233"
      },
      "execution_count": 8,
      "outputs": [
        {
          "output_type": "stream",
          "name": "stdout",
          "text": [
            "<class 'float'>\n"
          ]
        }
      ]
    },
    {
      "cell_type": "code",
      "source": [
        "# coba cek tipe data variabel float_1\n",
        "\n",
        "float_1 = 4.6\n",
        "print(type(float_1))"
      ],
      "metadata": {
        "colab": {
          "base_uri": "https://localhost:8080/"
        },
        "id": "OvzttY1mB22D",
        "outputId": "c76e3f59-9085-4782-9f8e-1c8ce3ec98be"
      },
      "execution_count": 9,
      "outputs": [
        {
          "output_type": "stream",
          "name": "stdout",
          "text": [
            "<class 'float'>\n"
          ]
        }
      ]
    },
    {
      "cell_type": "code",
      "source": [
        "# Coba buatlah variabel untuk menampung angka 90.001\n",
        "# Kemudian cek tipe data variabel tersebut\n",
        "\n",
        "angka = 90.001\n",
        "print(type(angka))"
      ],
      "metadata": {
        "colab": {
          "base_uri": "https://localhost:8080/"
        },
        "id": "NaAFTOeNB6vS",
        "outputId": "b715d4d5-f6cf-4ef4-dd1a-9133fcee6b8f"
      },
      "execution_count": 10,
      "outputs": [
        {
          "output_type": "stream",
          "name": "stdout",
          "text": [
            "<class 'float'>\n"
          ]
        }
      ]
    },
    {
      "cell_type": "markdown",
      "source": [
        "**Operasi Matematika Pada Python**"
      ],
      "metadata": {
        "id": "PyvJ5MabCD5o"
      }
    },
    {
      "cell_type": "markdown",
      "source": [
        "Operator adalah simbol khusus yang mewakili perhitungan seperti penambahan dan pengurangan.\n",
        "\n",
        "![lasdjfl.JPG](data:image/jpeg;base64,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)"
      ],
      "metadata": {
        "id": "t0ppL-6mCG7g"
      }
    },
    {
      "cell_type": "markdown",
      "source": [
        "**Pertambahan**"
      ],
      "metadata": {
        "id": "ucwKE8eRCTZq"
      }
    },
    {
      "cell_type": "markdown",
      "source": [
        "Operator tambah `(+)` akan menambahkan nilai di kedua sisi operator.\n",
        "\n",
        "Silahkan lakukan operasi pertambahan 1 **ditambah** 1."
      ],
      "metadata": {
        "id": "oPernYTTCUrC"
      }
    },
    {
      "cell_type": "code",
      "source": [
        "# Coba isi titik - titik dibawah ini dengan operator tambah\n",
        "\n",
        "print(1+1)"
      ],
      "metadata": {
        "colab": {
          "base_uri": "https://localhost:8080/"
        },
        "id": "V5Xs65ouCZL9",
        "outputId": "2c3ef951-350d-4d47-d06a-b4b3b85e17c1"
      },
      "execution_count": 11,
      "outputs": [
        {
          "output_type": "stream",
          "name": "stdout",
          "text": [
            "2\n"
          ]
        }
      ]
    },
    {
      "cell_type": "markdown",
      "source": [
        "Silahkan lakukan operasi pertambahan 23 **ditambah** 29."
      ],
      "metadata": {
        "id": "d19_1waXCe8d"
      }
    },
    {
      "cell_type": "code",
      "source": [
        "# Coba keluarkan hasil pertambahannya\n",
        "\n",
        "print(23+29)"
      ],
      "metadata": {
        "colab": {
          "base_uri": "https://localhost:8080/"
        },
        "id": "Vs45hc3oChBN",
        "outputId": "6e8e95ea-b579-4834-fff4-ed70d0393d0c"
      },
      "execution_count": 12,
      "outputs": [
        {
          "output_type": "stream",
          "name": "stdout",
          "text": [
            "52\n"
          ]
        }
      ]
    },
    {
      "cell_type": "markdown",
      "source": [
        "Kita juga bisa melakukan pertambahan dengan menggunakan variabel."
      ],
      "metadata": {
        "id": "ykNMFN82Cnjs"
      }
    },
    {
      "cell_type": "code",
      "source": [
        "# Coba isi titik-titik dibawah ini dengan operator tambah\n",
        "\n",
        "num_1 = 7\n",
        "num_2 = 4\n",
        "print(num_1+num_2)"
      ],
      "metadata": {
        "colab": {
          "base_uri": "https://localhost:8080/"
        },
        "id": "yaPcRZVPCnUv",
        "outputId": "30a872be-5eea-497e-ea1d-7daee15c17ae"
      },
      "execution_count": 13,
      "outputs": [
        {
          "output_type": "stream",
          "name": "stdout",
          "text": [
            "11\n"
          ]
        }
      ]
    },
    {
      "cell_type": "code",
      "source": [
        "# Buatlah 2 variabel untuk menampung angka 3 dan 9\n",
        "# Untuk penamaan variabel bebas, tetapi memenuhi syarat \"good\" variable\n",
        "# Kemudian jumlahkan kedua variabel tersebut\n",
        "\n",
        "num_1 = 3\n",
        "num_2 = 9\n",
        "print(num_1+num_2)"
      ],
      "metadata": {
        "colab": {
          "base_uri": "https://localhost:8080/"
        },
        "id": "aUGy3u9QCuX-",
        "outputId": "8dd4161f-272f-4032-dea5-765da3b6c976"
      },
      "execution_count": 14,
      "outputs": [
        {
          "output_type": "stream",
          "name": "stdout",
          "text": [
            "12\n"
          ]
        }
      ]
    },
    {
      "cell_type": "markdown",
      "source": [
        "**Pengurangan**"
      ],
      "metadata": {
        "id": "lXSqXl_dC4us"
      }
    },
    {
      "cell_type": "markdown",
      "source": [
        "Operasi kurang `(-)` akan mengurangi nilai sebelah kiri operator sebesar nilai sebelah kanan.\n",
        "\n",
        "Silahkan lakukan operasi pengurangan 2 **dikurangi** 1."
      ],
      "metadata": {
        "id": "sTbbu_ojC68m"
      }
    },
    {
      "cell_type": "code",
      "source": [
        "# Coba lengkapi code di bawah ini\n",
        "\n",
        "print(2-1)"
      ],
      "metadata": {
        "colab": {
          "base_uri": "https://localhost:8080/"
        },
        "id": "vruZ3U2hC6oz",
        "outputId": "a6c8ed5a-969e-4dd5-c588-e63e22ebef95"
      },
      "execution_count": 15,
      "outputs": [
        {
          "output_type": "stream",
          "name": "stdout",
          "text": [
            "1\n"
          ]
        }
      ]
    },
    {
      "cell_type": "markdown",
      "source": [
        "Silahkan lakukan operasi pengurangan 10 **dikurangi** 3."
      ],
      "metadata": {
        "id": "O_mmmOotDJrS"
      }
    },
    {
      "cell_type": "code",
      "source": [
        "# Coba isi titik titik dibawah dan keluarkan hasil pengurangannya\n",
        "\n",
        "print(10-3)"
      ],
      "metadata": {
        "colab": {
          "base_uri": "https://localhost:8080/"
        },
        "id": "J9djwR8ADJYt",
        "outputId": "ac526782-d4ca-4984-cf5a-0ee95a2b7f0d"
      },
      "execution_count": 16,
      "outputs": [
        {
          "output_type": "stream",
          "name": "stdout",
          "text": [
            "7\n"
          ]
        }
      ]
    },
    {
      "cell_type": "markdown",
      "source": [
        "Kita juga bisa melakukan pengurangan dengan menggunakan variabel yang kita miliki atau buat sendiri."
      ],
      "metadata": {
        "id": "gu3KP8_zDRxD"
      }
    },
    {
      "cell_type": "code",
      "source": [
        "# Coba isi titik-titik dibawah ini dengan operator pengurangan\n",
        "\n",
        "sub_1 = 4\n",
        "sub_2 = 3\n",
        "print(sub_1-sub_2)"
      ],
      "metadata": {
        "colab": {
          "base_uri": "https://localhost:8080/"
        },
        "id": "fAPRyElvDS2F",
        "outputId": "ea79e1c8-1cfb-4582-d9a4-eb535d8502bc"
      },
      "execution_count": 17,
      "outputs": [
        {
          "output_type": "stream",
          "name": "stdout",
          "text": [
            "1\n"
          ]
        }
      ]
    },
    {
      "cell_type": "code",
      "source": [
        "# Coba buatlah 2 variabel untuk menampung angka 18 dan 13\n",
        "# Untuk penamaan variabel bebas, tetapi memenuhi syarat \"good\" variable\n",
        "# Lakukan operasi pengurangan 18 - 13 dengan variabel yang telah dibuat\n",
        "\n",
        "num_1 = 18\n",
        "num_2 = 13\n",
        "print(num_1-num_2)"
      ],
      "metadata": {
        "colab": {
          "base_uri": "https://localhost:8080/"
        },
        "id": "KEOMvnb0DXg1",
        "outputId": "a7ec1c1f-55d4-4a40-bc00-3b86fe6f6ee5"
      },
      "execution_count": 18,
      "outputs": [
        {
          "output_type": "stream",
          "name": "stdout",
          "text": [
            "5\n"
          ]
        }
      ]
    },
    {
      "cell_type": "markdown",
      "source": [
        "**Perkalian**"
      ],
      "metadata": {
        "id": "t26eDy5eDkPu"
      }
    },
    {
      "cell_type": "markdown",
      "source": [
        "Simbol kali `(*)` akan mengalikan nilai di kedua sisi operator\n",
        "\n",
        "Silahkan lakukan operasi perkalian 2 **dikali** 3."
      ],
      "metadata": {
        "id": "4lhonF0vDlWU"
      }
    },
    {
      "cell_type": "code",
      "source": [
        "# Coba lengkapi titik - titik dibawah ini dengan operator kali\n",
        "\n",
        "print(2*3)"
      ],
      "metadata": {
        "colab": {
          "base_uri": "https://localhost:8080/"
        },
        "id": "P3aY_Gp5Dp0F",
        "outputId": "461d0336-4d68-4af1-cf9c-5d747dc42d25"
      },
      "execution_count": 19,
      "outputs": [
        {
          "output_type": "stream",
          "name": "stdout",
          "text": [
            "6\n"
          ]
        }
      ]
    },
    {
      "cell_type": "markdown",
      "source": [
        "Silahkan lakukan operasi perkalian 10 **dikali** 20."
      ],
      "metadata": {
        "id": "ILhNP31RDwlu"
      }
    },
    {
      "cell_type": "code",
      "source": [
        "# Coba ketik dan keluarkan hasil operasinya\n",
        "\n",
        "print(10*20)"
      ],
      "metadata": {
        "colab": {
          "base_uri": "https://localhost:8080/"
        },
        "id": "mtIRjowZDv56",
        "outputId": "ac5a6d3f-c29f-45e8-87d8-44a9f5705083"
      },
      "execution_count": 20,
      "outputs": [
        {
          "output_type": "stream",
          "name": "stdout",
          "text": [
            "200\n"
          ]
        }
      ]
    },
    {
      "cell_type": "markdown",
      "source": [
        "Kita juga bisa melakukan perkalian dengan menggunakan variabel yang kita miliki atau buat sendiri."
      ],
      "metadata": {
        "id": "Z5g7HYR7D3ug"
      }
    },
    {
      "cell_type": "code",
      "source": [
        "# Coba isi titik-titik dibawah ini dengan operator kali\n",
        "\n",
        "mark_1 = 8\n",
        "mark_2 = 7\n",
        "print(mark_1*mark_2)"
      ],
      "metadata": {
        "colab": {
          "base_uri": "https://localhost:8080/"
        },
        "id": "7hbEbKniD4eK",
        "outputId": "8004c35d-caa9-4f95-ca09-86852fe2a441"
      },
      "execution_count": 21,
      "outputs": [
        {
          "output_type": "stream",
          "name": "stdout",
          "text": [
            "56\n"
          ]
        }
      ]
    },
    {
      "cell_type": "code",
      "source": [
        "# Coba buatlah 2 variabel untuk menampung angka 5 dan 8\n",
        "# Untuk penamaan variabel bebas, tetapi memenuhi syarat \"good\" variable\n",
        "# Lakukan operasi perkalian pada dua variabel tersebut\n",
        "\n",
        "num_1 = 5\n",
        "num_2 = 8\n",
        "print(num_1*num_2)"
      ],
      "metadata": {
        "colab": {
          "base_uri": "https://localhost:8080/"
        },
        "id": "W26RvKgJD9PN",
        "outputId": "119434cd-20fd-4a80-ef31-cd63c170a0d8"
      },
      "execution_count": 22,
      "outputs": [
        {
          "output_type": "stream",
          "name": "stdout",
          "text": [
            "40\n"
          ]
        }
      ]
    },
    {
      "cell_type": "markdown",
      "source": [
        "**Pembagian**"
      ],
      "metadata": {
        "id": "zB0MyW9sEEdZ"
      }
    },
    {
      "cell_type": "markdown",
      "source": [
        "Operator bagi `(/)` akan membagi angka disebelah kiri dengan angka sebelah kanan operator.\n",
        "\n",
        "Silahkan lakukan operasi pembagian 4 **dibagi** 2."
      ],
      "metadata": {
        "id": "KpiqVtp3EFit"
      }
    },
    {
      "cell_type": "code",
      "source": [
        "# Coba lengkapi titik - titik dibawah ini dengan operator pembagian\n",
        "\n",
        "print(4/2)"
      ],
      "metadata": {
        "colab": {
          "base_uri": "https://localhost:8080/"
        },
        "id": "qT5IOHnOEK0s",
        "outputId": "a18b3859-e604-4d13-f636-2b4c88a303cf"
      },
      "execution_count": 23,
      "outputs": [
        {
          "output_type": "stream",
          "name": "stdout",
          "text": [
            "2.0\n"
          ]
        }
      ]
    },
    {
      "cell_type": "markdown",
      "source": [
        "Silahkan lakukan operasi pembagian 25 **dibagi** 5"
      ],
      "metadata": {
        "id": "j_L-3vZ8EKVn"
      }
    },
    {
      "cell_type": "code",
      "source": [
        "# Coba keluarkan hasil pembagiannya\n",
        "\n",
        "print(25/5)"
      ],
      "metadata": {
        "colab": {
          "base_uri": "https://localhost:8080/"
        },
        "id": "gNzh8FdOEQe9",
        "outputId": "3f702d83-2f51-48c2-fd57-b3e4671fdae2"
      },
      "execution_count": 24,
      "outputs": [
        {
          "output_type": "stream",
          "name": "stdout",
          "text": [
            "5.0\n"
          ]
        }
      ]
    },
    {
      "cell_type": "markdown",
      "source": [
        "Kita juga bisa melakukan pembagian dengan menggunakan variabel yang kita miliki atau buat sendiri."
      ],
      "metadata": {
        "id": "PJT6URSCEXMQ"
      }
    },
    {
      "cell_type": "code",
      "source": [
        "# Coba isi titik-titik dibawah ini dengan operator bagi\n",
        "\n",
        "div_1 = 63\n",
        "div_2 = 9\n",
        "print(div_1/div_2)"
      ],
      "metadata": {
        "colab": {
          "base_uri": "https://localhost:8080/"
        },
        "id": "JxyAKiYxEX3u",
        "outputId": "87303292-8ea5-4b87-968c-d6658c6a238d"
      },
      "execution_count": 25,
      "outputs": [
        {
          "output_type": "stream",
          "name": "stdout",
          "text": [
            "7.0\n"
          ]
        }
      ]
    },
    {
      "cell_type": "code",
      "source": [
        "# Buatlah 2 variabel untuk menampung angka 27 dan 3\n",
        "# Untuk penamaan variabel bebas, tetapi memenuhi syarat \"good\" variable\n",
        "# Lakukan operasi pembagian 27 dibagi 3 dengan variabel yang sudah dibuat\n",
        "\n",
        "num_1 = 27\n",
        "num_2 = 3\n",
        "print(num_1/num_2)"
      ],
      "metadata": {
        "colab": {
          "base_uri": "https://localhost:8080/"
        },
        "id": "QpiDZ0NAEcgz",
        "outputId": "d4f3fd3c-5903-4d7b-e313-eeec5d8302ae"
      },
      "execution_count": 26,
      "outputs": [
        {
          "output_type": "stream",
          "name": "stdout",
          "text": [
            "9.0\n"
          ]
        }
      ]
    },
    {
      "cell_type": "markdown",
      "source": [
        "**Mini Exercise**"
      ],
      "metadata": {
        "id": "WCMdCtNkElN8"
      }
    },
    {
      "cell_type": "markdown",
      "source": [
        "Sebagai seorang Analyst, anda ingin mengetahui rata-rata penjualan toko selama 3 bulan. datanya sebagai berikut:\n",
        "\n",
        "![aldfjlas.JPG](data:image/jpeg;base64,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)"
      ],
      "metadata": {
        "id": "t9Y3BPo4EmhC"
      }
    },
    {
      "cell_type": "markdown",
      "source": [
        "Berapakah rata-rata pendapatan penjualan toko anda selama tiga bulan?"
      ],
      "metadata": {
        "id": "DU-srUPTEtVS"
      }
    },
    {
      "cell_type": "code",
      "source": [
        "# Jawab disini\n",
        "\n",
        "bulan_1 = 2578500\n",
        "bulan_2 = 2867400\n",
        "bulan_3 = 3100600\n",
        "rata_rata = (bulan_1+bulan_2+bulan_3)/3\n",
        "print(rata_rata)"
      ],
      "metadata": {
        "colab": {
          "base_uri": "https://localhost:8080/"
        },
        "id": "_yNJKSxhEt-d",
        "outputId": "9e400f36-e276-4d8d-de47-52b722a35ebc"
      },
      "execution_count": 28,
      "outputs": [
        {
          "output_type": "stream",
          "name": "stdout",
          "text": [
            "2848833.3333333335\n"
          ]
        }
      ]
    },
    {
      "cell_type": "markdown",
      "source": [
        "**Floor Division**"
      ],
      "metadata": {
        "id": "psNKJpIRFLVO"
      }
    },
    {
      "cell_type": "markdown",
      "source": [
        "Floor division berarti **membagi dan membulatkan ke bawah** ke bilangan bulat terdekat.\n",
        "\n",
        "Jika pembagian biasa, contohnya `7 / 2 = 3.5` maka floor devision akan membulatkan ke bawah ke bilangan bulat terdekat, berarti `7 // 2 = 3`."
      ],
      "metadata": {
        "id": "UTTlZaN1FPK-"
      }
    },
    {
      "cell_type": "markdown",
      "source": [
        "Silahkan lakukan operasi 7 **floor division** 2."
      ],
      "metadata": {
        "id": "v4Jza4P0FUUm"
      }
    },
    {
      "cell_type": "code",
      "source": [
        "# Lengkapi titik - titik dibawah ini dengan operasi floor division\n",
        "\n",
        "print(7//2)"
      ],
      "metadata": {
        "colab": {
          "base_uri": "https://localhost:8080/"
        },
        "id": "YnRhWaRWFNk-",
        "outputId": "3a84ebb9-7dc0-43d9-8d60-50865fe3ff93"
      },
      "execution_count": 29,
      "outputs": [
        {
          "output_type": "stream",
          "name": "stdout",
          "text": [
            "3\n"
          ]
        }
      ]
    },
    {
      "cell_type": "markdown",
      "source": [
        "Silahkan lakukan operasi 8 **floor division** 3."
      ],
      "metadata": {
        "id": "kphV7uWHFeZB"
      }
    },
    {
      "cell_type": "code",
      "source": [
        "# Coba keluarkan hasil pembagiannya\n",
        "\n",
        "print(8//3)"
      ],
      "metadata": {
        "colab": {
          "base_uri": "https://localhost:8080/"
        },
        "id": "qX2y0YGLFhM-",
        "outputId": "7aed0a06-d045-4b24-a712-6a516bf9c60a"
      },
      "execution_count": 30,
      "outputs": [
        {
          "output_type": "stream",
          "name": "stdout",
          "text": [
            "2\n"
          ]
        }
      ]
    },
    {
      "cell_type": "markdown",
      "source": [
        "Kita juga bisa melakukan operasi floor devision dengan menggunakan variabel yang kita miliki atau buat sendiri."
      ],
      "metadata": {
        "id": "HWdi24EBFl49"
      }
    },
    {
      "cell_type": "code",
      "source": [
        "# Lengkapi titik-titik dibawah ini dengan operasi floor division\n",
        "\n",
        "fDivision_1 = 33\n",
        "fDivision_2 = 9\n",
        "print(fDivision_1//fDivision_2)"
      ],
      "metadata": {
        "colab": {
          "base_uri": "https://localhost:8080/"
        },
        "id": "NN2gNtUPFmjp",
        "outputId": "77998574-caab-4e3c-ded9-f32c6bba54c0"
      },
      "execution_count": 31,
      "outputs": [
        {
          "output_type": "stream",
          "name": "stdout",
          "text": [
            "3\n"
          ]
        }
      ]
    },
    {
      "cell_type": "code",
      "source": [
        "# Buatlah 2 variabel untuk menampung angka 15 dan 4\n",
        "# Untuk penamaan variabel bebas, tetapi memenuhi syarat \"good\" variable\n",
        "# Lakukan operasi 15 floor devision 4 dengan variabel yang sudah dibuat\n",
        "\n",
        "num_1 = 15\n",
        "num_2 = 4\n",
        "print(num_1//num_2)"
      ],
      "metadata": {
        "colab": {
          "base_uri": "https://localhost:8080/"
        },
        "id": "rkBEIdsXFr8s",
        "outputId": "aab9c7c3-b2e2-40e5-85ef-465115fbe412"
      },
      "execution_count": 32,
      "outputs": [
        {
          "output_type": "stream",
          "name": "stdout",
          "text": [
            "3\n"
          ]
        }
      ]
    },
    {
      "cell_type": "markdown",
      "source": [
        "**Modulo (Sisa Bagi Hasil)**"
      ],
      "metadata": {
        "id": "7SJTSRfKFzwY"
      }
    },
    {
      "cell_type": "markdown",
      "source": [
        "Mungkin anda berpikir kalau simbol `%` artinya adalah persen. Namun pada Python ini disebut **Modulo**.\n",
        "\n",
        "Misalnya, anda memiliki 5 apel dan akan dibagikan ke dua teman anda. Jika setiap orang mendapatkan apel utuh dalam jumlah yang sama, berapa sisa apel anda?"
      ],
      "metadata": {
        "id": "-kyz0DJpF2oC"
      }
    },
    {
      "cell_type": "markdown",
      "source": [
        "Silahkan lakukan operasi 5 **modulo** 2."
      ],
      "metadata": {
        "id": "OkMOY5A3F8vG"
      }
    },
    {
      "cell_type": "code",
      "source": [
        "# Coba lengkapi titik - titik dibawah ini dengan operasi modulo\n",
        "\n",
        "print(5%2)"
      ],
      "metadata": {
        "colab": {
          "base_uri": "https://localhost:8080/"
        },
        "id": "wsPo7UtHF8AT",
        "outputId": "ae5c59f3-c09b-410c-eb58-32a91f66310f"
      },
      "execution_count": 33,
      "outputs": [
        {
          "output_type": "stream",
          "name": "stdout",
          "text": [
            "1\n"
          ]
        }
      ]
    },
    {
      "cell_type": "markdown",
      "source": [
        "Silahkan lakukan operasi 17 **modulo** 3."
      ],
      "metadata": {
        "id": "_s3mg2LNGETm"
      }
    },
    {
      "cell_type": "code",
      "source": [
        "# Coba keluarkan hasil operasi modulo dibawah\n",
        "\n",
        "print(17%3)"
      ],
      "metadata": {
        "colab": {
          "base_uri": "https://localhost:8080/"
        },
        "id": "Zi23yKPAGF5G",
        "outputId": "da13e31a-74d4-404e-9f7f-81af501cc415"
      },
      "execution_count": 34,
      "outputs": [
        {
          "output_type": "stream",
          "name": "stdout",
          "text": [
            "2\n"
          ]
        }
      ]
    },
    {
      "cell_type": "markdown",
      "source": [
        "Kita juga bisa melakukan operasi modulo dengan variabel yang dimiliki atau anda buat sendiri."
      ],
      "metadata": {
        "id": "M3hQH8N2GLUw"
      }
    },
    {
      "cell_type": "code",
      "source": [
        "# Coba lengkapi titik-titik dibawah ini dengan operasi modulo\n",
        "\n",
        "mod_1 = 44\n",
        "mod_2 = 7\n",
        "print(mod_1%mod_2)"
      ],
      "metadata": {
        "colab": {
          "base_uri": "https://localhost:8080/"
        },
        "id": "kUyodg4NGMoq",
        "outputId": "cc9ab3fe-c15c-4b93-f28f-10b676a68e8e"
      },
      "execution_count": 35,
      "outputs": [
        {
          "output_type": "stream",
          "name": "stdout",
          "text": [
            "2\n"
          ]
        }
      ]
    },
    {
      "cell_type": "code",
      "source": [
        "# Coba buatlah 2 variabel untuk menampung angka 64 dan 6\n",
        "# Untuk penamaan variabel bebas, tetapi memenuhi syarat \"good\" variable\n",
        "# Lakukan operasi 64 modulo 6 dengan variabel yang sudah dibuat\n",
        "\n",
        "num_1 = 64\n",
        "num_2 = 6\n",
        "print(num_1%num_2)"
      ],
      "metadata": {
        "colab": {
          "base_uri": "https://localhost:8080/"
        },
        "id": "oLtO61RcGR5w",
        "outputId": "d0c03f8c-f857-4354-b246-082c0a1de5b3"
      },
      "execution_count": 37,
      "outputs": [
        {
          "output_type": "stream",
          "name": "stdout",
          "text": [
            "4\n"
          ]
        }
      ]
    },
    {
      "cell_type": "markdown",
      "source": [
        "**Pangkat**"
      ],
      "metadata": {
        "id": "_fvbWbemGbB0"
      }
    },
    {
      "cell_type": "markdown",
      "source": [
        "Operasi **pangkat** pada Python dilambangkan dengan `**`.\n",
        "\n",
        "Silahkan lakukan operasi 3 **pangkat** 2"
      ],
      "metadata": {
        "id": "0yXTg_ZSGdj0"
      }
    },
    {
      "cell_type": "code",
      "source": [
        "# Coba lengkapi titik - titik dibawah ini dengan operasi pangkat\n",
        "\n",
        "print(3**2)"
      ],
      "metadata": {
        "colab": {
          "base_uri": "https://localhost:8080/"
        },
        "id": "ACRFuOeTGckd",
        "outputId": "60773a2e-8f72-4f79-ac04-b823b4ed7bdf"
      },
      "execution_count": 38,
      "outputs": [
        {
          "output_type": "stream",
          "name": "stdout",
          "text": [
            "9\n"
          ]
        }
      ]
    },
    {
      "cell_type": "markdown",
      "source": [
        "Silahkan lakukan operasi 4 **pangkat** 4."
      ],
      "metadata": {
        "id": "5guKUgRWGuvW"
      }
    },
    {
      "cell_type": "code",
      "source": [
        "# Coba keluarkan hasil operasi pangkat\n",
        "\n",
        "print(4**4)"
      ],
      "metadata": {
        "colab": {
          "base_uri": "https://localhost:8080/"
        },
        "id": "El8zOFR0GtH3",
        "outputId": "4ee5b771-4c12-4345-bd64-a5569af97760"
      },
      "execution_count": 40,
      "outputs": [
        {
          "output_type": "stream",
          "name": "stdout",
          "text": [
            "256\n"
          ]
        }
      ]
    },
    {
      "cell_type": "markdown",
      "source": [
        "Kita juga bisa melakukan operasi pangkat dengan variabel yang kita miliki atau buat sendiri."
      ],
      "metadata": {
        "id": "GTcp3Z-_G3oO"
      }
    },
    {
      "cell_type": "code",
      "source": [
        "# Coba lengkapi titik-titik dibawah ini dengan operasi pangkat\n",
        "\n",
        "mark_1 = 2\n",
        "mark_2 = 9\n",
        "print(mark_1**mark_2)"
      ],
      "metadata": {
        "colab": {
          "base_uri": "https://localhost:8080/"
        },
        "id": "iB8q1C7dG4c4",
        "outputId": "cb0ab201-27e1-4137-dcda-5beb125105a1"
      },
      "execution_count": 41,
      "outputs": [
        {
          "output_type": "stream",
          "name": "stdout",
          "text": [
            "512\n"
          ]
        }
      ]
    },
    {
      "cell_type": "code",
      "source": [
        "# Coba buatlah 2 variabel untuk menampung angka 7 dan 4\n",
        "# Untuk penamaan variabel bebas, tetapi memenuhi syarat \"good\" variable\n",
        "# Lakukan operasi 7 pangkat 4 dengan variabel yang sudah dibuat\n",
        "\n",
        "num_1 = 7\n",
        "num_2 = 4\n",
        "print(num_1**num_2)"
      ],
      "metadata": {
        "colab": {
          "base_uri": "https://localhost:8080/"
        },
        "id": "Om97AyLhG9LC",
        "outputId": "4b724904-e64f-4e69-db2e-b53cc467d3d3"
      },
      "execution_count": 42,
      "outputs": [
        {
          "output_type": "stream",
          "name": "stdout",
          "text": [
            "2401\n"
          ]
        }
      ]
    },
    {
      "cell_type": "markdown",
      "source": [
        "**Mini Exercise**"
      ],
      "metadata": {
        "id": "R0KN8jmQHGQ_"
      }
    },
    {
      "cell_type": "markdown",
      "source": [
        "Doni membeli 2 kotak Martabak Manis. Didalam 1 kotak, Martabak Manis dipotong menjadi 10 bagian. Doni kemudian menyantapnya bersama 6 orang temannya. Jika setiap orang mendapat jumlah yang sama. Berapakah sisa Martabak Manis di dalam kotak?"
      ],
      "metadata": {
        "id": "TnBRp0dsHH6n"
      }
    },
    {
      "cell_type": "code",
      "source": [
        "martabak_manis = 20\n",
        "juml_org = 7\n",
        "sisa_martabak = martabak_manis%juml_org\n",
        "print(sisa_martabak)"
      ],
      "metadata": {
        "colab": {
          "base_uri": "https://localhost:8080/"
        },
        "id": "35UBs7LrHKYF",
        "outputId": "f90167f7-b564-40b6-8309-327c97973f16"
      },
      "execution_count": 43,
      "outputs": [
        {
          "output_type": "stream",
          "name": "stdout",
          "text": [
            "6\n"
          ]
        }
      ]
    },
    {
      "cell_type": "markdown",
      "source": [
        "**Exercise**"
      ],
      "metadata": {
        "id": "doDhCiSAHiAh"
      }
    },
    {
      "cell_type": "markdown",
      "source": [
        "Pak Hartono agak kesal karena harga BBM naik dari Rp 7650 per liter menjadi Rp 10000 per liter. Jika sebelumnya beliau membeli Rp 20000 sudah full tank, berapa liter yang harus dibayar Pak Hartono jika mengisi full tank dengan harga yang baru?"
      ],
      "metadata": {
        "id": "uc3wCaPXHjjB"
      }
    },
    {
      "cell_type": "code",
      "source": [
        "# Statement variabel yang diketahui\n",
        "harga_bbm_lama = 7650\n",
        "harga_bbm_baru = 10000\n",
        "harga_fulltank_lama = 20000\n",
        "\n",
        "# Pertama, mencari kapasitas tangki dari pembagian antara harga full tank yang lama dengan harga BBM yang lama\n",
        "kapasitas_tangki = harga_fulltank_lama/harga_bbm_lama\n",
        "\n",
        "# Kemudian setelah diketahui kapasitas tangki, hitung harga full tank yang baru\n",
        "harga_fulltank_baru = harga_bbm_baru*kapasitas_tangki\n",
        "\n",
        "print(kapasitas_tangki)\n",
        "print(harga_fulltank_baru)"
      ],
      "metadata": {
        "colab": {
          "base_uri": "https://localhost:8080/"
        },
        "id": "if7h_oZRHljY",
        "outputId": "46be36a5-6e01-4ba1-a8d8-239267a61f48"
      },
      "execution_count": 46,
      "outputs": [
        {
          "output_type": "stream",
          "name": "stdout",
          "text": [
            "2.6143790849673203\n",
            "26143.7908496732\n"
          ]
        }
      ]
    },
    {
      "cell_type": "markdown",
      "source": [
        "Putra bekerja di sebuah perusahaan swasta. Beliau mendapatkan gaji tahunan sebesar Rp 160 juta dan dibayarkan setiap dua minggu. Jika dalam satu tahun gaji tersebut dibayarkan sebanyak 26 kali, berapakah gaji yang di dapatkan Putra selama dua minggu?"
      ],
      "metadata": {
        "id": "6cwVqFy3Jnc_"
      }
    },
    {
      "cell_type": "code",
      "source": [
        "gaji_pertahun = 160_000_000\n",
        "dibayarkan = 26\n",
        "\n",
        "gaji_duaminggu = gaji_pertahun/dibayarkan\n",
        "\n",
        "print(gaji_duaminggu)"
      ],
      "metadata": {
        "colab": {
          "base_uri": "https://localhost:8080/"
        },
        "id": "CPJBTMGYJqNw",
        "outputId": "24fe2c8c-64a0-4465-ec7b-4a37fde0fd24"
      },
      "execution_count": 49,
      "outputs": [
        {
          "output_type": "stream",
          "name": "stdout",
          "text": [
            "6153846.153846154\n"
          ]
        }
      ]
    }
  ]
}