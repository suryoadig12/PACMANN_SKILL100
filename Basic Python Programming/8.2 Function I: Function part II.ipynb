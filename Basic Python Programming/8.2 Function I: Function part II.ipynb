{
  "nbformat": 4,
  "nbformat_minor": 0,
  "metadata": {
    "colab": {
      "provenance": [],
      "authorship_tag": "ABX9TyMgFqaB2WC5XjPaOTXpOY/5",
      "include_colab_link": true
    },
    "kernelspec": {
      "name": "python3",
      "display_name": "Python 3"
    },
    "language_info": {
      "name": "python"
    }
  },
  "cells": [
    {
      "cell_type": "markdown",
      "metadata": {
        "id": "view-in-github",
        "colab_type": "text"
      },
      "source": [
        "<a href=\"https://colab.research.google.com/github/suryoadig12/PACMANN_SKILL100/blob/main/Basic%20Python%20Programming/8.2%20Function%20I%3A%20Function%20part%20II.ipynb\" target=\"_parent\"><img src=\"https://colab.research.google.com/assets/colab-badge.svg\" alt=\"Open In Colab\"/></a>"
      ]
    },
    {
      "cell_type": "markdown",
      "source": [
        "# **Arbitrary Arguments**"
      ],
      "metadata": {
        "id": "1C16UQDkonFA"
      }
    },
    {
      "cell_type": "markdown",
      "source": [
        "![alsdjflsd.JPG](data:image/jpeg;base64,/9j/4AAQSkZJRgABAQEAkACQAAD/4QLgRXhpZgAATU0AKgAAAAgABAE7AAIAAAAHAAABSodpAAQAAAABAAABUpydAAEAAAAOAAACyuocAAcAAAEMAAAAPgAAAAAc6gAAAAEAAAAAAAAAAAAAAAAAAAAAAAAAAAAAAAAAAAAAAAAAAAAAAAAAAAAAAAAAAAAAAAAAAAAAAAAAAAAAAAAAAAAAAAAAAAAAAAAAAAAAAAAAAAAAAAAAAAAAAAAAAAAAAAAAAAAAAAAAAAAAAAAAAAAAAAAAAAAAAAAAAAAAAAAAAAAAAAAAAAAAAAAAAAAAAAAAAAAAAAAAAAAAAAAAAAAAAAAAAAAAAAAAAAAAAAAAAAAAAAAAAAAAAAAAAAAAAAAAAAAAAAAAAAAAAAAAAAAAAAAAAAAAAAAAAAAAAAAAAAAAAAAAAAAAAAAAAAAAAAAAAAAAAAAAAAAAAAAAAAAAAAAAAAAATEVOT1ZPAAAABZADAAIAAAAUAAACoJAEAAIAAAAUAAACtJKRAAIAAAADMjQAAJKSAAIAAAADMjQAAOocAAcAAAEMAAABlAAAAAAc6gAAAAEAAAAAAAAAAAAAAAAAAAAAAAAAAAAAAAAAAAAAAAAAAAAAAAAAAAAAAAAAAAAAAAAAAAAAAAAAAAAAAAAAAAAAAAAAAAAAAAAAAAAAAAAAAAAAAAAAAAAAAAAAAAAAAAAAAAAAAAAAAAAAAAAAAAAAAAAAAAAAAAAAAAAAAAAAAAAAAAAAAAAAAAAAAAAAAAAAAAAAAAAAAAAAAAAAAAAAAAAAAAAAAAAAAAAAAAAAAAAAAAAAAAAAAAAAAAAAAAAAAAAAAAAAAAAAAAAAAAAAAAAAAAAAAAAAAAAAAAAAAAAAAAAAAAAAAAAAAAAAAAAAAAAAAAAAAAAAAAAAAAAAAAAAAAAAMjAyNTowNDoyNCAyMDowNzoxMQAyMDI1OjA0OjI0IDIwOjA3OjExAAAATABFAE4ATwBWAE8AAAD/4QQZaHR0cDovL25zLmFkb2JlLmNvbS94YXAvMS4wLwA8P3hwYWNrZXQgYmVnaW49J++7vycgaWQ9J1c1TTBNcENlaGlIenJlU3pOVGN6a2M5ZCc/Pg0KPHg6eG1wbWV0YSB4bWxuczp4PSJhZG9iZTpuczptZXRhLyI+PHJkZjpSREYgeG1sbnM6cmRmPSJodHRwOi8vd3d3LnczLm9yZy8xOTk5LzAyLzIyLXJkZi1zeW50YXgtbnMjIj48cmRmOkRlc2NyaXB0aW9uIHJkZjphYm91dD0idXVpZDpmYWY1YmRkNS1iYTNkLTExZGEtYWQzMS1kMzNkNzUxODJmMWIiIHhtbG5zOmRjPSJodHRwOi8vcHVybC5vcmcvZGMvZWxlbWVudHMvMS4xLyIvPjxyZGY6RGVzY3JpcHRpb24gcmRmOmFib3V0PSJ1dWlkOmZhZjViZGQ1LWJhM2QtMTFkYS1hZDMxLWQzM2Q3NTE4MmYxYiIgeG1sbnM6eG1wPSJodHRwOi8vbnMuYWRvYmUuY29tL3hhcC8xLjAvIj48eG1wOkNyZWF0ZURhdGU+MjAyNS0wNC0yNFQyMDowNzoxMS4yNDE8L3htcDpDcmVhdGVEYXRlPjwvcmRmOkRlc2NyaXB0aW9uPjxyZGY6RGVzY3JpcHRpb24gcmRmOmFib3V0PSJ1dWlkOmZhZjViZGQ1LWJhM2QtMTFkYS1hZDMxLWQzM2Q3NTE4MmYxYiIgeG1sbnM6ZGM9Imh0dHA6Ly9wdXJsLm9yZy9kYy9lbGVtZW50cy8xLjEvIj48ZGM6Y3JlYXRvcj48cmRmOlNlcSB4bWxuczpyZGY9Imh0dHA6Ly93d3cudzMub3JnLzE5OTkvMDIvMjItcmRmLXN5bnRheC1ucyMiPjxyZGY6bGk+TEVOT1ZPPC9yZGY6bGk+PC9yZGY6U2VxPg0KCQkJPC9kYzpjcmVhdG9yPjwvcmRmOkRlc2NyaXB0aW9uPjwvcmRmOlJERj48L3g6eG1wbWV0YT4NCiAgICAgICAgICAgICAgICAgICAgICAgICAgICAgICAgICAgICAgICAgICAgICAgICAgICAgICAgICAgICAgICAgICAgICAgICAgICAgICAgICAgICAgICAgICAgICAgICAgICAKICAgICAgICAgICAgICAgICAgICAgICAgICAgICAgICAgICAgICAgICAgICAgICAgICAgICAgICAgICAgICAgICAgICAgICAgICAgICAgICAgICAgICAgICAgICAgICAgICAgIAogICAgICAgICAgICAgICAgICAgICAgICAgICAgICAgICAgICAgICAgICAgICAgICAgICAgICA8P3hwYWNrZXQgZW5kPSd3Jz8+/9sAQwAHBQUGBQQHBgUGCAcHCAoRCwoJCQoVDxAMERgVGhkYFRgXGx4nIRsdJR0XGCIuIiUoKSssKxogLzMvKjInKisq/9sAQwEHCAgKCQoUCwsUKhwYHCoqKioqKioqKioqKioqKioqKioqKioqKioqKioqKioqKioqKioqKioqKioqKioqKioq/8AAEQgAfwHdAwEiAAIRAQMRAf/EAB8AAAEFAQEBAQEBAAAAAAAAAAABAgMEBQYHCAkKC//EALUQAAIBAwMCBAMFBQQEAAABfQECAwAEEQUSITFBBhNRYQcicRQygZGhCCNCscEVUtHwJDNicoIJChYXGBkaJSYnKCkqNDU2Nzg5OkNERUZHSElKU1RVVldYWVpjZGVmZ2hpanN0dXZ3eHl6g4SFhoeIiYqSk5SVlpeYmZqio6Slpqeoqaqys7S1tre4ubrCw8TFxsfIycrS09TV1tfY2drh4uPk5ebn6Onq8fLz9PX29/j5+v/EAB8BAAMBAQEBAQEBAQEAAAAAAAABAgMEBQYHCAkKC//EALURAAIBAgQEAwQHBQQEAAECdwABAgMRBAUhMQYSQVEHYXETIjKBCBRCkaGxwQkjM1LwFWJy0QoWJDThJfEXGBkaJicoKSo1Njc4OTpDREVGR0hJSlNUVVZXWFlaY2RlZmdoaWpzdHV2d3h5eoKDhIWGh4iJipKTlJWWl5iZmqKjpKWmp6ipqrKztLW2t7i5usLDxMXGx8jJytLT1NXW19jZ2uLj5OXm5+jp6vLz9PX29/j5+v/aAAwDAQACEQMRAD8A+kaKKKACiiigAooooAKKKKACiiigAooooAKKKKACiiigAooooAKKKKACiiigAooooAKKKKACiiigAooooAKKKKACiiigAooooAKKKKACiignHWgAoqlNq9hAcPcoT6L838qz77Vo7hB9huJ0kXP3IiQ31pXQ0mbtFYmja3LfT/Z7iMbwpO9eM/UVLqN5dR6iIbdmC+TvASLfls8D2FLmVrj5XexrUVi3t/epPsTKBHTcAmfl4JbPp2/OpxcXv2y9IwYbflE28uducf59aOZCsadFYUWo3h+1u7kqtsXiPl7QWHXGeuCal+0ajFIzyuHhiZN2Isbg3U/hRzILGxTUdZF3RsGGcZBrMS6ubjVpYPOECKSAvy7iMDBGRn+lVYLh7TR90MzO5l2yEsP3fJ/Afj60uYfKb9RzTJAqmQ4DMFHHcnArOWe+kuLSJJoyrxFpJAuQcEdKm1kSfYQ8Rw0ciMWIzgA9cU+bS4ral+isWW/uo9PDCTcGnKLOQF+XHB54HPGanimvZNQiiEiGLyEkdwuQTk5x9aOZBY06KyIdVna4McsWxVSTLbCBuB4H5c1FaahfNaNMwaX90GJaLaFYnt6jHJpc6Hys3KKzdKubiea4FwzMAQYyU25X1x+FaVUndXJCiiimAUUUUAFFFFABRRRQAUUUUAFFFFABRRRQAUUUUAFFFFABRRRQAUUUUAFFFFABRRRQAUUUUAFFFFABRRRQAUUUUAFFFFABRRRQAUUVXvbpbO1aUjceir/ePYUAR3+opZ4REM07/ciXqfc+1U10y6vyJNVnYL1EEZwo+tWtOsjCpuLn5rqXl2Pb2FXqW+5V7bFeCwtbYDyIEQgdQOfzqHUIZ7jy7a3PlxyZ82QdQPQfWr1FMVytbWdtp8OIlVAB8zHqfqaPIYak1wGXYYghHfOc1R1XTbi+lfYUKlRtLH7hHPA9+OanTTy+pm5n5URqFXPAYd6i7vsMnsrk3NmszgBjnhfY0kmoQxNAJP3fnf3ztK8Z5qjZ6VJb3H3VQLv/AHgbmTd0+mKeLKSI2DmBZHiXZIQR6Yzk9aE3YLI1OD6Ub13FdwyBkjPSsxdMkU30ofE0xbyWz9wEfpVddIuRDeqojj+0IoVVbhCD0/Lv60cz7BZdzc46/rSYHoKzLuylgsQtnIECRsJC5PORy3ueP1qzbiSTR41RtsjQgAnscU7isWty7tuRkDOM9BS9axINKuYzcEiNfOgMYAbOD6k981JLps8enxQ25BPWYlyu44659M9qOZ22CyNfAxjHFHArBS0vbrTbc28qrutwhZmI6HP64xVifS3u7iSWVApbysfN0A+8P6UuZ9h2RpyoJIHXIG5SM/WmWkZgs4YpGUsiBSR0PFZ0+n3P2M28YBjScuqqRyhzxg8cE/pSNpJmcB0KqtqI0DNna3PP1HrRd32A0J72G3uIopGVTJnBLAYxU4IPQg4rOe1l+02c7QI7oCshUj2wcnrUllayW93csVVY5GyuDkk5PfH6U7u4uheoooqhBRRRQAUVWv8AUbPS7b7RqNzFbQ7gvmSsFGT0GasghgCOQeQadna4rq9goopCQqkscAckmkMWisbSfF2ia7qM1jpN8tzPCpZwinbgHGQ2MHk9jWzVSjKLtJWJjJSV0woooqSgooooAKKKKACiiigAooooAKKKiubmGztZbm6lSGCJS8kjnCqo5JJ9KAJaKxfDvi7RPFYuDoN6LsWxAkIjZQM5x1Az0PStqgAooooAKKKKACiiigAoopGZUUs5CgdSTjFAC0UAgjIOR6iigBjzRRuiSSKrOcKCeTSfaYT5mJU/dff5+79apW93p2rX86Q/vpdOlEbvtIVHwDgHoSOM+lWhZW487EQ/f/6zn73+c0g0Y77TBiM+amJPufN976Uv2iHc6+amYxlxn7v1qP7DbFYR5QxAcx8n5aX7Fb75W8obphiQ5+8KNR6DvtUG1G85Nshwh3fePtVG5dLjWooWYeXboZX54z2z/Orf2C28uJPKG2E7kGT8pp32ODzpJfLG+Vdrn1FAaB9rt/LWTzk2McK27gmn+fEZWiEi+YoyVzyBUP8AZ9r5CQ+SPLjbcq5PBp4tYRcPOIx5rrtZvUUahoH2u38kS+dH5bHAbdwTT/Pi84xeYvmAZK55xUJ060NstuYR5StuC5PBqT7LD9pNx5Y80rtLe1PUNBBd25i8wTR7M7d27jPpU1Z18mnaZpE01zERa24MrhFLEY6nA5q7bzxXVtHPbuHikUMjL0IPQ0habElFFFMAooooAgubOO6x5pfA4Kq5AYehHepwAAAOAKKKACori2juowku4DOflYj+VS0UAIiLHGqIMKowAOwpaKKACiiigAooooAKKKKACud8QeMbbRdQh0y2tLjUtUnXdHaWwBIH95ieFHvXRV574O2y/FTxdJdY+1q0aR56iPHb24Wt6UYtSlLojGrJpxjHqzE+Iniu4vfDB0zWtFudIvJJo5IhIwkjlAYZw47j0r02/wBWs9D0M6hqUwht4YwWY9/QAdzXIfGNYT4KjMuPMW8i8rPXOef0zVT4stcHSvD8MIRkkvowyynCMccBvaulRjVjTilZNv8AQ5nKVKU3e9kv1NNviFeQ2o1K68K6lDo5G77WSpdV/vGPOQPfPStDxfrMY+Ht7f6fFPeRXNowje2XO1WQ4c+ijqfSs28bx9PYzQ3Nh4f8h4yr7ppMbSOai0zT5tK+Cd3Z3Fxb3LRWVyBJbyb0IO48N361PJBWkrbrZ3K5pu8XfbqrEnwr1FZvCtlZJo95ZiG3DG6lhCxTknkq2efWu5Y7VJPYZrnfh7/yTzRf+vVa6GT/AFT/AO6a567Tqyt3N6Capx9Dz+y+K6a9G8fhXw9qGqXkbMJYcpGsQBwCzkkDODgdTitnwp45g8SX93pd1YXGlavYgG4srnBIB/iUj7w6c+9c78DLWOHwXezIo8ybUpi7Y5OMAVLCAv7RU5Axu0QZx3/eVibG54k8cxaLrEGi6bp1zrGsXEZkS0t8DYv952PCimeHPHX9ra7JoOsaTc6Lq8cPni3nZXWRM9UccH/Poaxb/Xbu9+I19p3gfRNOk1a1hVb7Vb9iqop5CfKNx7VlQjXk+PehjxLNp0lwdPm2f2ejqoXDddxJzmgDsfEvxB07wxr9ro9zZ3lzd3kJkgW2RW3nOAg5B3E+2Kyv+FpjS9UFj4y0G70F5o2ktpHdZUmCj7oK/wAXtz1HqKqa/Ekv7QvhcuM7NPnZfrh6X4qW8dx4q8CLKoYHVx1/4Cf6UDLjfEy407U7SPxJ4Yv9IsL6QRW15K6MNx6CRQfk/M11XiPxFYeFtCn1XVZGW3iA4QZZ2PRVHck1x/xuUH4fKSOVvoCD6fNV/wCI2t6dpOh6fFfaPHrV3d3KRWVlIQA0vZiT0xnr70CKcnxOvdOSK98Q+EtR0zSJ3VUvXdHKbjwZEHKD869ARldFdDlWGQR3FePfEkeOm+HN/Jr7aBDZny/MgtVlaUfOuAGJxnPtXqujHOg2BP8Az7R/+gigC7Xnfxw1GSz+GV9bx2tzKLrYjTQrlIQHU5c54B6fU16JXC/Gj/kketfSL/0alAFzwjr0R8GtOdBv9Jh061X5LmBY/NVUzlMHkce1bXhrX7bxR4dtdYso5YoLpSyJMAGGCRzgkdvWqt1/yTub/sFt/wCiqyfhCQfhTouP+eb/APobUAbOmeKbTVfE+raHBDMlxpXl+c7gbG3jI24OfzArF1T4m2GneJrvw/Dpt9e6pBsEcECqTOXGfl54AHUnAFZngmZJ/jD45aJgwDW6kj1CkH9RUXh20ik/aB8U3LqDJDZwqh9Nyrn+VAGtpvxEl/4SK10TxToF1oV3eki0aSRZYpSP4d69G9q3vE/inTfCWk/b9Vd9rMI4oYl3STOeiqO5rkvioB/bXgtv4hrcQBqv422y/GrwRDfYNoPPeMN0MoHy/jkLQBoSfEm/02MXviLwhqemaW5G27Z0fZnoZEBynpz3rofD/i7T/EHg9PEkKy2tiySSN9oADIqEgk4JH8Jq34jW3fwtqi3oU25s5fM3dNuw5rh/hda2l98CLW01GURWtxFcRSuWC7VaRxnJ+tAErfFa5On/ANtReEtTk8PDk34ZN23ON4jznb75rX8Y6hoWq/C+81C/Nxc6PPbrKTZsFkZSQQVzjnOODXJQweN/APh37Ktpp3izw1BGcBDsnEGOhByGGOw3VpeLNR0vVvgHe3ugwLbWE1oGihSMII/nGVwOBg56UAdv4cFqvhjTBpyyLafZY/JWU5cJtGMn1xVjVLwadpF3eN0t4XkP4AmqXhL/AJE3R/8Arxh/9AFHiyF7nwdq8MeS72coUD12mk9hS0RU8B2RtPBli8vM92hu527s8h3En88fhWzf6ha6ZbCe+lEURkWMMQT8zMFUcepIqn4WmW48I6TLHgq1nERj/cFcd41OvxXR02wv4dWkuJRex2DW22S3jiYPnercrlQoyMknr1qb8sTPm5IKx6NXLa141+xa2dF0XS7jWNUVBJJDCwRIl/2nPAq34UmvL7TzqV1rMWpQ3YDRJDbiJIfVRyWJz1yeMVzces3+p+MNWg8D6Rpsctu4jvtSvSwEjj+EBeTjmhy0CUtFbqb/AIc8YR65qF1pl5YT6ZqlooaW1nweD3Vh1HTn3qtr/wAQbDQdbfSJLO8ub7yBNFHAgbziTgIvOc9+nQGuf8PjVV+NV2Ndks5Lr+yhk2asqY3jHDEnNXBEknx8LOoYx6RuQkfdO7GfyJqeZ2+ZHPJx+djpT4lhsvCa65r0EmlqI90kE3Loc4C47k1hj4g6gtt/aUvhLU00fbu+05UyBf7xiznHfPpzVH4sENJ4ahuf+PKTVI/Pz0I9/wAM16IQuwggbcYx2xVat2uV7zk0nsYvhfxXY+LbC4vNNSVYYLhoC0oA3EAHcME8cisJviLPdefc6F4cvtT0y1dklvEZVzt6lFPLD8qpfCD7MnhrWvJKrarqs+054CbVxz9Kg0/SPFfgy1m/4RN7HX9DaRpY7d32yqCfmCsOD+v0qeaTSZPPJxTO50XWbDxRoMd9YkyW1wpUq4wR2KketZHw/kePRbvS5CT/AGXey2qljyUByv6ECp/A+r6ZrXh0XWkWC6cvmMs1sqBfLkH3hx1+tV/BLCa+8SXCfck1V1X32qoP6iqvezLTu4s6snArmPB3jRPF0mqJHpt1Y/2fcmAm4XG/r+R45HbIrp6Ks1CiiigAooooAKKKKACiiigAooooAKKKKACiiigArk9e8FzXevpr/h7UzpWqhPLkbyxJHOvoy/19hXWUVcJyg7xInCM1ZnAat8PNW8TWoHiPxGJZo2UwLDa7YosHJO3cNxI4yTxXUeIPDdn4k0JtMvywXAKSpw0bDowrXoq3Wm7a7bEqjBX033OGl8IeK76xOl6j4tV9OZfLkaOzCzSJ/dLZ4yOM10cnh62XwjLoFgfs1u1q1sjbd20FSNxHGTzn3rWopSrTlYI0oozfD2k/2D4estL87z/ssQj83Zt3Y74ycfnWiw3KR6jFLRWbbk7s0SSVkc94K8Jr4O0J9NW8N2HuHn8wx7MbjnGMmhfCir8Qm8U/bDuay+yfZvL4+9nduz+mK6GikM4PU/Aer2/i+68ReD9cj024vkC3cFxb+bHIR0Yc5B4pdL+Hd7b+NrLxTq3iBr/UIY5I5h9mCI6spCqoDfIFyT0Ocmu7ooA5u+8JfbPiFpvij7bs+wW0kH2bys792ed2eMZ6YNL4m8J/8JHq2hXv237N/ZF39p2eVv8AN6fLnI29OvNdHRQBz3jbwr/wmPh7+y/tn2P9/HN5vleZ905xjI6/WoPGvgtPF2mWkcV69hfWEyz2l2iBvLceo7iuoooA831b4eeJvFekSaf4q8WRSQ4BiS0sdg3g8O/zAt3+Xgd+1djc3Mvh3w9biOxvNWeBEiMdnGu98DG7DMABx61r0UAcj/wnN7/0JHiX/vxD/wDHaueKdBPjjwLPpTyS6Yb+ONiZYg7w4ZX2soYDPGOtdFRQBWgskj0uOxl/exrCIWyMbhtweK4LTfh/4o8Nxy6d4W8Wx22kPIzxw3NkJZLfcckKc8/jXo1FAHHeDPh9H4O1nVL+PUpLz+0RHvEseGDKDuYtk5LEk9Bir+m+E107xxq3iMXhkbUoo4zb+Xjy9gAzuzznHoK6KigDnvFPhNfE13o07Xhtv7LvVuwoj3eZt/h6jH15rnfismi3P9iWesy3WnTzXX+g6vCF22cwwRvJI4P9OoxXodU9U0mw1vT3stWs4by2k+9FMgYfX2PvQB5v4m0vXrXwndzeN/GdvNpEUJLQ2tqsL3px8qF89zjheta/w78NLL8F7DRdahYR3ds/mxnghZGZh9DhhV2x+FHgnTr1Lq20CHzUO5fNkklVT7K7ED8q7DpQB5vB4C8Y2OknQrHxnGukbDEjSWAaeOM8bQ2cHjjNbt14DtW+Gz+D7C5e2gMPlCd08xgc7ixGRkk57jrXV0UAVNJsP7L0azsPM837LAkPmbdu7aAM47dKtOodGVhlWGCPWlooA53wdY3ej2Fzo91EwhsrhhaTHpJCx3L+IyQfoK20sraO+kvEgjW5lRUeUKNzKM4BPtk1PRSSsrCSSViC0sraxjdLOCOBXdpGEagBmJySfc1x0vgjWNM8QX2peE9cisY9RfzLi2uLbzF3/wB5Tn3PFdxRQ4picUzkNB8Dz6T4sfxBeaw99dz2xhuN0G3exYHcPm+UAADbjt1rRXwxt8eN4l+1/es/sv2fy/8Aazu3Z/TFb1FLlSEoRSsch8TG0n/hE/L1+C4e0lnRPPtwN1sx6Sc9h/Wsw6R4gj0LGpeOrc6IsXz3cduqyvFjp5mcAkcbuTXe3VrBe2slteQxzwSDa8cihlYehBrmI/hd4NjuROuhxFgc7WlkZP8Avgtt/SplFt3IlBuV1/kZXwi05U8E3bGDZZ397NJBG/OYiAozn/dNS2fgjxHoEctl4Y8Sx2+mO7NHDc2gkeDJ5Ctnn8a7qONIYljiRURAFVVGAoHYCnU1BWSGqaUUuxzWk6F/whfhG4g00Tajd4eYkgBp5W9uwzj8Ku+FNHfQ/DltaTtuuSDJcN/ekY7m/U1sUVSSRailsB6VzPhDw3q3h+TU21jxBcawLu48yETZ/cLzwMk+vQYHFdNRTKCiiigAooooAKKKKACiiigAooooAKKKKACiiigAooooAKKKKACiiigAoJwMngUVV1P/AJBN3/1xf/0E0DSu7FlXV1DIwZT0IOaWuN+FkgT4Y6a8jBVVZCWY9Bvaug0bxBp3iCGWbSZmnhicoZfLZVJHoSOfqKmMk0n3N61CVOc4rVRdrmlRXK3/AMRNFs7+WztY77VJ4TiZdPtjMIvqelaug+JdK8SWzzaTciXyztljZSrxn0ZTyKFKLdkxSw9aEOeUWkatNeRIwDIyqCcDJxzWLr3i/SfDs0VveyySXcwzFaW0Zklceyj+tcH488X6dr+i2FtbLc2t5Fqdu72t5CYpQpJ5weo+lTKaibYfBVa0o6NRfWx6xRVe9vrXTbCS8v50gt4l3PI5wAK5iL4m6C8yeal/b2sjBY76e0ZIHJ6YY/1AqnJLdmFOhVqpuEWzr6KRWDqGUgqRkEd6WqMQooooAKKKKACiiigAooooAKKKKACiiigAooooAKKKKACiiigAooooAKKKKACiiigAooooAKKKKACiiigAooooAKKKKACiiigAooooAKKKKACiiigAooooAKKKKACiiigAqrqf/IJu/wDrg/8A6CatVDeQtcWM8KYDSRsoz6kYoZUdJI8K8O682p+H9B8LXjz6Zo8zyR3N5twLhtxPlBuwORk+/wCfrmvomgeAtQXR4lgW1s38lYxjbhetZmk+BIj8OIPDOvCOVkDfvIT9xixIZSR1GaveGNI1i00GbSPE01vfRKDFFMjHdJEeMOCOuPc1hCMkrPsezi69GrPng9Iyba/m13/r5Fb4Y2NtZ/D/AE17dV3XCGaVx1dyeST+n4Vj3CLpfx4shYYQalYP9qRRwxUMQx9/lH5VNpuh+L/B0MmneHxY6ppm8tbrdSGOSAE525HBFaPhnwpf2/iC58R+JrmK41W4Tyo0gB8u3j/urnr/APr9aEm0o22JlKEKlWs5pqSdu7vtddLfpoZHgDbqXj7xfqV4A93DdC1jLDmOMFgAPTO0flR8X7K2fTtFvGRftEWpxIj452tnI/QVd1Dwvrej+LLnxB4PktpPtygXljdEqsjDoysOh/8Ar+tZ+v8AhLxZ4vFnPq01hZm0uUkitIXYrgH5mZsct0AHTrSafI42NYTpvFQxHOlGy9Vpa1v6QnxbuZvM8OWCWz3cNzfBpLZW2+ftxhMnjnNT6xrGvavoN1pcvgK6EU8JjGbqLCccHHtXQ+MfC/8Awk+kxRw3H2W9tJVntbjGdjj19qxLy08f6zpz6TdrpdhFKvlzX0MjOzL32r2JpyT5n5mdCrSlRpr3bxbvdtW1vdWav+ehueBbfUbTwTpttrMTRXcMXlujEEgAkL09sV0FVNK06LSdJtrCBmaO3jCBnOS2O59zVutoqySPKrTU6kpLq2FFFFMyCiiigAooooAKKKKACiiigAooooAKKKKACiiigAooooAKKKKACiiigAooooAKKKKACiiigAooooAKKKKACiiigAooooAKKKKACiiigAooooAKKKKACiiigAooooAKKKKACiiigAooooAKKKKACiiigAooooAKKKKACiiigAooooAKKKKACiiigAooooAKKKKACiiigAooooAKKKKACiiigAooooAKKKKACiiigAooooAKKKKACiiigAooooAKKKKACiiigAooooA//9k=)"
      ],
      "metadata": {
        "id": "XtcZESQlorxK"
      }
    },
    {
      "cell_type": "markdown",
      "source": [
        "\n",
        "\n",
        "*   Bagaimana jika kita perlu membuat fungsi, tetapi jumlah parameter tidak jelas atau tidak pasti?\n",
        "\n",
        "*   Kita bisa memanfaatkan `arbitrary arguments`.\n",
        "\n",
        "*   `arbitrary arguments` `*args` jumlah parameternya tidak jelas atau tidak pasti.\n",
        "*   Menggunakan `arbitary arguments` dapat menampilkan banyak nilai dalam satu parameter sama yang tidak diketahui jumlah pastinya\n",
        "\n",
        "\n",
        "*   Untuk membuat `arbitrary arguments` cukup menambahkan `*` sebelum nama parameter di definisi fungsi.\n",
        "\n"
      ],
      "metadata": {
        "id": "6v0eQVHKowIi"
      }
    },
    {
      "cell_type": "code",
      "execution_count": 1,
      "metadata": {
        "colab": {
          "base_uri": "https://localhost:8080/"
        },
        "id": "4tWtBbv_oi3M",
        "outputId": "1979e74e-3135-4d53-ac72-8fe6d681f456"
      },
      "outputs": [
        {
          "output_type": "stream",
          "name": "stdout",
          "text": [
            "Pelanggan toko hari ini: ('Farhan', 'Fitri', 'Calysta', 'Chaidar', 'Nur')\n"
          ]
        }
      ],
      "source": [
        "def pelanggan(*nama):\n",
        "    print(\"Pelanggan toko hari ini:\",nama)\n",
        "\n",
        "pelanggan('Farhan', 'Fitri', 'Calysta', 'Chaidar', 'Nur')"
      ]
    },
    {
      "cell_type": "code",
      "source": [
        "pelanggan(\"Antony\", \"Hojlund\")"
      ],
      "metadata": {
        "colab": {
          "base_uri": "https://localhost:8080/"
        },
        "id": "R3gnItCUqexR",
        "outputId": "b7a8aea8-986e-4397-cb74-d708aed50441"
      },
      "execution_count": 2,
      "outputs": [
        {
          "output_type": "stream",
          "name": "stdout",
          "text": [
            "Pelanggan toko hari ini: ('Antony', 'Hojlund')\n"
          ]
        }
      ]
    },
    {
      "cell_type": "markdown",
      "source": [
        "Selanjutnya, Untuk mengakses nilai tertentu bisa digunakan **indexing**."
      ],
      "metadata": {
        "id": "z-EYclv2qju7"
      }
    },
    {
      "cell_type": "code",
      "source": [
        "def pelanggan(*nama):\n",
        "    print(\"Pelanggan toko hari ini:\",nama[0])\n",
        "\n",
        "pelanggan('Farhan', 'Fitri', 'Calysta', 'Chaidar', 'Nur')"
      ],
      "metadata": {
        "colab": {
          "base_uri": "https://localhost:8080/"
        },
        "id": "4sUGbjSyqmWT",
        "outputId": "ae89a106-81f2-4d70-e3f7-c15d5ac9e711"
      },
      "execution_count": 3,
      "outputs": [
        {
          "output_type": "stream",
          "name": "stdout",
          "text": [
            "Pelanggan toko hari ini: Farhan\n"
          ]
        }
      ]
    },
    {
      "cell_type": "markdown",
      "source": [
        "\n",
        "\n",
        "*   `nama[0]` berarti kita hanya mengambil nilai dari indeks ke-0 dari `nama`.\n",
        "\n",
        "Manfaat lainnya, karena dapat digunakan untuk nilai yang banyak, `arbitrary arguments` juga bisa dimasukkan ke dalam **loop**."
      ],
      "metadata": {
        "id": "HW6ju65kqoXf"
      }
    },
    {
      "cell_type": "code",
      "source": [
        "# Membuat fungsi cetak dengan argumen *args\n",
        "def pelanggan(*nama):\n",
        "    for daftar_pengunjung in nama:\n",
        "        print(\"Pelanggan toko hari ini:\", daftar_pengunjung)\n",
        "\n",
        "# Memanggil fungsi\n",
        "pelanggan('Farhan', 'Fitri', 'Calysta', 'Chaidar', 'Nur')"
      ],
      "metadata": {
        "colab": {
          "base_uri": "https://localhost:8080/"
        },
        "id": "zesDEz22qx3n",
        "outputId": "5091476b-aa3d-424c-ff1a-d40dd121ffde"
      },
      "execution_count": 4,
      "outputs": [
        {
          "output_type": "stream",
          "name": "stdout",
          "text": [
            "Pelanggan toko hari ini: Farhan\n",
            "Pelanggan toko hari ini: Fitri\n",
            "Pelanggan toko hari ini: Calysta\n",
            "Pelanggan toko hari ini: Chaidar\n",
            "Pelanggan toko hari ini: Nur\n"
          ]
        }
      ]
    },
    {
      "cell_type": "markdown",
      "source": [
        "# **Arbitrary Keyword Arguments**"
      ],
      "metadata": {
        "id": "6iwsO6Hkq6Am"
      }
    },
    {
      "cell_type": "markdown",
      "source": [
        "![alsdjflasdlewr.JPG](data:image/jpeg;base64,/9j/4AAQSkZJRgABAQEAkACQAAD/4QLgRXhpZgAATU0AKgAAAAgABAE7AAIAAAAHAAABSodpAAQAAAABAAABUpydAAEAAAAOAAACyuocAAcAAAEMAAAAPgAAAAAc6gAAAAEAAAAAAAAAAAAAAAAAAAAAAAAAAAAAAAAAAAAAAAAAAAAAAAAAAAAAAAAAAAAAAAAAAAAAAAAAAAAAAAAAAAAAAAAAAAAAAAAAAAAAAAAAAAAAAAAAAAAAAAAAAAAAAAAAAAAAAAAAAAAAAAAAAAAAAAAAAAAAAAAAAAAAAAAAAAAAAAAAAAAAAAAAAAAAAAAAAAAAAAAAAAAAAAAAAAAAAAAAAAAAAAAAAAAAAAAAAAAAAAAAAAAAAAAAAAAAAAAAAAAAAAAAAAAAAAAAAAAAAAAAAAAAAAAAAAAAAAAAAAAAAAAAAAAAAAAAAAAAAAAAAAAAAAAAAAAAAAAAAAAAAAAAAAAATEVOT1ZPAAAABZADAAIAAAAUAAACoJAEAAIAAAAUAAACtJKRAAIAAAADOTMAAJKSAAIAAAADOTMAAOocAAcAAAEMAAABlAAAAAAc6gAAAAEAAAAAAAAAAAAAAAAAAAAAAAAAAAAAAAAAAAAAAAAAAAAAAAAAAAAAAAAAAAAAAAAAAAAAAAAAAAAAAAAAAAAAAAAAAAAAAAAAAAAAAAAAAAAAAAAAAAAAAAAAAAAAAAAAAAAAAAAAAAAAAAAAAAAAAAAAAAAAAAAAAAAAAAAAAAAAAAAAAAAAAAAAAAAAAAAAAAAAAAAAAAAAAAAAAAAAAAAAAAAAAAAAAAAAAAAAAAAAAAAAAAAAAAAAAAAAAAAAAAAAAAAAAAAAAAAAAAAAAAAAAAAAAAAAAAAAAAAAAAAAAAAAAAAAAAAAAAAAAAAAAAAAAAAAAAAAAAAAAAAAAAAAAAAAMjAyNTowNDoyNCAyMDoxMzozMwAyMDI1OjA0OjI0IDIwOjEzOjMzAAAATABFAE4ATwBWAE8AAAD/4QQZaHR0cDovL25zLmFkb2JlLmNvbS94YXAvMS4wLwA8P3hwYWNrZXQgYmVnaW49J++7vycgaWQ9J1c1TTBNcENlaGlIenJlU3pOVGN6a2M5ZCc/Pg0KPHg6eG1wbWV0YSB4bWxuczp4PSJhZG9iZTpuczptZXRhLyI+PHJkZjpSREYgeG1sbnM6cmRmPSJodHRwOi8vd3d3LnczLm9yZy8xOTk5LzAyLzIyLXJkZi1zeW50YXgtbnMjIj48cmRmOkRlc2NyaXB0aW9uIHJkZjphYm91dD0idXVpZDpmYWY1YmRkNS1iYTNkLTExZGEtYWQzMS1kMzNkNzUxODJmMWIiIHhtbG5zOmRjPSJodHRwOi8vcHVybC5vcmcvZGMvZWxlbWVudHMvMS4xLyIvPjxyZGY6RGVzY3JpcHRpb24gcmRmOmFib3V0PSJ1dWlkOmZhZjViZGQ1LWJhM2QtMTFkYS1hZDMxLWQzM2Q3NTE4MmYxYiIgeG1sbnM6eG1wPSJodHRwOi8vbnMuYWRvYmUuY29tL3hhcC8xLjAvIj48eG1wOkNyZWF0ZURhdGU+MjAyNS0wNC0yNFQyMDoxMzozMy45MzA8L3htcDpDcmVhdGVEYXRlPjwvcmRmOkRlc2NyaXB0aW9uPjxyZGY6RGVzY3JpcHRpb24gcmRmOmFib3V0PSJ1dWlkOmZhZjViZGQ1LWJhM2QtMTFkYS1hZDMxLWQzM2Q3NTE4MmYxYiIgeG1sbnM6ZGM9Imh0dHA6Ly9wdXJsLm9yZy9kYy9lbGVtZW50cy8xLjEvIj48ZGM6Y3JlYXRvcj48cmRmOlNlcSB4bWxuczpyZGY9Imh0dHA6Ly93d3cudzMub3JnLzE5OTkvMDIvMjItcmRmLXN5bnRheC1ucyMiPjxyZGY6bGk+TEVOT1ZPPC9yZGY6bGk+PC9yZGY6U2VxPg0KCQkJPC9kYzpjcmVhdG9yPjwvcmRmOkRlc2NyaXB0aW9uPjwvcmRmOlJERj48L3g6eG1wbWV0YT4NCiAgICAgICAgICAgICAgICAgICAgICAgICAgICAgICAgICAgICAgICAgICAgICAgICAgICAgICAgICAgICAgICAgICAgICAgICAgICAgICAgICAgICAgICAgICAgICAgICAgICAKICAgICAgICAgICAgICAgICAgICAgICAgICAgICAgICAgICAgICAgICAgICAgICAgICAgICAgICAgICAgICAgICAgICAgICAgICAgICAgICAgICAgICAgICAgICAgICAgICAgIAogICAgICAgICAgICAgICAgICAgICAgICAgICAgICAgICAgICAgICAgICAgICAgICAgICAgICA8P3hwYWNrZXQgZW5kPSd3Jz8+/9sAQwAHBQUGBQQHBgUGCAcHCAoRCwoJCQoVDxAMERgVGhkYFRgXGx4nIRsdJR0XGCIuIiUoKSssKxogLzMvKjInKisq/9sAQwEHCAgKCQoUCwsUKhwYHCoqKioqKioqKioqKioqKioqKioqKioqKioqKioqKioqKioqKioqKioqKioqKioqKioq/8AAEQgAkQH1AwEiAAIRAQMRAf/EAB8AAAEFAQEBAQEBAAAAAAAAAAABAgMEBQYHCAkKC//EALUQAAIBAwMCBAMFBQQEAAABfQECAwAEEQUSITFBBhNRYQcicRQygZGhCCNCscEVUtHwJDNicoIJChYXGBkaJSYnKCkqNDU2Nzg5OkNERUZHSElKU1RVVldYWVpjZGVmZ2hpanN0dXZ3eHl6g4SFhoeIiYqSk5SVlpeYmZqio6Slpqeoqaqys7S1tre4ubrCw8TFxsfIycrS09TV1tfY2drh4uPk5ebn6Onq8fLz9PX29/j5+v/EAB8BAAMBAQEBAQEBAQEAAAAAAAABAgMEBQYHCAkKC//EALURAAIBAgQEAwQHBQQEAAECdwABAgMRBAUhMQYSQVEHYXETIjKBCBRCkaGxwQkjM1LwFWJy0QoWJDThJfEXGBkaJicoKSo1Njc4OTpDREVGR0hJSlNUVVZXWFlaY2RlZmdoaWpzdHV2d3h5eoKDhIWGh4iJipKTlJWWl5iZmqKjpKWmp6ipqrKztLW2t7i5usLDxMXGx8jJytLT1NXW19jZ2uLj5OXm5+jp6vLz9PX29/j5+v/aAAwDAQACEQMRAD8A+kaKKKACiiigAooooAKKKKACiiigAooooAKKKKACiiigAooooAKKKKACiiigAooooAKKKKACiiigAooooAKKKKACiiigAooooAKKKKACiiigAooooAKKKCcAk9qACiqlvqdpdOUhmG4fwsMH8jVugAorGWW8l1aVY2lKJMAAANgXHOfekglvpNTheXzhHuYSKVwq9cAcc8d6jmHY2qKx4m1BNOknkkkMhfaqbQdi7vvY6k4zUcT3wtZgzzI7ToEdwCwQkDPTFHMOxuUEhVJPQcmsqAXsFwrTSTSx+c0e0qPufwtwP1qK3N1dNdC5ldTtb90rEYOeD0GOO3OaOYLGxHIssauhyrDINOrALyQ6TarZsyK2RK5Y/KcfQnrV2NbyTUwDO4t1hRiQoG9ufyp8wrF2adYXiVgSZX2DHrgn+lS1n6vG7R27xs6COYF2QZIGCMj86p3E18tnbjzHQOWzI3BH93OB+nelzWHa5uUVnRrePqUmZmECIpAwPnbFVor69Kv56SIotzhimMyDqfb/AOtT5hWNqisO3m1EWLy5mYlE5kUEgk/MVA7AVa0k3Ba4+0+aQWBjMvXbQpXYWNKiiiqEFFFFABRRRQAUUUUAFFFFABRRRQAUUUUAFFFFABRRRQAUUUUAFFFFABRRRQAUUUUAFFFFABRRRQAUUUUAFFFFABRRRQAUUUUAFFFFABRRRQAUUUUAFQXd7b2Ue+5kCjsO5+gqK/vTbBYoF8y4l4RP6n2qG10hVm+0Xr/aLg926L9BSHbuRrqV/e/8eFltj7STnGfwp/2XVpP9ZfRR+yR5rTpHXcjLkjIxkdqLBc5K5sbi91ExW0v2h4/9ZLt2qp+tdTbRtDaxxyNvZVALepotbaK0t1ihXCj9T6mpCMqQOOKErDbuVrdEhup185WaZ94TuOBSXl2IrYSQurZZRkHPBNVLPSZba9S4doyVQo20ctnnJPrRHoqx6N9l+UzHBZz/ABEHp9O1TeVtg0uaTTrtVo/3ilgpKsOPeq8GpQT3E0SyJ+67hs5GOTUMenOsI4jRvtCzFF+6AOMD8BTms5j9viAUJcKdrZ6ErjpRdhoXvMTaTvXA6nNIs8TIrLIpVvunPWs2TRyLSCGHy/kH7zeM7iR973NImjkwWUMzKyW7MWH94dqd32Foau5RjJHPTnrUF5O1vCrIASXVefc1QvbaSK+t3WUeU1whEeOc4x+WM1c1O3kurQRxEq29TkdQM0XdmFiwZogrMZECqcElhgH0pxZQuSwx65rJl0uZrGGAbT5MhOAceYMdT780zUbSWKGN45Ake6IGLrkhhgD/AD2pcz7DsjayBnJ6dahuQksLQGRVaRSBk8/lWfd6RNcXUrR3Jjjk52juSMHP4U+XTXe93rs2Eodx+8m3sPrRdvoGheg2pCkXmK7Iu04PpTBdbtQ+zrggR7yfxqqmlbEvGDATXBbbJ3QGmafpb2d8Z9sah02sqcAY6fWi70DQ1aKKKskKKKKACiiigAooooAKKKKACiiigAooooAKKKKACiiigAooooAKKKKACiiigAooooAKKKKACiiigAooooAKKKKACiiigAooqtd3TWxiCwPL5jbTt/h9zQBZoqr9sb7VND9nfEabg/ZvYVF/aT/YY7j7JLl32+X3HvSuOzL9FVhdsb82/kOFCbvM7fSoP7Tf7Abj7HLuD7fL7n3ouFmaFI7iONnY4VRkmq5u2F9Hb+Q5DpuMnZevH6VSvbqa60a78u3kRw3lhSOWGRkj8KLhYk0uIzu+oTD55uIwf4U7VpVSjujE1pbrbybZIx83ZOOhoGoOUum+yyDyDgD/AJ6fSgHdl2iqZv3Btf8ARpP9I6/9M/rQL5y9yv2aT9wMg/3/AKUXCzLlFUTqLi3t5PssmZmwV7p7mpBeMbqaH7O4ES7g/ZvYUXCzLVFUDqTizjn+xy5d9pTuvvU4umOoG28l9oXd5vb6UXCxYJABJ4AqjDqsM9yYkV+IzIGIwCParrKGUq3IIwaqQ6XbQSB4w27aUyWJ49KTv0BW6iQ6rbzWv2gb1j4wSvUnsPWnLqds0Mcu8hZFZgSOy9ajuLW1t9OjikZ44ocbWXOR+VQWemQz6bCs6MApdlXJHysc4P4YpXlsPQWW50+2uhcmORnaPzd4yQqnjOOgq0NSh+zSTMGQRkBlYYOT0/nSf2ZBsKNvZDF5RBb+HOadPp0E/m7tw83G7B7jofrR7waER1aAQwvskJmLBFC5JI61UvWR5LS7toGd5JVwxbA78YJxnjritFLJFaBi7MYQwUnHOaa+nRG3WKN3jCyeYpU5Kn2z9aGmw0HR3ge7a3KMHVQWParNQfY4/tguSWLhdoy3A/Cp6pX6khRRRTAKKKKACiiigAoorg/7c17xd4ivrDwzdx6Zp2nv5c160QkeST0UHitIU3O/RIznNQt3Z0HiTxNH4cfTlktmn+33S2y7WxsLEDPv1rcrx/xnH4hsNa8O2WuXkepWzalE8N2sQjbIYZVgOK7zxn4nk8O6fbpYwrPqF9KILWJum49z7CtpUNIKOrdzKNbWTlolY6Sq2pX8Ol6Xc390SIbaJpHx1wBmuK1GDxxoekyay2uQag9unmz2BtVVCo5YKw+bOPWpfF2p3GvfCebU9IeGOG4tvMmWZSTsxyox3z3qVR1Wt03YbraPSzSuanhHxHqviSH7bdaP9h0+aPfbSNKGaQZ4yO3FdLXHfDePW18K6c2pT2cli1lH9lSGNhIowMbiTg8elddOxS3kdeqqSPyqaySqNRLotuCbH0V5F4L1zxx4/wBPuDFq8WkwWs7xvdparI8pzwFU8AAdTW74U8Q6/Z+PLzwh4puYtQljtxdW17HGIzIhOMMo4zwenpWJqegUVwviPVfE+peNovDXhk/2Zbpb/aLrVZLfzAPREz8pPI/yKraPrXiLQfiNB4W8R6lHq8F9atPbXfkLFIpXqCF47GgD0OivPPH3inX9I8Z+H9H8PmHOpiRWEqZAYYw2fQZJrJ8Ta340+HV5p15f6vH4hsb+b7M0DWyQtHIRldpXtwevpQB6zRXlXiq98eeDNEXxPc67b38EUiG7002ioiKzAYVx8xwSBk12niXxJNpXgqTWdMspL2d4Ve3gRCxYsOMgduaAOhory7VR8QtD8KSeJrjxJBNLbxC4n0w2SCIL1KhvvZxXoWhamNa0Cx1JV2C6hWXb6ZHSgC/UN5dxWNjPd3BxFDGZHPsBmpq5r4hJqL+BdTGkyW8cvkMXM6lgUx8wGO+OlAFXwV4v1bxcxvZND+w6PIjNbXLzAvJggD5ewIyfwrr685+D0fiBPBenSahcWD6UbQfZY4Y2EynP8RJweM9K0/hx4j1HxHZ6vJqkiO1rqUtvFtQLhFbAFAHZ0VxmoeJNRt/jBpXh+ORBp9zYPPIhQbi4LY5/AVk+PvGPiDQ/H2haNoCxSjUoXXypEyDIchWJ6gA4J9hQB6TRXlviefx34H0c+Ip/EUOr29u6m6sns0jUKSAdjDnv3rrPFHjO38O+ChryxGYzRobaHvIzgbR+tAHTUV57baT8Rr3Tk1OTxNa2l3IvmLpq2StCM8hS5+anfDDxbrXie612PX0jiksbkQrEi42ccjPfmgD0CkZgqlj0Aya8w0/WPFXjrXtdTRdfh0O20m7a1igFskrylSRufd0BI7V1HgnVNfvtJuovFVj9m1CzmaLzVXCXCjo6igC/4b8Vab4rtrmfSWlKW07QSeam07h6e1bNcX8MtevNf0fUpr/yt8OozQr5UYQbQ3GcdT712lAGHJrc03jWLRLFVaOC2NxeyHnYGOEQe5wT9BW5XI+CR9q1fxTqT8yS6q1vn/YiRQo/U11pdQ23cN2M7c84qY6q5EHdXForL8P60ut6Fbai0f2c3BYCNmyeGI/pWmzqmNzBcnAyepqtyk01dC1m+ItZTw/4fu9VkhadbVN5jVsFuQOv403T9aW91DVLd4vJXT5RGZGbhsqGz7day/iT/wAk41n/AK4f+zCpb0bRMpe62je0u+GqaRaX6oY1uoUmCE5K7gDj9atVwp8VDQPAuhWtlF9r1a8soUtLVeSx2D5j6KPWl8RXnirQfhxJqTXsMuq27LNPthGwIThlA9s5z7UubQn2isdzRXKeIPFUlr8O11vTdpubqKP7OCMjzHxxj86Z4D8SXmr+HLt9dZBf6dcywXW1do+XnOPpx+FPmV7Fc65uU66iuO8G+I9S1XwzqOuamPNiE0rWsUUfJjToOOpJBrN09PHXiDR21kawmkPJuaDTjaKQAOgcsMgnFLm7C9omlZHodFc14F8SzeKfB0Gp3Max3OXjlCfd3KcZH14Ncr4S1vxn4x3SQ31vZWlleMk0xhBacA/cAxwAOp96OZaeYe0Wlup6fRXF+I/EmqzeKYPC/hfyo7x4/OubqZdywJ7DuayPFNz428GaFPqK61Fq8IXa5ltVjeEnow28EfWhzSE6iV9Nj0uiuT1bxTc6R8Mhr5RZrr7NG2CMKXfAyfbJzWJI/juy0S116z1eLWvMCSSactsqqVbsjDnjPehysN1Euh1niXWJ9Cgtb1UV7Tz1jusjlEbjcPocVtAhlBU5BGQaxvEMK6t4IvlliaPz7JnMbjlTt3YPuDT/AAndtf8Ag/SrqQ5eW1jZj77RTvqNP3rGvRVLWV1B9EvF0Z401AwsLZpBlRJj5Sfxqj4Pi1+HwzbJ4umim1QZ814gMEZ46YGcelUWbdFFFABRRRQAUUUUAFFFFABRRRQAHkV5x8L5007UfEGh3jCO+jv2mCNwXRsDI9en616PWFrfg3Rdfukur+2ZblBgTwSGOTHpuFb05xUZQlszGpCTkpR3RyXxP1O2bXPDGnxyK9wNSjkdQc7RuA5pPivaFtU8N3s9xcWtnFdGOa4t22vFuxhgcHHTrXUQeAvD1ukQWyLvFMs4lkkLOXXoSx5Nbd/p9rqllJaX8CTwSDDI4yDWsa8IOHL0v+Jk6M5qXN1t+BwuteGNP0zQLjUNR8ZeJHs1iJYC/Q+YMfdA2ck9MVJc2lpZfBC5i01bpbX7CzRrebfNAJz823itO3+G3huC4SQ200yxtuSGadnjU+yk4ror2wttQ06Wxuow9tMmx0HAK+lEqy0V29b9gVF66JaWMrwN/wAiDof/AF4xf+gitm5/49Jv9xv5U2xsoNOsILO0Ty4IEEca56KBgCpmUOpVhkEYIrlm+aTaOmC5YpHnfwRUDwDIQOTfz5/76qNv+Tjl/wCwKP8A0Jq7vSNF0/QbE2mk2y28BdpCi9Nx5JpP7D07+3v7a+zL/aHk+T5/fZ1x+tSUeeT32p+NPitqvhyXW7rR9L0qJGENk4jmumOMkv1xz27Y+tZUGk6donx/0Oz02+u7xltJjMbq4MxRircZPTjtXoWv+ANA8SaimoX9tJHequ37RbTNFIR6EqeadpvgLw9pN9aXtlZbbq03eXMzlnO4YJJPXr3oA5nxj/yWfwX/ALs/8hR8ZudP8N5/6DcP/oLV3F5oGnX+s2Wq3UG+8sQwgkyfkz1o1nQNO1+O2TVIPOW1nE8QyRtcZAP60Acr8af+SR6z/wBsf/RqVT8aeJtQ8MfC3SJdIdYbm6S3txcOuRCGUZau51nRrHX9Jm03VYfPtZsb484zggj9QKZf6BpmqaH/AGRf2iT2OwRiJ+cADA/KgDzHxv4OsNM+HV/qWq+JtY1C7+zEo8178krkcAIOMZ7V3vw//wCSeaH/ANeafyqhafCvwtahgba4uEKFFS5uXkVARg7QTgcVunTJdN8NjTvDbRWrwRhLYzKXRAD3HU8ZoA1KxvGH/Il6v/16Sf8AoJrI+w/ED/oM6P8A+Abf/FVvW1jdXWgfYvETw3U0qMk7QIURwSegzxxigDC+FfPws0P/AK9RWF8HriKP/hJrGR1W5i1eZmjJwwBY4OPSvQdK0u00XS4NP06Lyra3XZGmc7RWBrHw48Oa3qjalcW00F2/+sltZ2hMn+9tPNAHJz6tb6l+0pp8No6yCz014pGU5G/DMRn2BFWvFKhv2gPBuRnFrcEf98PXWaZ4H8P6Pf2t7p1gsNxaxtHG4Y5wxJYn1JJPJrQuNC0671u01e4tle+s1ZIJj1QMCCP1NAHM/GH/AJJPrX/XNP8A0Ytc18SLaZvhH4cvokZ4tPa0uJlUZ+QKM16fqulWet6ZNp+pwLPazACSNujYOf5isbxhDqVl4Imh8M2UV1LBGqLaSJuEkQ4KAdzjpQBrWOsWF3okWpQ3URtHiEnmbxtAxnrXnfwgv4tU1/xje23MM2oBkPqMcH8etc5bah8K44Q09tqsF6eX0Ty7jBk7rsxs6+9dz8K9CvdPsdU1XUrM2EurXRnjtGGGhjAwoI7HHagDJTw34X8f39/rXhrUNQ0HWYJ2iuZLd/KbzB3eM9fqMZrT+GPiHV9Uh13SdeuUv59Fuvs630YwJ1IPX3GOvuK1dW+G3hzWNTk1Ca2mt7qbmWS0naEy/wC9tPNbOieH9M8Oab9h0e1S2gyWYL1YnqSe5oA4r4Mf8i/rH/YWuP8A0KvR6ztG0HT9At5odKg8mOaVpnGScuxyTWjQByPg0/Y/EHinSn4ePUftaj1SZAQfzU0/xzp8E9pDPDYTXOrO4t7KSGR4/KZv4mZSMKOSfpWnNoRPiy31y1nETiBre5jK5EyZyvfgg559DWxUW0sZqPu8rPP/AAl4Wi0XXjp+rRXF7c2i+dZ37u5Qqeo252qwYn65rq/ElnYXehznVbR7uGEeaI4928kdNu3nNatFNRSVhqCUbI8q0vwpJbanZy+Ira7vLLV2yIPPkcWcmPkDjPzAqAMnoRXWfEhQnw11hVGALcAD/gQrqaq6lp1tq2nTWN/H5tvMu2RM4yKXLZNIn2aUWl1PINItdT8C/wBj+LNQf+1rC8s44rpvL+ezUgbNv+yBgfgfavW5Psev6FIsbrPaXsBXcpyGVhj+tSDTLQaSumGFWs1iEIibkbAMY/KodG0Sx0Cx+x6XGYrcMWCFiQufTPSiMeXToEIOGnQ8m8Ozy6i+geD7k7pdK1GV7hf9iI5Q/mateKb9/CvifxTZQfL/AG7aRS2oHeUnyzj8dxr0m18M6TZ69PrNvaKl/cDEkoPX/OKNU8M6TrOpWl9qNos1xZnMLk/d5zUcjsZ+yly2vr/SMq4Z/A/wud7KIPNp9kCqkcF8dT+JyawNJ0GPV/CUeveJvE+pTvNCZ38q68qKLjO0KK9HngiubeSC4RZIpFKujDIYHqDXLW3w18N2tyssVtNsV94t2uHMQOc/cziqcXcuUHdW2Mj4M4/4VwcdPtU39Kl+D/8AyKd3/wBhCb+dddo+h6foNi9npcAhgeRpCgOfmPX+VLpGi2OhWj22mQ+TE8jSMuc5Y9TRGLVvII02uXyOFgnTRfjpef2gwjTU7RRbyPwCR/CDWl8WdUtbL4f30Esi+bdKI40zyTnriqXj+WOLXLYeJtLa78OtHxcwREyWsvqSOQK5jUY/DWs2D6T4Et73VtRvAImup1lZbaMnklpAMVDdk0ZSlyqUUd3LqOl6Z8L7KXX4Gn0+S1iimVU3cMAOfb3rl9c8PSeCvD7+I/BXiK4htYgsv2G4kEsMqkjgfn3yfcV6RBpFsPD8Wk3cST26wLC6OMhgBisGL4Y+GYplY2s0kaNuWCW4dolP+4TiqlFs0lCTRZ1TW/M+GkurzR+S1xpwk8v+6zp0/M1oeF7JtO8KaZaScPDaxq312ima7oX9tR2ds0yxWcM6yywhP9aF+6uewzitgDAwOlWk7miT5rsjuJ4rW3knuZFihiUu7ucBQOSSai0/UbPVbGO8025iuraT7ksTBlb8RRqOn22q6ZcWF9H5ltcxtFKmcblIwRVbw/4f0/wxo0Wl6PCYrWIkqpYsck5JJNUWaVFFFABRRRQAUUUUAFFFFABRRRQAUUUUAFFFFABRRRQAUUUyaZLeB5pm2xxqWY+gFAbj6KqaZqdprGnRX2nSia3lGUcDrVugcouLs9wooooEFFFUtV1ey0SxN5qcwhgDKpcjPJOB+tGw4xcnaK1LtFIjiRFdTlWGQfaloEFFFFABRRRQAUUUUAFFFFABRRRQAUUUUAFFFFABRRRQAUUUUAFFFFABRRRQAUUUUAFFFFABRRRQAUUUUAFHTpRRQAUUUUAFFFFABRRRQAUUUUAFFFFABRRRQAUUUUAFFFFABRRRQAUUUUAFFFFABVHXP+Rfv/8Ar3f/ANBNXqo65/yL9/8A9e7/APoJpPYun8a9TlPh9qdpo/wlsL7UZ1gt4YmZ3b6n8z7VueGfENxr+kyand6Y2mWhJaAzS5eSMfxlcDaMe5rxzQrm6i0jw5ceK7Rj4Vhcomxsr5meHkHce1exeLnaXwHqb6cwbdZsY2jOQVx2x2xWNOTcfRHs47DxhWaernJ69Frt6977GJD451nXp5z4O8PfbrGByhvbq4EKysOoQdT9f5Vp+GfGSa5fXOl6hYy6Xq9qMy2krBsr/eVh1FM+GhgPw50f7Lt2+QN2P7+Tu/XNYeq4Px50b7J/rBYyfadv93DYz+lO8klK+5k6dGdSpRULcqdnrf3e+ttfQ3Nf8ZPp+sx6Joemvq2rSJvaFZAiQr6ux6fSuJ+IniTWH8NnS/Euh/2dLPNE9vPDMJYpSrglcgfKcc89cVteCWB+KPjAXX/H15qbM9fLxx+HSrHxiaEeB0Eu3ebyHys9c7ucfhmpleUG7m+HjSo4ulS5L/C763u9fS3yOn1DW7Lw94Z/tPU5NlvDCpOBlmOBhQO5Jrmn8a+J4tP/ALXm8Hsulbd5H2tTOI/7+zHpzisv4tGY+GvDyoUELXsW8yfczt43e3Wtu4i8dm1lE8+iiEoQ5KNjbjn9KpybbSMadClGlGpJJuTe7a0Xa3U6nS9TtdZ0q31Cwk8y3uEDo3t6H37Vbrk/hpp50vwTBbfboL5BNIyTW5ymCxOB9DmusrSLbSbPNrwjTqyhF3SbCiiiqMQooooAKKKKACiiigAooooAKKKKACiiigAooooAKKKKACiiigAooooAKKKKACiiigAooooAKKKKACiiigAooooAKKKKACiiigAooooAKKKKACiiigAooooAKKKKACiiigAooooAKgvbYXlhPbFtgmjZN2M4yMZqeigabTujA0jwlZ6f4NTw5eEX1qIzG5kTbvBOemeDSeFfDEnhnSpNMk1J9Qstx8iOaMAxKf4c55H4V0FFTypG0sRVkpJv4nd+vfy+RxEPgXU9Dnn/AOEQ8QPp9nO5drOeESpGx6lSeR9K0/DXg6LQry51K7vJdS1W74mu5gAcf3VA6CukopKEUy54utOLi3vvorv1e7OU1/wU2oa5HruiajJpWqomxpUQOsq+jKetZuqfDm98R2//ABUniGS6uEZTB5cAWODDAkhQRknGMnsa72ih04sqGNrwS5Xts7K/32uZWteHbHX/AA++kampkgZAAy8MrDow9DXNt4K8Rz2H9lXXi+Z9M27G226iZ0/ul/pxmu5opuCZFPFVaa5YvTfVJ691fYqaVplro2l2+n6fH5dvboERfb1+verdFFVsc8pOTu9wooooEFFFFABRRRQAUUUUAFFFFABRRRQAUUUUAFFFFABRRRQAUUUUAFFFFABRRRQAUUUUAFFFFABRRRQAUUUUAFFFFABRRRQAUUUUAFFFFABRRRQAUUUUAFFFFABRRRQAUUUUAFFFFABRRRQAUUUUAFFFFABRRRQAUUUUAFFFFABRRRQAUUUUAFFFFABRRRQAUUUUAFFFFABRRRQAUUUUAFFFFABRRRQAUUUUAFFFFABRRRQAUUUUAFFFFABRRRQAUUUUAFFFFABRRRQAUUUUAFFFFABRRRQAUUUUAFFFFABRRRQAUUUUAFFFFABRRRQAUUUUAFFFFABRRRQAUUUUAFFFFABRRRQAUUUUAFFFFABRRRQAUUUUAFFFFABRRRQAUUUUAFFFFABRRRQAUUUUAFFFFABRRRQAUUUUAFFFFABRRRQAUUUUAFFFFABRRRQAUUUUAFFFFABRRRQB/9k=)"
      ],
      "metadata": {
        "id": "ARsV_7ZYrb8b"
      }
    },
    {
      "cell_type": "markdown",
      "source": [
        "\n",
        "\n",
        "*   Sama seperti `arbitrary arguments`. Perbedaannya `Arbitrary Keyword Arguments` menampilkan pasangan nama dan nilai.\n",
        "*   Untuk membuat `arbitrary keyword arguments` cukup menambahkan `**` sebelum nama parameter di definisi fungsi.\n",
        "\n"
      ],
      "metadata": {
        "id": "RKFbvPXKrfQ2"
      }
    },
    {
      "cell_type": "code",
      "source": [
        "# Membuat fungsi dengan argumen **kwargs\n",
        "def pelanggan(**daftar_pengunjung):\n",
        "    print(daftar_pengunjung)\n",
        "\n",
        "# Memanggil fungsi\n",
        "pelanggan(nama=\"Farhan\", pembelian = \"minyak goreng, beras\")\n",
        "pelanggan(nama=\"Fitri\", pembelian = \"beras\")\n",
        "pelanggan(nama=\"Budi\", pembelian = \"mi goreng\")"
      ],
      "metadata": {
        "colab": {
          "base_uri": "https://localhost:8080/"
        },
        "id": "WDV_T0I3rd6q",
        "outputId": "f046f922-a38d-4e39-e420-b5358aa8b012"
      },
      "execution_count": 5,
      "outputs": [
        {
          "output_type": "stream",
          "name": "stdout",
          "text": [
            "{'nama': 'Farhan', 'pembelian': 'minyak goreng, beras'}\n",
            "{'nama': 'Fitri', 'pembelian': 'beras'}\n",
            "{'nama': 'Budi', 'pembelian': 'mi goreng'}\n"
          ]
        }
      ]
    },
    {
      "cell_type": "markdown",
      "source": [
        "\n",
        "\n",
        "*   Penggunaan `arbitary Keyword arguments` menampilkan pasangan nama dan nilai dari `daftar_pengunjung`.\n",
        "\n",
        "Bagaimana Jika hanya ingin menampilkan sebuah nilai tertentu? maka dapat ditulis seperti ini:"
      ],
      "metadata": {
        "id": "kORB20Y-rzle"
      }
    },
    {
      "cell_type": "code",
      "source": [
        "def pelanggan(**daftar_pengunjung):\n",
        "    print(f\"Pembelian yang dibeli: {daftar_pengunjung['pembelian']}\")\n",
        "\n",
        "pelanggan(nama = \"Farhan\", pembelian = \"Minyak goreng, beras\")"
      ],
      "metadata": {
        "colab": {
          "base_uri": "https://localhost:8080/"
        },
        "id": "Nohu49Ser6PT",
        "outputId": "6f89da70-b7bc-44be-9c66-4dd8134303b2"
      },
      "execution_count": 6,
      "outputs": [
        {
          "output_type": "stream",
          "name": "stdout",
          "text": [
            "Pembelian yang dibeli: Minyak goreng, beras\n"
          ]
        }
      ]
    },
    {
      "cell_type": "markdown",
      "source": [
        "\n",
        "\n",
        "*   Untuk memanggil nilai variabel yang diingin digunakan daftar_pengunjung `['pembelian']`.\n",
        "\n",
        "**Perlu diperhatikan** Salah satu error yang sering terjadi adalah ketika nama variabel di dalam fungsi dan ketika memanggil fungsi tidak sama."
      ],
      "metadata": {
        "id": "oe15_cKvsHNK"
      }
    },
    {
      "cell_type": "markdown",
      "source": [
        "**Perbedaan** `*args dan **kwargs`"
      ],
      "metadata": {
        "id": "XbfrREBGsQY2"
      }
    },
    {
      "cell_type": "markdown",
      "source": [
        "Selain kesamaan `*args` dan `**kwargs` sebagai argumen/parameter ketika kita tidak yakin tentang jumlah parameter yang harus diteruskan dalam fungsi. Lalu apakah perbedaan dari keduanya?"
      ],
      "metadata": {
        "id": "ZVTWZYSjsYJ_"
      }
    },
    {
      "cell_type": "markdown",
      "source": [
        "![asoerusjdfl.JPG](data:image/jpeg;base64,/9j/4AAQSkZJRgABAQEAkACQAAD/4QLgRXhpZgAATU0AKgAAAAgABAE7AAIAAAAHAAABSodpAAQAAAABAAABUpydAAEAAAAOAAACyuocAAcAAAEMAAAAPgAAAAAc6gAAAAEAAAAAAAAAAAAAAAAAAAAAAAAAAAAAAAAAAAAAAAAAAAAAAAAAAAAAAAAAAAAAAAAAAAAAAAAAAAAAAAAAAAAAAAAAAAAAAAAAAAAAAAAAAAAAAAAAAAAAAAAAAAAAAAAAAAAAAAAAAAAAAAAAAAAAAAAAAAAAAAAAAAAAAAAAAAAAAAAAAAAAAAAAAAAAAAAAAAAAAAAAAAAAAAAAAAAAAAAAAAAAAAAAAAAAAAAAAAAAAAAAAAAAAAAAAAAAAAAAAAAAAAAAAAAAAAAAAAAAAAAAAAAAAAAAAAAAAAAAAAAAAAAAAAAAAAAAAAAAAAAAAAAAAAAAAAAAAAAAAAAAAAAAAAAATEVOT1ZPAAAABZADAAIAAAAUAAACoJAEAAIAAAAUAAACtJKRAAIAAAADMDcAAJKSAAIAAAADMDcAAOocAAcAAAEMAAABlAAAAAAc6gAAAAEAAAAAAAAAAAAAAAAAAAAAAAAAAAAAAAAAAAAAAAAAAAAAAAAAAAAAAAAAAAAAAAAAAAAAAAAAAAAAAAAAAAAAAAAAAAAAAAAAAAAAAAAAAAAAAAAAAAAAAAAAAAAAAAAAAAAAAAAAAAAAAAAAAAAAAAAAAAAAAAAAAAAAAAAAAAAAAAAAAAAAAAAAAAAAAAAAAAAAAAAAAAAAAAAAAAAAAAAAAAAAAAAAAAAAAAAAAAAAAAAAAAAAAAAAAAAAAAAAAAAAAAAAAAAAAAAAAAAAAAAAAAAAAAAAAAAAAAAAAAAAAAAAAAAAAAAAAAAAAAAAAAAAAAAAAAAAAAAAAAAAAAAAAAAAMjAyNTowNDoyNSAwOToxODowMAAyMDI1OjA0OjI1IDA5OjE4OjAwAAAATABFAE4ATwBWAE8AAAD/4QQZaHR0cDovL25zLmFkb2JlLmNvbS94YXAvMS4wLwA8P3hwYWNrZXQgYmVnaW49J++7vycgaWQ9J1c1TTBNcENlaGlIenJlU3pOVGN6a2M5ZCc/Pg0KPHg6eG1wbWV0YSB4bWxuczp4PSJhZG9iZTpuczptZXRhLyI+PHJkZjpSREYgeG1sbnM6cmRmPSJodHRwOi8vd3d3LnczLm9yZy8xOTk5LzAyLzIyLXJkZi1zeW50YXgtbnMjIj48cmRmOkRlc2NyaXB0aW9uIHJkZjphYm91dD0idXVpZDpmYWY1YmRkNS1iYTNkLTExZGEtYWQzMS1kMzNkNzUxODJmMWIiIHhtbG5zOmRjPSJodHRwOi8vcHVybC5vcmcvZGMvZWxlbWVudHMvMS4xLyIvPjxyZGY6RGVzY3JpcHRpb24gcmRmOmFib3V0PSJ1dWlkOmZhZjViZGQ1LWJhM2QtMTFkYS1hZDMxLWQzM2Q3NTE4MmYxYiIgeG1sbnM6eG1wPSJodHRwOi8vbnMuYWRvYmUuY29tL3hhcC8xLjAvIj48eG1wOkNyZWF0ZURhdGU+MjAyNS0wNC0yNVQwOToxODowMC4wNzI8L3htcDpDcmVhdGVEYXRlPjwvcmRmOkRlc2NyaXB0aW9uPjxyZGY6RGVzY3JpcHRpb24gcmRmOmFib3V0PSJ1dWlkOmZhZjViZGQ1LWJhM2QtMTFkYS1hZDMxLWQzM2Q3NTE4MmYxYiIgeG1sbnM6ZGM9Imh0dHA6Ly9wdXJsLm9yZy9kYy9lbGVtZW50cy8xLjEvIj48ZGM6Y3JlYXRvcj48cmRmOlNlcSB4bWxuczpyZGY9Imh0dHA6Ly93d3cudzMub3JnLzE5OTkvMDIvMjItcmRmLXN5bnRheC1ucyMiPjxyZGY6bGk+TEVOT1ZPPC9yZGY6bGk+PC9yZGY6U2VxPg0KCQkJPC9kYzpjcmVhdG9yPjwvcmRmOkRlc2NyaXB0aW9uPjwvcmRmOlJERj48L3g6eG1wbWV0YT4NCiAgICAgICAgICAgICAgICAgICAgICAgICAgICAgICAgICAgICAgICAgICAgICAgICAgICAgICAgICAgICAgICAgICAgICAgICAgICAgICAgICAgICAgICAgICAgICAgICAgICAKICAgICAgICAgICAgICAgICAgICAgICAgICAgICAgICAgICAgICAgICAgICAgICAgICAgICAgICAgICAgICAgICAgICAgICAgICAgICAgICAgICAgICAgICAgICAgICAgICAgIAogICAgICAgICAgICAgICAgICAgICAgICAgICAgICAgICAgICAgICAgICAgICAgICAgICAgICA8P3hwYWNrZXQgZW5kPSd3Jz8+/9sAQwAHBQUGBQQHBgUGCAcHCAoRCwoJCQoVDxAMERgVGhkYFRgXGx4nIRsdJR0XGCIuIiUoKSssKxogLzMvKjInKisq/9sAQwEHCAgKCQoUCwsUKhwYHCoqKioqKioqKioqKioqKioqKioqKioqKioqKioqKioqKioqKioqKioqKioqKioqKioq/8AAEQgAogLdAwEiAAIRAQMRAf/EAB8AAAEFAQEBAQEBAAAAAAAAAAABAgMEBQYHCAkKC//EALUQAAIBAwMCBAMFBQQEAAABfQECAwAEEQUSITFBBhNRYQcicRQygZGhCCNCscEVUtHwJDNicoIJChYXGBkaJSYnKCkqNDU2Nzg5OkNERUZHSElKU1RVVldYWVpjZGVmZ2hpanN0dXZ3eHl6g4SFhoeIiYqSk5SVlpeYmZqio6Slpqeoqaqys7S1tre4ubrCw8TFxsfIycrS09TV1tfY2drh4uPk5ebn6Onq8fLz9PX29/j5+v/EAB8BAAMBAQEBAQEBAQEAAAAAAAABAgMEBQYHCAkKC//EALURAAIBAgQEAwQHBQQEAAECdwABAgMRBAUhMQYSQVEHYXETIjKBCBRCkaGxwQkjM1LwFWJy0QoWJDThJfEXGBkaJicoKSo1Njc4OTpDREVGR0hJSlNUVVZXWFlaY2RlZmdoaWpzdHV2d3h5eoKDhIWGh4iJipKTlJWWl5iZmqKjpKWmp6ipqrKztLW2t7i5usLDxMXGx8jJytLT1NXW19jZ2uLj5OXm5+jp6vLz9PX29/j5+v/aAAwDAQACEQMRAD8A+kaKKKACiiigAooooAKKKKACiiigAooooAKKKKACiiigAooooAKK5jx/4pvPCPhp9Q0/T/tsrMYly64Ryp2fIWUyZfaNqndgkjpg0o/ifolj4T0/XPFEn9kRagzC3U/6R5gHRv3W/bkckE8Hg9KLrUdtjtKK5iX4j+EYNGsNWl1uBbDUJDHbzlH2sw6huPkI/wBrFQXPxT8F2dvp011r0MUeppvtS0UmWXdt3MNuUGc8tgcH0NAjrqK5Kf4peDLbw/BrU+uRpYXMrQwyeTJukZfvYTbuIHc4xyOeRXQaRq9jr2kW+p6TP9os7ld8Uuxl3DOOjAEdO4oDbQu0UUUAFFFFABRRRQAUUUUAFFFFABRRRQAUUUUAFFFFABRRRQAUUUUAFFFFABRRRQAUUUUAFFFFABRRRQAUUUUAFFFFABRRRQAUVgeNPEc3hXwzPqsNkbzyuGAkRdmQcNhmXd820bQdxzxXH33xV1O2+H9rr6+H3ElzJ5C/vYn/AHgC5/dCTfy3mDZksuwlqV1r5B2PT6K83Txxqd34+8KxEjT9L1PT7m6ntneGUELko/mLkY2gNw2Oea6PSfiF4Y1y7srbTdRaSW/8w2m+2ljE4j++VZlAOPr2Poaf/B/BtfoxX/r1OlormoPiF4WutNW/ttWWW2a+Gnq6QyEtcHogG3Jz64x71Bb/ABQ8G3XiX+wItbj/ALS89rfyXhkQGQEgrvKhc5GBzyeBnNC12G9NzrKK5iP4j+E5defRl1mL+0UuHt2gaN1KugJbJK4AAB+bO3jrVSz+LXge/vorOz1+Ka4muVtY41hly8jHAA+XkZ/i+7055oWuiB6bnZUVzFt8R/Cd74q/4Ry01iOfVfMaPyI4pGG5QSRvC7OAD37Y6109HS4dbBRRRQAUUUUAFFFFABRRRQAUUUUAFFFFABRRRQAUUUUAFFFFABRRRQAUUUUAFFFFABRRRQAUUUUAFFFFABRRRQAUUUUAFFFFABRRRQAUUUUAMkhjmCiaNZArB1DKDhgcg/UGuD8faR4nn1PQh4Xtp5tJgd/tllY6n/ZxYnG0tIo3bBzkLz/Ou/ooDpY8N0f4b+JYtP8AD0GoaSv+ieJpL+5U3aSBYTtw+4tluR/vHuK6DXtN8Q6D8U9R8TaXpljq9he6atvcNdXqW409QRlnyCTHhSxABJ59Bn1KuY8SfDjwp4u1KO/8RaV9suY4xEr/AGiVMKCSBhWA6k0rbL+tuX8kCtd3/rW5434Z8P6rq/wj0KXRvDt5fXcV5dSwX2n6slhLaZfb8pcHcGwR0429s17d4LtddsvB+nweLLpbrVkj/fyDB7nAJHBIGAT3Izz1rYtbW3sbSK1soI7e3hUJHFEgVUUdAAOAKlq77pC3d35/jqFFFFSMKKKKACiiigAooooAKKKKACiiigAooooAKKKKACiiigAooooAKKKKACiiigAooooAKKKKACiiigAooooAKKKKACiiigBksUcybJo1kXIO11BGQcg/nTBZ2wVVFvEArl1GwcMc5Ye5yefc1NRQB5f8Qvh5qHizxdpaWCtZ6XHplzay3MDogiZgdi7c5Kk4BAHTIrO1Xw540u/A/h2ex0GGz8SeH5mgSGGaFY5YWjKF0O7AB+U7Tg5zx0r2Gip5dLf1u3+rXoO+t/62t+h5FpPw21XSfHmmwRWwPhy3a3v3n89eLqK3aLbszu5ba2cY461iXPgr4h6pd2f9tafc3c1rr0d3JeSa4HheEOT+5tshUVRjr8/OAMEge8UVd3e/9dP8kvQnZNf11/zb9Ty7SfA2pJp/xGivo49OfXrqc2t28isGiIbazbSSB8x4ODya4y9i8QwT/DbQNd0Gz02bTtShSHZdpNNcIhXdIFQYRMDJyxJOPSvoCeCO5t5IJ13RyoUdc4yCMEcVzfhz4beEfCeoNfaDosVtdFdomaWSVlHfaXY7c+2M0QbjJPorfh/X/AKk7pvq7/j/AF/wTifDnhjxfYfEr7XpmlXnh3Q5LmWa9hm1iO6tpwe8cIXcjsQDknjkcDg+vUUUlpFR7CeruFFFFABRRRQAUUUUAFFFFABRRRQAUUUUAFFFFABRRRQAUUUUAFFFFABRRRQAVBJbyPIWW7mjB/hUJgfmpNT0UAVvss3/AD/3H/fMf/xFH2Wb/n/uP++Y/wD4irNFAFb7LN/z/wBx/wB8x/8AxFH2Wb/n/uP++Y//AIirNFAFb7LN/wA/9x/3zH/8RR9lm/5/7j/vmP8A+IqzRQBW+yzf8/8Acf8AfMf/AMRR9lm/5/7j/vmP/wCIqzRQBW+yzf8AP/cf98x//EUfZZv+f+4/75j/APiKs0UAVvss3/P/AHH/AHzH/wDEUfZZv+f+4/75j/8AiKs0UAVvss3/AD/3H/fMf/xFH2Wb/n/uP++Y/wD4irNFAFb7LN/z/wBx/wB8x/8AxFH2Wb/n/uP++Y//AIirNFAFb7LN/wA/9x/3zH/8RR9lm/5/7j/vmP8A+IqzRQBW+yzf8/8Acf8AfMf/AMRR9lm/5/7j/vmP/wCIqzRQBW+yzf8AP/cf98x//EUfZZv+f+4/75j/APiKs0UAVvss3/P/AHH/AHzH/wDEUfZZv+f+4/75j/8AiKs0UAVvss3/AD/3H/fMf/xFH2Wb/n/uP++Y/wD4irNFAFb7LN/z/wBx/wB8x/8AxFH2Wb/n/uP++Y//AIirNFAFb7LN/wA/9x/3zH/8RR9lm/5/7j/vmP8A+IqzRQBW+yzf8/8Acf8AfMf/AMRR9lm/5/7j/vmP/wCIqzRQBW+yzf8AP/cf98x//EUfZZv+f+4/75j/APiKs0UAVvss3/P/AHH/AHzH/wDEUfZZv+f+4/75j/8AiKs0UAVvss3/AD/3H/fMf/xFH2Wb/n/uP++Y/wD4irNFAFb7LN/z/wBx/wB8x/8AxFH2Wb/n/uP++Y//AIirNFAFb7LN/wA/9x/3zH/8RR9lm/5/7j/vmP8A+IqzRQBW+yzf8/8Acf8AfMf/AMRR9lm/5/7j/vmP/wCIqzRQBW+yzf8AP/cf98x//EUfZZv+f+4/75j/APiKs0UAVvss3/P/AHH/AHzH/wDEUfZZv+f+4/75j/8AiKs0UAVvss3/AD/3H/fMf/xFH2Wb/n/uP++Y/wD4irNFAFb7LN/z/wBx/wB8x/8AxFH2Wb/n/uP++Y//AIirNFAFb7LN/wA/9x/3zH/8RR9lm/5/7j/vmP8A+IqzRQBW+yzf8/8Acf8AfMf/AMRR9lm/5/7j/vmP/wCIqzRQBW+yzf8AP/cf98x//EUfZZv+f+4/75j/APiKs0UAVvss3/P/AHH/AHzH/wDEUfZZv+f+4/75j/8AiKs0UAVvss3/AD/3H/fMf/xFH2Wb/n/uP++Y/wD4irNFAFb7LN/z/wBx/wB8x/8AxFH2Wb/n/uP++Y//AIirNFAFb7LN/wA/9x/3zH/8RR9lm/5/7j/vmP8A+IqzRQBW+yzf8/8Acf8AfMf/AMRR9lm/5/7j/vmP/wCIqzRQBW+yzf8AP/cf98x//EUfZZv+f+4/75j/APiKs0UAVvss3/P/AHH/AHzH/wDEUfZZv+f+4/75j/8AiKs0UAVvss3/AD/3H/fMf/xFH2Wb/n/uP++Y/wD4irNFAFb7LN/z/wBx/wB8x/8AxFH2Wb/n/uP++Y//AIirNFAFb7LN/wA/9x/3zH/8RR9lm/5/7j/vmP8A+IqzRQBW+yzf8/8Acf8AfMf/AMRR9lm/5/7j/vmP/wCIqzRQBW+yzf8AP/cf98x//EUfZZv+f+4/75j/APiKs0UAVvss3/P/AHH/AHzH/wDEUfZZv+f+4/75j/8AiKs0UAVvss3/AD/3H/fMf/xFH2Wb/n/uP++Y/wD4irNFAFdbaVXBN7OwByVKx4PtwtWKKKACiiigAooooAxNS1q+TWf7K0PT4b27SAXE7XN0beKJGYqo3BHJZirYG3GFOSOAeU8OXNu1voX9oaYxuJ/EOo+TvmwbSTNyxJC5D8BlxnHzZ7V1Wo6Hftrn9r6HqUNlcyQLb3CXVqbiKVFYsh2h0KsCzc5xhjkHgihYeCWsodLSTVJLhtP1G5vmleIBpjMJRg4IAI83OQOdvQZ4qLSWo5WtZf1o/wBSMeOGTxYmhTw6YbidpUghttUEtwrqhdRNFsHlgqp5BbBwOc5qa38cRXFz4djWwlC61D5kkm8Ysztyqt6ksGXtyKr6V4HvNOl0KOTV7d7HQpGa2t4bDy2kDRPHmRzI25/nzuAUE7sg5BVX8BAabrNvbam8M1/cLNaT+QGNjtkMqKBn5gJGkbnHD46Ck7LbX+v6+4Ov9f1/w5Je+M5rfQYdVW30y1gmnljR9V1UWkbqrsqFW2NkuF3AY4HesuXWbXW9c0nWUgZrW68M3s/kO2CVL25Kkjp6ZFbLeEprXULC60S+t7Q2tgunnz7PziIlIP7sh12Me5IYHC5HFQ2Pgb7FaadAdR8z7Do82l7jBjzPMMZ8z73GPL+73z1GKl7O3n+Ul+Og1b8vzT/A1bHULLTfBNtqJiNrYW+npP5YYuYoxGG25PLYHHqa5zUdQ1i88QeFG1XR4rGGXUWkiaO8811/0ab5ZV2LtbB/hLjhuemeo/sOCXwoNBvHaWA2Ys5HX5Cy7NhI9DWTH4X1ibUNIn1fX47qPSZzLEkVj5TT/unjzK29st82cqFH3vl5G3Rtc7ZELqmk97P8jOh+KOnTavBCkulta3F2LSMR6oj3m8vsDNbBeFLf7ZYAglRyBYh8cX8loNSk0OOPSl1FrCWY3uZQRcGASLHswy7tucsCPmwDgE6Wk6Fq2kTJa2+sQPo8cjPHbyWRM6qST5fm+Zt2gnA/d528Zz81Rf8ACIf8Uo+i/bvvagb3zvJ6ZuvtG3bu/wCA5z747VKtyq+5XX+vP/gDNQ8U6lCmp3Wl6LHeafpm9ZpZLzypJXRcsI02EMAeMsy8hsA4GYPEfjr/AIR7TbbUJ4dNS2lthcMl3qggmk4yyQoUPmMAehK5JA71h+Jbq2sE8QaTpviq1R7/AMwNowhEl958qY2wneCFYsp5RsZY5A+7rXHga+ntL+G11S3s11XT0tLwtZedKpWLyx5cm8AL32lTyWIILZELm5b+n32d/wBB+7zWfn+at+peuPE+pTa7c6ZoWjQ3j29nBeebc3pgRlkMgC8Rud3yccYOTkjAzs6LqsWuaFZapbI0cd5Csyo/3lyM4PuOlVdO0H7Brl1qP2nzPtFlb2vl+Xjb5RkO7Oec+Z07Y75qbw9pH9g+HLDSvP8AtH2OFYvN2bd+O+MnH51pK12kSttTE8Of2nb+OdbstU1ebUtllaTLvRY44md58hEUcD5R1LNwMscCpPFera9p+veHrfRILSWK9upI5luLgxeZiGRwpIifaPl3bhzkAYwSRrW2j/Z/FF/rHn7vtltBB5OzGzymkOc55z5nTHGO+aj1/RZ9VfT7ixu47S8065M8LzQGaMkxtGwZAyk/K56MMHFF1dBu3/XQyte8bDw9rkFneppohmlijVDqYW8fzGCB0tynzKGPJ3g4DHHGCy+8Z6jA2uy2mhxz2egzFbqWS98tpEESSkxrsOWAY/KxUcDDHJw268EXk3223g1a3gsbzUE1CRRY7p2kWRJCrSmTDL8mB8oIG0ZwMHQl8K+Zpvia1+2Y/t55G3eV/qN0CRdM/NjZnt1x71Cvyu+9vx0/4JS5eZX2v+Goy58RX93dXkGgaVHfQWaL9plmuvIJZkD7Il2MHYKyk7igyyjPXGLpHiCXw/8AC/w3cKNLRHsYlaTVNSFnGDsBChtj5Y88YA4PNbH/AAi+o2l3cvo2spaQXyoLuOW081t6oI/MibeAjFVX7wcZUHHUGtY+CbvSRpLaZqsCz2OnJp0s1xZGVnjU53R/vB5bHvncDhcg7ab2aXl+ola2v9bG7pOrw694ZtdWtUZIry2EyK+MqGXODjiuQ8IeIb/TPA/hqS80hU0qWG2tftP2rMyM+ERzFtxsLFeQ5YBgSo5x1ugaN/Yfhey0c3H2j7LbiHzim3fgYzjJx9M1h6Z4L1G103StJ1DXY7zStNMTrEtj5csrR4KB33ldgYAgBAflXLHkmtOZ9rr7tQ+zYjj8QppW5NH0TzJ9Q12e0ZPtRAaUIzGUkg4U7BkDoMkAngwa74s1+LQb0WlhaWmq2N/awTr9sLx7JHjwyMYvm3BtpyqleSM4GdiPwnsu7af7bnyNWm1Lb5X3vMR02deMb859ulGpeE/7QTWcXnlvqUkEsZMW4QvDtKkjcNw3ICRxxxnvUK6ivl+S/wCCPTm8tfzf6WK3iXxhc+F7KC41G30eHMJklS41gQs7LyyQBo/3pA9dnVfU4lm8Uajca0+m6Do8V4y2MN9511eeRHtkLgKcI53fLkcYPOSMDMN74R1S7uL+ZNYs4JNUsltb2RdOLPkKy5iJlOxfmztYPznnmtTTPD/9nau999p8zdYW9ls8vGPKLndnPff07Y6mmut/63/4AtLf15f8Eow+LbrVLfTxoGlpcXd3a/apI7u5MEdumduGdUclt2QAFwdrHI4zo+HtZl1uyuJbiyaylt7qS2eJpRJyhxnI45rl7uztPBx0vHi3T9IvY7V7cvqkQ8i6jD7vumRMOrNwQ/RjkHjGv4BhlTw/PcyvNIt7fXF1FJOmx5I3clWK4G0EcgehFKN3q/P89PwE9Pw/L/M6eiiimAUUUUAFFFFABRRRQAUUUUAFZetatNpxtbfT7MXt/eSGOCF5fKQAAszO+1iqgDspOSBjnI1Kydc0efUpLO6069Flf2MheGV4vNjYMNrK6blLAj0YEEA57FMZxs92W1PxA/iHSELfa9Kja3juyU3GQBXWQAEgEg4KrnbgjHNbuv8AjZfD2uQWd4mmiGaWKNUbUwt4/mMEDpb7PmUMeTvBwGOOMFreC7q5a/m1DWFmuL65s7h2S12JGbdw21V3EhW29ySMnk1HdeCLuY31vb6tBBYXmoJqDoLHdO0iyJIVaUyYZfkwPlBA2jOBgtaff/l/wf6sKNuXX+tyW/8AHI07TftE2nM0yao1hLCkwPlopJaYtjoIh5mDjrjPerV/4pkt4dVlgt7NItOuUt2udQvhbQElFZiX2ttALqvQ5Y4460S+D7e48RajqM05eC/tDA9p5Y2h2UI8me5KIi4PTafU1Sh8E3dppekLb6tDNqemzSzm7vLLzUmeTduYxq67W+bghuBkdDS1t/X9W6/Mel/6/ry+RR/4SGLxM/hS/hWIbdalhfyJxNGWS3nBKSADcp6g4HXoK6DwdLaT6DJJp9n9iiN9dgxeaZMuLiQM2T/eYFsds47VVs/B8lu9nJPqZuJLfVZtSZjAF8wyI67MA8Y39een41qeH9H/ALC0trPz/P3XM8+/Zt/1sryYxk9N+M98Z4q7rk8/+B/mKWtv66v/AIByfibXdS1XwrcXMGkRjSJbiJIrk3f75gJ1HmGIoAEJBI+ctjB284E2t/E7T9H1O+gMmlmHTnCXKz6okN0xwGbyoCp34B7suSCB2JsT+CtSk0l9Fj19Y9IWZZYI/seZ0AlEgjaXfhk4I+4DjHzHBzo/2Fq1pql1No+sQW9lezCaa3uLIzOjkAMYnEihcgA4ZXw2TyDioje+v9bf8Eb/AK/4H/BK154q1P7fqtvo+iR3i6ZHHLJJNe+SJVaPfhPkb5+OhwOR8wqVfE95qU8aeG9MjvU+zRXM0l1dG3CrIMoi4R9z4BJB2gZHPPF6PQ9l7rNx9oz/AGoEG3Z/qtsez159e1crcGx8G3kEC+MNP0y4GnwRXNvfw7jcLGCqyQr5ikOQGGBvH3eM9Ref9b/8AWv9fL/gmqfGUzeELTXBa6fZLO7LINV1MW0UOGK4MgRssSOgGOvPTLIPG8uo2eiSaPpa3UurrPsDXQWOJoupLhWyhIIDAE9Djnij4e8Kakmi+H7+G6S01Gzt5kK6hZ+eQkzhycK6bJMAAkHHLDB4rY0jwk2lnSS+oNctpxuiWaEKZjM27JwcAj2HPtTs7EpvQv6BrEur2tx9rtVtLu0uXtriFJfNVXXBBV8DcCrKeQDzggVh+ILdLLXbBtL1DUH1u6vI3Ft9umeIwbgJS0G7y1QJkbto+bbzuPPQaVpP9mT6lJ53m/brs3ONm3ZlFXb15+7nPHWsex8O+INN1C8uLbWdKf7ZctNK8+lSPMy7jtQuLgDCqdo+UAY6cmmt0/T/AIKHrZ/P9Sx431LVdJ8MS3ehpAbhZYlLTS7AqlwDj5GyTnGMDgk5yMGDxD4qvPDmnW9zfwaNAzITKLvWPIUsOdkTNF+8bA7hOo98bGvaV/beh3OnibyGmUbJdu7YwIZTjIyAQOMjNYtz4W1SfUpr+PV7OK5vLJbO7kGnFjtUscw5k/d538ht4yAcdcw762KVuo8+K7y9v7W00HSUumutOTUElurryEVWbG1iEcg45GAe/TrTbfxdd6pbWCaLpKTX9zE8s0N1deVHbBG2OGkVHJO/IGF5wTx3u6P4b/sm7tJ/tfnfZtMi0/b5e3dsOd/U4z6frVCDwhe6YLWfRtXjgvIfPR2uLQywyxySmTBjEikMpPDBvXI54p7/ADf62/QhXtr5fkr/AK/8MUtC1W6sND8QX8lrawTJq8xlS9vRDDF8qZLShWwvodpJyMgc43fCviSHxPpct1CLfdBcNbyG1uRcQsy4OUkAG5SCOcDuMcVlf8IPdJCkkerxy30WqyanHLd2Ykj3uhXaYw65xnKkMCMDrznZ8P6LNoyX5ur37bNe3bXTuIRGFJVV2gAngbeO+MZyeSR0ST6Jfekv+CGvTu/zf/AOX03W9U0mz8QXdroy3djZ6pdSXLtdeXIyAhmMSbSHIGeGZMkYHrV678R2WlXHiDVrLS2uJ4YrNnaOc7rpXyEAB4UgMfrnnFSS+ENUaHUrKHXkj07VLiWW4j+xZmRZD8yRyBwFyMjLKx5JGOALN74QS6GqLFdiFL8Wqqoiz5QhOQOvOce2PeoV+RLyX5alS+LTu/8AgEc/iLWY5b+wn0q1tr9bJruzK3xeORQdrbz5WUYZU42sDnr1qvZ+JtXtvAWm6vq0WkRTzRRNJNeap9ng2sgIZn8r5XYn7gUj/arcudEW619dRkmIX7DJZtEF6h2Vt27P+zjGO9YcHg7VLWPR5IdYsXvdHge1t5Z9NZ0MLBBkoJhiT5B84IBBYbeatba/1q/0sL7Xl/wF+twtPHcuqWWiyaPpkd3Nqv2hB/pYEUTwnDHzAp3ISCAwXJGDt54sx+LriSxEf9lr/bBvm08WYuMxeaql93m7c7NnzZ2Z7bc8Uui+D20htNZ9Sa6axlvJC7whTKbiQvzg4BGewwfQdKp63pFno8UupXevQ6XM2q/bba7uUxDE7ReWY5AWAZSoYfeXkjBBxkduZ9v+Cv8Agj1tp/Ss/wDgGpomv31/r2oaRqulx2NzYwQzM8N158cokMgG07VOB5fcA5J4wATvVxXgszah4o1zWv7Rh1S2uIba2S8tovLgkePzC4iGWyg3rzub5twzxgdrVStfQXUKKKKkYUUUUAFFFFABRRRQAUUUUAFFFFABRRRQAUUUUAFFFFABRRRQAUUUUAFFFV5f9YaALFFVKKALdFVKKALdFVKKALdFVKKALdFVKKALdFVKKALdFVKKALdFVKKALdFVKKALdFVKKALdFVKKALdFVKKALdFVKKALdFVKKALdFVKKALdFVKKALdFVKKALdFVKKALdFVKKALdFVKKALdFVKKALdFVKKALdFVKKALdFVKKALdFVKKALdFVKKALdFVKKALdFVKKALdFVKKALdFVKKALdFVKKALdFVKKALdFVKKALdFVKKALdFVKKALdFVKKALdFVKKALdFVKKALdFVKKALdFVKKALdFVKKALdFVKKALdFVKKALdFVU++v1q1QAUUUUAFV5f9YasVXl/1hoAzbzW9L0+YxXt/bwOq7nDyAeWuGIZv7qkI3JwODV7OelZmp+H7PVtQtb27MhnsjutmUj9y24EsOOp2hTntkdznjfE+p3f2q51bS/PgSxvobRrifV5IlL70DIlqoMcgIbGX2sSTjgKaL9Afc9GorhJpbyK68ZarHdXk8+lOxsbbz5PKQ/ZEb/VqcPknOCCAeRgkksljg0zVfCUmn+IL+4Op3DNL51+8qXifZ5G8zYSQqg7ThNq/MOOFw0v0/Epq34/gd9RXF+FvOsdeWx1mS+l1Oe0ecXI1F7i0vEDJmRI2bETAuPlCAANgFhVrVbRtU8dR2E19fw2n9ltIYrS7eDc/mqA2UIOR7H65qXpbz/S/+RLsr+X62/zOqorzvR/tsOl+GdYn1fULq9u7sW9wZrg+XLGQ4AMQwgI2qdwUMSOScmmaWPEmqzpq8M1tE41ExzSya3PtVFmKND9l8ryg235Rzuzg7iTTVm7L+tv8w2/r1/yPR6K83VLtfDd7rzatqT3ttrEqwg3jiJYxdlPLMYO1lxkfMCRnAIAXDr8eItY1bXJdPmt4ZdPuPKt5ZNbnt1tQEVlZ7dIikgOSxLk5BxwBwLe39dP8xtWbXy/r7j0KeXyLeSXY8nloW2RjLNgZwB3NNtLj7XZQ3HkywedGr+VMu10yM4YdiO4rjoY7mfUPFl5c396XsJCttEl1IsURNohYhQQDy2Ruzg8jBJJjsrebXNSsLa91LUkhbQIJmW3vJIS0hb75ZCG3fjz3zxU3s7en5N/oJ6W/rql+p3dFec6HLfR6b4P1qfVb+6vNUnWG7864YxSI0MjY8oYRSCi4ZVBODknJy2LVLyTxLoOq2X2i3sdXvniH2rVpJHnj8uQ/8epBjjAKggq24ADIBJFV1t8vy/zKcWvz/P8AyPSKK5/xVOXWy0uCG4mur6RvKSG+ezUhF3NvmT51GOcKCScDGM1yNhdahqNtoVhcalcRo2u3dnK1rfvIXiSGYiMzYVnxgDccNwDnIzRH3nZf1t/mS9Ff+u/6Hp1FcQ8UN7da+19q9/Z/2LtjtxHfSxCCMQq4lf5sSksW5kDA7ceuV8F6pPMNHW+vZZGn8O21wfOlJ8xgfnfnqfmXJ68jNC1/ryb/AEDp/XdL9TtqK860m5m16Hw4j6reta3j6g0j2926GdFkOwb1O7AGMEEEY4OOKgiS9tPD02rHWNTmudP1v7Hb+bduU8gXYi2OgO2TKk5dwXyfvcCktXb+ui/UaV1df1/Vj0yivOLseI9Y1LWrjTZreGewu2hgll1ueBLYKAV32yxGNwQdxLkkhuowAJ7y1ub6XxjdTatqUb6dJmzS3vJIkgYWsb5CqQGBY52tuX25bJdcvN5X+Wn+Y0ruyPQKpXWpw2mp2NjIshlvi4jKgbRsXcc8+n1rM1nVrq18AzapFIIrj7GsplCbhESBl9vfbktg8cViT2Vjo/jPw39m1O9ufMjuZjHc3r3JdRD/AKwbyxHXopC89OlOXutp9DO90mup3TNsQsegGaqaTqcOs6PaalarIkN3CsyLIAGAYZGcEjP41wenajeHxHot3B50Fjrcc0ipc6vJcyTx+UXDGAgxxc4P7tsDIHfATTZXvfB3hvSrSG4luE0lLpyNVl0+JE2hdzSRAuxz0XBXqTj5aNk7/wBb3/ItWex6TRXm+iT3fiS48MQ6jqd6YrjRriaf7JePF57LLCqsXj2k9ScjGcnsSCumLfW2h6Pq82sajdXn9qizYzXLeXJB57QhWjGEY7cHfjcWGc9qq23n/nYlu1/L/K53Wo6nDpi2xuFkb7TcpbJsAOGc4BOT0q7XLePdv9m6XvuzZqdWtgZwVBT5/VgR7c1jave3PhmbXbXRL+4lit9NjuX+2Xbz/Y5GkK7t8m9gCgZsHcBszt55zT0d+7/JMfX5L8W0ehUV5nqlt4h0Xw3rtyLpLO2OjzyIseuXF9N5wxtlRpUUoACc7TjJXgVtNp7WPiuwsBqGpTQ6rYXJuxLfSnc6GLDp837o/O3+r2jnpwMU1ZX/AK6/5AtTrbe4hu7dLi1mjnhkXckkbBlYeoI4Iqtq2qwaPaxT3KSMstzDbKIwCQ0kgRTyRxlhn2rh/CSLpHhvwUsVzdRpeTFJ1lupHUt9nkwmGYhRlRhRgZHTNQ+ItTuJ1182rtfG08Q6akEHnfKGBtyYwTwuWzn3Jp6cyXn+q/zHbfyPTKyF8RQSXF1DBZ3kzWt+ljL5UQbazIj7+D9wBxknpzxVXwdIbvSpL+5vprq/uJD9sjcsq20g6wrESRHt6erfeJOc1zwuJrfVtV+zzSReZ4rto32MV3KbeDKnHUH0oS1t6fi4r9SJO0XJef5P/I9CqOC4huoFmtpY5onGVkjYMrfQiuKjhkh8UrDrk2oTf2ncTx2d5ZapKIGXY58loQyiNlRThlByVyWBOK0Ph1YQ2XguzML3DGUMXE1zJLghiMAOx29OgwM0invY6mqt5qNnYGMXlwkTSnEaE5Z+mdqjk4yM46VarO1rQ7LxBYiy1WPzrQsGeE42yY6Z+hweMcgUAMfxLoiIrtq1mUZBJvWZSqoQxDFgcKpCN8xwDtNTWOqwaheX9tAsgewmEMpYDDMY1fK4PTDjrjnNVbzw3aahcWNxeSTSz6eB9mlJXKNkEv0xuO0A8YwSABk1xpupn8eavpd1NNp+lXepx+ZeQyNG0swt4NlvvUgxbuu7+LG0EE8tWbt/W6/r/gj6XPSqK841S91ZZb7Q9PvrkXunXkmp5MxLy2qgSpHuPRWd/Lwf4UYdqsf2s+twNJaPdXq6zeuNOjh1B7SIRQoFYmaP5lUsHb5AS2V425qb3V/6/rf7mGz/AK/r/hzv6K8xsLrUNRttCsLjUriNG127s5Wtb95C8SQzERmbCs+MAbjhuAc5Ga13ihvbrX2vtXv7P+xdsduI76WIQRiFXEr/ADYlJYtzIGB249ct6R5vK/yEtZcv9df8jt6K8wE96fCGja3q11qF5psOiQSXX2HU5ILmBym5p2AZfOBGOGbI2nCtk12HjSaeHwfdPZ3M1tKWiCzQttdMyKMg/Q1U48ra7Owk7m/RXDjQzL40vtIOr6yNPGnxXYhXUpgwmZ5FLCTdvAwg+QNsyc7ayrXUdb8Q2vh20LrO0+ki6dW1WbT2nkBCs2+FGZsAglcgfPnB4xCd7f13/wAi3G1/L9bW/M9NorgILTVrrWNA0rW9Wm5s71rkafeuBMEljEYaVQjFlBGWG0kg9iQasl5qrQWeiW9w88bard2oe51KW2klWPLRxm4RWfOMnjBYJy3XLemn9b2F0u/6/qx6TVWC98+/urX7NcR/Ztn76SPEcu4Z+Q98dD6GuHe11uBdI03U9ReFJ9aaMJZajLM62/2Z28p5mVXY7gTk/MAVwcgGpNXnu7Sy8TW1pf3kItXsoreT7QzvECEBIZiTk55Jznvmh6K4u39dWv0O+orhxoZl8aX2kHV9ZGnjT4rsQrqUwYTM8ilhJu3gYQfIG2ZOdtZK6td6/wCGLBSbmS+ttIjvLu6bV5dOhQOGG8tECXfMZOCuwAdRnBV9L/11/wAi+V3t/Wu35np1FYOh608nw8sNb1Nmdzpkd3cNGnLHygzEKO/XiuY0u61G08W2sRM1tbajptxc+TNrEl5I20xlHZGG2E/MeI2KnJH8Ipz9yTi+n/B/yIj7yT7notFedaV5y+D/AAn9r1XUC2u/Z1vruS7lLt+4ZlRWz+6LMFXcuCfXcc1FeXT6RrHiG0stYvpLWxGlMVmvXlNqGuGMo3MS2CmCdxJwcZ2gAW42k4voKL5lf+tT0qiuN1/VJE8Sapa2166mDw/NOYo5SPLfd8r4B4PBwetUYtLmbW/D9q2s6wYNT0+Wa+U38mZmjEW0gg5i5ck+Vsz0PFZxd/683/kPrb+tk/1PQKK8xS/1i6/s/Q4ZmuYjeahAGuNUltJJhBLiNDPGrOWCknsWCZJOCDdkttaj/wCEd0zU9Tki8/Vp4n+xX8krGAW8rCJ5iqsxBGNxG4YBzuG6qj72w5Ll3/q1/wDI9BqC+u0sNPuLyYM0dvE0rhByQoyce/FYXhYyW+pa9phuLie3sbxFtzcztNIivDG5Xe5LMNzHGSSM46YrB1gQ6lonizUdR1e8t5tPNxAscV28Uduix/KDFnY5YHdl1YneAOgxnOVotrtf+vvKjH3kn3O9trhbu0huIwQkyK6huoBGearx6pBLrlxpSrIJ7e3juGYgbSrs6gA5znKHt6VwWvXtxNocjaaLiOTSNLjlluX1eSyihYx7lKogYStxyJBt4AB5arj6utprGqajeCdzJodhuFrgSFpJJVG0kgA5YckgDr2rV2u0un/B/wAiI6xT7/5r/M76ivKry81fSbHxhYtPJaNb6It1EkerzXrwSHzBuEsqh0JCr8oyBgEdTW82iv8A8JnDpp1jWDY3Wnvc3EP9oSgySrIoDK4IaMfOcrGVU4HGBila6Vut/wAL/wCQP3d/62/zO3qlpOpw6xpkd9arIkUhYASABvlYqehPcVn+Dbme68K2zXczzyxvLCZZDlnEcjICx7nCjJ7muL01FsvAdvrNnq942oRXxhgiS8bymZrkr5BhB2HIYjLKWGc5GBiftWJueo0V5un/AAkms3t/f2c1vBNaalJbrLJrU8awIkmAj2oiMbbkwcsSTvBBHy4fqMV1cWvjfUW1XUo5dKnd7FIbySNIClrFJ91SAwLdVYFevAycvpfyv8tP8zTlbly+dvz/AMj0BbmB7qS2SaNp41V3iDgsitnaSOoB2nB74PpUtcDZWCSeOtc1BZLwXJ0e1nQLeTbC7CcH5N20gYGBjCnkYJJqwNaMlr4DEeoM0l/IpcCU5uFFq5Ytz8wDbSc98d6rl1t6fjf/ACIv+Tf3JP8AU6jSNVg1mxN3apIkYnlgxIADujkaNjwTxlTj2q9Xmngq4nu9VFjqFxNY2kF7ezWUUUjIL+T7VLvLOpGQg/5ZHrnccgDHU+JJPO1bRtKmvJ7O1vpJBI0ErRPKyJuWISKQy55bggnZjoTSlpsPqy5P4ghinvYY7O8uZLKWGKRIIg5Pm4wwGfugNlj2APWtavNJJP7NuPEMWmajcyeTq+mwmRrhndAWiDRl/vNwSDuJPJBJresraLWtU1O61PVL6KexvvJS3gvpLeO3RcFAyKwV94O7Lg53YHAxUx1X9eX+Y3ov6/rob93qsNtp891BHLfiB9jxWaiWTdkArgHqM8jtV6vNreyXR/C/iG40+6vo5xqzRbnvppNo89OzOcEg8nqQeSa1ZY4tUuPEF1qet3tlLpkrLGsF48CWcYjDK7IpCvu5bMgYHp0BFLm0v5X/AC/zC2tvOx2lFcDpkV74l10JrN7qNuv9h2c8lra3UlsFncy7myhDA8YxnB7g4GIodQu9b0DR7Ii5u78WTXM0p1WTT49its3vJEC7Nx0C7eSTj5aqXuuz3/4f/IP6++3+Z6HRXnGh3F54hu/C0d/qd2Yp9HuJ5xa3bxid0lhCsWTaT1zkYzk9iQdWOW9eaHw215cC5i1EyPP5xErWiESqd3Ug7kiPrlqdtvP/ADsT/X4XOzT76/WrVVU++v1q1SGFFFFABVeX/WGrFRvFuYndj8KAIKzpfD+jT6g9/PpFjJeSAK9w9shkYDGAWIyeg/IVreR/tfpR5H+1+lAFM2ywrcyWUUMdxN87OUwHfbgFscngAeuBXK6Z4UnOuW97d6Loejx28jXDppbF3upirIGdjFHgAO/HzEluoxz23kf7X6UeR/tfpR1uHQy9N0LSNFMp0fS7KwM2PN+y26Rb8ZxnaBnGT+dW/s8P2n7T5Mfn7PL83aN23OdueuM84qz5H+1+lHkf7X6UAUlsLNIYYUtIFigbfCgjAWNueVHY8nketVzoGjnV/wC1TpNidR/5/Psyed0x9/G7px16Vq+R/tfpR5H+1+lAFH+z7L7M9t9kg8h3MjReUNrMW3FiMYJ3c59eagu9A0e/1CK+v9Jsbm8hx5VxNbI8keDkbWIyMHnitXyP9r9KPI/2v0oAqCzth5+LeIfaTmfCD96cBfm9eABz2GKSKztYZFeG2hjdYxCrJGAQg6KP9kenSrnkf7X6UeR/tfpQBRTTrKOG3hSzt1itSGt0EShYSAQCox8vBI47E1Xh8PaLbXr3lvpFhFdSSea88dsiuz8/MWAyT8zc9eT61reR/tfpR5H+1+lAGfqOladrFsLfVrC1voAwcRXUKyqGHfDAjPJ596WPS7CHyvJsbaPyZDLHthUbHIKlhxwSCRn0Jq/5H+1+lHkf7X6UAcj4g0XUtT1IyW+jaBOyKFtdSvCxntMjkhPKO4g5Iw654HHWtKLwvo40fTtOu9Ptr6HTYkjtvtcKylNqgAjcDg8DkVueR/tfpR5H+1+lC0VgepSj0+zhaIw2kEZhLGMrEBsLHLY44yevrSHTrI27wGztzC8vnNH5S7Wfdu3kYwW3fNnrnmr3kf7X6UeR/tfpQBlXWgaPfalFqF7pNjcXsO3yrmW2R5E2nIwxGRg8jFWfsVri4H2aHF0czjyx+9+UL8397gAc9hirnkf7X6UeR/tfpR0sBAsaJGI0RVRRtCgYAHpiqFh4e0XS2DaZpFhZsGLg29skZDEYJ4A5I4z6VreR/tfpR5H+1+lAGTa+HtFsJ2msdIsLaVnMjSQ2yIxYggsSB1wSM+5on8P6NdR2sd1pFjMll/x6rJbIwg6fcBHy9B09BWt5H+1+lHkf7X6UAUYdPsrd4nt7OCJoUaONkiVSiMQSowOASASPYUo0+zECQi0gEUcnmpGIhtV927cBjg7uc+vNXfI/2v0o8j/a/SgCpc2ltexiO8t4rhAwYLKgYAjvg96h0/R9N0i1e20rTrSxgdizRW0CxqxIwSQoAJwAPwrR8j/a/SjyP9r9KAMa08M6DYW1xb2OiadbQXS7LiKG0jRZl54YAYYcnr6mr7W0D3Ec7QxtNErLHIUG5A2MgHqAcDP0FWvI/wBr9KPI/wBr9KAMhvDuiPaXNq+j6e1vdy+dcQm1QpNJnO9xjDNkZyeaki0XS4IBDBptnHEGjcRpAoXcmNhwB1XauD2wMdK0/I/2v0o8j/a/SgClFYWkF7PeQ2sEd1cBRNOkYDyhRhdzdTgdM9KQ6dZF2Y2dvueYTsfKXLSAABzx94AAZ68Cr3kf7X6UeR/tfpQBlWug6RY6hNf2OlWVteT5825ht0SSTJydzAZOSM81NaabY6e872Flb2zXEhlmaGJUMrnqzYHJ9zV/yP8Aa/SjyP8Aa/SgCKipfI/2v0o8j/a/SgCKqk+l6fcwXMNzY200V2QbhJIVZZiABlwR83AA59BWh5H+1+lHkf7X6UAU0s7WOdp0toVlaMRNIIwGKDOFz6DJwPc1WuNA0e702LTrrSbGexhIMdrJbI0SEZwQhGB1P51q+R/tfpR5H+1+lAFCPS7CHyvJsbaPyZDLHthUbHIKlhxwSCRn0JrA8QaLqWp6kZLfRtAnZFC2upXhYz2mRyQnlHcQckYdc8DjrXXeR/tfpR5H+1+lD13BaGBa+EdCtoNOWTSrO5m02COG2ubi3R5Y1jHy4cjIx1471rT28N1CYrmKOaNiCUkUMpwcjg+4zVnyP9r9KPI/2v0ptt7iSsVRbQC6a5EMYnZBG0uwbioJIUnrgEk49zVO68P6NfafDY3uk2NxaQEGK3mtkeOPAwNqkYHBPStbyP8Aa/SjyP8Aa/SkMpQ6fZ25gMFpBF9mi8mDZEB5ScfKuBwvyrwOOB6VFc6Ppl5Zy2l3p1pPbTP5ksMsCskjZzuZSME55ya0vI/2v0o8j/a/SjcDOttI02zt7e3tNPtYIbVy9vHFAqrCxzkqAMKTubkep9akksLOXzvNtIH88qZd0YPmFfulvXGBjPTFXfI/2v0o8j/a/SjcCqLaAXTXIhjE7II2l2DcVBJCk9cAknHuapS+HdEnNoZtH0+Q2Qxal7VD5HOfk4+XoOmOla/kf7X6UeR/tfpQBWgt4ba2jtraGOGCNAiRRqFVFAwAAOAMdqo2Ph7RdMbOm6PYWZ+bm3tUj+9jd0HfaM+uB6Vr+R/tfpR5H+1+lG4GJq2nO2hrYaZpemXVuAsbWN5+7gaID7owjAY4wNpHGOOooeHvDC2X2+XUbHTrf7bGlv8A2fZLut4oE3YTlV3ZMjknaB82McZPVeR/tfpR5H+1+lHfzAyrTQdHsIDDY6VY20RRoykNsiKUY5ZcAdCeo71aFnbCWGQW8QkgQpE+wZjU4yqnsDgcD0FW/I/2v0o8j/a/SgDMudE0q8sns7zTLO4tZJDK8EturIzk5LFSMEkknPXNPg0rT7aG2htrC2hisyTbJHCqrASCCUAHy8MRx6n1rQ8j/a/SjyP9r9KNgKsdvBDNLLFDGkkzBpXVQDIQAAWPc4AHPYVUutB0e9v1vr3SrG4u1Ty1uJbZHkC4I2hiM4wTx7mtXyP9r9KPI/2v0oAybjw/o15cxXF3pFjPPDH5UUstsjNGnPyqSMgcngepqd9MsJFlWSytmWaEQSBolIeMZwh45UZPHTk1f8j/AGv0o8j/AGv0oAyLfw7otpayW1ro9hDbyxmKSKO1RUdMk7SAMEZYnHTk+tXfs8H2lbjyY/OVDGsu0bgpIJXPXGQOParXkf7X6UeR/tfpQBWgt4bWIRW0McMYJISNQoyTknA9SSfxqjF4d0WDUI7+HR7CO8iBEdwlqgkQHOQGxkdT+ZrX8j/a/SjyP9r9KAMqbQdHuNUTU7jSrGW/jxsu3tkaVcdMORkY+tWDYWbR3MbWkBS7JNwpjGJsqFO8fxfKAOewAq75H+1+lHkf7X6UeQdbme+l6fJfW95JY2z3VqpSCdoVLxKRghWxlRj0qG28PaLZXTXNnpFhbzvJ5rSxWyKzPgjcSBnOGbnr8x9a1vI/2v0o8j/a/SgDOfR9Nlhjhk060eKKf7RGjQKVSXJbzAMcNkk7uuSaffafZapZtaanaQXls5BaG4iEiNg5GVII61e8j/a/SjyP9r9KAM2LRdLgt/Ig02zjhyh8tIFC5TGzgDHy4GPTAxTbnQ9JvNSh1C70uznvYMeVcy26NJHg5G1iMjBOeK1PI/2v0o8j/a/SgPIzG0XS2uri5bTbMz3QUTymBd0u3G3ccZbGBjPTFJeaDpGoX8N9f6VZXV3Bjyria3R5I8HI2sRkYPPHetTyP9r9KPI/2v0oAqi3gW5e5WGMTugRpQo3MoJIBPUgEnj3NU7jw/o12lsl1pFjOtod1uslsjCE5zlMj5eQOnpWt5H+1+lHkf7X6UAUYdPsrd4nt7OCJoUaONkiVSiMQSowOASASPYVnaVpVymuX+s6mtut1colvFHA5dY4ULEZYqpLEsxPGBwOcZO/5H+1+lHkf7X6UARp99frVqohDhgd3Q+lS0AFFFFABRRRQAUVynjCPVLdrO607xDf2K3F7b2rQQxWzIFdwrMN8TNnB9ce1SvPb6Nr9nDqms6ncSw6ddXDy3DRJC0avHuaRUVRuXcApC9N2eaFqr+v4K4dbf1q7HTUVxN54mub/XPDMcWnatpsF1fkrJcKqpdR/Z5TghHJXnadsgU+2VONxvEqw61BYXml39rHczNBbXkqx+VNIFLbQFcuuQrEFlAOOvIy7MH/AF+P+RtUVx/hHxIJdO03TpDc6hqE3nSTFWDmCMSuqvIzMMA42gck4OAQpxt634gh0OSxiktLq7mv5mggitUUsziNnwdzAAEIRknA7kDJCWquJPQ1aK5RPiBZtFNK2katHHZz/Z9Qd4YwLF8gfP8AP8wwwbMe8BTkkVc1Dxdb6fcXP/EvvrizsiBe30KxmG2OAx3ZcO2FIJ2K2M+oIAM36K5vUvG1rptxfp/Zuo3UWmqkl5cW8aGOGNl3b+XBYAZJCgtx06Zn03xXb6jqUdm1hfWZuIGubSW5jVVuo1IBZQGLKRuU7XCthunXAtQN2iuYu/FBlhvbGbTtQ0q6exnntXufLHnKg5ZTG7FSNynDbTz04OHeHfEcV3Y2dmiXV7PBp8Mt5coA6xOYwwRjncZGHO0AnBBONwylrf5fr/kD0aXf/gf5nS0VzcviaO4ttRtNR0/VNInisZLkK7ReY8QBDPG0buoYHHUg5I4qzfTGLwDcTWk9xldMZ45pH/e8RZDFh/F3z60pStFy7f8AB/yGleSj3/4H+Zt0VzWneLLJbLZMZ5ksLFJb69ADRwtsB2Mc7mkI52qCeRnG4ZV/GkFrHOdU0nUtOkhtzdLFOsTNLCpAd12SMPl3AkEhsHoatqzsSndXOkorJ1PxLYaTciK7Mu0Wkl28yJuSONSo5xzli2FABJwfSsYa9eXvjPRLeXTtT0pJIrl2hutm2YBVwf3bsuQSeGIYelTf+v69BnX0VhQeJRPqP9n3Wl6hp0s0UkltJdCPbOExnbsdipwwOHCnnpwcZ/h7XL2DwDoNydO1LWriexjeVoGjL/cGWZpZFBJJ9ST6U+jf9df8h2OtornH8a2ch01dMsL/AFOTU7Nry2S2jRS0alAdxkZQp/eDqR0I64Bj0/x5Y6j9ilh0/Uksryb7Mt7NCqRxz5IMTAtvBDKV3bSu7jdTs/6+4R09FVdQvJLG0MsNlc30mQFgttm9vxdlUfUsPzwKx38aWUemx3MtlfJM18NPaz8tTLHOeinDFcHjkMR8wOcZwgOiorBl8UlLlbaHRNTublYlluoYRCTZq2cByZAGbgnbGXPHTkZl0jxRZaz9h+yxXCfbrV7qLzUClUVlUhhnIOWHH1oWrsg2Nmiucm8a2UccHk2N9cyXF/Pp8UMMaFnliDk9WACnyzgkgcgnAyRXT4gWbRTStpGrRx2c/wBn1B3hjAsXyB8/z/MMMGzHvAU5JFC1B6OzOrorB1PxXBp09ysenX19DZAG9uLVYylqNob5gzhmIUhiEDHBHHIBhu/GttDdX0NnpepakbCNJrhrSOMqsbpvDAu67uAflXLe1K6A6Siora5ivLSK5tnEkMyCSNx0ZSMg/lUtPYE76hRRRQAUUUUAFFFFABRRXK+PdV1fS7PSm0B/9Im1BUeLCnz0WKSQx5YHG7YBkYPuKBpN7HVUVyni3xFcR+CheeG5wLu/g8yzn2Bwi+WZDIQRjhAevGSB3q5N4mNssUMOm32q3K2yT3P2NY/3KsOC290BJw2FXJ46cjJs2n0/r9BdvM36K5mfxzZ+YU0vTdR1bFlHf7rONMGF92GzI68/Ifl+8c8A4OJNN8aWWqXlikNnfRWmpIWsL6aNUiusLuIUbvMU7dxG5FyFJGeMuzB6HRUVz9v4vtp7u2X7BfR2N5J5VrqTrH5E7nOAMOXAODhmUA9jyM4+seLW1XRGl0m21G1ih1SC2a7YrGrMt4sToMPuIIB5xtIOM5yAJXaQdbHcUVkXHiO0ttJ1fUHjnMWkmQTqFG5tiBzt554PfFYkviVNL8Zaw95NcSQfYbH7LZo25pJpHn+WNCcb22jPThck4GQJXVw6f18zsqKwtV8UHR4hcXmi6l9jjjWS6ul8kpag9d48zc20cnYGHoTUV/4xhs77ULW30nU9Qk01EkuTaxx4RGQsGBd13cA/KuW9qT03A6Kis3ULxJ/C91e2MxKSWbywyoccFCVYH8jWRoniu0OlW8U7zTfY9Nin1C9JBjtz5YbDsTkuR82ACQME4yMnVrtb9f8AIV9rdf8Agf5nU0VzUvjaG1jmfUdH1Wy2273MKyxxs1xGmC5QI7YIBB2vtbB4Bwca7atbjVrXT0WSSW5hedWQAoiKVGWOeMlgB68+lAy9RXK6pr0ei+MLmW/uZVs49LRlgUlt8hmZQET+J24UAcngVcufFDQMsUWh6ndXKwLPc28AhLWqtnAcmQKScN8qFjx7jKTur/1o3/kO2tv6/rU3qKpxatYzaKurpcp9gaD7QJzwvl7d2456cc1yt54mub/XPDMcWnatpsF1fkrJcKqpdR/Z5TghHJXnadsgU+2VOKs72F0v/Wh21FYkfiVf7bh0680u/sRdO6WtzcCLy7hlBYhQrl1JUMw3qvAPfis7w7rN7F4NsZzY6hrNzLJMCIHjLgCVxktK6rgcDGc+gwDibh1sdZRXOt4zs2t9Nezsb+8l1IS+RBDGocNH99G3MFUg5GScZHXkZr2/j+yuVjlGl6pHa/aRZ3FzLCipazl9nluC+44YgFkDJk/e64e7sHS51VFQXty1pZyTx20106j5YIAC7knAA3EAfUkAdyKwpPG1nbaXd3d/YX9pJZ3EVvcWjxo8qNKyhCNjMrA7wflY9x1GKAOkorAl8UukkdvHoOpz37R+dLYxm38yCPcVVnYyhPmIOAGJODxwcP0jxZY60tm1rDdRi8a4WMTxbCvkPsfcCcjJ6DGfXB4o6XA3KKwbrxfZWqy/6LeTPHqI04JFGGZ5SgYY5+7yBk4x3wOaoP8AEG2jjvGk0PWEbTT/AMTJDFFmyXG4Mx8za4K/NiMucdQOARa/1/XdDt0OtorE1DxNHZ3Dw2em32qGKITXDWQjIgQ8qSXddxIBO1dzYHTkZrSeNrSS9W10nTtQ1eV7KK+T7GkYVoZCwVt0jqM/L90nJzwDg4BHSUVV0zUbfV9LttQsixguYxIm5drAHsQehHQirVGwBRRRQAUUUUAFFFFABRRRQAUUUUAFFFFABRRRQAUUUUAFFFFABRRRQBleINLm1W2s47do1MF9Bct5hIyqOGIGAecDis/xD4Wk17WPMedYrSTSLvT5COZFaZoyGAxggBD1PpXS0ULTbz/FW/IOt/60dzkTpPijUdS0KXVv7Khi0q5MsrW00jtc/uXj3BSgEfLZ25br975fmy7LwLqMetaVeXVppLXFhfGefVjK8t5eoUkX5iYxs+8vybmXAwMBQD6FRR1uPpb5fn/mcX4a8I6n4Vlik0+S1kS7lZtTgkkYKTuO2WJtpO4LhShwpwOQQS25rGkz6hrOhXcLxrHp1288ockFlaCSMBeOuXHXHGa2KKI+6rIRyt54YvbjQfEtkksAl1a5eWAlm2qCiL83HByh6Z7Vn3XgZTr99cN4c8NavDfTib7VqMYE9uSAGXHlN5gGNw+ZOuOOtd1RQtGn20/r7hdzmL/w1d3Nr4qiheBf7YtvJtskgIfI8v5uOBn0zxTtR8O315fabNbXaWptdNubQzKTvSSRYwrqMYOChPOO1dLRU8qs/wCu/wDmWpNWt0/r9Dzyw8B30eoxXh03RdOlXT7m0nktZnmmupJAmJJJWjVm5Vs7tx5zk54tWHg7WtE8PzaJol9BBaXVmwZzK4ks7or8zxkDLIzc4JUqckHoB3NFV1b7/wDB/wAye3l/X6HAWfga7jvL25i0vRNI+06TNZGOxkaRpJHIIkkkMal+hzkZHPLZ46qfTJpfCEmlK0YnaxNsGJO3d5e3OcZxn2rVopNJxce//B/zYLR3X9bf5I4aHwNe2nh+68OW01qdGvLYlhNl3tbg8sVBGJY2f5irEEZPJBAW94d8Lx2Msz3fhbw3pJeAwtJpQ3NMDjcCfKj2rx0+bOeoxz1dQ3dpbX9pJa31vFc28q7ZIZkDo49CDwRTet2CVjiNC0SfXfB97J9qWOa4229hdFd/7i3c+S5z94MwLnpkP+NaEmkeJdW1iyvdSbT9NFrbXEO2znedt8iqFkDNGmMEH5cfieg6tEWKNY41VEUAKqjAAHYCnUpJS3BO2xwWheCb2y1vT9Rn03RrKW2t5orme1lea4vHdVHmPK0asTkEkNuPOdxpq+CNQXT9FtLy00rWbez06O0ltb+Z/IhlXrOkflsJGwcfNtIAwCNxrv6Kb1/r1/zGnZHIeGvCV9o03h5rmW2YaXo8tjMIi3zOzxEFQR93EZ64PTipIvC96nhuw08y2/m22qC8dgzbSguDLgcddpx6Z7966uinzPTy/wA7/mS0nfz/AMrGB4s0a81i2s1tI7e6ihn33FhdzPFDdptYbHZVbIBIbaVYHGCO4yNJ8F3en20caxabaIutjURb2alIoovL27FG0cg+wB68ZwO2opLR3/rdP9BvX+vVfqcveR6npOu6nqGmz6ZJZ3EaS3gvbhoWsyi7fMG1G3qVGdpKfcPzc8Y/hrStbg8PeGdV0xbW5uIbCSCeC8ka3WRJWVxIGVHKnKD5SOjHkYrrr/w3oeq3iXeqaNp97cxgBJri1SR1AOQAzAkcnNaVC01/rr/n/XQZxmm+EtUtpdKlvLi0kktNZu9QmaPcoZJlmChQR1zKuQT2PJqzeeGL240HxLZJLAJdWuXlgJZtqgoi/Nxwcoeme1dVRTvb7rfl/kEved36/n/mcPqPgcSeIr++Hh7w5rMeoOkjS6ogEtswRUIH7p/MXChgMrg5Gecjbt9Cmt7zXXUwrFqCRpAiZGzbFswRjgZ9M8Vu0VLV1ZjWjuUNCsZdM8O6dYXDI0traxwuUJKkqoBxntxV+iiqbbd2TFKKsgooopDCiiigAooooAKyNc0qfU7zRpYHjVbC/FzKHJBK+VImBgdcuOuO9a9FA72OWPhOby9WQSwskltNb6apBH2dZvmcNx3fHToqis/U/BLS6wL/APsHw/rvm2sUMkeqja0LxjGUfypMqQeVwMbc55NdzRSSS/r1/wA2H9fl/kc9Y+HZbLWbu5iW0htpdLgsooYFKKjRmQnC4wq/OMAE9DVOz8KXkGleDbWWW3LaEqi6Ks2HxavCdnHPzMDzjj8q62ir5nr5/wDB/wAxPX+vJL9DhfDXgVdCurSGXw54bdLM/u9XjiAu3AztJTyuH6ZbzDkgnHOBcTwnfL4QGlGW388aub7dubbs+2+fjOM7tvHTGe+Oa66ikpNB1ucVrfhzxFc2PiLS9KbTfsmsh3W5uJXEkDPGEZfLCEMCV4bcMbvutjBW/wDBl9L4qm8Q2NxBDfwWdvFYs5YrvTzfMSRcfcYSKMj5hyRjHPaUUXsrA9dzzjxL4G1nxHFqou7HRLqfUIR9nub24kmOmt5YUxwqYsYLKTvBQ5bJU7QD1cGiXMV7rszPEV1FI1iAJyu2LYd3Hr6ZrcopS96PKO7TTMe00ieDwRDo7vGbiPTxalgTs3CPbnOM4z7Vz1h4GvdP8PT+HIZrc6Pf2TR3AZiXtp2TDNHlf3iM2TtYjBzg4O0dzRQ9ZOXf/g/5kpWSS6f8D/I5Lw34WTTroyXXhfw1pzLCYjc6Yn7ybOAcjyk2KRnjc3XGeMlfAduzWE17J8yKxsbJzklrWB2WNsnru5Oe4wa6e6tbe+tZLa9giuLeVSskUqB0cHsQeCKfFFHBCkUKLHHGoVEQYCgcAAdhT/r+v66sLdP6/r/I5XX/AAfPrHiiPWra5S1urO1C2M3LGOYMxyydGQqxU85wTjBwao6h4QvL/Vzq1/4b8M6vcXVuiXEF+5It3TIzHKYGLKwPKlVwR1Oa7qipSSVv6/rUe7uZd5ocN74Tn0PEdpFNZta/6LGFSIFNvyL0AHYViPpHinU9Q0OTVDpdvHpdwZZJLaaSRrkmGSPcFZAI+WB25br975fm6+iqvqO+lv61PPdI8Caja67od9d2ejrPpkrtdaksry3moAwvHud2jBU5YHYWYehG0AzN4M1FdP0q2nttM1e3tVnWfT72d0t2Z5d6S48tg7KMjDLxnIIxz3lFDd2m+n9f1+At3c5Dw94RvNHTQUlez26b9rEi24KJiV8qEXHAA7Z496WTwpfP4XvdNEtv51xrBvlbc20R/axNg8Z3bRjpjPfvXXUUut/67/oNOysv6/q5i+KtKu9X0YW1iY2YTI8lvNM0UdzGD80TuoJCkdeCDjBBBNc5a+BbyCy1GOC00jTFvL+yu0tbEFYolhdGcZCDJOw4O0ZyMgV3tFC0d1/X9WA5u+ttTsvE9xqWjvp9yJ7WOO6try5MBhCM5WVWVHJB3OCCAPl4PWuf8LabrD+GdH1bTDZ3V1Dd30hS4doIrqGeZ2Dqyq5XPyMOG4OPeuz1Pw7omtyRyazo9hqDxjajXdqkpQegLA4rQACqAoAAGAB2o6WF1OQtPC2rBvOvp7Npm10akwiLBVj8sLsGRyw6Z4BxnjOBYvPDN5cWni+JJIA2uIVtsscJ/oyxfPxx8wJ4zx+VdRRSsrW/rZL9EOMnGXMv61v+Zwuo+CHfWHvv7A8Pa6J7eKN11UbXgdF25R/Kk3KRj5cLgjPOeN7TdBfT/ElxexrbRWj6dbWkUMC7AhjaQnC4wq4cYAPatyiquLZW/r+tDL8M6ZNo3huz0+6aN5YEKs0ZJU/MTxkD1rUoopAFFFFABRRRQAUUUUAFFFFABRRRQAUUUUAFFFFABRRRQAUUUUAFFFFABRRRQAUUUUAFFFFABRRRQAUUUUAFFFFABRRRQAUUUUAFFFFABRRRQAUUUUAFFFFABRRRQAUUUUAFFFFABRRRQAUUUUAFFFFABRRRQAUUUUAFFFFABRRRQAUUUUAFFFFABRRRQAUUUUAFFFFABRRRQAUUUUAFFFFABRRRQAUUUUAFFFFABRRRQAUUUUAFFFFABRRRQAUUUUAFFFFABRRRQAUUUUAFFFFABRRRQAUUUUAFFFFABRRRQAUUUUAFFFFABRRRQAUUUUAFFFFABRRRQAUUUUAFFFFABRRRQAUUUUAFFFFABRRRQAUUUUAFFFFABRRRQAUUUUAFFFFABRRRQAUUUUAFFFFABRRRQAUUUUAFFFFABRRRQAUUUUAFFFFABRRRQAUUUUAFFFFABRRRQAUUUUAFFFFABRRRQAUUUUAFFFFABRRRQAUUUUAFFFFABRRRQAUUUUAFFFFABRRRQAUUUUAFFFFABRRRQB//2Q==)"
      ],
      "metadata": {
        "id": "ZSKik0XNsaaf"
      }
    },
    {
      "cell_type": "code",
      "source": [
        "# Contoh menggunakan *args\n",
        "def daftar_kriteria(*daftar):\n",
        "    for value in range(len(daftar)):\n",
        "        print (daftar[value])\n",
        "\n",
        "daftar_kriteria(\"Menguasai bahasa python\", \"Mampu menganalisa data\", \"Memiliki sertifikat pendukung\", \"Menguasai SQL\")"
      ],
      "metadata": {
        "colab": {
          "base_uri": "https://localhost:8080/"
        },
        "id": "4Zm1oRsuvQ5x",
        "outputId": "f8c7d3b6-5b23-4587-d02f-991e47107559"
      },
      "execution_count": 7,
      "outputs": [
        {
          "output_type": "stream",
          "name": "stdout",
          "text": [
            "Menguasai bahasa python\n",
            "Mampu menganalisa data\n",
            "Memiliki sertifikat pendukung\n",
            "Menguasai SQL\n"
          ]
        }
      ]
    },
    {
      "cell_type": "code",
      "source": [
        "# Contoh menggunakan **kwargs\n",
        "def daftar_kriteria(**daftar):\n",
        "    for key, value in daftar.items():\n",
        "        print(f\"{key}: {value}\")\n",
        "\n",
        "daftar_kriteria(syarat_1 = \"Menguasai bahasa python\", syarat_2 = \"Mampu menganalisa data\", syarat_3 = \"Memiliki sertifikat pendukung\", syarat_4 = \"Menguasai SQL\")"
      ],
      "metadata": {
        "colab": {
          "base_uri": "https://localhost:8080/"
        },
        "id": "rfQVZBL6vWil",
        "outputId": "cc10ab9e-8df3-4dbc-c5ea-e87ee7924d93"
      },
      "execution_count": 9,
      "outputs": [
        {
          "output_type": "stream",
          "name": "stdout",
          "text": [
            "syarat_1: Menguasai bahasa python\n",
            "syarat_2: Mampu menganalisa data\n",
            "syarat_3: Memiliki sertifikat pendukung\n",
            "syarat_4: Menguasai SQL\n"
          ]
        }
      ]
    },
    {
      "cell_type": "markdown",
      "source": [
        "\n",
        "\n",
        "*   Pada kedua contoh diatas, pada bagian parameter penggunaan args menggunakan satu bintang `*` sedangkan kwargs menggunakan dua bintang `**`.\n",
        "\n",
        "*   Ketika fungsi dipanggil, `*` args menerima input dalam bentuk list, sementara `**kwargs` hanya menerima input dalam tipe data dictionary (memiliki key dan value).\n",
        "*   Karena tipe data berbentuk dictionary, `**kwargs` diwajibkan untuk memiliki key pada argumennya.\n",
        "\n"
      ],
      "metadata": {
        "id": "cI1tkxXovdDs"
      }
    },
    {
      "cell_type": "markdown",
      "source": [
        "**Mini Exercise**"
      ],
      "metadata": {
        "id": "tFOsOu7TvsBu"
      }
    },
    {
      "cell_type": "markdown",
      "source": [
        "\n",
        "\n",
        "*   Dari potongan kode dibawah, User ingin menjalankan sebuah fungsi yang hanya dapat menampilkan hari Jumat.\n",
        "\n",
        "*   Buatlah sebuah fungsi bernama `kalender` yang hanya dapat menampilkan nilai `Jumat`.\n",
        "*   Implementasikan `*args` pada fungsi yang akan dikembangkan.\n",
        "\n",
        "\n"
      ],
      "metadata": {
        "id": "gcKd4caTvu9V"
      }
    },
    {
      "cell_type": "code",
      "source": [
        "# Isi titik-titik dibawah\n",
        "# Membuat fungsi\n",
        "def kalender(*daftar_hari):\n",
        "  print(\"Hari:\", daftar_hari[4])\n",
        "\n",
        "# Memanggil fungsi\n",
        "kalender('Senin', 'Selasa', 'Rabu', 'Kamis', 'Jumat', 'Sabtu', 'Minggu')"
      ],
      "metadata": {
        "colab": {
          "base_uri": "https://localhost:8080/"
        },
        "id": "jaFkiDNPv5c3",
        "outputId": "0f7dd2be-cc50-411e-f8ed-2436708c9812"
      },
      "execution_count": 11,
      "outputs": [
        {
          "output_type": "stream",
          "name": "stdout",
          "text": [
            "Hari: Jumat\n"
          ]
        }
      ]
    },
    {
      "cell_type": "markdown",
      "source": [
        "\n",
        "\n",
        "*   Kamu adalah pegawai baru di disebuah toko yang menyediakan alat-alat sembako.\n",
        "\n",
        "*   Pada hari pertama bekerja, kamu diminta untuk membuat fungsi produk yang dapat menampilkan nama barang dan harga.\n",
        "*   Karena toko baru dibuka dan belum ada database produk penjualan yang mumpuni, kamu diharuskan untuk membuat fungsi dengan parameter yang tidak diketahui jumlah argumennya.\n",
        "\n",
        "\n",
        "*   Dari potongan kode dibawah, Lengkapi fungsi yang masih kosong agar dapat dijalankan.\n",
        "\n"
      ],
      "metadata": {
        "id": "CpMYLpzVzPWD"
      }
    },
    {
      "cell_type": "code",
      "source": [
        "# Isi titik-titik dibawah\n",
        "# Membuat fungsi\n",
        "def produk(**barang_toko):\n",
        "    for key, value in barang_toko.items():\n",
        "        print(f\"{key} dengan harga Rp {value}\")\n",
        "\n",
        "\n",
        "# Memanggil fungsi\n",
        "produk(Minyak = 14000)\n",
        "produk(Gula = 10000)\n",
        "produk(Telur = 25000)"
      ],
      "metadata": {
        "colab": {
          "base_uri": "https://localhost:8080/"
        },
        "id": "NFtQxCTMzW19",
        "outputId": "0e72bbd8-dffa-46d6-821e-c308e934ebd1"
      },
      "execution_count": 16,
      "outputs": [
        {
          "output_type": "stream",
          "name": "stdout",
          "text": [
            "Minyak dengan harga Rp 14000\n",
            "Gula dengan harga Rp 10000\n",
            "Telur dengan harga Rp 25000\n"
          ]
        }
      ]
    },
    {
      "cell_type": "markdown",
      "source": [
        "# **Perbedaan Return dan Print pada Function**"
      ],
      "metadata": {
        "id": "0keSOisM_Zso"
      }
    },
    {
      "cell_type": "markdown",
      "source": [
        "Setelah mempelajari return dan print pada sebuah function, lalu apa perbedaan dari keduanya?"
      ],
      "metadata": {
        "id": "ZQ1ty41__e3x"
      }
    },
    {
      "cell_type": "markdown",
      "source": [
        "![asdjflsldf.JPG](data:image/jpeg;base64,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)"
      ],
      "metadata": {
        "id": "0Y-pQt_9_fs8"
      }
    },
    {
      "cell_type": "markdown",
      "source": [
        "1. Return hanya dapat digunakan didalam fungsi, apabila ditulis diluar fungsi maka akan menghasilkan error."
      ],
      "metadata": {
        "id": "aBSMWrBb_nAq"
      }
    },
    {
      "cell_type": "code",
      "source": [
        "# Contoh penggunaan return\n",
        "def omzet(jumlah_produk, harga_jual):\n",
        "    omzet = jumlah_produk * harga_jual\n",
        "    return omzet"
      ],
      "metadata": {
        "id": "fC1d7eYI_lAA"
      },
      "execution_count": 17,
      "outputs": []
    },
    {
      "cell_type": "code",
      "source": [
        "# Contoh penggunaan return\n",
        "def omzet(jumlah_produk, harga_jual):\n",
        "    omzet = jumlah_produk * harga_jual\n",
        "return omzet"
      ],
      "metadata": {
        "colab": {
          "base_uri": "https://localhost:8080/",
          "height": 110
        },
        "id": "iJ17V9GQ_tIT",
        "outputId": "6b36cd3f-4a44-4d0d-d1bc-656c82c71b04"
      },
      "execution_count": 18,
      "outputs": [
        {
          "output_type": "error",
          "ename": "SyntaxError",
          "evalue": "'return' outside function (<ipython-input-18-1d71e43a4410>, line 4)",
          "traceback": [
            "\u001b[0;36m  File \u001b[0;32m\"<ipython-input-18-1d71e43a4410>\"\u001b[0;36m, line \u001b[0;32m4\u001b[0m\n\u001b[0;31m    return omzet\u001b[0m\n\u001b[0m    ^\u001b[0m\n\u001b[0;31mSyntaxError\u001b[0m\u001b[0;31m:\u001b[0m 'return' outside function\n"
          ]
        }
      ]
    },
    {
      "cell_type": "markdown",
      "source": [
        "Sebaliknya, print dapat digunakan didalam maupun diluar fungsi."
      ],
      "metadata": {
        "id": "zNIliXMF_wbP"
      }
    },
    {
      "cell_type": "code",
      "source": [
        "# Contoh penggunaan print\n",
        "def omzet(jumlah_produk, harga_jual):\n",
        "    omzet = jumlah_produk * harga_jual\n",
        "    print(omzet)\n",
        "\n",
        "print(f\"Omzet yang didapatkan adalah: \")\n",
        "omzet(2, 50000)"
      ],
      "metadata": {
        "colab": {
          "base_uri": "https://localhost:8080/"
        },
        "id": "u-Y1xQiX_x3o",
        "outputId": "328fb3dc-399f-4b92-bfca-a033e7ee5511"
      },
      "execution_count": 20,
      "outputs": [
        {
          "output_type": "stream",
          "name": "stdout",
          "text": [
            "Omzet yang didapatkan adalah: \n",
            "100000\n"
          ]
        }
      ]
    },
    {
      "cell_type": "markdown",
      "source": [
        "2. Kode setelah statement return tidak akan dijalankan."
      ],
      "metadata": {
        "id": "aiZXa4eJ_1dx"
      }
    },
    {
      "cell_type": "code",
      "source": [
        "# Contoh penggunaan return\n",
        "def omzet(jumlah_produk, harga_jual):\n",
        "    omzet = jumlah_produk * harga_jual\n",
        "    return omzet\n",
        "    print(\"--Rekap omzet bulan ini--\")\n",
        "\n",
        "omzet(2, 50000)"
      ],
      "metadata": {
        "colab": {
          "base_uri": "https://localhost:8080/"
        },
        "id": "KOrtcuZy_3hG",
        "outputId": "d94a051e-aa61-4703-fb11-2f5b100cfe7f"
      },
      "execution_count": 21,
      "outputs": [
        {
          "output_type": "execute_result",
          "data": {
            "text/plain": [
              "100000"
            ]
          },
          "metadata": {},
          "execution_count": 21
        }
      ]
    },
    {
      "cell_type": "markdown",
      "source": [
        "statement **print(\"--Rekap omzet bulan ini--\")** tidak akan dijalankan oleh fungsi. Sebaliknya kode setelah statement print akan tetap dijalankan."
      ],
      "metadata": {
        "id": "78Kwc1Ei_9pv"
      }
    },
    {
      "cell_type": "code",
      "source": [
        "# Contoh penggunaan print\n",
        "def omzet(jumlah_produk, harga_jual):\n",
        "    omzet = jumlah_produk * harga_jual\n",
        "    print(omzet)\n",
        "    print(f\"--Rekap omzet bulan ini--\")\n",
        "\n",
        "omzet(2, 50000)"
      ],
      "metadata": {
        "colab": {
          "base_uri": "https://localhost:8080/"
        },
        "id": "I2eDczJOAA3_",
        "outputId": "c0531899-d8a9-4215-cb19-e5cdfd452578"
      },
      "execution_count": 22,
      "outputs": [
        {
          "output_type": "stream",
          "name": "stdout",
          "text": [
            "100000\n",
            "--Rekap omzet bulan ini--\n"
          ]
        }
      ]
    },
    {
      "cell_type": "markdown",
      "source": [
        "3. Didalam fungsi hanya ada satu return yang dapat dijalankan, jika user menuliskan lebih dari satu pada suatu fungsi, maka statement yang akan dijalankan adalah statement return yang pertama kali ditulis."
      ],
      "metadata": {
        "id": "8ihdxfckAELs"
      }
    },
    {
      "cell_type": "code",
      "source": [
        "# Contoh penggunaan return\n",
        "def omzet(jumlah_produk, harga_jual):\n",
        "    omzet = jumlah_produk * harga_jual\n",
        "    return omzet\n",
        "    return omzet * 30\n",
        "\n",
        "omzet(2, 50000)"
      ],
      "metadata": {
        "colab": {
          "base_uri": "https://localhost:8080/"
        },
        "id": "IYMnZZ8oAJp4",
        "outputId": "d2449bdd-9968-49cd-ad06-7e42f651ef0c"
      },
      "execution_count": 23,
      "outputs": [
        {
          "output_type": "execute_result",
          "data": {
            "text/plain": [
              "100000"
            ]
          },
          "metadata": {},
          "execution_count": 23
        }
      ]
    },
    {
      "cell_type": "markdown",
      "source": [
        "Dalam sebuah fungsi, user dapat membuat lebih dari satu statement print."
      ],
      "metadata": {
        "id": "ZvTQpFltANL-"
      }
    },
    {
      "cell_type": "code",
      "source": [
        "# Contoh penggunaan print\n",
        "def omzet(jumlah_produk, harga_jual):\n",
        "    omzet = jumlah_produk * harga_jual\n",
        "    print(omzet)\n",
        "    print(omzet * 30)\n",
        "\n",
        "omzet(2, 50000)"
      ],
      "metadata": {
        "colab": {
          "base_uri": "https://localhost:8080/"
        },
        "id": "NyoItN6tANy0",
        "outputId": "223c884d-d5bd-4f3d-8efb-8faf17d4f1f6"
      },
      "execution_count": 24,
      "outputs": [
        {
          "output_type": "stream",
          "name": "stdout",
          "text": [
            "100000\n",
            "3000000\n"
          ]
        }
      ]
    },
    {
      "cell_type": "markdown",
      "source": [
        "4. Return menyimpan nilai kedalam memori, untuk nanti dapat digunakan kembali."
      ],
      "metadata": {
        "id": "_jcQ4jOlARXc"
      }
    },
    {
      "cell_type": "code",
      "source": [
        "# Contoh penggunaan return\n",
        "def omzet(jumlah_produk, harga_jual):\n",
        "    omzet = jumlah_produk * harga_jual\n",
        "    return omzet\n",
        "\n",
        "final_omzet = omzet(2, 50000)\n",
        "print(f\"Omzet yang didapat pada hari ini adalah: {final_omzet} \")"
      ],
      "metadata": {
        "colab": {
          "base_uri": "https://localhost:8080/"
        },
        "id": "Ium_sSb8ATNg",
        "outputId": "ec55ced8-a2dd-4335-d9dd-362a8155849f"
      },
      "execution_count": 27,
      "outputs": [
        {
          "output_type": "stream",
          "name": "stdout",
          "text": [
            "Omzet yang didapat pada hari ini adalah: 100000 \n"
          ]
        }
      ]
    },
    {
      "cell_type": "markdown",
      "source": [
        "Return menyimpan nilai omzet yang dimasukkan kedalam variabel **final_omzet**, sehingga, ketika ingin digunakan lagi, user hanya perlu memanggil variabel **final_omzet** karena nilai sudah pasti telah tersimpan."
      ],
      "metadata": {
        "id": "ngfebHpFAaSy"
      }
    },
    {
      "cell_type": "code",
      "source": [
        "# Contoh penggunaan print\n",
        "def omzet(jumlah_produk, harga_jual):\n",
        "    omzet = jumlah_produk * harga_jual\n",
        "    print(omzet)\n",
        "\n",
        "final_omzet = omzet(2, 50000)\n",
        "print(f\"Omzet yang didapat pada hari ini adalah: {final_omzet}\")"
      ],
      "metadata": {
        "colab": {
          "base_uri": "https://localhost:8080/"
        },
        "id": "4sougcM6Afif",
        "outputId": "cd10d43a-7a29-4a22-d2c4-9f075949cf63"
      },
      "execution_count": 28,
      "outputs": [
        {
          "output_type": "stream",
          "name": "stdout",
          "text": [
            "100000\n",
            "Omzet yang didapat pada hari ini adalah: None\n"
          ]
        }
      ]
    },
    {
      "cell_type": "markdown",
      "source": [
        "Berbeda dengan return, print hanya menampilkan dan tidak menyimpan nilai. Sehingga ketika ingin digunakan kembali maka output yang dihasilkan adalah **None**, karena tidak ada nilai yang tersimpan kedalam variabel **final_omzet**."
      ],
      "metadata": {
        "id": "e_IXOQLMAi4g"
      }
    }
  ]
}