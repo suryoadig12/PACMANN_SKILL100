{
  "nbformat": 4,
  "nbformat_minor": 0,
  "metadata": {
    "colab": {
      "provenance": [],
      "authorship_tag": "ABX9TyM94T0+PetcDIGHX2SBTYYU",
      "include_colab_link": true
    },
    "kernelspec": {
      "name": "python3",
      "display_name": "Python 3"
    },
    "language_info": {
      "name": "python"
    }
  },
  "cells": [
    {
      "cell_type": "markdown",
      "metadata": {
        "id": "view-in-github",
        "colab_type": "text"
      },
      "source": [
        "<a href=\"https://colab.research.google.com/github/suryoadig12/PACMANN_SKILL100/blob/main/Basic%20Python%20Programming/8.%20Function%20I%3A%20Introduction%20to%20Function.ipynb\" target=\"_parent\"><img src=\"https://colab.research.google.com/assets/colab-badge.svg\" alt=\"Open In Colab\"/></a>"
      ]
    },
    {
      "cell_type": "markdown",
      "source": [
        "# **Permasalahan**"
      ],
      "metadata": {
        "id": "6NL9s1KVV-Uy"
      }
    },
    {
      "cell_type": "markdown",
      "source": [
        "Sebelumnya kita sudah belajar cara membuat kode program yang baik menggunakan Python. Tapi bagaimana jika kode program yang dibuat semakin kompleks dan detail? *Dalam merancang kode program, terkadang kita diharuskan membuat kode yang melakukan tugas yang sama secara berulang - ulang, pengulangan penulisan kembali kode membuat program kurang efisien."
      ],
      "metadata": {
        "id": "uosxg98CWEhc"
      }
    },
    {
      "cell_type": "code",
      "source": [
        "# Contoh kode program kurang efisien\n",
        "# Kita tinggal mengganti nilai/parameter num_1 dan num_2\n",
        "\n",
        "# Menampilkan hasil perkalian 2 dan 3\n",
        "num_1 = 2\n",
        "num_2 = 3\n",
        "print(f\"hasil perkalian {num_1} dan {num_2} = {num_1 * num_2} \")\n",
        "\n",
        "# Menampilkan hasil perkalian 2 dan 4\n",
        "num_1 = 2\n",
        "num_2 = 4\n",
        "print(f\"hasil perkalian {num_1} dan {num_2} = {num_1 * num_2} \")\n",
        "\n",
        "# Menampilkan hasil perkalian 2 dan 5\n",
        "num_1 = 2\n",
        "num_2 = 5\n",
        "print(f\"hasil perkalian {num_1} dan {num_2} = {num_1 * num_2} \")\n",
        "\n",
        "# Menampilkan hasil perkalian 2 dan 6\n",
        "num_1 = 2\n",
        "num_2 = 6\n",
        "print(f\"hasil perkalian {num_1} dan {num_2} = {num_1 * num_2} \")"
      ],
      "metadata": {
        "colab": {
          "base_uri": "https://localhost:8080/"
        },
        "id": "XgqPR4edWGCD",
        "outputId": "440988ba-1715-48a5-ff46-9aa85bb563a0"
      },
      "execution_count": 1,
      "outputs": [
        {
          "output_type": "stream",
          "name": "stdout",
          "text": [
            "hasil perkalian 2 dan 3 = 6 \n",
            "hasil perkalian 2 dan 4 = 8 \n",
            "hasil perkalian 2 dan 5 = 10 \n",
            "hasil perkalian 2 dan 6 = 12 \n"
          ]
        }
      ]
    },
    {
      "cell_type": "markdown",
      "source": [
        "\n",
        "\n",
        "*   Contoh diatas merupakan kode program yang kurang efisien dan mengulangi penulisan kode program yang sama.\n",
        "*   Untuk contoh kasus diatas hanya menampilkan hasil perkalian sebanyak 4x. Tetapi bagaimana jika user ingin menampilkan sebanyak 100x? Bukankah memakan banyak waktu dan penyimpanan jika kode program dibuat menggunakan cara seperti diatas.\n",
        "\n",
        "Untuk menjadikan kode program lebih mudah untuk dipahami, ditulis, dan juga efisien. Penggunaan `function` merupakan salah satu solusi yang tepat."
      ],
      "metadata": {
        "id": "X74hJDryYjmu"
      }
    },
    {
      "cell_type": "markdown",
      "source": [
        "# **What is Function?**"
      ],
      "metadata": {
        "id": "05UGNyqxYsPR"
      }
    },
    {
      "cell_type": "markdown",
      "source": [
        "\n",
        "\n",
        "*   `Fungsi` adalah potongan kode yang dibentuk dalam satu kumpulan sehingga dapat digunakan berulang kali (reusable).\n",
        "\n",
        "*   Penggunaan `fungsi` membuat kode program menjadi lebih ringkas dan terstruktur.\n",
        "*   Dalam program yang dibangun, sebuah `fungsi` hanya akan dijalankan ketika **dipanggil**.\n",
        "\n"
      ],
      "metadata": {
        "id": "XL09hxY7YwWe"
      }
    },
    {
      "cell_type": "code",
      "source": [
        "# Kode setelah menggunakan function\n",
        "# Membuat sebuah fungsi perkalian\n",
        "\n",
        "def perkalian(num_1,num_2):\n",
        "    print(f\"Hasil perkalian {num_1} dan {num_2} = {num_1 * num_2}\")"
      ],
      "metadata": {
        "id": "qg9R5aHIY-oc"
      },
      "execution_count": 7,
      "outputs": []
    },
    {
      "cell_type": "code",
      "source": [
        "# Memanggil fungsi untuk dapat menampilkan hasil perkalian sesuai dengan keinginan user\n",
        "# Menampilkan hasil perkalian 2 dan 3\n",
        "# num_1 = 2, num_2 = 3\n",
        "perkalian(2,3)\n",
        "\n",
        "# Menampilkan hasil perkalian 2 dan 4\n",
        "# num_1 = 2, num_2 = 4\n",
        "perkalian(2,4)\n",
        "\n",
        "# Menampilkan hasil perkalian 2 dan 5\n",
        "# num_1 = 2, num_2 = 5\n",
        "perkalian(2,5)\n",
        "\n",
        "# Menampilkan hasil perkalian 2 dan 6\n",
        "# num_1 = 2, num_2 = 6\n",
        "perkalian(2,6)"
      ],
      "metadata": {
        "colab": {
          "base_uri": "https://localhost:8080/"
        },
        "id": "ATvWsiPrZCrQ",
        "outputId": "172d1e49-ce78-44fa-d868-1b9b2fe0acbc"
      },
      "execution_count": 8,
      "outputs": [
        {
          "output_type": "stream",
          "name": "stdout",
          "text": [
            "Hasil perkalian 2 dan 3 = 6\n",
            "Hasil perkalian 2 dan 4 = 8\n",
            "Hasil perkalian 2 dan 5 = 10\n",
            "Hasil perkalian 2 dan 6 = 12\n"
          ]
        }
      ]
    },
    {
      "cell_type": "code",
      "source": [
        "# Mengubah nilai sesuai keinginan dengan mengganti nilai num_1 & num_2\n",
        "perkalian (-3, 1.5)"
      ],
      "metadata": {
        "colab": {
          "base_uri": "https://localhost:8080/"
        },
        "id": "GosFIirIZivZ",
        "outputId": "46a951e5-23f8-4b2a-c7cd-68ec2f03ca8d"
      },
      "execution_count": 9,
      "outputs": [
        {
          "output_type": "stream",
          "name": "stdout",
          "text": [
            "Hasil perkalian -3 dan 1.5 = -4.5\n"
          ]
        }
      ]
    },
    {
      "cell_type": "markdown",
      "source": [
        "\n",
        "\n",
        "*   Kode program menjadi lebih ringkas setelah diubah menjadi ke bentuk `fungsi`.\n",
        "\n",
        "*   `fungsi` yang dibuat dapat dipanggil berulang kali tanpa batasan sesuai keinginan.\n",
        "*   Untuk pembahasan cara penggunaan `fungsi` akan kita bahas dimateri selanjutnya.\n",
        "\n"
      ],
      "metadata": {
        "id": "lj5rcvxvZqFc"
      }
    },
    {
      "cell_type": "markdown",
      "source": [
        "# **Re-usable Code**"
      ],
      "metadata": {
        "id": "cI-ruljKZ7ld"
      }
    },
    {
      "cell_type": "markdown",
      "source": [
        "\n",
        "\n",
        "*   `Re-usable code` adalah penggunaan kode yang digunakan berulang kali tanpa harus menuliskan program yang sama.\n",
        "\n",
        "*   Kode program yang banyak belum tentu menandakan semakin baik programnya.\n",
        "\n",
        "*   Untuk meningkatan kualitas dan keandalan sebuah program, efisiensi penulisan program perlu diperhatikan.\n",
        "*   Pada contoh kode program sebelumnya, `fungsi` yang dibuat merupakan bentuk dari re-usable code. Karena `fungsi` hanya perlu dipanggil berulang-ulang untuk dapat menghasilkan output yang diinginkan tanpa menuliskan kode program kembali. *`Function` hanya perlu di definisikan sekali saja, kemudian dapat digunakan berulang kali dalam program dengan cara memanggil `function` tersebut.\n",
        "\n"
      ],
      "metadata": {
        "id": "KSQ0HF2TaARS"
      }
    },
    {
      "cell_type": "markdown",
      "source": [
        "# **Menerapkan prinsip DRY (Don't Repeat Yourself)**"
      ],
      "metadata": {
        "id": "fw7lT5NVaary"
      }
    },
    {
      "cell_type": "markdown",
      "source": [
        "Apa itu **DRY**?"
      ],
      "metadata": {
        "id": "m8NG6e5GadMw"
      }
    },
    {
      "cell_type": "markdown",
      "source": [
        "\n",
        "\n",
        "*   **DRY** (Don't Repeat yourself) merupakan prinsip dengan menghindari pengulangan penulisan kode program yang sama.\n",
        "\n",
        "*   Tujuannya agar tidak terjadi duplikasi dan ambigu pada program yang dibangun.\n",
        "*   Dengan menerapkan prinsip **DRY**, kita dapat mencegah duplikasi kode tidak perlu yang dapat membuat kode program lebih rumit dan menghasilkan lebih banyak peluang untuk error.\n",
        "\n"
      ],
      "metadata": {
        "id": "k57Vf67Rag-_"
      }
    },
    {
      "cell_type": "markdown",
      "source": [
        "# **✅ Manfaat Menerapkan prinsip DRY dan Re-Using Code:**"
      ],
      "metadata": {
        "id": "9cRqUadua1B4"
      }
    },
    {
      "cell_type": "markdown",
      "source": [
        "\n",
        "\n",
        "*   Mudah dipahami, karena program ringkas dan terstruktur.\n",
        "\n",
        "*   Mempercepat pembuatan suatu program.\n",
        "*   Memperkecil terjadinya bug / error.\n"
      ],
      "metadata": {
        "id": "K6oTAXVla3df"
      }
    },
    {
      "cell_type": "markdown",
      "source": [
        "**Contoh 1:**"
      ],
      "metadata": {
        "id": "vZmpWprua9o6"
      }
    },
    {
      "cell_type": "markdown",
      "source": [
        "\n",
        "\n",
        "*   Dalam pembuatan sebuah aplikasi rapor sekolah, kita memerlukan kode program yang dapat menghitung dan menampilkan nilai seluruh siswa.\n",
        "\n",
        "*   Jika menuliskan ulang kode program sama secara satu-per-satu untuk menghitung dan menampilkan nilai tiap siswa, akan memakan waktu lama dan rumit.\n",
        "\n",
        "*   Maka, digunakanlah **fungsi** untuk menghindari penulisan kode yang berulang.\n",
        "\n",
        "*   Fungsi yang dibangun adalah fungsi `menghitung_nilai` dan fungsi `menampilkan_nilai`.\n",
        "*   Fungsi `menghitung_nilai` merupakan fungsi yang berisi kode program menghitung nilai rapor siswa.\n",
        "\n",
        "\n",
        "*   Fungsi `menampilkan_nilai` adalah fungsi yang berisi kode program menampilkan nilai siswa.\n",
        "\n",
        "\n",
        "*   Sehingga, ketika program ingin menghitung dan/atau menampilkan nilai siswa, aplikasi dijalankan dengan pemanggilan fungsi secara berulang tanpa harus menulis kode program secara satu-per-satu.\n",
        "\n"
      ],
      "metadata": {
        "id": "_3anZ1fYbgDw"
      }
    },
    {
      "cell_type": "markdown",
      "source": [
        "**Contoh 2:**"
      ],
      "metadata": {
        "id": "T0Ned18bb1iK"
      }
    },
    {
      "cell_type": "markdown",
      "source": [
        "\n",
        "\n",
        "*   Sebuah perusahaan digital commerce memerlukan dashboard analisis dan visualisasi berbasis web yang dapat menampilkan rekap perkembangan penjualan, perbandingan produk laris, persebaran produk, dan perbandingan laba produk sebagai bahan evaluasi penjualan.\n",
        "\n",
        "*   Maka untuk memudahkan pembuatan program, kita dapat memecah kode program berdasarkan tugasnya masing masing:\n",
        "\n",
        "            *   Fungsi akses data dari database\n",
        "            *   Fungsi perhitungan dan perbandingan produk dan penjualan\n",
        "            *   Fungsi membuat visualisasi\n",
        "            *   Fungsi menampilkan visualisasi\n",
        "\n",
        "*   Menggunakan fungsi memudahkan user dalam mengembangkan program yang dibuatnya, karena terstruktur, memudahkan pengembangan, dan lebih mudah di tracking apabila terjadi error pada program\n"
      ],
      "metadata": {
        "id": "kTLxmv9fb3Tw"
      }
    },
    {
      "cell_type": "markdown",
      "source": [
        "**Contoh 3**"
      ],
      "metadata": {
        "id": "rdhaEW9GcgaU"
      }
    },
    {
      "cell_type": "markdown",
      "source": [
        "\n",
        "\n",
        "*   Sebuah aplikasi laporan dan aplikasi analisis penjualan sama-sama mengalami error pada programnya.\n",
        "\n",
        "*   Setelah beberapa minggu, aplikasi laporan lebih cepat diperbaiki dbindang aplikasi analisis.\n",
        "*   Setelah ditinjau, ternyata aplikasi analisis mengalami kesulitan memperbaiki program karena kode program yang bangun menjadi satu tanpa memecah tugas-tugas. Akibatnya eror sulit dideteksi.\n",
        "\n",
        "\n",
        "*   Berbeda dengan aplikasi analisis, aplikasi laporan dapat memperbaiki lebih cepat karena memecah kode program menjadi beberapa bagian, setelah diteliti ternyata bagian error terdapat pada fungsi perhitungan profit, sehingga programmer perlu memfokuskan perbaikan pada fungsi tersebut.\n",
        "\n"
      ],
      "metadata": {
        "id": "pr7HsNZociOQ"
      }
    }
  ]
}