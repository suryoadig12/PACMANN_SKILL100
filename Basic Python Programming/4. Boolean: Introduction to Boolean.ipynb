{
  "nbformat": 4,
  "nbformat_minor": 0,
  "metadata": {
    "colab": {
      "provenance": [],
      "authorship_tag": "ABX9TyN+M5y9Du+Hn5HRnn7By7yn",
      "include_colab_link": true
    },
    "kernelspec": {
      "name": "python3",
      "display_name": "Python 3"
    },
    "language_info": {
      "name": "python"
    }
  },
  "cells": [
    {
      "cell_type": "markdown",
      "metadata": {
        "id": "view-in-github",
        "colab_type": "text"
      },
      "source": [
        "<a href=\"https://colab.research.google.com/github/suryoadig12/PACMANN_SKILL100/blob/main/Basic%20Python%20Programming/4.%20Boolean%3A%20Introduction%20to%20Boolean.ipynb\" target=\"_parent\"><img src=\"https://colab.research.google.com/assets/colab-badge.svg\" alt=\"Open In Colab\"/></a>"
      ]
    },
    {
      "cell_type": "markdown",
      "source": [
        "# **Apa itu Boolean? 🤔**"
      ],
      "metadata": {
        "id": "3c3Ua911LCVC"
      }
    },
    {
      "cell_type": "markdown",
      "source": [
        "👉 Boolean adalah salah satu tipe data yang ada di dalam bahasa pemrograman Python.\n",
        "\n",
        "👉 Tipe data Boolean merepresentasikan salah satu dari dua nilai logika yaitu **True** atau **False**.\n",
        "\n",
        "👉 Fungsi dari Boolean itu sendiri secara umum adalah untuk mengetahui kebenaran dalam suatu ekspresi apakah bernilai **True** atau **False**."
      ],
      "metadata": {
        "id": "O2RtV1JGLGXI"
      }
    },
    {
      "cell_type": "markdown",
      "source": [
        "Berikut cara membuat sebuah tipe data Boolean:"
      ],
      "metadata": {
        "id": "6G6egbSqLQT9"
      }
    },
    {
      "cell_type": "markdown",
      "source": [
        "Semisal, Roni membeli sebuah produk maka tipe data boolean yang merepresentasikan bahwa Roni membeli sebuah produk sebagai berikut:"
      ],
      "metadata": {
        "id": "uW-E8BHSLRIX"
      }
    },
    {
      "cell_type": "code",
      "source": [
        "is_buying = True"
      ],
      "metadata": {
        "id": "HecwToMwLTaX"
      },
      "execution_count": null,
      "outputs": []
    },
    {
      "cell_type": "markdown",
      "source": [
        "Hans menemukan bahwa salah satu atribut dalam dataset yang di dapatkan memiliki outlier (nilai yang jaraknya sangat jauh dari rata-rata nilai keseluruhan) maka diperlukan untuk membuat satu tipe data boolean yang bernilai True."
      ],
      "metadata": {
        "id": "T247nIu5LWR6"
      }
    },
    {
      "cell_type": "code",
      "source": [
        "have_outlier = True"
      ],
      "metadata": {
        "id": "l6zNHOTFLXF5"
      },
      "execution_count": null,
      "outputs": []
    },
    {
      "cell_type": "markdown",
      "source": [
        "Fika belum menyelesaikan tugas praktikum kuliahnya tipe data boolean yang merepresentasikan bahwa Fika belum menyelesaikan tugas praktikumnya sebagai berikut."
      ],
      "metadata": {
        "id": "nIWhp6J0LZXs"
      }
    },
    {
      "cell_type": "code",
      "source": [
        "is_completed = False"
      ],
      "metadata": {
        "id": "y1EL5Ij-LaM7"
      },
      "execution_count": null,
      "outputs": []
    },
    {
      "cell_type": "markdown",
      "source": [
        "**Boolean Operations**"
      ],
      "metadata": {
        "id": "EyPTubmIt85V"
      }
    },
    {
      "cell_type": "markdown",
      "source": [
        "Dalam sub topik ini kita akan membahas macam-macam operator Boolean.\n",
        "\n",
        "\n",
        "\n",
        "*   Bahasa pemrograman Python telah menyediakan operator Boolean yaitu **comparison** dan **equality**.\n"
      ],
      "metadata": {
        "id": "CW5UFOf5uAgq"
      }
    },
    {
      "cell_type": "markdown",
      "source": [
        "**Operator Equality**"
      ],
      "metadata": {
        "id": "3IHoI89tuKdY"
      }
    },
    {
      "cell_type": "markdown",
      "source": [
        "Operator Equality adalah operator yang berfungsi untuk memeriksa **kesamaan** atau **ketidaksamaan** nilai satu dengan yang lain."
      ],
      "metadata": {
        "id": "FBEZNwxRuN5J"
      }
    },
    {
      "cell_type": "markdown",
      "source": [
        "![sdjfaep.JPG](data:image/jpeg;base64,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)"
      ],
      "metadata": {
        "id": "CVJhHYEsuW0Z"
      }
    },
    {
      "cell_type": "markdown",
      "source": [
        "Berikut contoh penggunaan **operator equality** pada Python."
      ],
      "metadata": {
        "id": "2scmcnswubIg"
      }
    },
    {
      "cell_type": "markdown",
      "source": [
        "\n",
        "\n",
        "*   Lakukan pengecekan apakah nama penerima yang tertera pada paket sama dengan nama penerima sebenarnya\n",
        "\n",
        "\n"
      ],
      "metadata": {
        "id": "RE4G_jf0ufin"
      }
    },
    {
      "cell_type": "code",
      "source": [
        "nama_tercantum = \"Johan\"\n",
        "nama_penerima = \"Johan\"\n",
        "\n",
        "# Kita bisa mengeluarkan output dengan dua cara (di Jupyter Notebook)\n",
        "# Cara 1\n",
        "print(nama_tercantum == nama_penerima)\n",
        "\n",
        "# Cara 2\n",
        "nama_tercantum == nama_penerima"
      ],
      "metadata": {
        "colab": {
          "base_uri": "https://localhost:8080/"
        },
        "id": "_3uu8qNBusmn",
        "outputId": "db492362-6f42-4b3f-9b5f-6a5bf8cfcd34"
      },
      "execution_count": null,
      "outputs": [
        {
          "output_type": "stream",
          "name": "stdout",
          "text": [
            "True\n"
          ]
        },
        {
          "output_type": "execute_result",
          "data": {
            "text/plain": [
              "True"
            ]
          },
          "metadata": {},
          "execution_count": 1
        }
      ]
    },
    {
      "cell_type": "markdown",
      "source": [
        "*   Kita juga dapat melakukan pengecekan tipe data integer dan tipe data float\n",
        "*   Lakukan pengecekan nilai angka_1 tidak sama dengan angka_2."
      ],
      "metadata": {
        "id": "pfljLBzruo4-"
      }
    },
    {
      "cell_type": "code",
      "source": [
        "angka_1 = 0.232\n",
        "angka_2 = 2.32\n",
        "\n",
        "angka_1 != angka_2"
      ],
      "metadata": {
        "colab": {
          "base_uri": "https://localhost:8080/"
        },
        "id": "PsEYwWVsu02G",
        "outputId": "64656ee3-11da-4659-c5f3-0fdb18bde7c8"
      },
      "execution_count": null,
      "outputs": [
        {
          "output_type": "execute_result",
          "data": {
            "text/plain": [
              "True"
            ]
          },
          "metadata": {},
          "execution_count": 2
        }
      ]
    },
    {
      "cell_type": "markdown",
      "source": [
        "**Mini Exercise**"
      ],
      "metadata": {
        "id": "wg03wM10u2qC"
      }
    },
    {
      "cell_type": "markdown",
      "source": [
        "Seorang petugas tiket pesawat 👨‍💼 sedang mencocokkan nomor penerbangan pada boarding pass pesawat 🎫 dengan nomer penerbangan terdaftar pada database."
      ],
      "metadata": {
        "id": "A2qWrijru5l_"
      }
    },
    {
      "cell_type": "code",
      "source": [
        "nomor_id_tiket = \"GA0364\"\n",
        "nomor_id_terdaftar =\"GA0364\"\n",
        "\n",
        "# Tulis jawaban anda di bawah ini\n",
        "nomor_id_tiket == nomor_id_terdaftar"
      ],
      "metadata": {
        "colab": {
          "base_uri": "https://localhost:8080/"
        },
        "id": "t0TmGoqZu7Ug",
        "outputId": "229aa950-4c16-4afa-b2dd-afba423f9cb6"
      },
      "execution_count": null,
      "outputs": [
        {
          "output_type": "execute_result",
          "data": {
            "text/plain": [
              "True"
            ]
          },
          "metadata": {},
          "execution_count": 3
        }
      ]
    },
    {
      "cell_type": "markdown",
      "source": [
        "**Operator Comparison**"
      ],
      "metadata": {
        "id": "9K8PUsDMvS_E"
      }
    },
    {
      "cell_type": "markdown",
      "source": [
        "Operator Comparison adalah operator yang berfungsi untuk komparasi nilai satu dengan yang lain."
      ],
      "metadata": {
        "id": "DKUakeuDvV9-"
      }
    },
    {
      "cell_type": "markdown",
      "source": [
        "![dlafjosdf.JPG](data:image/jpeg;base64,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)"
      ],
      "metadata": {
        "id": "qOS448SHvfDH"
      }
    },
    {
      "cell_type": "markdown",
      "source": [
        "Berikut contoh penggunaaan Operator Comparsion pada Python:"
      ],
      "metadata": {
        "id": "GoIVpDcMvk5H"
      }
    },
    {
      "cell_type": "markdown",
      "source": [
        "*   Lakukan pengecekan apakah jumlah motor Alex lebih banyak dengan jumlah motor Raihan"
      ],
      "metadata": {
        "id": "XOobiNq5vlon"
      }
    },
    {
      "cell_type": "code",
      "source": [
        "motor_alex = 3\n",
        "motor_raihan = 2\n",
        "\n",
        "print(motor_alex > motor_raihan)"
      ],
      "metadata": {
        "colab": {
          "base_uri": "https://localhost:8080/"
        },
        "id": "CCZpdQMjvb05",
        "outputId": "85f29922-0de9-49bf-87a7-72c98d60c86b"
      },
      "execution_count": null,
      "outputs": [
        {
          "output_type": "stream",
          "name": "stdout",
          "text": [
            "True\n"
          ]
        }
      ]
    },
    {
      "cell_type": "markdown",
      "source": [
        "*   Bagaimana jika kita akan melakukan komparasi tipe data string?"
      ],
      "metadata": {
        "id": "VNLqV7oVvz1O"
      }
    },
    {
      "cell_type": "code",
      "source": [
        "judul_film_pertama = 'Bersama Awan'\n",
        "judul_film_kedua = 'Bersama Angin'\n",
        "\n",
        "judul_film_pertama > judul_film_kedua"
      ],
      "metadata": {
        "colab": {
          "base_uri": "https://localhost:8080/"
        },
        "id": "xOUJwu3lv8TM",
        "outputId": "f6193495-c896-44ad-89ce-d6e9df7b4e25"
      },
      "execution_count": null,
      "outputs": [
        {
          "output_type": "execute_result",
          "data": {
            "text/plain": [
              "True"
            ]
          },
          "metadata": {},
          "execution_count": 5
        }
      ]
    },
    {
      "cell_type": "markdown",
      "source": [
        "Jika kita membandingkan antara kedua string maka yang dibandingkan adalah jumlah panjang dari antara kedua string tersebut."
      ],
      "metadata": {
        "id": "IfEqzx09wB-Y"
      }
    },
    {
      "cell_type": "markdown",
      "source": [
        "**Mini Exercise**"
      ],
      "metadata": {
        "id": "ETzzIZO3wDOB"
      }
    },
    {
      "cell_type": "markdown",
      "source": [
        "Narya ingin mengambil beasiswa 📑 S2 di luar negeri dengan persyarataan nilai IELTS minimal lebih sama dengan 5.5. Nilai yang didapatkan oleh Narya adalah 6. Lakukan pengecekan apakah Narya berhak mendapatkan beasiswa berdasarkan nilai tersebut?"
      ],
      "metadata": {
        "id": "YtDNSnLawLny"
      }
    },
    {
      "cell_type": "code",
      "source": [
        "min_ielts = 5.5\n",
        "nilai_narya = 6\n",
        "\n",
        "# Tulis jawaban di bawah ini\n",
        "nilai_narya >= min_ielts"
      ],
      "metadata": {
        "colab": {
          "base_uri": "https://localhost:8080/"
        },
        "id": "RTu9uwbCwOEd",
        "outputId": "2c692151-d4fb-4e6a-a423-ada9bca2bee2"
      },
      "execution_count": 6,
      "outputs": [
        {
          "output_type": "execute_result",
          "data": {
            "text/plain": [
              "True"
            ]
          },
          "metadata": {},
          "execution_count": 6
        }
      ]
    },
    {
      "cell_type": "markdown",
      "source": [
        "Operator Comparison maupun Equality ini sangat berguna ketika kita ingin memeriksa apakah suatu pernyataan tersebut benar atau salah."
      ],
      "metadata": {
        "id": "juyIZwkGwXnj"
      }
    },
    {
      "cell_type": "markdown",
      "source": [
        "**Exercise**"
      ],
      "metadata": {
        "id": "EzXtKhugwYgF"
      }
    },
    {
      "cell_type": "markdown",
      "source": [
        "Mr. Andy🧔 ingin mengecek apakah kedua tiket KA memiliki harga yang tidak sama, harga tiket KA Gajayana 🚄 sebesar 455000 sedangkan tiket KA Brawijaya 🚅 sebesar 475000. Buatlah dalam bentuk Python."
      ],
      "metadata": {
        "id": "mQMgV7ZgwZ1l"
      }
    },
    {
      "cell_type": "code",
      "source": [
        "tiket_gajayana = 455000\n",
        "tiket_brawijaya = 475000\n",
        "tiket_gajayana != tiket_brawijaya"
      ],
      "metadata": {
        "colab": {
          "base_uri": "https://localhost:8080/"
        },
        "id": "Z89GCARGwcfB",
        "outputId": "3f54619c-a2c1-475b-e52a-1e77d651a05e"
      },
      "execution_count": 7,
      "outputs": [
        {
          "output_type": "execute_result",
          "data": {
            "text/plain": [
              "True"
            ]
          },
          "metadata": {},
          "execution_count": 7
        }
      ]
    },
    {
      "cell_type": "markdown",
      "source": [
        "Seorang Data Scientist👩‍🏫 sedang mengevaluasi nilai hasil akurasi prediksi curah hujan 🌨 menggunakan algoritma pertama mendapatkan hasil akurasi sebesar 90 dan algoritma kedua mendapatkan hasil akurasi sebesar 85. Lakukan pengecekan algoritma pertama apakah nilainya lebih besar dari algoritma kedua dalam bentuk Python."
      ],
      "metadata": {
        "id": "jr0TRcchwxAS"
      }
    },
    {
      "cell_type": "code",
      "source": [
        "algo_1 = 90\n",
        "algo_2 = 85\n",
        "algo_1 > algo_2"
      ],
      "metadata": {
        "colab": {
          "base_uri": "https://localhost:8080/"
        },
        "id": "p6wTEcrKwx1u",
        "outputId": "3e484d06-ffb6-4909-b26c-ae8b6bc4cc7e"
      },
      "execution_count": 8,
      "outputs": [
        {
          "output_type": "execute_result",
          "data": {
            "text/plain": [
              "True"
            ]
          },
          "metadata": {},
          "execution_count": 8
        }
      ]
    },
    {
      "cell_type": "markdown",
      "source": [
        "Seorang Data Analyst diperusahaan Xiaome ingin melakukan evaluasi total penjualan Q1 apakah lebih besar dengan Q2 penjualan Q1 sebesar 25 juta dollar sedangkan penjualan Q2 sebesar 20 juta dollar lakukan perbandingan dalam bentuk pemrograman Python."
      ],
      "metadata": {
        "id": "CJxGlJ4nw8i5"
      }
    },
    {
      "cell_type": "code",
      "source": [
        "q1 = 25_000_000\n",
        "q2 = 20_000_000\n",
        "q1 > q2"
      ],
      "metadata": {
        "colab": {
          "base_uri": "https://localhost:8080/"
        },
        "id": "vNhJA8B8w9eG",
        "outputId": "ec9df4ad-7d10-4485-8867-176d179afc68"
      },
      "execution_count": 9,
      "outputs": [
        {
          "output_type": "execute_result",
          "data": {
            "text/plain": [
              "True"
            ]
          },
          "metadata": {},
          "execution_count": 9
        }
      ]
    }
  ]
}