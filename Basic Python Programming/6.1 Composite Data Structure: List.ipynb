{
  "nbformat": 4,
  "nbformat_minor": 0,
  "metadata": {
    "colab": {
      "provenance": [],
      "authorship_tag": "ABX9TyOfW+YmHi0/eO9lbnKrFUL+",
      "include_colab_link": true
    },
    "kernelspec": {
      "name": "python3",
      "display_name": "Python 3"
    },
    "language_info": {
      "name": "python"
    }
  },
  "cells": [
    {
      "cell_type": "markdown",
      "metadata": {
        "id": "view-in-github",
        "colab_type": "text"
      },
      "source": [
        "<a href=\"https://colab.research.google.com/github/suryoadig12/PACMANN_SKILL100/blob/main/Basic%20Python%20Programming/6.1%20Composite%20Data%20Structure%3A%20List.ipynb\" target=\"_parent\"><img src=\"https://colab.research.google.com/assets/colab-badge.svg\" alt=\"Open In Colab\"/></a>"
      ]
    },
    {
      "cell_type": "markdown",
      "source": [
        "# **List**"
      ],
      "metadata": {
        "id": "9FN3jEJfCEOq"
      }
    },
    {
      "cell_type": "markdown",
      "source": [
        "**What is list?**"
      ],
      "metadata": {
        "id": "Qh5-228DCG8Q"
      }
    },
    {
      "cell_type": "markdown",
      "source": [
        "Composite Data Structure yang paling umum digunakan dalam Python adalah `list`. `list` adalah tempat untuk menyimpan data yang **memiliki urutan**. Data dapat berupa apa saja mulai dari string, angka atau tipe data yang lain."
      ],
      "metadata": {
        "id": "4Hj3Ja8nCKTp"
      }
    },
    {
      "cell_type": "markdown",
      "source": [
        "Sebuah list dalam python di representasikan dengan tanda kurung siku `[]`."
      ],
      "metadata": {
        "id": "KhS2ghvmCQjH"
      }
    },
    {
      "cell_type": "markdown",
      "source": [
        "**How to Make List**"
      ],
      "metadata": {
        "id": "h8wnB2hJlZlR"
      }
    },
    {
      "cell_type": "markdown",
      "source": [
        "Mari kita coba untuk membuat list."
      ],
      "metadata": {
        "id": "WQd7bSqZlblp"
      }
    },
    {
      "cell_type": "code",
      "execution_count": 1,
      "metadata": {
        "colab": {
          "base_uri": "https://localhost:8080/"
        },
        "id": "5CdfYvCmCAJf",
        "outputId": "41287ad6-9079-430b-e21b-59316cda2e60"
      },
      "outputs": [
        {
          "output_type": "stream",
          "name": "stdout",
          "text": [
            "[1, 2, 3, 4, 5]\n"
          ]
        }
      ],
      "source": [
        "# Coba jalankan code di bawah ini\n",
        "\n",
        "print([1, 2, 3, 4, 5])"
      ]
    },
    {
      "cell_type": "markdown",
      "source": [
        "Jika kita akan membuat sebuah `list` dari `string`, nilai `string` tetap didefinisikan dengan tanda petik kemudian nilainya dipisahkan dengan koma."
      ],
      "metadata": {
        "id": "PYNqGZvzlkko"
      }
    },
    {
      "cell_type": "code",
      "source": [
        "# Coba jalankan code di bawah ini\n",
        "\n",
        "print(['Kucing', 'Gajah', 'Jerapah'])"
      ],
      "metadata": {
        "colab": {
          "base_uri": "https://localhost:8080/"
        },
        "id": "pKFAb7w8lqpE",
        "outputId": "a109f678-29c7-493b-cd80-e0bb36e209f4"
      },
      "execution_count": 2,
      "outputs": [
        {
          "output_type": "stream",
          "name": "stdout",
          "text": [
            "['Kucing', 'Gajah', 'Jerapah']\n"
          ]
        }
      ]
    },
    {
      "cell_type": "code",
      "source": [
        "# Coba buatlah sebuah list bilangan genap yang kurang dari 10\n",
        "\n",
        "print([2, 4, 6, 8])"
      ],
      "metadata": {
        "colab": {
          "base_uri": "https://localhost:8080/"
        },
        "id": "sVFopFOols5S",
        "outputId": "118e457c-6f56-439e-875f-ff9915ee329e"
      },
      "execution_count": 3,
      "outputs": [
        {
          "output_type": "stream",
          "name": "stdout",
          "text": [
            "[2, 4, 6, 8]\n"
          ]
        }
      ]
    },
    {
      "cell_type": "markdown",
      "source": [
        "Sebuah list bisa **homogen** dan juga **heterogen**. Artinya kita bisa menyimpan tipe data seperti `integer`, `string` atau tipe data lain secara sendiri-sendiri atau bersama-sama, tergantung kebutuhan."
      ],
      "metadata": {
        "id": "El6YAb5rlwwh"
      }
    },
    {
      "cell_type": "markdown",
      "source": [
        "\n",
        "\n",
        "*   Semisal anda seorang Data Analyst di Bank ABC.\n",
        "\n",
        "*   Anda diminta oleh Manager anda untuk membuat data user bank dengan nilai umur `(int)`, jenis kelamin `(str)`, status dapat mendapatkan bonus `(bool)`.\n",
        "*   Apakah kita bisa menggunakan list jika memiliki tipe data yang berbeda?\n",
        "\n",
        "\n",
        "*   Jawabannya bisa!!!\n",
        "\n"
      ],
      "metadata": {
        "id": "e0c1rs8ll5kj"
      }
    },
    {
      "cell_type": "code",
      "source": [
        "# Coba jalankan kode di bawah\n",
        "\n",
        "print([27, \"Pria\", True])"
      ],
      "metadata": {
        "colab": {
          "base_uri": "https://localhost:8080/"
        },
        "id": "_5GpYQrWmHok",
        "outputId": "f578fb44-0c5d-49f2-fd39-26a98e0b8dea"
      },
      "execution_count": 4,
      "outputs": [
        {
          "output_type": "stream",
          "name": "stdout",
          "text": [
            "[27, 'Pria', True]\n"
          ]
        }
      ]
    },
    {
      "cell_type": "code",
      "source": [
        "# Coba buatlah list yang menyimpan tiga tipe data yang berbeda berdasarkan soal di atas\n",
        "print([35, \"Wanita\", False])"
      ],
      "metadata": {
        "colab": {
          "base_uri": "https://localhost:8080/"
        },
        "id": "o7mroPZSmK1e",
        "outputId": "9018659c-1c0a-43d9-a67f-e5cc10e1b6b8"
      },
      "execution_count": 6,
      "outputs": [
        {
          "output_type": "stream",
          "name": "stdout",
          "text": [
            "[35, 'Wanita', False]\n"
          ]
        }
      ]
    },
    {
      "cell_type": "markdown",
      "source": [
        "Sebuah `list` juga bisa digunakan untuk menyimpan `list` yang lain, hal ini bisa disebut **nested list**."
      ],
      "metadata": {
        "id": "XZRyOULdmZyr"
      }
    },
    {
      "cell_type": "code",
      "source": [
        "# Coba jalankan kode dibawah ini\n",
        "\n",
        "print(['Kucing', 9, [6, 5, 9], ['Deni', 4]])"
      ],
      "metadata": {
        "colab": {
          "base_uri": "https://localhost:8080/"
        },
        "id": "ztNy7KGHmeSe",
        "outputId": "62ab3aa3-40bb-488e-c24c-1b3e8446ee20"
      },
      "execution_count": 8,
      "outputs": [
        {
          "output_type": "stream",
          "name": "stdout",
          "text": [
            "['Kucing', 9, [6, 5, 9], ['Deni', 4]]\n"
          ]
        }
      ]
    },
    {
      "cell_type": "code",
      "source": [
        "# Coba isikan gaji dari masing-masing karyawan sesuai urutan ke titik-titik dibawah\n",
        "# 5.000.000, 9.000.000, 8.500.000\n",
        "\n",
        "print([['Nurul', 5_000_000], ['Haidar', 9_000_000], ['Dion', 8_000_000]])"
      ],
      "metadata": {
        "colab": {
          "base_uri": "https://localhost:8080/"
        },
        "id": "4yWdEAMPmluo",
        "outputId": "d0f9bff9-7b6c-4e0f-b447-5594ae47a107"
      },
      "execution_count": 9,
      "outputs": [
        {
          "output_type": "stream",
          "name": "stdout",
          "text": [
            "[['Nurul', 5000000], ['Haidar', 9000000], ['Dion', 8000000]]\n"
          ]
        }
      ]
    },
    {
      "cell_type": "markdown",
      "source": [
        "list juga bisa didefinisikan dengan **variabel**."
      ],
      "metadata": {
        "id": "gVMKttd0mw3J"
      }
    },
    {
      "cell_type": "code",
      "source": [
        "# Coba jalankan code di bawah ini\n",
        "\n",
        "jobs = ['Data Scientist', 'Data Engineer', 'Data Analyst', 'ML Ops']\n",
        "print(jobs)"
      ],
      "metadata": {
        "colab": {
          "base_uri": "https://localhost:8080/"
        },
        "id": "kGKfqz-mmwpy",
        "outputId": "d87fd093-4935-48d1-fd6e-3a6dfe774a8b"
      },
      "execution_count": 10,
      "outputs": [
        {
          "output_type": "stream",
          "name": "stdout",
          "text": [
            "['Data Scientist', 'Data Engineer', 'Data Analyst', 'ML Ops']\n"
          ]
        }
      ]
    },
    {
      "cell_type": "markdown",
      "source": [
        "Untuk memastikan variabel tersebut adalah sebuah list maka bisa dicek dengan `type()`."
      ],
      "metadata": {
        "id": "LFzEioO9m3gV"
      }
    },
    {
      "cell_type": "code",
      "source": [
        "# Coba kita cek tipe data variabel hewan\n",
        "\n",
        "jobs = ['Data Scientist', 'Data Engineer', 'Data Analyst', 'ML Ops']\n",
        "print(f\"Tipe data variabel jobs adalah {type(jobs)}\")"
      ],
      "metadata": {
        "colab": {
          "base_uri": "https://localhost:8080/"
        },
        "id": "Xwt__AeEm47M",
        "outputId": "63d742c4-81ea-436c-a8b8-2f51a1778aaa"
      },
      "execution_count": 23,
      "outputs": [
        {
          "output_type": "stream",
          "name": "stdout",
          "text": [
            "Tipe data variabel jobs adalah <class 'list'>\n"
          ]
        }
      ]
    },
    {
      "cell_type": "code",
      "source": [
        "# Coba kita cek tipe data nya\n",
        "\n",
        "data_karyawan = [['Nurul', 5_000_000], ['Haidar', 9_500_000], ['Dion', 8_500_000]]\n",
        "print(f\"Tipe data variabel data_karyawan adalah {type(data_karyawan)}\")"
      ],
      "metadata": {
        "colab": {
          "base_uri": "https://localhost:8080/"
        },
        "id": "JYgecC1nnoub",
        "outputId": "927142c9-0a5a-43e5-8cc9-3eeeaff73ac0"
      },
      "execution_count": 24,
      "outputs": [
        {
          "output_type": "stream",
          "name": "stdout",
          "text": [
            "Tipe data variabel data_karyawan adalah <class 'list'>\n"
          ]
        }
      ]
    },
    {
      "cell_type": "code",
      "source": [
        "# Coba buatlah sebuah list yang menampung tiga nama bunga\n",
        "# Kemudian print variabel tersebut dan cek tipe data nya\n",
        "\n",
        "data_bunga = [\"Melati\", \"Mawar\", \"Kamboja\"]\n",
        "print(f\"Tipe data variabel data_bunga adalah {type(data_bunga)}\")"
      ],
      "metadata": {
        "colab": {
          "base_uri": "https://localhost:8080/"
        },
        "id": "zwqmb01_o8GF",
        "outputId": "ea592c41-b820-4ee5-e0ef-6f452b1e1aa4"
      },
      "execution_count": 25,
      "outputs": [
        {
          "output_type": "stream",
          "name": "stdout",
          "text": [
            "Tipe data variabel data_bunga adalah <class 'list'>\n"
          ]
        }
      ]
    },
    {
      "cell_type": "markdown",
      "source": [
        "**Element**"
      ],
      "metadata": {
        "id": "fOcI8hkZpU7b"
      }
    },
    {
      "cell_type": "markdown",
      "source": [
        "**Element** adalah nilai atau data yang ada di dalam `list`. Sebuah `list` yang tidak berisi elemen apapun disebut **empty list**. Kita dapat membuatnya dengan tanda kurung kotak kosong `[]`."
      ],
      "metadata": {
        "id": "yIeLkJFzpZb_"
      }
    },
    {
      "cell_type": "code",
      "source": [
        "# Coba jalankan code di bawah ini\n",
        "\n",
        "empty_list_1 = []\n",
        "print(empty_list_1)"
      ],
      "metadata": {
        "colab": {
          "base_uri": "https://localhost:8080/"
        },
        "id": "T7FNbieopXyv",
        "outputId": "08ab8cd0-5905-4c21-c4f6-842b9405dcc7"
      },
      "execution_count": 26,
      "outputs": [
        {
          "output_type": "stream",
          "name": "stdout",
          "text": [
            "[]\n"
          ]
        }
      ]
    },
    {
      "cell_type": "markdown",
      "source": [
        "Empty list juga bisa dibuat dengan sintaks `list()`."
      ],
      "metadata": {
        "id": "hGUjnNtQpoyT"
      }
    },
    {
      "cell_type": "code",
      "source": [
        "empty_list_2 = list()\n",
        "print(empty_list_2)"
      ],
      "metadata": {
        "colab": {
          "base_uri": "https://localhost:8080/"
        },
        "id": "r69v-Q0epqrh",
        "outputId": "094c45bb-9251-4ea9-d74c-2496f0dc3d33"
      },
      "execution_count": 27,
      "outputs": [
        {
          "output_type": "stream",
          "name": "stdout",
          "text": [
            "[]\n"
          ]
        }
      ]
    },
    {
      "cell_type": "markdown",
      "source": [
        "**Indexing**"
      ],
      "metadata": {
        "id": "Wl4VEJgPpxu1"
      }
    },
    {
      "cell_type": "markdown",
      "source": [
        "Setiap elemen pada `list` terletak pada posisi yang dinamakan **indeks**. Indeks dapat digunakan untuk **menemukan** element atau item tertentu.\n",
        "\n",
        "Ingat, **indeks pada python dimulai dari nol**, berikutnya adalah satu, dan seterusnya.\n",
        "\n",
        "Kita akan mencoba mengambil element dengan indeks pada variabel dibawah."
      ],
      "metadata": {
        "id": "RVMhUhBXpzgy"
      }
    },
    {
      "cell_type": "markdown",
      "source": [
        "![asldjfewor.JPG](data:image/jpeg;base64,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)"
      ],
      "metadata": {
        "id": "_vwe52hyqBpr"
      }
    },
    {
      "cell_type": "code",
      "source": [
        "# Coba jalankan code di bawah\n",
        "\n",
        "food = [\"spam\", \"egg\", \"bacon\", \"tomato\", \"ham\", \"lobster\"]\n",
        "print(f'element pada indeks ke-0 pada list food adalah: {food[0]}')\n",
        "print(f'element pada indeks ke-1 pada list food adalah: {food[1]}')\n",
        "print(f'element pada indeks ke-2 pada list food adalah: {food[2]}')"
      ],
      "metadata": {
        "colab": {
          "base_uri": "https://localhost:8080/"
        },
        "id": "Ed1qXQBgpzO2",
        "outputId": "f07e94fa-5052-4e6b-8e27-dc47f1b079c9"
      },
      "execution_count": 29,
      "outputs": [
        {
          "output_type": "stream",
          "name": "stdout",
          "text": [
            "element pada indeks ke-0 pada list food adalah: spam\n",
            "element pada indeks ke-1 pada list food adalah: egg\n",
            "element pada indeks ke-2 pada list food adalah: bacon\n"
          ]
        }
      ]
    },
    {
      "cell_type": "code",
      "source": [
        "# Coba ambil element pada indeks ke-3 dan 4 list food\n",
        "\n",
        "food = [\"spam\", \"egg\", \"bacon\", \"tomato\", \"ham\", \"lobster\"]\n",
        "print(f'element pada indeks ke-3 pada list food adalah: {food[3]}')\n",
        "print(f'element pada indeks ke-4 pada list food adalah: {food[4]}')"
      ],
      "metadata": {
        "colab": {
          "base_uri": "https://localhost:8080/"
        },
        "id": "yLiAlH73qPWw",
        "outputId": "f4764e67-a80c-41c0-aa38-979375b7a785"
      },
      "execution_count": 30,
      "outputs": [
        {
          "output_type": "stream",
          "name": "stdout",
          "text": [
            "element pada indeks ke-3 pada list food adalah: tomato\n",
            "element pada indeks ke-4 pada list food adalah: ham\n"
          ]
        }
      ]
    },
    {
      "cell_type": "markdown",
      "source": [
        "Bagaimana jika kita ingin **mengambil beberapa element sekaligus** pada sebuah `list`?\n",
        "\n",
        "Misalkan kita akan mengambil data profit dari bulan April - Juni.\n",
        "\n",
        "Caranya mirip seperti pada materi string sebelumnya yaitu dengan **slicing**. Sintaksnya adalah `NAMA_LIST[start:stop]`. Sintaks ini akan mengambil element dari indeks `start` sampai ke indeks `stop-1` dari sebuah `list`."
      ],
      "metadata": {
        "id": "QKHpwdkoqhKw"
      }
    },
    {
      "cell_type": "code",
      "source": [
        "# Coba jalankan code di bawah ini\n",
        "# Data di bawah adalah profit dari bulan januari - agustus\n",
        "# Kita akan mengambil element pada indeks ke-3 (april) sampai ke-5 (juni) pada list profit\n",
        "\n",
        "profit = [5_000_000, 7_500_000, 3_500_000, 10_000_000,\n",
        "          15_000_000, 9_000_000, 11_000_000, 13_000_000]\n",
        "\n",
        "print(f'Element pada indeks ke-3 sampai ke-5 pada variabel profit adalah: {profit[3:6]}')"
      ],
      "metadata": {
        "colab": {
          "base_uri": "https://localhost:8080/"
        },
        "id": "kKXVb3qwqzW-",
        "outputId": "bed87560-a1f4-4bd0-fcd1-369b02a3b6d8"
      },
      "execution_count": 31,
      "outputs": [
        {
          "output_type": "stream",
          "name": "stdout",
          "text": [
            "Element pada indeks ke-3 sampai ke-5 pada variabel profit adalah: [10000000, 15000000, 9000000]\n"
          ]
        }
      ]
    },
    {
      "cell_type": "code",
      "source": [
        "# Coba ambil element pada indeks ke 1 (februari) sampai 4 (mei) pada list angka\n",
        "\n",
        "profit = [5_000_000, 7_500_000, 3_500_000, 10_000_000,\n",
        "          15_000_000, 9_000_000, 11_000_000, 13_000_000]\n",
        "\n",
        "print(f'Element pada indeks ke-1 sampai ke-3 pada variabel profit adalah: {profit[1:4]}')"
      ],
      "metadata": {
        "colab": {
          "base_uri": "https://localhost:8080/"
        },
        "id": "qgKC8ZvSq3gs",
        "outputId": "8a42d5e9-a5c3-40e4-8102-782a07e5e94c"
      },
      "execution_count": 33,
      "outputs": [
        {
          "output_type": "stream",
          "name": "stdout",
          "text": [
            "Element pada indeks ke-1 sampai ke-3 pada variabel profit adalah: [7500000, 3500000, 10000000]\n"
          ]
        }
      ]
    },
    {
      "cell_type": "markdown",
      "source": [
        "Kita juga bisa mengambil data mulai dari indeks yang kita tentukan sampai indeks terakhir list. Caranya menggunakan `[start:]`. `start` disini merupakan indeks awal. Jika kita tidak mendefinisikan stopnya dimana, maka otomatis akan mengambil element sampai indeks terakhir."
      ],
      "metadata": {
        "id": "Zr9bQdQArfJj"
      }
    },
    {
      "cell_type": "code",
      "source": [
        "# Coba kita jalankan code di bawah ini\n",
        "# Mengambil profit dari bulan maret sampai akhir\n",
        "\n",
        "profit = [5_000_000, 7_500_000, 3_500_000, 10_000_000,\n",
        "          15_000_000, 9_000_000, 11_000_000, 13_000_000]\n",
        "\n",
        "print(f'Element pada indeks ke-2 sampai terakhir pada variabel profit adalah: {profit[2:]}')"
      ],
      "metadata": {
        "colab": {
          "base_uri": "https://localhost:8080/"
        },
        "id": "EDpvbzzlreia",
        "outputId": "683d9f4c-d64c-40ad-98e8-6c8e2dabf4ee"
      },
      "execution_count": 34,
      "outputs": [
        {
          "output_type": "stream",
          "name": "stdout",
          "text": [
            "Element pada indeks ke-2 sampai terakhir pada variabel profit adalah: [3500000, 10000000, 15000000, 9000000, 11000000, 13000000]\n"
          ]
        }
      ]
    },
    {
      "cell_type": "code",
      "source": [
        "# coba ambil element indeks ke 3 (april) sampai terakhir pada list profit\n",
        "\n",
        "profit = [5_000_000, 7_500_000, 3_500_000, 10_000_000,\n",
        "          15_000_000, 9_000_000, 11_000_000, 13_000_000]\n",
        "\n",
        "print(f'Element pada indeks ke-3 sampai terakhir pada variabel profit adalah: {profit[3:]}')"
      ],
      "metadata": {
        "colab": {
          "base_uri": "https://localhost:8080/"
        },
        "id": "BNJJf-uZrrIA",
        "outputId": "59af1708-c4b6-4aab-c1e7-91c35e447c6c"
      },
      "execution_count": 35,
      "outputs": [
        {
          "output_type": "stream",
          "name": "stdout",
          "text": [
            "Element pada indeks ke-3 sampai terakhir pada variabel profit adalah: [10000000, 15000000, 9000000, 11000000, 13000000]\n"
          ]
        }
      ]
    },
    {
      "cell_type": "markdown",
      "source": [
        "Apakah bisa melakukan kebalikan dari cari di atas yaitu dengan mendefinisikan stopnya dimana? Jawabnya bisa.\n",
        "\n",
        "Caranya dengan menggunakan `[:stop]`. Ini adalah kebalikan dari cara di atas, Jika kita tidak definisikan startnya dimana, maka otomatis start dimulai dari element paling awal dan akan berhenti pada indeks `[stop-1]`, sesuai yang kita definisikan."
      ],
      "metadata": {
        "id": "5SxgFNPRrzeI"
      }
    },
    {
      "cell_type": "code",
      "source": [
        "# Coba kita jalankan code di bawah ini\n",
        "# Kita coba ambil elemen indeks list profit dari bulan januari (indeks 1) - april (indeks 3)\n",
        "\n",
        "profit = [5_000_000, 7_500_000, 3_500_000, 10_000_000,\n",
        "          15_000_000, 9_000_000, 11_000_000, 13_000_000]\n",
        "\n",
        "print(f'Element indeks pertama sampai indeks ke-3 pada list profit adalah: {profit[:4]}')"
      ],
      "metadata": {
        "colab": {
          "base_uri": "https://localhost:8080/"
        },
        "id": "HvyHlbiur7aR",
        "outputId": "0411c0e3-9c7f-473d-e0a6-57ed93ef4986"
      },
      "execution_count": 36,
      "outputs": [
        {
          "output_type": "stream",
          "name": "stdout",
          "text": [
            "Element indeks pertama sampai indeks ke-3 pada list profit adalah: [5000000, 7500000, 3500000, 10000000]\n"
          ]
        }
      ]
    },
    {
      "cell_type": "markdown",
      "source": [
        "Kita juga bisa mengambil indeks dengan **angka negatif** pada `list`. Fungsi dari cara ini adalah untuk mengambil data-data pada bagian akhir.\n",
        "\n",
        "Misalkan kita ingin melihat data profit penjualan pada bulan Juli saja."
      ],
      "metadata": {
        "id": "JVACrnqNsA6n"
      }
    },
    {
      "cell_type": "code",
      "source": [
        "# Coba jalankan code di bawah\n",
        "\n",
        "profit = [5_000_000, 7_500_000, 3_500_000, 10_000_000,\n",
        "          15_000_000, 9_000_000, 11_000_000, 13_000_000]\n",
        "\n",
        "print(f'Element pada indeks negatif dua pada list profit adalah: {profit[-2]}')"
      ],
      "metadata": {
        "colab": {
          "base_uri": "https://localhost:8080/"
        },
        "id": "8wavS7eWsFc-",
        "outputId": "594c6241-46d7-4ff3-fbe3-4af1f66f782d"
      },
      "execution_count": 37,
      "outputs": [
        {
          "output_type": "stream",
          "name": "stdout",
          "text": [
            "Element pada indeks negatif dua pada list profit adalah: 11000000\n"
          ]
        }
      ]
    },
    {
      "cell_type": "code",
      "source": [
        "# Coba ambil indeks negatif tiga pada list angka\n",
        "\n",
        "profit = [5_000_000, 7_500_000, 3_500_000, 10_000_000,\n",
        "          15_000_000, 9_000_000, 11_000_000, 13_000_000]\n",
        "\n",
        "print(f'Element pada indeks ke negatif tiga pada list profit adalah: {profit[-3]}')"
      ],
      "metadata": {
        "colab": {
          "base_uri": "https://localhost:8080/"
        },
        "id": "PqN6RKL2sLkK",
        "outputId": "18313946-3d97-4b2d-afc2-2d0fe21c82b4"
      },
      "execution_count": 38,
      "outputs": [
        {
          "output_type": "stream",
          "name": "stdout",
          "text": [
            "Element pada indeks ke negatif tiga pada list profit adalah: 9000000\n"
          ]
        }
      ]
    },
    {
      "cell_type": "markdown",
      "source": [
        "Kita juga bisa slicing list dengan kombinasi indeks negatif dan positif.\n",
        "\n",
        "\n",
        "![sdlfjasldew.JPG](data:image/jpeg;base64,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)"
      ],
      "metadata": {
        "id": "dI2_MoZnsVDc"
      }
    },
    {
      "cell_type": "code",
      "source": [
        "# Coba jalankan kode di bawah ini\n",
        "\n",
        "profit = [5_000_000, 7_500_000, 3_500_000, 10_000_000,\n",
        "          15_000_000, 9_000_000, 11_000_000, 13_000_000]\n",
        "\n",
        "print(profit[4:-1])"
      ],
      "metadata": {
        "colab": {
          "base_uri": "https://localhost:8080/"
        },
        "id": "gJgwl1ktsb34",
        "outputId": "5b67f8d9-8db2-4d01-84c0-ca5dbda94af4"
      },
      "execution_count": 39,
      "outputs": [
        {
          "output_type": "stream",
          "name": "stdout",
          "text": [
            "[15000000, 9000000, 11000000]\n"
          ]
        }
      ]
    },
    {
      "cell_type": "code",
      "source": [
        "# Coba ambil angka 10_000_000 sampai angka 9_000_000 pada list profit -\n",
        "# Dengan kombinasi indeks negatif dan positif\n",
        "\n",
        "profit = [5_000_000, 7_500_000, 3_500_000, 10_000_000,\n",
        "          15_000_000, 9_000_000, 11_000_000, 13_000_000]\n",
        "print(profit[3:-2])"
      ],
      "metadata": {
        "colab": {
          "base_uri": "https://localhost:8080/"
        },
        "id": "0u-n8oxossv8",
        "outputId": "a3f9afb5-4f3f-436c-dcf9-8c45ec43b615"
      },
      "execution_count": 40,
      "outputs": [
        {
          "output_type": "stream",
          "name": "stdout",
          "text": [
            "[10000000, 15000000, 9000000]\n"
          ]
        }
      ]
    },
    {
      "cell_type": "markdown",
      "source": [
        "**List are Mutable**"
      ],
      "metadata": {
        "id": "UnjYIoZYs39c"
      }
    },
    {
      "cell_type": "markdown",
      "source": [
        "Sebuah `list` memiliki sifat **mutable**.\n",
        "\n",
        "Tipe data yang **mutable** (dapat diubah) berarti kita dapat mengubah atau memodifikasi nilai dari tipe data tersebut.\n",
        "\n",
        "Untuk mengubah atau memperbarui item tertentu dalam `list`, caranya ketik nama list dan gunakan kurung siku untuk mengakses indeks yang akan di ubah kemudian tetapkan nilai baru. `NAMA_LIST[INDEKS] = NILAI_BARU`"
      ],
      "metadata": {
        "id": "GHKai-eos7PY"
      }
    },
    {
      "cell_type": "code",
      "source": [
        "# Coba jalankan code di bawah\n",
        "list_hewan = ['Kecapung', 'Bunglon', 'Komodo']\n",
        "print(list_hewan)\n",
        "\n",
        "# Kita akan mengubah nilai 'kecapung' menjadi 'kadal'\n",
        "list_hewan[0] = 'Kadal'\n",
        "print(list_hewan)"
      ],
      "metadata": {
        "colab": {
          "base_uri": "https://localhost:8080/"
        },
        "id": "7zgwsPBJs5yU",
        "outputId": "aa28e89a-5314-4a80-f71c-b94844d9bfe7"
      },
      "execution_count": 41,
      "outputs": [
        {
          "output_type": "stream",
          "name": "stdout",
          "text": [
            "['Kecapung', 'Bunglon', 'Komodo']\n",
            "['Kadal', 'Bunglon', 'Komodo']\n"
          ]
        }
      ]
    },
    {
      "cell_type": "code",
      "source": [
        "# Coba ubah bunga matahari menjadi kamboja\n",
        "list_bunga = ['Matahari', 'Anggrek', 'Lavender']\n",
        "\n",
        "# Mengubah nilai \"Matahari\" menjadi \"Kamboja\"\n",
        "list_bunga[0] = \"Kamboja\"\n",
        "print(list_bunga)"
      ],
      "metadata": {
        "colab": {
          "base_uri": "https://localhost:8080/"
        },
        "id": "uWGBRGcktL_5",
        "outputId": "fc1b8b0a-e79c-49eb-eb84-99408a967585"
      },
      "execution_count": 42,
      "outputs": [
        {
          "output_type": "stream",
          "name": "stdout",
          "text": [
            "['Kamboja', 'Anggrek', 'Lavender']\n"
          ]
        }
      ]
    },
    {
      "cell_type": "markdown",
      "source": [
        "Kita juga bisa melakukan operasi matematika pada sebuah list."
      ],
      "metadata": {
        "id": "H-ex9_MwtgDX"
      }
    },
    {
      "cell_type": "code",
      "source": [
        "# Coba jalankan code di bawah ini\n",
        "list_angka = [4, 5, 6, 7]\n",
        "\n",
        "# Kita akan melakukan operasi tambah pada element indeks ke-1\n",
        "list_angka[1] = list_angka[1] + 4\n",
        "print(list_angka)"
      ],
      "metadata": {
        "colab": {
          "base_uri": "https://localhost:8080/"
        },
        "id": "wYwBHs6mtgoZ",
        "outputId": "28887ac4-9cf9-4d7b-f1c3-386a60436aba"
      },
      "execution_count": 43,
      "outputs": [
        {
          "output_type": "stream",
          "name": "stdout",
          "text": [
            "[4, 9, 6, 7]\n"
          ]
        }
      ]
    },
    {
      "cell_type": "code",
      "source": [
        "# Coba kalikan dengan angka 4 untuk element indeks ke-1\n",
        "\n",
        "list_angka = [24, 25, 26, 27]\n",
        "list_angka[1] = list_angka[1]*4\n",
        "print(list_angka)"
      ],
      "metadata": {
        "colab": {
          "base_uri": "https://localhost:8080/"
        },
        "id": "mzqKh1vxtp_k",
        "outputId": "84c6ed24-c4a0-46d3-e3b0-83bb6e3252cd"
      },
      "execution_count": 45,
      "outputs": [
        {
          "output_type": "stream",
          "name": "stdout",
          "text": [
            "[24, 100, 26, 27]\n"
          ]
        }
      ]
    },
    {
      "cell_type": "markdown",
      "source": [
        "**List Methods**"
      ],
      "metadata": {
        "id": "UkWMGIqEt9kp"
      }
    },
    {
      "cell_type": "markdown",
      "source": [
        "Ada berbagai macam method pada list yang bisa digunakan. Pada pertemuan ini hanya akan dikenalkan pada method yang sering digunakan saja.\n",
        "\n",
        "Misalkan:\n",
        "\n",
        "      list_1 = [3, 3, 4, 5]\n",
        "      list_2 = ['string_1', 'string_3']"
      ],
      "metadata": {
        "id": "Sg0tHHLkt_OO"
      }
    },
    {
      "cell_type": "markdown",
      "source": [
        "![alsdjflasod.JPG](data:image/jpeg;base64,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)"
      ],
      "metadata": {
        "id": "i5EQVyLwuOlQ"
      }
    },
    {
      "cell_type": "markdown",
      "source": [
        "**len()**"
      ],
      "metadata": {
        "id": "L37LG01iuSBW"
      }
    },
    {
      "cell_type": "markdown",
      "source": [
        "Method `len()` akan mengembalikan panjang dari suatu list."
      ],
      "metadata": {
        "id": "reUc4eynuU3m"
      }
    },
    {
      "cell_type": "code",
      "source": [
        "# Coba jalankan code di bawah ini\n",
        "\n",
        "siswa = ['Andi', 'Gilang', 'Bagus', 'Putra', 'Dwi']\n",
        "print(f'Panjang list siswa adalah: {len(siswa)}')"
      ],
      "metadata": {
        "colab": {
          "base_uri": "https://localhost:8080/"
        },
        "id": "d9Y1PjpwuQKo",
        "outputId": "8359a56f-4c51-4126-a4c3-f7f372b8edd8"
      },
      "execution_count": 47,
      "outputs": [
        {
          "output_type": "stream",
          "name": "stdout",
          "text": [
            "Panjang list siswa adalah: 5\n"
          ]
        }
      ]
    },
    {
      "cell_type": "code",
      "source": [
        "# Coba cari tau berapa panjang list karyawan di bawah\n",
        "karyawan = ['Joko', 'Alex', 'Chandra', 'Hartono', 'Samsul']\n",
        "print(f\"Panjang list karyawan adalah: {len(karyawan)}\")"
      ],
      "metadata": {
        "colab": {
          "base_uri": "https://localhost:8080/"
        },
        "id": "ThCioKX-ubvv",
        "outputId": "bdc78f7b-802a-4c98-fa21-ace00a0ec8ef"
      },
      "execution_count": 48,
      "outputs": [
        {
          "output_type": "stream",
          "name": "stdout",
          "text": [
            "Panjang list karyawan adalah: 5\n"
          ]
        }
      ]
    },
    {
      "cell_type": "markdown",
      "source": [
        "**append()**"
      ],
      "metadata": {
        "id": "CqRqQmEFukcm"
      }
    },
    {
      "cell_type": "markdown",
      "source": [
        "Jika ingin menambahkan element baru ke dalam suatu list bisa menggunakan method `append()`."
      ],
      "metadata": {
        "id": "eHwYV7k1ul3x"
      }
    },
    {
      "cell_type": "code",
      "source": [
        "# Coba jalankan code di bawah ini\n",
        "siswa = ['Andi', 'Gilang', 'Bagus', 'Putra', 'Dwi']\n",
        "\n",
        "# Ada siswa baru bernama Antony\n",
        "# Coba masukkan nama Antony ke dalam list dengan method append()\n",
        "siswa.append('Antony')\n",
        "print(siswa)"
      ],
      "metadata": {
        "colab": {
          "base_uri": "https://localhost:8080/"
        },
        "id": "mxnm96VUurf0",
        "outputId": "9b0ddb25-20fd-40e7-ada4-5153da0590e0"
      },
      "execution_count": 49,
      "outputs": [
        {
          "output_type": "stream",
          "name": "stdout",
          "text": [
            "['Andi', 'Gilang', 'Bagus', 'Putra', 'Dwi', 'Antony']\n"
          ]
        }
      ]
    },
    {
      "cell_type": "code",
      "source": [
        "# Coba masukkan nama Bagas ke dalam list karyawan dengan method append()\n",
        "\n",
        "karyawan = ['Joko', 'Alex', 'Chandra', 'Hartono', 'Samsul']\n",
        "karyawan.append('Bagas')\n",
        "print(karyawan)"
      ],
      "metadata": {
        "colab": {
          "base_uri": "https://localhost:8080/"
        },
        "id": "oR4Mf_Pju0bV",
        "outputId": "6697b4ae-322d-4ca1-f940-28f9eb17858b"
      },
      "execution_count": 50,
      "outputs": [
        {
          "output_type": "stream",
          "name": "stdout",
          "text": [
            "['Joko', 'Alex', 'Chandra', 'Hartono', 'Samsul', 'Bagas']\n"
          ]
        }
      ]
    },
    {
      "cell_type": "markdown",
      "source": [
        "**insert()**"
      ],
      "metadata": {
        "id": "N_oNgrM2ESEW"
      }
    },
    {
      "cell_type": "markdown",
      "source": [
        "Jika kita ingin menambahkan element baru namun kita ingin memasukkannya sesuai index yang kita inginkan, bisa menggunakan method `insert()`."
      ],
      "metadata": {
        "id": "BvSIYSlsET99"
      }
    },
    {
      "cell_type": "code",
      "source": [
        "# Coba jalankan code di bawah\n",
        "warna = ['Putih', 'Hitam', 'Merah']\n",
        "\n",
        "# Kita akan memasukkan warna Kuning ke indeks kedua\n",
        "warna.insert(2, 'Kuning')\n",
        "print(warna)"
      ],
      "metadata": {
        "colab": {
          "base_uri": "https://localhost:8080/"
        },
        "id": "HR7iM9e0EYSm",
        "outputId": "c706ffbe-2f54-4213-8e8f-b2ddafe693a8"
      },
      "execution_count": 51,
      "outputs": [
        {
          "output_type": "stream",
          "name": "stdout",
          "text": [
            "['Putih', 'Hitam', 'Kuning', 'Merah']\n"
          ]
        }
      ]
    },
    {
      "cell_type": "code",
      "source": [
        "# Coba masukkan warna hijau pada indeks ke 1 list warna\n",
        "\n",
        "warna = ['Putih', 'Hitam', 'Merah']\n",
        "warna.insert(1, \"Hijau\")\n",
        "print(warna)"
      ],
      "metadata": {
        "colab": {
          "base_uri": "https://localhost:8080/"
        },
        "id": "T8uUNhD-Ecs6",
        "outputId": "8c41520e-ca96-4ee2-8e77-48a5a4439059"
      },
      "execution_count": 52,
      "outputs": [
        {
          "output_type": "stream",
          "name": "stdout",
          "text": [
            "['Putih', 'Hijau', 'Hitam', 'Merah']\n"
          ]
        }
      ]
    },
    {
      "cell_type": "markdown",
      "source": [
        "**in**"
      ],
      "metadata": {
        "id": "442fL6BSEnAt"
      }
    },
    {
      "cell_type": "markdown",
      "source": [
        "Untuk melihat apakah suatu element ada di dalam list atau tidak, kita bisa menggunakan `in`."
      ],
      "metadata": {
        "id": "EuNJfXH0EoIl"
      }
    },
    {
      "cell_type": "code",
      "source": [
        "# Coba jalankan code di bawah\n",
        "angka = [4, 5, 6]\n",
        "\n",
        "# Kita akan mengecek apakah angka 4 ada di variabel angka\n",
        "print(4 in angka)"
      ],
      "metadata": {
        "colab": {
          "base_uri": "https://localhost:8080/"
        },
        "id": "Ofp3YXhqEqqE",
        "outputId": "a2213161-9d70-4d59-d0fc-94ef388da8db"
      },
      "execution_count": 53,
      "outputs": [
        {
          "output_type": "stream",
          "name": "stdout",
          "text": [
            "True\n"
          ]
        }
      ]
    },
    {
      "cell_type": "markdown",
      "source": [
        "Jika suatu element atau nilai tidak ada pada suatu list, maka outputnya `False`."
      ],
      "metadata": {
        "id": "09_e0j3CE0LK"
      }
    },
    {
      "cell_type": "code",
      "source": [
        "# Coba jalankan code di bawah ini\n",
        "angka = [4, 5, 6]\n",
        "\n",
        "# Kita akan mengecek apakah 7 ada pada list angka\n",
        "print(7 in angka)"
      ],
      "metadata": {
        "colab": {
          "base_uri": "https://localhost:8080/"
        },
        "id": "z8plDn48E1xF",
        "outputId": "31d5de9f-2a9d-4333-b362-129fa867eddf"
      },
      "execution_count": 54,
      "outputs": [
        {
          "output_type": "stream",
          "name": "stdout",
          "text": [
            "False\n"
          ]
        }
      ]
    },
    {
      "cell_type": "code",
      "source": [
        "# Coba cek apakah warna biru ada pada list warna dibawah\n",
        "\n",
        "warna = ['Putih', 'Hitam', 'Merah']\n",
        "print(\"Biru\" in warna)"
      ],
      "metadata": {
        "colab": {
          "base_uri": "https://localhost:8080/"
        },
        "id": "ex31kvtTE57d",
        "outputId": "11bdc7a8-c7b4-4969-97a5-32b800a7924c"
      },
      "execution_count": 55,
      "outputs": [
        {
          "output_type": "stream",
          "name": "stdout",
          "text": [
            "False\n"
          ]
        }
      ]
    },
    {
      "cell_type": "markdown",
      "source": [
        "**index()**"
      ],
      "metadata": {
        "id": "BBhxi2OhFAOG"
      }
    },
    {
      "cell_type": "markdown",
      "source": [
        "Method `index()` berfungsi untuk mengetahui element yang kita sebut ada di indeks ke berapa."
      ],
      "metadata": {
        "id": "e7fNOrqfFCfM"
      }
    },
    {
      "cell_type": "code",
      "source": [
        "# Coba jalankan code di bawah ini\n",
        "# Kita akan cek Alex ada di indeks ke berapa\n",
        "\n",
        "karyawan = ['Joko', 'Alex', 'Chandra', 'Hartono', 'Samsul']\n",
        "print(f'Alex ada di indeks ke-{karyawan.index(\"Alex\")}')"
      ],
      "metadata": {
        "colab": {
          "base_uri": "https://localhost:8080/"
        },
        "id": "B5rRvI5xFGOd",
        "outputId": "d0df80aa-1ef2-4f6d-b766-17946c67527d"
      },
      "execution_count": 56,
      "outputs": [
        {
          "output_type": "stream",
          "name": "stdout",
          "text": [
            "Alex ada di indeks ke-1\n"
          ]
        }
      ]
    },
    {
      "cell_type": "code",
      "source": [
        "# Coba cek chandra dan hartono ada di indeks ke berapa\n",
        "# Coba cek chandra dan hartono ada di indeks ke berapa\n",
        "\n",
        "karyawan = ['Joko', 'Alex', 'Chandra', 'Hartono', 'Samsul']\n",
        "print(f\"Chandra dan Hartono ada di indeks ke-{karyawan.index('Chandra')} dan {karyawan.index('Hartono')}\")"
      ],
      "metadata": {
        "colab": {
          "base_uri": "https://localhost:8080/"
        },
        "id": "Krh1vQHUFLxv",
        "outputId": "a1452b47-d59a-45b7-f896-8f6cabe2f1af"
      },
      "execution_count": 64,
      "outputs": [
        {
          "output_type": "stream",
          "name": "stdout",
          "text": [
            "Chandra dan Hartono ada di indeks ke-2 dan 3\n"
          ]
        }
      ]
    },
    {
      "cell_type": "markdown",
      "source": [
        "**count()**"
      ],
      "metadata": {
        "id": "3_G_wyF_Hfjb"
      }
    },
    {
      "cell_type": "markdown",
      "source": [
        "Jika ingin mengetahui jumlah suatu element pada list, kita bisa menggunakan method `count()`."
      ],
      "metadata": {
        "id": "_EIzO_jZHjYn"
      }
    },
    {
      "cell_type": "code",
      "source": [
        "# Coba jalankan code di bawah\n",
        "angka = [2, 3, 5, 6, 1, 2, 4, 1, 2, 1, 3, 4, 6, 12]\n",
        "\n",
        "# Kita akan menghitung banyak kemunculan angka 4 pada list angka\n",
        "print(f'Kemunculan angka 4 pada list angka sebanyak {angka.count(4)} kali')"
      ],
      "metadata": {
        "colab": {
          "base_uri": "https://localhost:8080/"
        },
        "id": "8Z1ZHdI9F0jo",
        "outputId": "2c13d02c-4a5c-4280-eac2-3065ada3a3d1"
      },
      "execution_count": 65,
      "outputs": [
        {
          "output_type": "stream",
          "name": "stdout",
          "text": [
            "Kemunculan angka 4 pada list angka sebanyak 2 kali\n"
          ]
        }
      ]
    },
    {
      "cell_type": "code",
      "source": [
        "# Coba hitung kemunculan angka 2 pada list angka\n",
        "\n",
        "angka = [2, 3, 5, 6, 1, 2, 4, 1, 2, 1, 3, 4, 6, 12]\n",
        "print(f\"Kemunculan angka 2 pada list angka sebanyak {angka.count(2)} kali\")"
      ],
      "metadata": {
        "colab": {
          "base_uri": "https://localhost:8080/"
        },
        "id": "-p-ryCpxHq4T",
        "outputId": "9437d57d-839a-4961-963d-f5feb0847de6"
      },
      "execution_count": 67,
      "outputs": [
        {
          "output_type": "stream",
          "name": "stdout",
          "text": [
            "Kemunculan angka 2 pada list angka sebanyak 3 kali\n"
          ]
        }
      ]
    },
    {
      "cell_type": "markdown",
      "source": [
        "**remove()**"
      ],
      "metadata": {
        "id": "AQ7hiPmrH4b4"
      }
    },
    {
      "cell_type": "markdown",
      "source": [
        "Method `remove()` akan mengeluarkan atau menghapus suatu element di dalam list."
      ],
      "metadata": {
        "id": "SWgfW_PfH8Yb"
      }
    },
    {
      "cell_type": "code",
      "source": [
        "# Coba jalanakan code dibawah ini\n",
        "karyawan = ['Joko', 'Alex', 'Chandra', 'Hartono', 'Samsul']\n",
        "\n",
        "# Kita akan mencoba menghapus Chandra dari list karyawan\n",
        "karyawan.remove('Chandra')\n",
        "print(karyawan)"
      ],
      "metadata": {
        "colab": {
          "base_uri": "https://localhost:8080/"
        },
        "id": "5rF-6L2LIAXj",
        "outputId": "0214c97f-8ad6-42e9-dcb5-eefb1cd8a99f"
      },
      "execution_count": 68,
      "outputs": [
        {
          "output_type": "stream",
          "name": "stdout",
          "text": [
            "['Joko', 'Alex', 'Hartono', 'Samsul']\n"
          ]
        }
      ]
    },
    {
      "cell_type": "markdown",
      "source": [
        "Perlu diingat bahwa method remove hanya menghapus **element pertama** yang ditemukan, jika ada dua element yang sama maka yang terakhir tidak ikut terhapus."
      ],
      "metadata": {
        "id": "FPczguSlIGoC"
      }
    },
    {
      "cell_type": "code",
      "source": [
        "# Coba jalankan code di bawah ini\n",
        "\n",
        "karyawan = ['Alex', 'Chandra', 'Alex', 'Samsul']\n",
        "karyawan.remove('Alex')\n",
        "print(karyawan)"
      ],
      "metadata": {
        "colab": {
          "base_uri": "https://localhost:8080/"
        },
        "id": "h4nJxnRxIJPP",
        "outputId": "02dda27a-41f1-4455-b585-6bb7b8b201a9"
      },
      "execution_count": 69,
      "outputs": [
        {
          "output_type": "stream",
          "name": "stdout",
          "text": [
            "['Chandra', 'Alex', 'Samsul']\n"
          ]
        }
      ]
    },
    {
      "cell_type": "code",
      "source": [
        "# Coba hilangkan warna kuning dengan method remove\n",
        "\n",
        "warna = ['Putih', 'Hitam', 'Merah', 'Kuning']\n",
        "warna.remove(\"Kuning\")\n",
        "print(warna)"
      ],
      "metadata": {
        "colab": {
          "base_uri": "https://localhost:8080/"
        },
        "id": "woc7psLSIN2Q",
        "outputId": "169b97ee-92d0-4179-855f-c15b555fc196"
      },
      "execution_count": 70,
      "outputs": [
        {
          "output_type": "stream",
          "name": "stdout",
          "text": [
            "['Putih', 'Hitam', 'Merah']\n"
          ]
        }
      ]
    },
    {
      "cell_type": "markdown",
      "source": [
        "**pop()**"
      ],
      "metadata": {
        "id": "g5BZJJwKIVOg"
      }
    },
    {
      "cell_type": "markdown",
      "source": [
        "Kita bisa menggunakan `NAMA_LIST.pop()` untuk menghapus item terakhir."
      ],
      "metadata": {
        "id": "elYZ7QE_IYaH"
      }
    },
    {
      "cell_type": "code",
      "source": [
        " # Coba jalankan code dibawah\n",
        "siswa = ['Andi', 'Gilang', 'Bagus', 'Putra', 'Dwi']\n",
        "\n",
        "# Gunakan pop untuk menghapus element terakhir\n",
        "siswa.pop()\n",
        "print(siswa)"
      ],
      "metadata": {
        "colab": {
          "base_uri": "https://localhost:8080/"
        },
        "id": "LvtS_S9hIX58",
        "outputId": "506d5e8c-a69a-406f-8546-4be7dfee6d30"
      },
      "execution_count": 71,
      "outputs": [
        {
          "output_type": "stream",
          "name": "stdout",
          "text": [
            "['Andi', 'Gilang', 'Bagus', 'Putra']\n"
          ]
        }
      ]
    },
    {
      "cell_type": "markdown",
      "source": [
        "Dan untuk menghapus item pada indeks yang diinginkan gunakan `NAMA_LIST.pop(index)`."
      ],
      "metadata": {
        "id": "-nobruxkIeSv"
      }
    },
    {
      "cell_type": "code",
      "source": [
        "# Kita akan mencoba menghapus indeks ke-2 pada list siswa\n",
        "# Gunakan pop(index) untuk menghapus element pada indeks tertentu\n",
        "\n",
        "siswa = ['Andi', 'Gilang', 'Bagus', 'Putra', 'Dwi']\n",
        "siswa.pop(2)\n",
        "print(siswa)"
      ],
      "metadata": {
        "colab": {
          "base_uri": "https://localhost:8080/"
        },
        "id": "xuArh1f2IgyD",
        "outputId": "f65699a4-3e8a-40ce-e252-8f56c140ea09"
      },
      "execution_count": 72,
      "outputs": [
        {
          "output_type": "stream",
          "name": "stdout",
          "text": [
            "['Andi', 'Gilang', 'Putra', 'Dwi']\n"
          ]
        }
      ]
    },
    {
      "cell_type": "code",
      "source": [
        "# Coba hilangkan Andi dan Dwi pada list siswa\n",
        "\n",
        "siswa = ['Andi', 'Gilang', 'Bagus', 'Putra', 'Dwi']\n",
        "siswa.pop(0)\n",
        "siswa.pop()\n",
        "print(siswa)"
      ],
      "metadata": {
        "colab": {
          "base_uri": "https://localhost:8080/"
        },
        "id": "1hSim_L1ItJo",
        "outputId": "a1140800-f243-4209-f8a5-8ae9cb7abf40"
      },
      "execution_count": 76,
      "outputs": [
        {
          "output_type": "stream",
          "name": "stdout",
          "text": [
            "['Gilang', 'Bagus', 'Putra']\n"
          ]
        }
      ]
    },
    {
      "cell_type": "markdown",
      "source": [
        "**Mini Exercise**"
      ],
      "metadata": {
        "id": "10I3XRODJJB3"
      }
    },
    {
      "cell_type": "markdown",
      "source": [
        "Perusahaan A akan membuat daftar karyawan sehingga mudah untuk melihat data karyawannya. Nama-nama karyawan Perusahaan B sebagai barikut:\n",
        "\n",
        "`Joko, Alex, Chandra, Hartono, Samsul`.\n",
        "\n",
        "Buatlah sebuah `list` untuk menampung karyawan perusahaan A."
      ],
      "metadata": {
        "id": "aSG5FCvMJMcI"
      }
    },
    {
      "cell_type": "code",
      "source": [
        "karyawan = [\"Joko\", \"Alex\", \"Chandra\", \"Hartono\", \"Samsul\"]"
      ],
      "metadata": {
        "id": "FhrPI0BIJKeP"
      },
      "execution_count": 77,
      "outputs": []
    },
    {
      "cell_type": "markdown",
      "source": [
        "Pada akhir bulan, Joko dan Alex mengundurkan diri karena lingkungan kerja yang tidak cocok. Coba hapuslah Joko dan Alex dari daftar karyawan Perusahaan A."
      ],
      "metadata": {
        "id": "Cry65jyuJbNb"
      }
    },
    {
      "cell_type": "code",
      "source": [
        "karyawan = [\"Joko\", \"Alex\", \"Chandra\", \"Hartono\", \"Samsul\"]\n",
        "karyawan.remove(\"Joko\")\n",
        "karyawan.remove(\"Alex\")\n",
        "print(karyawan)"
      ],
      "metadata": {
        "colab": {
          "base_uri": "https://localhost:8080/"
        },
        "id": "at0eR02GJcvK",
        "outputId": "9002aeb4-7f03-40eb-9193-83dac5226ec3"
      },
      "execution_count": 80,
      "outputs": [
        {
          "output_type": "stream",
          "name": "stdout",
          "text": [
            "['Chandra', 'Hartono', 'Samsul']\n"
          ]
        }
      ]
    },
    {
      "cell_type": "markdown",
      "source": [
        "Kemudian pada bulan berikutnya masuk dua karyawan yang bernama Agus dan Toni. Masukkan Agus dan Toni ke dalam daftar karyawan perusahaan A."
      ],
      "metadata": {
        "id": "RGsXfTiaJwxX"
      }
    },
    {
      "cell_type": "code",
      "source": [
        "# Cara 1\n",
        "karyawan = [\"Joko\", \"Alex\", \"Chandra\", \"Hartono\", \"Samsul\"]\n",
        "karyawan.append(\"Agus\")\n",
        "karyawan.append(\"Toni\")\n",
        "print(karyawan)\n",
        "\n",
        "# Cara 2\n",
        "karyawan = [\"Joko\", \"Alex\", \"Chandra\", \"Hartono\", \"Samsul\"]\n",
        "karyawan_baru = [\"Agus\", \"Toni\"]\n",
        "karyawan.extend(karyawan_baru)\n",
        "print(karyawan)"
      ],
      "metadata": {
        "colab": {
          "base_uri": "https://localhost:8080/"
        },
        "id": "W_dODO1UJwdd",
        "outputId": "54e6a348-3efe-4da3-c141-80ad11354e7c"
      },
      "execution_count": 82,
      "outputs": [
        {
          "output_type": "stream",
          "name": "stdout",
          "text": [
            "['Joko', 'Alex', 'Chandra', 'Hartono', 'Samsul', 'Agus', 'Toni']\n",
            "['Joko', 'Alex', 'Chandra', 'Hartono', 'Samsul', 'Agus', 'Toni']\n"
          ]
        }
      ]
    }
  ]
}