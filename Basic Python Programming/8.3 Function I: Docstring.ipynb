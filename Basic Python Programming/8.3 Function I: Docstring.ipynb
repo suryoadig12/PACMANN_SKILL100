{
  "nbformat": 4,
  "nbformat_minor": 0,
  "metadata": {
    "colab": {
      "provenance": [],
      "authorship_tag": "ABX9TyMXX0x5cPqmaPTON4kUsv+m",
      "include_colab_link": true
    },
    "kernelspec": {
      "name": "python3",
      "display_name": "Python 3"
    },
    "language_info": {
      "name": "python"
    }
  },
  "cells": [
    {
      "cell_type": "markdown",
      "metadata": {
        "id": "view-in-github",
        "colab_type": "text"
      },
      "source": [
        "<a href=\"https://colab.research.google.com/github/suryoadig12/PACMANN_SKILL100/blob/main/Basic%20Python%20Programming/8.3%20Function%20I%3A%20Docstring.ipynb\" target=\"_parent\"><img src=\"https://colab.research.google.com/assets/colab-badge.svg\" alt=\"Open In Colab\"/></a>"
      ]
    },
    {
      "cell_type": "markdown",
      "source": [
        "# **Docstring**"
      ],
      "metadata": {
        "id": "VLdxQdPmog13"
      }
    },
    {
      "cell_type": "markdown",
      "source": [
        "\n",
        "\n",
        "*   `Documentation string` atau `Docstring` adalah dokumentasi atau keterangan singkat tentang fungsi yang kita buat.\n",
        "\n",
        "*   `Docstrings` bertujuan membantu memahami modul atau fungsi, seperti : modul/fungsi menjalankan tugas apa, cara kerja sebuah fungsi, parameter apa yang dimasukkan, dan value apa yang diharapkan.\n",
        "*   Di dalam fungsi, `docstring` diawali dengan kutip dua sebanyak tiga kali `\"\"\"` dan diakhiri dengan hal yang sama pula `\"\"\"`\n",
        "\n",
        "*   Selain kutip dua `\"\"\"`, `docstring` juga dapat ditandai dengan kutip satu `'''` sebanyak tiga kali diawal dan diakhir.\n",
        "\n"
      ],
      "metadata": {
        "id": "i4Z8sK_5okK1"
      }
    },
    {
      "cell_type": "code",
      "execution_count": 1,
      "metadata": {
        "id": "hqdMFOLUlpm3"
      },
      "outputs": [],
      "source": [
        "def function_name(parameters):\n",
        "    \"\"\"function_docstring\"\"\"\n",
        "    statement(s)\n",
        "    return [expression]"
      ]
    },
    {
      "cell_type": "markdown",
      "source": [
        "Dalam penulisan docstring ada beberapa hal yang bisa kita masukkan dokumentasi didalamnya:\n",
        "\n",
        "\n",
        "*   Penjelasan fungsi tersebut untuk apa atau bertujuan untuk apa.\n",
        "\n",
        "*   Penjelasan parameter yang digunakan, seperti tipe data parameter dan jenis argumen yang diinputkan.\n",
        "*   Penjelasan return, seperti tipe data dan keterangan value disimpan.\n",
        "\n",
        "Penulisan docstring terdiri dari **one-line docstring** dan **multi-line docstring**. Rata-rata **one-line docstring** hanya berisikan dokumentasi fungsi, dan **multi-line docstring** bisa berisi dokumentasi fungsi hingga dokumentasi value yang dihasilkan. Untuk contoh penggunaan one-line dan multi-line docstring akan dijelaskan setelah ini."
      ],
      "metadata": {
        "id": "V3CV0GAGo93V"
      }
    },
    {
      "cell_type": "code",
      "source": [
        "def sebuah_fungsi():\n",
        "    \"\"\"Menampilkan \"Hello World!\" ketika dipanggil.\"\"\"\n",
        "    print(\"Hello World!\")"
      ],
      "metadata": {
        "id": "wPgSdpVqpSTY"
      },
      "execution_count": 2,
      "outputs": []
    },
    {
      "cell_type": "code",
      "source": [
        "sebuah_fungsi()"
      ],
      "metadata": {
        "colab": {
          "base_uri": "https://localhost:8080/"
        },
        "id": "XN7OvF-kpTuN",
        "outputId": "b04fbfb6-e410-4d83-f49d-5b88dc2b566b"
      },
      "execution_count": 3,
      "outputs": [
        {
          "output_type": "stream",
          "name": "stdout",
          "text": [
            "Hello World!\n"
          ]
        }
      ]
    },
    {
      "cell_type": "markdown",
      "source": [
        "\n",
        "\n",
        "*   `Docstring` tidak akan muncul sebagai output ketika program dijalankan.\n",
        "*   Namun, kita dapat menampilkan isi docstring dengan `help()` ataupun `__doc__`. Contoh:\n",
        "\n"
      ],
      "metadata": {
        "id": "LwDgElRjpWFi"
      }
    },
    {
      "cell_type": "code",
      "source": [
        "help(sebuah_fungsi)"
      ],
      "metadata": {
        "colab": {
          "base_uri": "https://localhost:8080/"
        },
        "id": "dSZY_XRLpcNs",
        "outputId": "74889ccf-617c-44bb-aac0-deb76d7cf636"
      },
      "execution_count": 4,
      "outputs": [
        {
          "output_type": "stream",
          "name": "stdout",
          "text": [
            "Help on function sebuah_fungsi in module __main__:\n",
            "\n",
            "sebuah_fungsi()\n",
            "    Menampilkan \"Hello World!\" ketika dipanggil.\n",
            "\n"
          ]
        }
      ]
    },
    {
      "cell_type": "code",
      "source": [
        "print(sebuah_fungsi.__doc__)"
      ],
      "metadata": {
        "colab": {
          "base_uri": "https://localhost:8080/"
        },
        "id": "N-5TEVw6pfsI",
        "outputId": "f2d4f9db-5ca7-40c9-e8f7-de414c126319"
      },
      "execution_count": 5,
      "outputs": [
        {
          "output_type": "stream",
          "name": "stdout",
          "text": [
            "Menampilkan \"Hello World!\" ketika dipanggil.\n"
          ]
        }
      ]
    },
    {
      "cell_type": "markdown",
      "source": [
        "**Macam macam Docstring**"
      ],
      "metadata": {
        "id": "F07i9A4tpp4K"
      }
    },
    {
      "cell_type": "markdown",
      "source": [
        "Seperti yang sudah disinggung sebelumnya, docstring terbagi menjadi:\n",
        "\n",
        "\n",
        "\n",
        "*   One line docstring\n",
        "*   Multi line docstring\n",
        "\n"
      ],
      "metadata": {
        "id": "q82dQYMtpsdq"
      }
    },
    {
      "cell_type": "markdown",
      "source": [
        "a. One Line Docstring"
      ],
      "metadata": {
        "id": "ulHXvqSvpx1j"
      }
    },
    {
      "cell_type": "code",
      "source": [
        "def daftar_kriteria():\n",
        "    \"Menampilkan list kriteria mendaftar sebagai data analyst.\"\n",
        "    list_text = [\"Menguasai bahasa python\", \"Mampu menganalisa data\", \"Memiliki sertifikat pendukung\"]\n",
        "    for index in range(len(list_text)):\n",
        "        print (list_text[index])"
      ],
      "metadata": {
        "id": "mklL_J7Sp5CV"
      },
      "execution_count": 6,
      "outputs": []
    },
    {
      "cell_type": "markdown",
      "source": [
        "Pada docstring diatas menampilkan dokumentasi singkat mengenai fungsi yang dibuat."
      ],
      "metadata": {
        "id": "wC1jJRisp60V"
      }
    },
    {
      "cell_type": "markdown",
      "source": [
        "Sekarang, mari kira coba membuat one-line docstring yang baru dari sebuah fungsi yang menghitung operasi pangkat matematika!"
      ],
      "metadata": {
        "id": "tYEArttBp9E_"
      }
    },
    {
      "cell_type": "code",
      "source": [
        "# Isi dengan docstring\n",
        "\n",
        "def fungsi_pangkat():\n",
        "    \"Sebuah fungsi untuk mengembalikan nilai num dipangkatkan dengan power\"\n",
        "    pangkat = num**power\n",
        "    return pangkat"
      ],
      "metadata": {
        "id": "P5DXRLOrp6Ft"
      },
      "execution_count": 7,
      "outputs": []
    },
    {
      "cell_type": "markdown",
      "source": [
        "\n",
        "\n",
        "*   Isi `docstring` juga tidak mengulangi parameter / fungsi / metode yang sudah di definisikan karena tidak efektif.\n"
      ],
      "metadata": {
        "id": "8XLJC9H1qLET"
      }
    },
    {
      "cell_type": "code",
      "source": [
        "# Salah satu penulisan docstring yang kurang tepat\n",
        "\n",
        "def function(x, y):\n",
        "    \"\"\"function(x, y) -> list\"\"\""
      ],
      "metadata": {
        "id": "OlgI78P9qPD9"
      },
      "execution_count": 8,
      "outputs": []
    },
    {
      "cell_type": "markdown",
      "source": [
        "**Catatan Tambahan:**\n",
        "\n",
        "\n",
        "\n",
        "*   Docstring ditulis tepat setelah mendefinisikan fungsi.\n",
        "\n",
        "*   Tanda kutip `\"\"\"` tetap digunakan meskipun keterangan hanya satu baris. Hal ini memudahkan jika ingin menambahkan keterangan lain pada `docstring`.\n",
        "\n",
        "*   Pada satu baris `docstring`, penutup kutip `\"\"\"` lebih baik jika sejajar dengan pembuka kutip `\"\"\"`.\n",
        "*   Tidak ada baris kosong sebelum atau sesudah `docstring`.\n",
        "\n",
        "*   Penulisan isi dokumentasi `docstring` bukan kalimat deskriptif, melainkan kalimat perintah dan diakhiri dengan titik.\n"
      ],
      "metadata": {
        "id": "lwksD_aEqTUM"
      }
    },
    {
      "cell_type": "markdown",
      "source": [
        "**Multi-Line Docstring**"
      ],
      "metadata": {
        "id": "roA14BlYq3Kb"
      }
    },
    {
      "cell_type": "code",
      "source": [
        "def harga_diskon2(harga):\n",
        "    \"\"\"\n",
        "    Fungsi untuk menghitung harga diskon.\n",
        "\n",
        "    Parameter:\n",
        "      harga (int): Harga barang sebelum diskon.\n",
        "\n",
        "    Returns:\n",
        "      harga_akhir (int) : Harga setelah diskon.\n",
        "    \"\"\"\n",
        "    diskon = 10/100\n",
        "    harga_akhir = int(harga * (1 - diskon))\n",
        "    return harga_akhir"
      ],
      "metadata": {
        "id": "4JF0O-H1rCgm"
      },
      "execution_count": 9,
      "outputs": []
    },
    {
      "cell_type": "markdown",
      "source": [
        "Pada docstring diatas menampilkan dokumentasi singkat mengenai fungsi,\n",
        "\n",
        "1. Item Daftar\n",
        "2. Item Daftar\n",
        "\n",
        "parameter apa yang digunakan, dan nilai akhir return."
      ],
      "metadata": {
        "id": "gFlRbL0frFm9"
      }
    },
    {
      "cell_type": "markdown",
      "source": [
        "**Mini Exercise**"
      ],
      "metadata": {
        "id": "m3si9GGRrQ2c"
      }
    },
    {
      "cell_type": "markdown",
      "source": [
        "\n",
        "\n",
        "*   Buatlah fungsi dan berisi docstring dari fungsi di bawah ini!\n",
        "*   Kemudian, tampilkan isi dari docstring yang sudah dibuat!\n",
        "\n"
      ],
      "metadata": {
        "id": "Yqmc6N5nrSrJ"
      }
    },
    {
      "cell_type": "markdown",
      "source": [
        "1. Kasus Pertama\n",
        "\n",
        "\n",
        "\n",
        "*   Program penghitung pajak pegawai akan dipresentasikan ke pimpinan departemen besok sore.\n",
        "\n",
        "*   Salah satu fungsi program penghitung pajak adalah **pajak_penghasilan**, buatlah fungsi tersebut dengan ketentuan:\n",
        "\n",
        "  *   memiliki 2 parameter: **penghasilan** berisi besaran penghasilan yang diterima seorang pegawai setiap bulannya dan **pajak** merupakan tarif pajak yang harus dibayarkan dengan nilai default 10%.\n",
        "  *   Rumus menghitung pajak: **penghasilan x pajak**\n",
        "  *   Nilai disimpan kedalam variabel **pph** dan merupakan variabel yang akan dikembalikan nilainya.\n",
        "\n",
        "\n",
        "*   Selanjutnya, tambahkan dokumentasi berupa docstring pada fungsi **pajak_penghasilan** agar memudahkan pimpinan departemen memahami kode program, maka dibuatlah docstring!\n"
      ],
      "metadata": {
        "id": "XUH8wbIfrWwz"
      }
    },
    {
      "cell_type": "code",
      "source": [
        "# Kasus pertama\n",
        "# Lengkapi titik-titik dibawah ini\n",
        "def pajak_penghasilan(penghasilan, pajak=0.1):\n",
        "    \"\"\"\n",
        "    Fungsi untuk penghitungan pajak penghasilan (PPH) pegawai.\n",
        "\n",
        "    Parameter:\n",
        "        penghasilan (int) = besaran gaji pegawai setiap bulan\n",
        "        pajak (float) = besaran default pajak yang sudah ditetapkan (10%)\n",
        "\n",
        "    Returns:\n",
        "        pph (int) = jumlah pajak yang harus dibayarkan\n",
        "    \"\"\"\n",
        "    pph = penghasilan*pajak\n",
        "    return pph"
      ],
      "metadata": {
        "id": "5qTWyGESrSaS"
      },
      "execution_count": 18,
      "outputs": []
    },
    {
      "cell_type": "code",
      "source": [
        "# Tampilkan isi docstringnya\n",
        "\n",
        "help(pajak_penghasilan)\n",
        "pajak_penghasilan(3_000_000)"
      ],
      "metadata": {
        "colab": {
          "base_uri": "https://localhost:8080/"
        },
        "id": "HapcMsweso_G",
        "outputId": "f3868bbe-3682-460c-a5fb-e5a2c3f4bc99"
      },
      "execution_count": 19,
      "outputs": [
        {
          "output_type": "stream",
          "name": "stdout",
          "text": [
            "Help on function pajak_penghasilan in module __main__:\n",
            "\n",
            "pajak_penghasilan(penghasilan, pajak=0.1)\n",
            "    Fungsi untuk penghitungan pajak penghasilan (PPH) pegawai.\n",
            "    \n",
            "    Parameter:\n",
            "        penghasilan (int) = besaran gaji pegawai setiap bulan\n",
            "        pajak (float) = besaran default pajak yang sudah ditetapkan (10%)\n",
            "    \n",
            "    Returns:\n",
            "        pph (int) = jumlah pajak yang harus dibayarkan\n",
            "\n"
          ]
        },
        {
          "output_type": "execute_result",
          "data": {
            "text/plain": [
              "300000.0"
            ]
          },
          "metadata": {},
          "execution_count": 19
        }
      ]
    },
    {
      "cell_type": "markdown",
      "source": [
        "2. Kasus Kedua\n",
        "\n",
        "\n",
        "*   Dalam program yang kita kembangkan, terdapat fungsi **proporsi_negara** yang menerima input nama dan luas area sebuah negara. kemudian mengembalikan nilai proporsi luas negara terhadap luas permukaan bumi.\n",
        "*   Catatan tambahan:\n",
        "  *   Total luas permukaan bumi 148.950.000 km2\n",
        "  *   Proporsi luas negara terhadap luas permukaan bumi dihitung dengan rumus luas negara: luas permukaan bumi x 100\n",
        "  *   Hasilnya dibulatkan dua angka dibelakang koma.\n",
        "\n",
        "Kembangkanlah fungsi docstring dari fungsi tersebut!"
      ],
      "metadata": {
        "id": "Ufpe5KgRvMVB"
      }
    },
    {
      "cell_type": "code",
      "source": [
        "#Kasus 2\n",
        "#Lengkapi titik-titik dibawah ini\n",
        "def proporsi_negara(negara, luas):\n",
        "    \"\"\"\n",
        "    Fungsi proporsi_negara yang mengembalikan nilai proporsi luas negara terhadap luas permukaan bumi\n",
        "\n",
        "    Parameter:\n",
        "      negara (str) = nama negara\n",
        "      luas (int) = luas wilayah negara dalam km2\n",
        "\n",
        "    Returns:\n",
        "      hasil (str) = berupa proporsi luas suatu negara terhadap bumi (dibulatkan 2 angka di belakang koma)\n",
        "    \"\"\"\n",
        "    luas_bumi = 148_950_000\n",
        "    proporsi = luas_bumi*100\n",
        "    hasil = print(f\"luas wilayah {negara} adalah {str(round(proporsi,2))} % dari luas permukaan bumi\")\n",
        "    return hasil"
      ],
      "metadata": {
        "id": "KCWLR1ICvnjO"
      },
      "execution_count": 23,
      "outputs": []
    }
  ]
}