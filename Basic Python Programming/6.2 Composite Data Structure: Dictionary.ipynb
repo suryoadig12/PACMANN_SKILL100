{
  "nbformat": 4,
  "nbformat_minor": 0,
  "metadata": {
    "colab": {
      "provenance": [],
      "authorship_tag": "ABX9TyPczWu29O4xSP60NLwdozkR",
      "include_colab_link": true
    },
    "kernelspec": {
      "name": "python3",
      "display_name": "Python 3"
    },
    "language_info": {
      "name": "python"
    }
  },
  "cells": [
    {
      "cell_type": "markdown",
      "metadata": {
        "id": "view-in-github",
        "colab_type": "text"
      },
      "source": [
        "<a href=\"https://colab.research.google.com/github/suryoadig12/PACMANN_SKILL100/blob/main/Basic%20Python%20Programming/6.2%20Composite%20Data%20Structure%3A%20Dictionary.ipynb\" target=\"_parent\"><img src=\"https://colab.research.google.com/assets/colab-badge.svg\" alt=\"Open In Colab\"/></a>"
      ]
    },
    {
      "cell_type": "markdown",
      "source": [
        "# **Dictionary**"
      ],
      "metadata": {
        "id": "LP1FOgaiNqB8"
      }
    },
    {
      "cell_type": "markdown",
      "source": [
        "**What is Dictionary?**"
      ],
      "metadata": {
        "id": "Hxi5qtQuNu_s"
      }
    },
    {
      "cell_type": "markdown",
      "source": [
        "`Dictionary` merupakan struktur data seperti `list`. Dalam `list`, indeks merupakan bilangan bulat, namun di dalam `dictionary` indeks bisa (hampir) tipe data apa saja.\n",
        "\n",
        "`Dictionary` juga bisa dianggap sebagai pemetaan antara sebuah indeks yang disebut **keys** dan sebuah **value**. Setiap key **memetakan** ke suatu value. Hubungan key dan value ini disebut **key-value pair**."
      ],
      "metadata": {
        "id": "Oj9JLB3wN0Yv"
      }
    },
    {
      "cell_type": "markdown",
      "source": [
        "![alsdjflasdawe.JPG](data:image/jpeg;base64,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)"
      ],
      "metadata": {
        "id": "F-x03laDPkNk"
      }
    },
    {
      "cell_type": "markdown",
      "source": [
        "Sebuah dictionary dalam python di representasikan dengan tanda **kurung kurawal** `{}`.\n",
        "\n",
        "`key` dan `value` setiap element dipisahkan dengan tanda **titik dua** `:`\n",
        "\n",
        "Lalu, element satu dengan element yang lain dipisahkan oleh **tanda koma** `,`\n",
        "\n",
        "Contoh pendefinisian dictionary:\n",
        "\n",
        "      NAMA_DICT = {'name': 'Bob',\n",
        "                   'age': 25,\n",
        "                   'job': 'Dev',\n",
        "                   'city': 'New York',\n",
        "                   'email': 'bob@web.com'}"
      ],
      "metadata": {
        "id": "imHOlak0Pq1M"
      }
    },
    {
      "cell_type": "markdown",
      "source": [
        "**How to Make Dictionary**"
      ],
      "metadata": {
        "id": "NFS3cXbxQIhW"
      }
    },
    {
      "cell_type": "markdown",
      "source": [
        "Mari kita coba untuk membuat sebuah `dictionary`."
      ],
      "metadata": {
        "id": "W4w4zxnaQMFf"
      }
    },
    {
      "cell_type": "code",
      "execution_count": 1,
      "metadata": {
        "colab": {
          "base_uri": "https://localhost:8080/"
        },
        "id": "jjZNymr5NZmM",
        "outputId": "e53ffcea-583a-49a7-8d89-9c32308026fa"
      },
      "outputs": [
        {
          "output_type": "stream",
          "name": "stdout",
          "text": [
            "{1: 90, 2: 88, 3: 85}\n"
          ]
        }
      ],
      "source": [
        "# Coba jalankan code di bawah ini\n",
        "\n",
        "print({1: 90, 2: 88, 3: 85})"
      ]
    },
    {
      "cell_type": "markdown",
      "source": [
        "`dictionary` juga bisa didefinisikan dengan variabel."
      ],
      "metadata": {
        "id": "qaM_hYJPQYIO"
      }
    },
    {
      "cell_type": "code",
      "source": [
        "# Lengkapi code di bawah ini sehingga bisa di print\n",
        "\n",
        "num_dict = {1: 90, 2: 88, 3: 85}\n",
        "\n",
        "print(num_dict)"
      ],
      "metadata": {
        "colab": {
          "base_uri": "https://localhost:8080/"
        },
        "id": "0tIEV5M2Qaul",
        "outputId": "ba92ec01-1832-4cc9-e58c-4feafc8e3e82"
      },
      "execution_count": 2,
      "outputs": [
        {
          "output_type": "stream",
          "name": "stdout",
          "text": [
            "{1: 90, 2: 88, 3: 85}\n"
          ]
        }
      ]
    },
    {
      "cell_type": "markdown",
      "source": [
        "Untuk memastikan variabel tersebut adalah sebuah dictionary maka bisa dicek dengan `type()`."
      ],
      "metadata": {
        "id": "3ILPnyeJQf4M"
      }
    },
    {
      "cell_type": "code",
      "source": [
        "# Coba kita cek tipe data variabel num_dict dibawah\n",
        "\n",
        "num_dict = {1: 90, 2: 88, 3: 85}\n",
        "print(f'Tipe data variabel num_dict adalah {type(num_dict)}')"
      ],
      "metadata": {
        "colab": {
          "base_uri": "https://localhost:8080/"
        },
        "id": "pqbbVQJrQiBD",
        "outputId": "ad2523f1-e07b-4754-9ba5-6fb47f6db6d2"
      },
      "execution_count": 4,
      "outputs": [
        {
          "output_type": "stream",
          "name": "stdout",
          "text": [
            "Tipe data variabel num_dict adalah <class 'dict'>\n"
          ]
        }
      ]
    },
    {
      "cell_type": "markdown",
      "source": [
        "Seperti pada struktur data `list`, sebuah `dictionary` memungkinkan kita untuk menampung berbagai macam tipe data. Bahkan sebuah `dictionary` bisa menyimpan `list`."
      ],
      "metadata": {
        "id": "X9DkRk_jQnyr"
      }
    },
    {
      "cell_type": "code",
      "source": [
        "# Coba jalankan code di bawah ini\n",
        "\n",
        "mix_dict = {1: 2,\n",
        "            \"kota\": \"jakarta\",\n",
        "            2.0: \"surabaya\",\n",
        "            \"genap\": [2, 4, 6]}\n",
        "print(mix_dict)"
      ],
      "metadata": {
        "colab": {
          "base_uri": "https://localhost:8080/"
        },
        "id": "R5_BEeWqQtKc",
        "outputId": "d6dabf26-9565-4229-e1b7-cef3c40f454c"
      },
      "execution_count": 5,
      "outputs": [
        {
          "output_type": "stream",
          "name": "stdout",
          "text": [
            "{1: 2, 'kota': 'jakarta', 2.0: 'surabaya', 'genap': [2, 4, 6]}\n"
          ]
        }
      ]
    },
    {
      "cell_type": "code",
      "source": [
        "# Coba buatlah sebuah dictionary bernama \"hewan_dict\" yang berisi tiga element\n",
        "# Key-nya karnivora, herbivora, omnivora\n",
        "# Value-nya nama binatang\n",
        "\n",
        "hewan_dict = {'karnivora':'macan', 'herbivora':'kambing', 'omnivora':'beruang'} # Untuk omnivora value nya bebas\n",
        "\n",
        "# kemudian print dictionary tersebut\n",
        "print(hewan_dict)"
      ],
      "metadata": {
        "colab": {
          "base_uri": "https://localhost:8080/"
        },
        "id": "jJ-yz4hMQ2CB",
        "outputId": "12115257-cf75-4fe3-f22a-8233bcb977a0"
      },
      "execution_count": 6,
      "outputs": [
        {
          "output_type": "stream",
          "name": "stdout",
          "text": [
            "{'karnivora': 'macan', 'herbivora': 'kambing', 'omnivora': 'beruang'}\n"
          ]
        }
      ]
    },
    {
      "cell_type": "markdown",
      "source": [
        "Perlu diketahui bahwa `key` pada elemen `dictionary` tidak bisa memiliki duplikat, namun untuk value bisa. Jika `key` memiliki duplikat maka yang akan dikeluarkan adalah element `key` yang terakhir"
      ],
      "metadata": {
        "id": "zrVxx20FRPdK"
      }
    },
    {
      "cell_type": "code",
      "source": [
        "# Coba jalankan code di bawah\n",
        "\n",
        "hewan_dict = {1:\"kucing\", 2:\"ayam\", 1:\"ayam\"}    # key 1 memiliki value terakhir\n",
        "print(hewan_dict)"
      ],
      "metadata": {
        "colab": {
          "base_uri": "https://localhost:8080/"
        },
        "id": "vJtJVXM5RZqp",
        "outputId": "22174786-8f48-47bc-9257-eb14cc2f1d13"
      },
      "execution_count": 7,
      "outputs": [
        {
          "output_type": "stream",
          "name": "stdout",
          "text": [
            "{1: 'ayam', 2: 'ayam'}\n"
          ]
        }
      ]
    },
    {
      "cell_type": "markdown",
      "source": [
        "Dictionary di Python juga mengizinkan kita untuk membuat sebuah **empty dictionary** atau dictionary yang tidak memiliki element di dalamnya.\n",
        "\n",
        "Caranya kita bisa langsung mendefinisikan dictionary dengan **kurung kurawal `{}`**"
      ],
      "metadata": {
        "id": "ZLwVzAfzRfgK"
      }
    },
    {
      "cell_type": "code",
      "source": [
        "# Coba jalankan code di bawah\n",
        "\n",
        "empty_dict_1 = {}\n",
        "print(empty_dict_1)"
      ],
      "metadata": {
        "colab": {
          "base_uri": "https://localhost:8080/"
        },
        "id": "J-vq6YpLReyr",
        "outputId": "5ed97e4b-cf11-4b0d-9aea-569f78b4b62f"
      },
      "execution_count": 8,
      "outputs": [
        {
          "output_type": "stream",
          "name": "stdout",
          "text": [
            "{}\n"
          ]
        }
      ]
    },
    {
      "cell_type": "markdown",
      "source": [
        "atau bisa juga dengan `dict()`."
      ],
      "metadata": {
        "id": "XwfJNvV6R1Ie"
      }
    },
    {
      "cell_type": "code",
      "source": [
        "# Coba jalankan code di bawah\n",
        "\n",
        "empty_dict_2 = dict()\n",
        "print(empty_dict_2)"
      ],
      "metadata": {
        "colab": {
          "base_uri": "https://localhost:8080/"
        },
        "id": "FnBmCwQOR3ZQ",
        "outputId": "99efb4fa-3a69-46e9-b99e-3ec04b8215df"
      },
      "execution_count": 9,
      "outputs": [
        {
          "output_type": "stream",
          "name": "stdout",
          "text": [
            "{}\n"
          ]
        }
      ]
    },
    {
      "cell_type": "markdown",
      "source": [
        "Sebuah dictionary terdapat key dan value. Untuk **mengakses element** di dalamnya, kita bisa menggunakan notasi **kurung siku** `NAMA_DICT[KEY]`, mirip dengan cara kita mengakses element dalam `list` dengan kurung siku yang berisi indeks."
      ],
      "metadata": {
        "id": "VYgBhiKrR6wR"
      }
    },
    {
      "cell_type": "code",
      "source": [
        "# Coba jalankan code dibawah ini\n",
        "\n",
        "num_dict = {1: \"satu\", 2: \"dua\", 3: \"tiga\"}\n",
        "print(num_dict[1])\n",
        "print(num_dict[3])"
      ],
      "metadata": {
        "colab": {
          "base_uri": "https://localhost:8080/"
        },
        "id": "EnMwH1m0R6cm",
        "outputId": "7feb4cde-7894-40c2-ee17-c9c2e9519ede"
      },
      "execution_count": 10,
      "outputs": [
        {
          "output_type": "stream",
          "name": "stdout",
          "text": [
            "satu\n",
            "tiga\n"
          ]
        }
      ]
    },
    {
      "cell_type": "code",
      "source": [
        "# Coba keluarkan element-element yang ada pada dictionary di bawah dengan cara mengakses keys nya\n",
        "\n",
        "nilai_dict = {'Bambang':80, 'Agus':95, 'Laras':90}\n",
        "\n",
        "print(f'Nilai Bambang: {nilai_dict[\"Bambang\"]}')\n",
        "print(f'Nilai Agus: {nilai_dict[\"Agus\"]}')\n",
        "print(f'Nilai Laras: {nilai_dict[\"Laras\"]}')"
      ],
      "metadata": {
        "colab": {
          "base_uri": "https://localhost:8080/"
        },
        "id": "4T662lksSKVM",
        "outputId": "65b525ec-5021-41ac-aad2-9d8e8c462e31"
      },
      "execution_count": 11,
      "outputs": [
        {
          "output_type": "stream",
          "name": "stdout",
          "text": [
            "Nilai Bambang: 80\n",
            "Nilai Agus: 95\n",
            "Nilai Laras: 90\n"
          ]
        }
      ]
    },
    {
      "cell_type": "markdown",
      "source": [
        "Perlu perhatikan juga jika ingin mengakses **keys**, apabila keys nya bertipe string maka untuk mengakses nya diikuti dengan tanda petik `(\"\")`.\n",
        "\n",
        "Lalu apa yang terjadi jika kita coba untuk mengakses key di dictionary namun **key tersebut tidak ada**? Kita akan mendapatkan eror `KeyError: key`"
      ],
      "metadata": {
        "id": "ocY7oC24SfL7"
      }
    },
    {
      "cell_type": "code",
      "source": [
        "# Coba jalankan code di bawah\n",
        "\n",
        "num_dict = {1: \"satu\", 2: \"dua\", 3: \"tiga\"}\n",
        "print(num_dict[4])"
      ],
      "metadata": {
        "colab": {
          "base_uri": "https://localhost:8080/",
          "height": 183
        },
        "id": "nASPw_k3Spw6",
        "outputId": "f1271b6e-6b5c-4f85-bd63-012e97ced176"
      },
      "execution_count": 12,
      "outputs": [
        {
          "output_type": "error",
          "ename": "KeyError",
          "evalue": "4",
          "traceback": [
            "\u001b[0;31m---------------------------------------------------------------------------\u001b[0m",
            "\u001b[0;31mKeyError\u001b[0m                                  Traceback (most recent call last)",
            "\u001b[0;32m<ipython-input-12-632b34db7eb1>\u001b[0m in \u001b[0;36m<cell line: 0>\u001b[0;34m()\u001b[0m\n\u001b[1;32m      2\u001b[0m \u001b[0;34m\u001b[0m\u001b[0m\n\u001b[1;32m      3\u001b[0m \u001b[0mnum_dict\u001b[0m \u001b[0;34m=\u001b[0m \u001b[0;34m{\u001b[0m\u001b[0;36m1\u001b[0m\u001b[0;34m:\u001b[0m \u001b[0;34m\"satu\"\u001b[0m\u001b[0;34m,\u001b[0m \u001b[0;36m2\u001b[0m\u001b[0;34m:\u001b[0m \u001b[0;34m\"dua\"\u001b[0m\u001b[0;34m,\u001b[0m \u001b[0;36m3\u001b[0m\u001b[0;34m:\u001b[0m \u001b[0;34m\"tiga\"\u001b[0m\u001b[0;34m}\u001b[0m\u001b[0;34m\u001b[0m\u001b[0;34m\u001b[0m\u001b[0m\n\u001b[0;32m----> 4\u001b[0;31m \u001b[0mprint\u001b[0m\u001b[0;34m(\u001b[0m\u001b[0mnum_dict\u001b[0m\u001b[0;34m[\u001b[0m\u001b[0;36m4\u001b[0m\u001b[0;34m]\u001b[0m\u001b[0;34m)\u001b[0m\u001b[0;34m\u001b[0m\u001b[0;34m\u001b[0m\u001b[0m\n\u001b[0m",
            "\u001b[0;31mKeyError\u001b[0m: 4"
          ]
        }
      ]
    },
    {
      "cell_type": "markdown",
      "source": [
        "**Dictionary are mutable and immutable**"
      ],
      "metadata": {
        "id": "XhbdsuHeStP8"
      }
    },
    {
      "cell_type": "markdown",
      "source": [
        "Sebuah `dictinonary` memiliki sifat `mutable` **(bisa diubah)** dan `immutable` **(tidak bisa diubah)**.\n",
        "\n",
        "Kita tidak bisa mengganti key pada dictionary karena `key` memiliki sifat `immutable`. Atau jika kita memang harus menggantinya, key tersebut harus di hapus dahulu, baru kita masukkan key yang baru ke dalam dictionary tersebut.\n",
        "\n",
        "Untuk `value` pada dictionary kita bisa menggantinya, karena value memiliki sifat `mutable`.\n",
        "\n",
        "Cara mengganti value pada dictionary bisa menggunakan notasi `NAMA_DICT[NAMA_KEY] = VALUE_BARU`."
      ],
      "metadata": {
        "id": "QIhXzTIRSx0l"
      }
    },
    {
      "cell_type": "code",
      "source": [
        "# Coba jalankan code dibawah ini\n",
        "num_dict = {1: \"one\", 2: \"two\", 3: \"three\"}\n",
        "\n",
        "# Kita akan mengganti value pada key 1 menjadi 'ayam'\n",
        "num_dict[1] = 'ayam'\n",
        "\n",
        "print(num_dict)"
      ],
      "metadata": {
        "colab": {
          "base_uri": "https://localhost:8080/"
        },
        "id": "f9vd9_eTTHUm",
        "outputId": "d42cf5a9-41b5-4002-9d9e-f36755b0bb79"
      },
      "execution_count": 13,
      "outputs": [
        {
          "output_type": "stream",
          "name": "stdout",
          "text": [
            "{1: 'ayam', 2: 'two', 3: 'three'}\n"
          ]
        }
      ]
    },
    {
      "cell_type": "code",
      "source": [
        "# Coba ubah warna buah apel pada dictionary dibawah menjadi hijau\n",
        "\n",
        "warna_buah = {'Pisang':'Kuning', 'Apel':'Merah', 'Kiwi':'Hijau'}\n",
        "warna_buah['Apel'] = 'Hijau'\n",
        "\n",
        "# kemudian print dictionary tersebut\n",
        "print(warna_buah)"
      ],
      "metadata": {
        "colab": {
          "base_uri": "https://localhost:8080/"
        },
        "id": "OghzdpwjTNu5",
        "outputId": "e1ba24e6-0f33-42cb-9564-20e5188512fc"
      },
      "execution_count": 14,
      "outputs": [
        {
          "output_type": "stream",
          "name": "stdout",
          "text": [
            "{'Pisang': 'Kuning', 'Apel': 'Hijau', 'Kiwi': 'Hijau'}\n"
          ]
        }
      ]
    },
    {
      "cell_type": "markdown",
      "source": [
        "**Dictionary Methods**"
      ],
      "metadata": {
        "id": "2-WLP9rQTdVE"
      }
    },
    {
      "cell_type": "markdown",
      "source": [
        "Ada berbagai macam method pada `dictionary` yang bisa digunakan. Pada pertemuan ini hanya akan dikenalkan pada method yang sering digunakan saja.\n",
        "\n",
        "Misalkan:\n",
        "\n",
        "      dict_1 = {'Nama': 'Dani', 'Usia':24}\n",
        "      dict_2 = {'Nama': 'Lala', 'Usia':19}"
      ],
      "metadata": {
        "id": "7f9izp52TgvN"
      }
    },
    {
      "cell_type": "markdown",
      "source": [
        "![sldjfalsd.JPG](data:image/jpeg;base64,/9j/4AAQSkZJRgABAQEAkACQAAD/4QLgRXhpZgAATU0AKgAAAAgABAE7AAIAAAAHAAABSodpAAQAAAABAAABUpydAAEAAAAOAAACyuocAAcAAAEMAAAAPgAAAAAc6gAAAAEAAAAAAAAAAAAAAAAAAAAAAAAAAAAAAAAAAAAAAAAAAAAAAAAAAAAAAAAAAAAAAAAAAAAAAAAAAAAAAAAAAAAAAAAAAAAAAAAAAAAAAAAAAAAAAAAAAAAAAAAAAAAAAAAAAAAAAAAAAAAAAAAAAAAAAAAAAAAAAAAAAAAAAAAAAAAAAAAAAAAAAAAAAAAAAAAAAAAAAAAAAAAAAAAAAAAAAAAAAAAAAAAAAAAAAAAAAAAAAAAAAAAAAAAAAAAAAAAAAAAAAAAAAAAAAAAAAAAAAAAAAAAAAAAAAAAAAAAAAAAAAAAAAAAAAAAAAAAAAAAAAAAAAAAAAAAAAAAAAAAAAAAAAAAATEVOT1ZPAAAABZADAAIAAAAUAAACoJAEAAIAAAAUAAACtJKRAAIAAAADMjYAAJKSAAIAAAADMjYAAOocAAcAAAEMAAABlAAAAAAc6gAAAAEAAAAAAAAAAAAAAAAAAAAAAAAAAAAAAAAAAAAAAAAAAAAAAAAAAAAAAAAAAAAAAAAAAAAAAAAAAAAAAAAAAAAAAAAAAAAAAAAAAAAAAAAAAAAAAAAAAAAAAAAAAAAAAAAAAAAAAAAAAAAAAAAAAAAAAAAAAAAAAAAAAAAAAAAAAAAAAAAAAAAAAAAAAAAAAAAAAAAAAAAAAAAAAAAAAAAAAAAAAAAAAAAAAAAAAAAAAAAAAAAAAAAAAAAAAAAAAAAAAAAAAAAAAAAAAAAAAAAAAAAAAAAAAAAAAAAAAAAAAAAAAAAAAAAAAAAAAAAAAAAAAAAAAAAAAAAAAAAAAAAAAAAAAAAAMjAyNTowNDoyMiAxODo0Mjo0MAAyMDI1OjA0OjIyIDE4OjQyOjQwAAAATABFAE4ATwBWAE8AAAD/4QQZaHR0cDovL25zLmFkb2JlLmNvbS94YXAvMS4wLwA8P3hwYWNrZXQgYmVnaW49J++7vycgaWQ9J1c1TTBNcENlaGlIenJlU3pOVGN6a2M5ZCc/Pg0KPHg6eG1wbWV0YSB4bWxuczp4PSJhZG9iZTpuczptZXRhLyI+PHJkZjpSREYgeG1sbnM6cmRmPSJodHRwOi8vd3d3LnczLm9yZy8xOTk5LzAyLzIyLXJkZi1zeW50YXgtbnMjIj48cmRmOkRlc2NyaXB0aW9uIHJkZjphYm91dD0idXVpZDpmYWY1YmRkNS1iYTNkLTExZGEtYWQzMS1kMzNkNzUxODJmMWIiIHhtbG5zOmRjPSJodHRwOi8vcHVybC5vcmcvZGMvZWxlbWVudHMvMS4xLyIvPjxyZGY6RGVzY3JpcHRpb24gcmRmOmFib3V0PSJ1dWlkOmZhZjViZGQ1LWJhM2QtMTFkYS1hZDMxLWQzM2Q3NTE4MmYxYiIgeG1sbnM6eG1wPSJodHRwOi8vbnMuYWRvYmUuY29tL3hhcC8xLjAvIj48eG1wOkNyZWF0ZURhdGU+MjAyNS0wNC0yMlQxODo0Mjo0MC4yNjE8L3htcDpDcmVhdGVEYXRlPjwvcmRmOkRlc2NyaXB0aW9uPjxyZGY6RGVzY3JpcHRpb24gcmRmOmFib3V0PSJ1dWlkOmZhZjViZGQ1LWJhM2QtMTFkYS1hZDMxLWQzM2Q3NTE4MmYxYiIgeG1sbnM6ZGM9Imh0dHA6Ly9wdXJsLm9yZy9kYy9lbGVtZW50cy8xLjEvIj48ZGM6Y3JlYXRvcj48cmRmOlNlcSB4bWxuczpyZGY9Imh0dHA6Ly93d3cudzMub3JnLzE5OTkvMDIvMjItcmRmLXN5bnRheC1ucyMiPjxyZGY6bGk+TEVOT1ZPPC9yZGY6bGk+PC9yZGY6U2VxPg0KCQkJPC9kYzpjcmVhdG9yPjwvcmRmOkRlc2NyaXB0aW9uPjwvcmRmOlJERj48L3g6eG1wbWV0YT4NCiAgICAgICAgICAgICAgICAgICAgICAgICAgICAgICAgICAgICAgICAgICAgICAgICAgICAgICAgICAgICAgICAgICAgICAgICAgICAgICAgICAgICAgICAgICAgICAgICAgICAKICAgICAgICAgICAgICAgICAgICAgICAgICAgICAgICAgICAgICAgICAgICAgICAgICAgICAgICAgICAgICAgICAgICAgICAgICAgICAgICAgICAgICAgICAgICAgICAgICAgIAogICAgICAgICAgICAgICAgICAgICAgICAgICAgICAgICAgICAgICAgICAgICAgICAgICAgICA8P3hwYWNrZXQgZW5kPSd3Jz8+/9sAQwAHBQUGBQQHBgUGCAcHCAoRCwoJCQoVDxAMERgVGhkYFRgXGx4nIRsdJR0XGCIuIiUoKSssKxogLzMvKjInKisq/9sAQwEHCAgKCQoUCwsUKhwYHCoqKioqKioqKioqKioqKioqKioqKioqKioqKioqKioqKioqKioqKioqKioqKioqKioq/8AAEQgB0QNTAwEiAAIRAQMRAf/EAB8AAAEFAQEBAQEBAAAAAAAAAAABAgMEBQYHCAkKC//EALUQAAIBAwMCBAMFBQQEAAABfQECAwAEEQUSITFBBhNRYQcicRQygZGhCCNCscEVUtHwJDNicoIJChYXGBkaJSYnKCkqNDU2Nzg5OkNERUZHSElKU1RVVldYWVpjZGVmZ2hpanN0dXZ3eHl6g4SFhoeIiYqSk5SVlpeYmZqio6Slpqeoqaqys7S1tre4ubrCw8TFxsfIycrS09TV1tfY2drh4uPk5ebn6Onq8fLz9PX29/j5+v/EAB8BAAMBAQEBAQEBAQEAAAAAAAABAgMEBQYHCAkKC//EALURAAIBAgQEAwQHBQQEAAECdwABAgMRBAUhMQYSQVEHYXETIjKBCBRCkaGxwQkjM1LwFWJy0QoWJDThJfEXGBkaJicoKSo1Njc4OTpDREVGR0hJSlNUVVZXWFlaY2RlZmdoaWpzdHV2d3h5eoKDhIWGh4iJipKTlJWWl5iZmqKjpKWmp6ipqrKztLW2t7i5usLDxMXGx8jJytLT1NXW19jZ2uLj5OXm5+jp6vLz9PX29/j5+v/aAAwDAQACEQMRAD8A+kaKKKACiiigAooooAKKKKACiiigAooooAKKKKACiiigAooooAKKKKACiiigAooooAKKKKACiiigAooooAKKKKACiiigAooooAKKKKACiiigAooooAKKKKACiiigAooooAKKKKACiiigAooooAKKKKACiiigAooooAKKKKACiiigAooooAKKKKACiiigAooooAKKKKACiiigAooooAKKKKACiiigAooooAKKKKACiiigAooooAKKKKACiiigAooooAKKKKACiiigAooooAKKKKACiiigAooooAKKKKACiiigAooooAKKKKACiiigArhZfirZDxHe6NZ+G/EmoS2Nx9nnnsrFZYkb1LB+B35Aruq8b8IaTr9/8TPGU+i+Jf7JtINYQ3Nr9gjn+0jrjexynGRx65pL47dLfqv8xS0j8/0f+R7JRXzXr2tWmmeFviV4dvVuI9UutXNzFB9nc/uTLHiQtjaq9OSRnIxnIrpf+Ec0/wAUfE7ULDVxNJa/8IxbO0UczRh2G3bu2kEgHnB4yBkHFLm0v/Wzf6WLlGzt52/FL9T2+ivma21CO58DfD5fG0t0/hHfdR3rKZCpdSwhVtnzcYGMds+lRSRaOdF8Z251e40nTzq9sLddSjuGFwqq5WGUKDKEIGQTyAq96qWjfl/ml+pK6ef/AAf8j6D8Qa5faPeaTDY6Jc6ml/drbzywE4tEP/LRuDwPfA9+mduvnbRZ4ZtI8BfZNGj0u3XxMwjMEkrRXQwP30fm/OFJ4wfT8B9E07WT9f0T/UlSu/l+r/yCiiikUFFFFABRRRQAUUUUAFFFFABRRRQAVjeK/E9n4P8ADs2s6jDcTwQsimO2QNIxZgowCQOpHetmvO/jr/ySLUv+u1v/AOjkoSu0u7X5jWpvRePtHm+H/wDwmC+f/Z/lF/LKr5u4Nt8vbnG/dxjPXvVvwj4qsvGfh2HWdMhuIbeV3QJcqquCrFTkAkdR615HHpFzH8Rrn4f/AGf/AIksmoDX+fu+TsyY8f3fNCjHsa5S4k1Jfgj4ZVAn9iNqVz/aTTmbyP8AW/uxL5Pz7M56d8d8UX6+n6frdfISWn9dm/yS+8+ktb17TfDtgt7rN0La3aVIVcozZdjhRhQT1rLk8XbPiXF4S+xZ8zTjffa/N6Yfbs2bfxzn8K8CutBtrr4Pvqk01nqFhY6yv2ZtPe7MdlC+3zkCzAMFztP8XLHnJNdcugeGfEvxW0bTtOEz+HX8MEwRRTzRebH5rAKxJDlec4J6gZoen9f3b/1/VxWd/T/2639dj3OivmLSblpfAXhiLxRJdt4Mt9SuodS8ppCoAwYQ+z5toY8Y/nirU7X0XgLxcfBi6j/whTXtv9lZfMBFv832kx7/AJtu7AOeMZz/ABUf1+W/be/oPZ2f9Wvt32Pb7jxd5HxKtPCf2Ld9osGvftXm424Yrt2beenXP4V0leEeBx4XHxu0z/hBhdf2R/Y0vlmbzthbzG3FPN5xnrjjOfevd6drJfP82K+r+X5IKKKKQBRRRQAUUUUAFFFFABRRRQAVxXiH4n2Hh7xJNof9h67ql3BAtxJ/Ztosyoh7n5wR9cYrta8d1bSda1j496vb+H/EB0KX+xojJMLNLjem4DbhiMdc5HPFS73SXn+TY9Em35fmkeneHPEWneK9AttY0aVpLS4B27lKspBwVI7EEEenpkc1qV80fEPwyPB2p6PoU7wP4ahs2eKbVzcmCW6Z2Lsfs3zeZgjA6Ba1LDSX1bXPhppmu6gNTguLG+Q3FrNKvnQFW2ruYK4G3CngHHFWrSfu/wBaP/L7idlr/X9fmfQdFfNUouNL8Ca1pML3Y8N2Pi4298kbsTFZd1z12k4z7n3oiNtb+LvErfDFNQFuPDBNjv8AODBTJHuMPmfPtxuI/wBrOO1SndXXb/22/wDwC+V3t/W9j6Vor5s8Ojwp/wAJh8O38HC9y0z/ANoNL53lG48pN2N/y7/XZxjb7VT1fW7S0+FvifwxcLcx6smvtO8Bt3wkZkUh2bG0A4wMnJOPWrUbzUf63S/W/wAifP8Arr/l+J9P0V4XqXhvT/Enj/4jx6qJnjttPt5o445mRfMEBKsQD82McA5HPTpXK317Z69onhex8RWkLypoTNb311DeXEk7BnAjiSF1XICjLNn36YOfN7t/66/5B1t/XT/M+nqK+arzUrXXfDXgXT/FNtFOJbGYpqN9FeXDO/mFFijS3dS7/Kudx6EfQu0FZNd0f4XWuo3NyyNfX1vuWVlkESkAIG6qNvy8HIHQjArS3vcvnb8bAtYpvtf8Ln0nRXmHwlsYtE8SeNdC08yJptjqCfZoGcsItykkAnnsOvpXp9To0muqT+8XVrsFFFFAwooooAKKKKACiiigAooooAKKKKACiiigAooooAKKKKACsXxT4t0rwfpYvdYlf94/lwW8Kb5biTsiL3J/AepFbVeYfFSGfTPFnhLxbLazXelaPPL9tWGMuYVdRiUgdhgkntgetJ7pD6M6Hw58SNJ8Q622jSWOqaNqnl+bHZ6taGCSVO7KMkEcHvng+hrrq8eudYtPiX8U/Dd74PSe70/REnkvNRNu8cYLKAIgWAJbpx6NnnBrgbbXLQfDPQfDTC4XVbDxMjXcLW7qIMySYDMRtBPpnPB44qlq0tv+HsK1k3fb/Jv9PxPo+317TLrX7vRbe6D6jZxpLcQBW/dq33STjHPpnNaFeCT6J4a0P44eI49QtWt7m5szc6RkykPK8TGVgQSOTv8AvcDoK5bQ20ebQfBqaD/aT+OVvI9gxMAluJHzjP7vy8ZJK/7Wf4qmHv2Xp+La/C2oT92/9dE/689PM+pKz5de0yHxDBoUl0BqU8DXEdvtYkxg4LZxgc+p5rwLW9btdH0v4oaBfLcJqd7qDXMEC27tuiLKfMLAYVcEHJI6jGau3uieGtO+KvhDUPEFq0VpqOk27rLmUiW9XaqfdPBACccL69aI+8120/FN/oOXutr1/Bpfje/4n0BRRRTEFFFFABRRRQAUUUUAFFFFABRRRQAUUUUAFFFFABRRRQAUUVFM064+zxxv675CuPyU0AS0VW8y+/59rf8A8CG/+Io8y+/59rf/AMCG/wDiKALNFVvMvv8An2t//Ahv/iKPMvv+fa3/APAhv/iKALNFVvMvv+fa3/8AAhv/AIijzL7/AJ9rf/wIb/4igCzRVbzL7/n2t/8AwIb/AOIo8y+/59rf/wACG/8AiKALNFVvMvv+fa3/APAhv/iKPMvv+fa3/wDAhv8A4igCzRVbzL7/AJ9rf/wIb/4ijzL7/n2t/wDwIb/4igDK8UaPr2rJbHw34lbQZYi3mP8AYkuRKpxxtcgDGOvXmofBfg238HafcoLubUL++nNzfXswAaeU9TgfdHXA5xk81t+Zff8APtb/APgQ3/xFHmX3/Ptb/wDgQ3/xFC0B6lmiq3mX3/Ptb/8AgQ3/AMRR5l9/z7W//gQ3/wARQBZoqt5l9/z7W/8A4EN/8RR5l9/z7W//AIEN/wDEUAWaKreZff8APtb/APgQ3/xFHmX3/Ptb/wDgQ3/xFAFmiq3mX3/Ptb/+BDf/ABFHmX3/AD7W/wD4EN/8RQBZoqt5l9/z7W//AIEN/wDEUeZff8+1v/4EN/8AEUAWaKreZff8+1v/AOBDf/EUeZff8+1v/wCBDf8AxFAFmiq3mX3/AD7W/wD4EN/8RR5l9/z7W/8A4EN/8RQBZoqt5l9/z7W//gQ3/wARR5l9/wA+1v8A+BDf/EUAWaKreZff8+1v/wCBDf8AxFHmX3/Ptb/+BDf/ABFAFmiq3mX3/Ptb/wDgQ3/xFHmX3/Ptb/8AgQ3/AMRQBZoqt5l9/wA+1v8A+BDf/EUeZff8+1v/AOBDf/EUAWaKreZff8+1v/4EN/8AEUeZff8APtb/APgQ3/xFAFmiq3mX3/Ptb/8AgQ3/AMRR5l9/z7W//gQ3/wARQBZoqt5l9/z7W/8A4EN/8RR5l9/z7W//AIEN/wDEUAWaKreZff8APtb/APgQ3/xFHmX3/Ptb/wDgQ3/xFAFmiq3mX3/Ptb/+BDf/ABFHmX3/AD7W/wD4EN/8RQBZoqt5l9/z7W//AIEN/wDEUeZff8+1v/4EN/8AEUAWaKreZff8+1v/AOBDf/EUeZff8+1v/wCBDf8AxFAFmiq3mX3/AD7W/wD4EN/8RR5l9/z7W/8A4EN/8RQBT8R6bqmqaV5Ghay2i3iyK63Yt1nwBnKlGIByD3rndE+H11pY1jUbzxFcX/iPVYPJbVmt1QQADCbIgcDHBIzzjtXXeZff8+1v/wCBDf8AxFHmX3/Ptb/+BDf/ABFK1gOO0b4eX6eLLbxF4w8TzeIr2xjMdiv2RLWODdkM2xCQzEHrx+PGO6qt5l9/z7W//gQ3/wARR5l9/wA+1v8A+BDf/EVVw63LNFVvMvv+fa3/APAhv/iKPMvv+fa3/wDAhv8A4ikBZoqt5l9/z7W//gQ3/wARR5l9/wA+1v8A+BDf/EUAWaKreZff8+1v/wCBDf8AxFHmX3/Ptb/+BDf/ABFAFmiq3mX3/Ptb/wDgQ3/xFHmX3/Ptb/8AgQ3/AMRQBZoqt5l9/wA+1v8A+BDf/EUeZff8+1v/AOBDf/EUAWaKreZff8+1v/4EN/8AEUeZff8APtb/APgQ3/xFAFmiq3mX3/Ptb/8AgQ3/AMRR5l9/z7W//gQ3/wARQBZoqt5l9/z7W/8A4EN/8RR5l9/z7W//AIEN/wDEUAWaKreZff8APtb/APgQ3/xFHmX3/Ptb/wDgQ3/xFAFmiq3mX3/Ptb/+BDf/ABFHmX3/AD7W/wD4EN/8RQBZoqt5l9/z7W//AIEN/wDEUeZff8+1v/4EN/8AEUAWaKreZff8+1v/AOBDf/EUeZff8+1v/wCBDf8AxFAFmiq3mX3/AD7W/wD4EN/8RR5l9/z7W/8A4EN/8RQBZoqt5l9/z7W//gQ3/wARR5l9/wA+1v8A+BDf/EUAOvrb7bp1za79nnxNHuxnbuBGcfjWV4N8Of8ACI+ELDQ/tX2v7GhXz/L8vfli33cnHX1rT8y+/wCfa3/8CG/+Io8y+/59rf8A8CG/+Io2v5/1+oblmiq3mX3/AD7W/wD4EN/8RR5l9/z7W/8A4EN/8RQBZoqt5l9/z7W//gQ3/wARR5l9/wA+1v8A+BDf/EUAWaKreZff8+1v/wCBDf8AxFHmX3/Ptb/+BDf/ABFAFmiq3mX3/Ptb/wDgQ3/xFHmX3/Ptb/8AgQ3/AMRQBZoqt5l9/wA+1v8A+BDf/EUeZff8+1v/AOBDf/EUAWaKreZff8+1v/4EN/8AEUeZff8APtb/APgQ3/xFAFmiq3mX3/Ptb/8AgQ3/AMRR5l9/z7W//gQ3/wARQBZoqt5l9/z7W/8A4EN/8RUkLTtn7RHGnpskLZ/NRQBLRRRQAUUUUAFFFFABRVDVtc0/Q44H1OcxC4l8mELE0jSPtLbQFBJJCnA7ngckCstPH3hx1Urezf6zypc2cwNs27aBONn7nJ6eZtyORxzRuD03OjorI1LxTpOkXRgvp5VZFDSvHbSyRwKejSuilYx3y5AwCelRah4x0TTLm4t7m5mea2RZJo7e0mnaNGBIciNWwuAfm6D1oA3KKyr/AMTaXp3kebNLM1xH5sSWdtLcs0fHz7YlYheR8x4561Evi7RJdIh1O2vGubW4leKE20EkzzMjFW2IilmAKnkAjAz05oA2qK5fU/HumWEekzW8V1ew6jdNbloLSd2hKqxYMqxkhwVx5ZAbqcfKa0brxRpVlfpaXUlxE7sieY1nN5KM+NqtLt2KxyOGYHkeoo3B6GvRXHxeNbTT9d8QW2t3knlWV2ix+XavILaIwRtukaNTsUsXO5yBwecKcdPHqFrNdXFvFKGlt0R5VAPyq2Spz0OcHpR0uD0dizRWLY6vb6prFpLYar5lrc6f9ojtPsxHmKWGJd5AI642++al1PxLpWkXqWV7PJ9rkiM0dvBbyTSSICASqIpLYJ5wDgcnjmj+vu/4YO5q0Vk/8JNpTaPFqcM01xbTNsQW1rLNIWGcr5aKXBGDkEZXBzjFRSeMNDi0+zvXvT5N7K0NuBDIXeVQxMewLuD/ACMNpAORtxnigDborn5PENnqdnbTabqr2QGox20qy2TiRnzkwtG6hoywI5IGAQe9Wm8TaXHqy6dJJOkzyeUkj2kqws+PuCYr5ZbgjAbOQR14o3/r0/zFf+v69DWorBk8a6DFdPbteSForj7LK62srRwy7gu2SQLtTJYY3EZyMVJqPi7RdKu5re9uZVa3QPcPHayyR24IyPMkVSsfHOGI4IPcUrq1yrM2qKitrmK8tIbm2bfDMiyRtgjcpGQcHnoalp7Eppq6CiiigYUUUUAFFFFABRRRQAUUUUAFFFFABRRRQAUUUUAFFFFABRRRQAUUUUAFFFFABRRRQAUUUUAFFFFABRRRQAUUUUAFFFFABRRRQAUUUUAFFFFABRRRQAUUUUAFFFFABRRRQAUUUUAFFFFABRRRQAUUUUAFFFFABRRRQAUUUUAFFFFABRRRQAUUUUAFFFFABRRRQAUUUUAFFFFABRRRQAUUUUAFFFFABRRRQAUUUUAYmvafdXureH5raLfHZ6gZpzuA2J5Eq55PPzMo49awtS8O6nP4d8d20Nrun1aWRrNfMUeaDbRIOc8fMrDnHSu4qtNqVjbtIs97bxGJkWQPKo2FzhAcngseB69qqMuX+vT/ACHfby/4P+ZxF/4YlXXdVa60jV9TttTdJFfT9Ze2jT90sbJLH56D+DO5VYkHHbB3tP0aez1rXJEtwltcW1vFbHeDu2RspHXPGR1roqiubqCzt2nu544IUxuklcKq5OBknjqahq6sStGn2OI8OaZrfheHTZJNGkv/ADNGs7KeO2lhEltLCGyCXdVZDvPKkkFehzmsbSNEvr/RNJ1VrG7uxBd6mlxa6ZqL20mJbpmDxyb4w6gp0ZgCGz1AFegar4b07WZxNe/bFfy/KJtb+e33rknDCN1DdT1z1NaFrawWVpFa2cKQQQoEjijUKqKBgAAdBVyk5Nt73Gvd0X9aWOOm0Ga00fSrrSdFvVktdV+3zWM16s1zJlHjJMkkpUthgcbyMDGc1n+INF1/WJ76ObT9UuJTdRPaSrqSwWkcAdG2GJJBvcfNnejZI4bG0V6NRU/1+X+Qbq39dX+pyv8AYt95PjIC3+bU3JtfnX96PsqIO/HzAjnH5VXgttb0a+kNto0l+t7p9vCHjniRbeWNWUiTcwO35gcoHPB46Z7Kilb9F91/8xt3afb/AIH+RxnhDQdT0ybRG1C2EX2XQUs5iJFbbMGUleDz0PI496fqt3dWXxKgms9Ll1L/AIlDho7eSNZAPOXkeYyqffLD8a7Cq/2C2OqDUfL/ANKEJgEm4/c3bsY6dR1603dyT7X/ABv+r+4hrR+dvwt/kcS2k+IIdPhlmtL5ob69uLu/07SruOKdN+DEvml0wFx8+xwSx4JXOW6J4X1WzGhCeyaNbTXL27lEl0JmSKRJwjF2JZyS6+rc8969Aooj7r07W/L/ACLburf11/zOC1XTbq28QT3E8WyK98Q2Mtu28fOqworHGcjBRuvpVe60PX7/AFS2e+sdSnubfV0na6bUlS0+zLNlRHAr4JCbc70DZ3fMxAz28mjWU2sxapMkkl1CpWLfO7Rx8EFljJ2K2CRuA3YJGcGr1EVy29b/AJf5fiKXvX9Lfn/mcZdaBqL+DPEtjHaj7Vf3dxLAm9R5gZhtOc4GQO9RakdW0LTvEsI0n7Tb3Ynuor9Z40ijDRYIm3NvBXb1VWBG3pzjuKxbzwlpGoX8l1eRXMpldZJYDfTiCRlAALQh/Lb7o6rzjmocbx5fK35f5DTs+bzv/X3ljw4rR+FdKR1KstlCCpGCDsHFaVFFayfNJsiEeWKj2CiiipKCiiigAqnd/wCuH+7Vyqd3/rh/u0Ac/resXuk3NiY7GCezuLiK3kla5ZJI2d9oITYQw5z94Vs1ynjXUEiWwtltdQnkjvra4b7Np886iNZAWO5EIyADxnPtWP4ut59S16zvLi1W40d7IeTHe6DPqCxzFiWLQIysjFSuGZTjDD5ckMLb5v8AL/hwtr8l+Z6HVTVdSt9H0m51C8LCG3jLsFGWPsB3JPAHqa4e08NC91nw5DqsU2rWMGmXSvJdWkscbEyRFEkjkJPAHCyZPyA9RkOexurT4WSxvbTxrp+ovOLcoQRbxXpcKqn+Hy1G0DtjFNx0vf8Aq9v+CC3/AK7XOrE+tnw19o+z2o1Ur5gtiW8sc58st13bfl3dN3OMcVa0nU4NZ0m31C03CKdNwVxhkPQqw7EHII9RU63ML2gullQwFPMEu75duM7s+mOaw/A8bL4XWdgVS8ubi7iUjGI5ZndOPdWB/Gjqw6J/1/X+Z19t/wAe6/j/ADqWorb/AI91/H+dS0gCiiigAooooAKKKKACiiigBsv+pf8A3TWRdtcpayNYxRTXAHyRzSmNGPuwViPyNa8v+pf/AHTWNe3kVhaPczrM6JjIggeZzk44RAWP4CgCp4f1WTWtFivZrdbaRnkR4kk8wKUdkOGwuR8uegrTrgdOlv7z4banYaRb6hbaoguGjWezmtmO+V2G1pAgJKnswIyORWTa6Ox0nWzpcYg8zR7iI2Fn4audOE7lflLGRmDuOQMc/MeTSbtccVdpHqlZFjq02pa9ewWsafYLD9zLMwO6SfglV7bVU4J7k442nOFpWgR6V4k0C4sNOa3MumzLfzrGd0j4h2+c55Zs7sbiT1q/4PPkQ6vp0hIurXUrh5Aw5KyuZUb3BVx+II7VWzfz/Owvsp9/+Cauqap/Zr2K+T5v2u7S2+9jZuBO7pz06U43V/8A2+LQab/xL/s3mG/89eJd2PK8vr053dO1ef6dpkTzaE8nh65bX7fUFbVNSlsCGBw4ZvPYDehPTYWAGBwMVrxz6ZafEz7VZ6ReQedbSW9zcxaNOqyzGVMFpBHhhgH5ySMd6UdXbzf5L9fxCWl/l+f+R29UxqUJ1ptL2v5624uC2Bt2liuOuc5HpXJpZ6aniy/l8UaJcX19Jdq1hdyabJdxxw4GwI6qwiw24nO05+Y561HrOgeHrPxsb/VPDEN3a3docyw6ObrM4kyS4RGIYhh8xHODzSWrj5/5f189A6P+uv8AXy1O8rG1vxRYaDJHHcpcTSu0YKW8e7yxJII1ZicBQWPc5OGwDg42B0GOlcl8QrvGix2UVrf3M7XVtMBa2E04CJOjMSyIQCApOCc0+qGtTZ8QapPolimorEstnA+b0c70i6F17fKcEg/wg45xnUVldAyEMrDIIPBFYmvapb/8IVfXuyXy5bZ0jjmhaKR2YbVTY4DAliAAR3rQ0m2kstFsrWd98sFvHG7epCgE/pQr63/r+v1F2t/Wxuxf6lP90U6mxf6lP90U6gAooooAKKKKACiiigAooooAKKKKAIrn/j3b8P51j6he/YLJpxbXF0wIVYbZNzuScADJAHJ6kgDqSBzWxc/8e7fh/Ouf1/Vn0TRLi+hsLrUZYwBHbWsTO8jE4HCgkDnJODgZ4PSkxrUTSNbj1ZrmI2txZXVo4Se1udm9MjcpyjMpBB4IJ7jqDW/af6k/71cX4MZHW9uLl7yXVLt1mvJZ9OntYwcbVjj81FyqgYHU9Setdpaf6k/71UInooopAFFFFABRRRQAUUUUAFFFFABRRRQAUUUUAFFFFABRRRQAUUUUAFFFFABRRRQAUUUUAFFFFABRRRQAUUUUAFFFFABRRRQBj67qN9bz2NhpAgW8vpGVZrlC8cKKu5mKAqWPQABh97OeOePmur6w1TX21eDTr6f7XpUR/ct5ThpAu/YxJVhnIG5sEA57V22s6HDrK27G4uLO6tZPNt7u2KiSJsYONwZSCCQQwI56ZAIzV8E2X+ltcX1/czXk9tcTzSyJuZ4GDIQAoVQdoyAAPQChbq/f+v1/rYe6/r+v6+aw32v6tqNzJpUunWmn2l0bfZc27yy3Gw4kYMsiiPnIAKt0z3xXPW17rNv4Z1+41q40/Voo9TaFIJbN9o/fqp+9K3yjPyrjgjqa6k+GlTV5b2y1XULKO4lWa4s4Gj8mZxgFjuQsuQADsZc49cksl8JW0qalC19eC11CZbh7YGPZFIGViyHZu+YqMgkjk4AqVfT0/HT/AIIS108/w1IZdQ1/U9U1GLQX061t9OkEJN5A8rXMmxXIG118tQGUZO8kk8DHNK28Sa1ruoWdvo6WNilzpaXzyXcbTmFy+0ptV03Dg85GMZ5zitS88LpcalcXlnquoaabsKLuK0aPZcYG0E70Yq23jchU4A54GLVloFjp19Fc2StEIbNLKOFT8ixqcj3zz1zT6r+uj/W39bj62/rVfpf+tuck8YXk3h/Tpo7uzstRn81ZYF0+e/Z2jYoxjhiYPs3AnecgZUHk0WnivWdaPh6PS47K0fVbCa5me5ieQQtG0Y4UMhIO8jBIIyD2wdKPwXb2skEmnapqFjJGJEd4WiJmR5TIUbdGcAMTgrtYA9as6X4UsdJfTGtpblzpttLaw+bIG3LIysSxxknKDn65zTW93/W//AApp4i1FtP8jyrY6uNT+wMgDeWBu378Zz/qPnxnrxXT1zGmWj6h44v9Z8m4hs4YEtoVniaLzZgW8yUKwBxt2KG6HBxxg109HT+v68/mHX+v68vkFFFFABRRRQAUUUUAFFFFABRRRQAUUUUAFFFFABUE8DSyAqQBjHNT0UAU/sknqv50fZJPVfzq5RQBT+ySeq/nR9jk9V/OrlFAGF/with/Yp0n7NH/AGeTk2+9tuN27bj+7n+HpjjGOK0fsbjoVq5RQAyJDHEFPUelPoooAKKKKACiiigAooooAKKKKAEcbo2A6kYqp9kk9V/OrlFAFP7JJ6r+dH2ST1X86uUUAU/sknqv51WOiQnUxqHloLsQmDzQxBKZztI6HB5GemTjGTnVooAp/ZJPVfzo+ySeq/nVyigCn9kk9V/Oj7JJ6r+dXKKAObuvBlpeXUlxNc6mryHJEOsXcSD6KkgUfQAVoWOjjT7RbaCSV0TODcXEkz8nPLuSx/E1qUUbaAZdzosN5NbS3UaSvayebDuJwj4K7sdM4J69M1Y+ySeq/nVyigBEG2NQeoGKWiigAooooAKKKKACiiigAooooAKKKKAGSoZIio6n1qt9kk9V/OrlFAFP7JJ6r+dWIIzFGQ2Cc54qSigAooooAKKKKACiiigAooooAKKKKACiiigAooooAKKKKACiiigAooooAKKKKACiiigAooooAKKKKACiiigAooooAKKKKACkJA6kD60tQz/w/jQBLvX+8Pzo3r/eH51VooAtb1/vD86N6/3h+dVaKALW9f7w/Ojev94fnVWigC1vX+8Pzo3r/eH51VooAtb1/vD86N6/3h+dVaKALW9f7w/Ojev94fnVWigC1vX+8Pzo3r/eH51VooAtb1/vD86N6/3h+dVaKALW9f7w/Ojev94fnVWigC1vX+8Pzo3r/eH51VooAtb1/vD86N6/3h+dVaKALW9f7w/Ojev94fnVWigC1vX+8Pzo3r/eH51VooAtb1/vD86N6/3h+dVaKALW9f7w/Ojev94fnVWigC1vX+8Pzo3r/eH51VooAtb1/vD86N6/3h+dVaKALW9f7w/Ojev94fnVWigC1vX+8Pzo3r/eH51VooAtb1/vD86N6/3h+dVaKALW9f7w/Ojev94fnVWigC1vX+8Pzo3r/eH51VooAtb1/vD86N6/3h+dVaKALW9f7w/Ojev94fnVWigC1vX+8Pzo3r/eH51VooAtb1/vD86N6/3h+dVaKALW9f7w/Ojev94fnVWigC1vX+8Pzo3r/eH51VooAtb1/vD86N6/3h+dVaKALW9f7w/Ojev94fnVWigC1vX+8Pzo3r/eH51VooAtb1/vD86N6/3h+dVaKALW9f7w/Ojev94fnVWigC1vX+8Pzo3r/eH51VooAtb1/vD86N6/3h+dVaKALW9f7w/Ojev94fnVWigC1vX+8Pzo3r/eH51VooAtb1/vD86N6/3h+dVaKALW9f7w/Ojev94fnVWigC1vX+8Pzo3r/eH51VooAtb1/vD86N6/3h+dVaKALW9f7w/Ojev94fnVWigC1vX+8Pzo3r/eH51VooAtb1/vD86N6/3h+dVaKALW9f7w/Ojev94fnVWigC1vX+8Pzo3r/eH51VooAtb1/vD86N6/3h+dVaKALW9f7w/Ojev94fnVWigC1vX+8Pzo3r/eH51VooAtb1/vD86N6/3h+dVaKALW9f7w/OgEHoQfpVWpYP4vwoAmooooAKKKKACoZ/4fxqaoZ/4fxoApXmoWenRCTULuC1jOcPPKEBwpY8k9gCfoCapr4m0F1s2XW9OYXzFbQi7j/wBIIO0hOfmOeOM88VS8TWT3mreGyLZp44NT82QiPcIwIJcMfTDFefXFc5qOiTDw/wDEM22mSC5vZ3e32QHfPi2iKlMDLYfdgj+LPeqirv8Ary/z/AbW1uv/AAf8jtrzW9K068gtNQ1Oztbm5OIIZ7hUeU5x8qk5PPHFMv8AxBo2lMRqmr2NkVYKRcXKR4JBIHzEckAn8K4rVNLlbWtdttVvPEENvqpQRpp+nx3MU8RiVCjOYJDGQwbhmUfNkdSa2rDRhF4h8QvLaPIstlbW8c00eTMqxsCucYbnqB3NQ3aNxLVpdzf1LWtL0eKOTV9Ss7BJTtja6nWIOfQFiM1laV4rtW8OnVPEF7Y6dH9tuLZZJZRFGfLmkRRlj1Kpnr61z/hprnQ10q613TtQkE2hWlskkdpLO8Mig+ZG6KpZCcqckYO3k8CqukHU9J8P6Zamyv8ARLNri/aR7PTTcXNsTcsYo1RUdVVlJO7aykKACMg1o42uvP8Ar+v6aTur/wBbHfy6xpkNnFdzajaR200ZljmedQjoF3Fg2cEBec9Mc00a9pDaQdVXVbI6cOt4LhPJHO37+dvXjr1rzrTYm0y18JnWdOvpWt9R1GXypbYPMg3yFX8tBycEH5AeuVGMVpSz6ilxf6tp9jd2On6hqMYeX+znkuY0WEq1wkG0sGZwqDchwBuKkGoe7X9f1/XoI6TU/Gvh/StItdTn1S1ks7udIIZoriMq5LhSQ24AheSxB4APpSWviSKfXtShe4tBplrYW15HdhxtKyGXLF87duIwQfc81yFvYah/wj2sTPBqlwq+IrW9Rrq02zzQobdmcRoi54VjgKDwQRuyKn1nT7698aXOtRWN1d6TFaWU8ti0Dxtd7WnOACAWeMlW8ojk4BwcVdko6/8ADXS/4PbYf9fj/kdrL4i0SC5tbafWLCOe8VWtonukDThjhSgJywJ6Y60t/wCING0piNU1exsirBSLi5SPBIJA+YjkgE/hXA+MrrVdY0zXbeCLWIRLbg2FrZaST9sQxKd00kkZ2sG3DYDG428AkrXTWul7vE3iS5nsiftFpbwpI8XEqhH3KCRyMnkVErxjcOqXc6jOelZ0GvaXffa49L1KyvJ7RT50UE6yNERnhgpyOQRz6Vj6fY6lP8Irawj82DU30VYQJSUdJTDjBzyDn16Vl6Dp8d1c2szXPiJ7mws5I0tr/TY7eKAMoUxh1gQP0GArMPlB9DRUXK5RXT/ghHVRb6/8A3tN8VWQ8H6RrHiK/sdNbULWKUmaZYYy7IGKrvP14yTWlfa3pWmRiTUtTs7NGTzA1xcJGCuQN2SemWUZ9WHrXnmn2Goabb6DcX0+u6dD/YFtahtP09bl4pV5kjkjMMjpnK8gAfIQeQtbmkaCmn+JvDot7e6ls7PSLpY57uIBo2eSEhThQEbbuAUAcAjHBrSSTm0u7/C/+RK0XyX6f5nTR65pMt9FZRapZPdzxiWK3W4QySIRkMq5yRjnI4pX1vSo9WTS5NTs01BxlLRrhRMwxnITOTwCenauM0/QnsfBulQWumPBLFronMaQFWRTctl8YyB5Zxnpt9qr2+jSSXdzpWsX3iJHl1R7kQwWEb28g87zI5PtHkHbgBc7pAw24HYVCs3/AF5f5/h9zv8A19/+X4/f3EniDRob2Kzl1axS6mcxxwNcoHdwcFQuckg8Yqva+LNGu/Et1oMN/AdQtgpaLzkyxOSQozkldvIxxkVzd1o0o8F+K1i0+T7VdX88yKITvlIZdjgYyfuggj04ratDJaeP9RE9vcBL60t/ImWB2jJTzNwZwNqkZHDEZyMZpR1Sb6r9Ae7X9bnR0UUUDCiiigAooqORiG4PagCSiofMb1o8xvWgCaiqst3HAYxPMkZkcIm9gN7HoBnqeOlLLcCGF5ZpFjjRSzOxACgdST6UAWaKx7TxDZ3On2l5JL9kjvX2WwuyImmJJ27QTn5gNwHXB6DpV0XsTSyxLPGZIQDKgYZQHkZHbOO9D03At0VmDXNObTF1FdStDYvgLdCdPKbJ2jD5x1469anN/AL4WZuYhdNGZRBvG8oDgtt64yQM0AXKKo2upW195v2K7hufIkMUvkyK/luOqtjoRnoeaseY3rQBNRWcNYsWgtphqFsYrtwlvIJl2zMc4CHPzHg8D0qqvizQX1L+z017TWvfMMX2YXcZk39Nu3Oc+1AG3RWcusWL6YdRS/tmsVUuboSqYgo6nfnGBg85pg1qD+2E01mZJpYPPgYgbJlBw2w9yvBI9GBoA1KKhDsWHPepqACikPCn6VF5jetAE1FUI9Ugl1KfT45s3VvGksse0/KrlgpzjBzsbp6VHpmt2esLctp1x5wtbh7aY7Cu2RPvLyBnHqOKANOiofMb1qKG8juVZreeOVUdo2MbBgrKcFTjuCMEdqALdFQ+Y3rUH9o2/wDaAsftcP2wx+cLfevmbM43beu3PGemaALtFQ+Y3rR5jetAE1FQ+Y3rUcl3HFLFFLNGkkxIjRmALkDJAHfgE0AWqKo3+pQ6Zp817fTCKCFSzsRnj2A5J7ADknioLjW4bHQX1fUvNs7aKDz5hLHl4lxkhlXPI7gZoA1aKoPqlrF9m867hiN2QtuJHCmUkZwoPJOOcVJHeRzSyxRTxvJCwWVFYExkgEAjscEHnsaALdFQ+Y3rR5jetAE1FQ+Y3rVOy1i11Ge8hs5vMkspvIuFKFdj7Q2ORzwwORkc0AaVFZmn6xDqTXMcO+Oa0mMM8MigOh6gkejDDA9wavxsS3J7UASUUUUAFFFFABRTXOFJFUdQ1ay0m1+06rfW9lBuC+bcyrGuT0GWwM0AaFFULDVbTVbUXWl3tve25JAlt5VkQkdRlcirPmN60ATUVD5jetUrLW7PUby9tbO48yawlEVyuwjy3KhgMkYPBHTNAGnRUcbEtye1SUAFFFFABRRRQAUUUUAFFFFABRRRQAUUUUAFFFFABRRRQAUUUUAFFFFABRRRQAUUUUAFSwfxfhUVSwfxfhQBNRRRQAUUUUAFQz/w/jU1Qz/w/jQBFRWXrOrTaebW3sLQXl9eSFIInl8pBgFmZ3wxVQB2UnJAxzkc9peoX8Gt+Kbu7sbe3uoYrUtG94BBgI2X80rkIBySUBGD8vTKuHVLudrRXFwfEJJ9Dvb2G1tb2azvILVk06/W4il81kAKS7RkjfyCByMdOa0rScyeMIU1LTYYNT/s12M0F00qLH5oGwZVc54OcDHT3p9V/XS4PRX/AK3sdFRXG63rEGi+Po5pUeaaTSmjt7aIZkuJDMMIo9fU9AASSACadrHjoaPcw6fd/wBjWupfZ1uJ4r/VxbxIGJAVHMZMhyp/hAHcjIyk7xT9fwbX6B1a/rp/mdHdaZDd6nY30jSCWxLmMKRtO9dpzx6fSrtc7o/jC21aNpzA1vatYJfRSvIDvQ7g4wOAUKjOCQdwINa2lXkuoaRa3lxbG0kuIlkMDNuMeRnBOBzTt/X9egtC5RRRQMKKKKACiiigAooooAKKKKACiiigAooooAKKKKACopfvfhUtRyKWbgdqAOE8T61qC+JLjTbK+1O0WGwWaI6Zpwui8zs4CykxuEGFGPu5yct6V7vVPEceoadobPqj3S6Yt3cy2AsvOklLbWH77bHtU/3FJ+ZckfxamveBpNZ1yTUM6TcCSFIxFq2l/bRCVzzGfMTaDnkYOSM1pW/g7Sl8P2OkajZQarBYoFiN9CkuPcAjA9MAcDApLb+vP+vuG9/68v8AL8WczrFtrV9pvhu41jULvSrs38cUsMK25VW+cLJyr4YjHAYrzjBrU8X28tt4Fe1urya9R7iCK5nuAis8LzoH3bFVcbSRwBx19a6F9E0+TShpb6baNp4UKLQwqYsA5A2YxjPPSmjQdOXRZNIj0+3i06SNo2tYowke1s7gFXAGcnp609r+t/y/yF1TZz/jawj1Cfw9ZP8AIsmoMoZeqH7NNhh7g4I+lc5ca8zReIDMsq3d6bPT5Y7ZGkdJCHSXaqgsxVRIwwM4XNeg6fpDW2n2kF/INQlsyTDcTRrvHUKf97acFhjPPAzipV0awW9a8XT7UXLSCVpxCu8vtKbt2M52krn0OKGkD6Pt/wAE82ku7O6fU/DsVvdJYXOo2c0ENzZyW+Y5ZFWVQsiqcBlY5Ax+8qe4ur/w5q1tq+txlr8aXeR7Ewxl8swKmMZ++wLAdR5mOteiT6VaXN1Fc3NlbzXEP+qlkiVnj5B4J5HIB49BRc6XaXskcl5ZQXDxHMbSxqxTkHgnpyqn6qPSjW1v62sNaSv0OG8KX1vp3ii1063S/WO+04CR7uwmtg9zFyzDzEXLMrEnGfuV35+6fpVbUtPlu4Fa2Fql5C2+3murfzliboSFDKc7Sw4Ydfwqlb2XihbmM3eraTLAGHmJFpciMw7gMbhgD74P0oeqsTscT8MWb7Ppn9uKqT/YsaRhsxmLnzCucfvc/eH93bjPzGtfwPDq5S9kivrJdP8A7XvN0DWTmU/v3ziTzQBz/sV1n9jWH2e2g/s+18m0cSW8fkrthYdGQY+UjJ5HrVZPCehR6l/aCaFpq3vmeb9pFpGJN/XduxnPvT+1f+t0VJ3v63/M5m40Nz42OjLMBot6Tq01tzkyowDRjt5bMUcj1DdmNa3i9QG0OaIA3UerQCE5wcNlZAP+2ZfI9q6E2kZuRcGGMzqhQS7RuCkgkZ64yBx7VRm0U3OvwaldSmRbSMi1gxhY3bIaQ88sVO0egLf3qS05V2/T/gWQnrfz/wAv89TRX7w+tT1CEYMOO9TUAI33T9K5/wAUajcadpMZs5VglubqG1FwyhhD5jhd+DwSM8Z4yRnI4roDyp+lVbmyivbWS2vLeO4glUrJFKoZXHoQeCKAON0C3dfHniW1/tu5vp1sbNGuXEHmwMTOQMIgUEAggMp685FXtF1G/g0TXJLu5l1ObTrqdInlRFeRUQMFPlqo6nsK2ovD+lwWb2kOlWUdtJF5LwpboEaPJOwrjBXLNx0+Y+tR6d4X0XR7hp9J0XT7GZl2NJa2scbFc5xlQDjgce1EtX8rf8H+u4dU/P8AS1jN8P22oX+kQ6jceJbm5a+tt4FvFbiGFnGcxfuyx29BuZvfNZ3gTTbqFb+WTXL+dYtUvEe2kSAIx81vmbbEGBOQ3BA54GOK6a08OaTYahLfWOkWNteTZ8y4ht0SR8nJywGTk8mkl8P2P2+XU7XTrCPVmQhL57VWkB24GWGGIxxjcOOMin9q/kGvLyvuX649NPtbD4rWYs4FiM2l3csrDlpHM0OWYnknoOewA6AVqrYeLgw36zoxXPIGkSgkf+BNSt4O8PPfG9fw9pbXZk80zmyj3l853bsZznnPWiOkk/X8VYOjRea/tEv0sXuoFu5EMiW5kAkZR1YL1I964XW9Y1y91rWLLR9Q1S2ubWWKCyistOWW3kJRGYyTPEyqwLEHLKAAOCeveNpts9+l89pA13GhjS4MamRVPVQ3UD2rkNX+HB1bUtQnmk0maO+fcZL3SRcXUClQpWOYyAKBglfkO0noanrqPoyPV9V12TxNc6Rph1VhY2sThrBbItMz7vmk88j5crjCAc7uegDNVtNWvtW8J3Go6pd6Td3DMstvbi3ZIJfs7lthaN8k4I5LDHT1rqrvwvpOo29tFq+mWup/Zk2RvfQpMwGBk5YHk4GfWrF1omn32nrYXunWtxZoFC20sKvGuOmFIxx2p7E7mB4khZG8M2l3O91A2qRieWbaDIVjkZCwUBf9YqHgAZAroNQsLbVdNuLC/j822uYzFLHuK7lIwRkYI/CoL7w9ZXuhHSRAttbKqiEW4CeQVIKMgHAKkAjjHFXbWC4jtIkupVnnVAJJVTYHbHJ25OMntmn0+f8AX5D6p/11/wAzlfGGnLf6l4es1Plnz5TE+M+W6wMyN+DAH8KxtP8AEBP/AAkN2n2iC7vNQtrZYrVI3lWY28asi+YQgYEMMt8vHfpXoklpHLLFLLDG8kJJjdlBKEjBIPbgkVUn8P6XcwXMNzpVlNFdyCS4jkt0ZZnGMM4I+Y8Dk+gqeo1ojg08Ta7HZX1r9ruI7i31izs1kvY7Z5kSYoGDiEmMkbiRjB6ZpNL8V6pYySz63rDT2i2eoyEvap+7+zXKxI2EClmIJyMgHjAXknvodA0y3t1gt9Ls4oUZHWNIEVVZDlSABjIPIPanf2Jp+1l/s202skiMPJXlZDukXp0Y8kdz1q00lr5/lb89Rf1+NzlPDer6qfGUmk6jJqTRvYfaRHqYs/NQhwoK/ZjjaQT94ZyvB611dnptrYTXctpF5b3k3nzncTvfaq55PHCgYHHFM0/w/pekf8grSrKx6/8AHtbpH1xn7oHXav5D0q/5belLpp/Wotbu/wDWhzQUR/E1jbgfvtJzdYPdZcREj/gUvPsa6aL734Vmabopsby9vZpTc3l7JmSUjG1Fz5cajPCqCfqSx71qRqVbkdqXRL+t7j6t/wBbWJKKKKACiiigBsn3DXNeKf8AXaF/2FYv/QXrpXGVIFUdQ0my1a1+zarY297BuDeVcxLIuR0OGyM0uq9V+DDo16nG3+p2+k+MdfvrSQpCmn26XjQRh83TSFY1xkDzCrAfMcAFCeKzpvE2vafZ+KoJLi+SfT9JF5btqSWjTRSHzB/y75Qr8oIDDPXtivQItD06HSm0yHTbSPT2BU2iQIIiDyRsxjn6VHB4b0i1s5LS10exhtpUMckMdsio6nJKlQMEcnj3prT+vX+vQd1v/XT/AC/ExNPuNVtfFlpYXurSX0V9pst04aCNBDIjxj93tXIX94eHLngc9c2PDM98NU12wv8AUZ9QWyuY0hluEiVwrQo5B8tFB5Y9q3X063lkEktrC7rG0IZkBIRsblz/AHTgZHQ4FUbDwnoWlXQutM0LTbO4UECa3tI43APUZABp3X9ev9IS2NaL734VLUcalW5HapKQBRRRQAUUUUAFFFFABRRRQAUUUUAFFFFABRRRQAUUUUAFFFFABRRRQAUUUUAFFFFABUsH8X4VFUsH8X4UATUUUUAFFFFABUM/8P41NUM/8P40AYut6RPqL2d1p96LK+spC8MrxebGwYbWV03LuBHowIIBz2OLP4KvLp7y5u9Xhnvbm4trlS9lmCN4eg8vflkOc4LZB53HFdfRSsgOVbwhdXCXzX+rLNcXt3a3TtHa7EQwMh2qu4nB2dySM9TWydKz4mXV/O6WZtfK2erht2c+2MYrRop/1+FvyB6qz/rqc/rXhK31vWF1C4naOSK1MMDxLiSCTeGEqP2I6YxggkHIJFR/2DrcV1HqFrrVouovbrb3by6ezwzhWJRhGJVKMNzD7xBz06Y6SihaKyDrf+v60OP8QwrqGtaNpMNyk9+CRqBULuFoVy5ZR90O6Rge/wBDXYUUUAFFFFABRRRQAUUUUAFFFFABRRRQAUUUUAFFFFABRRRQAUUUUAFFFFABRRRQAUUUUAFFFFABRRRQAUUUUAFFFFABRRRQAUUUUAFFFFABRRRQAUUUUAFFFFABRRRQAUUUUAFFFFABRRRQAUUUUAFFFFABRRRQAUUUUAFFFFABRRRQAUUUUAFFFFABRRRQAUUUUAFFFFABRRRQAUUUUAFFFFABRRRQAUUUUAFFFFABRRRQAUUUUAFFFFABUsH8X4VFUsH8X4UATUUUUAFFFFABRRRQAUUUUAFFFFABRRVbT9RtdUtTc2EvmxCWSIttK/MjlGGCB0ZSPwoAs0UUUAFFFVo9RtZtUuNOjlzdW8Ucsse0/KrlgpzjByUbp6UAWaKKKACiiigAooooAKKKKACiiq1jqFrqUDzWUvmxpLJCx2kYdGKsOR2YEUAWaKKKACiiigAooqtcyvHIAhwMelAFmishdYjbU5NPWfN1HCs7R7OiMSoOcY6qeOvFWftMv979BQBeoqj9pl/vfoKPtMv979BQBeoqgbqRVJZwABkkgcVmW/iZLvQpdWtIrme2QO0YjiBadV/ijX+IHGR6jBHUZAOiorLtNUW/s4buzuFmt5kDxyJghlPQ1ftnaSMlzk5oAlooooAKKKKACiiigAooooAKKbISsbEdQDiqf2mX+9+goAvUVkR6zHLqU+nxz5ureNJZY9h+VXLBTnGDnY3T0qPTPEFtrC3Ladc+cLW4e2mPlldsifeXkDOPUcUAbdFUftMv979BUUOoi5Vmt7iOVUdo2MZDBWU4KnHcEYI7UAadFUftMv8Ae/QVB/a0X9oCx+2Q/bDH5wt96+Zszjdt67c8Z6ZoA1aKo/aZf736Cq1vrEd1dXVtBPvms3WOddmNjFQwGSOflYHigDXoqj9pl/vfoKPtMv8Ae/QUAXqKyL/V00zT5r2+nEUEKlnYrnj2A5J7ADkniq134kXT9Ih1K/juLaCTZ5u+Nc2wbvJgnABOCRkDqeATQB0FFUPtMp6P+gq5AxeFWY5JoAfRRRQAUUUUAFFFFABRRRQAUUUUAFFMnYpCzKcEVm3mqLp9jPeXc3l29vG0sr7c7VUZJwBk8DtRsNJt2Rq0Vi6briatZi5tDcCInA+0WskDH32yKpxz1xiorXxNY3ekyanFfxrZRM6yTzDylQoxVs7gMYIIyaNtxbm/RWWNUjMsMYuojJOheJdy5kUYyVHcDI5HqKm+0y/3v0FAF6iqP2mX+9+go+0y/wB79BQBeorFfXYI9Yi0t7jF5NC06R+WfmRSATnGOCw4znmrn2mX+9+goAvUVR+0y/3v0FU7/XYdM+zfbrgx/ap1t4sRlt0jZ2jgHGcdTxQBtUVmDUQ1y9utxGZ0UO0QI3KpJAJHUA4PPsaINRF1F5lrcxzRhmTdGQw3KSGGR3BBBHYigDTorJvtWTTdPuL69m8q3t42llfZnaqjJOAMnj0p1pqYvrOG7tZd8E8ayRvtxuUjIOCM9DQBqUVQN1KASW6e1UtP8QW+qaPHqmnztPZyIXR1hbLAZzhcbs8HjGaANyisHSfElvraTtYSzZt5PKlSe1kgdG2hsFZFU9GB6d617aR5N285xjHFAE9FFFABRRRQAUUUUAFFFFABRRRQAUUUUAFFFFABRRRQAUUUUAFFFFAHPeKrvUIbrQ7TTL02Rvr8wTSrErts8mVuNwIByoIODyOQRkHmLnU/Ello/ia9bxBLL/wjVwwiX7LCDeKI0mKznZ6PsBjEeOpya7+60+1vZ7Sa5i3yWcvnQHcRsfay54PPysw59arTeHtLuLPVLWa13Q6sxa9XzGHmkoqHnOV+VVHGOlVFpPX+tv8Agjdnb+u//AOS1TW/E9/rGqx6Da6p/wAS2RYoFtBZGCV/LWT995ziTBLgYTbxyCSeLckviDVdZ1q2TWZdJSytbeSOO3ghkZZWjYsGZ1YMuQOBg8cMK3L3wtpV/fm8miuI52VVkNteTQCYL0EixuBJjOPmB446VeTTLSK6urlIcS3iqs7bj84UEKMZwMAnpWbT5bIS3TZyWkaxqfjD7GsOpvow/sm1vpfsaRPJJJOG4/eo4CDYegySevHOXoOoXEPhK0062vb86nPf6hKI9It4fMmVLqQOwM+Y40BYH5jk5ABJ69g/g/RWgsYkt5oBYQC2t3truaFxEMYQujhnXgcMSKYPBWgpZW1pbWktnFatI0H2O7mt2j8xtzqGjYNtLc7c7eBxwK1k4tu21xK6Vn/Whzem69r+s2PhyEXzWE93c3tteSNBE0pEJdA2BlFkygPGUzngjirMmuXti2paJd6ve3N3HdRQ2Vza20Jupy8Zl8rBUQhwFOWZVUKQTg/NVq+8E2P2zQbPT7DytLsprmVxDO0ZgaRWIZGDBlO5jjaeM8YFag8H6INNFkttMqCc3PnLdzC4MpGC5nDeYWwdud2dvHTioesn2BbnCajeavrXhmS21C91Gzn07xLZ2oeVLXz3VpIHUybFaPcvmZGzAO0ZB5FXb/Ub3TfiRdaVaXTJc6hY2Ft/alyq7YsNcEsQFCmVuirgKW9htPXxeENEh0u70+KzZbe8mFxP/pEm95QFxJv3bg/yKdwOcjOckmpJPC+kTw3UdxatOLu1jtJzNNI7SRx7tgLMxO4F2O7O7JznIFXzLlsv60V/yH/X43OT8X+ItS0uDULnQ73V719EhX7UsVvai2DqociZpArsWUgnyfugjgHGdG5k1vVPEGu2trrs2m29jbwSQC3t4XbeyOTuMiNleBxweOoq/d+BPD9/HLHeW1zNHPGI543v7gpPhdoaRd+HcAD52Bb5VOcgY2I9MtIrq6uI4cS3aqk7bj84UELxnjAJ6VEtY6bh9pMzdN1XUNY8A2urWMMI1K801biGJyfL81o9wB9txrmv+Ek1DTdBv9t7ql9q0clrA9lqNrbxS2rSyeXuUoEjkU8lTuK5XG7rjs49GsYdBTRoomSwjtxbJGsrArGF2gBs7s475z71Vh8KaPDZXdq1tJcx3qhbhry4kuJJFH3VMkjM2BkkDOASSMEk1UrOTa2/4P4aCWkUjlbnVPFumaBrU0o1GGOK3R7S71ZLNpVlL4Zdtu21kxg8gHOeTxi+YPELeLJ9FHie4W1ayF4JxaQefG5crsU7Nnl8ZwyFv9qtuPwrpUen3Nk6XVxDdBRL9qvp52IByAHdywGecAgVoCwthqZ1Dy/9KaEQGTcfuAlsY6dSeetQ1d/15/rYNdf6/rQ5rwx4gv8AVbrSVvJUP2jSnnlVEADyrKqbx3HU8ZxzVKPxFeXmiCEX9+2oz6leRW6aZBA00kcMzrgGUeUoVduWfr0zuIroJvCOjTWtnB5E8K2QZbd7a7mhkRW+8u9HDEHjIJxwPQUz/hDNCXT4LK3tJLSG3lklh+x3Utu0bOSX2vGwYKST8ucdOOBT3Wv9a3/4A1Zf15W/PUj8E6rfat4daTVRJ9qgu57ZjKqCQiORlBcRkpuwBnb8uc44rmfB2p3d/rFzottctp0VnqF5dzMUUyXqm6kGyMMpGwH77D5gSoGM5ru9L0ix0Sza10u3FvA0rylAxPzOxZjyT1JJqq3hfSGjgX7Kym3unvIXSZ1dJXYs5DBs4Ys2Vzgg4xjimn1G7WaXf/M5LTda8WarcWuo2dnqjW9xdbXif7CLOODeVZgd/n71XnnOWBG0A4Gtp2rardQ6Tpj3H/ExjuZI9Sm8tQWjg4ZtuMDzCYjx0EnHStSDwrpNpqTX9tDcRyGUzGFLyYQGQ9W8jf5eSec7fvc9ear+HtMn/tjVddv7NrKfUHRY7aR1Z440ULltjMu5iMnBPAQHkcEdEkxPq/6/4B0NFFFIAqnd/wCuH+7Vyq1zE8kgKLkYx1oA8z8T6tqGj+O7meySOO3bTLZLu+Yb/sUZmm/e+X/GB3ORt+8QQCKtavqurpr1pomm3Gq3SLYC6N1YCy8+4Jcrk+dtj2gAE7F6sv3R97tzpiNO8zWsRlkjETyFV3MgJIUnuOTx7mqU/hLSLqwgsbnQ9PmtLf8A1NvJbRtHF/uqRgfhSWit/XUqTu7+S/Cxzo1vV9Hh0jUPFDC0tpo5Le+iZY8QyDLRyllJC7ghUgMRl1FSSP4nm8JW9zbvO15c3HnzRRLCk8FuxJEcfmDy96goDvznDc5xjU1Dwk99Dbacn2W20OEoz2ENsFLlG3KoYNtVMhcqEycdea0dR0Gz1i3WDVtNtb6FW3rHcxJIobpnDZGeTT3/AK/r/htCVp/X9f1qcfqepNdfC/WWF1fyTQLLBdNfLHHNFg4cExAJwp4K5BGOTXZwRxQ28cduqrEiBUVegUDgD8KSHRLa203+z7axghsthT7PEipGFPUbRxg5NU7Pw/faf4dbS7S/cMiNHa3MiB3hT+AHJ+cqOAT1wM55yd/6/r+vmrf1/X4md4NUR2epxQgC1i1S5W3wcgLuyQPYOXGPauutP9Sf96s7TdGTSdNhsrONhFCuAWfczHqWJPUkkknuTWnbI0cZDjBzmjZJdh92S0UUUAFFFFABRRRQAUUUUANl/wBS/wDumuV8UajcadpMZs5VglubqG1FwyhhD5jhd+DwSM8Z4yRnI4rqpAWjYDqQQKzrnTVvbWS2vLaO4glUrJFKoZXHoQeCKAOK0C3dfHniW1/tu5vp1sbNGuXEHmwMTOQMIgUEAggMp685FXtF1G/g0TXJLu5l1ObTrqdInlRFeRUQMFPlqo6nsK3YvDWnQWb2kOkWUdtJF5LwpAgRo8k7CuMFcs3HT5j61Hp3hLSNHuGn0nQ9PsZmXY0lrbRxsVznGVAOOBx7US1fyt/wf67h1T8/0tYyvD9tqF/pEOo3HiW5uWvrbeBbxW4hhZxnMX7ssdvQbmb3zWd4E026hW/lk1y/nWLVLxHtpEgCMfNb5m2xBgTkNwQOeBjiuptPC+mWGoS31jo9jbXk2fMuIbdEkfJycsBk5PJpsvhq0+3y6na6ZYR6syEJfPbI0gO3AywwxGOMbhxxkU/tX8g15eV9y7XHpp9rYfFazFnAsRm0u7llYctI5mhyzE8k9Bz2AHQCthdL8Yhhv1jRiueQNIlBI/8AAqpW8E6C98b1/DultdmTzTObOLeXznduxnOec9aI6ST9fxVg6NFtr+0S/Sxe6gW7kQyJbmQCRlHVgvUj3rgLjVb+x8ca1apKum6dd38Ec2rAK7QObeLam1htXd0DtuAPBXJBr0RtIhe/S+eyga7jQxpcFFMiqeqhuoHtTZdEtp47mOewt5Eu/wDj4V41Im4A+cH73AA57Cp63KTsmjjNY1bXJfFF1pOl/wBqEWVrFIGsFsi0rPu+aTz2Hy5XGEA/i56AWJvEWpaHLZ3niQeVDeaf81ogU+TeINxjVhksXBIAyeU4610d94U0nVI4E1LRNPvEt12QrcW0cgiXjhcjgcDp6VWu/C899f2SzSW6aTYuksFjFbhT5ifcJfcRtXqFVV5A5I4L8v66/wBetiTD1OK+Fj4Ut9emFxJLqcbXjFVVd/lyOi4UYwJAgH+6MkmurvYYLiwuIbxVa3kiZZVfoVIwQfbFJq+hLrWly2V0rKr4ZZEYBo3Ugq6nsysAR9Kr6hoF7qehx6dd3jDeFS8lhQIZ1x86jn5N3TIJIBOOcEJ6xa/rUa3T/rq/1KXgh55PAmitd7jKbKLJckkjaMEk98Yrq7b/AI91/H+dVI7N4o1jjiCIgCqowAAO1XYFKQqrDBFVJ3bYlsPooopAFFFFABRRRQAUUUUAFFFFAEVz/wAe7fh/OuX8Zf8AIi67/wBg64/9FtXVTqXhZVGSax9Z0aXV9Cv9O3eT9stpIPMwG2blK5xkZxnpmpmm4tIum0ppvuJp/wDyDLX/AK4p/wCgiuf8U6baaV8OdXtbCLyofKlk27i3zO5djkknlmJ/Gug0nTdTtNPSDU57e6lj+VZLeAwrtAAA2l3598/hVqfTxdQPBc26TRSDDxyAMrD0IPWtJO7ZlFe6kefJcR6R400+wnYRRaVZXrRsRkC3IhZDgc4XDJjr8nvVVfFGtQXq/v8AUlivNMubuIajHZ4BRAyPEISWA56SZ4xznNejvpEMl4t3JZwvcpGYlmZFLqh6qG64OOlVLTwjo+no6WGh6daq4IZYbaNA2Rg5wOcjj6Vm02mv66ml9jhNP1zxD/aVo9zrTTQvNY74Ps0Sq32hCWXIXIVcfLznrlm6Ce58Uah/bVjd2NzqT2Fzqosh50dotpIN7RsFGftG4EE56EqTjbXeLoVqpUrp1sCpQgiJeCgwn/fPb07VBH4U0mK/kvotE09LuVt8lwttGJHbcGyWxkncAc+oBq1bmv0vf5aafmZpS5bN62/z1/L7h7abavq0eptFm8ihaBJNx4RirEYzjqq84zxT5L21ivIrSW5hS5nVmihaQB5Av3iq9SBkZx0q59ml/u/qKxLvwpLqHiux1i9ljZNNDmzhSIKyu67WLuWO4Y6ABcd88YXkUa1VrzT7XUPs/wBsi8z7PMs8XzEbXXoeDz16Hir32aX+7+oo+zS/3f1FAHL2xEfxK1AP8pl0u3KZ/iCyy7sfTcufqPWsPSv7ZPgu2k0Lz2jl1K7llayaHz2haeVkaLzsxnOVJ3fw5xzXbal4csNZSNNY0qzv1jJKLdQpKFJ6kbgcUl/4a07VbeKDU9Jsr2GH/VR3ECSKnGOAQQOPSi75bDbu7/1tYwVu5tT8DPdafrGpW9xbrKXnlhgE/mR7g0br5Zj4YYO0duD3K3mtzQ+DtKnea5+3aikMcZtI4jLJI6bjs8zEanAY5bjjp0Fbdz4W0u80+Gwu9GsZ7O3x5NtLbxtHHgYG1SMDg44pieENGj0x9OTQtOWxkfzHtRaxiJm4+YpjBPA5x2FHV/L/AIP3/oLqvn/wPuMTwVq1/qL6zaam9xI1hdiFDdiDzgDGrEP5BMZILHpjjGec10Gnada6Tp0Nhp8Xk20C7I03Fto+pJJqay0W302HytOsbe0jwBsgjVBwMDgeg4qaS1uTE4h2rIVO1mG4A9iRkZHtkUAc34c/5GHxR/2EY/8A0mhrq7P+P8KwtA8Pahpcuo3Go3UN3cX9wJ3aC3MKLiNUACl3PRM5z3roLaN4928YzjHNN7L0X5DerJ6KKKQgooooAKKKKACiiigAooooAKKKKACiiigAooooAKKKKACkZwv3jilqGf8Ah/GgB/mp6/pR5qev6VXooAseanr+lHmp6/pVeigCx5qev6Ueanr+lV6KALHmp6/pR5qev6VXooAseanr+lHmp6/pVeigCx5qev6Ueanr+lV6KALHmp6/pR5qev6VXooAseanr+lHmp6/pVeigCx5qev6Ueanr+lV6KALHmp6/pR5qev6VXooAseanr+lHmp6/pVeigCx5qev6Ueanr+lV6KALHmp6/pR5qev6VXooAseanr+lHmp6/pVeigCx5qev6Ueanr+lV6KALHmp6/pR5qev6VXooAseanr+lHmp6/pVeigCx5qev6Ueanr+lV6KALHmp6/pR5qev6VXooAseanr+lHmp6/pVeigCx5qev6Ueanr+lV6KALHmp6/pR5qev6VXooAseanr+lHmp6/pVeigCx5qev6Ueanr+lV6KALHmp6/pR5qev6VXooAseanr+lHmp6/pVeigCx5qev6Ueanr+lV6KALHmp6/pR5qev6VXooAseanr+lHmp6/pVeigCx5qev6Ueanr+lV6KALHmp6/pR5qev6VXooAseanr+lHmp6/pVeigCx5qev6Ueanr+lV6KALHmp6/pR5qev6VXooAseanr+lHmp6/pVeigCx5qev6Ueanr+lV6KALHmp6/pR5qev6VXooAseanr+lHmp6/pVeigCx5qev6Ueanr+lV6KALHmp6/pR5qev6VXooAseanr+lHmp6/pVeigCx5qev6Ueanr+lV6KALHmp6/pR5qev6VXooAseanr+lHmp6/pVeigCx5qev6Ueanr+lV6KALHmp6/pR5qev6VXooAseanr+lHmp6/pVeigCx5qev6Ueanr+lV6KALHmp6/pR5qev6VXooAseanr+lHmp6/pVeigCx5qev6U5XDfdOaq1LB/F+FAE1FFFABRRRQAVDP8Aw/jU1Qz/AMP40ARUVy3jK0gv9R8NW15GJYJNTIeNvuuPs83BHcHuDwRweK5G/wBB0y08O+N7m3sokk0e5d9MOOLAiCKXMI6R/vGLHbjPeqjHmf8AXl/mNq1vP/g/5Hq9FeV+ILeK+8TatFr2saJp07NGNObU7FpLhIzGuGtX85MN5m77g3bgM5+Wtj/hHdO1bxF4jTXLaLUjFaWqg3CblDeU+XCnhW/2hyPWobtG4lq0u53lZug6v/bemNeeR5G25ng2b93+qlaPOcDrszjtnvXBaZd6Rfw6PL8QHtprefQ7SSzfVNhgkmIPmld3Bl+5/tYPHeqVjd6d/wAIjpenX8WmQ2VxeahKl54iQyQxMty4VDG7KXlYMfvMCMMeTkVo42uut7CTur/1seuUV5Hp0unyaJ4T/wCEimU2EV5qMLmRHihEaNIiq6sTtjCgDa5wAADVp73SrbT9Qi06300+F7zUY4IJrz/kHQERFpJAuQrR71ChQVUyZ5B5qHo2uw0ek32oWumwpLey+Ukk0cCnaTl3YIo4HdiBnpVa31f7R4mv9I8jb9jtoJ/N353+YZBjGOMeX1zzn2ry5LPT7vwdqS3kem3mnab4jtmjeKzEVrDbk27SNGjFtkZDuSQSpDE9DWhq4h/4Sy8NqIz4WXTbBr5bHHNsDcbNoXgw9NwXnb04yKvlSjd/1dJ/qD/r77HqdFePeN9S0q6tdUl086DZz6baodNkaDz7udBGsiSWpVl8qNSThlDj5WJwAa6eXQdL1vxR4mOsWUN8q2ttsS4XeqHy3+ZQeA3+0Ofeol7seYOqXc7qiuW0q5a++E9ncalqMlq0+jo098Gw8ZaEZkz6jOc1yUMsKeFtZg8OW+kRLA1qLnVdDiL29zF5h8zciEEOqZLqHLbWB3cjFSi4yce3+dhJ3in3PVqK8ol0+wTwl4im0jWdFu7SS3ijkttAtfs8CPv++dsrgORwcYOAue1b3/CI6C/jy4s20u3NlJpqzSWZTMEkvmMPNaP7rSY43kbveob1t/XV/oF9/L9TuaK860DWLTSf+EfvNcvo7W3k0qW2S6u5QqF1lXCF2P3to4ycnB64NUI9SsZfCtvBqEWmxWV9q1+/2rXY/wDR4Cs7lQ8TFdzsCcKxXGCeowX0uv61t/wRpPr/AFpf/gHqlFcl8OCzeE5InkSRIb66hj8uJo0CLMwVVRiSqgcBcnAwKoWNux1C38MtG8kGhzveFBj54hzarj6tx7wUafr8h23+47ys/QtU/trQ7bUPJ8jz1LeXu3beSOuBnpXnPh68tLnxlod/pz6NBLfGb7Xa6bA3nx5iLbLmbd877gDh0VtwPoav6Bqlloq+GrzV7mKytJdNuYFubiQJGJPNjYIWJwCQrEDvtNFndJk33sej0V5PLMLrw9FJNPa2ukza/fG6fU7RpbcAySeX5yb0wu7+8cBtuR0rsvA1pDa6RcGy1Wx1GzluC8H9nQeVbQjaoKRDe427gTw2ASw4waI6q/8AXT/MqSs7ep01RS/e/Cpail+9+FAhlFch4ig1LS9cfUNCtmlk1W2+xybI2YRzj/UytjooDOGJ9FrN8RaVHZR6ToUekwXOnWtntjmutGm1NDICFC7I2URsRk7265PTml/X5/18w2/r+v6R1PibV73QtIk1CzsoLyKBS86y3LQsF/2cI24+xx9a1wcgGvPbiS6s/g/Bpl9Z6lJqM1kYlhjspp2DA4w2wNt4xjcfoTWprt19puvDWt29pfyWdneyNOBYzecitDIgPk7PMxuIH3e+enNVoLX8Dr6K80v7XVb7SL6eKwuILWfXPPuLe6sWmMtt5KgEwKwaRd20lAc8EEHBWrFjpEX/AAh+tQG6uLe0uHTZb2Xh+5tkgIxkLbPuZ0Y43hRtI3dMk0un3foNb2/rdnoROBk8CsnQdWn1y1nv0jjisZHK2LHJaVBx5jdsMeVA/hwc84GN4RtnOj6paW+lWmnRMcQ3Fppj6eJyU5Jgk+ZSp43EkHjHQitLwTOk3grS0VfLe2t1tpov+eUkY2Oh+jKRR3+X9fL9RX2/r+v+AWNA1eTU4bmC9jWHULCb7PdxpnbuwCHXPO1lIYZ9cdQa2ou9cxoTC78W+Ib6BibcPDaAj7rSRqS5HrgyBT7qR2rp4u9AySiiigAooooAKKKKAEb7p+lQVO33T9K5rxjFPNoGyKGaeD7REbuGBSzyW+8eYoA5b5c5UZJGRg5xQBct9X8/xLfaT5G37JbwT+bvzv8AMMgxjHGPL655z7VLpl1fXS3J1HT/ALCY7h44R56yebGPuycfdz/dPIrkfD9jptrrviG5tfDslhos9hbKIhphjW5wZt+IQu4nBAKldx44wQS7wo6RaZr2m6Jp93pskk881ismmTWsSqVUKQXRVHzfw9epxTlo3ZdL/l/X3h1Xr+h3NUtM1SHVoZ5bdZFWG5ltm8wAEtG5UkYJ4yOK5nwpp3h424tT4elg1J7Yx30t9pbh5icCQPcMu2Xc3PDsG6jIqHwfo2jaLrF5anw8tpqS3tw8F1HpTBPJZiyBZwmwDYQNu4YxjFFvet5B9m/mdzWLbeKLG88SHRreO4eXyZJROYtsTeW6o6qTyxBYcgFeozkEDarirnVYz8T7O4FlqhghsJ7R5hpVyYxK0sRA3eXgjCsd2dvHWiOskn5/kHRv+tztaKoS6r5evQaX9gvX86FpftaQ5t0wcbWfPDHsMVy2s6Tepquo6PY28h0/xEUeWaNG225+7cbmHC7owu31YtS3A7isXxDrN7oi208Fjb3NrJcRQTO900ckZkkVAVUIwb72Tll6Vynje1e+1STTjodvNDFZKtnJNos1+JHbcCkbKypbkYX5mIzlSSAoqzrd5NH4F0WzurXVLi/P2GaUR2E87DZJG0hdlQ4YBWOCc01a6fmh9bf10/zO8orj9QvPI8ZaVr32PUJbF9NntwYrGZpFkaSJlDRhdyZCtywA45IrnrrTdUk8O6ILuwZLFbm8a9tLvTXvgrNIxiLwRuC4HzYI3AEqcHhguif9b/194utv62PUahu7uGxspru7kEUEEbSSO3RVAyT+VcGNJh/4QM29zc3Elu195sMCeH7nyUAOfJa0O5zDkE4yAMjBGBU62VzefCzV7K00iCyYxzLBDa2Zs1uQOd3kON0e7lcNk984IoezGt0dNpd3qepaCbySGG0ubhWktYpFLeUpH7vzBkZboWAxjOB0yX6Dq/8AbOm+dJF9nuYZGguoCc+VKpwy57juD3BB71Z06+t9S0y2vbNxJBcRLJGw7qRkVi+Ex595r+oRHNteakxhI6MI40iZh9WRvwAp/aa/rdEr4UzqIvu/jT6ZF938afSGFFFFABRRRQAUUUUANk+4azNZ1D+yNCv9R8rzvsdtJP5e7bv2qWxnBxnHXFacn3DXP+Mv+RF13/sHXH/otqmbai2i6aTmk+5c0m5vrvT0n1O1t7WWT5ljt7hpl2kAg7iic+2PxrKtPFySeD7jX7qykjS3lmjMELiRm8uVo8gnaOSuecYzW1p//IMtf+uKf+gisrxtFLP4M1GO3hlnkMYIjhjLs2GB4UAk/QVc9G7GSbcbk2n+Iku9U/s290690u8aIzRRXYjPnIDhirRu6nBIyM5GQcYNbFchdXNxruvWWoaZp179n0qG4kLXUElq08rptWJBIA3uWxgcYJOcc54csrtvEdnewaWlqstlOLw22hz2B8xlUhZWkcmY5zhsdc85OKlvT+vP+v8Ah0V1t/X9f13PUqpC6vjrjWp0/FgLcSC+89eZN2PL8vr053dO1cJ4b8Nf2XY+BrqDSpLe/wBuzUZzE3nBPsr/ACSsfm2hwgCtwCFAAwBWhazaZZ/EqS4sdHvLYXNs0E9xFos6LLOZQcs4jwe53k496uUbTUfX9RX92/p+f9fI6OXWmi8XW2iC23CezkuvP8z7ux0Xbtxznf1z26Vq0Vl3+v22na9pmk3ENwZdT8wQSomYwyLuKsc5BIyRx2NT2Q/M1KxdY8UWOi3ltazx3E0s80UREEW4ReY+xWdjgAFj0zuPJAIBxtVx/j69At7C0itNQuJY9RtLlvs2nzzKI0mVmO5EK5AUnGc+3NNW5kn3QdGbWpa+tjfCytdPvNTuxF50kNn5eYkJIDMZHUckEAAknB44qHVfE0Nl4KufEdlEbuGK2NwkTExFwOxyCVPsRwaz9ba2a7ttUsZdetb25t/LVdP09ibhAcqknmxMsRBJwX2Ebjk46avhXS5tG8MWdldMxmRS0m6QyEMzFiNx5bBbGe+KS2/r+v69A6+Rcu5b5bDzNNtree5IBEVxcGJPf51Rz/47UOgao2taDaajJALdp03NEsm8KckY3YGenoK0D0rB8D/8iVpv/XM/+hGjqB0sf3BTqbH9wU6gAooooAKKKKACiiigAooooAKKKKACiiigAooooAKlg/i/Coqlg/i/CgCaiiigAooooAKhn/h/GpqZJHvxzjFAFeipfI/2v0o8j/a/SgCKipfI/wBr9KPI/wBr9KAIqKl8j/a/SjyP9r9KAMm90r7ZrOmX/nbPsDSny9md+9NvXPGOvetGpfI/2v0o8j/a/SgCKipfI/2v0o8j/a/SgCKipfI/2v0o8j/a/SgCKipfI/2v0o8j/a/SgCKipfI/2v0o8j/a/SgCKipfI/2v0o8j/a/SgCKipfI/2v0o8j/a/SgCKipfI/2v0o8j/a/SgCKipfI/2v0o8j/a/SgCKmMm45zirHkf7X6UeR/tfpQBW8r3/Sjyvf8ASrPkf7X6UeR/tfpQBW8r3/Sjyvf9Ks+R/tfpR5H+1+lAFbyvf9KPK9/0qz5H+1+lHkf7X6UAVvK9/wBKrQ6Ta29zdTwRiOS7IadlJG9gNobGeuMDPXgegrS8j/a/SjyP9r9KAM6x02202xis7GNYYIV2og7D69Se+TyatIm3POan8j/a/SjyP9r9KAIqKl8j/a/SjyP9r9KAIqKl8j/a/SjyP9r9KAIqKl8j/a/SjyP9r9KAISMgimeV7/pVnyP9r9KPI/2v0oAreV7/AKUeV7/pVnyP9r9KPI/2v0oAreV7/pTJrVZ4JIXZwsilSUcowBGOGUgg+4ORVzyP9r9KPI/2v0oA5lfBemqwYXes5Bzzrd4R+Xm1u+V7/pVnyP8Aa/SjyP8Aa/SgCt5Xv+lHle/6VZ8j/a/SjyP9r9KAK3le/wClHle/6VZ8j/a/SjyP9r9KAK3le/6UeV7/AKVZ8j/a/SjyP9r9KAK3le/6UeV7/pVnyP8Aa/SjyP8Aa/SgDJj0Oyhsrm0gi8qC6Z2lSNmXJf7xGD8uSSeMcknqasW9lDaWsVtaokMEKBI40XCooGAAOwAq95H+1+lHkf7X6UAQKu0Y606pfI/2v0o8j/a/SgCKipfI/wBr9KPI/wBr9KAIqKl8j/a/SjyP9r9KAIqKl8j/AGv0o8j/AGv0oAhYblxVW806DULGezu18y3uI2ilTJG5WGCMg5HB7VoeR/tfpR5H+1+lG402ndGVpuj2+k2YtrR7gxA5H2i5knYe26RmOOOmcVc8r3/SrPkf7X6UeR/tfpQIreV7/pR5Xv8ApVnyP9r9KPI/2v0oAreV7/pR5Xv+lWfI/wBr9KPI/wBr9KAK3le/6VR/sKxOsjVXjMl4qeWkkkjOIgeuxSdqZ7lQCe+a1/I/2v0o8j/a/SgCt5Xv+lHle/6VZ8j/AGv0o8j/AGv0oAreV7/pR5Xv+lWfI/2v0o8j/a/SgDNv9Mi1G0a3uJLhEYgk29xJA/H+3GwYfnRp2lW2lafDY2KmO3gXbGrMzkD6sST9Sa0vI/2v0o8j/a/SgCFRtXFLUvkf7X6UeR/tfpQBFRUvkf7X6UeR/tfpQBFRUvkf7X6UeR/tfpQBFRUvkf7X6UeR/tfpQBFRUvkf7X6UeR/tfpQBFRUvkf7X6UeR/tfpQBFRUvkf7X6UeR/tfpQBFRUvkf7X6UeR/tfpQBFUsH8X4UeR/tfpT449mec5oAfRRRQAUUUUAFFFFABRWXrevQ6H9jWW1urqW9n+zwRWyBmZ9jOAckADCEZJwO+BkjG/4WDaLDcyyaNq0aWEvlakXiiAsDxy58zDjaQ+Y9+F5OKa12B6bnW0Vg6l4rg0+e5WPTr6+hsgDe3NqsbJajaG+YM4ZiFIYhAxwRxyAYrvxnBDeXdrYaVqWqSWcMc8v2NI9vlupYMC7qD937o+b0BqboDo6KwZvFls32ZdHsrvWZLi2W7CWXljZC33XYyOgGecDOTg8cGorfxpZ32l213p1hf3U11LNHDZLGkc7eU5R2IdlVQCP4iOoGMnFVZhudHRXH3fiA6lq3hh7Jrm1D6pNb3drIdjKyW0xMbgEg4YA8Eg8EE8GtkeJbM6NYan5c/k380UMS7RuBkbaM84xk84Jott5ht/X9djXorFufEgs9VitbvS7+G2mnW3jv2EfktI3AGA/mDJ4yUAz3wQaxPEfiprzw7raaVbahA1jI0El6CsaJIrqCoO/cchuoBHUEg8VN/6/r1Qm7b/ANf1Y7WisiDxFBeSagNPtLq8isSUM0KqUmlH3ooyWGWB4J4UHILZBxRk8b2dpp+pXGp6fqFhLpoje4tJUjeXZIcI6+W7KwJDDg5+U8dMvpcZ0tFZGm+IVv8AVZdOuNOvdOuUiE8a3Yj/AH0e7buUo7dDjIOGGRkc1JrGsTaUoaDRtQ1MbGeQ2flDywPXzJEyTzwuTx06ZPMFq7GnRXKx+L57vxZp9jp2mT3emX1h9rS9jMYBBZMP80gbaA3I27skYB5q+3iVYdagsLzS7+1juZmgtryVY/KmkCltoCuXXIViCygHHXkZP6/QV7/18zborIHiWzOjWGp+XP5N/NFDEu0bgZG2jPOMZPOCa16N1cfWwUUUUAFFFFABRRRQAUUUUAFFFFABRRRQAUUUUAFFFFABRRRQAUUUUAFFFFABRRRQAUUUUAFFFFABRRRQAUUUUAFFFFABRRRQAUUUUAFFFFABRRRQAUUUUAFFFFABRRRQAUUUUAFFFFABRRRQAUUUUAFFFFABRRRQAUUUUAFFFFABRRRQAUUUUAFFFFABRRRQAUUUUAFFFFABRRRQAUUUUAFFFFABRRRQAUUUUAFFFFABRRRQBk6zpU+o6lotxA0app96biUOSCy+TImFwOuXHXHGax7/AMKX11oXjGyjltxJrsjvbFmbCBreOMb+OOUPTPGPpXXUU4ycdv62/wAh328v+D/mcNf+Bg/iC+vR4e8Oayl+6SNLqiAS2zBFQgfun8xcKGAJXnIzzkb1poktrq+s3KmFYL2GGOBEyNmxGU5GMAcjGM1t0VLV1ZiWjT7HD6Poes+GIrEWMumXcsWkWtpfW9xdNCsZiDASowjYlTlxhgM7RyORWNo3hOXWvC+j6nLY6TrMkNxfP9n1KLEFzFPcM4lQ7ZNh4VlOG+ViO+a9A1Pw7omtyRyazo9hqDxjajXdqkpQegLA4qxLfWtreWtnK4Sa63LAgU/NtXJ6DAwPWrlJyu3u2Je7ov66HPQeFpI28Pva6fpelJp97LdXFrYDEYDQyRjYQi7jl1ySF6GqSeG/Ef2DTdJZtNWx03UIp0uBLIZZ4Uk3BSmwBGAxzuYEjtnjt6KV9U+wW0t/X9annz+BtRm1aG5ubTSJp4NUW8/teaR5LuSIS7hEAU/dgKQoAcr8vRd3GteeFby58Ka5pfmQebqN5LPGSzbQrOGAY4yDgds11dFTZWt/Wtv8kDV3/Xn/AJs4yXwtrNroVzoOlXUI0uMxvYlriSKZUVwzWzsqk+WVBUSA7gGwQ2MmhbeAb2Jdaa3sNE0hNRis1jtNP3CONoZWZizCNdxII52j0xxuPoVV4L+2uby5tYZN01qVEy7SNhYbhz0PHpVX0t/X9f13G9SlJpczeMINVDR+RHYyWxXJ3bmkRgcYxjCnvWJ4m8LXms6007Wel6rZyWqwpBqsjGOykBbMyRbGWRiGHUofkwGAJx2FFLpb+v61GnZt/wBdP8jkNH8NaroreG2jNnObDShpt4GmZMf6s+ZGdh3YKH5SFzkcisyy8CajHrWlXl1aaS1xYXpnn1YyvLeXqFJF+YmMbPvL8m5lwMDAUA+hVX+32w1Qad5n+lGEziPafubtuc9Op6dacnzSu/66/wDBEtE/68jkE8N+I/sGm6SzaatjpuoRTpcCWQyzwpJuClNgCMBjncwJHbPHb0UUlorf1/WgdbhRRRQAUVX+32w1Qad5n+lGEziPafubtuc9Op6dasUAFFFFABVO7/1w/wB2rlU7v/XD/doAgorznWYdFn+JmqR69pdxqiHS7XyoEspbpN2+YZKqpVW7BmxjJwRzRDpbWv8AZkfjzTZtXtotKiijUWT36RXAJ8zcqK53Fdg3kYOG555P6/P+vmPv/XY9GqpqupW+j6Tc6heFhDbxl2CjLH2A7kngD1NeZCygtdY8N23iyxurq3FjfGOzNvLdssZnjMSSIgfdtTaPmyAQO4BrZn027sfhlMHt5IobW+F7DabfnjtEuRKI9vOMRjhe3A7U2vP+r2/4Idbf1sdSJ9bPhr7R9ntRqpXzBbEt5Y5z5Zbru2/Lu6bucY4q1pOpwazpNvqFpuEU6bgrjDIehVh2IOQR6ip1uYXtBdLKhgKeYJd3y7cZ3Z9Mc1h+B42Xwus7Aql5c3F3EpGMRyzO6ce6sD+NHVi6J/1/X+Z19t/x7r+P86lqK2/491/H+dS0gCiiigAooooAKKKKACiiigBsv+pf/dNZ1aMv+pf/AHTXIeMYp5tA2RQzTwfaIjdwwKWeS33jzFAHLfLnKjJIyMHOKALlvq/n+Jb7SfI2/ZLeCfzd+d/mGQYxjjHl9c859ql0y6vrpbk6jp/2Ex3Dxwjz1k82Mfdk4+7n+6eRXI+H7HTbXXfENza+HZLDRZ7C2URDTDGtzgzb8QhdxOCAVK7jxxggl3hR0i0zXtN0TT7vTZJJ55rFZNMmtYlUqoUguiqPm/h69TinLRuy6X/L+vvDqvX9DuapaZqkOrQzy26yKsNzLbN5gAJaNypIwTxkcVzPhTTvDxtxanw9LBqT2xjvpb7S3DzE4Ege4Zdsu5ueHYN1GRUPg/RtG0XWLy1Ph5bTUlvbh4LqPSmCeSzFkCzhNgGwgbdwxjGKLe9byD7N/M7msW28UWN54kOjW8dw8vkySicxbYm8t1R1UnliCw5AK9RnIIG1XFXOqxn4n2dwLLVDBDYT2jzDSrkxiVpYiBu8vBGFY7s7eOtEdZJPz/IOjf8AW52tFUJdV8vXoNL+wXr+dC0v2tIc26YONrPnhj2GK84vbHTtR1nxnbNplze6xJdhdPlW0ldLeQ20W11lx5cLBsEtuU4UZzgUlr/XnYfqerUVwWqWFk2u3Z8ZaNcayr2sSWTpp73caEKRIF2qfKYtzuO3I28/LxjRWttB4ksrXxvZXOqzx+H7cSQraTXqtIJZOXVFYFh03N3yQeaOtl/W/wDkCV03/XT/ADPRNd1ddF0s3AiM88jrDbwKcGaVzhVz2GTyewBPaotY1W50Dwhd6rdxRXVzZWhmljiYxpIyrkhSckAnOM5rmpLW70jwz4Un1YOi6bfobhWYOYY3WSNNxyc7PMQE5PQnPeu8o6MSeq9P8zPfV4orvTraaOQTagGMe3BVSqbjk/T0FSW2pQ3eo3tlGriSyZBIWAwdy7hjn0rK8SeZa6rouq/Z7ie3s5pFnFtC0rorxlQwRQWYZwDgE856A1iXlp/a+m+IL25jv7O0vrmD7ODp8sskojVR89uF3mNmBUqQMqD0BBpa3BJ9TvKpaVdX13ZGTVNP/s+fzHUQ+esuVDEK25eORg47ZxXN+G0tYfDGpQ6hoFtBpwlI2WmjSQLeKVXLG0Klwc/Lg5ztyOKo+HbxrDwHrFtpei3wntnvJreyexntA6NK7RqhKL/CRwvI9jT/AMhpXXzO/rK0bWm1a81aBrbyRp14bUMJN3m/u0fdjAx9/GOenWuR8F2Ett4xkntrCK1sZbBlke10OXTInlDqQGSRiWYBjhsDgkAnBx6HTtbX+t/6+8m99P62MjS9Xln1e/0nUI0jvLQiVCmds0Dk7HGe4wVYeo9CK3rT/XH/AHa5WNhd/EiV4GJSw00QzkdN8sgZV+oVM49HHrXVWn+uP+7S6J/1/XUfVr+ti5RRRQAUUUUARXP/AB7t+H86oMwVSx6AZNX7n/j3b8P51janbyXWnyRw3cto2M+ZEFJwO3zA8HocYPoQeaUnZXGtWVvD2qXOtaTHqNxZx2sNyoltlWcyM0TDKlxtAVsH7oLAepqjZ+LUl8H3XiC7spI47Z51aGFxIzCKRkyCdoyducHHWrfhSVJ/BujyxwpAj2MLLFGSVQFBwMknA9yTUfjKCa68GapBbRPNLJAQkcalmY+gA61c1aTSF0JrfxDZ3VzpkMKzE6nbvcQkqAFVNmQ2TkH5xxjsa1a4aez1Cw8dxfZrCe5tIrS8uIGRSqBpPKJiL9AxdXI9m46Vzdlp97NdG6tNJWAz6XdJdfZdCnsWMrRghJGkcmZt2cNt655ycVm5WTf9df8AKxVlou567RXlmm+F3tNTs7uPSZ0njn05/NMT5BZD575P8R4Dt1PAY0ksF9feKbW+TRVtr6LVx5zx6LOJ0hEpQsb1nCujIR8qggK2MAKSLSvK3nb8tfxM1K8ebyv+f+R38utNF4uttEFtuE9nJdef5n3djou3bjnO/rnt0rVorEv4bFvGOkyz6XeT3qQziC+jVjDbqQu5XIOAW4xkHoelJdF/XUp9ybV9abS9S0e0W284aldG3L+Zt8rEbvuxg5+5jHHWqt94pNpqd3Z2+ianf/Yo0kuJbUQlUDAkYVpA7HAPCqT6ZrfrkW1P+xvGGtvNp+pXBuY7f7OLaxlkWUqrAr5gXYvJAyzADuQKTdg6nT2N7b6lYQXtjKJre4QSRSL0ZSMg1PXmF3pV3Z6Vo+j6ppNtcItvJM7z6RNqkSTPJnygkbKqEBiN7HkdMDNWNN0C4vx4Mt9d064mit7G6ju47hGKKf3YVJASQRxwrEg4HXGaf9fmC1djv76a4t9PuJrK2+13EcbNFb+YE81gOF3HgZPGTTBdTpo/2u5tvJuFg82S3MgbY23JTcOuDxkVxf8AZ9ja+A9Q0/V9FluIVvrxbG1GmyXIjG+TyiqKjbVwflbAAB4PNdN4TulufDFiohuoXt4I4ZEurWSBgyoM8SKCR7jj3payTt5fjf8Ar7hv3ZJPz/C39IfpmrXWseE7PVrKziFxeWsdwltNcFUBYA7TIEJ79dv4VPoup/2xo9vfGBrdpQQ8LMGMbglWXI4OCCM96v1z/g6Jho8k/mt5c1xMUth/q4MTP90nLc9TliM/dCjAFOzbaJ7I6y0/1J/3qnqC0/1J/wB6p6QwooooAKKKKACiiigAooooAKKKKACiiigAooooAKKKKACiiigAooooA57xVd6hDdaHaaZemyN9fmCaVYldtnkytxuBAOVBBweRyCMg8xc6n4kstH8TXreIJZf+EauGES/ZYQbxRGkxWc7PR9gMYjx1OTXf3Wn2t7PaTXMW+Szl86A7iNj7WXPB5+VmHPrVabw9pdxZ6pazWu6HVmLXq+Yw80lFQ85yvyqo4x0qotJ6/wBbf8Ebs7f13/4ByWqa34nv9Y1WPQbXVP8AiWyLFAtoLIwSv5ayfvvOcSYJcDCbeOQSTxbkl8QarrOtWyazLpKWVrbyRx28EMjLK0bFgzOrBlyBwMHjhhW5e+FtKv783k0VxHOyqshtryaATBegkWNwJMZx8wPHHSryaZaRXV1cpDiW8VVnbcfnCghRjOBgE9KzafLZCW6bOS0jWNT8YfY1h1N9GH9k2t9L9jSJ5JJJw3H71HAQbD0GST145y7O61fXJPDD3OqBbw3+pwveQwICERpEBRTlQcKMbg3vurb1jRLay+w2+n+F9TvIrK0WC2m0zUhbOiDgROxmjZl4U8lx14z1u+F/CkGj6LpsV1BELuzeeZFgYiOBpmZnRBwCo37RkdB2rSXLK/L3/UmzSS9PyMiPXb2Ky1HSbrU7+e/t9UNlaz2ltC11cjykmAwVEKkByCzALhexOar23iDxDPpUNv8AaJbW8TXl095L2GFpTCU3neIj5e7B6oQOB7iuquvCuj3hmaW3kSSa6+1tLDcyxSCXyxHuV0YMvyAKQpAIz6msrVvBlkbOxstMsM2zaql5dqZiSflIaTczZ3ZCnIOc89eal7r/ALd/NX/Ub628/wAn/wAAp3uq6voN3qOnyavJqCxxWlzFdXEUQliEk/lujbEVCCBkHaD97k4GNPWtT1ePxFJYaK0Ukx0ee4gglACtOHQISeoHJHXFXoPCujwafe2X2V54r9dt011PJPJMuMYaSRixAHQZ47YqKLwZokLSusFw801u1s9xLezyTGIkHb5jOX4IyOeOcYyaXXX+tH/wPuG/Ly/T89fvIPCN7Lc/bIbvU9TurqDYJrbVLWKGW2Y7uhiRUdTjhl3Dg4Y1gXGq3cfxG1TRLCb7BLqM0GdQdQRGFhBKRhgVaVhnAIwAGbBxg9ppei2WjrJ9iWYvKQZJbi4knkfHQF5GZiBk4GcDJx1qO98OaVqEd6l5aeYL5kac+YwJZMbGBByrDAwVwQRnrTerTBaKxyF/rHiu71LVDoVrqkx0+f7PbxQixFtOyqpPnGRxL8xJ+5twMYB6nTuNX1eO3v8ASvtGzVpL5IbOYomVilG8OBja3lqJRyOfK561qy+EdImvftbR3SSsEEvlX08az7RgeaquFlOOCXDEjg5FQW+nXF942k1i8smtYbK3NraiR1Zp2LEtLhSQFA4XOG+Z8gZ5cei/r+n+Fwezf9f0vxLHia/ubHTYI7GdLe4vLqK0S4kUN5W84LAHgtjOAeM4yCOK5uZ5fD/jS5m1TXJrqOPRGZbme2RpYyZgB8sSqH5xgBQe3NdnqOm2mrafLZajCs9vKBuQkjkHIII5BBAIIwQQCKzE8F6EguC9pLPJc25tppri6lmkeMndtLuxbg8g5yO2Kizvf1/K35hLVW9Pzucm/iLxBp1l4jimfU0e20Zr60l1WK085HG8ZAg+QrwDhlznPUdN6ym1fT/EmlQX+ryahFqdtK8sTwRokMiBGzHtUMF+Zhhy56c8HN+Pwboccd2rW00xvLY2lxJcXc00ksRJO0u7lv4jjnjPFab6dayXlrdPFma0VlgbcfkDAA8ZweAOtV0/rz/QHr/Xp/wTI1bWpNC14TX8+NKmsZXAIA8uWLLnnGTuQk4z/wAs/esG91PXDp1vaLf6s2tx2n2u6g0u3tCIRIWKh2nATau0qFUhyFJOeo7LUtKstXt44dRh86OOVZlG4rhlOQeCPxHQgkHINVdT8M6Vq94Lm+hlaXy/KfyrmWJZkyTskVGAkXk/K4I5PqaXS39f1+iKTV7/ANf1b8TjH1+8ubZfEMZW3vZPBz3qlFyschw/AOeAfXNdRqOr3NtrPh+KKXMV4k7TIFB8wLFuGOOOfSr9p4d0qxWBba0VVt7MWMas7MBAMfIQSc9Bycn3qrp3g7RNLurW5tLaYzWastvJPdzTGFWXaUXexwuAPlHHtTls0tN7fe3+qM7P+vSK/R/ec34c1nxXqtxpWpmz1M2d9iS5jn+w/ZIomUkGIo/nZB2/e3ZG7IHGPQKyLHwtpWm332qyiuIiGZkh+2TGCMtnJWEt5ank9FHU+ta9PSw+oVDNb+a4bdjjHSpqKQzMj0G1i1SfUYxi7niSGSTJ+ZELFRjOBgu3bvVn7H/00/SrVFAGZJoNrLqsOpOM3cETwxyZPyo5UsMZxyUXt2qz9i/2/wDx2rVFAGL/AMIppn9inSfIX+zycm3y23G7dtxn7uf4emOMY4rQ+xY6P/47VqigBsaeXGFznHenUUUAFFFFABRRRQAUUUUAFFFFACMu5CvTIxVb7H/00/SrVFAFX7H/ANNP0o+x/wDTT9KtUUAVfsf/AE0/SmTaas8EkLyuFkUqSjFGAIxwykEH3ByKu0UAcyvgTTVYML3Wcg551q8I/Lzq3PsX/TT9KtUUAVfsf/TT9KrWmg2tjcXc9qNkl7KJp2yTvcKFzyePlUDj0rTooAq/Y/8App+lVhoNqurPqQH+lvAtu0mTzGGLAYzjqx5xmtOigClPpkV1byQXIWWGVSkkbplWUjBBHcEU210qOztIra3ZhFCgjQMSxAAwOSST9TV+igCr9j/6afpR9j/6afpVqigCr9j/AOmn6UfY/wDpp+lWqKAKv2P/AKafpR9j/wCmn6VaooAzbPRLbT45EtAIxLK0z8El3Y5LEk5J/wDrDoKuQ2/lOW3Z4x0qaigAooooAKKKKAGyJ5kZXOM96r/Yv9v/AMdq1RQBkaZ4cs9GgeHTt8ULuXERkd0TPZFZiEX/AGVwParv2P8A6afpVqigCr9j/wCmn6UfY/8App+lWqKAKv2P/pp+lH2P/pp+lWqKAKv2P/pp+lH2P/pp+lWqKAKv2P8A6afpR9j/AOmn6VaooAq/Y/8App+lH2P/AKafpVqigCr9j/6afpR9j/6afpVqigDPu9JjvbSS3mllVJBhjDI8Tj6OhDD8DSWWjW2nWMNnYqsNvAgSONV4UD8a0aKAGQxeUhXOec9KfRRQAUUUUAFFFFABRRRQAUUUUAFFFFABRRRQAUUUUAFFFFABRRRQAUjOF+8cUtQz/wAP40AP81PX9KPNT1/Sq9FAFjzU9f0o81PX9Kr0UAWPNT1/SjzU9f0qvRQBY81PX9KPNT1/Sq9FAFjzU9f0o81PX9Kr0UAWPNT1/SjzU9f0qvRQBY81PX9KPNT1/Sq9FAFjzU9f0o81PX9Kr0UAWPNT1/SjzU9f0qvRQBY81PX9KPNT1/Sq9FAFjzU9f0o81PX9Kr0UAWPNT1/SjzU9f0qvRQBY81PX9KPNT1/Sq9FAFjzU9f0o81PX9Kr0UAWPNT1/SjzU9f0qvRQBY81PX9KPNT1/Sq9FAFjzU9f0o81PX9Kr0UAWPNT1/SjzU9f0qvRQBY81PX9KPNT1/Sq9FAFjzU9f0o81PX9Kr0UAWPNT1/SjzU9f0qvRQBY81PX9KPNT1/Sq9FAFjzU9f0o81PX9Kr0UAWPNT1/SjzU9f0qvRQBY81PX9KPNT1/Sq9FAFjzU9f0o81PX9Kr0UAWPNT1/SjzU9f0qvRQBY81PX9KPNT1/Sq9FAFjzU9f0o81PX9Kr0UAWPNT1/SjzU9f0qvRQBY81PX9KPNT1/Sq9FAFjzU9f0o81PX9Kr0UAWPNT1/SjzU9f0qvRQBY81PX9KPNT1/Sq9FAFjzU9f0o81PX9KrZx1o3D1H50AWfNT1/SjzU9f0qtuHqPzo3D1H50AWfNT1/SjzU9f0qtuHqPzo3D1H50AWfNT1/SjzU9f0qtuHqPzo3D1H50AWfNT1/SjzU9f0qtuHqPzo3D1H50AWfNT1/SjzU9f0qtuHqPzo3D1H50AWfNT1/SjzU9f0qtuHqPzo3D1H50AWfNT1/SjzU9f0qtuHqPzo3D1H50AWfNT1/SjzU9f0qtuHqPzo3D1H50AWfNT1/SjzU9f0qtuHqPzo3D1H50AWfNT1/SjzU9f0qtuHqPzo3D1H50AWfNT1/SjzU9f0qtuHqPzo3D1H50AWfNT1/SjzU9f0qtuHqPzo3D1H50AWfNT1/SjzU9f0qtuHqPzo3D1H50AWfNT1/SjzU9f0qtuHqPzo3D1H50AWfNT1/SjzU9f0qtuHqPzoBB6HNAFnzU9f0pyuG+6c1VqWD+L8KAJqKKKACiiigAqGf+H8amqGf+H8aAIqK5bxlaQX+o+Gra8jEsEmpkPG33XH2ebgjuD3B4I4PFcjf6Dplp4d8b3NvZRJJo9y76YccWBEEUuYR0j/eMWO3Ge9VGPM/68v8AMbVref8Awf8AI9XoryvxBbxX3ibVote1jRNOnZoxpzanYtJcJGY1w1q/nJhvM3fcG7cBnPy1sf8ACO6dq3iLxGmuW0WpGK0tVBuE3KG8p8uFPCt/tDketQ3aNxLVpdzvKK8ivNRt9Z8OaTBrR0dbsaFBcx3Wr25uZbl3Q7lt4wyneCuSyktkr8vQ1t6Xpll4j1PTf7ftk1EP4bt3dbkb1Zi3LEHgt79Rk4605JxbXZ/o/wDISeif9dP8z0Ks3QdX/tvTGvPI8jbczwbN+7/VStHnOB12Zx2z3rgtA062tNH8DavDGTqd5cLFc3rsWmnRoJSUdzyy/KuASQNoxjArNg/4R8+Gb9YGgbxa2pXf9nhiTdLJ9qk2GL+IRZ5bb8n+sz/FVJJ39bf195Uly7/1v/kew1m6Vq/9p3uq2/keV/Z139m3b8+Z+6jk3dOP9ZjHPSvOPE19bXWty3aHR7HVbPU7eERmEy6kyCaNfMEgcGKNlbptZSrcnLYFzUtF0+8sfiBqN1axzXdpcSSWszjLW7rZxMHjP8DZwcrgnAz0FTFrlcn2v+X+Y+VtqK6u35nptQXt5Bp9hcXt4/l29vG0sr4J2qoyTgcngdqy9X1JrLwXPfy2/wBrK2gaSPzDGGBA3EsASoAJJIBwAa87h06yvbfxNp+nf2HqNrcaGZUh0ax8u2M4LhSBvdXkBA+YYIwM9BUzfK2u3/B/yCFpWb62/G3+Z67HIssSSRnKOoZTjqDTq8wvbnwzc6bo2mWKeF4dOkt2mhuL6BZ7ZpchWjihVlDS5OSd24Zxg7jibw7rNvpcHha/16+S2t5dJntxeXb+WnmCSMqhZzwxVSQCc/KfSrsua39df8rGd3a/9dP+HPSaK5jwFOtzot/NGGCSatesu9Spx579QeRXT0uiZb0bXYKKKKBBRRRQAUUUUAFFFFABRRTHcq2BQA+iovNPtR5p9qAJaKi80+1RQXsV1F5lrLFNGGZN0bBhuUkMMjuCCCOxFAFqiovNPtR5p9qAJaKi80+1VodVtri5uoIJVkktCFnVVJ2MRuC59cYOOvI9RQBeoqlY6lBqVjFeWMqzQTLuRwDyPp1B7YPIq0jFs5oAfRRRQAUUUUAFFFFABRSE4Umo/NPtQBLRVVb2J7mS3SWJp41V3iDAsqtnaSOoB2nB74PpTbbUbe9Ehs7iC4EUhikMThtjjqpweCO4oAuUVF5p9qPNPtQBLRUXmn2o80+1AEtFReafajzT7UAS0VF5p9qPNPtQBLRVa3vYru3Se1ljnhkG5JI2DKw9QRwak80+1AEtFReafajzT7UAS0VRs9Ut9QjkeylWZIpWhZlBxvU4YA98HjjuCOoNSC9iN01sJYjOqCRotw3BSSA2OuCQRn2NAFqiqdtqNveiQ2dxBcCKQxSGJw2xx1U4PBHcVP5p9qAJaKi80+1Hmn2oAloqLzT7VWi1S3mv57KOVTc26q0sRBBVWztPPUHB5HGQR1BoAvUVEJCWA4qWgBsn3DVdm2IWPQDNWJPuGs7UrKPULCSCZplUjP7mVozkcjlSMj1B4PQgilJ2VxrcpeGL6/1XQbfUtRe2/wBNjWeGKCJl8pGAIViWO9hnlgFB9BVGPxDqdp4HvdZ1bT1F3atPi2w0IdUkZUPzbiNygHPPXIq94Suje+DNHuCY90llEW8pQqg7BkADgYPGB0o8V2NxqXhPUbOyj824mhKxpuA3H6nirmkpNIXQjtPEq3d9pFutqyHUbeaZ9z8wNEUDIRjk5cg88bat23iHRbya5itNXsJ5LUFrhIrlGMIHBLAH5ce9c9daHq0PjZbzT7eOSyFpdOjSuNkc8gjGwrnO0mPdkd2bnpWLFoPiW/kt5r631AmHTLm3ZL17JQkkkYAEQgH3MjHzNxxx3rNt2bS/rUqy0R3cXiHRZ7pbaHV7CS4eRoliS5QuzqMsoGc5AIJHUU7+3dI/tf8Asr+1LL+0f+fP7QnndN33M56c9OlcZZeEr+2ubWRdOjj8p9MBZWQFUhQiQcHoCenftmmS6T4pv9Stlu7a8WO31cXLIrWa2flCYkNHgGYsVIY7iOd3sptayt52+Wmv4/gZqTcb26f56fh+J2Et7qK+Lraxjtg2myWckstx5bZWVXQKu7O3kMxwRnir0l7axXkVpLcwpczqzRQtIA8gX7xVepAyM46VPWXdpIfEunuuiw3MaxS7tSZ0D2nAwqgjcQ/fB7c0l0X9dSn3NSsvXLzUbP8As/8Asu3Wfzr6OK43Rs+yE53N8p4xxycitSigOhz1/rmrL4hn0vRtKtLs29rHcO9zfNBnezgKoET5+4eSR1qzaeKNLn8Px6xeXMWnWzMY5DeypH5UgYqyMScZDAjr2rOu/wC1NN8aXmoWmiXWowXNhBCjwTQIFdHlJDb5FIHzryAe9Zsmi+INI03T4rJZ5XkuLm5v5NL+zmaOSVi4WM3OE2ZYgnAY4XpzR0G7X0/rT/M61tb0pLGO9fU7NbWVS8c5uFEbqASSGzggAE59BUNx4g0saC+qW+racLQgiK8kuV+zl+gBcHH3uODXI6T4T1SJtA/tG0Ev2TWbu9nMjxMVV1lKOdoALbmX7qjB5wMVvWkF9o8WuSrpdxdtd6g0sMVs8QZkaNBu+d1A5U9Tn2pPb5f5afj+Atn/AF5/5fiauj3Fzd6FaXF5NZz3EsKu8tixaB2I6oTyV9Kh8NXuo6j4bsrvWrYWt9NHumhEbJsOTxtbJHGOtVPBMd9a+E7Cw1PTbiwnsreOBhM8TCQhQCVMbtx9cH2roKuVk3YFsFFYvhjxA3iLT7m4ezNo1veTWpUSiRX8ttu5WAGQf55FbVT0uBj6dqOoy3mtjULURQWdxstGEbJ50flKxbJyD8xYZHHHtUEXifzPC+jax9kx/ajWw8nzf9V523vjnG70GfatyVPNheMnG9SufrXFafpmsPo+h+H7jSZbePSpYPNv3miMUqQH5SgVy+W2rwyrgE88DLVtn5fd1/r7geza8/8AgHUHX9HXVhpbatYjUScCzNynnE4z9zOenPTpVVdZ8/xcNNs9R0mWKGBmurUT5vEkyNp2A8Jg85GeRWPa2WsWXiYjRrXVLSwmvXmukvHtXtWVsl3j2sZlZj8wB+XJOQB0mvpdUbx3Y3kXh3UJbS1gntmnWW2AYyNGQwBlDbQEOcgHpwaS1tf+tBvdo3bvXdJ0++hsr/VLK2u58eVbzXCJJJk4G1ScnJ44qHV73UbXUtHi0+2E0F1dGO7cxs3lR+W7bsg4X5lUZPHOK47xjpHinV016ws7e78i7Tbai2azS3lXy1z5xkBl35BHy4GAnK8sPREGI1B6gU+iYmRXF7a2ZhF3cwwGeQRRCWQL5jnoq56k46CquqXWrQPEmj6ZDeFgzPJc3fkRpjGBkI7Fjnj5cYByRwCzWUkeTTvK0aHVNt4hZpXRfsgwf3y7gckeg55rN8YS668dtY6Jp93LbXJYXt3ZywrNDGP4YxI6jc3Td/COQCcYnoPqWF8V2z+EYdcSCQm4AWG1yPMkmLbRED0zu4z079Ku6Bqja3oFpqMluLZ7hNzRCTeEOSMbsDPTrgVhroOo3K6TPpIh0SDTYmjg07UbQXPlt90SZinAztyByeGPc0aINX8KfDuWXV1tbi5sbeSVIEHkABQW2s5dxz/e4Az04obSu2JJtpI62pIu9Z2j6h/a2iWWo+Q9v9rt0m8p/vJuUHB/OtGLvVNNOzEmmrokqWD+L8KiqWD+L8KQyaiiigAooooAKhn/AIfxqaoZ/wCH8aAIqKy9a12HRPsayW1zdSXs/wBnhitkDMz7GcA5IAGEIyTgd8DJGR/wn9qIbiWTR9VjSxl8rUS8cYFieOXO/DDaQ2Y9+F5OKFqD03OrorC1HxVBp89wsen317DZgG9uLVUKWwwG+YM4ZiFIYhAxwRxyAYrvxjBDeXdtY6XqOpyWcUc8v2RI9vlupYMC7qD93oPm9AaV0B0VFYU3iu2Y2y6RZ3esSXFut0EsvLGyFvuuxkdAM84GcnB44NQw+NbK7021ubCxv7qa8mmigsljVJn8pyrsQ7KqAEfxEdQOpAqrMNzo6Kw7HxQmoWuoPb6XqP2iwmFvLaPGiymQqrYXLbSPnHzbgvBIJGCcfWvFQlsbaWOG/sJ7XWLe3u7VlzKN2G24jZg4ZWU8EjnnoaXVL0/G3+YPRN9r/gdpRXPjxfBHBfHUNNv9PuLGJZ5La4WMu8ZOAylHZCMgjG7IxyBkZu6hrttpt+lpOkrSPazXQKAEbItu4cnr84x+PSh6K7BauyNOiue03xhb6jdWEZ06/tINSj8yzublEVJzs37QA5dW25PzKM7TgnjML+ObVI4rkaXqb6dPcJbwX6RxmKVncICBv3hcn7zKFIHBOVy7O9gWqujp6K46w8Rix1nXbe5a5vriTVxBZWcTBpCotoWbaGYBUXcWJJAGfUgHXvPEi2GpR293pd/FayTpbrqBEfk+Y/CjG/zOWIXOzGT1xzRbbzt+Nv8AMNrm1RXNS+N7SJrpxpuova2V0bW7u1jQRwMCBuOXDMvzA5VWwM5xitrU9SttJ02W+vXKwxAZ2qWZiTgKAOSSSAAOpIpbq4dbFuiuQj127u/HmnW9xYalpiDT7qV7a42kS4aHaw8p3ViPmGM7hnoARm8PFTmS4tpNE1G1vktWuYLacwbrhFIDFSspUYJXIYqfmFD0V/66/wCQ7HQ0VzOg+KL/AFLwbp+rXGg3r3V1FG32e3MP7zcgYuhaXCpycb2De2a19H1aDWtPF3bpLFiR4pIplAeKRGKsjYJGQQRkEg9iRTaabT6Ep3Vy/RRRSGFFFFABUUv3vwqWopAS3A7UAYCa1cN4r1XTCkXk2dhDcxtg7iztKCDzjHyDt61i6b4l1/W5NIt7H+zbZ73RotRmmmhkkEbMQCqoHGQc92GPfpXQ6n4W0vWLsXOoWskknliJwk8kazJnOyRVYCRck/KwI5PqaypfA1vJr1rKpnt9NtNMWyhitb6eBxh8gEowLLt45J57d6NOv9aP/gBLbT+tv+CQ2HiXVtcj0+008WdnfSwzS3U1xC8sS+VJ5TBEDITluQS3AHfNUNC1WbSPAsQN3bx3s+p3sav9iluN7C4mLbIIyXboeN3AySTjnqrrwtpV1FaRm0aAWaGOA2k0luUQ4ymYyp2nAyp4OBxxUTeDdF/s22sIbF7a3tJnntxazyQNC7bt21kYMoO9uAcYOMYp30sH9fh/mclq2s6vr/w31txNawyWcksE7SafNH56AKwIjd1aI4Yfe3dPeug1bV9W8OeH/P1Ca1vrua4jgga1sJVVN5xlow8jvjk4XBPA461qW3hnSrTS7rTobIG0vCxuI5GZ/NLKFYsWJJJA5PUnJPJJpi+FtN/smXTZY7q4tZWDFbm8mmZSMYKu7lkIIBBUjBGRzSfl5f8ABEv8/wDgGbofiHUryPU0vLeWU2kIlhuv7MnsVmJDfII5snIKjkEg7h0q14JgSHwVpbq3mPc263M0v/PWSQb3c/VmJrQ03RbfS0kW2a9kEmN32u9mufy81mx+FV9B0i50O1nsEZJbGNy1ipyGiQ8+W3GMKeFI/hwMcZL01/r+v+AP+v6/rqUdBQWfi7xFZQBhbF4bsLkbUkkVg4HpkoGPuxPeuoi71j6DpE2mwXE164m1C+m+0XUiA7d2AoVf9lVVVGeTjJ5JrYjBGcjFICSiiigAooooAKKKKAEb7p+lYniDU5tL01HtI43ubieO2g83OxXdgoZsc4Gc4GM4xkZzW233T9Kz9R0y21axe0v4TLC5BwGKlSDkMrDBUggEEEEEcUAcvokWqp458Qpe3lnNeHTrPy5obRo41+a4xlDIxOD1+YZ9utWfD9+1lout3F5b2QksbyczHT7byFnKqGLlSzfMc8kk1pWnhXS7D7WbS3njlvY1iuZxcymaULu2kyFt+4biN2d2MDPAwml+FdN0eaeSyW8JuN3mrcX886OTjJKyOwycDnGaJXbdu1vnoHVev6WINIfxHe2K3l7d6ZCLmDzIbeOzkcwMwyu6QyjzAB1wqZ7YrK8Bwa0sd811qFhJajU7wSRR2Lo7P5zZIcykAZ5xtPHGe9b+l+GtP0abfpqXcS7SqwG8meGME5wsTOUUDttAwOBgUg8P21nf3Gp6dDMt5Luk8o3s0cEkhXGWjBKAnAy2wnvyaenNddg15eXzNWuNTT4rL4tWsiyTTS3Gk3TySTSFm/10OFHZVGeFGB1PUknWW58Wlhv0TRwueSNXlJA/8BqH8G6XJrC6q41H7apO2Qanc4UFgxUL5mApIHy428DiiOkk/X8rB0a/rc3K5G98V31tpPjC6SK3L6G7LbAq2HxAknz888semOK6CXQrCbXoNaktidQghaCObe3yoxyRtzg/XGao6n4K0PWLi4l1Gxkm+1ACeL7RKsUpAwGaMMELAYwxGRgYPAwRsnr/AFqPQoXWseILvxNqOlaO2m28dlaQ3HnXUMkpZpN/ybVdePk+9nj+62ciOw8S6n4l+zR6IbWwZtOhvp5Ly3ecfvdwVFVXTpsbLZ9OOeLEvgxL3xfqGp6g0xtbi2t4Y4YLyaLdsMm4SKhCup3Dht3fjnnSvfC2lahNFJcWbAxReQFhleJXi/55uqEB0/2WBHJ45NJpNW/rr/wP63S/r8P+CcnoutzaZ4A8N21pdxQ3U1kHI/s6e+cqoAJEUJDAZYfMTgcDBzxDrWp6v4g8DaLqMU1naM+pWqTRyWcjZlW7VAwBdSq5XJQgnHGQea6yXwbo0kNlEltPbrYwmC3NpdzQMkZwSm6NgSvyjgkjirH/AAjWljQToyWITT8krCjMuw7t+VIOVIbkEEY4xjFUnZ387/iOWrMnXNc1TQNPsILiWC5v764MQuLfTZ5I41ClifIR3djhcYDAc5JAGDRufEeqz+AfENzPFJb3NnG6Q3n2KW0WVSgIlWKb5l27iDkkZXIPOB0UvhjTp9MjsJ0u5oopPNjklvZnmjf+8sxfzFPUcN0JHQ1LDoFnDpVxpxW5uLa5DLKt3dS3BYMMEbpGYgY7ZxUvZ3Bbop39xF4U8KwR6bbqwi8m0to2OFDOyxoWPoCwJP1rK0yHV08faol/e2U12dIg8qWGzeONP3s2NyGVi3PPDDI4461s2WhSP4cOja8Vv4U/dJJlg8kakbGYjBEgwPmU9RuGOgW18KaXZG5e2guEmuohDPcm6maeRRnGZS2/Izwc5AwAcAUP4r/1sEdI2/rdf5Gd4fv2stF1u4vLeyEljeTmY6fbeQs5VQxcqWb5jnkkmrWjv4ivbJby+utMhW5g8yG3itJGMDMMrukMo8wAdcKme2Kn0vwrpujzTyWS3hNxu81bi/nnRycZJWR2GTgc4zT9L8Nafo02/TUu4l2lVgN5M8MYJzhYmcooHbaBgcDAoW2vZf8AB+/8Cdfxf/AMHwXBrizag11qOnyWw1O4Escdg6O7Z6qxmIUZwcFT6Z712VZR8PW1tqM+qWEM63shaTyvt00cEsm3blowSnOBlthPfk1Atz4tLDfomjhc8kavKSB/4DULZLskN7tmJqWmaYfGljBoFkg1mO7W81C/QZkhgIbKySHk7/urHnoMgAKK0vEa/ZvE3hq/gBFw929m+3+OF4nZgfYNGjfhU8PgnSLa9nu7ZdRgluJzczCLVLpEkkPVigk2noBjGMDHSrT6Tc3PiaPUbyRTb2kZWzgQch2GHkc+uPlAHQFic54Fpb+v67D6t+X9P8bmqv3h9anqFVO4cHr6VNQIa/3Tk4qPC/3v0qST7hrCsf7XTWNae/bNgHjOnqQnC+WN/Tn7+fvenHFK9h7mhaabYWDTNY20FsbiQyzGGEJ5jnqzY6n3NWcL/e/SuI0bxlqF94b0q7u4LaO9uru3imRFbZ5co3BlBORwcck8g1vTeJ9Kt9SSxnmmSSSUQrK1rKIDIeiedt8vdnjG7OeOvFVbp8vy/wAxdf68/wDI2cL/AHv0owv979K5mb4geGreSRJNRbMZkDbbaVhmNtsgBC8lTy2Og5OBzV3UfFGk6VNsvppkUBS8yWsskMWem+VVKJ1B+YjAIPQ0gNnC/wB79KML/e/SsfWhqzTaV/Yz7Y/tyG94Q5t9rbvve+37vNWdT1ex0eKCTUp/JS4nS3jOxm3SOcKvAOMnv0oAv4X+9+lGF/vfpTazfEQ1M+G9Q/sA41P7O/2Q/L/rMfL9/wCXr68UDWrNTC/3v0owv979KxdW1K60u10zAjeS4vILaUuOzHDEYPX9K0b29hsLV7i5LCNeyRs7MewVVBLE+gBJo7/d/X3k36fP+vuLOF/vfpRhf736Vk2eq2niGyuk0u8uLeWM+VITAYpoGIBBMcycHBBG5SD71T8K6hcS+HZ59WvWuGtru6ia5mVEJSOV1BbaFX7qjOAKB9LnRYX+9+lGF/vfpWTpviLTtVvJLS1a4juY0EhhurSW3coTjcokVSwyMZGQOPUUmjDVheat/a7Zg+2H7CCE4g8tP7vP3t/3uf0oA18L/e/So57a3ureSC5RJoZVKSRyJuV1PBBB4Ip1FADbe1t7S2jt7VI4IIlCRxRptVFHQADgCpML/e/Ssnbqv/CXbt5/sf7DjbhP9fv6/wB77v4fjWTN4ovY/Aeta2sUH2mwa8ESFW2N5MjquRnPIUZwR+FNXl/XnYdv6+VzrML/AHv0owv979KyLvxFYWN2trN9qluCiuyWllNcbAehby0bbnBxux0NVte1P7Pqel2cepXGnvLdRliNOeaO4U5HkmTbsjJPfORj3pdSb6XOgwv979KML/e/Ss3U9bs9IC/a/tLFgTttrSW4YD1KxqxA9zxVTWLq91Lwk914RuVkuJ0jktZo9hDKWBJG/wCX7uev86Bm7hf736UYX+9+lUtU1O00XSp9R1ObybW2TfLJtLbR64AJP4VX1a+vYdJ+0aPbxTuylg8zlUjXaTvI6t/ujGTxleoTaQ0ruxq4X+9+lGF/vfpXKL4mvJPA+iamqWyX2rLbIGkBEMMkoHzEZyQCeFzknAyM5qzpuoX15fapoWoXtuL+1ijcXdhHswsgbafLkLhWBU8EsCMHviqcWm12EtVc6LC/3v0qC602z1KFY763guo0cSKs0QcKw6MAe49ay/C95dXekOuoT/aLm2up7Z5tgUyCORlVio4BKgE4AHPAArei+7+NIOthPK9/0pyJtzzmnUUAFSwfxfhUVSwfxfhQBNRRRQAUUUUAFQz/AMP41NUM/wDD+NAGJrGlz6hqOjXELRqlheG4lDkglfKkTA465cdccZrIv/Ct7daH4vs45bcSa3I72xZmwgNvHGN/HHKHpnjFdbRTTa2/rb/Id9vL/g/5nEX/AIJD6/e3g8P+HtYS+dJGl1NAJbdgioQP3T+YuFBAyvORnnI3bTRZbbVtYuFMKw3sMMcKJkbNiMpyMYA5GMZraoqWrqwlo0+xxOkaJrHhqOyFjLpt3LFpNtaX0FxctCsZiDASowjYkHLjDAdByORVDwvp+pjR9I1bTprK4vRJfkQ3DmGO7gmuC/mIwDlekbDhuDg9c12mpeHtF1mSOTWNIsL94xhGurZJSg9AWBxT9R0XS9Yt44NW02zvoYzuSO5gWRVOMZAYHHFW5Sd31Eklotjh7HTNU12316RXtJzJrSySW6zultdIkKI8BkClioYFSduGKEFQCQJ7bwRqdnBcnT4NG055NVt7+K1tlYQRLHGqsnCrkkqeQBnOcDpXdW1tBZWsdtZwR28EShY4okCqgHQADgCpam3by/C3+RTd00/P8Tkbnw3q2uDVbnWGs7K5ubH7FaxWsjTpCMli7OyoWJbbxtGAvXk0kuieItW1dL7VF021WPTbmzEFtPJLl5NmH3Mi8fKRtxxjq2cDr6KTSat/Wt7/AJgnZ3/r+tDm38O3TxeF0MkP/EobNx8x+YfZni+Tjn5mB5xx+Vc1qNrrFj4a0bQzNps9ml/ZxWlzFMzTXcccysF8vaFUhFLMwduEPAz8vpNZtn4d0TT9Qe+sNHsLW8kzvuIbVEkbJycsBk5PJq+ZuXM/X8bkpcsbL0OeXwlqWn+JNU8Q6VLa/wBoXV2GWKaRhHPb+XEpjchSUYMjMGUHtnIOBQuvA2pXmopNcWukTzxapHerq1xK8l0YlnEnkqDH+7CrlRhipx90biR6FRSTs010/QffzOXufDV5N4W13TVkgE2o3E8sTFjtUO2Ru4zn6A1p+IdKm1fRHtbWdbe5SSOeCR13KJI3V13DuuVAPtWrRS2SS6foHW5xt9oXibWtSN5cz2Oksum3VnF9juJJnjkk2FZQ5RP7nQAEYzk5+WLQ/BtzZeJk1OTTNH0uP+z5rSZLCRpZJndo2EjyNGhc/K3XJB5y2447einf+vW/+Y7v+vl/kcIPCms/8I7o2m3dppl/DpafZ3sZ7yRbe8QIqpJJ+6PzArnYVZec5yBW74P0KXw7okljMtqmbueZI7NSsSI8hZVC44wCBit6ii7bbe7F0sFFFFIAooooAKKKKACiiigAooooAKKKKACiiigAooooAKKKKACiiigAooooAKKKKACiiigAooooAKKKKACiiigAooooAKKKKACiiigAooooAKKKKACiiigAooooAKKKKAGyfcNV5FLxso6kEVZIyMGk8tfSk1dWA4OPwZqEFl4ZSKa1EunC3jv/AJmxKsXKlDt5IJbAOOHPpVa78HeIL/Ukku7qORYtUjvBcNqlyQ8STB1j+ygCJCFAG75slemW3D0Xy19KPLX0qk2pc3nf56f5A9d/63/zPOZPAeptp9xAJ7TdLb6pEp3tjNzMHj/h6ADn0PTNJ4k8GeINbTVLZbqJ4bqIR20rapcwrbr5YBQ28YCSAsGO5jn5uQQu0+j+WvpR5a+lNSat5Duyuo2oAewxVTU/7U8qD+xvsnmeennfa92PJz8+3b/Fjpnj1rT8tfSjy19KkS0ViGipvLX0o8tfSgDA8TadfahZ2h0tbd7i1vIrkJcStGjhDkjcqsR+Rqpq1p4j1bQfK8u0sboXKM0VtqUoWaIEFl89YleMn1VT068muq8tfSjy19KVrfff8v8AIOt/6/rU4/w9oWraEmrXGy3muLx45IbeXUZ5gu1QpVp5FZz652+2BUOm6P4nt/DGracTp9hd3DXE1pdW928uySV2cAholwBuxuGfXFdt5a+lHlr6Uxp2OJ8O+GdSsPEv9qX2yKP7I1v5P9q3N82S6tu3zAYBwRgAYwOTn5ewqby19KPLX0p30sTY5fw/r91rOv61CotptKtHjWzvLbcRKSp8xC3IYqw5K8DOOoNdFU3lr6UeWvpSGQ1xt14a1h9N1LQYBYnStRnldrp53E0SSsWkURBMMcswB3jqDjjnuPLX0o8tfSjZ3HfSxxniPw/qd/qRn0a3t7ScxLGupJqk0Eq4OQXhSMpMFJJCu2DkjjJqx4lsdfv5LGPTLXTporW4iuWlub14mdkJJXasTAA8c5/Cur8tfSjy19KP+HE7NW+RxuuaLr2qajbTq0f2f7KEkto9XubUQTE5Zw0KgzDGBhtv3eMbjWv4X0qXQ/C2naXcyJLLaQLE7pnaxA6jPNbflr6UeWvpQG5nap/aH9l3H9i/Zft+z9x9r3eVu/2tvOPpUGrLqkmjmLTreznuZU2SCe4aFFypBIIRyee2B9a2PLX0o8tfSk1dWY07O5yOkaTq1p4Dg0XU9L0m8ltraO1WB7t2guFVQpLkw/L0J27W7c1LoWi2vhqC91K9j03TfMRfMjtFEVvaxJuIUMQueWdixC5z0FdT5a+lHlr6VTbbb6smyskcv4QWK7srnV9gkmvLqfZdMvzSwCV/Kwx5KbcFe2Dkda6eL7v40vlr6UoAXpS9BvVti0UUUAFSwfxfhUVSwfxfhQBNRRRQAUUUUAFIyBvvDNLRQAzyk9P1o8pPT9afRQAzyk9P1o8pPT9afRQAzyk9P1o8pPT9afRQAzyk9P1o8pPT9afRQAzyk9P1o8pPT9afRQAzyk9P1o8pPT9afRQAzyk9P1o8pPT9afRQAzyk9P1o8pPT9afRQAzyk9P1o8pPT9afRQAzyk9P1o8pPT9afRQAzyk9P1o8pPT9afRQAzyk9P1o8pPT9afRQAzyk9P1o8pPT9afUM1x5ThdueM9aAH+Unp+tHlJ6frUH2z/AKZ/rR9s/wCmf60AT+Unp+tHlJ6frUH2z/pn+tH2z/pn+tAE/lJ6frR5Sen61B9s/wCmf61C2tWqwyzNNCIoWKyuZRtQjqCex+tAF3yk9P1o8pPT9ag+2f8ATP8AWp4ZfNQtjHOOtAB5Sen60eUnp+tPooAZ5Sen60eUnp+tPooAZ5Sen60eUnp+tPooAZ5Sen60eUnp+tPooAZ5Sen60eUnp+tOZtqFuuBmq32z/pn+tAE/lJ6frR5Sen61B9s/6Z/rR9s/6Z/rQBP5Sen60eUnp+tQfbP+mf60fbP+mf60AT+Unp+tHlJ6frUH2z/pn+tH2z/pn+tAE/lJ6frR5Sen61B9s/6Z/rR9s/6Z/rQBP5Sen60eUnp+tQfbP+mf60fbP+mf60AT+Unp+tHlJ6frUH2z/pn+tH2z/pn+tAE/lJ6frR5Sen61RGtWhgWYTQ+U7iNZPNG1m3bdoPru4x68VP8AbP8Apn+tAE/lJ6frR5Sen60sb+ZGGxjPanUAM8pPT9aPKT0/Wn0UAM8pPT9aPKT0/Wn0UAM8pPT9aPKT0/Wn0UAM8pPT9aPKT0/Wn0UAM8pPT9aPKT0/Wn0UAM8pPT9aPKT0/Wn0UAM8pPT9aPKT0/Wn0UAM8pPT9aPKT0/Wn0UAM8pPT9aPKT0/Wn0UAM8pPT9aPKT0/Wn0UAM8pPT9aPKT0/Wn0UAM8pPT9aPKT0/Wn0UAM8pPT9aPKT0/Wn0UAM8pPT9aPKT0/Wn0UAM8pPT9aPKT0/Wn0UAM8pPT9aPKT0/Wn0UAM8pPT9aPKT0/Wn0UAM8pPT9aPKT0/Wn0UAM8pPT9aPKT0/Wn0UAM8pPT9aPKT0/Wn0UAM8pPT9acqBfujFLRQAUUUUAFFFFABRRRQBj+INbuNHk02GzsRez6hdG2jVp/KVD5bvuJwePk5wM4OQCRg4L+OtUhs9Subjw/FHFokxj1Rvt+QoAV90H7vMuI2DEMI/QZrpNU0j+0r7Srnz/K/s66Nzt2Z8zMTptznj7+c89KzLzwh9r0jxPY/btn9vyO+/yc+RuhSLGN3zfcz26496qNr6/1t/wRu2lv63/4Bm6/8S7DRtSvLaOTS2GngG6S71VLadyVD4hiKnzDtI6lAScZ64tXvjK+SbUjpWjJeW2nW0V1LLJeeUXjdC+EXYcuAvQlQc/eFXX0HVLXVLq50TV4LWC+ZZLiG5szOQ4UIWjYSLtJVV4YMMjOOoMs/hzzptdk+1Y/te2SDHl/6rajLnr833s446VnK/L7u/8AX4CXxK+xUsvE15eXttb3+kiyt9StHuLKT7SJJCFCkrKgUBGwwPys44PPTOJ4Q8Q3+meB/DUl5pCppUsNta/aftWZkZ8IjmLbjYWK8hywDAlRzjqD4fzdaRN9p/5BtvJBjy/9ZuRVz14xtzjnrWRpngvUbXTdK0nUNdjvNK00xOsS2PlyytHgoHfeV2BgCAEB+VcseSdFZNrpdfdqCvya7l+bxV5Xhc6x9jzi9Fp5Pm/9PPkbs4/4FjHt71V8ReNR4c1iG2vE00QSPGoWTU1S7kDsF3RwFPnUE/3wflbjgZhufBWoT2s2mx64kelNfi+jh+x7plbzxMUMhkwybt2MKCMjk4wXXvgq8uH1OG21aC3sdRu0vJVFjunLgodpl34K/JgDbkAgA8VPX+vL/gj2j5k3h7VtevfF3iCz1GCzFhZ3CJC0dyWeMGJGA2+UM53FiS3BOBkDNXtS1q+TWf7K0PT4b27SAXE7XN0beKJGYqo3BHJZirYG3GFOSOAZLPRrix8S3+oQXcX2TUNjzW7QEuJVQIGEm/AXao+Xaeec9qi1HQ79tc/tfQ9ShsrmSBbe4S6tTcRSorFkO0OhVgWbnOMMcg8EC6XG7amL4G1Z1tYLOW0aJ72/1KRg7gmEpcN8pxkH73UHt3q/e+MXtY7gxaW9y8OrJpixxzAM5YKd/IAH3uhPbrUFr4LvdNsbP+ztbH2+0u7mcXN1a+YsqzuzMjorpnkg5UryvTBxWdrPh+60rToEOqvNdX/iKC6+0eQq+WzYGAvIKjbx3xxnPNJv3l8l+K/S5NR6Sa83+D/4A7xTrV7P4b1nSta0+GyvI7aO4j+zXRniljMgUkMUQggjkFe4wTng8VTWfleJwlqIZ4vsHn3JlJEo8wFflPC7Rnp1zWjc+DrzVINSk1rVop769gS2SS3tDFFbxK2/CoZGJJbkktzheBjmzqnhJdTbWd92FXVPs4KmHcEERzjr8278Me9KSf8AXzJ15vL+v1HW/iae+02+1OxsYf7OhXNrdXV15K3IH3pDlTsiHUPySASFxgnIh+JNvJol5ebdNeW1u47VpYNTWSyzIAVc3GwbVGcHKZB4wcirVz4Im+zNZWGpRRafFcx3dlaXNoZ0tpFbO3767oupCcFTjDAAKLEPhzWbdtQuY9btHvdQljeUzacWhCrHsKCMSg4PXl8juTT/AK/IsWS6eXW/D41zSYYtQeW48poLxpEgxGfmB2rv3LxyBjNdLXMaP4Lj0caT5NygXT5riYxRW4jjLTZysa5PloCxwvzccZ7109PqSr3YUUUUDCiiigAooooAKp3f+uH+7Vyqd3/rh/u0Ac7qGt3q61/ZOiafFeXSQC4na5uTBFEjEqo3BHJYlW4C4wDkjgFl3reo/wBprpemadbXN/HbLcXInu2ihiDEqAriNixJVv4RwMnHSp9R8Pre6kuo2mo3umXnleS81oYz5sYOQrLIjqcEkg4yMnnBNMvPDn2m7jvLbVr+xvVgEEtzb+SWnQHI3q8bJkEk5CjGT2OKXT+v67Ddun9bf8EyYvG9zf3Gm2mk6N511ew3DOk92IltngkWN1dgrZGSQCoOcDjBJFq08XPOmnPPp4hS4vZbC7YT7hazoWAH3fmVmUgNx95eOcClceELiLxJo/8AY11d6dZWdlcxyXUDRPI0kkkbfN5qvuLEMxOOvcZ5ta3ocieGToOjWE0zXTM3255kAt5S4fz3JYMW3ZYbVPIx8o6U7aW/rX/L9A62/rb/ADDVvElyfCuu31hGkQtXe2tLgPv8xwQhfaAMBXJHU52npWzYaLZWGgx6SsSy2oiMciyDd5ufvl8/eLEkknqSajk0C0l8LNoJ3i1a2NuWDHdgjG7PXdnnPrTLKXWLfw23221S51S3RkCpIFW6ZeFfJ+6G4JB+7kjnHK6Nf0xa3T/pf1/W5W8HSSLpd1YSyvN/Zt5LaJI+SzRqQUyT1IVgM98V1lp/qT/vVg6Dpb6TpKwXEomuZJHnuJVGA8rsWYgHtk4HsBW9af6k/wC9R0VwJ6KKKACiiigAooooAKKKKAGy/wCpf/dNc9rWqjSNPEywm4nklSCCENt8yRzhQSegyck84APB6V0Mv+pf/dNYGr6VDrNgbWeSWHDpLHNCwDxOrBlYZBGQQOCCD3BFAHOaJLqr+OfEL3tnZw3g06z8uGG7aSNvmuMZcxqRk9flOPfpVnwvcWtjpGs3EmnR6abe+nkvEguXuFeQAM7hmVTz6YHSrll4ZSxuL+7j1TUJL6/hjhlu5XjZl2btrKuzYp+c8BdvGcZJJbpXhYaab1ZtXv8AUYL4u08F2sGxmcAM3yRKc4GMZxz0pyvd27fjp/X3B1Xr+lh2l6prmpWv2ttHtLa3mhMtsst+xlYnlBIoiKpkdcM+PeszwVf+ILtbv+07W0Nuuo3aNMNQklkTErAIqmIAqOgO4cdh0rY0jQ5dIYIms6jdWqJsitbkxMsY7YcRiQ4HGWY++TzTLfQzpN7d3the37wyvJcNpieSY3kYZO0soYEnnG8DJ7CjTmv0sGvLbrc2q5KIX1t8T7eG41O4uYrjTbmUwk7IkxNEECoOMgMfmOWOTzjAGguv6kzAHwjrKgnGTNZ4H/kxUcnhSSXxJHrR8QaoJ41aNIwttsWJmVjH/qc4yq853cdaI6ST9fyDo1/W50NYMmuajda1dWGh6ZBcrYsqXU93dmBQ7KG2oFjcsQpBOdo5GCecX5dK8zXoNU+33qeTC0X2RJsW75OdzJjlh2OaqXHhzdqs1/p2q3+mSXJU3KWxiZJiowGKyI+DgAZXGQBnOBSW4dGRXuu6m2q3VjoOlQXr2UatcNc3ht13MCVRMRvuOBk52gZHJ5xQt/Gtzq95b2/h7SFuvtGnR36yXV2IFRWZlKNhXO4FewI68jGTqX3hsXWoy3tnquoaZLcIqXAtGj2zBeASHRtpAJGV2n34GMdvCN1H4uV9Ku7vR9Mh0mK0jezMLFisjnYRIjngEHIA69aS3t/Wz/4BWln/AF1X/B/ra/pfi1dQudNEln9nt9QtZJEmaUHZNG2JISMYyBkg55CtxxVPVtautV8Fwz2ymyGrXcVrDLHKWbyJJQvmggDazR5I9CRzS674c+22Fh4d0zT5rezhkSQ6h54AhQE71B3eY0jKWUkjGHJLZ4O1rmipq2gvp8Li2ddj20irkQyRsGjbHcBlHFPS2vf8Ov8Akidfn+v9aks+jWE+hNo5t0SxMPkrEg2hFAwNvoRxgjoQKp+D724v/ClnJeyma4j3wSysuDI0btGX/Hbn8amluNZfw4JIbGOPVnQJ5TSho4nJwXLfxIPvY6kcYBqfRtMj0XRbTToXaRbeMIZH+9Ie7H3JyT9afVi6I3Lb/j3X8f51LUVt/wAe6/j/ADqWkMKKKKACiiigAooooAKKKKAIrm4itLSa5uG2RQoZHb0UDJP5VxWp6pq+oz+HJr7Ro7OzuNUhkgdbvzJVBRyBKhRQhIxwrPg8Z712l3axXtlPa3ALRTxtG4BxlWGDz9DXNReE9WdtKj1HxAlzbaTcpNAqWWySUKrKBK+8hjhhyqqMgnHPC15l6r89QfwteT/LQtTeKvK8LnWPsecXotPJ83/p58jdnH/AsY9veqz+KtXmvtZh0vQI7mLR7jyppJb7yzMPKST92uw5bDYwxUfd+bk7YLnwVqE9rNpseuJHpTX4vo4fse6ZW88TFDIZMMm7djCgjI5OMGlp2m6vqGteL4tM1mOwt5tT8qYNZ+bIoNrBlom3qFbBPLBxwDjrlrW9u3+X/BHokr9/8yrq2q6ddv4m1aW1N/p03hi2uDbmQxedGxnbbuHK5B6jpV4a2uk+NtatbK2+2ajdJaLa2avt3AI2WZsHYig8sQewAJIBv3vgSCew1OztLr7LBe6PFpUSeVu8hU8wBuo3cSdOOnXmn3/gtbrWLvV7a+NrqbiL7JcpFk25RSCDz86Nn5kOOnqARU7acvf8CXdtN/1ov1I/E3jVvC9xF/aEWlpAyqzJLqgjuZOQG8mEp+8Az3ZScHjpm1H4lu7vxTdaVp1jayx2MkaXRmvjHOFcA+YkOw7kAb7xZckMB05zr7wRqF5Hq8Mes20EWs7Xu2XT8ylwirhXMnEfy/dIJG5sN0I0NQ8M3eq69a3d/e2b2tlcC4tVWwxcwkYyon8wjaSOQEBI4z3pLdX/AK/r+rA76k3g6W0n0GSTT7L7FEb67Bi80yZcXEis2T/eYFsds47Vzni3XdS1Twdqc9tpEZ0hm8pLk3eJm2yBTJ5RTGzIODv3EYO3nFdb4f0f+wtLaz8/z91zPPv2bf8AWyvJjGT034z3xnisG78FalPpFzosGvLDpEshkijNnvnjy4fYZC+GTORjYGwQN3GSpavTYJaxZN4i8ajw5rENteJpogkeNQsmpql3IHYLujgKfOoJ/vg/K3HAy+fxDc3t3rtj/ZEb2GmBormaS7KGUGASAIoQ8/Ng5IwMEE9BBe+Cry4fU4bbVoLex1G7S8lUWO6cuCh2mXfgr8mANuQCADxWtH4f8v8At7/Sc/2xJv8A9X/qf3KxY6/N9zPbrj3qJXcH3t+On/BNI25hbHULLTfBNtqJiNrYW+npP5YYuYoxGG25PLYHHqa5zUdQ1i88QeFG1TRorGGXUWkiaO8811/0ab5ZV2LtbB/hLjhuemeo/sOCXwoNBvHaWA2Ys5HX5Cy7NhI9DWTH4X1ibUNHn1bxBHdR6TOZYkisfKaf908eZW3tlvmzlQo+98vI27Nrnb6GcLqmk97P8ipo+vJBpsFn4c0VTeXl7fMltLdssaiO4ZZZXkKsVBYghQp5cDoCQ+51rxUnjDQ7E6dp8MN1b3D3MP29mBKOg3BvIzwrZA43biDt2jM8Pg65sLe2k0vVVg1C1uLqRJ5bbzI3juJTI0bxhwSAduCGByoPQkVautD1KW50vUv7RgfUbASrK32M+XPHJgsip5g2H5F2ks2Mc5zUu17laX+83znadpAOOCRmuX8LjUoPEmuWeq6tPqbwpbMHkRY1UsrFgiKMKufXJ6ZY4zWjZa3f3V5HDP4Y1WyjbOZ55bQonHcJOze3ANT2ek/ZNd1LUvO3/blhHl7MbPLBHXPOc+gpakvdGjRRRQMKKKKACiiigAooooAKKKKACiiigAooooAKKKKACiiigAooooAKKKhn/h/GgCaiqlFAFuiqlFAFuiqlFAFuiqlFAFuiqlFAFuiqlFAFuiqlFAFuiqlFAFuiqlFAFuiqlFAFuiqlFAFuiqlFAFuiqlFAFuiqlFAFuiqlFAFuiqlFAFuiqlFAFuiqlFAFuiqlFAFuiqlFAFuiqlFAFuiqlFAFuiqlFAFuiqlFAFuiqlFAFuiqlFAFuiqlFAFuiqlFAFuiqlFAFuiqlFAFuiqlFAFuiqlFAFuiqlFAFuiqlFAFuiqlFAFuiqlFAFuiqlFAFuiqlFAFuiqlFAFuiqlFAFuiqlFAFuiqlFAFuiqlFAFuiqlFAFuiqlFAFuiqlFAFuiqlFAFuiqlFAFuiqlFAFuiqlFAFuiqlSwfxfhQBNRRRQAUUUUAFQz/w/jU1Qz/w/jQBFRXNeLRNLfeH7SO7ubaO61ExzG2mMbOnkSkqSOcEgdOR1BBANcreQ3Vnofi67j1jVWfw/cOdOV76QiMCGObD85mBZyMSbsLwMVUVzP8Ary/zG1a3n/wf8j0+ivO9T/4SDWtc1tLKSGFtOZFtpG1qez+zgxK4kaJImSQFixy5IIXGBg5umwudY13XYdR1TUEW2tbYxx2V7JAkcpjfc6lCCeex44GRUN2V2JatLudvVK61OG01OxsZFkMt8XEZUDaNi7jnn0+tcdoV3L4tewj1q/uof+JJa3qxWlzJa+bJIG8yQtGylgMKNucDdyORWbo3ma7B4X8/Vbu5SS/1NTdrPiSaMNKFxIuCo2gcpjA6YqpRcb+T/WxPNpf0/wAz1CivPo76SGPUPDwe/vW/thrOxB1GSJyv2dJyJLnJkCjLcjLYAGCM1St9Sv8A+xorW61Z7IQeJVsjNDfmfbHtyYjNIAX+YlcsMg8dQKXVLvb8bf5jbt+P4X/yPTqK8+1KeTQbrWrSw1O9axtoLS5lNxdyTNauZsP+8diwVo1yVJwACeN1aet3t1N4tm03TNVW0uP7EmkXe+UikaRFjkZenrg49aV7v7/wv/kN6b+X42/zOuormPCJWC4v7CaHUbe9txH58V3qL3sZzu2vFI7FtrYPBCngfKO9K/Wez8XC81SS9nsp7yKG0msdRdEtW+UeVNb7grBmLfNhz82CFABquthdGztKK840YeJNVktdZintoma/23EsmtzsuwSlHh+y+V5SsANowc5AO4nJMMqXx0P+1ota1SK9PiFrNXF2zIkL3hhKeUcocKxwSpIOMHAABFc1rdf+B/mN6Jv+uv8Akem0V55qE8+g3et2Frf3v2O2OmXQe4u5ZniElwVl/eOxbYVjyQTgZbsTWprXiCLTPFl8Zrub7PZaG9zNBA4LKfM4YKTt3YBwT/Kk90u/+Vweiv8A1q1/mdfVI6nCNcGlbZPPNsbndgbdoYLjOc5yfSuT8NSahY+OH025DQQTacbn7NJq8t+6kSAKzeYMxnBIwpKnHXjNV/GeoXun+MoXs2a3hk00x3d8q7zZQmYbpQvfHAzyFzuIIUil1j53/J/qhX0dulvxt+jPQaK4DUodRvPES6JpbG5srbTop4PM165tJJCzOGk8yNHaXGFHLYGehyMTxahrGgWofVLxL+5vdOQQssu6JrtTsAU4H396HhQMqxxzT/r+vuH1t/XT/M7iiqml2b6fpNraS3Et1JBEqPPM5Z5CBgsSepJ5q3TejAKKKKQBRRTGfacYzQA+io/N9v1o832/WgCSio/N9v1o832/WgCSio/N9v1o832/WgCSiqv9o222dvPi22xxOfMH7o7Q3zenBB57EGpVnDqGTDKwyCDkEUAS0U1H3Z4xTqACiiigAooooAKKKKACikJwCaZ5vt+tAElFR+b7frR5vt+tAElFR+b7frR5vt+tAElFR+b7frR5vt+tAElFR+b7frR5vt+tAElFR+b7frR5vt+tAElFR+b7frR5vt+tAElFR+b7frT1O5c0ALRRRQAUUUUAFFFFABRRRQAUUUUAFFIx2rmmeb7frQBJRUfm+360eb7frQBJRTVbcM9KdQAUUUUAFFFFABRRRQAUUUUAFFFFABRRRQAUUUUAFFFFABRRRQAUUUUAFFFFABRRRQAUUUUAFSwfxfhUVSwfxfhQBNRRRQAUUUUAFQz/AMP41NUM/wDD+NAFWW3gnkieaGOR4X3xM6gmNsEZHocEjI7E1G+nWUkNzFJZ27R3ZJuUaJSJiVCneMfNwAOewApmp6rZ6ParPfyMis4jRY42keRj0VUUFmPBOACcAnoDWFpfiuG71XXZXuJXsbJbcJF9lcSxsynKmPb5m4nHykZ5GBzRcHpY2b7QdH1O6hudS0qxu54MeVLcWySNHg5G0kZHPPFWxbQLLLKsEYkmAErhBmQDgAnvjPesr/hLtEXSp9RmvDb21vKsM5uYJIWhdiAodHUMudynJAGDnpzVjS9f0/WJp4bJ5hNbhTJDcW0kDqGztbbIqkqcHBAxwaLaB5mZruiTXC2ttY+HPD+o2dtGBbx6gxjFsw4GxRE4xjbwNuMfle0LQYdI0u1gm8u5uYXklNwYwP3krFpCoOSoJY8Z6cVbXVbJnvV88KbAj7TuBXy/lD5yRyNpzkcdfQ1Qn8XaPbLA88tysU8aSCb7DOY41f7pkfZtj6jhyuO+KAaLt1omlX0E0F9plncxXEglmjmt0dZHAADMCOTgAZPPArP1Tw1b3MNhb2FpZwW8N6k88QjCrIgQoRgDBOMDnsKZFrv2bxFrMeo3G2ztjaJCNmdrS5XHAycsV69PateTUrOK/NnLOqTrAbgqwIAjBwWLdOvvS0/ry1/T7g3V/wCuwyz0bTNOsHsdP020tbSTO+3ggVI2yMHKgYORUMHhvQ7W1e2ttG0+G3dGjeKO1RUZWxuUgDBBwMjvgU3TfEul6rdm2s5phNs8xFntpYfNTOC8ZdQJF5HK5HI9RWrT8xaFTTtL0/SLU22k2NtYwFixitoVjXJ6nCgDPFRroWkJq7aqmlWS6i3W8FugmPGPv4z0469Kv0UDM8aBo41j+1hpNiNSzn7YLZPO6bfv43dOOvSp/wCzrLyPJ+x2/leb5+zyl2+Zu378Y+9u+bPXPPWrNFAFeSws5mnaa0gkNzGIpy0YPmoM4Vv7w+ZuDxyfWoLPQtI0+HyrDSrK1jKNGUgt0QbWOSuAOhPJFX6KAKGn6HpOk4/srS7KywCB9mt0jwDgn7oHXA/IVaa2ga489oIzNsMfmFBu2Zztz1xntUtFAGVP4X0C5sYLK50PTZrS2z5FvJaRtHFnrtUjAz7VDeaPPf69pzzR20Wm6WxmgVGJd5dhQZXaAiqGbGCckjpjnboo63AKKKKACiiigAqKX734VLUUv3vwoAwdQ1u9XWv7J0TT4ry6SAXE7XNyYIokYlVG4I5LEq3AXGAckcA5njvT7a68N217f2Nq19b3Vp5cu0SNAWuIgwRyAQD0zxn0rX1Hw+t7qS6jaaje6ZeeV5LzWhjPmxg5CssiOpwSSDjIyecE1Frfhp9dsobWfW9Rt4o9hcQLBmV0YMrtuiODuUHC4HtS7FKyl5FfxP4vt/D15aWZfT0ublHkDajfi0hVFwD85ViWJYYUKe5JGOYofGtvc+EU1uA2EYMzQM13qCxWyurFWPn4O5SV+UhSTkcDnF668OG5+yTDWNQh1C1RoxfxeSJJEYglWUxmMjIB+4MY4xzlL3w0b+208T6xqH2zT5mmhv1EAlyyspBXy/LI2uR9zsO9Pp/X9bC/r+vmZMXxAEvh5dRh09L2X+0l04xWF2kyOzEANHIQoYYYddvfOMZq5d+ItUsvD+u3Oo6Utpc6bbNNEYpWmhmGwsMOUQkgggjHHHJzU0Pg+zithE93eTsdQTUXllkUu8yhevy4wducADGcDAwBs3lpDf2M9ndLvhuI2ikX1Vhgj8jSfwvv/wABfrcI/Er7f8F/pYpeH9Lj0vQLe0B852TfPK4+aeRuXdvUsSTWd4RBsrjWdFRibbTbwLbAj/VxSRrIIx7KXIA7KFHaruhpqdhoRtdRiNzcWQMUUquubtFHyP1+ViOCDj5ge2DS+HtNuLCznm1Exm/vpjc3PlcqrEABAT1CqqrnvjOBnFW37ztt/Vv66bErSKT3/r+vM24u9SVHF3qSpGFFFFABRRRQAUUUUAI33T9KyNa1UaRp4mWE3E8kqQQQhtvmSOcKCT0GTknnAB4PStdvun6VlavpUOs2BtZ5JYcOksc0LAPE6sGVhkEZBA4IIPcEUAc5okuqv458Qve2dnDeDTrPy4YbtpI2+a4xlzGpGT1+U49+lWfC9xa2OkazcSadHppt76eS8SC5e4V5AAzuGZVPPpgdKuWXhlLG4v7uPVNQkvr+GOGW7leNmXZu2sq7Nin5zwF28ZxkkluleFhppvVm1e/1GC+LtPBdrBsZnADN8kSnOBjGcc9Kcr3du346f19wdV6/pYdpeqa5qVr9rbR7S2t5oTLbLLfsZWJ5QSKIiqZHXDPj3rM8FX/iC7W7/tO1tDbrqN2jTDUJJZExKwCKpiAKjoDuHHYdK2NI0OXSGCJrOo3VqibIrW5MTLGO2HEYkOBxlmPvk80y30M6Te3d7YXt+8MryXDaYnkmN5GGTtLKGBJ5xvAyewo05r9LBry263NquSiF9bfE+3huNTuLmK4025lMJOyJMTRBAqDjIDH5jljk84wBoLr+pMwB8I6yoJxkzWeB/wCTFRyeFJJfEketHxBqgnjVo0jC22xYmZWMf+pzjKrzndx1ojpJP1/IOjX9bnQ1gya5qN1rV1YaHpkFytiypdT3d2YFDsobagWNyxCkE52jkYJ5xfl0rzNeg1T7fep5MLRfZEmxbvk53MmOWHY5qpceHN2qzX+narf6ZJclTcpbGJkmKjAYrIj4OABlcZAGc4FJbh0ZQ8X6dZPe6JqD2du17HqdvGlyYlMipuPyhsZA5PFHiPxrb6HqyaYkmmJc+SJ3OqakLOPaSQArFWLMSDwBgAcnkZu654bfW7iCRtb1GySB0ljhtlg2iRSSH+eJjnnpnHHSluvDhnuYru31fULO+WAW8t1AIS1wgORvVo2TOSTkKMbjjg4pJNK3n+i/VB9q/kvzf6FC48b2/wDwjmn6tatpsMd8CVOqaktrGMcFQ4V9zZ6YBBAJz0zGnjlrnStCurDSzdTazLJAkSXK7Y3RXJO/GGTKH5gM7eQpPy1o3nhg3d3Z3q6zqNvfWtu9ubuEQb5kYqTuDRlc5QHKqtFr4SsLNdKWKW6I0qeWeDfIGLNIHDBiRkj94ffpknvWnUC5o1/eX0E41LTzY3NvMYnRXMkb8Ahkcqu5SCOcDkEdq14/uCoamj+4KQDqKKKACiiigAooooAKKKKACiiigBsn3DWfqV9Hp9i9xKsrAcDyomkOT04UHA9SeB1JArQk+4aruu+Nl6bgRSlsNbnP+FdDsoPBlrbT2dpI15bI98QqSLdSMg3s7DIkzzyc5pPB/l2dndaQisBZXU4jCgtGkRlYoiv935VwNmcrgAgDFSeGhf6Z4Rgs73S5xc6bAtuEjkib7VsUANGd4ADY437T64qfwxZ3Vno7fb4RBPcXU9y0O8MYxJKzhSRwSAwBxkZzgnrWkrcza2D7Nnvf/M3Yvu/jT6ZF938afUCCiiigAooooAKKKKACiiigAooooAKKKKACiiigAooooAKKKKACiiigAooooAKKKKACiiigAqWD+L8KiqWD+L8KAJqKKKACiiigAqGf+H8amqGf+H8aAOd8Q218L7S9T0+z+3mxlcyWquqyOroV3IXIXcPQkZBPPrg3Fn4lmutZv4dPubNLyW0xBBcwi5kgVSJFDbtiPz1DdPutnBHd0UrB5nncXhjU2s9UEem3UKXWo2FxDFe3/wBpl8uN4y5Z2duRtbjcRxxmusWxuR42kvzH/op09YRJuH3xITjHXoa2KKfb+ulg6W/re5y3iLQru+1UfYYg1rqcSWupHIG2NH3ZwSM5UyJxk/OvYVh+M9D17WIdcsksdQvVnhKaYbbUFtrWFfLAKyIJFZ2LBuGVl5UZUbsei0U4uw763ON1XQdTuJdemtbdWaU2M1qrSKPOaBt7J1+XJXGTgc1DqOk6x4nv9RabTX0u3utFlsozczIziVnz8wjZgBjHIJ4z0PFdxRU21v6/irEpWjy/1vf9DkfDejhNTiurvRNXs7m3hZRNqGsNdx7mwGEamZ+DjqyqcAfh11FFMErBRRRQMKKKKACiiigAooooAKKKKACiiigAooooAKKKKACiiigAooooAKKKKACiiigAooooAKKKKACiiigAooooAKKKKACiiigAooooAKKKKACiiigAooooAKKKKACiiigAooooAKKKKACiiigAooooAKKKKACiiigAooooAKKKKACiiigAooooAKKKKACiiigAooooAKKKKACiiigAooooAKKKKACiiigAooooAKKKKACiiigAqWD+L8KiqWD+L8KAJqKKKACiiigApGQN94ZpaKAGeUnp+tHlJ6frT6KAGeUnp+tHlJ6frT6KAGeUnp+tHlJ6frT6KAGeUnp+tHlJ6frT6KAGeUnp+tHlJ6frT6KAGeUnp+tHlJ6frT6KAGeUnp+tHlJ6frT6KAGeUnp+tHlJ6frT6KAGeUnp+tHlJ6frT6KAGeUnp+tHlJ6frT6KAGeUnp+tHlJ6frT6KAGeUnp+tHlJ6frT6KAGeUnp+tHlJ6frT6KAGeUnp+tHlJ6frT6KAGeUnp+tHlJ6frT6KAGeUnp+tHlJ6frT6KAGeUnp+tHlJ6frT6KAGeUnp+tHlJ6frT6KAGeUnp+tHlJ6frT6KAGeUnp+tHlJ6frT6KAGeUnp+tHlJ6frT6KAGeUnp+tHlJ6frT6KAGeUnp+tHlJ6frT6KAGeUnp+tHlJ6frT6KAGeUnp+tHlJ6frT6KAGeUnp+tHlJ6frT6KAGeUnp+tHlJ6frT6KAGeUnp+tHlJ6frT6KAGeUnp+tHlJ6frT6KAGeUnp+tHlJ6frT6KAGeUnp+tHlJ6frT6KAGeUnp+tHlJ6frT6KAGeUnp+tHlJ6frT6KAGeUnp+tHlJ6frT6KAGeUnp+tHlJ6frT6KAGeUnp+tHlJ6frT6KAGeUnp+tHlJ6frT6KAGeUnp+tHlJ6frT6KAGeUnp+tHlJ6frT6KAGeUnp+tHlJ6frT6KAGeUnp+tHlJ6frT6KAGeUnp+tHlJ6frT6KAGeUnp+tHlJ6frT6KAGeUnp+tHlJ6frT6KAGeUnp+tHlJ6frT6KAGeUnp+tHlJ6frT6KAGeUnp+tHlJ6frT6KAGeUnp+tHlJ6frT6KAGeUnp+tHlJ6frT6KAGeUnp+tHlJ6frT6KAGeUnp+tOVAv3RilooAKKKKACiiigAooooAKKKKACiiigAooooAKKKKACiiigAooooAKKKKACiiigAooooAKKKKACiiigAooooAKKKKACiiigAooooAKKKKACiiigAooooAKKKKACiiigAooooAKKKKACiiigAooooAKKKKACiiigAooooAKKKKACiiigAooooAKKKKACiiigAooooAKKKKACiiigAooooAKKKKACiiigAooooAKKKKACiiigAooooAKKKKACiiigAooooAKKKKACiiigAooooAKKKKACiiigAooooAKKKKACiiigD//2Q==)"
      ],
      "metadata": {
        "id": "vhefb3d6TsoO"
      }
    },
    {
      "cell_type": "markdown",
      "source": [
        "**len()**"
      ],
      "metadata": {
        "id": "9t8EKeHaTvgp"
      }
    },
    {
      "cell_type": "markdown",
      "source": [
        "Sama seperti struktur data list, method `len()` akan mengembalikan panjang dari sebuah dictionary."
      ],
      "metadata": {
        "id": "OUyYQqJJTwf6"
      }
    },
    {
      "cell_type": "code",
      "source": [
        "# Coba jalankan code dibawah\n",
        "\n",
        "warna_buah = {'Pisang':'Kuning', 'Apel':'Merah', 'Kiwi':'Hijau'}\n",
        "print(f'Panjang dictionary warna_buah adalah {len(warna_buah)}')"
      ],
      "metadata": {
        "colab": {
          "base_uri": "https://localhost:8080/"
        },
        "id": "oMu8fVipTuGl",
        "outputId": "9de39888-634b-47dd-8f5c-96918cbadea2"
      },
      "execution_count": 15,
      "outputs": [
        {
          "output_type": "stream",
          "name": "stdout",
          "text": [
            "Panjang dictionary warna_buah adalah 3\n"
          ]
        }
      ]
    },
    {
      "cell_type": "code",
      "source": [
        "# Coba cari panjang dictionary di bawah ini dengan method len()\n",
        "\n",
        "num_kuadrat = {1:1, 2:4, 3:9, 4:16, 5:25}\n",
        "print(f'Panjang dictionary num_kuadrat adalah {len(num_kuadrat)}')"
      ],
      "metadata": {
        "colab": {
          "base_uri": "https://localhost:8080/"
        },
        "id": "NbNOKCqdT5ik",
        "outputId": "74b30249-5429-4931-9f2b-0cc9b705f17c"
      },
      "execution_count": 16,
      "outputs": [
        {
          "output_type": "stream",
          "name": "stdout",
          "text": [
            "Panjang dictionary num_kuadrat adalah 5\n"
          ]
        }
      ]
    },
    {
      "cell_type": "markdown",
      "source": [
        "**get()**"
      ],
      "metadata": {
        "id": "Z01GTSIjUBTg"
      }
    },
    {
      "cell_type": "markdown",
      "source": [
        "Method `get()` akan mengembalikan element dari suatu key."
      ],
      "metadata": {
        "id": "RXOfGER6UDkp"
      }
    },
    {
      "cell_type": "code",
      "source": [
        "# Coba jalankan code di bawah ini\n",
        "\n",
        "biodata_siswa_1 = {'Nama':'Andrew', 'Umur':25, 'Alamat':'Ambon'}\n",
        "print(f'Nama siswa tersebut adalah {biodata_siswa_1.get(\"Nama\")}')\n",
        "print(f\"Umur siswa tersebut adalah {biodata_siswa_1.get('Umur')}\")"
      ],
      "metadata": {
        "colab": {
          "base_uri": "https://localhost:8080/"
        },
        "id": "OPlxEN9MUGyy",
        "outputId": "a46dd9d4-f9e6-432f-bdb5-04d506772c85"
      },
      "execution_count": 19,
      "outputs": [
        {
          "output_type": "stream",
          "name": "stdout",
          "text": [
            "Nama siswa tersebut adalah Andrew\n",
            "Umur siswa tersebut adalah 25\n"
          ]
        }
      ]
    },
    {
      "cell_type": "code",
      "source": [
        "# Coba tampilkan umur dari Andrew dari dictionary di bawah\n",
        "\n",
        "biodata_siswa_1 = {'Nama':'Andrew', 'Umur':25, 'Alamat':'Ambon'}\n",
        "print(f'Umur {biodata_siswa_1.get(\"Nama\")} sekarang {biodata_siswa_1.get(\"Umur\")} tahun')"
      ],
      "metadata": {
        "colab": {
          "base_uri": "https://localhost:8080/"
        },
        "id": "rP7JZmqiUayr",
        "outputId": "0225da9e-0dea-4294-fa97-3783733ab893"
      },
      "execution_count": 20,
      "outputs": [
        {
          "output_type": "stream",
          "name": "stdout",
          "text": [
            "Umur Andrew sekarang 25 tahun\n"
          ]
        }
      ]
    },
    {
      "cell_type": "markdown",
      "source": [
        "**keys()**"
      ],
      "metadata": {
        "id": "CmiTtl3qUjfl"
      }
    },
    {
      "cell_type": "markdown",
      "source": [
        "Jika ingin **mendapatkan semua key** didalam dictionary bisa menggunakan Method `keys()`. Method ini akan mengembalikan semua key di dalam dictionary dalam sebuah list."
      ],
      "metadata": {
        "id": "cu4HY6-RUlF6"
      }
    },
    {
      "cell_type": "code",
      "source": [
        "# Coba jalankan code di bawah ini\n",
        "\n",
        "biodata_siswa_1 = {'Nama':'Andrew', 'Umur':25, 'Alamat':'Ambon'}\n",
        "print(biodata_siswa_1.keys())"
      ],
      "metadata": {
        "colab": {
          "base_uri": "https://localhost:8080/"
        },
        "id": "cGe99bfRUrz0",
        "outputId": "81b249a1-72a6-4173-f2ab-962c68ca9fae"
      },
      "execution_count": 21,
      "outputs": [
        {
          "output_type": "stream",
          "name": "stdout",
          "text": [
            "dict_keys(['Nama', 'Umur', 'Alamat'])\n"
          ]
        }
      ]
    },
    {
      "cell_type": "code",
      "source": [
        "# Coba dapatkan semua key di dalam dictionary di bawah dengan method keys()\n",
        "\n",
        "warna_buah = {'Pisang':'Kuning', 'Apel':'Merah', 'Kiwi':'Hijau'}\n",
        "print(warna_buah.keys())"
      ],
      "metadata": {
        "colab": {
          "base_uri": "https://localhost:8080/"
        },
        "id": "PoOVUUZaUv40",
        "outputId": "231fa273-94f1-43f4-e039-05bf1eb88dd8"
      },
      "execution_count": 23,
      "outputs": [
        {
          "output_type": "stream",
          "name": "stdout",
          "text": [
            "dict_keys(['Pisang', 'Apel', 'Kiwi'])\n"
          ]
        }
      ]
    },
    {
      "cell_type": "markdown",
      "source": [
        "**values()**"
      ],
      "metadata": {
        "id": "gb2vcnMlU6tG"
      }
    },
    {
      "cell_type": "markdown",
      "source": [
        "Dengan method `values()`, kita bisa mendapatkan semua element di dalam dictionary dalam sebuah list."
      ],
      "metadata": {
        "id": "2kaEYcQyU8Kw"
      }
    },
    {
      "cell_type": "code",
      "source": [
        "# Coba jalankan code dibawah\n",
        "\n",
        "biodata_siswa_1 = {'Nama':'Andrew', 'Umur':25, 'Alamat':'Ambon'}\n",
        "print(biodata_siswa_1.values())"
      ],
      "metadata": {
        "colab": {
          "base_uri": "https://localhost:8080/"
        },
        "id": "6225ip9eU_dT",
        "outputId": "4c8ee31c-2431-4ae1-e66f-8a09519aeeaa"
      },
      "execution_count": 24,
      "outputs": [
        {
          "output_type": "stream",
          "name": "stdout",
          "text": [
            "dict_values(['Andrew', 25, 'Ambon'])\n"
          ]
        }
      ]
    },
    {
      "cell_type": "code",
      "source": [
        "# Coba dapatkan semua values dictionary di bawah menggunakan method values()\n",
        "\n",
        "warna_buah = {'Pisang':'Kuning', 'Apel':'Merah', 'Kiwi':'Hijau'}\n",
        "print(warna_buah.values())"
      ],
      "metadata": {
        "colab": {
          "base_uri": "https://localhost:8080/"
        },
        "id": "b5yuwE1vVD4I",
        "outputId": "d16e6520-99d6-4726-f889-ce900bcfb120"
      },
      "execution_count": 25,
      "outputs": [
        {
          "output_type": "stream",
          "name": "stdout",
          "text": [
            "dict_values(['Kuning', 'Merah', 'Hijau'])\n"
          ]
        }
      ]
    },
    {
      "cell_type": "markdown",
      "source": [
        "**pop()**"
      ],
      "metadata": {
        "id": "yal9whPQVK3A"
      }
    },
    {
      "cell_type": "markdown",
      "source": [
        "Method `pop()` akan mengeluarkan atau menghapus key-value pada sebuah dictionary."
      ],
      "metadata": {
        "id": "2NHD63zAVL4x"
      }
    },
    {
      "cell_type": "code",
      "source": [
        "# Coba jalankan code di bawah\n",
        "\n",
        "dict_kuadrat = {1:1, 2:4, 3:9, 4:16, 5:25}\n",
        "dict_kuadrat.pop(5)\n",
        "print(dict_kuadrat)"
      ],
      "metadata": {
        "colab": {
          "base_uri": "https://localhost:8080/"
        },
        "id": "lbFa01GdVQGC",
        "outputId": "76d75b48-a413-4da1-afaf-7cd9decf3cf8"
      },
      "execution_count": 26,
      "outputs": [
        {
          "output_type": "stream",
          "name": "stdout",
          "text": [
            "{1: 1, 2: 4, 3: 9, 4: 16}\n"
          ]
        }
      ]
    },
    {
      "cell_type": "code",
      "source": [
        "# Coba hapus key-value apel pada dictionary di bawah\n",
        "warna_buah = {'Pisang':'Kuning', 'Apel':'Merah', 'Kiwi':'Hijau'}\n",
        "warna_buah.pop('Apel')\n",
        "\n",
        "# kemudian print dictionary warna_buah\n",
        "print(warna_buah)"
      ],
      "metadata": {
        "colab": {
          "base_uri": "https://localhost:8080/"
        },
        "id": "d6krg7KUVWH-",
        "outputId": "768c61f3-de66-4860-fd85-4f954154348c"
      },
      "execution_count": 27,
      "outputs": [
        {
          "output_type": "stream",
          "name": "stdout",
          "text": [
            "{'Pisang': 'Kuning', 'Kiwi': 'Hijau'}\n"
          ]
        }
      ]
    },
    {
      "cell_type": "markdown",
      "source": [
        "**update()**"
      ],
      "metadata": {
        "id": "2LHpZT_sXPH2"
      }
    },
    {
      "cell_type": "markdown",
      "source": [
        "Jika kita ingin menambahkan data pada dictionary bisa menggunakan method `update()`. Method ini hampir sama dengan method `append()` dalam list."
      ],
      "metadata": {
        "id": "9FJK4baZXQXh"
      }
    },
    {
      "cell_type": "code",
      "source": [
        "# Coba jalankan code di bawah\n",
        "\n",
        "warna_buah = {'Pisang':'Kuning', 'Apel':'Merah', 'Kiwi':'Hijau'}\n",
        "warna_buah.update({'Sirsak':'Putih'})\n",
        "print(warna_buah)"
      ],
      "metadata": {
        "colab": {
          "base_uri": "https://localhost:8080/"
        },
        "id": "yy4rFgQGXUP8",
        "outputId": "9ddf44ec-374c-4c5e-a5cd-efd268ad4193"
      },
      "execution_count": 28,
      "outputs": [
        {
          "output_type": "stream",
          "name": "stdout",
          "text": [
            "{'Pisang': 'Kuning', 'Apel': 'Merah', 'Kiwi': 'Hijau', 'Sirsak': 'Putih'}\n"
          ]
        }
      ]
    },
    {
      "cell_type": "markdown",
      "source": [
        "Kita juga bisa menambahkan dictionary yang lain pada sebuah dictionary dengan method `update()`."
      ],
      "metadata": {
        "id": "UElUammJXbsa"
      }
    },
    {
      "cell_type": "code",
      "source": [
        "# Coba jalankan code dibawah\n",
        "\n",
        "warna_buah = {'Pisang':'Kuning', 'Apel':'Merah', 'Kiwi':'Hijau'}\n",
        "buah_baru = {'Sirsak':'Putih', 'Blackberry ':'Hitam'}\n",
        "warna_buah.update(buah_baru)\n",
        "print(warna_buah)"
      ],
      "metadata": {
        "colab": {
          "base_uri": "https://localhost:8080/"
        },
        "id": "L6TzHlduXddW",
        "outputId": "e1aaa755-e17e-41af-c236-25b9ced270bc"
      },
      "execution_count": 29,
      "outputs": [
        {
          "output_type": "stream",
          "name": "stdout",
          "text": [
            "{'Pisang': 'Kuning', 'Apel': 'Merah', 'Kiwi': 'Hijau', 'Sirsak': 'Putih', 'Blackberry ': 'Hitam'}\n"
          ]
        }
      ]
    },
    {
      "cell_type": "code",
      "source": [
        "# Coba update dictionary nilai_siswa dengan dictionary nilai_siswa_susulan\n",
        "nilai_siswa = {'Andi':90, 'Gilang':75, 'Bagus':95}\n",
        "nilai_siswa_susulan = {'Rizky':80, 'Ajeng':85}\n",
        "nilai_siswa.update(nilai_siswa_susulan)\n",
        "\n",
        "# kemudian print dictionary nilai_siswa\n",
        "print(nilai_siswa)"
      ],
      "metadata": {
        "colab": {
          "base_uri": "https://localhost:8080/"
        },
        "id": "o-JRMlh8XoJO",
        "outputId": "9ef620af-51fd-4a29-9301-3df1a4965b1a"
      },
      "execution_count": 30,
      "outputs": [
        {
          "output_type": "stream",
          "name": "stdout",
          "text": [
            "{'Andi': 90, 'Gilang': 75, 'Bagus': 95, 'Rizky': 80, 'Ajeng': 85}\n"
          ]
        }
      ]
    },
    {
      "cell_type": "markdown",
      "source": [
        "**copy()**"
      ],
      "metadata": {
        "id": "jS5Q6-XqYmkO"
      }
    },
    {
      "cell_type": "markdown",
      "source": [
        "Method `copy()` akan membuat **duplikasi** dari sebuah `dictionary`."
      ],
      "metadata": {
        "id": "7W6-YdiZYo_O"
      }
    },
    {
      "cell_type": "code",
      "source": [
        "# coba jalankan code dibawah ini\n",
        "# 'Hartono':35, 'Samsul':37\n",
        "\n",
        "jam_kerja = {'Joko':40, 'Alex':36, 'Chandra':38}\n",
        "jam_kerja_2 = jam_kerja.copy()\n",
        "print(f'Dict jam_kerja : {jam_kerja}')\n",
        "print(f'Dict jam_kerja_2 : {jam_kerja_2}')"
      ],
      "metadata": {
        "colab": {
          "base_uri": "https://localhost:8080/"
        },
        "id": "tzf8b5OWYuZL",
        "outputId": "2e99e7f5-045b-496d-afed-d8f62f32b3cb"
      },
      "execution_count": 31,
      "outputs": [
        {
          "output_type": "stream",
          "name": "stdout",
          "text": [
            "Dict jam_kerja : {'Joko': 40, 'Alex': 36, 'Chandra': 38}\n",
            "Dict jam_kerja_2 : {'Joko': 40, 'Alex': 36, 'Chandra': 38}\n"
          ]
        }
      ]
    },
    {
      "cell_type": "markdown",
      "source": [
        "Jika kita langsung membuat duplikasi dictionary tanpa menggunakan method `copy()`, maka apabila dictionary utama kita lakukan perubahan, dictionary duplikasi juga ikut berubah."
      ],
      "metadata": {
        "id": "LdUlGw4OY3Em"
      }
    },
    {
      "cell_type": "code",
      "source": [
        "# Coba jalankan code dibawah ini\n",
        "jam_kerja = {'Joko':40, 'Alex':36, 'Chandra':38}\n",
        "\n",
        "# Kita coba duplikasi jam_kerja ke jam_kerja_2\n",
        "jam_kerja_2 = jam_kerja\n",
        "\n",
        "# Kemudian kita akan mengeluarkan joko dari dict jam kerja\n",
        "jam_kerja.pop('Joko')\n",
        "\n",
        "print(f'Dict jam_kerja : {jam_kerja}')\n",
        "print(f'Dict jam_kerja_2 : {jam_kerja_2}')"
      ],
      "metadata": {
        "colab": {
          "base_uri": "https://localhost:8080/"
        },
        "id": "Hq0Tm6HSY4eo",
        "outputId": "2764c0f6-8218-4909-c28a-4db93d2900b9"
      },
      "execution_count": 32,
      "outputs": [
        {
          "output_type": "stream",
          "name": "stdout",
          "text": [
            "Dict jam_kerja : {'Alex': 36, 'Chandra': 38}\n",
            "Dict jam_kerja_2 : {'Alex': 36, 'Chandra': 38}\n"
          ]
        }
      ]
    },
    {
      "cell_type": "markdown",
      "source": [
        "Namun jika menggunakan method `copy()`, maka yang akan berubah hanya dictionary yang diubah."
      ],
      "metadata": {
        "id": "YArikXHMZAzK"
      }
    },
    {
      "cell_type": "code",
      "source": [
        "# Coba jalankan code dibawah ini\n",
        "jam_kerja = {'Joko':40, 'Alex':36, 'Chandra':38}\n",
        "jam_kerja_2 = jam_kerja.copy()\n",
        "\n",
        "# Kita akan mengeluarkan joko dari dict jam kerja\n",
        "jam_kerja.pop('Joko')\n",
        "\n",
        "print(f'Dict jam_kerja : {jam_kerja}')\n",
        "print(f'Dict jam_kerja_2 : {jam_kerja_2}')"
      ],
      "metadata": {
        "colab": {
          "base_uri": "https://localhost:8080/"
        },
        "id": "KioGG1S1ZCrF",
        "outputId": "f7096297-4d85-4ccd-bde3-7bcd391c72ec"
      },
      "execution_count": 33,
      "outputs": [
        {
          "output_type": "stream",
          "name": "stdout",
          "text": [
            "Dict jam_kerja : {'Alex': 36, 'Chandra': 38}\n",
            "Dict jam_kerja_2 : {'Joko': 40, 'Alex': 36, 'Chandra': 38}\n"
          ]
        }
      ]
    },
    {
      "cell_type": "code",
      "source": [
        "# Coba lakukan duplikasi dict 'nilai_siswa' menjadi 'nilai_siswa_sementara'\n",
        "nilai_siswa = {'Andi':90, 'Gilang':75, 'Bagus':95}\n",
        "nilai_siswa_sementara = nilai_siswa.copy()\n",
        "\n",
        "# kemudian print nilai_siswa_sementara\n",
        "print(nilai_siswa_sementara)"
      ],
      "metadata": {
        "colab": {
          "base_uri": "https://localhost:8080/"
        },
        "id": "yBakABwXZH6O",
        "outputId": "dbd69e79-a367-4060-9caa-418351d697fc"
      },
      "execution_count": 34,
      "outputs": [
        {
          "output_type": "stream",
          "name": "stdout",
          "text": [
            "{'Andi': 90, 'Gilang': 75, 'Bagus': 95}\n"
          ]
        }
      ]
    },
    {
      "cell_type": "markdown",
      "source": [
        "**clear()**"
      ],
      "metadata": {
        "id": "NxuCCQ2KZTAK"
      }
    },
    {
      "cell_type": "markdown",
      "source": [
        "Method `clear()` akan **menghapus semua `key` dan `value`** yang ada di dalam `dictionary`. Jadi dictionary tersebut akan menjadi **empty dictionary**."
      ],
      "metadata": {
        "id": "L0vYgKHNZUbi"
      }
    },
    {
      "cell_type": "code",
      "source": [
        "# Coba jalankan code di bawah ini\n",
        "\n",
        "biodata_siswa_1 = {'Nama':'Andrew', 'Umur':25, 'Alamat':'Ambon'}\n",
        "biodata_siswa_1 .clear()\n",
        "print(biodata_siswa_1)"
      ],
      "metadata": {
        "colab": {
          "base_uri": "https://localhost:8080/"
        },
        "id": "0WaiZXZxZe1C",
        "outputId": "77e55f87-800e-4c55-dc81-38f2875d7a98"
      },
      "execution_count": 35,
      "outputs": [
        {
          "output_type": "stream",
          "name": "stdout",
          "text": [
            "{}\n"
          ]
        }
      ]
    },
    {
      "cell_type": "code",
      "source": [
        "# Coba impleentasikan method clear() pada dictionary dibawah\n",
        "nilai_siswa = {'Andi':90, 'Gilang':75, 'Bagus':95}\n",
        "nilai_siswa.clear()\n",
        "\n",
        "# kemudian print untuk melihat masih ada isinya atau tidak\n",
        "print(nilai_siswa)"
      ],
      "metadata": {
        "colab": {
          "base_uri": "https://localhost:8080/"
        },
        "id": "K4bGi0O-ZjCj",
        "outputId": "fe262754-b2f9-486b-bd02-96c5e99dd292"
      },
      "execution_count": 36,
      "outputs": [
        {
          "output_type": "stream",
          "name": "stdout",
          "text": [
            "{}\n"
          ]
        }
      ]
    },
    {
      "cell_type": "markdown",
      "source": [
        "**Mini Exercise**"
      ],
      "metadata": {
        "id": "igLgWfYTZnpU"
      }
    },
    {
      "cell_type": "markdown",
      "source": [
        "Andi adalah seorang Machine Learning Engineer. Dia disuruh oleh manager nya untuk melatih model Machine Learning dengan metode:\n",
        "\n",
        "\n",
        "\n",
        "*   Linear Regression\n",
        "\n",
        "*   SVM\n",
        "*   Decision Tree\n",
        "\n",
        "\n",
        "*   Random Forest\n",
        "\n"
      ],
      "metadata": {
        "id": "1gJl1k-UZpUo"
      }
    },
    {
      "cell_type": "markdown",
      "source": [
        "Setelah melatih model Machine Learning tersebut, Andi mengukurnya dengan metrics Accuracy dan didapatkan hasil seperti berikut:\n",
        "\n",
        "![sdlafjldsf.JPG](data:image/jpeg;base64,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)"
      ],
      "metadata": {
        "id": "oc-QsK9xZxux"
      }
    },
    {
      "cell_type": "markdown",
      "source": [
        "Buatlah dictionary yang berguna untuk menampung nilai di table atas!"
      ],
      "metadata": {
        "id": "Be7_WiELZ7GP"
      }
    },
    {
      "cell_type": "code",
      "source": [
        "# Tulis jawaban anda di bawah ini\n",
        "\n",
        "metode_ML = {\"Linear Regression\": 85, \"SVM\": 88, \"Decision Tree\": 90, \"Random Forest\": 95}\n",
        "print(metode_ML)"
      ],
      "metadata": {
        "colab": {
          "base_uri": "https://localhost:8080/"
        },
        "id": "8y6E69H1Z5fS",
        "outputId": "0b27e38f-d700-4827-83f6-232a7a91f597"
      },
      "execution_count": 37,
      "outputs": [
        {
          "output_type": "stream",
          "name": "stdout",
          "text": [
            "{'Linear Regression': 85, 'SVM': 88, 'Decision Tree': 90, 'Random Forest': 95}\n"
          ]
        }
      ]
    },
    {
      "cell_type": "markdown",
      "source": [
        "Dengan cara mengakses keys, keluarkan element - element pada dictionary yang sudah dibuat pada di atas!"
      ],
      "metadata": {
        "id": "bTINO0RzaeNb"
      }
    },
    {
      "cell_type": "code",
      "source": [
        "# Tulis jawaban anda di bawah ini\n",
        "\n",
        "metode_ML = {\"Linear Regression\": 85, \"SVM\": 88, \"Decision Tree\": 90, \"Random Forest\": 95}\n",
        "print(f\"Nilai model ML metode Linear Regression adalah {metode_ML['Linear Regression']}\")\n",
        "print(f\"Nilai model ML metode SVM adalah {metode_ML['SVM']}\")\n",
        "print(f\"Nilai model ML metode Decision Tree adalah {metode_ML['Decision Tree']}\")\n",
        "print(f\"Nilai model ML metode Random Forest adalah {metode_ML['Random Forest']}\")"
      ],
      "metadata": {
        "colab": {
          "base_uri": "https://localhost:8080/"
        },
        "id": "0sq7HAphafEB",
        "outputId": "ec6789d1-d2e9-4f17-cd71-9e5cd78ff547"
      },
      "execution_count": 42,
      "outputs": [
        {
          "output_type": "stream",
          "name": "stdout",
          "text": [
            "Nilai model ML metode Linear Regression adalah 85\n",
            "Nilai model ML metode SVM adalah 88\n",
            "Nilai model ML metode Decision Tree adalah 90\n",
            "Nilai model ML metode Random Forest adalah 95\n"
          ]
        }
      ]
    }
  ]
}