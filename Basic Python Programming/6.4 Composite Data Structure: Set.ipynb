{
  "nbformat": 4,
  "nbformat_minor": 0,
  "metadata": {
    "colab": {
      "provenance": [],
      "authorship_tag": "ABX9TyNhzImXAnqHc8L0zqpLZhtZ",
      "include_colab_link": true
    },
    "kernelspec": {
      "name": "python3",
      "display_name": "Python 3"
    },
    "language_info": {
      "name": "python"
    }
  },
  "cells": [
    {
      "cell_type": "markdown",
      "metadata": {
        "id": "view-in-github",
        "colab_type": "text"
      },
      "source": [
        "<a href=\"https://colab.research.google.com/github/suryoadig12/PACMANN_SKILL100/blob/main/Basic%20Python%20Programming/6.4%20Composite%20Data%20Structure%3A%20Set.ipynb\" target=\"_parent\"><img src=\"https://colab.research.google.com/assets/colab-badge.svg\" alt=\"Open In Colab\"/></a>"
      ]
    },
    {
      "cell_type": "markdown",
      "source": [
        "# **Set**"
      ],
      "metadata": {
        "id": "-Oa4kjBmdwh3"
      }
    },
    {
      "cell_type": "markdown",
      "source": [
        "**What is Set?**"
      ],
      "metadata": {
        "id": "UvOi6NF5dz-c"
      }
    },
    {
      "cell_type": "markdown",
      "source": [
        "**Set** adalah sebuah struktur data yang memungkinkan kita untuk menyimpan sebuah data dengan tidak berurutan **(unordered)**. Setiap element di dalam set adalah **unique** (tidak ada duplikat).\n",
        "\n",
        "**Set** ini bisa berisi tipe data seperti `string`, `integer`, `float`, bahkan `tuple`. Namun di dalam set tidak diperbolehkan untuk menyimpan tipe data seperti `list`, `set`, atau `dictionary` sebagai sebuah elements.\n",
        "\n",
        "Sebuah set dalam python di representasikan dengan **tanda kurung kurawal** `{}` dan dipisahkan oleh tanda koma `,`."
      ],
      "metadata": {
        "id": "8l9LL0uPd3Q_"
      }
    },
    {
      "cell_type": "markdown",
      "source": [
        "**How to Make Set**"
      ],
      "metadata": {
        "id": "fo96uq73eOw0"
      }
    },
    {
      "cell_type": "markdown",
      "source": [
        "Mari kita coba untuk membuat sebuah set."
      ],
      "metadata": {
        "id": "Fm8h-ElIeSjQ"
      }
    },
    {
      "cell_type": "code",
      "execution_count": 1,
      "metadata": {
        "colab": {
          "base_uri": "https://localhost:8080/"
        },
        "id": "a8_ir5j4ds-S",
        "outputId": "d6954661-dc2f-4ad8-f130-190199506fe6"
      },
      "outputs": [
        {
          "output_type": "stream",
          "name": "stdout",
          "text": [
            "{'Gitar', 'Seruling', 'Drum'}\n"
          ]
        }
      ],
      "source": [
        "# Coba jalankan code dibawah ini\n",
        "\n",
        "print({'Gitar', 'Seruling', 'Drum'})"
      ]
    },
    {
      "cell_type": "markdown",
      "source": [
        "`Set` juga bisa di deklarasikan dengan sebuah variabel."
      ],
      "metadata": {
        "id": "FRkWciU2eqGD"
      }
    },
    {
      "cell_type": "code",
      "source": [
        "# Lengkapi code di bawah sehingga bisa di print\n",
        "alat_musik = {'Gitar', 'Seruling', 'Drum'}\n",
        "\n",
        "# Coba print variabel set alat_musik\n",
        "print(alat_musik)"
      ],
      "metadata": {
        "colab": {
          "base_uri": "https://localhost:8080/"
        },
        "id": "9-XrrZ2BesCv",
        "outputId": "325ecec2-9c5a-47c7-b5c6-db131bafefd4"
      },
      "execution_count": 2,
      "outputs": [
        {
          "output_type": "stream",
          "name": "stdout",
          "text": [
            "{'Gitar', 'Seruling', 'Drum'}\n"
          ]
        }
      ]
    },
    {
      "cell_type": "markdown",
      "source": [
        "Elemen pada sebuah set **tidak bisa memiliki duplikat**."
      ],
      "metadata": {
        "id": "IShnmatle1Qt"
      }
    },
    {
      "cell_type": "code",
      "source": [
        "# Coba jalankan code di bawah\n",
        "\n",
        "num_set = {1, 2, 3, 3, 1, 4}\n",
        "buah_set = {'Semangka', 'Alpukat', 'Apel', 'Semangka', 'Apel'}\n",
        "print(num_set)\n",
        "print(buah_set)"
      ],
      "metadata": {
        "colab": {
          "base_uri": "https://localhost:8080/"
        },
        "id": "cfCDZYt8e5Zp",
        "outputId": "bd860934-7ea8-4b43-eead-1c62b6510513"
      },
      "execution_count": 3,
      "outputs": [
        {
          "output_type": "stream",
          "name": "stdout",
          "text": [
            "{1, 2, 3, 4}\n",
            "{'Apel', 'Semangka', 'Alpukat'}\n"
          ]
        }
      ]
    },
    {
      "cell_type": "markdown",
      "source": [
        "Untuk memastikan bahwa variabel tersebut adalah `set` maka bisa dicek dengan `type()`."
      ],
      "metadata": {
        "id": "sOIzXzloe_3k"
      }
    },
    {
      "cell_type": "code",
      "source": [
        "# Coba kita cek tipe data variabel alat_musik dibawah\n",
        "\n",
        "alat_musik = {'Gitar', 'Seruling', 'Drum'}\n",
        "print(f'Tipe data variabel alat_musik adalah {type(alat_musik)}')"
      ],
      "metadata": {
        "colab": {
          "base_uri": "https://localhost:8080/"
        },
        "id": "2FvKe4vBfDcg",
        "outputId": "3bcd2c8a-21bf-4cc5-aec7-cb7c91d337a1"
      },
      "execution_count": 4,
      "outputs": [
        {
          "output_type": "stream",
          "name": "stdout",
          "text": [
            "Tipe data variabel alat_musik adalah <class 'set'>\n"
          ]
        }
      ]
    },
    {
      "cell_type": "code",
      "source": [
        "# Coba buatlah sebuah set yang menampung tiga nama hewan\n",
        "hewan = {\"Kuda\", \"Ayam\", \"Kucing\"}\n",
        "\n",
        "# Kemudian print set tersebut\n",
        "print(hewan)"
      ],
      "metadata": {
        "colab": {
          "base_uri": "https://localhost:8080/"
        },
        "id": "P8OQ6brifIhs",
        "outputId": "a7847e46-708f-44a0-a60e-684a826b90d8"
      },
      "execution_count": 5,
      "outputs": [
        {
          "output_type": "stream",
          "name": "stdout",
          "text": [
            "{'Kucing', 'Ayam', 'Kuda'}\n"
          ]
        }
      ]
    },
    {
      "cell_type": "markdown",
      "source": [
        "Sebuah `set` yang tidak berisi elemen apapun disebut **empty set**. Untuk membuatnya bisa menggunakan sintaks `set()`."
      ],
      "metadata": {
        "id": "wmwvHYenfUm7"
      }
    },
    {
      "cell_type": "code",
      "source": [
        "# Coba jalankan code di bawah ini\n",
        "\n",
        "empty_set_1 = set()\n",
        "print(type(empty_set_1))"
      ],
      "metadata": {
        "colab": {
          "base_uri": "https://localhost:8080/"
        },
        "id": "aP3-R2nPfTd0",
        "outputId": "54bc12f8-10c0-40e1-f8ff-130d0ac126ca"
      },
      "execution_count": 6,
      "outputs": [
        {
          "output_type": "stream",
          "name": "stdout",
          "text": [
            "<class 'set'>\n"
          ]
        }
      ]
    },
    {
      "cell_type": "markdown",
      "source": [
        "Tidak seperti list, tuple ataupun dictionary yang bisa langsung mendefinisikan empty set dengan notasi simbol, jika kita mendefinisikan empty set dengan symbol `{}` maka akan menjadi dictionary, bukan set."
      ],
      "metadata": {
        "id": "tTG9QxwifeWx"
      }
    },
    {
      "cell_type": "code",
      "source": [
        "# Coba jalankan code dibawah\n",
        "\n",
        "wrong_empty_set = {}\n",
        "print(type(wrong_empty_set))"
      ],
      "metadata": {
        "colab": {
          "base_uri": "https://localhost:8080/"
        },
        "id": "O9Vt6RAzfhUh",
        "outputId": "96886990-48e6-4c98-b722-354257a07256"
      },
      "execution_count": 7,
      "outputs": [
        {
          "output_type": "stream",
          "name": "stdout",
          "text": [
            "<class 'dict'>\n"
          ]
        }
      ]
    },
    {
      "cell_type": "markdown",
      "source": [
        "**Sebuah set tidak memiliki urutan**. Maksudnya jika kita print set tersebut maka element tidak akan ditampilkan sesuai urutan pada saat kita membuat set tersebut."
      ],
      "metadata": {
        "id": "hGIeWRKxfrXF"
      }
    },
    {
      "cell_type": "code",
      "source": [
        "# Coba jalankan code dibawah\n",
        "\n",
        "my_set = {1, \"a\", 2, \"b\", \"apel\", 10}\n",
        "print(my_set)"
      ],
      "metadata": {
        "colab": {
          "base_uri": "https://localhost:8080/"
        },
        "id": "8wBoYAvnfvmJ",
        "outputId": "e1674d72-0a52-4ba8-91ae-561f6a515185"
      },
      "execution_count": 8,
      "outputs": [
        {
          "output_type": "stream",
          "name": "stdout",
          "text": [
            "{1, 2, 'apel', 'a', 10, 'b'}\n"
          ]
        }
      ]
    },
    {
      "cell_type": "markdown",
      "source": [
        "Ini juga berarti kita tidak bisa mengakses posisi element tersebut dengan notasi `[]`."
      ],
      "metadata": {
        "id": "TvPEueZ7f1Us"
      }
    },
    {
      "cell_type": "code",
      "source": [
        "# Coba jalankan code di bawah\n",
        "\n",
        "buah_set = {'Semangka', 'Alpukat', 'Apel', 'Semangka', 'Apel'}\n",
        "print(buah_set[1])"
      ],
      "metadata": {
        "colab": {
          "base_uri": "https://localhost:8080/",
          "height": 183
        },
        "id": "k7uC_1ymf4dg",
        "outputId": "1544c58a-a6af-4aba-9179-e1ee06bbc631"
      },
      "execution_count": 9,
      "outputs": [
        {
          "output_type": "error",
          "ename": "TypeError",
          "evalue": "'set' object is not subscriptable",
          "traceback": [
            "\u001b[0;31m---------------------------------------------------------------------------\u001b[0m",
            "\u001b[0;31mTypeError\u001b[0m                                 Traceback (most recent call last)",
            "\u001b[0;32m<ipython-input-9-86dfe87ca82f>\u001b[0m in \u001b[0;36m<cell line: 0>\u001b[0;34m()\u001b[0m\n\u001b[1;32m      2\u001b[0m \u001b[0;34m\u001b[0m\u001b[0m\n\u001b[1;32m      3\u001b[0m \u001b[0mbuah_set\u001b[0m \u001b[0;34m=\u001b[0m \u001b[0;34m{\u001b[0m\u001b[0;34m'Semangka'\u001b[0m\u001b[0;34m,\u001b[0m \u001b[0;34m'Alpukat'\u001b[0m\u001b[0;34m,\u001b[0m \u001b[0;34m'Apel'\u001b[0m\u001b[0;34m,\u001b[0m \u001b[0;34m'Semangka'\u001b[0m\u001b[0;34m,\u001b[0m \u001b[0;34m'Apel'\u001b[0m\u001b[0;34m}\u001b[0m\u001b[0;34m\u001b[0m\u001b[0;34m\u001b[0m\u001b[0m\n\u001b[0;32m----> 4\u001b[0;31m \u001b[0mprint\u001b[0m\u001b[0;34m(\u001b[0m\u001b[0mbuah_set\u001b[0m\u001b[0;34m[\u001b[0m\u001b[0;36m1\u001b[0m\u001b[0;34m]\u001b[0m\u001b[0;34m)\u001b[0m\u001b[0;34m\u001b[0m\u001b[0;34m\u001b[0m\u001b[0m\n\u001b[0m",
            "\u001b[0;31mTypeError\u001b[0m: 'set' object is not subscriptable"
          ]
        }
      ]
    },
    {
      "cell_type": "markdown",
      "source": [
        "**Set are Mutable**"
      ],
      "metadata": {
        "id": "waoBa2H0f75I"
      }
    },
    {
      "cell_type": "markdown",
      "source": [
        "Set sendiri merupakan tipe data yang bisa diubah **(mutable)**, namun **element** pada set tidak bisa dimodifikasi atau diubah **(immutable)**.\n",
        "\n",
        "Jika kita ingin mengubah element didalam set dengan cara seperti list maka kita akan mendapatkan error sebagai berikut."
      ],
      "metadata": {
        "id": "L3ToNzadf_Gi"
      }
    },
    {
      "cell_type": "code",
      "source": [
        "# coba jalankan code di bawah\n",
        "\n",
        "set_hewan = {'Kecapung', 'Bunglon', 'Komodo'}\n",
        "set_hewan[0] = 'Kadal'\n",
        "print(set_hewan)"
      ],
      "metadata": {
        "colab": {
          "base_uri": "https://localhost:8080/",
          "height": 201
        },
        "id": "Agrq4PQqgGg4",
        "outputId": "3e9c62ff-561b-410a-db9d-626b97baa5b9"
      },
      "execution_count": 10,
      "outputs": [
        {
          "output_type": "error",
          "ename": "TypeError",
          "evalue": "'set' object does not support item assignment",
          "traceback": [
            "\u001b[0;31m---------------------------------------------------------------------------\u001b[0m",
            "\u001b[0;31mTypeError\u001b[0m                                 Traceback (most recent call last)",
            "\u001b[0;32m<ipython-input-10-899be2e5ad6a>\u001b[0m in \u001b[0;36m<cell line: 0>\u001b[0;34m()\u001b[0m\n\u001b[1;32m      2\u001b[0m \u001b[0;34m\u001b[0m\u001b[0m\n\u001b[1;32m      3\u001b[0m \u001b[0mset_hewan\u001b[0m \u001b[0;34m=\u001b[0m \u001b[0;34m{\u001b[0m\u001b[0;34m'Kecapung'\u001b[0m\u001b[0;34m,\u001b[0m \u001b[0;34m'Bunglon'\u001b[0m\u001b[0;34m,\u001b[0m \u001b[0;34m'Komodo'\u001b[0m\u001b[0;34m}\u001b[0m\u001b[0;34m\u001b[0m\u001b[0;34m\u001b[0m\u001b[0m\n\u001b[0;32m----> 4\u001b[0;31m \u001b[0mset_hewan\u001b[0m\u001b[0;34m[\u001b[0m\u001b[0;36m0\u001b[0m\u001b[0;34m]\u001b[0m \u001b[0;34m=\u001b[0m \u001b[0;34m'Kadal'\u001b[0m\u001b[0;34m\u001b[0m\u001b[0;34m\u001b[0m\u001b[0m\n\u001b[0m\u001b[1;32m      5\u001b[0m \u001b[0mprint\u001b[0m\u001b[0;34m(\u001b[0m\u001b[0mset_hewan\u001b[0m\u001b[0;34m)\u001b[0m\u001b[0;34m\u001b[0m\u001b[0;34m\u001b[0m\u001b[0m\n",
            "\u001b[0;31mTypeError\u001b[0m: 'set' object does not support item assignment"
          ]
        }
      ]
    },
    {
      "cell_type": "markdown",
      "source": [
        "Untuk pembahasan modifikasi pada set akan dijelaskan pada bagian `set method`."
      ],
      "metadata": {
        "id": "HqJAOciHgQUi"
      }
    },
    {
      "cell_type": "markdown",
      "source": [
        "**Set methods**"
      ],
      "metadata": {
        "id": "wsVQ2Bv9gS9U"
      }
    },
    {
      "cell_type": "markdown",
      "source": [
        "Ada beberapa method yang bisa digunakan pada sebuah set.\n",
        "\n",
        "Misalkan:\n",
        "\n",
        "      set_1 = {3, 4, 5, 6}\n",
        "      set_2 = {1, 2, 3, 6}"
      ],
      "metadata": {
        "id": "WVi-qZowgXBA"
      }
    },
    {
      "cell_type": "markdown",
      "source": [
        "![ldsafjlsdf.JPG](data:image/jpeg;base64,/9j/4AAQSkZJRgABAQEAkACQAAD/4QLgRXhpZgAATU0AKgAAAAgABAE7AAIAAAAHAAABSodpAAQAAAABAAABUpydAAEAAAAOAAACyuocAAcAAAEMAAAAPgAAAAAc6gAAAAEAAAAAAAAAAAAAAAAAAAAAAAAAAAAAAAAAAAAAAAAAAAAAAAAAAAAAAAAAAAAAAAAAAAAAAAAAAAAAAAAAAAAAAAAAAAAAAAAAAAAAAAAAAAAAAAAAAAAAAAAAAAAAAAAAAAAAAAAAAAAAAAAAAAAAAAAAAAAAAAAAAAAAAAAAAAAAAAAAAAAAAAAAAAAAAAAAAAAAAAAAAAAAAAAAAAAAAAAAAAAAAAAAAAAAAAAAAAAAAAAAAAAAAAAAAAAAAAAAAAAAAAAAAAAAAAAAAAAAAAAAAAAAAAAAAAAAAAAAAAAAAAAAAAAAAAAAAAAAAAAAAAAAAAAAAAAAAAAAAAAAAAAAAAAATEVOT1ZPAAAABZADAAIAAAAUAAACoJAEAAIAAAAUAAACtJKRAAIAAAADNTQAAJKSAAIAAAADNTQAAOocAAcAAAEMAAABlAAAAAAc6gAAAAEAAAAAAAAAAAAAAAAAAAAAAAAAAAAAAAAAAAAAAAAAAAAAAAAAAAAAAAAAAAAAAAAAAAAAAAAAAAAAAAAAAAAAAAAAAAAAAAAAAAAAAAAAAAAAAAAAAAAAAAAAAAAAAAAAAAAAAAAAAAAAAAAAAAAAAAAAAAAAAAAAAAAAAAAAAAAAAAAAAAAAAAAAAAAAAAAAAAAAAAAAAAAAAAAAAAAAAAAAAAAAAAAAAAAAAAAAAAAAAAAAAAAAAAAAAAAAAAAAAAAAAAAAAAAAAAAAAAAAAAAAAAAAAAAAAAAAAAAAAAAAAAAAAAAAAAAAAAAAAAAAAAAAAAAAAAAAAAAAAAAAAAAAAAAAMjAyNTowNDoyMyAwOTozNzo0MAAyMDI1OjA0OjIzIDA5OjM3OjQwAAAATABFAE4ATwBWAE8AAAD/4QQZaHR0cDovL25zLmFkb2JlLmNvbS94YXAvMS4wLwA8P3hwYWNrZXQgYmVnaW49J++7vycgaWQ9J1c1TTBNcENlaGlIenJlU3pOVGN6a2M5ZCc/Pg0KPHg6eG1wbWV0YSB4bWxuczp4PSJhZG9iZTpuczptZXRhLyI+PHJkZjpSREYgeG1sbnM6cmRmPSJodHRwOi8vd3d3LnczLm9yZy8xOTk5LzAyLzIyLXJkZi1zeW50YXgtbnMjIj48cmRmOkRlc2NyaXB0aW9uIHJkZjphYm91dD0idXVpZDpmYWY1YmRkNS1iYTNkLTExZGEtYWQzMS1kMzNkNzUxODJmMWIiIHhtbG5zOmRjPSJodHRwOi8vcHVybC5vcmcvZGMvZWxlbWVudHMvMS4xLyIvPjxyZGY6RGVzY3JpcHRpb24gcmRmOmFib3V0PSJ1dWlkOmZhZjViZGQ1LWJhM2QtMTFkYS1hZDMxLWQzM2Q3NTE4MmYxYiIgeG1sbnM6eG1wPSJodHRwOi8vbnMuYWRvYmUuY29tL3hhcC8xLjAvIj48eG1wOkNyZWF0ZURhdGU+MjAyNS0wNC0yM1QwOTozNzo0MC41Mzk8L3htcDpDcmVhdGVEYXRlPjwvcmRmOkRlc2NyaXB0aW9uPjxyZGY6RGVzY3JpcHRpb24gcmRmOmFib3V0PSJ1dWlkOmZhZjViZGQ1LWJhM2QtMTFkYS1hZDMxLWQzM2Q3NTE4MmYxYiIgeG1sbnM6ZGM9Imh0dHA6Ly9wdXJsLm9yZy9kYy9lbGVtZW50cy8xLjEvIj48ZGM6Y3JlYXRvcj48cmRmOlNlcSB4bWxuczpyZGY9Imh0dHA6Ly93d3cudzMub3JnLzE5OTkvMDIvMjItcmRmLXN5bnRheC1ucyMiPjxyZGY6bGk+TEVOT1ZPPC9yZGY6bGk+PC9yZGY6U2VxPg0KCQkJPC9kYzpjcmVhdG9yPjwvcmRmOkRlc2NyaXB0aW9uPjwvcmRmOlJERj48L3g6eG1wbWV0YT4NCiAgICAgICAgICAgICAgICAgICAgICAgICAgICAgICAgICAgICAgICAgICAgICAgICAgICAgICAgICAgICAgICAgICAgICAgICAgICAgICAgICAgICAgICAgICAgICAgICAgICAKICAgICAgICAgICAgICAgICAgICAgICAgICAgICAgICAgICAgICAgICAgICAgICAgICAgICAgICAgICAgICAgICAgICAgICAgICAgICAgICAgICAgICAgICAgICAgICAgICAgIAogICAgICAgICAgICAgICAgICAgICAgICAgICAgICAgICAgICAgICAgICAgICAgICAgICAgICA8P3hwYWNrZXQgZW5kPSd3Jz8+/9sAQwAHBQUGBQQHBgUGCAcHCAoRCwoJCQoVDxAMERgVGhkYFRgXGx4nIRsdJR0XGCIuIiUoKSssKxogLzMvKjInKisq/9sAQwEHCAgKCQoUCwsUKhwYHCoqKioqKioqKioqKioqKioqKioqKioqKioqKioqKioqKioqKioqKioqKioqKioqKioq/8AAEQgBtgNZAwEiAAIRAQMRAf/EAB8AAAEFAQEBAQEBAAAAAAAAAAABAgMEBQYHCAkKC//EALUQAAIBAwMCBAMFBQQEAAABfQECAwAEEQUSITFBBhNRYQcicRQygZGhCCNCscEVUtHwJDNicoIJChYXGBkaJSYnKCkqNDU2Nzg5OkNERUZHSElKU1RVVldYWVpjZGVmZ2hpanN0dXZ3eHl6g4SFhoeIiYqSk5SVlpeYmZqio6Slpqeoqaqys7S1tre4ubrCw8TFxsfIycrS09TV1tfY2drh4uPk5ebn6Onq8fLz9PX29/j5+v/EAB8BAAMBAQEBAQEBAQEAAAAAAAABAgMEBQYHCAkKC//EALURAAIBAgQEAwQHBQQEAAECdwABAgMRBAUhMQYSQVEHYXETIjKBCBRCkaGxwQkjM1LwFWJy0QoWJDThJfEXGBkaJicoKSo1Njc4OTpDREVGR0hJSlNUVVZXWFlaY2RlZmdoaWpzdHV2d3h5eoKDhIWGh4iJipKTlJWWl5iZmqKjpKWmp6ipqrKztLW2t7i5usLDxMXGx8jJytLT1NXW19jZ2uLj5OXm5+jp6vLz9PX29/j5+v/aAAwDAQACEQMRAD8A+kaKKKACiiigAooooAKKKKACiiigAooooAKKKKACiiigAooooAKKKKACiiigAooooAKKKKACiiigAooooAKKKKACiiigAooooAKKKKACiiigAooooAKKKKACiiigAooooAKKKKACiiigAooooAKKKKACiiigAooooAKKKKACiiigAooooAKKKKACiiigAooooAKKKKACiiigAooooAKKKKACiiigAooooAKKKKACiiigAooooAKKKKACiiigAooooAKKKKACiiigAooooAKKKKACiiigAooooAKKKKACiiigAooooAKKKKACiiigAooooAKhvL210+0kur+5htbeIZkmnkCIg9Sx4FTVxnxe/wCSSeIP+vcf+hrUzlyxbKirySOh0zxJoetzPFo2s6fqEka7nS0uklKjpkhScCtKvD21PWPC/wAJdQ1nTvBtj4TvIbO1FvqVu9tM92GdQxZVTjI5+bPX1FdNqXi/V4fiNa6XbX6/Y38NyXzxCNDmYbsPnGew4zj2qptRv5f5N/oTC8kn3/4C/U9Korw7TPGnjiHR/BXiHUdct7qz1i+SxnsBZIpYMzDzDIBnPHRQoGB15yuoeNvGeo6F4t8UaV4itNMstHvJLKHTZLJHLBSoD+Y3Ic7uAQQTxiiXu3v0v+Fv80Efetbrb8f+GPcKzNO8RaVq2qajp2nXiz3emOsd3GFYeUzAkDJGD0PTPSvJ/EHjHxnYXOkXt/ql3o/h+awtpX1K00iO8jZ2VfMMxJBi+Y4G0c9ga6zwDqcmoeOvG6P9nMcN5CInit442ZSh+8yqC/1YkinbVr1/BpfqTzaJ97firnf0UUUigooooAKKKKACiiigAooooAKKKKACiiigAooooAKKKKACiiigCjHrmky6u+lRapZvqMYy9mtwhmUYByUzkcEHp3ol1vSoNWi0ufU7OLUJhujtHuFErjnkITk9D27GvB9eaXRvi54m8X27Ef2FqdgbgAZ3W00WyQe/8OPTmnxTtqXxb8OeMJWaSPVdRvfsox/y7QRbEx35wx/Gj+W/z/B/r+DG07tf11/y/FH0HVXVNTtNG0u51HUpfJtLWMyTSbS21R1OACT+Arw7wv8AEzx3r2uWGpQ22qXOmXl75MtpFogNpbwltpdblSXZl4JBGM57VSt9P1yPT/ilJf8AiE3kduskV1GbNE+1SbDtkyDlMAY2jik7qLfk3+X+f9a2FbmS87fn/kfQFhfW2qabbX9jJ5ttdRLNDJtK7kYZBwcEcHvVivE/DHiHxR4c1TwJZX+qwXmka1pfyWENmE+ziOBSuHyWZjxntycDpisfHnjUeBx8Rf7ds/sBvPL/AOEf+xJt2b/L2+dnfu/i/wDrcVpKK57Lvb8bEq9v67XPbr28g07T7i9vJPLt7aJpZX2k7VUZJwOTwO1R6VqlnrelW+paZN59pcoJIpNpXcp74IBH4ivIde8ReJvFMvjn7DrdrpWkaDayW76fNaK7XWYn3FnJDJkg4I44HB5z3nwr/wCSVeHf+vJKhaq/p+Nxu2lvP8Lf5nW0UUUAFFFFABRRRQAUUUUAFFFFABRRRQAUUUUAFFFFABWNP4w8M2t81lc+ItJhukfY0El9Gsit/dKls59q2a+d7nQ9R8Q+KfH2m6V4PsdYlutQ8oapc3EUbaeSPvAMNx9flPbv0qbvmt5X/L/MOnz/AM/8j6Ior58u/GPjjSNSl8L+H5dRnbw3awWxXT9GF6t3IIxkysxDRqSMAqCcZPWunbxJ418QeMbrStL1NNBH9hQX7RXFisj28pwWUKwByT8p3E4GeM8htpK62/4Dd/uQK97P+tl+p65RXiWm/ETxT4n0jwVpVjqUGlanrguDc6mbZZcCEsBtjOFy23kfliq9x8SfFmlWXiWzutXtLu+g1a30u0vFtkWK33h90m0d/kzhiQD6gYqrO9v63S/Nivpf+ur/AEPdaK8cufEnjLw94x1PQtS8Tw6qLXw5cX8c0djFCwlGSrMozyPTOCMZHWrVv441yTTPhq51JWm1ybbf4ijzOoAzxt+Xn+7iktdu6X3tr9By91Xfn+CT/U9Zorwa78bePB4P1/xLbeILdINE1uS2Fq9jGxuI96AIWwMAbuw3HJy3StHxx448Sw6pqt34V1m9W30i2hmu7VdJt3to3YA7GnkcOScjhFJweO+FdWv/AEtLjas7f1vY9oorxPxX498SXMk134X1i9tzYaPDfX1pBpVvLbwsyb8PPK4YEgjhQxwOASDi/F4t8XeJ/F2jabo+rW+kJqfhtNQkJtFmWGUtyyg8k9AAWwM5wcc001/Xr/kxLVX/AK6f5o9dori/hV4j1TxN4JFzrsiTX1vdS2ssyIFEuxvvYAAHXsO1dpQJO4UUUUhhRRRQAUUUUAFFFFABRRRQAUUUUAFRXV1b2NrJc3s8VvbxKWkllcIiAdyTwBUteVfFFYr74i+CNL14j/hH7i4leaORsRSzAfu1fseSAAeu40dUu4+jb6HpGma1pWtxPLo2p2eoRxttd7S4WUKfQlScGrteQavpum+HPjx4Zi8IW1vYTXNncDUbazRUTyguULIOByDz32iqMHxD8Rv8J/D2rvqqnUr3Xls55fIiy8W9wV27cDgDkDPvQrStb+tbCs1e/wDWlz22ivE9OtvEVv8AGzxlcL4kJ+w2azSKbJD50ZjLRxD+5syOR97HPU1XtfG/jW38G+GPF134jtLq3vbxLSbSxZRhpwXZS3mDB38fdUKBgdecqL5rfL8W0vyCXut3/rRP9f6eh7pRXjV74/8AEMHgPx9qA1RVvNI1g2ti5hi/dR+YihcbcNwTyQTUNxa+Ib/486E6eJDCZtHS6T/QkYRxZHmQ4zg7yCd/UZwOgpx9639dLjkuVN+v4NL9T2uiiigQUUUUAFFFFABRRRQAUUUUAFFFQz3UVtt83f8ANnGyNm/kDQBNRVT+1Lb/AKbf+A8n/wATR/alt/02/wDAeT/4mnZiui3RVT+1Lb/pt/4Dyf8AxNH9qW3/AE2/8B5P/iaLMLot0VU/tS2/6bf+A8n/AMTR/alt/wBNv/AeT/4mizC6LdFVP7Utv+m3/gPJ/wDE0f2pbf8ATb/wHk/+Joswui3RVT+1Lb/pt/4Dyf8AxNH9qW3/AE2/8B5P/iaLMLot1S1fSLHXtIuNM1aD7RZ3K7ZYt7LuGc9VII6djTv7Utv+m3/gPJ/8TR/alt/02/8AAeT/AOJpNX0Y+axFeaDpl/4fbRL20SfTWhEBt3JI2AAAZznIwMHOQRnOaxNJ+GXg/QrgXGk6LHbSi3e23rNIS0bk7gct8x56nJAwAcAV0H9qW3/Tb/wHk/8AiaP7Utv+m3/gPJ/8TQ1e9+ok0lZGUPAvhwaRpemDTv8AQ9IuFubKLz5P3UgJIbO7Lck8EkV5l4v+Hup+IvEGqRab4A0+ymv5ijeIptQV0Ee4EyC2ydrkDG4DOSTxk17F/alt/wBNv/AeT/4mj+1Lb/pt/wCA8n/xNDTbuxqSSsjln+Evg25vLW91HR1vby3ihj86WaTD+Uqqu5N2w8KMgjB75rotN8P6ZpGo6hfafa+Tc6lIsl0/mM3mMBgHBJA49MVP/alt/wBNv/AeT/4mj+1Lb/pt/wCA8n/xNPVk6WsW6Kqf2pbf9Nv/AAHk/wDiaP7Utv8Apt/4Dyf/ABNFmO6LdFVP7Utv+m3/AIDyf/E0f2pbf9Nv/AeT/wCJoswui3RVT+1Lb/pt/wCA8n/xNH9qW3/Tb/wHk/8AiaLMLot0VU/tS2/6bf8AgPJ/8TR/alt/02/8B5P/AImizC6LdFVP7Utv+m3/AIDyf/E0f2pbf9Nv/AeT/wCJoswui3RVT+1Lb/pt/wCA8n/xNH9qW3/Tb/wHk/8AiaLMLot0VU/tS2/6bf8AgPJ/8TR/alt/02/8B5P/AImizC6LdFVP7Utv+m3/AIDyf/E0f2pbf9Nv/AeT/wCJoswui3RVT+1Lb/pt/wCA8n/xNH9qW3/Tb/wHk/8AiaLMLot0VU/tS2/6bf8AgPJ/8TR/alt/02/8B5P/AImizC6M6bwboFxJrLzaeHbXEVNQzK/78Ku1f4vlwD/DiiPwZoEUmjPHp4VtDVk0/Er/ALgEYP8AF82QP4s1o/2pbf8ATb/wHk/+Jo/tS2/6bf8AgPJ/8TRr/XkF0c/bfDHwdZ+JV1+00SODUklMyyxTSKque4QNs79MVJefDnwpf6xf6pdaSrXmoQtBdSLNIvmIwAIwGABIA5AB963P7Utv+m3/AIDyf/E0f2pbf9Nv/AeT/wCJpculh82tzP8A+EN0EXWjXH2H97ocZi09vOk/cKVC4+983AA+bNZo+FvgpfEX9uDw/b/b/M83dufZv/veXnZnv93rz15rov7Utv8Apt/4Dyf/ABNH9qW3/Tb/AMB5P/iaet7iurWMHWPhp4P1/Wn1bV9Dgub2SPy3lLuu8bSuSoIBbB4YjIwMHgY3tK0uz0TSrfTdMh8i0tkEcUe4ttUdskkn8TR/alt/02/8B5P/AImj+1Lb/pt/4Dyf/E0a2sF0y3RVT+1Lb/pt/wCA8n/xNH9qW3/Tb/wHk/8AiaLMLot0VU/tS2/6bf8AgPJ/8TR/alt/02/8B5P/AImizC6LdFVP7Utv+m3/AIDyf/E0f2pbf9Nv/AeT/wCJoswui3RVT+1Lb/pt/wCA8n/xNH9qW3/Tb/wHk/8AiaLMLot0VU/tS2/6bf8AgPJ/8TR/alt/02/8B5P/AImizC6LdFVP7Utv+m3/AIDyf/E0f2pbf9Nv/AeT/wCJoswui3RVT+1Lb/pt/wCA8n/xNH9qW3/Tb/wHk/8AiaLMLot0VU/tS2/6bf8AgPJ/8TR/alt/02/8B5P/AImizC6LdZumeH9M0e+1C80628mfUphNdP5jN5j9M4JIH0GKn/tS2/6bf+A8n/xNH9qW3/Tb/wAB5P8A4mlZhdGD4i+GnhDxXqX9oa9osdzd7QpmWWSJmA6btjDd6ZOeOK1IfDOkW+tTatDabb6a1W0kl81zuiHRcZx264z71a/tS2/6bf8AgPJ/8TR/alt/02/8B5P/AImi3Qd7nn/jHwJYW3hvStG0PwFF4h0+1kkZbY6obZ7ctzuErNuIJJyufT0FZej/AA91HSvAmvNqHhex1O81q6jmbQILhYI4IgeEWXgKygk7h6dSTXqn9qW3/Tb/AMB5P/iaP7Utv+m3/gPJ/wDE0Wet+v8AX6BdaeX/AAf8zzP4efDq5sfFN1rmqeHbPw9Z/YjYW2kR3AuWZWOXeWTkPnpyScccYGeo0z4U+CtHvLa703Qo4Li1n+0QyiaUsr4x1LHI/wBk8e1dJ/alt/02/wDAeT/4mj+1Lb/pt/4Dyf8AxNPXcWlrf12MhvAPhptC1DRm03NhqVybq7h8+T95KSCW3bsjlRwCBxVXUvhd4M1jUZr/AFLQYJ7maIQySGRxlQAAcBsBsAfN973rof7Utv8Apt/4Dyf/ABNH9qW3/Tb/AMB5P/iaVh83mc5ffCvwVqV0tzfaDDNMtsLUMZJP9WF2jo3LAcBvvDA54Fadh4O0LTNStNQsbHyrqzshYQSec7bIAchMFsH6nn3rQ/tS2/6bf+A8n/xNH9qW3/Tb/wAB5P8A4mnqK6IdD8P6Z4bsXs9Ftvs0EkzTMnmM+Xb7xyxJ/CtGqn9qW3/Tb/wHk/8AiaP7Utv+m3/gPJ/8TRZhdFuiqn9qW3/Tb/wHk/8AiaP7Utv+m3/gPJ/8TRZhdFuiqn9qW3/Tb/wHk/8AiaP7Utv+m3/gPJ/8TRZhdFuiqn9qW3/Tb/wHk/8AiaP7Utv+m3/gPJ/8TRZhdFuiqn9qW3/Tb/wHk/8AiaP7Utv+m3/gPJ/8TRZhdFuiqn9qW3/Tb/wHk/8AiaP7Utv+m3/gPJ/8TRZhdFuiqn9qW3/Tb/wHk/8AiaP7Utv+m3/gPJ/8TRZhdFus3XfD2k+JtMbT9esYr21Y52SDlT6qRyp5PIIPNT/2pbf9Nv8AwHk/+Jo/tS2/6bf+A8n/AMTStfcfNYyvDPgXw14P84+HNJis3m/1km5pHI443OSccDjOKzV+EfgVLx7qPw9Ck7XC3O9ZZBtdSSNuG+UZP3RgHjjgV0/9qW3/AE2/8B5P/iaP7Utv+m3/AIDyf/E09b3FdWsYWv8AgXQ9V1KXXjpiya5HavFBcCVkOSjKAQGCn7xGSP5Vzfw8+FGjaTomi6jr/h+CPxHZod7mTcFcMxViFYozAEYbBIwOcgY9B/tS2/6bf+A8n/xNH9qW3/Tb/wAB5P8A4mlFcrbX9b/5g2nuc3qXwp8E6vqd5qGoaBDLdXv+vkEki7jkEsAGAViRywwTzk8nN/VfAvhzW7vTbrU9MWefS9v2STzXUx7SCB8rDcAQOGz+prV/tS2/6bf+A8n/AMTR/alt/wBNv/AeT/4mizWw3K+5boqp/alt/wBNv/AeT/4mj+1Lb/pt/wCA8n/xNOzFdFuiqn9qW3/Tb/wHk/8AiaP7Utv+m3/gPJ/8TRZhdFuiqn9qW3/Tb/wHk/8Aialguornd5W/5cZ3xsv8wKQXRNRRRQMKKKKACq93/B+NWKr3f8H41UPiIqfCVqKKK3OUKKKKACiiigAoqtdX9tZSWsd1Jsa7m8iEbSd77S2OOnCk5PHFWaBhRWdpurf2hqGqWvk+X/Z9ysG7fnzMxI+cY4+/jHPStGgNgoqsZ7r+1VgFnm0MJc3Xmjh9wATZ16ZOenFWaBBRRRQAUVWvZ7qBYTZ2f2ovMiSDzQnloT8z89cDnHU1ZoAKKKKACiiigAoqvfX1vplhNeXsnlW8K7pH2k7R9BzVigAooooAKKKKACiiigAooooAKKQ9KqajLeQWLyabbwXE68iO4nMKkd/mCOf0qJT5TWFPmRcorN0HVP7b8P2GpmHyDeW6TeVv3bNwzjOBn64FaFJzadmivZeY6im1k6Lq0usz3lxCiLpschgt3IO+ZkJEj+mzPA9dpPQil7QPZeZsUVjaJq8t9cX2n6hGkOoWEgWVY87JEYZjkXPO1hkYPRlYc4ydgdapTuxSp2W4tFFFWYhRRRQAUUUUAFFFFABRRRQAUUUUAFFFFABRRRQAUUhrF8S6xe6Fppv7Sxt7uCLmcS3TRMoyANoEbBjyeCV6VEp2djVQur3Nuim0UvaFey8x1FV7u7hsbKa7u5BFBBG0kjt0VQMk/lVTQ7y81HSo72/t1tjcEyRQc7o4z90P/t45OOATjnGSe0D2XmadFNoo9oHsvMdRVHStTh1fTxd2yyLGzugEgAOUcoehPdTVyj2gey8x1FYml+KLHWNWnsLJLgmGBJxO8e2OVGZlBTPJGUPOMEYIJBzTo9Xli8USaRfxovnxG4sZUziRFwHQ5/jUkHjqGHoaPaX6A6NjZopo606qi7ozlHldgoooqiAooooAKKKKACiiigAooooAKKKKACiiigAooooAKKQ9KazKiFnYKqjJJOABUSlymsYcyH0VjeHvEln4lgu5rCK4jS1uDATOgXzPlVw64J+Uq6kZweelbA6U1K7sEoWV7i0UUVRkFFFFABRRRQAUUUUAFFFFABRRRQAVZtP4/wAKrVZtP4/wqZ/CaU/iLFFFFYHSFFFFABVe7/g/GrFV7v8Ag/Gqh8RFT4TjvGNpBf6j4atryMSwSamQ8bfdcfZ5uCO4PcHgjg8VyV9oWmWnh3xtc29nEkmj3LvphxxYEQRS/uR0j+dix24z3r1WiuiNk7/10/yMOa9vL/g/5nlviC3ivvEuqxa7rGi6fOWQac2pWLSXCRmNcNav5yYbfu+4N24DOeK1/wDhHtO1bxD4iTXLaLUjFaWqg3CblDeU+XCnhW9xyPWu7orNxurCTaaZ5lpl1pN/Do8vj97aaCfRLSSzfVNhhkmIPmld3Bl+574PHesy22N4b0WO6ubO00R7vUvMbW7V54PM+0t5QmDSJhsb8Fz94dN2K9M1S11uacNo+q2lnGY9rJc2Jnw2T8ykSJjr0ORwPfM+j6XDo2lQ2NuzyLHktJJjdI7EsztjAyWJJx61pJ813tqCfKrf1tY88vdF0WLQNAu9WuNJ1XS4dXZvtZtlS1gt3Rx5a72cCLftA+YrnbjoKg8T3tldardXFudFstQsbuCOJDAZdQdA8eJEcMpijIboFZSCST8xA9XoqLW/r0/y/EfN/Xzb/U87vdC03UJPHN5f2kdxcQS5t5JBk27LaRkNH/cbOPmXBOBzwKu2mvWWl6vdtrV2kE19p1rJbiQ4a6YK4ZYx1dskfKuT8w45FdvRRy6W8l+Cf5/oDldpvp/wDz/wKc3Hh44Iz4Zj4P8AvrU/iX+wR8QLf/hKWthZf2UwxenFuzecuN+75D7bu/Tmu5rPOl58SjVvO6WhtvK2+rht2c+2MYptXkvV/jzf52IfV97fhb/I4BruyTw1aWd1FpsWiXl9cNY3OuKWtYIFP7seWxUPuy3lgsoCgEdADBpNrFqGn+GbG92XFsmv30IjSNoozGsdxhBGxJEeBjYSRt45FerUURVn/Xl/kW5XVvX8b/5/gebm2g07VLrTrCJLeytvElmYLeJdqRboUZgqjhQWJOBxkn1qld31rd+KLS/tv7IstRXWUglt4oGfUQnmmMtLKGBRGX+EoVwVAY5FegXulXOoaxaTz3kYsLRxMlskJDvKAQC0m7BUbs7QoOQOccHVpRVrN97/AIJfoKbve3VW/P8AzPNL3SLE+GfEurtbI+o2upXE1tdOMyW7K6keW3VBkZIGAec5zTtYbw68viP/AISZYTra+Z9iWf8A4+PJEX7v7Nj5sfezs/i3Zr0msHVdH1rU2urZdagg0y6Gx41sibhEIAZVl8zaM88lCRn2FQ4e5yrtb8tfwKUveu+9/wDgDIBGfhtCJ71rCI6Uoe6Q4MA8oZcHtjr+FcZDLCnhfWIPDtvpMSwNai51TRIi9vcxeYfM3IhBDqmS6hydrA7uRXqMEMdtbxwQIEijUIijooAwBT62laUm+/8AmZw92Cj2PJ7jQ9KufCPiOXT77QdVtFtAxtNGsAlvFKuT5m0SSL5m3I4wcAZ7V6Vo39l/2Pb/ANg/ZP7P2/ufsW3ysZ527eOuelXqKQ3rqFFFFAgooooAKKKKACiiigBD0qlql/Fp1g806XEin5QttbSTtk/7Masce+MVeNJisqkXI3pyUVqebIL+8+EmnWVlaXsc1mltHfW9xp8wZo1x5i+W2xpVx1VD8wyOc4NOTRJZPCusR6aJPLnmswtjY6Hc6YkZWdS0iI7E7ivVkxjYCfWvVcUYpNNtu2+pp7RXTuctpOiw6R431BdLsBZWM2nwsTBFsjebzJck4GC+NuT1xjNS+BG2+EbWycn7RYFrS4Vh8wkRiCT9eG9wwNdJiq0en20OoT3sUQS4uEVJXBPzhc7cjpkZIz1xgdhUqLG5xf8AXkYmnf6V8QNXu4GBht7S3s5CDwZQzyEfULIv/fVdIOtVrHT7bTbUW1jEsUQZm2gk5ZiSxJPJJJJJPJJqyBiqjFqxE5ppi0UUVscwUUUUAFFFFABRRRQAUUUUAFFFFABRRRQAUUUUAIa5bx9dhPDFzZJbX1xcXKDy0tbKafOGUnJRSF/HGa6kjNGKxnFtnRGUeWzOD8YefrP9kXcNu0uj/vhcQ3uiz3QEnARntQUkI4fBIIGQccgijB4fa5j8NWsyTX2nf2lcPLF/Z01pFBEYJAIjFISyx7sABjtIIGMYFelYoxSUWuhbnF9Tg5dDni8E+LdL0+xaCIzTfYrVI9iMhjRtqDGArNuHHGSa3NWmstd8DSTR3FwtneWysslpbtO+1sY/dqCWHYrjpkGugxVaz0620+ORLKJYUllaZlUnG9jliB2yeeO5J6k0cras+yBTinfzf4nn8NpqLeCddtNA0m3sn3RmOax0qTTTdDIMi+Q5V9wUEBgw3bsAqQcWvCWiWct9eK0NsLGa2EU2nR+G59Ot5TuyHZZiVdgMjgZweegrv8UYo5XcXPG1rnD+BtK0jSJJLRdAFjq0UtwGuBpbRq0ZlJXE4TYwKlcAN2xjjjt6iurVLy1kt5WkVJBhjDK0TD6MpDD6gisqHwlp8E8cyXOrlo2DAPrV46kj1UykEexGDRyy6hzR7mLYarHL8TLycWeqLBcWMFtHNJpdyiGRZJCwLGMADDD5jgc9a0dVYXXjnQrWBj5tok93Nt/hjKeWoPpuZuPXY3pXSYqvb6fbWt1c3EEQWa6YNNJkkuQAB17ADgdOvqaFFpJDc4t3Jx1p1IBS1pBNIwqNN6BRRRVmYUUUUAFFFFABRRRQAUUUUAFFFFABRRRQAUUUUAIelYPizT9T1XSEstLS1ljllUXcVzO0Ilh5LIGVHxuOAePuluhwRvmkxWU4ts3pySWpyHg2HWYdX8Q/2ppdvZQzXwkQxXDuCfIiXCBolDJhfveoIxxmuvHSjFA4pxvdX7BOSadhaKKK0MAooooAKKKKACiiigAooooAKKKKACrNp/H+FVqs2n8f4VM/hNKfxFiiiisDpCiiigAqC6Xdtx71PUM/8P4007MTV1ZlbYfajYfapKKrnZHs4kew+1Gw+1SUUc7D2cSPYfajYfapKKOdh7OJHsPtRsPtUlFHOw9nEj2H2o2H2qSijnYeziR7D7UbD7VJRRzsPZxI9h9qNh9qkoo52Hs4kew+1Gw+1SUUc7D2cSPYfajYfapKKOdh7OJHsPtRsPtUlFHOw9nEj2H2o2H2qSijnYeziR7D7UbD7VJRRzsPZxI9h9qNh9qkoo52Hs4kew+1Gw+1SUUc7D2cSPYfajYfapKKOdh7OJHsPtRsPtUlFHOw9nEj2H2o2H2qSijnYeziR7D7UbD7VJRRzsPZxI9h9qNh9qkoo52Hs4kew+1Gw+1SUUc7D2cSPYfajYfapKKOdh7OJHsPtRsPtUlFHOw9nEj2H2o2H2qSijnYeziR7D7UbD7VJRRzsPZxI9h9qNh9qkoo52Hs4kew+1Gw+1SUUc7D2cSPYfajYfapKKOdh7OJHsPtRsPtUlFHOw9nEj2H2o2H2qSijnYeziR7D7UbD7VJRRzsPZxI9h9qNh9qkoo52Hs4kew+1Gw+1SUUc7D2cSPYfajYfapKKOdh7OJHsPtRsPtUlFHOw9nEj2H2o2H2qSijnYeziR7D7UbD7VJRRzsPZxI9h9qNh9qkoo52Hs4kew+1Gw+1SUUc7D2cSPYfajYfapKKOdh7OJHsPtRsPtUlFHOw9nEj2H2o2H2qSijnYeziR7D7UbD7VJRRzsPZxI9h9qNh9qkoo52Hs4kew+1Gw+1SUUc7D2cSPYfajYfapKKOdh7OJHsPtRsPtUlFHOw9nEj2H2o2H2qSijnYeziR7D7UbD7VJRRzsPZxI9h9qNh9qkoo52Hs4kew+1Gw+1SUUc7D2cSPYfarFqu3dn2qOpYP4vwpOTaGoJO6JqKKKksKKKKACoZ/4fxqaoZ/4fxoAxta12HRPsayW1zdSXs/2eGK2QMzPsZwDkgAYQjJOB3wMkZH/Cf2ohuJZNH1WNLGXytRLxxgWJ45c78MNpDZj34Xk4rV1jS59Q1HRriFo1SwvDcShyQSvlSJgcdcuOuOM1kX/hW9utD8X2cctuJNbkd7YszYQG3jjG/jjlD0zxiqja+v9bf8Eb6W/rf/AIBoaj4qg0+e4WPT769hswDe3FqqFLYYDfMGcMxCkMQgY4I45AOPe6kj3niM3F9fJZKliYmspcOm/umeBk4z6im3/gkPr97eDw/4e1hL50kaXU0Alt2CKhA/dP5i4UEDK85Geci5qPha6uW1kWz20aXwtBAuSAghOWBAHHHTGfwqHsQ7toqQ+KZdL1zxOJ7LU9Qt7O7R3aAKyWsX2eMk4dlyM7jtQMe5HIzuav4lTSbf7V/Zt9eWKQ+fNd2wjMcMfUsQzqzYAJwgY47dKr/2BdeT4oXzIc6u5aD5j8ubdI/m445U9M8flXP654E1HVLa7tpLXSdRE9gsFtPqErt/Z7iLafKj8sjlgG3gq3POdoFDbt8l+RrZOX9eX/BN2HxNezeOpdGTSZ3sVs4p1u1MWPmL/McyZ2fKAAF3ZByMYNa+p6hNYRobbTLzUpHOPKtfLBUepMjovpxnPoODjNh0i/s/FFvqEC20sElhHZ3W+ZkaPy2ZlZAEIfJcgglcYHXpUXifQbrV9QspltLHVLKKN0l07UZmSFmJUrLgI4cqAwAZf4sgju+lvX8yL639PyV/xJG8Z2Jg017a0vrmXUxKLeCKIb98f3kbLAKQQRknbkdelTWviVbywupYNL1Bry0m8ibTisYnR8Ajkv5eCpDbt+MHrniuXt9H1Tw7ceF9PtF0+S7t/tzeWN0UDKx3BVIBKcMOzYxjnrV688K6xewS3d19inurq+W4utNNw6W00KxGNYWkCEsBw5ymGPBGKW7f9f1/XzFtqTaj4i+32VjJbC60+aHWobW7t5mCvGc5KsUYqQVKngkEEVq2/iRL/TZL7TNMvr2DzNluYhGPtY7vGWcDZwfmYqDjjORnmIvh3JNol5pt5baZb2l5q8d69nZFo4o4fLRWjXCj5sqeQBnr8ucC9e+HvEFzptvYXLWOp2tlcArFcXDwi/g2MAk4WMgFSVOAGV9vIXs9k/66Rv8Aj+ovtX/rd2/r0G6v4qMsmh3FtDqELrq7WlzYgDzS4gkIjYKxQgnYc7to4JIAJHRaPrSauLlDaXNjc2kgjntroJvQlQwOUZlIIIIIJ7jqCK5zSPBd5p0toyx6baxQ6y+ofZ7MFI442tzGEUbRyGPsDyeM4rotP0ya017V72RozHevE0YUncNsYU549frT6f12X/BHv/Xm/wBLGFrviGXQzrd3pkF/qFzDNbRyQSOhhhDAcoGdcAg88/eI4xk1q3HiR4Wjhh0XUbq9MImms4TB5luhJALkyBOSCAFYk4PpVPVPDV5ex+IPJlgD6g0EltvY4DRBeH44BK9Rng/hVPV/CdxqWsJrF14f8P6rcTWqQT2moOWWBlZiGjlMLEg7iCCi9AahXGaT+M7SR7ZNMsNQ1OS6tPtkSW0aLmPcFOTIyhWBPQ4PXvxTdO8bWWpyWLQWOoJZagxjt72aEJG0gBJjKlt6n5WGSoUkcE5GZrDQXstdtbuKK0t7aHTfsnkWy7FR94b5VxgLwf8ACqtr4avIdB0GxeSAy6bdrPMQx2so38LxyfmHXFNX0v3/AFt+WpOuv9dP8ze1C7ksrUyw2VxfSZAWC22b2/F2VR9SR+eBWSPF9q1isi2N61610bQaaFTz/NA3Fc79mAvzbt+3HfPFO8VaPd6vbWi2iW91HDPvuLG7maKG7Taw2uyq2QCQ2CrA4wR3GJpvg/VdGQXWmRaVBcRahJcxWMO6K2MUkaoY9wQlSNudwUg46DdgC6/12/4I30t/W/8AwC7o2t3NxrviGSWz1Ffs6WwTT5AC6sVbIX5inPHzBtvqeDjY0jW01Wa5t5LK6sLu1K+bbXWwsAwyrAozKQcHoexziufuPDWv3q6zcTzWcU+oPautvBcSKhSL78LShQ2GGRuC9D93sbnhPw1Loeqandmw0rTYb1IQlppgISMoG3ZOxQxO4HO0emOMlrrclXsW9R8SpbXlzZ2mnX+oPaoDdSWiIVttwyM7mBY452oGbGOORnI8JagLqHwv9rvNRkvZ9Eacq0uYZRmIM0gPJkywwfQtV+XS9dsdX1OTRvsE1rqjrK7XUro9rII1jLBVQiUYVTtJTkEZ5yIfD/he+0q48PyXM0DjTNHewm2MfmkZojlcgfL+7brg8jiqhbr/AFo/1sXK1tP62/4J1dFFFSIKKKKACiiigAopsn3DVWd5I7eR4Y/NkVSUj3bd5xwM9s+tJuyuBcorN02e6udMt59Qs/sN1JGGltvNEnlN3XcOGx6irVMCxRTIvu/jT6ACiiigAooooAKKKKACiiigAooooAKKKKACiiigAooooAKKKKACio5e1Zep6jc2AjNto97qW7O77I8I2Y9fMkTr7Z6UAbFFZum6hb6tplvf2ZYwXCB03KVIHoQehp19NcW+n3E1lbfa7iONmit/MCeawHC7jwMnjJoegLU0KKo2kk01nDJdQfZ53jVpId4fy2I5XcODg8ZqajYNyxRVeigCxRVeqWmapDq0M8tusirDcy2zeYACWjcqSME8ZHFAdLmrRVesW28UWN54kOjW8dw8vkySicxbYm8t1R1UnliCw5AK9RnIIAtXYDoqKhj++KmoAKKKKACiiigAooooAKKKKACiiigAooooAKKKKACiiigAopsn3DWdqN5NY2wlttOudQbdgxWzRKwHr+8dBj8c89KANOiue8O+IT4iskvItJvrK1ljEkMt0YcSg+gSRiPxArZoAsUVXooAsUVFF978KloAKKKKACiiigAooooAKKKKACpYP4vwqKpYP4vwoAmooooAKKKKACoZ/wCH8amqGf8Ah/GgCKq0N/bT31zZxSbp7UIZk2kbdwJXnoc4PSszxBdXf23TNLsLz7C9/K++5VVaRERCxCBgV3HgZIIA3cZxXORXE2jax4ljutWup7lzZwwTw20bXDsythQoHllzz8xUKOpGATSuLqjtr7ULbTbcT3snlRtIkQbaT8zsFUcerMBVmvNbjUtTutF1Cy1cXm+y1fTxGb5YBOVaaJvm8gmM85wRjjGeau6/4k1C31Jr3Rp9SuLS3vobScCC3FkpMqxupL4mZhuPzISobA7MKa1t6/5f5lW0ud7RXn2rar4gS38VajZayYRot4FtbRraNopF8mFyshxvIJY4KspGTyeAN3TptTsfFo0y/wBTk1GK5sTdAywxp5Lq4Uhdij5DvGA24jb945p228/8r/kS3b+vOx0lFcj4rv8AUrDURNNf32l6Klvk3tjbRThJcnPnKyswTAXBUADLbmHFZ2oaz4ovdT1N9CtdSk+wzmC3it/sX2aYqqk+cZXEvJP8O3C4xk8lLUb0O7e3hknjmeKNpYgRHIVBZM9cHtnFSVyGj2VyPiRrdxJqd2VFvbM1qVh2HcJMLkJuwvbDZ55Jqz4n1C5+2RadpNzqovREZng0uG3Z9hOAztcDywuQRjIYnpwDSbsC1Omorziwmv8AxDrvgvVp9TubSa60qeWWK3ji2bgYSwG5GIDZ554wMEck2/8AhIdRPiOwubCfU7rSr2/+zF54LdLQqQ3+r6T5BX7xyrYJHBGH1t/W9htWVzvKK42fxBfr4FbUUuh9qGqfZxJsX7n23ytuMY+5x69+vNWviHby3Hg6cQ3k1qVmhJMIQlh5ijB3q3HOeMcgdsgj0Baq5vf2ja/2t/Zvm/6X5H2jy9p/1e7bnOMde2c0s9/bW95bWk0m2e6LCFNpO7aNx56Dj1rmNX1vUNAuryEXn2sWukrMj3aoN0plKB3KKvHTIGBgdqhubO90zxj4dbUdcm1GMi5ZjcwxIUIh5KmNVG32IJ6c+s30v/W7X6Eu6dvT9P8AM7aq9jfW+pWMV5ZSebBKMo+0jIzjoea4zTNf1KTxPphSbVLnS9VMuyW9gt4oWAQuphVcTKOMfvAcg9ehMHw91O71WG3sorg2NrpcX7yAqvm3hcnD/MDiIcgFeWYHkBcNWt7BdanoVFFFAwooooAKKKKACiiigAooooAKKKKAGyfcNYviIaa+jSJrNgb+2YgGAWL3eW7Hy1Vjwe+OK22G5cUzyvf9KTV1YadjzKKCbUvhhoGmx2OpRzWt1p8VzE1pPA6BZE3kEqpwBnLLwPWul8P6PDo3ibWYdO09LHT3it3ijgh8uEvhw5UAAZwFzj2zXUeV7/pR5Xv+lW5Xv5u/5f5EtXFi+7+NPpqrtGOtOqRhRRRQAUUUUAFFFFABRRRQAUUUUAFFFFABRRRQAUUUUAFFFFAEcvauf8TTad9mittUTV2SQll/syK7J4GMM1uMgc9GOD+FdE6bsc4pvle/6Umrj2MLwnbXll4WsrbUY/KliVlWPaimOMMfLUhPlyE2g7eM5qHxnHp03hueHVdNfUVdWEMS6e93iXYdrbVRtv8AvHGM9a6Pyvf9KPK9/wBKJrnTT6hF8ruefXEJ1vwh4atkstQxb3tpHdRyWs0DKFTD5DKp284LD5TyM1teG9Kj0fWtct7GxFlYNLC8EUUXlxZ8oBigHHUc4710/le/6UeV7/pVN3bfd3/L/IiMbJLsrfmZeuwx3Ph++gmmuoI5YHRpbNGaZARjKBQSW9MA1xugWd7Fo2u2ug6VZ2c7WeLa/tdHfSzLNtYBWjk5JU4O/O358cYNejeV7/pR5Xv+lT3LTtY8z8KaJDJq0XmQxW6m2eO8tV8NXNot0GABE0sjskpB5zyTlsHBOb/g/RtG0XWLy1Ph5bTUlvbh4LqPSmCeSzFkCzhNgGwgbdwxjGK73yvf9KjntFuLeSGR3CyKVJjdkYA+jKQQfcEGn1uLpYK4q51WM/E+zuBZaoYIbCe0eYaVcmMStLEQN3l4IwrHdnbx1rdTwZpqOrC61klTkbtbvCPyMuDW55Xv+lNaNP8ArawdGhsf3xU1MWPa2c/pT6QBRRRQAUUUUAFFFFABRRRQAUUUUAFFFFABRRRQAUUUUANk+4agP3TVhhuXFM8r3/Sk1dWA89l02+f4GJp4tbpbz+z0TyUjYSq2RwFxkEVb17wTaReGtb/4R+1aO9vNMktmiRh/pT4JV5CeXkySNzHJ3HOa7fyvf9KPK9/0p9bod9bnns0+oa1rqT6HY6hbPDoN3bw3V3aPbqLhjCVUCQA5G3OSMHsTg4q+DNLaHXLKZQLGeOFhdRR+Hbm0a4JXBE1w8jJKwbndliTkg8nPpnle/wClHle/6VV/6+bf6k9Lf10/yEi+9+FS0xU2nOc0+pGFFFFABRRRQAUUUUAFFFFABUsH8X4VFUsH8X4UATUUUUAFFFFABUM/8P41NUcqFsbRmgDL1TSLLWbZINQiZ1jcSRvHI0UkbjoyuhDKeSMgjgkdDVAeDdDW3uIltZAbl45JZhdS+czx/cfzd2/cP72cnua3/Kf0/Wjyn9P1oAw4fCejQQTRJaMRPNFPM0k8jvJJEQUZmZiSRtXknnHOaZc+DtEu7uS4uLaZzJMs7Rfa5RF5isGDiINsDZUHcBk856nO/wCU/p+tHlP6frQBlyaBps1vqMEltmPU5PMu18xv3jbVTPXj5UUcY6VYNhbHUkvzH/pSQmBZNx4QkEjHTqo5q55T+n60eU/p+tAGNqPhrTNWu/tF+lxISgR4lvJkilUEkK8SsEccnIYHIODxTbnwtpV1qT3zxTxzSbfNEF3LCk23geZGjBZOOPmByOOnFbflP6frR5T+n60AZzaPZNrQ1YJIl4IxEXSZ1V1GcBkB2vjc2NwOMnFRaj4f07VbuK5vI5vOjXZuhuZId65ztcIwDrn+Fsjk8cmtbyn9P1o8p/T9aNwMVfC+kpZ6daw28kMWmY+yeTcSRtGAMbdysCykdVJIPcGoovB+iQ3kdyltKXhnNxCr3UrRwyHOTGhYqn3jwoA5rf8AKf0/Wjyn9P1o63A5+bwXoVxdSzzWkjmWcXLRG6l8oShg3mCPdsVsqCWABOTnqc6t/Y22p2E1lfR+bbzoUkTJGR9RyD7jkVb8p/T9aPKf0/WjpYPMyk0DTVDCSBrjdbfZHNzK8xkiyTtYuTu6nk5NVrLwho1hdQXMVvNJPbBlhkubuado1ZdpVTIzYUj+Hp7VveU/p+tHlP6frQBg2Pg/RdOu7a5tbaXzbTP2Yy3UsggBXaVRWYhFxxtAA4HHAqZPDWkxNYNDbNG+nbhbOkzqyBjllJByyk4JVsg4HHArY8p/T9aPKf0/WgBlFP8AKf0/Wjyn9P1oAZRT/Kf0/Wjyn9P1oAZRT/Kf0/Wjyn9P1oAZRT/Kf0/Wjyn9P1oAZRT/ACn9P1o8p/T9aAGUU/yn9P1o8p/T9aAGUU/yn9P1o8p/T9aAGUU/yn9P1o8p/T9aAGUU/wAp/T9aPKf0/WgBlFP8p/T9aPKf0/WgBlFP8p/T9aPKf0/WgBlFP8p/T9aPKf0/WgBlFP8AKf0/Wjyn9P1oAZRT/Kf0/Wjyn9P1oAZRT/Kf0/Wjyn9P1oAZRT/Kf0/Wjyn9P1oAZRT/ACn9P1o8p/T9aAGUU/yn9P1o8p/T9aAGUU/yn9P1o8p/T9aAGUU/yn9P1o8p/T9aAGUU/wAp/T9aPKf0/WgBlFP8p/T9aPKf0/WgBlFP8p/T9aPKf0/WgBlFP8p/T9aPKf0/WgBlFP8AKf0/Wjyn9P1oAZRT/Kf0/Wjyn9P1oAZRT/Kf0/Wjyn9P1oAZRT/Kf0/Wjyn9P1oAZRT/ACn9P1o8p/T9aAGUU/yn9P1o8p/T9aAGUU/yn9P1o8p/T9aAGUU/yn9P1o8p/T9aAGUU/wAp/T9aPKf0/WgBlFP8p/T9aPKf0/WgBlFP8p/T9aPKf0/WgBlFP8p/T9aPKf0/WgBlFP8AKf0/Wjyn9P1oAZRT/Kf0/Wjyn9P1oAZRT/Kf0/Wjyn9P1oAZRT/Kf0/Wjyn9P1oAZRT/ACn9P1o8p/T9aAGVLB/F+FN8p/T9akiQrncMUASUUUUAFFFFABRRRQAUUUUAFFFFABRRRQAUUUUAFFFFABRRRQAUUUUAFFFFABRRRQAUUUUAFFFFABRRRQAUUUUAFFFFABRRRQAUUUUAFFFFABRRRQAUUUUAFFFFABRRRQAUUUUAFFFFABRRRQAUUUUAFFFFABRRRQAUUUUAFFFFABRRRQAUUUUAFFFFABRRRQAUUUUAFFFFABRRRQAUUUUAFFFFABRRRQAUUUUAFFFFABRRRQAUVFc/8e7fh/OqDMFUsegGTRsBqUVyWka1e6l4fGrNpfyTIJrS3t7hXlljIyu7eEVWIP3dxA/vVNpOuJqlzdWstldafeWoRpLa68stsfO1wY2ZSDtYdc5U5FOzvYDp6KzKKQGnRXJx+J7GXxY3h+JJnuUhaV5lUeUpG3KE5zvAdDjHRhzWzR0uBp0VmVhjxK8utXWn2eiajdi0mWGe5jaBY0ZlVv45QxADAnC/TNAHX0VmUUAadFc1qetR6dNFbRWtxf3kwLR2tqF3lRjLEuyqoGRyzDPQZPFXreV5raOSSCS3d1BaKQqWQ+h2kjI9iR70Aa9FZlWbP+P8KALVFFFABRRRQAUUUUAFFFFABRWF4l1XUdPn0i20kWvm6jeG2Z7lWZY18qR9wCkZIKDjIz0yM5HOzeKvE9rpuuXlx/ZJj8Ozsl1sgkzeoESU7AZP3JCOByZMt6Cmk3t/X9XQPS39d/8AI7+iuE1rxtqUOqahDo9vIy6awQwnRru6N2+xXKrNENkXDBckOc8kYxm5LrXiPUNU1S20gafZJY20E6m+t5JXZnRmMbKrrtwQPm5xz8pqbpK7Dd2Ovorh9R8b3Emh6dqGlXNtby3WnpfGybTp76Yqy5GRCwMa9t7Agn6c2V8Q63rN7aQaH/Z9mtzpMeob7yJ5ijO2NmFZMjHfIxjoc8N6Np9P+D/kxXX9fL/NHX1Fb3MF3F5trNHPGGZC8bhhuUlWGR3BBBHYg1xuj+K9cu4fD2p6hDp8VhrknkraQq7SwMY3dX80thwfLOV2LjcOTjnM0TVNc0Twbf6xF/Z50yw1C+kltnjdppoxdSF2EgYBCOcLsbO0cjd8tcpTTX9ev+R6VUUVzBcSTJBNHK8D+XKqOCY2wDtbHQ4IOD2Irjde8aXGlayBaXNrd2qXUFvNbRafPIyGR1Q77lT5UbDeG2MucY5+YGqC3+t6VceONT0trAW1hfm4liuYndrgLaQsyKysoj4HDEPknoMcyrNNvt/l/mFm7Jdf+CejVHPcQ2tvJcXUqQwxKXkkkYKqKOSSTwB71n6xraaV4XuNYEDzCKDzUhGdzkj5V4BPJIHAP0NcPq/iPVb/AML+ILHUIZLiF9HuZRdLot3YJCwXHlnz87yQ2QQR905FHWwRSk15npYIZQVIIIyCO9LXDar4u1C11CSw0pWT7FBGzk6Nd3wndl3BA0OBHgY5O4/N93jmX/hIvEeqXkkGlQWWmFNJt9QaPUbeSSRJJPMzEyq6YxsHPUYPynPBpq+39foKN2v68v8AM7SiuL0nxXrFy3h6/wBSjsY9P8QRkxW0KOZbVvJMqlpS2JAVRsgIuCR1wSa2j+OdT1W+0+eKzmlsdQkCi3XRbuNreNh8shuWHlOOmQAB83DHHzU4tOzFfS53tFcNaeKfEB0vTtavRposLm/WzktYoZPNw85hWQSF8DkqSpU8A/N6W/CEmty+IvEw1PUoLq1g1Hyo4lt3VkPkQsNrGRgq4Y/LjliWyM4pRXMrr+tv80F/6+//ACOuooopDCiiigAooooAKKKKACiiigAooooAZK5jiLDqPWq32uT0X8qnuf8Aj3b8P51zviDVP7J0vzVnjhlkkEUReCSclj2WKP55DwTtGOATkYpBubf2uT0X8qjXU1e4kgSSFpowC8YbLIDnBIzxnBx9K4Sw8Z6jcWN5C0UL30eoRWEE0lpNaoxkRWDvDId67Qx4z82BgjPES6jqWha5r89/Ja31662EEJhgaCLdI7om4F3IALZJz07U1rt/X9XB6HoA1RDdNbCSEzqgkaLd8wUkgNjOcEgjPsajj1qKbUJ7KKRHuLdVeVAp+QNnbk9MnBOOuMHuK5HR49Sh+Imo/wBr3VrdTf2VblWtbZoFA82bjDSPk5zzkfSpfCS3TeAFvbHyxqd+kl2zXALKZ3JOGAIOAcLgEYAxSvpf+tymtben5XOx+1yei/lR9rk9F/KuS0zxTJrFzpKWkccYms2u9QWVTutwPkCdRhvMDDnPEbfWs2w8Z3lx4m0y2EsN3Y6nJJHG0emXMCx4jaRWW4k/dzDCEZULnIYccVVtbE9LnZWXiTT9RuZ7fT9Qsrue2O2eKCdXaI5IwwByvII59Ku/a5PRfyrloP8Akpt9/wBgi3/9HTVTPiu+HhzUL/yrfzbbWDYoNrbTH9pWLJ5+9tYn0z27VK1S/rrYpxadvT8Vc7X7XJ6L+VVv7bh/tP8As4yILsw+eIipBZM4JB6HBxnHTIz1GeG1LxrqcepaiNNtZJYtPmMItU0i6uHumUAtieP93GTnABDdMnGcDV8YnyrHS9TiDJdWuo23ldmxJIsTp+KuRj1x6U1rZrrb8Se6/rQ69Lp2kUELgnHSrVZ0X+uT/eFaNABRRRQAUUUUAFFFFABRRRQAUUUUAQ3EzRbdoBznrUP2uT0X8qdefwfjXLeKNV1TTDZjTYdsMrMJ7v7BLe+TgZUeTEwc7ufmHAxyORgGlc6f7XJ6L+VH2uT0X8q4bUvGEsNro8WnXMN1LqMLzG+t9NnuY9qbQcQRMX5LAct8vOSTwc3xBqGt6z4EE58mxaLUIIpRc6dMhuMXEWyREd0ZFOclWDdwD/FR1t/XYErteZ6X9rk9F/Kj7XJ6L+VZ2nx38dtt1W5trmfccPbW7Qrj02s7nPvn8KW+sxf2jW7zTwo5G5reQxuQDkgMORnpkEH0IoEaH2uT0X8qPtcnov5Vx3w4jSHwYkUSBI0vbxVVRgKBcyYArpbmdLW0luJnjjjiQuzyNtVQBkknsPeiVkO13Yufa5PRfyqOTU1iliilkhSSYkRozYLkDJAGeeATXB6f42uzrQgvCLq0lsp7tHTSbmzZBHtOAZiRLkN1XGMdOaQ3GsXOu+F9R1WexNvcPLNHbWtu4eLNu7AGQuQ+BxkIuTz7Uf1+f+Qnod7LqiQNEs8kMbTP5cYdsF2wTtGTycAnHsajuNaitbq2tp5EWa6cpDGFJLkKWPToAB1PHT1FcBNfarrM3hLV7mazSwvNRWaC0jt282MNBKV3Sl8E46gIOT1453dIX7V441+6nDeZaiG0g3H7sZjEhI+rMc/7o9KNev8AWi/zG127fq0dV9rk9F/Kq661E2pPYCRPtSRCYxFSCUJI3D1GRjjpxnqK4fxP4Y0LU9esNMg0TTVvL2Y3l5draxiVYY2BY78Z3OxVc5zgse1avixBBc6HqMIYXNvqUUKFcZaOU7HU+owQ2PVAe1C1t5u36fmJ6X8lc61Lp2kUELgnHSrVZ0X+uT/eFaNABRRRQAUUUUAFFFFABRRRQAUUUUAFFFFABRRRQBFc/wDHu34fzrG1O3kutPkjhu5bRsZ8yIKTgdvmB4PQ4wfQg81tzgGFgx2j1xmqflxf89v/ABw0mrqw1ozndCvIF+H+mXTwSQwHT4iYbOOSRkBQcIFy5xntk1R8K23la5qE+nQahHpU0MWJNSWXzpZgWDYM377aF2j5uP7vfPR6Zomm6NA8OnM8ULuXERd3RM9kViQi/wCyuB7VeNrHcK0Ymb5lIO3KnHsQcj8KqTvJyFZWsY2ja/ba3LqMVvDcQyaddtaTLPHtJYAHK8nKkEEH0NXbz7T9hn/s8RG68tvJ84kJvxxuIBOM9cVJpnh2y0e0NtpyeVGzmRySzvI5OSzOxLMx9SSaufY/+mn6UnqrB1ueaaVpXiLS/FeirJpFiY0trn7TdR38j73kkiaSRj5CjeSCQvQ88gCuu/t+2Hiv/hH2huFujafa0lKfunQNtIDZ6gkZGO4rd+x/9NP0qlbeG7G01K41CFSbu5GJJpHaRtvXapYnauedq4GecU77J+YMkrhfEVpD/aV2fDUetw+IZpY3WSIXSWjOAo3OWxbsoQYPUnGB82K9D+x/9NP0o+x/9NP0pLe4dLGFqmvW+j3+l2l3FOzalObeKSJNyI+0sN3ORnBxwa1Kil8NWM+sQ6pOrS3UCFYS7syRZ6sqFtqtjjcBuxxnFXvsf/TT9KAOD8RWCR+L11DUv7XbT5rFYB/ZX2jcsqyM3zfZ/wB4AQ/H8Pyndztq1ba1deGfh6NV8Sw3crWoLSIgEk6xGQhC/IBYIV3HPYnmuy+x/wDTT9Kpan4asdYjij1JWniicSCIuwjcg5G9AcOMgHDAjIoWit/W427u7HI4kjV0+6wBGRjirdn/AB/hR9i/2/8Ax2pYYfJ3fNnPtQIlooooAKKKKACiiigAooooApX+lQajd6fcTtIr6fcG4iCEAM2xkw2R0w56Y5xVC58KWN1puu2UktwI9ddnuSrLlC0SxnZxxwg655z9K3KKabWwGHceGFfU5ryw1bUNNNztN1FamLZOVG0Md6MVO0AZQqcAdwDV2LR7eHUNQvFeUyagkaSgkYUIpAxx6Hvmr9FS1dWYbO5y8XgS0traG3sdU1O0hWxisJlhkjH2mKNSq7iUJVsMfmQoefYY0tN8O2ml3FvNbyTM1vYR2Ch2BBjQ5BOAPm/T2rWoqm7u7/rf/Nisv6/ryRiW/hSxttM0WxjluDFosqy25Zl3OVRkG/jkYc9Mc4qjH4DtI42tv7W1R9OkuXuptPaWMxSu0pkOTs3hdxHyqwUgcg5bPU0Uhv3t/wCv6uczdeCLW6edDqeoxWU12t4bGJo1iEwkWQsDs3nLLkgsR8x4HGLsnhizkstdtWln2a4ztckMMoWiWI7OOPlQHnPOfpWzRStpb+v60Q+Z3v8AMp3Wl2t7o0ml3aGW1kh8l1LEErjHUYIPuKzP+EVabSb3TtS13VNRgu7Zrb/SDCDErDBK7I1y3u27p7nO/RT63EtLWMK78LiXUDe6dq+o6VPJCsM5tDEwnVc7SyyxuARk8qAeec4GLiaJbR6pc34kmMtzaR2jhnyAiFyDyM5+c5JJ7Vo0UdLAtNjFt/C1lbWeg2yS3BTQQBbFmXL4haL5+OflYnjHP5U3SvDA0eeNbLVtRGnxMxi01mjMMec8BtnmbRngFyBwMYAFblFNtt3YdLGJ/wAIrY/2Da6T5tx5FrdR3SNuXcXSbzgCcYxuGOnT86sWeiR2GuXuo213cKt8Q81odhiMgVV8wfLvDbUAxux7Z5rTopLRWX9f1YAooooAKKKKACiiigAooooAKKKKACiiigCO4BaBgBk8cD61i6rodtrVskGoQSsscgljaKR4njcdGV0IZTyRwehNb1FAHKp4N0lLG4tBYyGO5kSaV2mlMjSLjbJ5hbeHG0fMDnjOaSPwZo8VtdwDT3Zb1UW5eSWR3lKElWZySxYZ4bO7gc8DHV0UAc3pnhiw0i6lurG0lFzMgSW4llklklAJI3O5JbGcAknAwOgApmi6Jc6NPeW8WG02SQz26EHfCzkmROmNmeR6biOgFdPRQBgWWgWenT3k1nZmOS9kMlwSWbeTk9CTgZJOBgZYnqTVCx8EaPp11a3FrZXHmWRJtfNuppVt8qVIjV2IRSDjaABwOOBjrqKFpsBycHg3TrfWP7UjXUvtnGXfUrlgwBJClTIVKgk/KRjnpSXHgjRrq+e6uLCWR3mFwUaeXyhKMYkEe7YH4HzAA9eeTXW0UbActc+EtPudRkvjFe288xBlNpez26ykDALLG6hjgAZIJwAOgp9/o13qOt2UtwQNPsj56RKDvln5ALdgqg5A7sQeNvPTUUAUI43Eqko2Nw7VfoooAKKKKACiiigAooooAKKKKACiiigCvdqzbNqk9egrH1LQodW8v7Ub+Py87fst7PbZz6+W656d84roKKAOZn8KabcWNraNZyxR2ZJt3gmkhkjyMHEiMH5zzzz3zUh8O2j6LJpM8NzcWkgIcXNxLM5yc/6x2L8Hoc8cYxXRUUAcs2n6no9rHB4eslvlZmaQ6nqk+5emMMySsR7ZAH40kdrrWqRS2uvadBZ27KMSadqk5kJBBxkRxlR7hvbFdVRR6h6HM6J4XsfD0ciaVFeJHISWSa7mmUEksSBIzAEkkkjGc807T/C+m6Xo82lWVhssZzIZYWLOH35353EnnJ4rpKKNw2OVsPB2l6dcR3EFpcSTRxtCklzczXBWNsZQGRmwvA46Ulj4L0jTrq3ubWxl861yLdpJ5ZPIUqVKIGYhEwfujC8DjgV1dFAHJ23gnRrS8guYdPk8y2kMluHmldbcnIIjVmKxg55VQAeOOBiWTRLmLxMmrWGFE8YgvonBxIq5KOuB98E456qT6CunooB67mJFpMEOp3GoR27farhEjkkJY5Vc7VAPAHJOBjk5qpd6LdX/AIhs7u6I+xWAMsEKg7nnIZS7cdFUkADuxJ6CumooAoRxuJVJRsbh2q/RRQAUUUUAFFFFABRRRQAUUUUAFFFFABRRRQAUUUUAQ3gc2cgjKq+PlLDIB9xkZ/OuIj1DxHB4wsNJuL3S72OSJ7i7EGnyQtDEOFO4zOMs5AAxyA3pXcXP/Hu34fzrmdF0q4tL7UtQ1JomvL6fjyjkRwoMRpkgE8ZY+7tQtw6EWmz3sHizUdNu76S8gNvFdwGaNFaPc8isgKKNyjauMgkZ5J4rpLT/AFx/3a5Kzns9b8c3kkTxX9vptvEkbjEiW9zulEgU9BIF2g45AIBxmuttP9cf92johv4n/XQuUUUUCCiiigAooooAKKKKACiiigAooooAKKKKACiiigAooooAKKKZK5TGMc+tAD6Kg89vQUee3oKAJ6Kg89vQUee3oKAJ6Kg89vQUee3oKAJ6Kg89vQUee3oKAJ6Kg89vQUee3oKAJ6Kg89vQUee3oKAJ6Kg89vQUee3oKAJ6Kg89vQUee3oKAJ6Kg89vQUee3oKAJ6Kg89vQUee3oKAJ6Kg89vQUee3oKAJ6Kg89vQUee3oKAJ6Kg89vQUee3oKAJ6Kg89vQUee3oKAJ6Kg89vQUee3oKAJ6Kg89vQUee3oKAJ6Kg89vQUee3oKAJ6Kg89vQUee3oKAJ6Kg89vQUee3oKAJ6Kg89vQUee3oKAJ6Kg89vQUee3oKAJ6Kg89vQUee3oKAJ6Kg89vQUee3oKAJ6Kg89vQUee3oKAJ6Kg89vQUee3oKAJ6Kg89vQUee3oKAJ6Kg89vQUee3oKAJ6Kg89vQUee3oKAJ6Kg89vQUee3oKAJ6Kg89vQUee3oKAJ6Kg89vQUee3oKAJ6Kg89vQUee3oKAJ6Kg89vQUee3oKAJ6Kg89vQUee3oKAJ6Kg89vQUee3oKAJ6Kg89vQUee3oKAJ6Kg89vQUee3oKAJ6Kg89vQUee3oKAJ6Kg89vQUee3oKAJ6Kg89vQUee3oKAJ6Kg89vQUee3oKAJ6Kg89vQUee3oKAJXQSIVPQ+lRfZI/Vvzo89vQUee3oKAD7JH6t+dPjgWJsqSTjHNM89vQUee3oKAJ6Kg89vQUee3oKAJ6Kg89vQUee3oKAJ6Kg89vQUee3oKAJ6Kg89vQUee3oKAJ6Kg89vQUee3oKAJ6Kg89vQUee3oKAJ6Kg89vQVJE5fOccelAD6KKKACiiigAqGf+H8amqGf+H8aAIqKy9a12HRPsayW1zdSXs/2eGK2QMzPsZwDkgAYQjJOB3wMkZH/Cf2ohuJZNH1WNLGXytRLxxgWJ45c78MNpDZj34Xk4oWoPTc6uisLUfFUGnz3Cx6ffXsNmAb24tVQpbDAb5gzhmIUhiEDHBHHIBiu/GMEN5d21jpeo6nJZxRzy/ZEj2+W6lgwLuoP3eg+b0BpXQHRUVi3fiRItPgvtP0y+1S0mgFx51mI9qRkZDHzHUnI5wuT7cjMNz4ut0uIodO0+/1SSazW9jFoiYaInAOXZQD7E5PbPOG9N/6/qzDc6Ciub07xtY6pPYGCyv0stSJW0vpolSKZwpYpgtvU4VsFlAO04JyM5Ph3xe1ros0mpWmp3NvDqN3FPqJUNHAPtLhQdzB2UKVGVVlUcZG04dmGyO6orF1HxIul3qpd6ZfCzMscLagBH5KO5CqCN/mY3MoyEIyevBxg23iuTStU8UNeWmpX1rZagGklh2slnD9nhOcO4JGd7FUDEckjkZFr/Xp/mB3FFU9Q1O203SZtRuXP2eKPzCUGSR2x65rP/4SUxWbS3ujajZzmVYYLSXyWkuXIyAhSRk6A5ywxgk4HNLyA3KK4/WfG9xZ6HPcWOjXf2+2u4ILizuPK3QiR1AYkS7WDA4Uqx+YjOMNjq7aV57WOWW3ktndQWhlKlkPodpK5+hIoAlorjNTv/KvPFYvry/itIIrXabOXbJFuByY88Ak4zWyfEYbV5rCz0u/vVtpVguLqAReXDIwDbSGcOcBlJKqQM9eDhJ3Enc2qK53wl4ivvEEN61/pM9j9nu5oUZzHtYJIyhflkY7gB8x4GehIqzq/iIaNKzXOl38llHtM99GI/KhyepBcOQMgkqrD8jh9vMb0v5GzRXOWfiO9n8Y6lpMukXC2lpFG63QMZHzBzkgSFiDtG0Bc9c44p8fi2JZLmLUdL1DTZoLR7xI7nyiZok+8U8uRhkZXhiD8w98K+lwWp0FFZ8usW8VxpsLJIW1IkQkAYXCF/m544HbPNZniXxHf6LrGi2llpM9/Hf3DxyGIxg4ETvtXfIuGyoPPGAec4FVZ3sK6audHRWVN4htYNP1e8eOby9I3+eAoy22MSHbzzww645qnP4uiXVH02y0rUtQu47WK7aO3SMDy5CwB3O6qCCvQnJzwDg4Q+lzoaK5NNfiv/FGi3VrdSpp82m3ksiSEoAUeEfOp6MvzDnpzV+x8Uw3d9bW82nX1lHe5+xXFyqBLnC7vlCuWU7QWw6qcA9xinb+vv8A8geiubtFczrerJpXjHTpLy8a3sF067lmBchCVeEAkdz8xA784HWrLeJmFva+Vompy3tzGZRYKIVmjjBxvctIEXORgbt3PThsLpf+uv8AkOxu0VT0vU7fWNNjvbMt5chZSrrhkZSVZWHYhgQfcVcoEFFJnHWjcPUfnQAtFJuHqPzo3D1H50ALRSbh6j86Nw9R+dAC0Um4eo/OjcPUfnQAtFJuHqPzo3D1H50ALRSbh6j86Nw9R+dAC0Um4eo/OjcPUfnQAtFJuHqPzo3D1H50ALRRRQAUUUUAFFFFABRRRQAUUhIHU4o3D1H50ALRSbh6j86Nw9R+dAC0Um4eo/OjcPUfnQAtFJuHqPzo3D1H50ALRSbh6j86Nw9R+dAC0Um4eo/OjcPUfnQAtFJuHqPzo3D1H50ALRSbh6j86Nw9R+dAC0Um4eo/OjcPUfnQAtFJuHqPzo3D1H50ALRSbh6j86Nw9R+dAC0UgOelLQAUUUUAFFFFABRRRQAjHauaZ5vt+tOk+4az9Svo9PsXuJVlYDgeVE0hyenCg4HqTwOpIFJuyuNal7zfb9aPN9v1rlvDeim08E2kNhJDY311BHLdXluiStJKQC8m7kO55wx3DODhhwTwNLPLol2Lm5nuWi1K7iWSeQu21ZmAGT6AYqmrScRdLo6nzfb9aPN9v1qOkPI6496QEvm+360eb7frXFW0P9n+OrOw0vUdQvXWCSXVftN08yKpA8slSdkbls4VAo2huMAV2NAdSTzfb9aPN9v1qOuL8YCTTbkalax6vAUkilm1Bb9zZwIHAfdB5hz8oOcREc5JHLA6pAdx5vt+tHm+361FnPSloAk832/Wjzfb9a5HxffXVzFNo+k3ElvKLZ7m8uYX2vbxAHaFI6M7DA9ArnqBW1oEjzeG9MlmdpJHtImZ2OSxKDJJ7mha38v+D/kJ6NLv/wAD/M1PN9v1pyPuzxioaki70DJKlg/i/Coqlg/i/CgCaiiigAooooAKhn/h/Gpqhn/h/GgDE1jS59Q1HRriFo1SwvDcShyQSvlSJgcdcuOuOM1kX/hW9utD8X2cctuJNbkd7YszYQG3jjG/jjlD0zxiutqtDf2099c2cUm6e1CGZNpG3cCV56HOD0pqTjt/W3+Q77f13/zORv8AwSH1+9vB4f8AD2sJfOkjS6mgEtuwRUIH7p/MXCggZXnIzzkbtposttq2sXCmFYb2GGOFEyNmxGU5GMAcjGM1o32oW2m24nvZPKjaRIg20n5nYKo49WYCrNS1dWElZpnnh8B6kdMsbG8tdI1aOHSobJVv5HaOzmRSrSxx7CHzkcnY2FxnnjoNC8PXemXllLPJCy2+kQ2LBGJJkQ5JGR939faujoqpPmbb6/8AB/zYrf193+SOTsvC17baB4VsXltzLo86SXBDNtYCKRDt455cdccZqknhjxC2gXfh2b+zP7Ovrm4eW6WaTzUhlmdygj2YZirY3b1xu6Hblu5ooTsVJuW/9b/5nn+q+Br/AFG+uHe00m5kN9Hcwapdyu9zFEsqP5KKY8RgAMBtfB7rlia2JvDV5JpXi62WSDfrbyNbkscJutkiG/jj5kJ4zxj6V1FFTb3XHyt+X+Q1Jpprvczrq0nPh42kVvaXcvkiMwXRIhlGAGVjtPBGR90/Q1ycngS6uNIEc9tpzCC+S6ttIuJnurNFCFGiDOmVUhiQAmEIGARXe0U3du5K0Vkcg3hN38K3lnZ6Poui3Us0UyQ6ecRO0Tq673EankrjOzgHvW9plzqVxc3I1K1htkiEaosTM4Zyu5yHIXcvIAO0chvw0aKA6WOV1fwxe3//AAkPkywL/acdusO9iNpjzndxx7YzReaDqN34si1CG1sbFYpkY6hbXciz3EQxmKWIIFcHBALOducgZ4rqqKSVncVtGYnh/Tb7SZtRt51t2s5ruW6t5kmYyN5jl2VkKgLgkgEMcj0rnPEngjUNbutV3Wuk3pu2DWl9fyO8tkAqjy449hCjKsdysOWyVOOe+oprS3kN63v1OY1HQtXl1XVpNNuIbeLVLBbf7SJWWa1lQSBWVQpDA7x/EpGO9ZOneBbhdZku5tO0fSYptMuLGYafI0ssryGM+a8jRoXPyt97JB5y24472ij+v6+8Fpt/W3+RyVpo/iOfUtCm1b+zIotK3iT7NLI7XBMRQOMouzk/d+br97jnS8RaZfXtxpV7pa28lzpt0ZxDcytEkgaJ4yNyqxBG/P3T0xW3RTu73Ekkcbq/h/xBNB4isNLbTzaa2jsJ7iZw9u7QiMrsCEOp2g7twI3Hg4wa8C61aePdTTR4LC6kTSrFJI7qd4RkNPhg6o+eh+XbznqMYPdVEttAl1JcpDGs8iqjyhAGdVztBPUgbjgdsn1oWn9dhvVW/rp/kcpaeCpoTZRz3Mcka2N7DduoKl5bmRXZlXnC5D8Z4460nhjwl/Y95btc+G/DVtJaxlRqVjGBPMcbd2zyl8vcCScO3pznNdjRRfW/9df8w3Vjl/E3hE+I9c068Nx9nWxhl8qVG/eRTl42jcDG1gPLOQ3BzjBqjqfhbUtWurLU9W0bw7q17HbtbXFrdljCfmyssbtE5Q9cptP3vvHbz21FL+v6/r8kNu5R0exTTdJgtY7OzsQi5NvZJthjJOSF4GRk9cDPXAzir1FFNu7uIbJ9w1UmuYLdohcTRxGZxHGHcLvbBO0Z6nAPHtVuT7hrmvFljeXUel3VhbNdvp+oR3TW8bKryKFZSFLkLn588kdKXVDNZ9RsYmkWS8t0MUixSBpVGx2AKqeeCQRgd8iorHWtL1O0kutN1KzvLeIkSTW86yIhAycsDgcc1574ks746ZqN5rGjYj1HXdPkjsTJHK0sYMSbG52bjtIIJ28/eI5rW1LQ9W1gapqSae9p9oW0UabPLHvuFglLuHKsyDcp2AbiMdSOwtY3/rZf5g0k7I2dJ8V2mt+Kbuw0q9sb6yt7OKbzrWUSESM7gqWUkdFU4681dt/E2g3cFzPaa3p08Vou64kiu42WEerkH5RwevpWBJba/e6lrWpw6PHaPPpK21nBeyxyF5FaQ4kVCVAO8dGII6kcgQ+H9K11vGtvquqR6kbePTpbYtqT2fmK7PGwCrbjG0hTySTkHheNzir6ev6hK19PL8lc1/DPjXR/E0ZW0v7H7X5syi1iu0kkKJIyh8DnDABunRhyetadtrmk3uozafZ6pZ3F7BnzbaK4RpI8HB3KDkYJxzWL4ettS0+1vNFuNOuIla4upYtRSSIwsJJXkXAD+YCN+Pu9QeaxvDfhzU7a40W11eLXMaSxMb7rD7IrCNkyCgWYqwY8EZ5G71o0bE9LnT22pXWpeKrq2tXEdhpgEc525M87KG25PRVUqTjqWHTBzojU7A2T3gvbc2sZKvP5q7FIO0gtnAweD71i6G/9n+Ktb0y5+R7qcX9qSf8AWxlER8Z6lWXkDoGX1qnP4dvm8RSWccQ/sK5vI9Smbco2yryYtuc/NIscmcY++D15S6f16/dr91gfX+v6vp950N1rukWOoQ2F7qllb3k+PKt5bhEkkycDapOTk8DFUNX1HU9P8RaRHFLaNp9/cG3eJrdvNUiKR9wk34/gAxs/GuY8U6V4o1WTWrKC2vPs9xIpthbtZpayoETmUuDN5mQRxgcLyBk1teJX1STWtHNjoF9ew6fd/aJJoZbdVYGGRMKHlU5BcdQB15pro2Pq15HSi7tzcSW4uIvOiQSSR7xuRTnDEdQDg8+xqrd6/o9hYwXt9q1jbWtwAYZ5rlEjlyMjaxODxzxWDfW2r2niq+1Gx0iS9TUtOht0AnijFvIjSE+aS2dv7wcoHPB46ZxYfDfiDTI9CuYhqQa30WGwmi0x7MywyLgt/wAfAKlTwCVYHKDIIxg6f15/5L7w/r8v+D9x2HiG9vLPRf7V0kidbT/SJIFAP2mED5lU9jj5lI6kAdDWpbzx3VrFcQNvilQOjeqkZBrmGEfhj4dfZ4oboy+S0Nta3JjM0k0hO2P918nU4+XgD2Fb2jWH9l6FYaeXLm1t44SxOc7VAz+lHf8Ar1/T7ye3z/T/AIJqL90fSlpF+6PpS0hhRRRQAUUUUAFFFFAEcvaqGo6tp2j26z6tf2tjCzbFkuZljUt1xliBng1fl7Vy/imymmubG6sbTV3vLfzBHc6XJbBo1YAMrLcMFIbAP3SRt6jumNGtNrelW2lpqVxqdnFYSAFLp7hVibPTDk4OfrWZr/jPSNB0aDUHv7KVLl4xbg3aIJkZ1VnU87gobccdh261j6npXia5i0DUp3uWvbOKVLqPTPs4l3OBh1E4MeQFw2CPvHaSODIfD12fAd1bWkF8byW8W+MGoPbiR3WZZCuYf3a7thx7tk96fUFbS51en6pYavbfaNKvra+gDFTLbTLIuR2ypIzS312bK0aZLae7cEBYbdQXck4AGSAPqSAO5pNPu5r228250+5099xHk3LRlsev7t2GPxzTr24ltbR5oLOa9dcYggKB257F2VffkihiRR8M60/iDQ0v5bUWshmmiaJZfMAMcjRnDYGc7c9O9ac00VtBJPcSJFFGpd5HYKqKBkkk9APWuZ8Bw6jZaLJY6rpF1YSJcTzB5pIXVxJM7gDy5GOQGGcge2atTR6p4i8Hanaahpy6VeXUM9ukTXCzDBUqrll9c5x2om7XsVFJys9rmw19aK0atdQhpUMkYMg+dBjLD1AyMn3FV7XXdIvr42VlqtlcXSoJDBDcI7hCAQ20HOMEHPuK5RLbWbq60+5vNGk0+207Sri3kae4iZ2kZY+iozDb8hwc565UcE0/B2n3WpeGvCAttKl0m302BZ2uXMIE++BlOxUZj8zPuJYKeOhPR9/L/g/5E9E+50eqeLrG217TNJsNQsJ724vfs9zaiZWliTy3YnaGyDlV6jvWodd0ldWGlNqlkNRPSzNwnnHjP3M56c9Olcjpula4tr4Z02XRjAmj3Qe7u3uIys5EcimSMKSzbmbcSwU89Dzirf6P4p1K+iint7sRQ6zHdbEazSzMK3AYMmAZy+35juK5O7nopIq7s+/4aFS207f5nQRePtAfxNd6RJqumxm3SLZI19H+9kZnVowufvLsGRkn5hwO+xda5pNjfw2N9qlnbXc+PJt5rhEkkycDapOTk8cd6yZYtQ03xvdahDpdxf2t/aW8G+2kiBgaN5CSwkdSQRID8uTweOlYGseHNVk1PXYZI9audP1dwzf2Y1htZDGqFH+0AOCNpxtJGCMYOaOwurOp8QajdRTWOlaUwjvtRdlWYqGFvEozJJg8EgEAA8bmXORmr2pazpmjRJJrGpWlgkh2o91OsQY+gLEZNYutKNJ8SaDqsxY2kaS2E8rt/qvN2FHbtgtGFJ9XFJ4ps7t7+3vNKtdZ+2xwvGt1pj2mArEHY63DYIyAcgZ46ik9F/X9f8OLc2rzW9K0+xivb/U7O1tJseXPNcIkb5GRhicHI5rN1/xlpGgQWUtzf2X+mSxrGJLtEzG7AGUZ6qAc56e4rG1bS/EkmoaPqzG6a5isWt7pdHNtvjlYqxZRcgrsO3BwQ3C9R0nbQbq28FWcGn2t7NPbX6XptrySATPifzHXMZEQPJwAQOgyKOvz/C/+Wouny/Q6mx1Cy1S0W60y7gvLdiQs1vKsiEjg4IJFJqM95BaFtOs1vLgsFWN5hEoyerNgkAewJ9qWxuZbu0Wa4sZ7FySDBcNGXX6lGZefrVPxHdatZ6JLJ4e0/wC337ELHGXRQmerncyg4HO3Iz0yOoTGiDTdVutbtdUsnRdM1OykNvI0TidEYoHV1LKu4YYcFRzke5n8O6tLq+leZdwiC8gle3uolOQsqHBwf7p4YexFUfCsX9maXci90+/sX3G4urzUpYC1zIR80hMUjAYCjg4AGAOBw7wejS2N9qbI8a6pfSXUSPkHy8BEOD03KgbH+1Vdfl+P9XF0v5/hr/wDpovu/jT6ZF938afSGFFFFABRRRQAUUUUANk+4aruu+Nl6bgRVhzhT3qPf/sr+VJq6sBznh2y1CPwhb6RdpcaXc2cKWouYmik37AB5kedwwcdHUH2qTQvDp8NxXPk6pqGoRyvJMYLgQf6x2LMQVjTkkngnHPat/f/ALK/lRv/ANlfyqm2231A53wnZatbQ6lPrMtwPtl9JPbW1zOJXtYjjCFhkdQTtBIAIGTW+RlSASMjqO1P3/7K/lVZdVsW1JtOW7tTfJH5rWokXzVTpuK5zjkc0vIPMwtC8HtoEhNr4g1WaJ5mnminW2bz3bqXcQhyenO7OAB0GKdbWmrzePbjUZGubbSo7P7MLaWdWSeXfuEqIpO0YyMnDH0AHPSBssBtX8ql2j0H5UdbgQVjah4dOqXL/btWv5bGQgvpw8pYWAxwWWMSYyMkb+eh44roNo9B+VG0eg/KgDltatdXvvFGjDTjdWlnZyme7uBOqxToVK+TsBLM2cHJAAGSDniuiqfaPQflRtHoPyoAwNW8J6BrjSyapo9hc3Ekflm4ltY3kUYwMMwJ47Vla54euLHwSvh/wbby2Ur7I4rq0kS3FuQQTLIRgnODkKpLZxxnI7TaPQflRtHoPyo2DrcrRhljVXbewABbHU+tTRd6ftHoPyoAA6DFAC1LB/F+FRVLB/F+FAE1FFFABRRRQAVDP/D+NTVDP/D+NAHPeILq7+26ZpdhefYXv5X33KqrSIiIWIQMCu48DJBAG7jOK5yK4m0bWPEsd1q11PcubOGCeG2ja4dmVsKFA8suefmKhR1IwCa7LVNIstZtkg1CJnWNxJG8cjRSRuOjK6EMp5IyCOCR0NUB4N0Nbe4iW1kBuXjklmF1L5zPH9x/N3b9w/vZye5qbMHumcjcalqd1ouoWWri832Wr6eIzfLAJyrTRN83kExnnOCMcYzzV3X/ABJqFvqTXujT6lcWlvfQ2k4EFuLJSZVjdSXxMzDcfmQlQ2B2YV0kPhPRoIJoktGInminmaSeR3kkiIKMzMxJI2ryTzjnNMufB2iXd3JcXFtM5kmWdovtcoi8xWDBxEG2BsqDuAyec9Tml0/rt/kx6Wsc1q2q+IEt/FWo2WsmEaLeBbW0a2jaKRfJhcrIcbyCWOCrKRk8ngDd06bU7HxaNMv9Tk1GK5sTdAywxp5Lq4Uhdij5DvGA24jb945rTk0DTZrfUYJLbMepyeZdr5jfvG2qmevHyoo4x0qwbC2OpJfmP/SkhMCybjwhIJGOnVRzTutPT9P89SXfW39a/wCRzXiu/wBSsNRE01/faXoqW+Te2NtFOElyc+crKzBMBcFQAMtuYcVnahrPii91PU30K11KT7DOYLeK3+xfZpiqqT5xlcS8k/w7cLjGTyep1Hw1pmrXf2i/S4kJQI8S3kyRSqCSFeJWCOOTkMDkHB4ptz4W0q61J754p45pNvmiC7lhSbbwPMjRgsnHHzA5HHTikul/6/rUpmRo9lcj4ka3cSandlRb2zNalYdh3CTC5CbsL2w2eeSa6+qLaPZNrQ1YJIl4IxEXSZ1V1GcBkB2vjc2NwOMnFXqCUrBRRRQMKKKKACiiigAooooAKKKKACiiigAooooAKKKKACiiigAooooARhuXFM8r3/SpKKAK1xYQXSKt1FHMqOsiiRAwVlOVYZ7gjIPapfK9/wBKkooAj8r3/Sjyvf8ASpKKAI/K9/0o8r3/AEqSigCu9nFJLHJIiNJESY3ZAShIwcHtxxUnle/6VJRQBH5Xv+lHle/6VJRQBH5Xv+lHle/6VJRQBXezilkjkkRHeJi0bMgJQkEEg9jgkfjUnle/6VJRQAgGABS0UUAFFFFABRRRQAUUUUANdN2OcU3yvf8ASpKKAI/K9/0o8r3/AEqSigDM1Pw9pOtCMaxptnqAiz5YurZJdmeuNwOM4H5UzTfDGiaPM02kaRYWErrtZ7W1SJmHXBKgcVrUUAR+V7/pR5Xv+lSUUARNAroVfDKwwQRkEUyCzhtbeOC2jSGGJQkccaBVRQMAADgAelWKKAI/K9/0o8r3/SpKKAI/K9/0o8r3/SpKKAK89nFc28kFyiTQyKVeORAysD1BB6in+Tjof0qWigCPyvf9KPK9/wBKkooAy9S8N6PrLxtrGl2N+0QIjN1bJKUB643A4o03w3o+jNI2j6XY2DSgCQ2tskRcDpnaBnrWpRQBXms4rmB4bhElikG145EDKw9CD1qTyvf9KkooAaq7RjrTqKKACiiigAooooAKKKKAI51L27qOpGK888K6ZH4Qv9I0zUfDek215cwNBHqmnMHkldE3N5mYkZdwBOcsMjB7V6JKu6Nl55GODisbT/DWn6Zdm6gjuZrjbsWa8u5rl0U9QplZioPGQMZwM5wKFowe1jUorntJ8P3kHjDVdfvRDC13FHbRwW8juGRCSJHJC/Oc4wBgAdTmui2n0P5UdA6nm0l2xm1XxHrXh+z1G20y/lX7Rdzgy2scT4BgiKMBwNx+ZGY564UnpvEj+TqehXkMJuJ4rqQRwR4EkwaF8qpOFHQE7mUfL1zgG5c+FNKu9Ra9ntZWkd1kkjFxKsMrrjDPEG2Ow2ryyk/KvoKS707UL3xJYTukEdhYFpVYOzSyyMhTaV2gKoDE53EnjgU1okv62CWrbRrr94fWrFQqp3Dg9fSpqQBRRRQAUUUUAFFFFABRRRQAVLB/F+FRVLB/F+FAE1FFFABRRRQAVFMCduAT9KlooAq7G/un8qNjf3T+VWqKAKuxv7p/KjY390/lVqigCrsb+6fyo2N/dP5VaooAq7G/un8qNjf3T+VWqKAKuxv7p/KjY390/lVqigCrsb+6fyo2N/dP5VaooAq7G/un8qNjf3T+VWqKAKuxv7p/KjY390/lVqigCrsb+6fyo2N/dP5VaooAq7G/un8qNjf3T+VWqKAKuxv7p/KjY390/lVqigCrsb+6fyo2N/dP5VaooAq7G/un8qNjf3T+VWqKAKuxv7p/KjY390/lVqigCrsb+6fyo2N/dP5VaooAq7G/un8qNjf3T+VWqKAKuxv7p/KjY390/lVqigCrsb+6fyo2N/dP5VaooAq7G/un8qNjf3T+VWqKAKuxv7p/KjY390/lVqigCrsb+6fyo2N/dP5VaooAq7G/un8qNjf3T+VWqKAKuxv7p/KjY390/lVqigCrsb+6fyo2N/dP5VaooAq7G/un8qNjf3T+VWqKAKuxv7p/KjY390/lVqigCrsb+6fyo2N/dP5VaooAq7G/un8qNjf3T+VWqKAKuxv7p/KjY390/lVqigCrsb+6fyo2N/dP5VaooAq7G/un8qNjf3T+VWqKAKuxv7p/KjY390/lVqigCrsb+6fyo2N/dP5VaooAq7G/un8qNjf3T+VWqKAKuxv7p/KjY390/lVqigCrsb+6fyo2N/dP5VaooAq7G/un8qNjf3T+VWqKAKuxv7p/KjY390/lVqigCrsb+6fyo2N/dP5VaooAq7G/un8qNjf3T+VWqKAKuxv7p/KjY390/lVqigCrsb+6fyo2N/dP5VaooAq7G/un8qNjf3T+VWqKAKuxv7p/KjY390/lVqigCrsb+6fyo2N/dP5VaooAq7G/un8qNjf3T+VWqKAKuxv7p/KjY390/lVqigCrsb+6fyo2N/dP5VaooAq7G/un8qNjf3T+VWqKAKuxv7p/KjY390/lVqigCrsb+6fyqWEEbsgj61LRQAUUUUAFFFFABRRRQAUVynjSzt7/AFLwxa3kQmgk1QiSNvuuPs03BHcHuDwRweK4+/0DS7Tw346ubeyiSXRrl30s7eLAiCKbMA6RfvGLHbjPeqjHmf8AXl/mNq1rdf8Ag/5HrdFeUeIbaG/8T6tFr+s6Hp07NGNNbVLBpLhIzEuGtZPPTDeZu+4u7cBnPy1s/wDCN6bq/iTxImu2sWpmKztVBuU3KG8p8uFPCt/tDketZt2jcS1aXc76s6+1b7HrWmaf5O/7e0o8zfjy9ibumOc9O1efaXd6RqEGjS/EN7Wa3n0K0ks31XYYJJmB84rv4Mv+r/2sHjvUPh3T7LVLLwtbXEMktm2patmG53EuvmTYWQNy3uGznvWk4uN/J2/Enm0T9D1iivLZp7DSbPV9FltdMh0j+3jbxf2iv+g2Km2jmyycKVLlsISo3MOQcVStmtE8NxQ3dzG2nW/ihVVrCGS3hWLyw37tAzFY8knglcEnO01L/wAvxt/mN6fj+F/8j1+ivLpl0lIteuPB0cB0GGC1lnGmqDbGZJt7tGE+UsIwN230XPNXtV1nSNd8SXLWGuJFaDw/cq+qWr7o4MyINwkHGV6kA5HGcZpbu39bP/Ibsvw/T8rnodFcZ8PW04LqEWlWGjRxxGNTfaHj7LefewcAYVx/Eu5yNy/MeK53xLaw3virWIde1nQ9NnLoNNbVLBpLhIzGuGtZPPTDeZu+4N24DOflpvewlqj0Wx1X7ZrGp2Hk7PsDRrv358zem7pjjGcd60K8y11bqKPxEguQI1ubBb64kgaRTD5a+YzorKSn94bh8u7PGarHTrJPB+uvpetaRe2E7WqG30G2NvbQuJRuYFZXAcgjO0gjCnuDSWqfkPserUVwC+EPD8vxB1HT5NJtm086ZDcGyKfuDM0kqmUx/d8zaoG/G735rnfO+26J4WPiPUdJh099IUpL4gszc20k4IByTKiiTbjBbJI34/iyJ3t/Xf8AyKcbX8rfjb/M9hqtd6ha2MtrHdS+W13N5EA2k732s2OBxwrHJ44rz3TtAsrvxF4csNUuYdetF0i+kR2iIgmQzwlBsZm3IoIC5LD5VPoaoXGm6MdD0qTW7SxbTNL8S3VsXvY0Mdtbb5lVCX4CbvLGOnC+gqmrNLv/APJWEldN9v8AK561WZNrHleKrTRvIz9os5rrzt/3fLeNdu3HOfMznPb3qh4ycx+EWa2837L5kH2g2v3hbeYvmkY5xs3ZxzjOK48XnhvTPGJvfBVna3UEHh+9laHSCFhmcSQ/KpT5A/GCR82Nuf4aI6y18/wTYt1p5fmepVVu7i7hurNLWy+0xTSlLiXzQn2dNrEPg/e+YKuB/ez2ryWxkso9W1FdFudCe1uvDt5JNHoNt5cIdTHtEkgdlldQ7c4VgGyQNwrpU0uy0ubwILG3jiaa7LzSBfnmf7DKN7t1ZuOp5pqOuv8AWrX6Cb/X8k/1O/rPsdV+2axqdh5Oz7A0a79+fM3pu6Y4xnHesPxq9gt5pC+I9g0FpZPtZuMfZ/M2/uhNnjZnON3G7Z3xXLpfaLY2/iYaXbWT6PPeWcAe5YrYxo8S/vD2MIOPlGFbpkA5rO+v9eX+ZR6Fr2r/ANiaal35Hn7rmCDbv248yVY85wem7OO+K0q8hs/Ki0XWLayuLCeyj1rTHgOmWxt7X5pYSTGhdxg9SVOCcn1p3im/tbrXpruI6NY6rZapbwrEYDLqbIJ418wSBwYo2Vum1lKtycvgUraev+X+YWurnrlFeVa3o1jd6d491KWAfb7TUA1rdqSJbZhbW5DRt1Q56lcZwM5Arp9O0qx0P4hR2+kW0dpFd6W8lwsQx50iSoFd/wC8/wA7ZY8nPJNVbZd1f8Lkt2v5f52OuoooqRhRTJ2KQsynBFVPtMv979BQBeorHh1mK4ubuCGfdLZOEnXYRsJUOB05+VgeKZpOv2+uaXDqOl3Pn2k4Jjk8sruwSDwwB6g9qANuiqP2mX+9+go+0y/3v0FAF6iqP2mX+9+go+0y/wB79BQBeorJutXSyaAXM+w3Eohi+TO5yCQOBx0PWobvXks9Qs7FmeS5vGby4o0BIVRlnb0UcDPqQOpFG4G5RVH7TL/e/QUfaZf736CgC9RWBf8AiW20y9trW9kuEe6dY4nW0kePcxwAZFUqpJ7EitH7TL/e/QUeYeReoqj9pl/vfoKp6prg0fT2vbvzDbxsvmuiBvLUnBc/7IzknsMntQBtUVQW7kdQySBlYZBABBFXIGLwqzHJNAD6KKKACiiigAooooAKKguZHj27DjOc8VB9pl/vfoKAL1FUftMv979BUU+oi1i826uI4Y9wXfIQoySABk9ySAPc0AadFUftMv8Ae/QUn2mX+/8AoKAL9FZVnq0Wo2q3On3kN1bvkLLA6ujYODgjjggip/tMv979BQBeorIl1iOHUbexkn23NyjyRJs+8qbdxzjAxuXr61HaeILa+1K+0+1ud91YFFuY/LI8suu5eSMHI9M0AbdFUftMv979BR9pl/vfoKAL1FUftMv979BR9pl/vfoKAL1FZ0t68MLyySYRFLMdvQCqNz4mtbXQV1h7gtaPGskRWPLS7sbFVcZLMSAB1JOKAN+isC/8UafpEcLa1qlpphnGUW8njiJxjIGTzjIzjNO1HxDFplnDd3Ds1rJIqNPGoZIg3R2PZM4GecZBPGSADdoqh9pl/v8A6CrsZLRqT1IGaAHUUUUAFFFFABRRRQAUUUUAFFFFABRTJ2KQsynBFU/tMv8Af/QUAX6Kw9L8QQazA8+nSySQq5USNbuiv7oWUB1/2lyD61Pb6tFdTTxWt5DNJbvsmSN1YxNjO1gOhx2NAGrRWe126IWeQKqjJJwABWdp3i3SNYuGg0nXNPvplXe0drcxyMFzjOFJOORz70AdDRVH7TL/AHv0FUpvENjbalFp1xqlpFfTDMVrJMiyyDnlUJyeh6elAG3RWHF4ht5tYl0pZpFvIk8wxyQMgdeMsjMoDgEgEqTgkA4rRgnkeZVZsg+1AFuiiigAooooAKKKKACiiigAooooAKKKKACiiigAorN1jWk0k20S2lxfXV05SC1ttgd8KWY5dlUAAZ5Ye2aqT+JzGsEdvoupXV9JD50ljEIRLbpkjLl5FTqCAAxJwcZAJoA3aK5GTxrNP4i0S20nSrm90/U7aWYzqI0ZSrIOjyKRt3HcCueRtyQRXXUAZWq2muzzhtF1azs4zHtZLqwa4w2T8ylZUx16HcOB75n0bSodE0mGwt3eRY9zNJJjdI7MWd2wAMsxJOB3q9RQAVn6tpX9qPYN53lfY7xLn7m7ftDDb1GPvda0KKACiiigAooooAKKKKACiiigAooooAKKKKACiiigAooooAKKKKACiiigAooooAiuf+Pdvw/nXK+Jb+6tm0yys5/sjaleC2a6CqzQjy3fKhgRuOzaMgjnOD0rq7gFoGAGTxwPrWXe6Zb6laPa6jZR3dvJjfDPEHRsHIypGDzQM4/wxbST6j4stoNduppRfxIb9RAZVYQR5GBH5eRgqRs/Xmr+jXms6h8PxcW06XGrNHKsUtwqqHdXZVLBQAOg6DHtWy/hzS5NPaxk0azezcKGt2tVMbBQAuVxjjAx6YFRW3hPRLO1uLa00DT4ILoBbiKKyRVmA6BgBhup6+tK2lgvqmc9Z69eafo+ttdNq1xqen2n2oWmqJbA7drFSrWy7SpKsOST8vQd9TSRcWuknV9R8RTajC9r57HyoRboMbt0YjQOVx0BduO5PNaum6HYaNC8OkaXb2ETtuZLW3WJWPTJCgZNR2fhvStOuZrjT9Fs7WecESywWqI0gJyQxAyefWm+thaaHIaH4g1WTxXp1vcS6kbXUrWW4VNRSzAwApVohAxcD5sYkzwRzmrHhKTxNq2haNrd1rKTmYZubT7OiRvFhhkELu8zO053Beo2jrXTaf4a0nSW3aXotnZHOc21okfOMfwgdquW1ilnbJb2lqsEMYwkUUe1VHoAOBR6AttTzz7ZdanH4W1bUNakL6hqKSJpgWFYo/lfKr8nmErwCS3XPA4A6PTgsnxD1tpsGaK0tUhBbJER8wnA7ZYHPrtHpWtD4d0y3u5bq30e0iuJpBLLMlqqvI4JIYsBknJPJ9TTLvQ2n1qz1W3eS3ubdWikITInhbkow+oDA9QR6Egi0+/9LBLV3/re5zmoa3qthdapo5uGe/uriIaVN5SfLHNweMYbyisjHIJ2hc5zVTxj4j1CxTVH0e61Pdo9uGmaCK0FushTeBMZiHbIx/q8cNgc13Mmmwy3kV3LZxvcwKyxTNEC8Yb7wVsZAOBnHWq114b0q+vxfXujWdxdquwXEtqryBeRjcRnHJ496TTt5/1YpNX1/rv/AF0MjxLK0+i6PK4AaTUbJiB0yZFNTy6rNB44aymuFjsF0s3JDhQAwkwW3deB74q7f+FNF1WZJdU0GwvZEQRo9xZpIVUdFBYHA56U+bw3pVzFaRXGi2csdl/x6pJaowg6fcBHy9B0x0FP07v8Vb8NyLfkvwd/x2OIXxPrWoWfh+3tZL2V7+1mupJ9NFr5suxgoC+eRHtw2TgE9OgyT1ugNqV14eCeJbYx3GZI3Wby90ke4hWcRkoGK4JCnGc4wOKuXfh7Tb+ySzv9Itbm1jbckE1srorc8hSMA8n86huvDqHQTpGlINJtWO1ls4QmELZdVAwFLDI3DkZJHPNL7NiuqKPgZnPgjTNxJVYisRLE5jDEIcn/AGQtddbf8e6/j/Os+CzFrbR29vAY4okCIirwqgYAFaNuCsCgjB54P1qnuStiSiiikMKKKKACiiigCrefwfjXLeKP7czZ/wBi/a/s+5vtX9nm3+09Pk2/aB5ZXOd38X3cd66u7Vm2bVJ69BWPqXh7TNa8v+2NHtNQ8rPl/arVZdmeuNwOM4FJjWhyN/4lvbi30C20STVLhNRhld7mKO2S7Yx7QV2zbYgck5wD904GORW8Qw67eeAjJrN1fadLb30K4K2xaaL7RHtkl2h1DKOfkIGRkjHFd1daFYX2npYX2l21zZx42W81urxrjgYUjAx2og0OwtdMbTrXS7eGxYMrWsduqxEN94FAMc5545p9QTtYNPtJrK28q51C51B9xPnXKxhsen7tFGPwzTr6wtdTtGtb+FZ7dyC8T/dfBzhh3HHQ8HvVFtButOtY7bwlHpmjw7maSM6YXRiccgJJGAeOTznj0pI9F1O9iltvFD6XqtlIo/0ddLZASCCC2+WQEcdMde9AjO+HnHhAY4H269/9KZa0NT8QW8HhXUtY0mWDUFs4JZB5ModWZASVJB7Ec1a03w3pejNI2j6NZ2DSgCQ2tqsRcDpnaBnrVi00u30+3MFhYxWsJYsY4YQiknknAGMmiWo1ZO/mcZbxyxfEPQhd69Lqc8um3MpidYVWIMYsMiogYKSCBuLfd69a2NAlvo/EGs6fe6lcahHbCBonuEiVl3qxI/dooI4HUVqWXh3TNNXbp2j2loMscQWqpywAY8DuAM+uBUFl4P0HTbxLvTvDunWlzHnZNBYxo65GDhguRwSKBPZGHYX2rWnieOHxHPqUP2qeWO2WNbZrKXhmVVIXz1OwZ+fAyp5PAM+hzajr19eX0uszW0Vpfy2w062jh2BY2wPMLIz7mGG4K8MuB3O1Z+GNI06+e90/RLK1unBDTwWiJI2Tk5YDJyadP4c0u51NNSudGs5r6PBS6ktVaVcdMORkY+tC6A+pxfiLxPqNteXF5pdxqX2a0vorRv3doLMtvUMjb288t8xGVwM4wCM5vmTxFrHiLxJZ2GtCxj094hZqtvG2XaFWw7MpzHk5IADc8MBxXRv4Z0iTUJL+TRLJ7yTh7lrRDI3QctjJ6D8quR2McM000Vqscs5BldY8NIQMAse+AAOe1JbD6s4/WLy9vbjWLe51o6NBpdlHJL9nEX70yKxLM0qNhPl2jAB4bJ6YgtQslp8P4rjHkGNXALYBlW1JTjv/ABH6gV2F1odhfXkN3e6Xb3Fzb/6maa3V3j/3WIyPwqHVfD0WpaQtjGjWnkFHtZIEwbZ0+4yjpxjp0IyDwaa0v8vwv/mS1e3z/T/IfqkWoTWe3Sru1tJc/NJdWzTrtwf4Q6c9Ocn6VheGEs7v4ZwQTwqLIWskDh5A6yIpZS4YAAqwG4cDgjgVt3/hzTtYWE65pNnqUkK4V7m0WTaTjO0MDjOOlGs6LJrGnCwMkkFrIwFyiJzLF3jB/hDcAnrjIGM5Ckrxa7lJ6plTwdJcTeCNFkvSxnaxhLl/vE7Byfeuri/1Kf7orPWBkQKkRVVGAAvAFaEYxEoPXaKuTvJslKysOoooqRhRRRQAUUUUAFFFFABRRRQBFc/8e7fh/OsbU3u00+Q2EMU02PuyylBjucgHJA6DjPTI61tXALQMAMnjgfWqLQuylTG2CMHg0pK6sNaM5CPUW0j4Y6ZJoyXV0zWcENvIlo8rIGQASNGm44UfMQM9MZql4Dn06213WNO06K/CjyW33VhPEXPljezs6AB2YlucE5JGa6nw/o15oukx6dPcC6gtgI7ZhbmN1iAwqudxDMB/EAufSr/2LY00ltAkU8w+aTyvvEDALYwWx9aqTvJyF5Fbz7XVbO6is7uGYAvbyNE4fy3xgqcHgjPIrntGn1TQNY0vwzf3NlqEL2LGKS2t3gkhWIKuXUu4YNkDI289jnjU8P8AhYaLb3/n7bq41O5e5vHW3EcbuwAIVOcLgDgkk8kk5q9pugadoySJo+k2tgshBdbW2WIMR0J2gZpLR/1/XUHqSRXtrPcz28FzDJPbkCaJJAWiyMjcByMjkZrgtG1HVtH0ddUZrCRLrVmhu7UQObmWR7gxZ83djcox8hQ4VMZ7jq9H8MSafrmp6zdyLcX+o7EdorfykWNAQi4yxJ5OWJOeMAAAVdHh/Tl1Y6ouk2o1EjBvBbL5x4x9/GenHXpQt0wZl6wZE8X6M9oqy3XkXCiKRtiGItFvbcASGHy4GDnOCV610tt/x8L+P8qx10S8k8TDVbu5EkUELw2tvHblNgcqXLsWO85QYwFAGeD1rZt43WdSVYDnkj2o6IbLtFFFAgooooAKKKKACiiigAooooAKKKKACiiigDC8U6XcatZwwQ6Vp2pIrlyt7dPbtEwHyyRyIjsrDnkYIzkEVz1z4DuTcWV5d2Gj+Jp0sUtJ11rOQUZmV0kMchz85Ugj5sKc5GD31FIdzmZNAu7W90G70iz02H+z45YJrRHMEKJLsLGPahyQU4BAByeRXTUUUxdLBRRRQAUUUUAFFFFABRRRQAUUUUAFFFFABRRRQAUUUUAFFFFABRRRQAUUUUAFFFFABRRRQAUUUUAFFFFABRRRQAUUUUAFFFFABRRRQAUUUUAFFFFABRRRQAUUUUAFFFFABRRRQAUUUUAFFFFABRRRQAUUUUAFFFFABRRRQAUUUUAFFFFABRRRQAUUUUAFFFFABRRRQAUUUUAFFFFABRRRQAUUUUAFFFFABRRRQAUUUUAFFFFABRRRQAUUUUAFFFFABRRRQAUUUUAFFFFABUUxI24JH0qWoZ/4fxoAj3t/eP50b2/vH86SigBd7f3j+dG9v7x/OkooAXe394/nRvb+8fzpKKAF3t/eP50b2/vH86SigBd7f3j+dG9v7x/OkooAXe394/nRvb+8fzpKKAF3t/eP50b2/vH86SigBd7f3j+dG9v7x/OkooAXe394/nRvb+8fzpKKAF3t/eP50b2/vH86SigBd7f3j+dG9v7x/OkooAXe394/nRvb+8fzpKKAF3t/eP50b2/vH86SigBd7f3j+dG9v7x/OkooAXe394/nRvb+8fzpKKAF3t/eP50b2/vH86SigBd7f3j+dG9v7x/OkooAXe394/nRvb+8fzpKKAF3t/eP50b2/vH86SigBd7f3j+dG9v7x/OkooAXe394/nRvb+8fzpKKAF3t/eP50b2/vH86SigBd7f3j+dG9v7x/OkooAXe394/nRvb+8fzpKKAF3t/eP50b2/vH86SigBd7f3j+dG9v7x/OkooAXe394/nRvb+8fzpKKAF3t/eP50b2/vH86SigBd7f3j+dG9v7x/OkooAXe394/nRvb+8fzpKKAF3t/eP50b2/vH86SigBd7f3j+dG9v7x/OkooAXe394/nRvb+8fzpKKAF3t/eP50b2/vH86SigBd7f3j+dG9v7x/OkooAXe394/nRvb+8fzpKKAF3t/eP50b2/vH86SigBd7f3j+dG9v7x/OkooAXe394/nRvb+8fzpKKAF3t/eP50b2/vH86SigBd7f3j+dG9v7x/OkooAXe394/nRvb+8fzpKKAF3t/eP50b2/vH86Y5wpIqPzG9aAJ97f3j+dG9v7x/OsrS9btdZgefTpJJIVcqJGgdFf3QsoDr/ALS5B9antNQt7+HzrG6huYtxTfC4ddwOCMjuCMEUAXt7f3j+dG9v7x/OoPMb1o8xvWgCfe394/nRvb+8fzrKs9f0zUbya00/VLO6ubckTQwTo7x4ODuUHI545q95jetAE+9v7x/Oje394/nUHmN61nN4j0hNWGlvrFiuoEgC0NyglJIyBsznpz0oA2N7f3j+dG9v7x/OoPMb1o8xvWgCfe394/nRvb+8fzqnc3sVlayXN5cR28ESlpJZWCqg9STwBTo7gTRJLDIskbqGV1IIYHoQe4oAtb2/vH86N7f3j+dQeY3rT42LZzQBJvb+8fzqWEk7skn61DUsH8X4UATUUUUAFFFFABUM/wDD+NTVDP8Aw/jQBFRWPruoXcE1jp+l7FvNQlZFmlTekCKpZnK5GeAABnqw7A1S0yeG216WzfxnJq1zDE3nabMbUyp0O7bFGrjHocg7vpQB0tFc1P4la4t9Qsp9Ov8ASb0WEtzALkxZkVRgspjdsFSVyDg/MKh8PeKxNp2ixXtjqMSXtvEkOoXCL5c8vlgkfeMik4bBdVBxwTkZFq38vxv/AJCbs7ev4W/zOrorHfxLZpoceqGOfyJLlbYKFG7c03lA4zjG7nr0/KqNz43tLdr1v7M1GS1064Nve3aJGI7fG0lzucMygNklQxAByBRu7f10/wA0Ppc6aisO98URWt7cQW2m3+oLaAG7mtERlt8jdghnDMdvO1AxwRxyAWHxT5mh2Oq6foupX8F5ardYgEIaJCoYbt8ignB6KWPH0ydLjsb9Fc/L4wtDcWkGm2V7qkt7Zi9t1tUQB4iQM7pGUL94Hkj254rT0jVYNa0qG/tQ6JJkGOUYeNlJVkYDOGVgQeTyKCbou0VyCazqckFhfi6Ig1HWBFFEI1wtthwBnGctsDkk5G7AxWtqWoXFt4n0i1jkxb3Edw0ybQd2xVK89RjJ6UuZWv8A1sn+o+tv6/rQ2aK5nS/G9rqo06VNM1K3s9TwtreXEaLG77S2wgOXB+VgCV2nHBOQTHp3iKzs9KjFmuq6pcXV7dJDbOyPO5SZhJgswVY1PALMMLtHUgVVmB1VFc7L40sLbSpry6tb2F7a7is7i0MQaaGSRlC5Ckhhh1OVLZB4yeKr3/iS7uNM1RbKzvNM1XTIVvPsl2sR+0R/MQMozrtbYy5BDA+ndPRX/r+uo0m3Y6qiobW5S8s4bmE5jmjWRD7EZH86mptWdmSmmroKKKKQwooooAKKKKACiiigAooooAKKKKAEJwMmm+aPelk+4aytS1eDS5bCO4SRjfXS2sewA4YqzZOSOMKfWgDU80e9Hmj3rnL/AMX6fppvBPDdN9ju4bNxFFvLPKFK7QDkj5wOmfY1LY+ITerfR/2RfwXtkqs9lKYfMcMCVKsJCnOCOWHTnFHS4PR2ZveaPejzR71ynh/VbKy8H3Go3NxqQt7ea4MzapIss0ZWRgyZQkEAghQCeMCpk8WxxtIupaTqOmuts9zEtysR89EGWCmORgGAI4YqefY4V7LUdnex0vmj3o80e9c5pniuDU760gGnX9ql9CZ7Se5jRUnUBScAMWU4YffVc9s1DoLHVtZ1PWp280W88tjZxqeI0QgSH/eZ1OT6Kop9bC3VzqfNHvR5o965+DxTZ3Gl6fexw3GdQuBbR25VRIkmWDhhuwNmxy2CfunGaNS8SrpV0q3Wl6h9jMqQtfqsflIzsFAK7/MI3EDIQjnrigDoPNHvR5o965XUoPs3jrRZ4bi7X7WZ1miN3KYWCxcfui2wcjOQBV2bxNZwLrjPHORoib7nCj5x5XmfJzzwe+OfzpXQ0nJ2Ru+aPejzR71z134mSG4WCx0u/wBTmEC3EsdoIwYUb7u4yOoycHCqSeOnTNLxJdR3vhBPE+iT5lsYft9rLyokjA3PGwPZ0BBBHBweqintuCV9Edd5o96cDkZqpBMtxbxzR8pIgdT7EZq2v3R9KNiU7q4tFFFAwooooAKKKKACiiigBrMF60nmj3pJe1Y2r69HpV1aWiWdzfXl5vMNtbGMMyoAWbMjqvGRxnPPA4OADa80e9Hmj3rDvNf+xx2iHTbyW/u1LR6fEYjMAuNxJLiMAZGTvxkgDJNYniHxhdR+GRe6Lp98Zhdx284xCGtm85FaNw74JYMQCu4cg5AwaPIaVzt/NHvR5o96oafdzXtt5tzp9zp77iPJuWjLY9f3bsMfjmlvheNaMumNAlwSAr3ClkQZ5JUEFsDtkZ9RQIveaPejzR71zXgm/vNS8LpPqVw1zcLc3MRlZFUsEndFyFAHRR0Fa2p38WlaTd6hcK7RWkLzOqAFiqqScZxzxQ9NxpNuyL/mj3o80e9YsviG0imso2jmLXtrJdR4UcIgUkHnr84x+NUtJ8ZW2rTaeI9O1C3t9Sj8yzuriNFSbC7iuA5cHGeWUA4OCRjLsLon3On80e9Hmj3rmNJuxc+MtVSWPVra4S3hJtruaNrfZucLJEqM2C205zg8Dij/AITK28zzRp9+2m+f9n/tMLGYN+7Z03+Zt3/Lu2Y75xzSQPQ6fzR70eaPeuVk8bWkctxjTdRe2tLv7Jc3SxoI4X3BQeXDMMsOUDY74p2ok6v4zttJkf8A0Oyt1v54gf8AWyF8RA+wKM2O5C+lJO9vP/h/yDv5f8N+Z1Hmj3o80e9YOo+IlstWXTLTTbzUrzyBcPFatCpjjLFQxMsiA5II4zjHOMjLtQ8QCzvFs7XTb3UbzyhNJb2vlBokJwCxd1XkggAEk4PGBmmBueaPejzR71xGteL7pW0CfQtPvru0v7oB3iEC+YvlyExYkdWVwVBOQB8pGc8V1dnPJc2iTTWs1m7DmCcoXT6lGZfyJoB6WLnmj3o80e9Zup2t3eW6RWOovpx3gyTRRI8m30XeCoOcclW4zxk5GJoDt4m8N6ha6ncNfW63c1tDerhGnRGwJAUAAYMCNygDKZGKAOt80e9OVtwyK5zwjqFzqGgKNQkE15aTy2c8oGPMeJym/A6bgA2O2a6GL7v402Hkx9FFFIAooooAKKKKACiiigBsn3DWdqb3aafIbCGKabH3ZZSgx3OQDkgdBxnpkda0X5Q4qFkLKVKnBGDSkrqw1ozB0LT7DUPAOlWThrqwexgGJV2eagVSAygng45XJBGQciqvgJVTRL5UAVV1a9AAGAB571f0rw6bTw//AGLqrW+qWMaiGGOW1A/cqAFWQEkORgcgKD6VPYeG9J0cyyaHpGn6dPIm0yW9oiZ9M7QCRntmrk7zcu4fZ5fMt217a3okNncw3AikMUhikDbHHVTjoR3FTEAgg8jvWP4c8ODQY713lE93qF013dSpD5SM7YHypk7RgDqSepJJNbJTcpDLkEYII61L2F1OQsBDrniixudFt44dG0NJoUuI1CpPIwCGOIDgxrjk9CwAGdpx1AvbVr5rJbmE3aRiVoBIPMCE4DFeuM8ZrPtPB/hywuo7qx8O6XbXERyksNjGjofUELkUy38NkeL5vEN5Mk1x9nNpbpFB5YjiLbiGOSXbI68DHQDkk/r+vmDNquS8fLeJor3RuLVtOt3hlkszEVmndZAQqTFiFJIUAbCSeARnI67afQ/lWf8A8I9pH9rf2r/ZFl/aOc/bPsyednGPv4z0469KOqAsS3trBPBBcXEUU1ySIYpJArSEDJCg9SBzxU9YuqeHH1jxBpt9eTobXTZPPgt1t/nM2CNzSEn5cH7oUcgEk9K29p9D+VAHB+Ob9bi7k06+tdR/s61tWuXaLTpp47mYg7FLIjAKhG85I52ehrb8OaxYp4H028uZ/slvHbRRtJeI1uAdqr/y0A4J6Hoe2a33iEsbRyRh0YFWVlyCD2IrF8SeGv8AhINB/sUSRWuny7UuI1tgzGMEELGcgIeBztbHYA4NJaX87fr/AJg9Wn2v+n+Rt1JF3qJIvLjVEUhVAAGOgFSxgjORimBJUsH8X4VFUsH8X4UATUUUUAFFFFABUM/8P41NUM/8P40AYut6VPftZ3enzRw39hKZYGlUsjgqVZGAOcEHqOQQDg4wcS/0TxHrt79ouzZaPJDYXNtby2V5JcOHmCANzFHt27M5GTz2rsKKVhptO6OB0/wReQ6vJfDTNF0vzNLuLJ1spHkeaRyhEkkhjUv91s5BI65bccX7LQtfmj0Sw1j+zo7LSTHI0trLIz3LxptQbGQCMAncTuYnaBgZOOvoquv9dG3+bJsv687L9DiJ/DXiKTTU0eJtNWwh1JLtLlpXMskYuBN5Zj2YUjkbtzZ2jgbsrdvfDF7c+FfE+mJLAJtXlneBizbVEiBRu4yORzgGuqooWm39bf5Ifby/4P8Amcdfx6lof9u3NndaY2n3H7+4mu52R7F/KVT8qqRIMKrAFkPPXkVkWXg/Ubzw/oq3en6dqEQ0a2tja6s7FLGVVO6VYtjK7HcAclD8mAwBOO2ufDuiXupJqF5o9hcXsZUpcy2qNIpX7uGIyMdvStKl9lp+X4X/AMwWm39bf5HL+G/DV5o8ukNcyQMLLRY9Pk8ticyKVJIyB8vynng+1aPhnSp9G0drS6eN5Gu7mfMZJG2Sd5F6gc4YZ9616Kpyb/ru2/1Ekl/XlY4rT7CfUfC8Wm2ssdvqug3o2pNypZGJTdjkLJGwOR03ZwcYrVt9N1bUNYh1HW4rO0NpDJFBb2lw04ZpMZdnZExgLgKFPUnPQDoKKjlVrf1tYq+tzl7Tw1eQeGvDWnvJAZtJkgedgx2sEQqdvHPJ74qtZ+GNX0iO0u9Peymvra4vd0E0rJFLDcTmXG8ISrDCHO0jhh3BHY0VV3r5u/6C/r8/8zkrnwzqeoWss93LapfXOpWl3JEjsYoY4JEOxW2gscITkqMlscAUeJIZ9Mu9X1pTG5utLjsLWAN+8luN8m1QMY5Mijr69hXW0VLSa5en+at+Q02v687/AJlXTLQ2GkWdmTuNvAkRPrtUD+lWqKKptt3ZMUoqyCiiikMKKKKACiiigAooooAKKKKACiiigBsn3DWH4g0aTWLe0Ntcra3VldJdW8skRkQOoIwyhlJBDMOCPWt0jIwaTy19KAOM/wCELuJkuHvdX8+4udSttQkkFsEUGEp8iqG4UhABkkjuWPJ120i5i1TUtQsbuKO4vIYY0E0BkSMx7uSA6ls7umRjFbnlr6UeWvpR0t/X9aA9XdnH2PhG+XQNR0jVtVguLe9eWVXtbMwSRPJIZCctI4IBPAx25zT5PDGo6kzya/q1vdSpaS29sbaxMKxmRdrSMDI5Y4AAAKjk8HIx1vlr6UeWvpSaTVmO+tzAg0DyJtFk+07v7Kt2gx5ePNyirnrx93OOetQ6PbXOka9qFi8LvZXkr3ttOi/KjMR5kbHsdx3D1DH0NdL5a+lHlr6U95cxKSUeVbHNWfhaO08TzaqLjdAzPLBaCPAhlkCiR8553bM9Bgs/XPGLe/Ddb7Vbi6nurF/MvVvEuH00PeIQ6uI/PL/cG3aAFBAwM8c9/wCWvpR5a+lG1vIq5y2q6Jrl9r1rqFpq+n28dmzmCKXTXkPzJtbcwnXPcjAH41Bq3hC8v7jWBZawllba1EqXa/ZPMkBEezKOXwoK4BBVu+CCcjsPLX0o8tfSlZNWBNp3RxOr+AYdQ1OO/jXSZ5vsyW8i6rpQvFITO1k+dSh5OeSDxxxzc1rT7g+Gbfw7YWsY+2Ri1mktofJgt4sYkYLk7eMhVyTkjnAJHVeWvpR5a+lMS02K6IscaogwqgAD0Aqyv3R9KTy19KXpQAtFFFABRRRQAUUUUAFFFFAEcvasHxHos2u20Vuo0mSBW3vFqemm8Ut2KjzECkZPPPXtXQlQ3Wk8tfSjcNjiL34fwXWl6RA01rd3GlxvGjapZi7hdWxkGNmBGMDaQ2QBjJ5q9/wianwjJoymwspGcSrJp1j9niSRXDo3lbznlVz83OO1dT5a+lHlr6UBtbyMBtUm0W1jGvyyXs0jNtfTNJuGUAY4KoZSDz1JGe3SiPWv7Yilg0Q3NpdKoZZdR0i5SMDIzw4j3H2DZ71v+WvpR5a+lHqHoc14U0LUfD1hJZ3uo2t7CZZJY/Js2hZWkkZ2yTI4Iy3HAxjvU8GjXc/hy80vX9UbUmu1lje4WBYSI3yAoC8cA4z3re8tfSjy19KHruNNp3Rx9p4T1H7Xa3Gqa1HcmzspbKGOCy8pNrhRvOXYlvkGeQOmAOSbdj4Y+xWfhyD7Xv8A7DiEe7ysef8AuTHnr8vXPf0966Xy19KPLX0p3evn/wAH/MXRI5az0PXIPFM2r3Gr6fKk8SQSQR6c6HYjOVwxnOG+c5OCOOgquPCF59m/sp9WifQvtHnfZjZ/vyu/zPLMu/bt3f7G7bxnPzV2Plr6UeWvpSB67nLt4U3aRqlj9sx/aF+bzf5X+ry6ttxnn7uM8delP1K2ubHxRaazawvPDLELK8jjXc6qXzHIAOoViwPoGz2NdL5a+lHlr6UrWt5f8N+Qd/P/AIf8zlfFHhibxIUjZtJ8hEKqbzTDPNEx6tHIJV2HpggZBGc1V1nwHBqV/b3qnT7m4itVtXOs6eL4OqkkMPmQq+SckHBz04Fdp5a+lHlr6UwOZuvDTyaJptrZTWdjdabMk8DwWe23DgMCPJDjCkO3AbIznNTy64ukJFb6z9qurspueXT9IuXiPJ6bBIF+hYnv3rf8tfSjy19KAOR1dJvGmiPZ6Lf3Wlr5qi5a80ueMzR94wHMTYPQlTnHGRmr1suoaFoMv2pbe/NugW2ttLsWt+AMKgVpHHpzkADrwM10Hlr6UeWvpR00D1MTw5pkulaJHDdlDdSu9xclDlfNkcu+D3ALED2FbUX3fxpfLX0pQAvSgBaKKKACiiigAooooAKKKKAGStsiZicADJNYmkeKdP1xkGm/bnSRPMSWXT7iKJ19RI6BT14wea2p9pt33nC45Oegrz/w3dR2esaXpPhfxGfEOlRwvHcpmCVbJFX92fMiRcEkbdrklhkj7poWrB6K53u4+p/OjcfU/nVCHWtPuNbudIiuAb+1jSWWAqQVRuhBIwR9M471eoAzrnxDY22pLYNJcS3JKhktraWfyt3TzCikRg+rEcZPaiXWhBr0GmT2t1H9pVjBdHaYpGUZKcNuDYyeVAODg1wcmo3eiy60I9dMWt/2lLLa6KI4s3yswMeQymRwVwu9GUKF5+6xPWeJBK+oaEtoyxXjXb+TLIN8cZ8iTO5BguMZGAy84OeMFpXSf9bBLRtHRqx3Dk9fWpqrr94Z9asUgCiiigAooooAKKKKACiiigAqWD+L8KiqWD+L8KAJqKKKACiiigAqGf8Ah/GpqZKhfGMcetAFeipPIb1FHkN6igCOipPIb1FHkN6igCOipPIb1FHkN6igCOipPIb1FHkN6igCOipPIb1FHkN6igCOipPIb1FHkN6igCOipPIb1FHkN6igCOipPIb1FHkN6igCOipPIb1FHkN6igCOipPIb1FHkN6igCOipPIb1FHkN6igCOipPIb1FHkN6igCOipPIb1FHkN6igCOipPIb1FHkN6igCOipPIb1FHkN6igCOipPIb1FHkN6igCOipPIb1FHkN6igCOipPIb1FHkN6igCOipPIb1FHkN6igCOipPIb1FHkN6igCOipPIb1FHkN6igCOipPIb1FHkN6igCOipPIb1FHkN6igCOipPIb1FHkN6igCOipPIb1FHkN6igCOipPIb1FHkN6igCOipPIb1FHkN6igCOipPIb1FHkN6igCOipPIb1FHkN6igCOipPIb1FHkN6igCOipPIb1FHkN6igCOipPIb1FHkN6igCOipPIb1FHkN6igCOipPIb1FHkN6igCOipPIb1FHkN6igCOipPIb1FHkN6igCOipPIb1FHkN6igCOipPIb1FHkN6igCOipPIb1FHkN6igCOipPIb1FHkN6igCOipPIb1FHkN6igCOipPIb1FHkN6igCFhuUgUzyj7VZ8hvUUeQ3qKAMLT/DsVjq15qb3E93e3YCNLOy/u4wSVjUKoAUEk9CTnkmtTyj7VZ8hvUUeQ3qKAK3lH2rOl0MT65DqU91PJ9nU+RbEqIomIwXGFDFiCR8xIGTgCtryG9RR5DeooArCMhgeKlqTyG9RR5DeooAjoqTyG9RR5DeooAjoqTyG9RR5DeooAjoqTyG9RR5DeooAjoqTyG9RR5DeooAjqWD+L8KTyG9RUkSFM5xz6UAPooooAKKKKACiiigAorI1zVp9MvNGigSNlv78W0pcEkL5Uj5GD1yg6571R1DxXpt5pmoppmrS2clrvSS9FhJLHbukgRlJK7S2f4c5wd2Mc0bjasrv+t/8AI6WismXxLpkGrDTGkuHuQ6RuYrSWSON2xtV5FUohORwzA8j1FEfibS5NYXTPNnS4d2SMy2kqRSsoJKpKyhHIAJwrE8H0NAjWorAi8b6BPdJBFeSMXuGtfNFrL5SzBynltJt2K24YAJBOVxncM39d1NtI0We7ijWWZcJBEzYEkrMFRc+7ECjoHWxoUVzkfiN9Pu9XTX5rdLbSbKC4nuIYXAywcyHbljj5OByfc1KvjLR5Rci3kuZZLeA3AQWU4M0YON8XyfvVyRym4cj1FD0Bam9RXN6T4307UfCdlrdxFdWgu1TFubSZpGkZA22NdgaUAEncikEAnoDiy/jDRIrCC8ku3WO4nNtGht5PMMwBYxmPbvD4U/KQCeABkjLaadmC1Nuisb/hLNJ+3RWge7M0nlggWE5ERfG1ZG2YiY5HyuVIyMjml/4SrSDqn2D7RJ5vm+QJfs0vkGX/AJ5+dt8vfnjbuznjGeKQGxRWNN4s0iDUXsfNuJpo5BFI1vZTTRxucYRpEQorcj5SQeRxyKxrPxpD4h0D7Xb3F1ojpqSWxeewlYSf6T5YQF0UEvtwcZMZbnBFNLm2B6HZUViXnjDRLC9ltrq6kBgYLPMltK8NuT2kmVTHGcEHDMMAgngil1Hxbo2l30tldTzNdQxLPJBbWk07rG24B8Rqx25U5PQcZxkZXS4G1RWHBrxl8RWlsjQz6fqdmbmxuIQeSu3cCc4OVdWUgDo1blABRRRQAUUUUAFFFFABRRRQAUUUUAFFFFAASFGScD1NN82P++v50y5/492/D+dYuq6jb6Xpk11dXlrZqq4Wa8lEcQY8LuJI4zik3ZXDc3fNj/vr+dHmx/31/Oub03USdAsbvV7zTzLPGm+a1l/0eR26eWzHkE9PWoZfFmgros+qQ6zp01pCSrTJdxmPfjITdnAJ446803pe/QFqdV5sf99fzo82P++v51yvh3xRpfiXT4p9OvrOaYwpLPbwXKytAWGdrY5GDkcgdKs2GvaRqomOl6rY3ot8GY29yknl9fvbScdD19DTas7MSd1dHQ+bH/fX86PNj/vr+dYFvrelXl99itNTs57ryxL5EVwjPsIBDbQc4IIOenIptvr+j3epyada6tYzX0ZYPax3KNKmOuUByMd+KQzofNj/AL6/nR5sf99fzrAj1vSptVfTIdTs5NQjGXtFuFMq9+UzkdR2pt3r2kWF/FY32q2VtdzY8q3muESSTJwMKTk5PHFAHQ+bH/fX86PNj/vr+dcQ3j7QIvE9xo9xq2mw+RCrGV76MZkLspi2k8MNoJGc/MOKuahrPleItO0yz1LSEmkctc2lzPi4ePaSDEgOScjuMYBo6Jg9HZnV+bH/AH1/OjzY/wC+v51z+pa7pOjeX/bGqWVh5ufL+1XCRb8dcbiM9R+dLfa1pWmIX1LU7O0UKGLXFwsYAJwDyehPFAG/5sf99fzo82P++v51y+t619h0aK501Y7ue8kjhswGykjyH5WyP4QMsSOwNW7eZbNLOyvr+Oa9kjwC5VHuCoG9gg+uSB0zQBu+bH/fX86PNj/vr+dYkuqWEEVzJPfW0cdmcXLvMoEHAPzkn5eCDz6ioUv01jSWn8N6nYzFjiO5A+0xAg85COufT7woA6HzY/76/nR5sf8AfX865PQNba78KwanrM1tAxLLLIv7uMESFAfmY4zgdSeta/2iH7QbfzY/OCbzHuG4LnG7HXGe9Ak7q5q+bH/fX86PNj/vr+dc/p2uaTrBlGkapZ35hx5otbhJfLznGdpOOh6+lU9D1K6fUtQ0fVGEl3YsrpOF2ieCTOx8DgMCrKQO654BAoGdaHVjhWBPsaWqdp/rj/u1coARmVfvMB9TSebH/fX86r3n8H41l6jq2naPbrPq1/a2MLNsWS5mWNS3XGWIGeDQBuebH/fX86PNj/vr+dYE2t6VbaWmpXGp2cVhIAUunuFWJs9MOTg5+tZmv+M9I0HRoNQe/spUuXjFuDdogmRnVWdTzuChtxx2HbrQNanZebH/AH1/OjzY/wC+v51iafqlhq9t9o0q+tr6AMVMttMsi5HbKkjNLfXZsrRpktp7twQFht1BdyTgAZIA+pIA7mgRtebH/fX86PNj/vr+dcx4Z1p/EGhpfy2otZDNNE0Sy+YAY5GjOGwM5256d61WZUQs7BVUZJJwAKHpuBpebH/fX86PNj/vr+dcpoOs/wBqjULkajpN7YxzlbaXTp/M2xhQcSnJAfOTxxjFWYPEOi3N09tbavYTTxxec8UdyjMseAd5AOQuCDnpyKAOi82P++v50ebH/fX864vRfHWha3qFzZW2qacZ47kwwRx3qO1wAobeqg5I5I4z9081qHXNJGrjSjqlmNRPSz+0J53Td9zOenPTpQB0Hmx/31/OjzY/76/nXPz67pFrcRwXWq2UM0kvkpHJcIrPJx8gBOS3zLx15HrSXuv6Ppl5Faajq1jaXMwBjhnuUR3ycDCk5PPFAHQ+bH/fX86PNj/vr+dYGo63pWkNEuranZ2LTEiIXNwsZkI67dxGeo6etO1HVtO0i3WfVr+1sYWbYslzMsaluuMsQM8GgDd82P8Avr+dHmx/31/OuK1nxzoejzaWsup6eV1CVQHa9RQkRRmE3uuVAzwOetTa14ks7fw2b/TNZ0WJ7hStlc310FtpH9NwPI4PTnijpcdtUjr/ADY/76/nR5sf99fzrEuNQttP037Zqt3bWsKKpknkkCRqTx95jjGTxUcWtaXPYx3sGpWclpKxWO4SdTG5GcgMDgng/kaHoI3/ADY/76/nR5sf99fzrn7fXNLvNMm1Gx1C2u7OEMZJraVZVG0ZPKk8gdqg8O3N9faSNR1M+Ubw+fFbbQPs0RA2oT3OOST3JA4AoA6fzY/76/nR5sf99fzrntN17SNYeRNI1Wxv2iAMi2tykpTPTO0nHSmweItEuhdG11iwmFmC1yY7pG8gDOS+D8vQ9fQ0AdH5sf8AfX86PNj/AL6/nXGeHfG+i+IpJYLXUbA3S3E0UdvHeJI8qIxAkAHOCBu6dD1NdFQHWxo+bH/fX86PNj/vr+dcddeINR0/UoBqGkRw6dc3YtIpxd7ptzZCs0QTaFJHZyQCCQOQJbnUrrTfFlra3TCXT9TVkt224ME6Lu2EjqrKGIJ6FSOdwwLXYDrBIhOA65+tOrOi/wBcn+8K0aAAkKMk4Hqab5sf99fzplz/AMe7fh/Os9m2IWPQDND01A0/Nj/vr+dHmx/31/OuR0LUNX1LwvHqki2M1xeRLcW1uu+FY1YAhHf5ySM8sFH+7Umi6zdX2oX+nalZQ2t5ZCNnFtcGeNlcEr8xRCG+U5UrwMHJzTs07AdV5sf99fzo82P++v51nUjMFUsxwAMkntSA0vNj/vr+dHmx/wB9fzrk9G1m/wBaaK8t9Ohi0edd8FxLdETSLj5W8oIQFbqMvnBBIB4p9vf38fiqfTb1raW3kt/tNs8MbI6APtZHyxDdVIYY78UdbA9Fc6kSIxwGUn0Bp1Ubb/j4X8f5VeoAKKKKACiiigAooooAKKKKACiiigAooooAKKKKAMTxFp91fX2gyWsXmLaakJ5zuA2J5Mq55PPLKMDnmsV/D2pf8K+1fTVtf9Mub65mjj3r8yvcs6nOccqQeTXa0UdGu/8AwP8AIcnzKz/rf/M4+4sNTTxibjRdPv8ATxLco15cm4hazvIwqgkxli6ybRtBVFJIG4kYrJt9C1+61zRbrU7LUpLuz1Ey3t5PqK/ZnTy5VBht1kKgcqOUV8HncSxr0aihaW8gvv5/8H/P8jhx4c1MfD+XTRa4u21hrry/MXmM3/m7s5x/q+cZz268VseNW8nw6t2VJjsry2upsdo0mRnb8FBP4V0FIyq6FHUMrDBUjIIp3d7rvcN1Z+f4nF+I9B1LUrbxgLK3Ev8AaelxQWmJFHmuFkBHJ4+8vJwOa1NS0m6ufFWkXMMQ+zW9jdwyybh8jP5W0Yzk52t09K3be3htLaO3tYo4YIlCRxRqFVFAwAAOAAO1SUpWasEW4u55zH4f1U+F/DUV1o+oGTQ4/slxbWuoi2lnXylTzYpI5VBGQPldlJG7jOAdC28NMkmi3FhpF3ZhdXa9vEvr77TMP9HeIO7tI+T9wAKzYGOnOO2oquZ3curFsrHHX9jqq+LvtGhadf2LyXMRu7s3ELWd3CAu/dGXLh9oKhlQHIXLbemdpfhNre7Sw1TRNXuVivTOl4utP9iYCXzEcwmfIYcfKIsbh6HNehUVK0t5A9TmNEGq6JcS6S+iyz273ss0eowzRCLy5JDIS6lhIHG4jAVgcA5GTjITQtXHh46R/Zsoe21+O9WcyxeXNCb7zyy/PuG1DyGAOema76iqjJpp9rfgD1TX9df8ziXsdas9L1fw/BohvEv5rloL/wA2IQBZ2Zj5ylhJlS5BCq2QBzyQNPSNFurDxdqF1Im62fTbO2inLDMjRmbdxnI+8p59a6Oip6Ndwbbev9dTg9Asbmxn8GaPdw+Xd6dYTTXSghvKGwRgEg45LnHrsPpXeVEltBHcS3EcEaTTBRJKqAM4Xpk9TjJx9aloB6tsKKKKACiiigAooooAKKKKACiiigAooooAiuf+Pdvw/nWLqlzPa2LPbWFxfyH5RDbtGrc98yOox+Oa3XQSIVPQ+lRfZI/VvzpNXVhrQ8zj0TVNQ+Hmi6NeaJLDNY3NiLiK5kgZZI43QyMNrsCuAeDgn0roo9KuT4h12cxhIL21giikyPmZRIDwOeNy9a6r7JH6t+dH2SP1b86qT5k0+v6/8MLqmcDBYavqXw8n8OzabPpt3HpwtFnmmiaKVgm07SjM204/iUcHp1FV9J0bUJ743OoW+vLcQafLbQ/bm08QgPtyg+z4Y8qMbgAMdq9G+yR+rfnR9kj9W/OlL3r36/1+oR92yXQ4/wAK+GbfTfCvh63vLFILzTLdTtjbHlzNHtkPynDZLNnqCeeuDVLw/a6xZaxFb2lpqlnoyiQvBqb2rpGDyohaJ2kzuP8AGSNueQQK737JH6t+dH2SP1b86cnzScn1ElZWPLdC8MaraNpunauutyx2F356zRNYfZS4Zj5mcCf5sndn5sswJPU72mRX+h61qUbaHcXiahem4/tC2lhxtYAASB3VwUAxhQwxjHPA7T7JH6t+dH2SP1b86S0/r0/yG9Xd/wBb/wCZx97FqGn+M21S20u41G3ubFLZvs0kStCySM2WEjrkESdsn5enNQ+Jn1STW9Iax0C/vYbC7+0STRS26qymGRMKHlU5BcdQB15rtvskfq350fZI/VvzoWlh3d2/62scTcR6jp3iS/1GPQbjVYtQtYo1EM0IaApuzG4kdRtO7OVLc7uOma3hzwrd6Trmmy3kMUi2ej/ZRMpUiOQy7iidDgLxnAyAPpXf/ZI/Vvzo+yR+rfnRZf18/wDMlq6t/XT/ACPOpdMutG8FaDNcWzB9Fu0uJ4YyGKx/OjEYyDtWTdgelbviGzk1LTbTUNJAuLuxmS8tPLZf3owQyBiQPnRmGSccg9q6j7HH6t+dRwabbW1ukFsghhjUKkcYCqoHQAAcCl/w/wDX3FXv+X9fecLPpeu2XhaA2cTyanc3v2u/Nv5LTJuJJERl/d7l+RAW42qcc4o8NWesaImuX99p9/ey3t1HNFE0lr9okXykQ7tpSIEbTnB6Dq1d99kj9W/Oj7JH6t+dP0/rb/IR5tBpesXvw0vNFl0e4sr2MF41nlhKznzTIFUpI2DgAfNgZP1NS6lpWt+I5tYc6c+lJd6SbOD7RPGzl9xJ3hCwUHPYtx1HavRPskfq350fZI/Vvzpcq/r0sC0OA8N6VfHXre+1WDXo5bW0eCM3zWHkqrFMoPs+GP3QRkY47Gr+kFdS8Z6tq1u262igi09HGdsjoztIR6gFwufUMOxrsPskfq350yHTba3hWG3QRRIMKiAKqj2AFVfUOlhtp/rj/u1cqOOBYmypJOMc1JSAq3n8H41yXimymmubG6sbTV3vLfzBHc6XJbBo1YAMrLcMFIbAP3SRt6jv2ksKy43EjHpUf2SP1b86Bp2POtT0rxNcxaBqU73LXtnFKl1Hpn2cS7nAw6icGPIC4bBH3jtJHBkPh67PgO6trSC+N5LeLfGDUHtxI7rMshXMP7td2w492ye9eg/ZI/Vvzo+yR+rfnR/X6iWlvIydPu5r228250+5099xHk3LRlsev7t2GPxzTr24ltbR5oLOa9dcYggKB257F2VffkiptT8MaNrQjGsaba6gIs+WLqBJdmeuNwOM4H5VHpvhHQdHmabSNIsrCV12s9rbRxMw64JUDigDnPAcOo2WiyWOq6RdWEiXE8weaSF1cSTO4A8uRjkBhnIHtmtfS77UrnS5LjVNIawuVdwtqtwkpdQflIYYGWHY4x3re+yR+rfnR9kj9W/Oh6gcFo66s994hF1oF9ZpqUhlhkmltyBiBI9rbJWIJKnsRjuKTRfDt3YaX4LhNkkLaZCRdqpT90xtyrdDzlzyRnJ596777JH6t+dH2SP1b86d9Len4f8ADg9dzkNKTUNL8Qanby6VcS2t9em5jvYpIvLRTGgwylw4IKkcKRyOeuObt/DOqpcHTtRXXJrX+0zdiW0ew+zk+d5quS4E4I43dTwcEjFep/ZI/Vvzo+yR+rfnSWlvL+v0DucRpXhWKS68U/2xYJ5er3uQ+4BpoBFGB8yncMMHx0IPNQ6zaavB4gmuPDdnqkNxMYhJLvtWsp9uADIrv5oAUkHYAeOhrvfskfq350fZI/Vvzo7eVvwDe/meda7o+sr4qvL61GqzWt9axwkaYbIsu3dlXFyPundkbT/eyBwTPHpF1oWoaRe2ek3eqwWmmCxWMzQ/abc5B3HcyocgBWKt2GAR0777JH6t+dH2SP1b86Fpt/W/+bB6/wBen+RyPiCC+vbTR9QtNOmkmsr1LqSxLxiUrsdCoJbZuG/P3sHB5qPxTLqWpeCru1s9BvpLrULWWEQebbhoCVIBcmXbjn+EtXZfZI/Vvzo+yR+rfnQNSaafY4i/i1K7TQ9UXRLln06dml06SaESnMZQOpEhjJGc4LDgnvwc248OX+qXJvp9KEEd1rVtdyWMzxMY4402tI+0lSxIBwC3AXnOQPSfskfq350fZI/Vvzo6387/AJf5E20t8jjLjQLi8fxZCyCKPVoVjhkDD5j5GwnjkYPHNT6dcw674IKXFnJMWtmtruxVgsgcLteLJIweoySOoOe9dZ9kj9W/Oo49MtopJZIowjzMGkZVALkAAEnHJwAPoBStuu/9fqVd6eX9focBZaZ4jvNI1TS5JdQtrSXTzb2r6qbczxykFQVa3JBTGM7vmz3NHhvR79dYsJtVg1yNtPt2jiNy2n/Z1BABVfIAkI4BGQB8oyAa9D+yR+rfnR9kj9W/On1v/X9ak20t/XT/ACOP8PRahpV9fadc6XcGCa+uLmO/SSIwlZGLgEb/ADARu2/dxkdcV0lWZtNt7mCSC4QSxSKUeNwGV1IwQQRyD6Vir8PPCCMGTwzpCsDkEWEIIP8A3zQtkinq2+5zTHWr/wAX/a9Y8O6i9lYzkadHBPbGLONpuJMzBi2CcLt+UZ6seNLWyupeKtE06Bt0llOdQuNuf3aCN0QE9izPwO4VvQ12H2OP1b86Ymm20ckkkaBXlIMjKAC5AwMnHPHFHbyC71IIv9cn+8K0ahW1RWBBbIOetTUCIrn/AI92/D+dY2pWUeoWEkEzTKpGf3MrRnI5HKkZHqDwehBFbjoJEKnofSovskfq350mrqw1ozk9AvWufh9pt19k+3NJYRFra2WNfMJQBlAYqg78ZAHSoPDGkyWWqXlzbaQNB02SFEj04NGMyAsWlKRM0a5BUfKcnHPQV1VpoenWDTNY2sVsbiQyzGGNU8xz1ZsDk+5qd7CGWNo5AXRgVZWwQQexFU3eTkhaWsc34e8QNrsuqxvZm2OnX8lnuEokWXaAdwIHHXkdjxWrcQi4tZYSdokQoT6ZGKt2mkWVhax2tjAltbxjCQwoqIg9AAMCpvskfq350mk1YabTueZaH4XuLO80SOHQF06700hb3WN8R+2xrGU2qVcyMGO04kAChfUCt+8ijvfH1nC7kG1sHnAifY4JkQDcy4Yqdp+Qna2OQdox132SP1b86r22iafZzTzWlrFBLcvvneKNVaVvViB8x9zTu739SWtLL+tf6Qtt/wAfC/j/ACq9USWyRuGBbI9alpDCiiigAooooAKKKKACiiigAooooAKKKKACiiigAooooAKKKKACiiigAooooAKKKKACiiigAooooAKKKKACiiigAooooAKKKKACiiigAooooAKKKKACiiigAooooAKKKKACiiigAooooAKKKKACiiigAooooAKKKKACiiigAooooAKKKKACiiigAooooAKKKKACiiigAooooAKKKKACiiigAooooAKKKKACiiigAooooAKKKKACiiigAooooAKKKKACiiigAooooAKKKKACiiigAooooAKKKKACiiigAooooAKKKKACiiigAooooAKKKKACiiigAooooAKKKKACiiigAooooAKKKKACiiigAooooAKKKKACiiigAooooAKKKKACiiigAooooAKKKKACiiigAooooAKKKKACiiigAooooAKKKKACiiigAooooAKKKKACiiigAooooAKKKKACiiigAooooAKKKKACiiigAooooAKKKKACiiigAooooAKKKKACiiigAooooAKKKKACiiigAooooAKKKKACiiigAooooAKKKKACiiigAooooAKKKKACiiigAooooAKKKKACiiigAooooAKKKKAP/9k=)"
      ],
      "metadata": {
        "id": "55XAu8xjgjHc"
      }
    },
    {
      "cell_type": "markdown",
      "source": [
        "**len()**"
      ],
      "metadata": {
        "id": "FNz3XhQ7glU0"
      }
    },
    {
      "cell_type": "markdown",
      "source": [
        "Method **len()** akan mengembalikan panjang dari suatu set."
      ],
      "metadata": {
        "id": "XpQptHEjgnfC"
      }
    },
    {
      "cell_type": "code",
      "source": [
        "# Coba jalankan code di bawah ini\n",
        "\n",
        "siswa = {'Andi', 'Gilang', 'Bagus', 'Putra', 'Dwi'}\n",
        "print(f'Panjang set siswa adalah {len(siswa)}')"
      ],
      "metadata": {
        "colab": {
          "base_uri": "https://localhost:8080/"
        },
        "id": "Tn1vPVYIgq5D",
        "outputId": "511c93a0-f793-4e4d-9b47-92685aedc11a"
      },
      "execution_count": 11,
      "outputs": [
        {
          "output_type": "stream",
          "name": "stdout",
          "text": [
            "Panjang set siswa adalah 5\n"
          ]
        }
      ]
    },
    {
      "cell_type": "code",
      "source": [
        "# Coba cari tau berapa panjang set karyawan di bawah\n",
        "\n",
        "karyawan = {'Joko', 'Alex', 'Chandra', 'Hartono', 'Samsul'}\n",
        "print(f\"Panjang set karyawan adalah {len(karyawan)}\")"
      ],
      "metadata": {
        "colab": {
          "base_uri": "https://localhost:8080/"
        },
        "id": "u3VP7YoUguPV",
        "outputId": "53d593b1-b092-4f02-addf-6263b9814fd2"
      },
      "execution_count": 12,
      "outputs": [
        {
          "output_type": "stream",
          "name": "stdout",
          "text": [
            "Panjang set karyawan adalah 5\n"
          ]
        }
      ]
    },
    {
      "cell_type": "markdown",
      "source": [
        "**in**"
      ],
      "metadata": {
        "id": "uOOek12ZhmI2"
      }
    },
    {
      "cell_type": "markdown",
      "source": [
        "Untuk memeriksa apakah suatu value atau element ada di dalam set atau tidak, kita bisa menggunakan `in`."
      ],
      "metadata": {
        "id": "DJhhYXeVhpNa"
      }
    },
    {
      "cell_type": "code",
      "source": [
        "# Coba jalankan code di bawah\n",
        "siswa = {'Andi', 'Gilang', 'Bagus', 'Putra', 'Dwi'}\n",
        "\n",
        "# Kita akan mengecek apakah nama Gilang ada di variabel siswa atau tidak\n",
        "print(\"Gilang\" in siswa)"
      ],
      "metadata": {
        "colab": {
          "base_uri": "https://localhost:8080/"
        },
        "id": "kNSZ4nAdhneT",
        "outputId": "8f7c054b-a564-4160-c557-1fc6cc876b15"
      },
      "execution_count": 13,
      "outputs": [
        {
          "output_type": "stream",
          "name": "stdout",
          "text": [
            "True\n"
          ]
        }
      ]
    },
    {
      "cell_type": "markdown",
      "source": [
        "Jika element atau nilai yang kita cari tidak ada pada suatu set, maka outputnya `False`."
      ],
      "metadata": {
        "id": "3YTLzkAPhvOv"
      }
    },
    {
      "cell_type": "code",
      "source": [
        "# Coba jalankan code di bawah ini\n",
        "siswa = {'Andi', 'Gilang', 'Bagus', 'Putra', 'Dwi'}\n",
        "\n",
        "# Kita akan mengecek apakah nama Mahesa ada pada set siswa atau tidak\n",
        "print(\"Mahesa\" in siswa)"
      ],
      "metadata": {
        "colab": {
          "base_uri": "https://localhost:8080/"
        },
        "id": "3xa9wrBWhxsQ",
        "outputId": "0ca9e679-2afd-4c9c-d051-aaf7fe273c03"
      },
      "execution_count": 14,
      "outputs": [
        {
          "output_type": "stream",
          "name": "stdout",
          "text": [
            "False\n"
          ]
        }
      ]
    },
    {
      "cell_type": "code",
      "source": [
        "# Coba buatlah set yang menyimpan bunga Melati, Matahari, Mawar\n",
        "bunga = {\"Melati\", \"Matahari\", \"Mawar\"}\n",
        "\n",
        "# Kemudian periksa dengan method in apakah ada bunga sepatu atau tidak\n",
        "print(\"Bunga Sepatu\" in bunga)"
      ],
      "metadata": {
        "colab": {
          "base_uri": "https://localhost:8080/"
        },
        "id": "s2LOLmFPh07D",
        "outputId": "69b96088-049d-4eb4-b711-56cda435bf70"
      },
      "execution_count": 15,
      "outputs": [
        {
          "output_type": "stream",
          "name": "stdout",
          "text": [
            "False\n"
          ]
        }
      ]
    },
    {
      "cell_type": "markdown",
      "source": [
        "**add()**"
      ],
      "metadata": {
        "id": "tSydnsqOiFmb"
      }
    },
    {
      "cell_type": "markdown",
      "source": [
        "Method `add()` berfungsi untuk mengetahui menambahkan element baru ke dalam set."
      ],
      "metadata": {
        "id": "OQAerRBRiG0X"
      }
    },
    {
      "cell_type": "code",
      "source": [
        "# Coba jalankan code di bawah ini\n",
        "\n",
        "football_club = {'AC Milan', 'Liverpool', 'Real Madrid', 'Bayern Munchen'}\n",
        "football_club.add('Manchester United')\n",
        "print(football_club)"
      ],
      "metadata": {
        "colab": {
          "base_uri": "https://localhost:8080/"
        },
        "id": "4EZoa3atiJRP",
        "outputId": "b074ab89-cbb6-4d25-8b44-9857a2f59ede"
      },
      "execution_count": 16,
      "outputs": [
        {
          "output_type": "stream",
          "name": "stdout",
          "text": [
            "{'Real Madrid', 'AC Milan', 'Bayern Munchen', 'Liverpool', 'Manchester United'}\n"
          ]
        }
      ]
    },
    {
      "cell_type": "code",
      "source": [
        "# Coba tambahkan bunga Asoka ke dalam set\n",
        "bunga = {'Melati', 'Matahari', 'Mawar'}\n",
        "bunga.add('Asoka')\n",
        "\n",
        "# Kemudian print set bunga tersebut\n",
        "print(bunga)"
      ],
      "metadata": {
        "colab": {
          "base_uri": "https://localhost:8080/"
        },
        "id": "BbsBQzbqiPaL",
        "outputId": "a0c966c7-91a0-456d-9bc9-57bec71dc786"
      },
      "execution_count": 17,
      "outputs": [
        {
          "output_type": "stream",
          "name": "stdout",
          "text": [
            "{'Asoka', 'Mawar', 'Matahari', 'Melati'}\n"
          ]
        }
      ]
    },
    {
      "cell_type": "markdown",
      "source": [
        "**update()**"
      ],
      "metadata": {
        "id": "Ge5UAZ6iiW1R"
      }
    },
    {
      "cell_type": "markdown",
      "source": [
        "Jika method `add()` akan menambahkan element satu per satu, maka method `update()` akan menambahkan beberapa element sekaligus."
      ],
      "metadata": {
        "id": "yf_hiIH4iZub"
      }
    },
    {
      "cell_type": "code",
      "source": [
        "# Coba jalankan code dibawah\n",
        "siswa = {'Andi', 'Gilang', 'Putra', 'Dwi'}\n",
        "siswa_baru = {'Pamungkas', 'Bagas'}\n",
        "\n",
        "# Kita akan menambahkan set siswa baru ke set siswa\n",
        "siswa.update(siswa_baru)\n",
        "print(siswa)"
      ],
      "metadata": {
        "colab": {
          "base_uri": "https://localhost:8080/"
        },
        "id": "qMwRhWdSidlL",
        "outputId": "f7e813a1-099e-469e-a572-8f60348779ea"
      },
      "execution_count": 18,
      "outputs": [
        {
          "output_type": "stream",
          "name": "stdout",
          "text": [
            "{'Andi', 'Gilang', 'Pamungkas', 'Dwi', 'Putra', 'Bagas'}\n"
          ]
        }
      ]
    },
    {
      "cell_type": "code",
      "source": [
        "bunga = {'Melati', 'Matahari', 'Mawar'}\n",
        "bunga_baru = {'Lavender', 'Asoka'}\n",
        "\n",
        "# Coba tambahkan set bunga baru ke set bunga\n",
        "bunga.update(bunga_baru)\n",
        "\n",
        "# Kemudian print set bunga\n",
        "print(bunga)"
      ],
      "metadata": {
        "colab": {
          "base_uri": "https://localhost:8080/"
        },
        "id": "N_l9QTvuiion",
        "outputId": "3d5e13ff-daee-44eb-bff8-5fa44ff947dc"
      },
      "execution_count": 19,
      "outputs": [
        {
          "output_type": "stream",
          "name": "stdout",
          "text": [
            "{'Lavender', 'Asoka', 'Matahari', 'Melati', 'Mawar'}\n"
          ]
        }
      ]
    },
    {
      "cell_type": "markdown",
      "source": [
        "**discard()**"
      ],
      "metadata": {
        "id": "BOigRO4CirvA"
      }
    },
    {
      "cell_type": "markdown",
      "source": [
        "Method `discard()` akan menghapus element yang kita inginkan pada sebuah set."
      ],
      "metadata": {
        "id": "F9N7Jo95ivNj"
      }
    },
    {
      "cell_type": "code",
      "source": [
        "# coba jalankan code dibawah\n",
        "\n",
        "football_club = {'AC Milan', 'Liverpool', 'Real Madrid', 'Bayern Munchen'}\n",
        "football_club.discard('Liverpool')\n",
        "print(football_club)"
      ],
      "metadata": {
        "colab": {
          "base_uri": "https://localhost:8080/"
        },
        "id": "amRFqd06ixFt",
        "outputId": "5102ac5b-f09c-444f-d157-a24d99c2a2d1"
      },
      "execution_count": 21,
      "outputs": [
        {
          "output_type": "stream",
          "name": "stdout",
          "text": [
            "{'Bayern Munchen', 'Real Madrid', 'AC Milan'}\n"
          ]
        }
      ]
    },
    {
      "cell_type": "code",
      "source": [
        "# Coba hilangkan element Bagas pada set dibawah\n",
        "siswa = {'Pamungkas', 'Bagas', 'Putra'}\n",
        "siswa.discard('Bagas')\n",
        "\n",
        "# Kemudian print set siswa\n",
        "print(siswa)"
      ],
      "metadata": {
        "colab": {
          "base_uri": "https://localhost:8080/"
        },
        "id": "P67h8_PEi46v",
        "outputId": "5f299914-166b-404a-cac5-9e221c818976"
      },
      "execution_count": 22,
      "outputs": [
        {
          "output_type": "stream",
          "name": "stdout",
          "text": [
            "{'Putra', 'Pamungkas'}\n"
          ]
        }
      ]
    },
    {
      "cell_type": "markdown",
      "source": [
        "**union()**"
      ],
      "metadata": {
        "id": "AUD4xTWHjBAc"
      }
    },
    {
      "cell_type": "markdown",
      "source": [
        "Jika kita ingin menggabungkan dua set kita bisa menggunakan method `union()`. Method ini sudah sempat kita pelajari di course Probability."
      ],
      "metadata": {
        "id": "xtJsI2vAi-8Q"
      }
    },
    {
      "cell_type": "code",
      "source": [
        "set_A = {1, 2, 3, 4, 5}\n",
        "set_B = {4, 5, 6, 7, 8, 9}\n",
        "\n",
        "set_C = set_A.union(set_B)\n",
        "\n",
        "print(f'Gabungan dari set_A dan set_B = {set_C}')"
      ],
      "metadata": {
        "colab": {
          "base_uri": "https://localhost:8080/"
        },
        "id": "1Zcz0QzCjDyn",
        "outputId": "a5b261ea-0ae6-419b-d839-d18a6e685de9"
      },
      "execution_count": 24,
      "outputs": [
        {
          "output_type": "stream",
          "name": "stdout",
          "text": [
            "Gabungan dari set_A dan set_B = {1, 2, 3, 4, 5, 6, 7, 8, 9}\n"
          ]
        }
      ]
    },
    {
      "cell_type": "markdown",
      "source": [
        "Jika terdapat element yang sama, maka akan diambil satu saja karena set tidak mengizinkan ada element yang sama."
      ],
      "metadata": {
        "id": "MMjDgiPhjOKQ"
      }
    },
    {
      "cell_type": "code",
      "source": [
        "bunga = {'Melati', 'Matahari', 'Mawar'}\n",
        "bunga_baru = {'Asoka', 'Anggrek'}\n",
        "\n",
        "# Coba gabungkan kedua set di atas dengan method union\n",
        "bunga = bunga.union(bunga_baru)\n",
        "\n",
        "# Kemudian print hasil union tersebut\n",
        "print(bunga)"
      ],
      "metadata": {
        "colab": {
          "base_uri": "https://localhost:8080/"
        },
        "id": "HKIroaUCjNmH",
        "outputId": "e678b12f-6bd9-4646-be85-13f75f35e6a5"
      },
      "execution_count": 27,
      "outputs": [
        {
          "output_type": "stream",
          "name": "stdout",
          "text": [
            "{'Asoka', 'Matahari', 'Melati', 'Mawar', 'Anggrek'}\n"
          ]
        }
      ]
    },
    {
      "cell_type": "markdown",
      "source": [
        "**intersection()**"
      ],
      "metadata": {
        "id": "-Xi_LSaVjuIX"
      }
    },
    {
      "cell_type": "markdown",
      "source": [
        "Jika kita ingin mengambil irisan dari dua set yang kita miliki kita bisa menggunakan method `intersection()`."
      ],
      "metadata": {
        "id": "Xl_-5cELjxU7"
      }
    },
    {
      "cell_type": "markdown",
      "source": [
        "![assldfls.JPG](data:image/jpeg;base64,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)"
      ],
      "metadata": {
        "id": "0iMAMHXaj3X1"
      }
    },
    {
      "cell_type": "code",
      "source": [
        "set_A = {1, 2, 3, 4, 5}\n",
        "set_B = {4, 5, 6, 7, 8, 9}\n",
        "\n",
        "print(f\"Nilai irisan dari Set A dan Set B adalah {set_A.intersection(set_B)}\")"
      ],
      "metadata": {
        "colab": {
          "base_uri": "https://localhost:8080/"
        },
        "id": "nUG1IAY1j41N",
        "outputId": "20a582ab-72c7-4377-cda5-195a78f4de6b"
      },
      "execution_count": 28,
      "outputs": [
        {
          "output_type": "stream",
          "name": "stdout",
          "text": [
            "Nilai irisan dari Set A dan Set B adalah {4, 5}\n"
          ]
        }
      ]
    },
    {
      "cell_type": "markdown",
      "source": [
        "Kita juga bisa melakukan intersection pada data yang berbentuk text."
      ],
      "metadata": {
        "id": "0xaXmZ1xj-Dz"
      }
    },
    {
      "cell_type": "code",
      "source": [
        "siswa_kelas_a = {\"Budi\", \"Santoso\", \"Ahmad\", \"James\"}\n",
        "siswa_kelas_b = {\"Santoso\", \"Dani\", \"Adam\"}\n",
        "\n",
        "print(f\"Dari Siswa Kelas A dan B yang memiliki nama sama adalah {siswa_kelas_a.intersection(siswa_kelas_b)}\")"
      ],
      "metadata": {
        "colab": {
          "base_uri": "https://localhost:8080/"
        },
        "id": "eI_urn8uj_mt",
        "outputId": "359f8852-81b7-4f25-928c-b17551f76479"
      },
      "execution_count": 29,
      "outputs": [
        {
          "output_type": "stream",
          "name": "stdout",
          "text": [
            "Dari Siswa Kelas A dan B yang memiliki nama sama adalah {'Santoso'}\n"
          ]
        }
      ]
    },
    {
      "cell_type": "markdown",
      "source": [
        "Andi sedang mengerjakan Exam UTS dan UAS di Pacmann. Di Pacmann untuk mengerjakan Exam UTS dan UAS bisa dikerjakan berkali - kali. Andi ingin mengetahui dalam pengerjaan Exam tersebut ada nilai yang sama di pengerjaan UTS dan UAS?"
      ],
      "metadata": {
        "id": "OB7zypcDkGER"
      }
    },
    {
      "cell_type": "code",
      "source": [
        "# Tulis jawaban anda di bawah ini\n",
        "\n",
        "percobaan_uts = {70, 80, 90, 40, 55, 60}\n",
        "percobaan_uas = {50, 44, 70, 60, 100, 99}\n",
        "print(percobaan_uts.intersection(percobaan_uas))"
      ],
      "metadata": {
        "colab": {
          "base_uri": "https://localhost:8080/"
        },
        "id": "2uekx9WWkLNo",
        "outputId": "254d0bd6-47dc-487f-c399-486fe1fa0046"
      },
      "execution_count": 30,
      "outputs": [
        {
          "output_type": "stream",
          "name": "stdout",
          "text": [
            "{60, 70}\n"
          ]
        }
      ]
    }
  ]
}