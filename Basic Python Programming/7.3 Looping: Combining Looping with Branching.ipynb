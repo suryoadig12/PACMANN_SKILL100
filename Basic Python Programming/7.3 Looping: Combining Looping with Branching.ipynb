{
  "nbformat": 4,
  "nbformat_minor": 0,
  "metadata": {
    "colab": {
      "provenance": [],
      "authorship_tag": "ABX9TyPi2adfDZFT9xXoQ/qJIPK4",
      "include_colab_link": true
    },
    "kernelspec": {
      "name": "python3",
      "display_name": "Python 3"
    },
    "language_info": {
      "name": "python"
    }
  },
  "cells": [
    {
      "cell_type": "markdown",
      "metadata": {
        "id": "view-in-github",
        "colab_type": "text"
      },
      "source": [
        "<a href=\"https://colab.research.google.com/github/suryoadig12/PACMANN_SKILL100/blob/main/Basic%20Python%20Programming/7.3%20Looping%3A%20Combining%20Looping%20with%20Branching.ipynb\" target=\"_parent\"><img src=\"https://colab.research.google.com/assets/colab-badge.svg\" alt=\"Open In Colab\"/></a>"
      ]
    },
    {
      "cell_type": "markdown",
      "source": [
        "# **Combining Looping with Branching**"
      ],
      "metadata": {
        "id": "X6YZFST_lzhR"
      }
    },
    {
      "cell_type": "markdown",
      "source": [
        "Di dunia nyata kita biasa menemukan kondisi-kondisi tertentu saat melakukan hal-hal yang sifatnya repetitif.\n",
        "\n",
        "Misalkan kita disuruh untuk menulis kalimat yang sama beberapa kali. Pasti akan ada waktunya untuk anda ganti alat tulis jika pensil atau bolpoint anda habis di tengah-tengah proses. Saat menjemur pakaian setiap hari yang biasanya tidak hujan tiba-tiba hujan.\n",
        "\n",
        "Di dalam pemrograman kita juga bisa mengalami hal tersebut. Untuk menangani hal itu kita bisa menggunakan looping dan branching."
      ],
      "metadata": {
        "id": "FObl8Lzml7gm"
      }
    },
    {
      "cell_type": "markdown",
      "source": [
        "**Looping + Branching**"
      ],
      "metadata": {
        "id": "rncLSfB-mDKq"
      }
    },
    {
      "cell_type": "markdown",
      "source": [
        "Bagaimana jika kita ingin menambahkan suatu kondisi tertentu saat loop?\n",
        "\n",
        "Misalkan memeriksa apakah angka tersebut genap atau ganjil."
      ],
      "metadata": {
        "id": "TI3JGx3DmF9_"
      }
    },
    {
      "cell_type": "code",
      "execution_count": 1,
      "metadata": {
        "colab": {
          "base_uri": "https://localhost:8080/"
        },
        "id": "XmyMoZRZlkVL",
        "outputId": "946914c6-a25e-470b-ccd2-8e8583854d17"
      },
      "outputs": [
        {
          "output_type": "stream",
          "name": "stdout",
          "text": [
            "1 angka Ganjil\n",
            "2 angka Genap\n",
            "3 angka Ganjil\n",
            "4 angka Genap\n",
            "5 angka Ganjil\n"
          ]
        }
      ],
      "source": [
        "# Jalankan code dibawah ini\n",
        "\n",
        "list_angka = [1, 2, 3, 4, 5]\n",
        "\n",
        "for angka in list_angka:\n",
        "    if angka % 2 == 0:\n",
        "        print(f'{angka} angka Genap')\n",
        "    else:\n",
        "        print(f'{angka} angka Ganjil')"
      ]
    },
    {
      "cell_type": "code",
      "source": [
        "# Coba cari bilangan kelipatan 4 dari 1 sampai 50\n",
        "\n",
        "for angka in range(1, 51):\n",
        "    if angka % 4 == 0:\n",
        "        print(angka, end=' ')"
      ],
      "metadata": {
        "colab": {
          "base_uri": "https://localhost:8080/"
        },
        "id": "yYhWhGOPmTSh",
        "outputId": "e67cb493-b60e-4f23-d92b-e426ccdd8e41"
      },
      "execution_count": 2,
      "outputs": [
        {
          "output_type": "stream",
          "name": "stdout",
          "text": [
            "4 8 12 16 20 24 28 32 36 40 44 48 "
          ]
        }
      ]
    },
    {
      "cell_type": "markdown",
      "source": [
        "Contoh lain dalam kehidupan sehari-hari adalah saat kita mendapatkan diskon saat berbelanja di supermarket. Diskon akan diberikan ketika harga total belanja kita lebih dari Rp. 150.000."
      ],
      "metadata": {
        "id": "oLnGt7b5mrIj"
      }
    },
    {
      "cell_type": "code",
      "source": [
        "# Coba jalankan code dibawah\n",
        "\n",
        "total_harga = 0\n",
        "prosentase_diskon = (2/100)\n",
        "list_harga = [20_000, 41_000, 90_000]\n",
        "\n",
        "for harga in list_harga:\n",
        "    total_harga += harga\n",
        "\n",
        "  # IF di deklarasikan di dalam for dengan indentasi yang lebih tinggi\n",
        "  # Jika total harga belanja kita lebih dari 150.000 maka blok IF akan dijalakan\n",
        "    if total_harga >= 150_000:\n",
        "        print(f'Total belanjaan anda Rp {total_harga}')\n",
        "\n",
        "        diskon = prosentase_diskon * total_harga\n",
        "        print(f'Anda mendapat diskon 2% dan berhemat Rp {diskon}')\n",
        "\n",
        "        total_harga = total_harga - diskon\n",
        "\n",
        "print(f'Anda harus membayar Rp {total_harga}')"
      ],
      "metadata": {
        "colab": {
          "base_uri": "https://localhost:8080/"
        },
        "id": "iMca3qljmqoJ",
        "outputId": "ac84b204-c002-41c3-89a1-49badf45341c"
      },
      "execution_count": 3,
      "outputs": [
        {
          "output_type": "stream",
          "name": "stdout",
          "text": [
            "Total belanjaan anda Rp 151000\n",
            "Anda mendapat diskon 2% dan berhemat Rp 3020.0\n",
            "Anda harus membayar Rp 147980.0\n"
          ]
        }
      ]
    },
    {
      "cell_type": "markdown",
      "source": [
        "Coba cari harga total dari list di bawah ini dan jika harganya lebih dari **Rp 200.000** akan mendapatkan diskon sebanyak **4 persen**."
      ],
      "metadata": {
        "id": "if4W7uw7mzDf"
      }
    },
    {
      "cell_type": "code",
      "source": [
        "total_harga = 0\n",
        "prosentase_diskon = 0.04\n",
        "list_harga = [26_000, 90_000, 150_000]\n",
        "\n",
        "for harga in list_harga:\n",
        "    total_harga += harga\n",
        "\n",
        "    if total_harga > 200_000:\n",
        "        print(f'Total belanjaan anda Rp {total_harga}')\n",
        "\n",
        "        diskon = prosentase_diskon * total_harga\n",
        "        print(f'Anda mendapat diskon 4% dan berhemat Rp {diskon}')\n",
        "\n",
        "        total_harga = total_harga - diskon\n",
        "\n",
        "print(f'Anda harus membayar Rp {total_harga}')"
      ],
      "metadata": {
        "colab": {
          "base_uri": "https://localhost:8080/"
        },
        "id": "RfW_BpZCm5IZ",
        "outputId": "51848553-4e3e-4043-bb12-0556fe4c5cf2"
      },
      "execution_count": 4,
      "outputs": [
        {
          "output_type": "stream",
          "name": "stdout",
          "text": [
            "Total belanjaan anda Rp 266000\n",
            "Anda mendapat diskon 4% dan berhemat Rp 10640.0\n",
            "Anda harus membayar Rp 255360.0\n"
          ]
        }
      ]
    }
  ]
}