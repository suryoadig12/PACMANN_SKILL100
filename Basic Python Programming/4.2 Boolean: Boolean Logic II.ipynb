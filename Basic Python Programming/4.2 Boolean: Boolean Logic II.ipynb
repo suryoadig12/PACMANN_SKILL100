{
  "nbformat": 4,
  "nbformat_minor": 0,
  "metadata": {
    "colab": {
      "provenance": [],
      "authorship_tag": "ABX9TyNyz/cc4bk9mJbjsy2AIS21",
      "include_colab_link": true
    },
    "kernelspec": {
      "name": "python3",
      "display_name": "Python 3"
    },
    "language_info": {
      "name": "python"
    }
  },
  "cells": [
    {
      "cell_type": "markdown",
      "metadata": {
        "id": "view-in-github",
        "colab_type": "text"
      },
      "source": [
        "<a href=\"https://colab.research.google.com/github/suryoadig12/PACMANN_SKILL100/blob/main/Basic%20Python%20Programming/4.2%20Boolean%3A%20Boolean%20Logic%20II.ipynb\" target=\"_parent\"><img src=\"https://colab.research.google.com/assets/colab-badge.svg\" alt=\"Open In Colab\"/></a>"
      ]
    },
    {
      "cell_type": "markdown",
      "source": [
        "# **Boolean Logic II**"
      ],
      "metadata": {
        "id": "A-EK0IR68Wu1"
      }
    },
    {
      "cell_type": "markdown",
      "source": [
        "**NOT**"
      ],
      "metadata": {
        "id": "AYb6x_TV8aPE"
      }
    },
    {
      "cell_type": "markdown",
      "source": [
        "Secara sederhana, `NOT` memiliki karakteristik sebagai berikut:\n",
        "\n",
        "\n",
        "\n",
        "*   Merupakan negasi dari nilai sebelumnya.\n",
        "\n",
        "*   Negasi adalah penyangkalan atau peniadaan dari suatu pernyataan.\n",
        "*   Jika nilai sebelumnya adalah `TRUE`, maka akan menghasilkan `False` dan sebaliknya.\n"
      ],
      "metadata": {
        "id": "rAQNzVpd8bT2"
      }
    },
    {
      "cell_type": "markdown",
      "source": [
        "![saroiweifds.JPG](data:image/jpeg;base64,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)"
      ],
      "metadata": {
        "id": "JZVglTAC8n6y"
      }
    },
    {
      "cell_type": "markdown",
      "source": [
        "Contoh:\n",
        "\n",
        "\n",
        "\n",
        "*   Ibu tidak membeli Lemon.\n",
        "*   Maka, jika Ibu membeli Lemon, kalimat tersebut akan salah.\n",
        "\n"
      ],
      "metadata": {
        "id": "gG7Hbna18uuo"
      }
    },
    {
      "cell_type": "code",
      "execution_count": 1,
      "metadata": {
        "colab": {
          "base_uri": "https://localhost:8080/"
        },
        "id": "u1gyTNhO8PK2",
        "outputId": "4ec8b7c9-43ef-4f82-ea88-196b83ccb828"
      },
      "outputs": [
        {
          "output_type": "execute_result",
          "data": {
            "text/plain": [
              "False"
            ]
          },
          "metadata": {},
          "execution_count": 1
        }
      ],
      "source": [
        "kondisi_ibu_tidak_membeli_lemon = True\n",
        "\n",
        "not kondisi_ibu_tidak_membeli_lemon"
      ]
    },
    {
      "cell_type": "markdown",
      "source": [
        "**Berikut penggunaan NOT pada python**"
      ],
      "metadata": {
        "id": "BtyD5qLp836-"
      }
    },
    {
      "cell_type": "code",
      "source": [
        "True and not True"
      ],
      "metadata": {
        "colab": {
          "base_uri": "https://localhost:8080/"
        },
        "id": "ae3aZm0s8_tV",
        "outputId": "9bc07cdb-5ec8-41aa-f4f8-eaa920bbec19"
      },
      "execution_count": 2,
      "outputs": [
        {
          "output_type": "execute_result",
          "data": {
            "text/plain": [
              "False"
            ]
          },
          "metadata": {},
          "execution_count": 2
        }
      ]
    },
    {
      "cell_type": "code",
      "source": [
        "not False and True"
      ],
      "metadata": {
        "colab": {
          "base_uri": "https://localhost:8080/"
        },
        "id": "qH2YO23Y9BDX",
        "outputId": "8abfceed-d739-42db-c93a-b0e99a2311b8"
      },
      "execution_count": 3,
      "outputs": [
        {
          "output_type": "execute_result",
          "data": {
            "text/plain": [
              "True"
            ]
          },
          "metadata": {},
          "execution_count": 3
        }
      ]
    },
    {
      "cell_type": "code",
      "source": [
        "10 > 8 and not False"
      ],
      "metadata": {
        "colab": {
          "base_uri": "https://localhost:8080/"
        },
        "id": "MAX9RNbX9Cit",
        "outputId": "650cccd2-a5f9-4197-c845-19b6f94ba220"
      },
      "execution_count": 4,
      "outputs": [
        {
          "output_type": "execute_result",
          "data": {
            "text/plain": [
              "True"
            ]
          },
          "metadata": {},
          "execution_count": 4
        }
      ]
    },
    {
      "cell_type": "code",
      "source": [
        "not 16 > 15 or 1 > 2"
      ],
      "metadata": {
        "colab": {
          "base_uri": "https://localhost:8080/"
        },
        "id": "_nrd8Yn59ETO",
        "outputId": "0e016e75-ff97-4637-d873-c80b9a4ce8b2"
      },
      "execution_count": 5,
      "outputs": [
        {
          "output_type": "execute_result",
          "data": {
            "text/plain": [
              "False"
            ]
          },
          "metadata": {},
          "execution_count": 5
        }
      ]
    },
    {
      "cell_type": "markdown",
      "source": [
        "Untuk kondisi lebih dari satu, dapat digunakan bantuan tanda kurung `()` untuk memperjelas kondisi."
      ],
      "metadata": {
        "id": "HejVD1WV9H_3"
      }
    },
    {
      "cell_type": "code",
      "source": [
        "True and not (False or not True)"
      ],
      "metadata": {
        "colab": {
          "base_uri": "https://localhost:8080/"
        },
        "id": "ZvcnvFDt9GSF",
        "outputId": "d034ae13-c3e3-4f86-ad57-216db5829e38"
      },
      "execution_count": 6,
      "outputs": [
        {
          "output_type": "execute_result",
          "data": {
            "text/plain": [
              "True"
            ]
          },
          "metadata": {},
          "execution_count": 6
        }
      ]
    },
    {
      "cell_type": "code",
      "source": [
        "1 < 2 and (not 3 < 2 or 5 > 2)"
      ],
      "metadata": {
        "colab": {
          "base_uri": "https://localhost:8080/"
        },
        "id": "4N8AheGu9Ok2",
        "outputId": "c4750894-0ac4-4bd9-8322-c6c67a005a51"
      },
      "execution_count": 7,
      "outputs": [
        {
          "output_type": "execute_result",
          "data": {
            "text/plain": [
              "True"
            ]
          },
          "metadata": {},
          "execution_count": 7
        }
      ]
    },
    {
      "cell_type": "markdown",
      "source": [
        "**NOT dan gabungan**"
      ],
      "metadata": {
        "id": "4DfQ-R-Y9cWh"
      }
    },
    {
      "cell_type": "markdown",
      "source": [
        "\n",
        "\n",
        "*   Biasanya, jarang digunakan `not` secara sendiri.\n",
        "*   Biasanya `not` digunaan bersamaan dengan `and` atau `or`.\n",
        "\n"
      ],
      "metadata": {
        "id": "dGkx6rdO9gaN"
      }
    },
    {
      "cell_type": "markdown",
      "source": [
        "Contoh: bukan angka_1 lebih dari 6 atau angka_1 tidak sama dengan 9."
      ],
      "metadata": {
        "id": "QYCkXJE79pN9"
      }
    },
    {
      "cell_type": "code",
      "source": [
        "angka_1 = 4\n",
        "\n",
        "# True or True\n",
        "not angka_1 > 6 or angka_1 != 9"
      ],
      "metadata": {
        "colab": {
          "base_uri": "https://localhost:8080/"
        },
        "id": "EK74OCWi9txd",
        "outputId": "96f2f9ef-06c4-42b9-db58-ab3c38537096"
      },
      "execution_count": 8,
      "outputs": [
        {
          "output_type": "execute_result",
          "data": {
            "text/plain": [
              "True"
            ]
          },
          "metadata": {},
          "execution_count": 8
        }
      ]
    },
    {
      "cell_type": "markdown",
      "source": [
        "**Concept Exercise**"
      ],
      "metadata": {
        "id": "9CINKf9594FH"
      }
    },
    {
      "cell_type": "markdown",
      "source": [
        "**not True == True** maka outputnya adalah?\n",
        "\n",
        "Tulis jawaban di bawah ini (klik dua kali teks ini untuk menulis jawaban)\n",
        "\n",
        "**False**"
      ],
      "metadata": {
        "id": "bbgKvQwW96qu"
      }
    },
    {
      "cell_type": "markdown",
      "source": [
        "**not False != True** maka outputnya adalah?\n",
        "\n",
        "Tulis jawaban di bawah ini (klik dua kali teks ini untuk menulis jawaban)\n",
        "\n",
        "**False**"
      ],
      "metadata": {
        "id": "SkIxxLFn-HxO"
      }
    },
    {
      "cell_type": "markdown",
      "source": [
        "**(not 4 > 7) == (4 > 7)** maka outputnya adalah?\n",
        "\n",
        "Tulis jawaban di bawah ini (klik dua kali teks ini untuk menulis jawaban)\n",
        "\n",
        "**False**"
      ],
      "metadata": {
        "id": "1LImj1Z9-QPW"
      }
    },
    {
      "cell_type": "markdown",
      "source": [
        "**Code Exercise**"
      ],
      "metadata": {
        "id": "NpE_L_uo-juC"
      }
    },
    {
      "cell_type": "markdown",
      "source": [
        "Buatlah operasi boolean untuk kondisi berikut: angka_3 kurang dari 15 dan angka_3 lebih dari 5 atau angka_3 bukan lebih dari 7."
      ],
      "metadata": {
        "id": "EC4QG1wn-nOl"
      }
    },
    {
      "cell_type": "code",
      "source": [
        "angka_3 = 2\n",
        "\n",
        "# Tuliskan jawaban dibawah ini\n",
        "angka_3 < 15 and angka_3 > 5 or not angka_3 > 7"
      ],
      "metadata": {
        "colab": {
          "base_uri": "https://localhost:8080/"
        },
        "id": "_628Bdvj-lGY",
        "outputId": "49977bb6-d8fb-4418-cfca-a029a6f5e8b5"
      },
      "execution_count": 9,
      "outputs": [
        {
          "output_type": "execute_result",
          "data": {
            "text/plain": [
              "True"
            ]
          },
          "metadata": {},
          "execution_count": 9
        }
      ]
    },
    {
      "cell_type": "markdown",
      "source": [
        "Ubahlah nilai input agar boolean berikut bernilai `True`."
      ],
      "metadata": {
        "id": "T198PCL__Clj"
      }
    },
    {
      "cell_type": "code",
      "source": [
        "angka_1 = 8\n",
        "angka_2 = 16\n",
        "angka_3 = 0\n",
        "\n",
        "angka_1 > 7 and not (not angka_2 > 15 or angka_3 > 2 )"
      ],
      "metadata": {
        "colab": {
          "base_uri": "https://localhost:8080/"
        },
        "id": "OcdTjwGZ_E4h",
        "outputId": "aa889338-7752-4c4e-8373-fc71638c42b6"
      },
      "execution_count": 10,
      "outputs": [
        {
          "output_type": "execute_result",
          "data": {
            "text/plain": [
              "True"
            ]
          },
          "metadata": {},
          "execution_count": 10
        }
      ]
    },
    {
      "cell_type": "markdown",
      "source": [
        "**Update Urutan Operasi**"
      ],
      "metadata": {
        "id": "RLTK0XAP_7BP"
      }
    },
    {
      "cell_type": "markdown",
      "source": [
        "Setelah kita mengetahui Boolean Logic berikut kedudukan operasi perbandingan dan logika pada prioritas operasi. Tabel berikut menunjukkan prioritas operator yang telah dipelajari."
      ],
      "metadata": {
        "id": "PgED7HK5_-oN"
      }
    },
    {
      "cell_type": "markdown",
      "source": [
        "![asldjfas.JPG](data:image/jpeg;base64,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)"
      ],
      "metadata": {
        "id": "j_tReaMb__U3"
      }
    },
    {
      "cell_type": "markdown",
      "source": [
        "**Mini Exercise**"
      ],
      "metadata": {
        "id": "JgrkW3DyAHju"
      }
    },
    {
      "cell_type": "markdown",
      "source": [
        "Tuliskan 5 ditambah 7 **lebih besar atau sama dengan 10** dikurangi 5 dalam bentuk Python."
      ],
      "metadata": {
        "id": "D9DR9gWQAKyN"
      }
    },
    {
      "cell_type": "code",
      "source": [
        "#Tulis jawaban dibawah ini\n",
        "\n",
        "angka_1 = 5+7\n",
        "angka_2 = 10-5\n",
        "angka_1 >= angka_2"
      ],
      "metadata": {
        "colab": {
          "base_uri": "https://localhost:8080/"
        },
        "id": "h4XVcvBWAFpv",
        "outputId": "493295d9-933d-4aba-9403-6427020fc5f8"
      },
      "execution_count": 11,
      "outputs": [
        {
          "output_type": "execute_result",
          "data": {
            "text/plain": [
              "True"
            ]
          },
          "metadata": {},
          "execution_count": 11
        }
      ]
    },
    {
      "cell_type": "markdown",
      "source": [
        "Tuliskan 4 pangkat 3 **tidak sama** dengan 3 pangkat 4 dalam bentuk Python."
      ],
      "metadata": {
        "id": "klfysimFAoHj"
      }
    },
    {
      "cell_type": "code",
      "source": [
        "angka_1 = 4**3\n",
        "angka_2 = 3**4\n",
        "angka_1 != angka_2"
      ],
      "metadata": {
        "colab": {
          "base_uri": "https://localhost:8080/"
        },
        "id": "89jvtfh5Aosb",
        "outputId": "0bc7bf0e-9559-40cb-cad4-b3e4ed60b5ab"
      },
      "execution_count": 13,
      "outputs": [
        {
          "output_type": "execute_result",
          "data": {
            "text/plain": [
              "True"
            ]
          },
          "metadata": {},
          "execution_count": 13
        }
      ]
    },
    {
      "cell_type": "markdown",
      "source": [
        "**Exercise**"
      ],
      "metadata": {
        "id": "Jxw_L_WMBLHD"
      }
    },
    {
      "cell_type": "markdown",
      "source": [
        "\n",
        "\n",
        "*   Pak Joko membandingkan harga stock produk barang kecantikan pada kedua supplier yang berbeda.\n",
        "\n",
        "*   Supplier pertama menawarkan 10 kardus isi produk kecantikan Nivae dengan harga 1.500.000 rupiah.\n",
        "\n",
        "*   Sedangkan supplier kedua menawarkan 12 kardus isi produk kecantikan Garneir dengan harga 1.700.000 rupiah.\n",
        "*   Dengan kedua harga tersebut Pak Joko memprioritaskan untuk menekan budgetnya dengan membeli stock produk yang paling murah yaitu dengan cara mempertimbangkan harga per kardusnya.\n",
        "\n",
        "\n",
        "*   Buatlah operasi matematika perbandingan stock produk barang kecantikan apakah harga produk Nivae lebih besar dari harga produk Garneir dalam Python!\n",
        "\n"
      ],
      "metadata": {
        "id": "VZfAD2jLBNMV"
      }
    },
    {
      "cell_type": "code",
      "source": [
        "# Definisikan variabel harga satuan dengan membagi total harga dan total kardus\n",
        "harga_satuan_nivae = 1_500_000/10\n",
        "harga_satuan_garneir = 1_700_000/12\n",
        "print(harga_satuan_nivae)\n",
        "print(harga_satuan_garneir)\n",
        "\n",
        "# Bandingkan harga satuan kedua produk\n",
        "harga_satuan_nivae > harga_satuan_garneir"
      ],
      "metadata": {
        "colab": {
          "base_uri": "https://localhost:8080/"
        },
        "id": "mzuf9qqCBMVb",
        "outputId": "777707da-8c9d-444a-b0ce-5cbbfa12b1e5"
      },
      "execution_count": 18,
      "outputs": [
        {
          "output_type": "stream",
          "name": "stdout",
          "text": [
            "150000.0\n",
            "141666.66666666666\n"
          ]
        },
        {
          "output_type": "execute_result",
          "data": {
            "text/plain": [
              "True"
            ]
          },
          "metadata": {},
          "execution_count": 18
        }
      ]
    }
  ]
}