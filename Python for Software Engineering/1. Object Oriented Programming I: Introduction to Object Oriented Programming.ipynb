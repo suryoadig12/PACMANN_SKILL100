{
  "nbformat": 4,
  "nbformat_minor": 0,
  "metadata": {
    "colab": {
      "provenance": [],
      "authorship_tag": "ABX9TyOMFPvX3KnkJzoRLqhrLl0b",
      "include_colab_link": true
    },
    "kernelspec": {
      "name": "python3",
      "display_name": "Python 3"
    },
    "language_info": {
      "name": "python"
    }
  },
  "cells": [
    {
      "cell_type": "markdown",
      "metadata": {
        "id": "view-in-github",
        "colab_type": "text"
      },
      "source": [
        "<a href=\"https://colab.research.google.com/github/suryoadig12/PACMANN_SKILL100/blob/main/Python%20for%20Software%20Engineering/1.%20Object%20Oriented%20Programming%20I%3A%20Introduction%20to%20Object%20Oriented%20Programming.ipynb\" target=\"_parent\"><img src=\"https://colab.research.google.com/assets/colab-badge.svg\" alt=\"Open In Colab\"/></a>"
      ]
    },
    {
      "cell_type": "markdown",
      "source": [
        "# **Introduction to Object Oriented Programming (OOP)**"
      ],
      "metadata": {
        "id": "vplHH_DJ0hT-"
      }
    },
    {
      "cell_type": "markdown",
      "source": [
        "\n",
        "\n",
        "*   Pada umumnya pada bahasa pemrograman itu terdapat **paradigma**.\n",
        "\n",
        "*   Yang dimaksud dengan paradigma disini adalah cara berjalannya sebuah program dalam menjalankan sebuah proses.\n",
        "*   Pada umumnya, paradigma di Python itu terdapat dua jenis, yaitu:\n",
        "\n",
        "  *   Functional Programming\n",
        "  *   Object Oriented Programming (OOP)\n"
      ],
      "metadata": {
        "id": "NqbNoGR_0nZN"
      }
    },
    {
      "cell_type": "markdown",
      "source": [
        "**Functional Programming**"
      ],
      "metadata": {
        "id": "_x4ZYVP606rS"
      }
    },
    {
      "cell_type": "markdown",
      "source": [
        "\n",
        "\n",
        "*   Kita sudah belajar atau sudah menggunakan tentang **Functional Programming** di pertemuan sebelumnya.\n",
        "\n",
        "*   Yang dimana itu semua pengolahan datanya ada di dalam bentuk fungsi dan untuk memakai nya atau untuk menyelesaikan sebuah task dengan fungsi tersebut kita harus memanggil fungsi yang spesifik.\n",
        "*   Contoh:\n",
        "  *   Fungsi untuk menghitung luas segitiga.\n",
        "\n"
      ],
      "metadata": {
        "id": "2nSeK7zH083z"
      }
    },
    {
      "cell_type": "code",
      "execution_count": 2,
      "metadata": {
        "colab": {
          "base_uri": "https://localhost:8080/"
        },
        "id": "mfZ_7Y150ef1",
        "outputId": "52fd77d7-193e-4eaa-800d-15a89423acf1"
      },
      "outputs": [
        {
          "output_type": "stream",
          "name": "stdout",
          "text": [
            "Luas segitiga nya adalah 6.0\n"
          ]
        }
      ],
      "source": [
        "def luas_segitiga(alas,tinggi):\n",
        "    return 0.5*alas*tinggi\n",
        "\n",
        "alas = 4\n",
        "tinggi = 3\n",
        "luas = luas_segitiga(alas,tinggi)\n",
        "print(f\"Luas segitiga nya adalah {luas}\")"
      ]
    },
    {
      "cell_type": "markdown",
      "source": [
        "\n",
        "\n",
        "*   Tetapi functional programming itu memiliki kelemahan, yaitu hanya bisa melakukan satu proses saja.\n",
        "\n",
        "*   Bayangkan kalau kita sudah membuat program yang sudah besar dan kompleks, semisal di dalamnya terdapat ratusan proses. Maka akan cukup repot jika kita menggunakan functional programming.\n",
        "*   Oleh karena itu kita bisa menggunakan **Object Oriented Programming (OOP)**.\n"
      ],
      "metadata": {
        "id": "Iw1EhVAA1UkH"
      }
    },
    {
      "cell_type": "markdown",
      "source": [
        "**Object Oriented Programming**"
      ],
      "metadata": {
        "id": "DJNrUn7n1et3"
      }
    },
    {
      "cell_type": "markdown",
      "source": [
        "\n",
        "\n",
        "*   Sebenarnya secara tidak langsung kita sudah menggunakan dan belajar beberapa konsep OOP di pertemuan sebelumnya!\n",
        "\n",
        "*   Sudah kita pelajari di:\n",
        "  *   String, `.capitalize()`, `lower()`, dll.\n",
        "  *   List, `.append()`, `pop()`, dll.\n",
        "  *   dsb.\n",
        "\n",
        "*   Selain itu, tiap variabel yang kita buat adalah merupakan sebuah object, dan setiap object memiliki tipe.\n",
        "\n",
        "*   Kita sudah mengenal tipe-tipe data dalam python, beberapa diantaranya yaitu:\n",
        "  *   integer (1234)\n",
        "  *   float (3.14)\n",
        "  *   string (\"Halo\")\n",
        "  *   list ([1,2,3,4])\n",
        "  *   dictionary ({\"warna\":\"kuning})\n"
      ],
      "metadata": {
        "id": "DAopyl3c1h-q"
      }
    },
    {
      "cell_type": "code",
      "source": [
        "num = 1\n",
        "type(num)"
      ],
      "metadata": {
        "colab": {
          "base_uri": "https://localhost:8080/"
        },
        "id": "8QnRDLFj2KY0",
        "outputId": "6b8c5d28-fc79-4563-8e7b-658146f63768"
      },
      "execution_count": 3,
      "outputs": [
        {
          "output_type": "execute_result",
          "data": {
            "text/plain": [
              "int"
            ]
          },
          "metadata": {},
          "execution_count": 3
        }
      ]
    },
    {
      "cell_type": "markdown",
      "source": [
        "\n",
        "\n",
        "*   Tiap objek dalam python memiliki:\n",
        "  *   Tipe\n",
        "  *   Representasi data internal (Primitive atau Composite)\n",
        "  *   Function yang berguna untuk berinteraksi dengan data internal\n",
        "\n"
      ],
      "metadata": {
        "id": "v6o0VGuL2PKY"
      }
    },
    {
      "cell_type": "markdown",
      "source": [
        "Dalam Python, kita dapat melakukan Object Oriented Programming (OOP) menggunakan prisip **class dan object (instance)**.\n",
        "\n",
        "\n",
        "*   Class jika dianalogikan itu seperti blueprint. Class itu seperti kita mendeskripsikan sebuah benda atau objek.\n",
        "\n",
        "*   Class juga memungkinkan kita untuk membuat tipe object baru, dimana kita bisa mengatur bagaimana data direpresentasikan dan membuat function yang bisa berinteraksi dengan data internal.\n",
        "\n",
        "*   Object (instance) merupakan objek yang dibuat berdasarkan class kita. Objek tersebut akan memiliki tipe sesuai nama class yang kita buat, dan memiliki attribut dan fungsi yang sama.\n",
        "*   Object itu juga bisa dalam bentuk:\n",
        "  *   Function\n",
        "  *   Class\n",
        "  *   Variable\n",
        "  *   dll.\n",
        "\n",
        "*   Kita bisa merepresentasikan object itu sebagai container atau wadah. Contoh:\n",
        "  *   Sebuah object (container) list itu mungkin bisa terdapat object data integer, float, string, dll.\n",
        "  *   Sebuah object (container) integer itu terdapat bilangan bulat\n",
        "  *   dll.\n",
        "\n",
        "\n"
      ],
      "metadata": {
        "id": "Z9mYqeBQ2YvR"
      }
    },
    {
      "cell_type": "markdown",
      "source": [
        "**Analogi di Dunia Nyata**"
      ],
      "metadata": {
        "id": "_L169tec2-KI"
      }
    },
    {
      "cell_type": "markdown",
      "source": [
        "Mungkin penjelasan tadi sedikit membingungkan, maka disini akan diberikan analogi yang dimana harapannya akan mempermudah pemahaman kalian!\n",
        "\n",
        "Binatang peliharaan bisa kita ibaratkan sebagai objek dalam OOP. Binatang peliharaan memiliki beberapa attribut, diantaranya:\n",
        "\n",
        "*   Nama\n",
        "*   Jenis\n",
        "\n",
        "Selain itu, binatang peliharaan juga memiliki beberapa perilaku, seperti:\n",
        "\n",
        "*   Bermain\n",
        "*   Tidur\n",
        "\n",
        "Charlie merupakan anjing peliharaan, maka dari itu charlie adalah binatang peliharaan yang nilai attribut nama = \"charlie\", dan tipe = \"anjing\". Karena charlie adalah binatang peliharaan, maka charlie dapat diajak bermain dan pergi tidur.\n",
        "\n",
        "Dari contoh diatas, kita dapat membuat class \"Pet\" dan object (instance) charlie."
      ],
      "metadata": {
        "id": "gfPJh0uR3PuX"
      }
    },
    {
      "cell_type": "markdown",
      "source": [
        "![ldsfjalkdslf.JPG](data:image/jpeg;base64,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)"
      ],
      "metadata": {
        "id": "L06kfYvJ3gu_"
      }
    },
    {
      "cell_type": "markdown",
      "source": [
        "Contoh binatang - binatang di atas tersebut akan dibungkus ke dalam satu paket atau class \"Pet\"."
      ],
      "metadata": {
        "id": "vvlm0jRO3qOi"
      }
    },
    {
      "cell_type": "markdown",
      "source": [
        "**Why Use Object Oriented Programming?**"
      ],
      "metadata": {
        "id": "9mPAejVH3rXN"
      }
    },
    {
      "cell_type": "markdown",
      "source": [
        "\n",
        "\n",
        "*   Untuk operasi yang sederhana, mungkin membuat objek akan terlalu rumit.\n",
        "\n",
        "*   Namun, untuk membuat program dengan kode yang cukup banyak, hal ini akan memudahkan.\n",
        "\n",
        "*   Karena dengan menggunakan OOP akan memudahkan untuk reuse code yang telah dibuat.\n",
        "*   Selain itu alasan kenapa harus menggunakan konsep OOP adalah:\n",
        "\n",
        "  *   Maintainability\n",
        "  *   Reusability\n",
        "  *   Scalability\n",
        "\n"
      ],
      "metadata": {
        "id": "w-M_kHoQ3wak"
      }
    },
    {
      "cell_type": "markdown",
      "source": [
        "Contoh: Menghitung keliling dan luas bentuk 2D\n",
        "\n",
        "\n",
        "*   Jika kita menggunakan konsep functional programming, maka kita harus membuat berbagai macam fungsi:\n",
        "\n",
        "  *   keliling_segitiga\n",
        "  *   luas_segitiga\n",
        "  *   keliling_persegi\n",
        "  *   luas_persegi\n",
        "  *   dst.\n",
        "\n",
        "*   Atau hanya membuat 2 fungsi yaitu keliling dan luas, namun di dalamnya terdapat banyak kondisional untuk menyesuaikan bentuk. Yang dimana sudah kita pelajari di pertemuan sebelumnya.\n",
        "*   Namun dengan OOP, kita dapat mengelompokkan hal tersebut kedalam objek atau class yang berupa:\n",
        "\n",
        "  *   Segitiga\n",
        "  *   Lingkaran\n",
        "  *   dll.\n",
        "\n",
        "*   Selain itu di setiap objek yang sudah dibuat memiliki kemampuan untuk menghitung keliling dan luasnya.\n"
      ],
      "metadata": {
        "id": "8mNQukGJ4BP7"
      }
    }
  ]
}