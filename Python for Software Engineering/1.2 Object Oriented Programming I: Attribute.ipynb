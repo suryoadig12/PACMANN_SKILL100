{
  "nbformat": 4,
  "nbformat_minor": 0,
  "metadata": {
    "colab": {
      "provenance": [],
      "authorship_tag": "ABX9TyPZ0Vj0o0tJEkjfpFpWO9Hh",
      "include_colab_link": true
    },
    "kernelspec": {
      "name": "python3",
      "display_name": "Python 3"
    },
    "language_info": {
      "name": "python"
    }
  },
  "cells": [
    {
      "cell_type": "markdown",
      "metadata": {
        "id": "view-in-github",
        "colab_type": "text"
      },
      "source": [
        "<a href=\"https://colab.research.google.com/github/suryoadig12/PACMANN_SKILL100/blob/main/Python%20for%20Software%20Engineering/1.2%20Object%20Oriented%20Programming%20I%3A%20Attribute.ipynb\" target=\"_parent\"><img src=\"https://colab.research.google.com/assets/colab-badge.svg\" alt=\"Open In Colab\"/></a>"
      ]
    },
    {
      "cell_type": "markdown",
      "source": [
        "# **Attribute**"
      ],
      "metadata": {
        "id": "_-t4W60D7x6a"
      }
    },
    {
      "cell_type": "markdown",
      "source": [
        "Secara garis besar, terdapat dua jenis atribut yaitu:\n",
        "\n",
        "*   Data\n",
        "*   Prosedur (Methods)\n",
        "\n",
        "Atribut hanya terikat di kelas - kelas yang dimana atribut tersebut di definisikan."
      ],
      "metadata": {
        "id": "Hkfelj-F73Uf"
      }
    },
    {
      "cell_type": "markdown",
      "source": [
        "**Atribut Data**"
      ],
      "metadata": {
        "id": "L6Q0UgAY8BJM"
      }
    },
    {
      "cell_type": "markdown",
      "source": [
        "\n",
        "\n",
        "*   Anggaplah bahwa data itu adalah suatu objek lain yang digunakan untuk membangun suatu kelas.\n",
        "*   Contoh:\n",
        "\n",
        "  *   Kucing memiliki atribut data berupa nama, ras, umur, dan jenis kelamin.\n",
        "\n",
        "  *   Mahasiswa memiliki atribut data berupa nama, NIM, jurusan, tahun_masuk.\n",
        "  *   dll.\n",
        "\n",
        "\n",
        "*   Untuk membuat sebuah Atribut kita membutuhkan beberapa syntax atau method.\n",
        "\n",
        "\n",
        "\n"
      ],
      "metadata": {
        "id": "ZZQGwmq98FCb"
      }
    },
    {
      "cell_type": "markdown",
      "source": [
        "**__init__**"
      ],
      "metadata": {
        "id": "mY0cppy28pyp"
      }
    },
    {
      "cell_type": "markdown",
      "source": [
        "Untuk melakukan pendefinisian sebuah atribut kita bisa menggunakan syntax `__init__()`."
      ],
      "metadata": {
        "id": "y3IEWbJt8xPP"
      }
    },
    {
      "cell_type": "code",
      "execution_count": null,
      "metadata": {
        "id": "107vXH_k7uKM"
      },
      "outputs": [],
      "source": [
        "def __init__(self, nama_atribut):\n",
        "    <atribut>"
      ]
    },
    {
      "cell_type": "markdown",
      "source": [
        "Contoh:"
      ],
      "metadata": {
        "id": "wZhno_ar83If"
      }
    },
    {
      "cell_type": "code",
      "source": [
        "class Segitiga:\n",
        "    def __init__(self,alas,tinggi,tipe):\n",
        "        self.alas = alas\n",
        "        self.tinggi = tinggi\n",
        "        self.tipe = tipe"
      ],
      "metadata": {
        "id": "vMfU8j17837K"
      },
      "execution_count": null,
      "outputs": []
    },
    {
      "cell_type": "markdown",
      "source": [
        "Penjelasan:\n",
        "\n",
        "\n",
        "\n",
        "*   `__init__` merupakan salah satu **method** pada `class`.\n",
        "\n",
        "*   `__init__` adalah **special method** yang disediakan oleh Python yang digunakan untuk menginisialisasi sebuah atribut data pada `class`.\n",
        "*   Perlu diperhatikan kalau di dalam `__init__` terdapat keyword `self`\n",
        "\n"
      ],
      "metadata": {
        "id": "Ym2o_0mK86Ew"
      }
    },
    {
      "cell_type": "markdown",
      "source": [
        "**self**"
      ],
      "metadata": {
        "id": "uLmZMudP9PLd"
      }
    },
    {
      "cell_type": "code",
      "source": [
        "class Segitiga:\n",
        "    def __init__(self,alas,tinggi,tipe):\n",
        "        self.alas = alas\n",
        "        self.tinggi = tinggi\n",
        "        self.tipe = tipe"
      ],
      "metadata": {
        "id": "F1MXfx4H9SA4"
      },
      "execution_count": null,
      "outputs": []
    },
    {
      "cell_type": "markdown",
      "source": [
        "\n",
        "\n",
        "*   `self` merupakan parameter pada method yang mereferensi ke diri sendiri.\n",
        "*   Yang berarti adalah `self` berguna untuk membedakan nilai suatu objek dengan objek lainnya di dalam kelas yang sama.\n",
        "\n"
      ],
      "metadata": {
        "id": "Xms9P1EZ9TNa"
      }
    },
    {
      "cell_type": "markdown",
      "source": [
        "Kenapa harus memakai `self`?\n",
        "\n",
        "\n",
        "\n",
        "*   Aturan dari Python.\n",
        "*   Jika tidak memakai `self` akan menjadi atribut kelas.\n",
        "\n"
      ],
      "metadata": {
        "id": "i9tPOTiO9ZYn"
      }
    },
    {
      "cell_type": "markdown",
      "source": [
        "**Mini Exercise**"
      ],
      "metadata": {
        "id": "CNdtwFrr9hDg"
      }
    },
    {
      "cell_type": "markdown",
      "source": [
        "Buatlah kelas 'Kucing' yang memiliki attribute sebagai berikut:\n",
        "\n",
        "\n",
        "\n",
        "*   Nama\n",
        "\n",
        "*   Warna\n",
        "*   Usia\n",
        "\n"
      ],
      "metadata": {
        "id": "me1JwLSk9je0"
      }
    },
    {
      "cell_type": "code",
      "source": [
        "# Isi titik - titik di bawah ini\n",
        "\n",
        "class kucing:\n",
        "    def __init__(self, nama, warna, usia):\n",
        "        self.nama = nama\n",
        "        self.warna = warna\n",
        "        self.usia = usia"
      ],
      "metadata": {
        "id": "dcNICULq9it3"
      },
      "execution_count": null,
      "outputs": []
    },
    {
      "cell_type": "markdown",
      "source": [
        "Buatlah kelas 'Mobil' yang memiliki attribute sebagai berikut:\n",
        "\n",
        "\n",
        "*   Merk\n",
        "*   Tipe Mesin\n",
        "\n"
      ],
      "metadata": {
        "id": "13vtt_VN-KjC"
      }
    },
    {
      "cell_type": "code",
      "source": [
        "# Isi titik - titik di bawah ini\n",
        "\n",
        "class mobil:\n",
        "    def __init__(self, merk, tipe_mesin):\n",
        "        self.merk = merk\n",
        "        self.tipe_mesin = tipe_mesin"
      ],
      "metadata": {
        "id": "GzOgUjTf-RaY"
      },
      "execution_count": null,
      "outputs": []
    }
  ]
}