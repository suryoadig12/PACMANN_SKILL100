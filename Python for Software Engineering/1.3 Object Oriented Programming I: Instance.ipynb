{
  "nbformat": 4,
  "nbformat_minor": 0,
  "metadata": {
    "colab": {
      "provenance": [],
      "authorship_tag": "ABX9TyN8UYTSK6Di9WiwlZIs6xHF",
      "include_colab_link": true
    },
    "kernelspec": {
      "name": "python3",
      "display_name": "Python 3"
    },
    "language_info": {
      "name": "python"
    }
  },
  "cells": [
    {
      "cell_type": "markdown",
      "metadata": {
        "id": "view-in-github",
        "colab_type": "text"
      },
      "source": [
        "<a href=\"https://colab.research.google.com/github/suryoadig12/PACMANN_SKILL100/blob/main/Python%20for%20Software%20Engineering/1.3%20Object%20Oriented%20Programming%20I%3A%20Instance.ipynb\" target=\"_parent\"><img src=\"https://colab.research.google.com/assets/colab-badge.svg\" alt=\"Open In Colab\"/></a>"
      ]
    },
    {
      "cell_type": "markdown",
      "source": [
        "# **Instance**"
      ],
      "metadata": {
        "id": "k7PBRavyk6U3"
      }
    },
    {
      "cell_type": "markdown",
      "source": [
        "\n",
        "\n",
        "*   Instance adalah objek yang dimiliki oleh sebuah kelas yang telah dibuat.\n",
        "\n",
        "*   Untuk membuat sebuah instance dari class kita cukup memanggil method `__init__()` pada `class` yang sudah kita buat.\n",
        "\n",
        "*   `__init__()` akan menginisiasi objek kita sesuai dengan prosedur atau urutan yang kita buat di dalam method tersebut.\n",
        "*   Artinya adalah jika di dalam sebuah `class` memiliki instance variable dengan nama `luas` maka setiap instance dari kelas tersebut akan memiliki variable `luas`.\n",
        "\n",
        "\n",
        "*   Kita juga bisa memasukkan sebuah proses di dalam instance.\n",
        "\n"
      ],
      "metadata": {
        "id": "CuSHfW0tlP7T"
      }
    },
    {
      "cell_type": "markdown",
      "source": [
        "Contoh:"
      ],
      "metadata": {
        "id": "MnUUunsnliSB"
      }
    },
    {
      "cell_type": "markdown",
      "source": [
        "![sdlafskd.JPG](data:image/jpeg;base64,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)"
      ],
      "metadata": {
        "id": "p38PfdUnlrj7"
      }
    },
    {
      "cell_type": "markdown",
      "source": [
        "Di dalam python, setiap variabel yang didefinisikan di dalam fungsi pada sebuah kelas (lewat variabel self), maka ia dikatakan instance variable."
      ],
      "metadata": {
        "id": "4z4BAO73lurj"
      }
    },
    {
      "cell_type": "code",
      "execution_count": 1,
      "metadata": {
        "id": "4F1VGleOj3f_"
      },
      "outputs": [],
      "source": [
        "class MyClass:\n",
        "    def __init__(self, nama_barang):\n",
        "        self.nama_barang = nama_barang"
      ]
    },
    {
      "cell_type": "code",
      "source": [
        "class Segitiga:\n",
        "    def __init__(self, alas, tinggi, tipe):\n",
        "        self.alas = alas\n",
        "        self.tinggi = tinggi\n",
        "        self.tipe = tipe\n",
        "        self.luas = 0.5 * alas * tinggi"
      ],
      "metadata": {
        "id": "peIysn1Plydm"
      },
      "execution_count": 2,
      "outputs": []
    },
    {
      "cell_type": "code",
      "source": [
        "instance_segitiga = Segitiga(6, 6, \"Siku - siku\")\n",
        "type(instance_segitiga)"
      ],
      "metadata": {
        "colab": {
          "base_uri": "https://localhost:8080/",
          "height": 104
        },
        "id": "-0Yzq1PvlzAA",
        "outputId": "feeef7ed-bf5a-4773-b0d1-9041b89cec67"
      },
      "execution_count": 6,
      "outputs": [
        {
          "output_type": "execute_result",
          "data": {
            "text/plain": [
              "__main__.Segitiga"
            ],
            "text/html": [
              "<div style=\"max-width:800px; border: 1px solid var(--colab-border-color);\"><style>\n",
              "      pre.function-repr-contents {\n",
              "        overflow-x: auto;\n",
              "        padding: 8px 12px;\n",
              "        max-height: 500px;\n",
              "      }\n",
              "\n",
              "      pre.function-repr-contents.function-repr-contents-collapsed {\n",
              "        cursor: pointer;\n",
              "        max-height: 100px;\n",
              "      }\n",
              "    </style>\n",
              "    <pre style=\"white-space: initial; background:\n",
              "         var(--colab-secondary-surface-color); padding: 8px 12px;\n",
              "         border-bottom: 1px solid var(--colab-border-color);\"><b>Segitiga</b><br/>def __init__(alas, tinggi, tipe)</pre><pre class=\"function-repr-contents function-repr-contents-collapsed\" style=\"\"><a class=\"filepath\" style=\"display:none\" href=\"#\"></a>&lt;no docstring&gt;</pre></div>"
            ]
          },
          "metadata": {},
          "execution_count": 6
        }
      ]
    },
    {
      "cell_type": "code",
      "source": [
        "barang = MyClass(\"Bakso\")\n",
        "type(barang)"
      ],
      "metadata": {
        "colab": {
          "base_uri": "https://localhost:8080/",
          "height": 104
        },
        "id": "DfS8TIYkl170",
        "outputId": "b8724782-377e-4d95-cec3-5191a436f2c5"
      },
      "execution_count": 7,
      "outputs": [
        {
          "output_type": "execute_result",
          "data": {
            "text/plain": [
              "__main__.MyClass"
            ],
            "text/html": [
              "<div style=\"max-width:800px; border: 1px solid var(--colab-border-color);\"><style>\n",
              "      pre.function-repr-contents {\n",
              "        overflow-x: auto;\n",
              "        padding: 8px 12px;\n",
              "        max-height: 500px;\n",
              "      }\n",
              "\n",
              "      pre.function-repr-contents.function-repr-contents-collapsed {\n",
              "        cursor: pointer;\n",
              "        max-height: 100px;\n",
              "      }\n",
              "    </style>\n",
              "    <pre style=\"white-space: initial; background:\n",
              "         var(--colab-secondary-surface-color); padding: 8px 12px;\n",
              "         border-bottom: 1px solid var(--colab-border-color);\"><b>MyClass</b><br/>def __init__(nama_barang)</pre><pre class=\"function-repr-contents function-repr-contents-collapsed\" style=\"\"><a class=\"filepath\" style=\"display:none\" href=\"#\"></a>&lt;no docstring&gt;</pre></div>"
            ]
          },
          "metadata": {},
          "execution_count": 7
        }
      ]
    },
    {
      "cell_type": "markdown",
      "source": [
        "Selain itu, kita juga bisa mengakses sebuah nilai attribute pada sebuah instance `class`. Kita dapat menambahkan `.` diikuti dengan nama attribute pada variable instance tersebut."
      ],
      "metadata": {
        "id": "Y0ZDdDtnmE2I"
      }
    },
    {
      "cell_type": "code",
      "source": [
        "instance_segitiga.alas"
      ],
      "metadata": {
        "colab": {
          "base_uri": "https://localhost:8080/"
        },
        "id": "Zvxl3br6mESz",
        "outputId": "9d95ac99-7963-4311-ed04-2169c8c1071f"
      },
      "execution_count": 5,
      "outputs": [
        {
          "output_type": "execute_result",
          "data": {
            "text/plain": [
              "6"
            ]
          },
          "metadata": {},
          "execution_count": 5
        }
      ]
    },
    {
      "cell_type": "code",
      "source": [
        "instance_segitiga.tipe"
      ],
      "metadata": {
        "colab": {
          "base_uri": "https://localhost:8080/",
          "height": 36
        },
        "id": "9zmfrYB0mrzk",
        "outputId": "c8980956-1f93-4c1b-a15f-f68bf7779dbf"
      },
      "execution_count": 8,
      "outputs": [
        {
          "output_type": "execute_result",
          "data": {
            "text/plain": [
              "'Siku - siku'"
            ],
            "application/vnd.google.colaboratory.intrinsic+json": {
              "type": "string"
            }
          },
          "metadata": {},
          "execution_count": 8
        }
      ]
    },
    {
      "cell_type": "code",
      "source": [
        "barang.nama_barang"
      ],
      "metadata": {
        "colab": {
          "base_uri": "https://localhost:8080/",
          "height": 36
        },
        "id": "WvCWi6N_mtqC",
        "outputId": "96ac2039-4127-45c7-d9cf-0f5a6d19c325"
      },
      "execution_count": 9,
      "outputs": [
        {
          "output_type": "execute_result",
          "data": {
            "text/plain": [
              "'Bakso'"
            ],
            "application/vnd.google.colaboratory.intrinsic+json": {
              "type": "string"
            }
          },
          "metadata": {},
          "execution_count": 9
        }
      ]
    },
    {
      "cell_type": "markdown",
      "source": [
        "**self (lanjutan)**"
      ],
      "metadata": {
        "id": "UtCvm1eamvOQ"
      }
    },
    {
      "cell_type": "markdown",
      "source": [
        "\n",
        "\n",
        "*   Pada materi sebelumnya dijelaskan bahwa `self` adalah parameter yang merujuk ke diri sendiri.\n",
        "*   Maksudnya adalah `self` akan merujuk pada suatu nilai yang di-assign ke suatu instance/objek tertentu.\n",
        "\n"
      ],
      "metadata": {
        "id": "UGtnh1Azmwq_"
      }
    },
    {
      "cell_type": "code",
      "source": [
        "class Segitiga:\n",
        "    def __init__(self, alas, tinggi, tipe):\n",
        "        self.alas = alas\n",
        "        self.tinggi = tinggi\n",
        "        self.tipe = tipe\n",
        "        self.luas = 0.5 * alas * tinggi"
      ],
      "metadata": {
        "id": "_79QCKhNm3r3"
      },
      "execution_count": 10,
      "outputs": []
    },
    {
      "cell_type": "markdown",
      "source": [
        "* Pertama akan dibuat instance `segitiga_1` yang memiliki `alas = 2`, `tinggi = 3`, dan `tipe = 'Sama kaki'`"
      ],
      "metadata": {
        "id": "ZscZAcDYm6Ik"
      }
    },
    {
      "cell_type": "code",
      "source": [
        "segitiga_1 = Segitiga(alas=2, tinggi=3, tipe='Sama kaki')"
      ],
      "metadata": {
        "id": "lT_wf1LXnFkE"
      },
      "execution_count": 11,
      "outputs": []
    },
    {
      "cell_type": "markdown",
      "source": [
        "* Kedua dibuat instance `segitiga_2` yang memiliki `alas = 4`, `tinggi = 4`, dan `tipe = 'Siku - siku'`"
      ],
      "metadata": {
        "id": "A5a4PTzWnIda"
      }
    },
    {
      "cell_type": "code",
      "source": [
        "segitiga_2 = Segitiga(alas=4, tinggi=4, tipe='Siku - siku')"
      ],
      "metadata": {
        "id": "dvOpCajdnQCe"
      },
      "execution_count": 12,
      "outputs": []
    },
    {
      "cell_type": "markdown",
      "source": [
        "Kemudian, kita coba panggil attribute `alas` dari kedua Instance tersebut."
      ],
      "metadata": {
        "id": "Abqb5m80nWjF"
      }
    },
    {
      "cell_type": "code",
      "source": [
        "print(segitiga_1.alas)\n",
        "print(segitiga_2.alas)"
      ],
      "metadata": {
        "colab": {
          "base_uri": "https://localhost:8080/"
        },
        "id": "G855KouQnVzR",
        "outputId": "48c2dfc8-20db-4c1a-f456-78fa9b97adbb"
      },
      "execution_count": 13,
      "outputs": [
        {
          "output_type": "stream",
          "name": "stdout",
          "text": [
            "2\n",
            "4\n"
          ]
        }
      ]
    },
    {
      "cell_type": "markdown",
      "source": [
        "Nilainya berbeda, karena:\n",
        "\n",
        "* Pada `segitiga_1`, `self` merujuk pada instance `segitiga_1`.\n",
        "* Pada `segitiga_2`, `self` merujuk pada instance `segitiga_2`."
      ],
      "metadata": {
        "id": "QiotMMSmnbA1"
      }
    },
    {
      "cell_type": "markdown",
      "source": [
        "**Mini Exercise**"
      ],
      "metadata": {
        "id": "smzT1WxcnlRn"
      }
    },
    {
      "cell_type": "markdown",
      "source": [
        "* Buatlah kelas `Persegi Panjang` yang terdapat attribut panjang dan lebar.\n",
        "* Lalu buatlah instance dengan nama `persegi_panjang_1` dengan nilai panjang 5 dan lebar 8. Setelah itu, coba panggil attribute `panjang` dari instance tersebut.\n",
        "* Selain coba buatlah lagi instance dengan nama `persegi_panjang_2` dengan nilai panjang 15 dan lebar 20. Setelah itu, coba panggil attribute `panjang` dari instance tersebut"
      ],
      "metadata": {
        "id": "Bs1Gayqxnm2e"
      }
    },
    {
      "cell_type": "code",
      "source": [
        "# Buatlah class Persegi Panjang\n",
        "# Isi titik titik di bawah ini\n",
        "\n",
        "class persegi_panjang:\n",
        "    def __init__(self, panjang, lebar):\n",
        "        self.panjang = panjang\n",
        "        self.lebar = lebar"
      ],
      "metadata": {
        "id": "K_3K6D0on1v5"
      },
      "execution_count": 14,
      "outputs": []
    },
    {
      "cell_type": "code",
      "source": [
        "# Buatlah instance persegi_panjang_1\n",
        "# Dan panggil attribute panjang\n",
        "# Isi titik - titik di bawah ini\n",
        "\n",
        "persegi_panjang_1 = persegi_panjang(panjang = 5, lebar = 8)\n",
        "print(persegi_panjang_1.panjang)"
      ],
      "metadata": {
        "colab": {
          "base_uri": "https://localhost:8080/"
        },
        "id": "t8qlt2Yoobic",
        "outputId": "f9096837-02dc-4255-c8cd-f3199d2ba25b"
      },
      "execution_count": 15,
      "outputs": [
        {
          "output_type": "stream",
          "name": "stdout",
          "text": [
            "5\n"
          ]
        }
      ]
    },
    {
      "cell_type": "code",
      "source": [
        "# Buatlah instance persegi_panjang_2\n",
        "# Dan panggil attribute panjang\n",
        "# Isi titik - titik di bawah ini\n",
        "\n",
        "persegi_panjang_2 = persegi_panjang(panjang = 15, lebar = 20)\n",
        "print(persegi_panjang_2.panjang)"
      ],
      "metadata": {
        "colab": {
          "base_uri": "https://localhost:8080/"
        },
        "id": "TnWRLKxBoxbj",
        "outputId": "b2fc7a43-e927-48fe-dd22-9fdfe095fd87"
      },
      "execution_count": 16,
      "outputs": [
        {
          "output_type": "stream",
          "name": "stdout",
          "text": [
            "15\n"
          ]
        }
      ]
    }
  ]
}