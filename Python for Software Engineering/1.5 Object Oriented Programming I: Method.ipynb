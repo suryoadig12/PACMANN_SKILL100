{
  "nbformat": 4,
  "nbformat_minor": 0,
  "metadata": {
    "colab": {
      "provenance": [],
      "authorship_tag": "ABX9TyP4PpBd+tGsnbtUALUkP5gV",
      "include_colab_link": true
    },
    "kernelspec": {
      "name": "python3",
      "display_name": "Python 3"
    },
    "language_info": {
      "name": "python"
    }
  },
  "cells": [
    {
      "cell_type": "markdown",
      "metadata": {
        "id": "view-in-github",
        "colab_type": "text"
      },
      "source": [
        "<a href=\"https://colab.research.google.com/github/suryoadig12/PACMANN_SKILL100/blob/main/Python%20for%20Software%20Engineering/1.5%20Object%20Oriented%20Programming%20I%3A%20Method.ipynb\" target=\"_parent\"><img src=\"https://colab.research.google.com/assets/colab-badge.svg\" alt=\"Open In Colab\"/></a>"
      ]
    },
    {
      "cell_type": "markdown",
      "source": [
        "# **Method**"
      ],
      "metadata": {
        "id": "Vi-biGdfxNWR"
      }
    },
    {
      "cell_type": "markdown",
      "source": [
        "\n",
        "\n",
        "*   Method merupakan fungsi yang melekat pada sebuah objek atau instance kelas.\n",
        "\n",
        "*   Fungsi yang hanya dapat bekerja di dalam kelas.\n",
        "*   Melakukan manipulasi atau proses pada atribute data.\n",
        "\n",
        "\n",
        "*   Untuk cara pembuatannya masih sama ketika kita membuat fungsi di Python. Perbedaan nya hanya kita perlu menambahkan keyword `self`.\n",
        "\n"
      ],
      "metadata": {
        "id": "5b1FBw5uxQAB"
      }
    },
    {
      "cell_type": "code",
      "execution_count": null,
      "metadata": {
        "id": "dF-39XeyxIaf"
      },
      "outputs": [],
      "source": [
        "class <nama kelas>:\n",
        "    def <nama method>(<parameter method>):\n",
        "        <proses>"
      ]
    },
    {
      "cell_type": "code",
      "source": [
        "class Lingkaran:\n",
        "    PHI = 3.14\n",
        "    def __init__(self, radius):\n",
        "        self.radius = radius\n",
        "        self.diameter = 2*radius\n",
        "\n",
        "    def keliling(self):\n",
        "        keliling = self.PHI * self.diameter\n",
        "        return keliling\n",
        "\n",
        "    def luas(self):\n",
        "        luas = self.PHI * self.radius ** 2\n",
        "        return luas"
      ],
      "metadata": {
        "id": "eIE6FwgOxbun"
      },
      "execution_count": 1,
      "outputs": []
    },
    {
      "cell_type": "markdown",
      "source": [
        "Pada contoh code diatas kita membuat `method` dengan nama `keliling` dan `luas`."
      ],
      "metadata": {
        "id": "FRsknxPlxiZh"
      }
    },
    {
      "cell_type": "markdown",
      "source": [
        "**Cara Menggunakan Method**"
      ],
      "metadata": {
        "id": "0i7T3DYPxl3y"
      }
    },
    {
      "cell_type": "markdown",
      "source": [
        "\n",
        "\n",
        "*   Untuk cara menggunakan atau mengakses sebuah method sama seperti di instance/object ketika mengakses atribut.\n",
        "*   Yaitu kita menggunakan operator `.`\n"
      ],
      "metadata": {
        "id": "v0rWIo4Qxnt3"
      }
    },
    {
      "cell_type": "markdown",
      "source": [
        "Langkah awalnya kita perlu membuat object/instance terlebih dahulu terhadap kelas yang sudah kita buat."
      ],
      "metadata": {
        "id": "dRaYOj48xvko"
      }
    },
    {
      "cell_type": "code",
      "source": [
        "lingkaran_1 = Lingkaran(7)"
      ],
      "metadata": {
        "id": "irse7vi5x6oA"
      },
      "execution_count": 2,
      "outputs": []
    },
    {
      "cell_type": "code",
      "source": [
        "# Menggunakan method untuk mencari luas lingkaran\n",
        "\n",
        "print(f\"Luasnya adalah {lingkaran_1.luas()}\")"
      ],
      "metadata": {
        "colab": {
          "base_uri": "https://localhost:8080/"
        },
        "id": "s9lcGzuqx8e6",
        "outputId": "4a9bf130-96d5-488d-dac0-2f239a4b83a8"
      },
      "execution_count": 3,
      "outputs": [
        {
          "output_type": "stream",
          "name": "stdout",
          "text": [
            "Luasnya adalah 153.86\n"
          ]
        }
      ]
    },
    {
      "cell_type": "code",
      "source": [
        "# Menggunakan method untuk mencari keliling lingkaran\n",
        "\n",
        "print(f\"Kelilingnya adalah {lingkaran_1.keliling()}\")"
      ],
      "metadata": {
        "colab": {
          "base_uri": "https://localhost:8080/"
        },
        "id": "VKXZIg-Ex_dF",
        "outputId": "79be864b-d75a-49bd-ab45-d3608ba92c5b"
      },
      "execution_count": 4,
      "outputs": [
        {
          "output_type": "stream",
          "name": "stdout",
          "text": [
            "Kelilingnya adalah 43.96\n"
          ]
        }
      ]
    },
    {
      "cell_type": "markdown",
      "source": [
        "Selain itu kita juga bisa mengimplementasikan apa saja yang sudah kita pelajari dari materi - materi sebelumnya, seperti:\n",
        "\n",
        "\n",
        "\n",
        "*   Composite Data Structure\n",
        "\n",
        "*   Looping\n",
        "*   Branching\n",
        "\n",
        "\n",
        "*   dll.\n",
        "\n"
      ],
      "metadata": {
        "id": "StC3s8XCyDFp"
      }
    },
    {
      "cell_type": "code",
      "source": [
        "class List_Angka:\n",
        "    def __init__(self, number_list):\n",
        "        self.number_list = number_list\n",
        "\n",
        "    def filter_even_number(self):\n",
        "        even = []\n",
        "        for num in self.number_list:\n",
        "            if num % 2 == 0:\n",
        "                even.append(num)\n",
        "        return even"
      ],
      "metadata": {
        "id": "hSdYSiDMyLCI"
      },
      "execution_count": 5,
      "outputs": []
    },
    {
      "cell_type": "code",
      "source": [
        "genap = List_Angka([1,2,3,4,5])"
      ],
      "metadata": {
        "id": "PkK5HVQUyMzH"
      },
      "execution_count": 6,
      "outputs": []
    },
    {
      "cell_type": "code",
      "source": [
        "genap.filter_even_number()"
      ],
      "metadata": {
        "colab": {
          "base_uri": "https://localhost:8080/"
        },
        "id": "wKW5DXAtyObY",
        "outputId": "348fe70b-f4f9-4f9c-9c76-8bfb9671d54b"
      },
      "execution_count": 7,
      "outputs": [
        {
          "output_type": "execute_result",
          "data": {
            "text/plain": [
              "[2, 4]"
            ]
          },
          "metadata": {},
          "execution_count": 7
        }
      ]
    },
    {
      "cell_type": "markdown",
      "source": [
        "**Mini Exercise**"
      ],
      "metadata": {
        "id": "w4Bgp9FEyd4G"
      }
    },
    {
      "cell_type": "markdown",
      "source": [
        "\n",
        "\n",
        "*   Buatlah `class` Persegi Panjang yang memiliki attribute `panjang` dan `lebar`.\n",
        "\n",
        "*   Di dalam class tersebut buatlah dua method yang masing-masing bernama `luas` dan `keliling` untuk mengitung luas dan keliling segiempat dan me-`return` hasil dari perhitungannya.\n",
        "*   Buatlah instance dari class yang sudah dibuat dengan `panjang = 4` dan `lebar = 3`\n",
        "\n",
        "\n",
        "*   Print masing-masing nilai dari luas dan keliling!\n",
        "\n"
      ],
      "metadata": {
        "id": "G3Cq7lUiyfqu"
      }
    },
    {
      "cell_type": "code",
      "source": [
        "# Buatlah class persegi panjang sesuai dengan ketentuan soal\n",
        "# Isi titik titik di bawah ini\n",
        "\n",
        "class persegi_panjang:\n",
        "    def __init__(self, panjang, lebar):\n",
        "        self.panjang = panjang\n",
        "        self.lebar = lebar\n",
        "\n",
        "# Buatlah dua method bernama luas dan keliling\n",
        "# Isi titik titik di bawah ini\n",
        "\n",
        "    def luas_persegi_panjang(self):\n",
        "        luas = self.panjang * self.lebar\n",
        "        return luas\n",
        "\n",
        "    def keliling_persegi_panjang(self):\n",
        "        keliling = 2*(self.panjang + self.lebar)\n",
        "        return keliling"
      ],
      "metadata": {
        "id": "ct2xUMohywU4"
      },
      "execution_count": 8,
      "outputs": []
    },
    {
      "cell_type": "code",
      "source": [
        "# Buatlah instance dari class yang sudah dibuat sesuai dengan ketentuan soal\n",
        "# Isi titik - titik di bawah ini\n",
        "\n",
        "persegi_panjang_1 = persegi_panjang(4, 3)\n",
        "print(f\"Luas persegi panjang adalah {persegi_panjang_1.luas_persegi_panjang()}\")\n",
        "print(f\"Keliling persegi panjang adalah {persegi_panjang_1.keliling_persegi_panjang()}\")"
      ],
      "metadata": {
        "colab": {
          "base_uri": "https://localhost:8080/"
        },
        "id": "VscpHNJe0-1a",
        "outputId": "1f2ca0cc-65c2-492d-ca4d-4b633331b8e7"
      },
      "execution_count": 13,
      "outputs": [
        {
          "output_type": "stream",
          "name": "stdout",
          "text": [
            "Luas persegi panjang adalah 12\n",
            "Keliling persegi panjang adalah 14\n"
          ]
        }
      ]
    },
    {
      "cell_type": "markdown",
      "source": [
        "**Special Method**"
      ],
      "metadata": {
        "id": "vffTr71p2mWd"
      }
    },
    {
      "cell_type": "markdown",
      "source": [
        "\n",
        "\n",
        "*   Special methods biasanya digunakan untuk mempermudah integrasi antara class dengan fungsi dasar Python yang lain.\n",
        "\n",
        "*   Special Method selalu didahulu dan diikut oleh garis bawah ganda `(__)` `(dunder)`\n",
        "*   Cara kerja dari Special Method ini itu tergantung dari Special Method yang kita pakai.\n",
        "\n",
        "\n",
        "*   Untuk Special Method di Python itu ada banyak, jika tertarik bisa baca link berikut: https://docs.python.org/3/reference/datamodel.html#special-method-names\n",
        "\n"
      ],
      "metadata": {
        "id": "jhUYvOW12oc5"
      }
    },
    {
      "cell_type": "markdown",
      "source": [
        "Berikut merupakan special method yang sering digunakan sebagai operasi aritmatika.\n",
        "\n",
        "![asldfjlaer.JPG](data:image/jpeg;base64,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)"
      ],
      "metadata": {
        "id": "xJ2gIhs-2zgv"
      }
    },
    {
      "cell_type": "markdown",
      "source": [
        "Berikut merupakan contoh penggunaan salah satu **special method**` __add__()`:"
      ],
      "metadata": {
        "id": "RFHPmRZT26rd"
      }
    },
    {
      "cell_type": "code",
      "source": [
        "class Angka:\n",
        "    def __init__(self, angka):\n",
        "        self.angka = angka\n",
        "\n",
        "    def __add__(self, objek):\n",
        "        return self.angka + objek.angka"
      ],
      "metadata": {
        "id": "CDKOwAmq29n9"
      },
      "execution_count": 14,
      "outputs": []
    },
    {
      "cell_type": "markdown",
      "source": [
        "* Melakukan operasi penjumlahan menggunakan `+`\n",
        "* Parameter input self dan other, other merupakan instace lain dari class yang sama.\n",
        "* Mengembalikan instance baru hasil penjumlahan."
      ],
      "metadata": {
        "id": "EeBZTvGM3Dxw"
      }
    },
    {
      "cell_type": "code",
      "source": [
        "angka_1 = Angka(10)\n",
        "angka_2 = Angka(20)\n",
        "\n",
        "print(angka_1 + angka_2)\n",
        "print(angka_1.__add__(angka_2))"
      ],
      "metadata": {
        "colab": {
          "base_uri": "https://localhost:8080/"
        },
        "id": "xjjxoQjJ3Lfo",
        "outputId": "f3e7d195-225d-453e-b8ac-dea355e751c0"
      },
      "execution_count": 15,
      "outputs": [
        {
          "output_type": "stream",
          "name": "stdout",
          "text": [
            "30\n",
            "30\n"
          ]
        }
      ]
    },
    {
      "cell_type": "markdown",
      "source": [
        "**Recap**"
      ],
      "metadata": {
        "id": "SXEI1iCT3K17"
      }
    },
    {
      "cell_type": "markdown",
      "source": [
        "![slajflsdf.JPG](data:image/jpeg;base64,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)"
      ],
      "metadata": {
        "id": "nNtbGoBz3PIk"
      }
    },
    {
      "cell_type": "markdown",
      "source": [
        "Sebuah objek pada dasarnya adalah anggota suatu **class**. Mempertimbangkan contoh class di atas, setiap siswa adalah objek dari kelas Siswa. Sebagai contoh Andi adalah objek dari kelas Siswa.\n",
        "\n",
        "* Class merupakan package/paket untuk menyimpan semua atribut, variabel, dan fungsi yang telah dibuat.\n",
        "* Atribut merupakan data/objek yang dimiliki oleh **class** untuk digunakan ataupun diolah oleh fungsi yang dimiliki class.\n",
        "* Method merupakan fungsi yang mengatur perilaku/perintah interaksi antar objek yang telah dibuat."
      ],
      "metadata": {
        "id": "mnqgqEP53UjN"
      }
    }
  ]
}