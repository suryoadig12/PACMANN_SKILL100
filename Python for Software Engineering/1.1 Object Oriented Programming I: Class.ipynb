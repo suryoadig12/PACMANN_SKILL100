{
  "nbformat": 4,
  "nbformat_minor": 0,
  "metadata": {
    "colab": {
      "provenance": [],
      "authorship_tag": "ABX9TyNPQNrrzMX+5xofQOwxk2wU",
      "include_colab_link": true
    },
    "kernelspec": {
      "name": "python3",
      "display_name": "Python 3"
    },
    "language_info": {
      "name": "python"
    }
  },
  "cells": [
    {
      "cell_type": "markdown",
      "metadata": {
        "id": "view-in-github",
        "colab_type": "text"
      },
      "source": [
        "<a href=\"https://colab.research.google.com/github/suryoadig12/PACMANN_SKILL100/blob/main/Python%20for%20Software%20Engineering/1.1%20Object%20Oriented%20Programming%20I%3A%20Class.ipynb\" target=\"_parent\"><img src=\"https://colab.research.google.com/assets/colab-badge.svg\" alt=\"Open In Colab\"/></a>"
      ]
    },
    {
      "cell_type": "markdown",
      "source": [
        "# **Class**"
      ],
      "metadata": {
        "id": "PaFGzM9C6H3P"
      }
    },
    {
      "cell_type": "markdown",
      "source": [
        "\n",
        "\n",
        "*   `class` di dalam Python adalah pondasi utama dalam OOP.\n",
        "\n",
        "*   Dapat dibilang `class` merupakan **blueprint** dari objek di dalam Python.\n",
        "*   Bentuk paling sederhana untuk pendefinisian class adalah:\n"
      ],
      "metadata": {
        "id": "oZca_rY_6KbN"
      }
    },
    {
      "cell_type": "code",
      "execution_count": null,
      "metadata": {
        "id": "KBuayU706AXJ"
      },
      "outputs": [],
      "source": [
        "class <nama_class>\n",
        "    <proses>"
      ]
    },
    {
      "cell_type": "code",
      "source": [
        "class MyClass:\n",
        "    pass"
      ],
      "metadata": {
        "id": "KbzQJsm96dL_"
      },
      "execution_count": null,
      "outputs": []
    },
    {
      "cell_type": "markdown",
      "source": [
        "\n",
        "\n",
        "*   Pada kode diatas diberikan kelas kosong yang bernama `MyClass`\n",
        "\n",
        "*   Perlu diperhatikan bahwa penamaan kelas memakai huruf **kapital**\n",
        "*   Hal ini akan berguna untuk membedakan antara fungsi dan kelas.\n",
        "\n"
      ],
      "metadata": {
        "id": "6sGQ2U0G6edK"
      }
    },
    {
      "cell_type": "markdown",
      "source": [
        "**Mini Exercise**"
      ],
      "metadata": {
        "id": "Mst-n7SL6noZ"
      }
    },
    {
      "cell_type": "markdown",
      "source": [
        "\n",
        "\n",
        "*   Mari kita coba membuat **class** kosong dengan nama **Kucing**.\n"
      ],
      "metadata": {
        "id": "DOdESGy16uH2"
      }
    },
    {
      "cell_type": "code",
      "source": [
        "# Isilah titik - titik di bawah ini\n",
        "\n",
        "class kucing:\n",
        "    pass"
      ],
      "metadata": {
        "id": "ui0pAPHw6zmy"
      },
      "execution_count": 1,
      "outputs": []
    },
    {
      "cell_type": "markdown",
      "source": [
        "\n",
        "\n",
        "*   Mari kita coba membuat **class** kosong dengan nama **Segitiga**.\n"
      ],
      "metadata": {
        "id": "VN1nn67-65kh"
      }
    },
    {
      "cell_type": "code",
      "source": [
        "# Isilah titik - titik di bawah ini\n",
        "\n",
        "class segitiga:\n",
        "    pass"
      ],
      "metadata": {
        "id": "gB-pze9d7BIn"
      },
      "execution_count": 2,
      "outputs": []
    }
  ]
}